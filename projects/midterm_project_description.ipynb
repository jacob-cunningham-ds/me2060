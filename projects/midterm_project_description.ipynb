{
 "cells": [
  {
   "cell_type": "markdown",
   "id": "237da08b-60cd-41d6-b8f5-30f9786671b6",
   "metadata": {},
   "source": [
    "---\n",
    "title: Acoustic Propagation\n",
    "venue: Modules\n",
    "subtitle: Exact Solution of a Linear PDE\n",
    "downloads:\n",
    "  - file: midterm_project_description.ipynb\n",
    "    title: midterm_project_description.ipynb\n",
    "  - file: ../assets/tam_webb_1993_drp_fd_schemes.pdf\n",
    "    title: tam_webb_1993_drp_df_schemes.pdf\n",
    "---"
   ]
  },
  {
   "cell_type": "markdown",
   "id": "77461879",
   "metadata": {},
   "source": [
    "<b>You must submit your work as a Jupyterlab Notebook <b>"
   ]
  },
  {
   "cell_type": "markdown",
   "id": "a7a7299d",
   "metadata": {},
   "source": [
    "The evolution of acoustic pulse with wave speed $c=1$ inside a  fluid  with linear velocity $M$ on a 2D plane with cylindrical coordinates $(r,\\theta)$ can be obtained from the potential function $\\phi(r,\\theta,t)$, which is governed by the wave equation as follows:\n",
    "\n",
    "\\begin{equation}\n",
    "\\frac{\\partial^2 \\phi}{\\partial \\phi^2 }=c^2\\cdot \\Delta_{r,\\theta,M} \\phi, \\ t>0, \\ (r,\\theta)\\in (0,\\infty)\\times(0,2\\pi) \n",
    "\\end{equation}\n",
    "where $\\Delta_{r,\\theta}$ is the Laplace operator in cylindrical coordinates in the moving frame of the fluid, and the initial conditions at $t=0$. which for a circular pulse are assumed to be radial symmetric, i.e. independent of $\\theta$, are given as\n",
    "\n",
    "\\begin{equation}\n",
    "\\ \\phi(r,0)=0,\\ \\  \\frac{\\partial \\phi}{\\partial t}(r,0)=\\phi'_0(r)\n",
    "\\end{equation}\n",
    "\n",
    "The pressure distribution $p(r,\\theta,t)$ can then be found as the time derivative of the potential function, i.e. $p=\\phi'$. The relation between cylindrical coordinates $(r,\\theta)$ and Cartesian coordinates $(x,y)$ is given by\n",
    "\\begin{equation}\n",
    " x=r\\cos \\theta, \\ \\ y=r\\sin\\theta\n",
    "\\end{equation}"
   ]
  },
  {
   "cell_type": "markdown",
   "id": "cd18dc89",
   "metadata": {},
   "source": [
    "The above equation can be solved via cylindrical Hankel transform (a variant of the 2D Fourier transform) of the initial distribution $\\phi'_0$. The solution for the pressure at any time $t>0$ and spatial coordinates $(r,\\theta)$ can be written as\n",
    "\n",
    "\n",
    "\\begin{equation}\n",
    " p(r,\\theta,t) =  \\int_{0}^{\\infty} \\mathcal{H}\\{\\phi'_0\\}(\\omega) \\cdot J_0\\left( \\omega \\sqrt{r^2+(M\\cdot t)^2-2r\\cdot (M\\cdot t) \\cdot \\cos(\\theta)}\\right)\\cdot \\omega \\cos(\\omega t) \\  d\\omega \\ \\ \\ \\ \\ \\ \\ \\ \\   (1)\n",
    "\\end{equation}\n",
    "\n",
    "where the function\n",
    "\\begin{equation}\n",
    "\\mathcal{H}\\{\\phi'_0\\}(\\omega)=\\int_{0}^{\\infty} r'J_0(\\omega r')\\phi'_0(r')\\  dr'\n",
    "\\end{equation}\n",
    "is the zero order Hankel transform of the initial pulse $\\phi'_0$.   $J_0$ is the 0-th order Bessel function of the first kind. It can be evaluated in Julia by using the 'SpecialFunctions' package and calling the function 'besselj(0, .)' In the following, the expression for $\\mathcal{H}\\{\\phi'_0\\}$ will be provided, and you will <b>not</b> need to evaluate it explicitly."
   ]
  },
  {
   "cell_type": "markdown",
   "id": "5dc7c85f",
   "metadata": {},
   "source": [
    "<b> Let the initial distribution be a Gaussian pulse with amplitude $A$ and half-width $w$ centered around the origin:</b>\n",
    "\\begin{equation}\n",
    "\\phi'_0(r)=A e^{-b\\cdot r^2},\\ \\ b=\\ln(2)\\cdot w^{-2}\n",
    "\\end{equation}\n",
    "\n",
    "Then its Hankel transform is given by\n",
    "\n",
    "\\begin{equation}\n",
    "\\mathcal{H}\\{\\phi'_0\\}(\\omega)=\\frac{A}{2b}e^{-\\omega ^2/4b} \\ \\ \\ \\ \\ (2)\n",
    "\\end{equation}\n",
    "\n",
    "This can be substituted into the integral expression (1) to evaluate the exact pressure distribution at a later time $t>0$ and at any position $(r,\\theta)$."
   ]
  },
  {
   "cell_type": "markdown",
   "id": "ee699584",
   "metadata": {},
   "source": [
    "# Your Tasks:"
   ]
  },
  {
   "cell_type": "markdown",
   "id": "ab5a52a3",
   "metadata": {},
   "source": [
    "<b> (A) </b> Implement a function in Julia that calculates the pressure field at time $t>0$ at cylindrical coordinates $(r,\\theta)$ with the help of expressions (1) and (2) above. You may use the QuadGK package for numerical integration. Let the upper integration boundary of the solution formula be a variable argument $\\Omega>0$ which is supposed to approach infinitiy to approximate the improper integral (1). For example, your function should be of the form 'pulse(t, r, theta, Omega)' that returns the value of the approximation to solution (1)."
   ]
  },
  {
   "cell_type": "markdown",
   "id": "4e294bbc",
   "metadata": {},
   "source": [
    "<b>(B)</b> Let the amplitude of the pulse be $A=0.001$, and its half-width be $w=3.0$.  Test your function at $t=1,r=1,\\theta=0$ and different upper integration boundaries $\\Omega>0$. Try to find the smallest value of $\\Omega$ such that the computed value of your function does not change by more than $0.01\\%$ by changing from $\\Omega$ to $2\\Omega$. Compare this value with the exact value at $\\Omega=\\infty$, which can be achieved by using the argument $Inf$ as upper boundary in 'quadgk'. (Don't worry about the exact value of this upper bound as long as your estimate is in the right ballpark figure.)"
   ]
  },
  {
   "cell_type": "markdown",
   "id": "630a8e11",
   "metadata": {},
   "source": [
    "<b>(C)</b> Test your function at $t=1,r=1000,\\theta=0$ and $\\Omega=\\infty$ in two different  ways: First, set the relative tolerance argument (rtol) in  'quadgk' to 1e-7. Next,  set the absolute tolerance argument (atol) in  'quadgk' to 1e-7. Try to evaluate your function under these two different settings. What can you observe, and what is the explanation for this behavior? "
   ]
  },
  {
   "cell_type": "markdown",
   "id": "946e72d3",
   "metadata": {},
   "source": [
    "<b>(D)</b> Now evaluate your function at two different times $t_1=500\\Delta t, t_2=1150\\Delta t$, where $\\Delta t =0.0569$. Plot the pressure profile along the $x$ axis from $0$ to $100$, i.e. at $\\theta=0,r\\in(0,100)$. Compare your results with Fig. 11 in this [article](https://doi.org/10.1006/jcph.1993.1142). A copy is available on Canvas site as well. Digitize the data from the publication and plot your results alongside with the digitized data. Compare and comment on the values of the peaks and troughs as well as their locations and widths from your result and the article figure. "
   ]
  },
  {
   "cell_type": "markdown",
   "id": "ef71e4b7",
   "metadata": {},
   "source": [
    "<b>(E)</b> Compared to finite-difference methods such as the one described in the article above, what advantages and disadvantages does Expression (1) have for computing the exact solution to the PDE? Please address points such as numerical errors, computational effort, and boundary conditions."
   ]
  },
  {
   "cell_type": "markdown",
   "id": "027572f2",
   "metadata": {},
   "source": [
    "<b>(F) Method Of Images: </b> Now assume the fluid to be at rest, i.e. $M=0$. Place two Gaussian pulses with the same magnitude, but <b> opposite</b>  signs at two locations symmetric to the $y$ axis, i.e. at $(x_s,0), \\  (-x_s,0)$ in Cartesian coordinates or  $(x_s,0), \\  (x_s,\\pi)$ in cylindrical coordinates. What are the values for the pressure field and its gradient on the $y$ axis at all times, and what physical conditions would this represent? Hint: Consider the symmetry of the problem without having to make any explicit calculations. "
   ]
  },
  {
   "cell_type": "markdown",
   "id": "1ad07038",
   "metadata": {},
   "source": [
    "<b> (G) </b> The exact solution for the pressure field of the configuration in the previous part is given by\n",
    "\\begin{equation}\n",
    " p(r,\\theta,t) =  \\int_{0}^{\\infty} \\mathcal{H}\\{\\phi'_0\\}(\\omega) \\left(  J_0\\left( \\omega \\sqrt{r^2+ x_s^2-2r\\cdot x_s \\cdot \\cos(\\theta)}  \\right) -  J_0\\left( \\omega \\sqrt{r^2+ x_s^2+2r\\cdot x_s  \\cos(\\theta)}  \\right) \\right)\\cdot \\omega \\cos(\\omega t)   d\\omega \\ \\ \\ \\ \\ \\ \\ \\ \\   (3)\n",
    "\\end{equation}\n",
    "where $\\mathcal{H}\\{\\phi'_0\\}(\\omega)$ is given by expression (2). For $x_s=1.0$, implement a function in julia that evaluates $p$ at all times $t>0$ and locations $(r,\\theta)$. Let the pulse amplitude be $A=1.0$ and inverse pulse width  be $b=2$. Verify that your function computes the correct result on the $y$ axis as determined in the previous part."
   ]
  },
  {
   "cell_type": "markdown",
   "id": "c5d0d911",
   "metadata": {},
   "source": [
    "<b> (H) </b> For the same parameters as in the previous part, create an animation of the pressure field on the $x$ axis ranging from $0$ to $5$ for times $0<t<7$. At what time does the original pulse hit the $y$ axis, and at what time does it return to the location $(x_s,0)$?"
   ]
  },
  {
   "cell_type": "markdown",
   "id": "1050c2f1",
   "metadata": {},
   "source": [
    "<b> (I) Graduate Students only: </b>  Generate a gif-animation of the pressure field from $t=0$ to $t=8$ on the domain $(x,y) \\in (\\epsilon, 3.4)\\times (-2.2,2.2)$, where $\\epsilon=0.001$. Use 65 equidistant points to resolve the $x$ and $y$ dimensions, and 33 equidistant time steps."
   ]
  },
  {
   "cell_type": "markdown",
   "id": "98c06316-e5ed-4b9c-ab2f-b74986855832",
   "metadata": {},
   "source": [
    "<b> (J) Graduate Students only: </b>  Create a multi-threaded variant of your function on Julia, and generate a high-resolution gif-animation of the pressure field from $t=0$ to $t=8$ on the domain $(x,y) \\in (\\epsilon, 3.4)\\times (-2.2,2.2)$, where $\\epsilon=0.001$. Use 129 equidistant points to resolve the $x$ and $y$ dimensions, and 81 equidistant time steps. You can either use your own computer or  the computing resources on the cluster. The recommended number of cores and threads for this task is between 8 and 16. You should <b> not </b> use your single-thread function for this task as that would be too computationally expensive."
   ]
  },
  {
   "cell_type": "code",
   "execution_count": null,
   "id": "1303f8c9",
   "metadata": {},
   "outputs": [],
   "source": []
  }
 ],
 "metadata": {
  "kernelspec": {
   "display_name": "Julia 1.10.8",
   "language": "julia",
   "name": "julia-1.10"
  },
  "language_info": {
   "file_extension": ".jl",
   "mimetype": "application/julia",
   "name": "julia",
   "version": "1.10.8"
  }
 },
 "nbformat": 4,
 "nbformat_minor": 5
}
