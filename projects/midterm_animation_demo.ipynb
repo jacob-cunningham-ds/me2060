{
 "cells": [
  {
   "cell_type": "markdown",
   "id": "77461879",
   "metadata": {},
   "source": [
    "# 2D Contour animation with julia"
   ]
  },
  {
   "cell_type": "markdown",
   "id": "5dc7c85f",
   "metadata": {},
   "source": [
    "<b> Example: </b> Movement of a pulse from right to left"
   ]
  },
  {
   "cell_type": "code",
   "execution_count": 9,
   "id": "6f037c89",
   "metadata": {},
   "outputs": [
    {
     "name": "stdout",
     "output_type": "stream",
     "text": [
      "11"
     ]
    },
    {
     "data": {
      "text/plain": [
       "11-element Vector{String}:\n",
       " \"000001.png\"\n",
       " \"000002.png\"\n",
       " \"000003.png\"\n",
       " \"000004.png\"\n",
       " \"000005.png\"\n",
       " \"000006.png\"\n",
       " \"000007.png\"\n",
       " \"000008.png\"\n",
       " \"000009.png\"\n",
       " \"000010.png\"\n",
       " \"000011.png\""
      ]
     },
     "execution_count": 9,
     "metadata": {},
     "output_type": "execute_result"
    }
   ],
   "source": [
    "using Plots, LaTeXStrings\n",
    "import Printf\n",
    "\n",
    "x0=0\n",
    "theta=0\n",
    "xs=2.0\n",
    "b=2.0\n",
    "Nx=61;\n",
    "Ny=61;\n",
    "\n",
    "Nt=11 #Number of timesteps\n",
    "t0 = 0.000 #Initial time of animation\n",
    "t1 = 10.0   #Final time of animation\n",
    "\n",
    "c=0.05 #Speed of pulse movement\n",
    "\n",
    "\n",
    "rs(r,costheta)=sqrt.(r.*r .+ xs*xs .-2*xs*r*costheta);\n",
    "initial_dist(r,costheta)= exp(-b*rs.(r,costheta).^2)\n",
    "\n",
    "\n",
    "x=range(0.001,4.0,length=Nx)\n",
    "y=range(-3,3,length=Ny)\n",
    "\n",
    "\n",
    "times=LinRange(t0,t1,Nt);\n",
    "\n",
    "    for i =1:Nt\n",
    "   time=times[i]\n",
    "    # Setup contour function for each time\n",
    "     f(x,y)=begin\n",
    "        \n",
    "        r=sqrt((x+c*time)^2+y^2);\n",
    "        \n",
    "        initial_dist(r, x/r)\n",
    "       end\n",
    "    \n",
    "\n",
    "   Plots.contour(x,y,f,fill=true)\n",
    "   plt=Plots.title!(\"Time = \" * string(time) * \" seconds\")\n",
    "   Plots.png(plt,\"$(lpad(i,6,\"0\")).png\") \n",
    "end\n",
    "\n",
    "print(Nt)\n",
    "fnames=[Printf.@sprintf(\"%06d.png\",i) for i =1:Nt]\n",
    "\n",
    "\n",
    "#an=Animation(\"<SPECIFY FULL PATH TO LOCATION OF SAVED PNG!>\",fnames) #You must specify a valid path name!\n",
    "#Plots.buildanimation(an,\"<NAME OF GIF-ANIMATION FILE>.gif\",fps=3) #Specify valid file name for animation!\n",
    "    \n"
   ]
  },
  {
   "cell_type": "markdown",
   "id": "7e705087",
   "metadata": {},
   "source": [
    "# Instructions for allocating computing resources on CRC"
   ]
  },
  {
   "cell_type": "markdown",
   "id": "23ad67a3",
   "metadata": {},
   "source": [
    "<b> 0.</b> Log into a VIZ session as you normally do\n",
    "\n",
    "<b>1. </b>Within the terminal window, run \"salloc  -c [NUMBER_OF_CORES] -s -t [NUMBER_OF_MINUTES]\" to reserve compute resources, where the last number stands for the number of minutes needed. Only specify the parameters (number or string) WITHOUT the surrounding brackets!\n",
    "\n",
    "<b>2.</b> Run squeue -u [USERNAME] to find the allocated node number (smp-n##)\n",
    "\n",
    "<b> 3. </b> Log into the reserved node: ssh -X smp-n##. You will be asked to provide your Pitt password.\n",
    "\n",
    "<b> 4. </b> Run \"export JULIA_NUM_THREADS=[NUMBER_OF_CORES]\"\n",
    "\n",
    "<b> 5. </b> Launch jupyter as you normally would. You can now execute your julia scripts on multiple threads as described here: https://docs.julialang.org/en/v1/manual/multi-threading/. \n",
    "The number of threads should not exceed the number of cores you alloated in step 1."
   ]
  },
  {
   "cell_type": "code",
   "execution_count": null,
   "id": "58a8b47b",
   "metadata": {},
   "outputs": [],
   "source": []
  },
  {
   "cell_type": "code",
   "execution_count": null,
   "id": "c15cac86",
   "metadata": {},
   "outputs": [],
   "source": []
  }
 ],
 "metadata": {
  "@webio": {
   "lastCommId": "4e3523103b4147718740363c4d8e8da0",
   "lastKernelId": "6f013847-22fe-4c8e-bcd7-4dfc7c982d15"
  },
  "kernelspec": {
   "display_name": "Julia 1.6.3",
   "language": "julia",
   "name": "julia-1.6"
  },
  "language_info": {
   "file_extension": ".jl",
   "mimetype": "application/julia",
   "name": "julia",
   "version": "1.6.3"
  }
 },
 "nbformat": 4,
 "nbformat_minor": 5
}
