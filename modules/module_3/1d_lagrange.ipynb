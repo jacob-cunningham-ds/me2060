{
 "cells": [
  {
   "cell_type": "markdown",
   "id": "001aef1e-da98-4592-a60e-7476535b38c8",
   "metadata": {},
   "source": [
    "---\n",
    "title: 1D Lagrange Interpolation\n",
    "venue: Modules\n",
    "---"
   ]
  },
  {
   "cell_type": "markdown",
   "id": "c1aee408",
   "metadata": {},
   "source": [
    "The following demonstration has been taken from the online tutorial https://www.matecdev.com/posts/julia-interpolation.html.\n",
    "\n",
    "Let $n+1$ arbitrary points in 1D be given as $x_0,x_2,\\dots,x_n$. Assume a function $f$ which takes the values $f(x_i)=y_i,i=0,\\dots,n$ on these points. Then there exists a polynomial $p(x)$ of degree not more than $n$ such that $p(x_i)=y_i, 0=1,\\dots,n$."
   ]
  },
  {
   "cell_type": "markdown",
   "id": "26b0045a",
   "metadata": {},
   "source": [
    "<b> Procedure for finding the coefficients of $p(x)$: </b>"
   ]
  },
  {
   "cell_type": "markdown",
   "id": "e294fff5",
   "metadata": {},
   "source": [
    "$p(x)=\\sum_{i=0}^n y_i\\cdot s_i(x)$, where each polynomial $s_i(x)$ is given as \n",
    "\\begin{equation}\n",
    "s_i(x):=\\frac{\\prod_{j=0,j\\neq i}^n (x-x_j)}{\\prod_{j=0,j\\neq i}^n (x_i-x_j)}\n",
    "\\end{equation}"
   ]
  },
  {
   "cell_type": "markdown",
   "id": "ba961866",
   "metadata": {},
   "source": [
    "The above formula can be written in another way which makes it slightly easier for implementation, which is the so-called <b>barycentric</b> form with barycentric weights $b_i, i=1,\\dots,n$:\n",
    "\\begin{equation}\n",
    "p(x)=\\frac{\\sum_{i=1}^n b_i y_i\\  t_i(x)}{\\sum_{i=1}^n b_i t_i(x)}, \n",
    "\\end{equation}\n",
    "\n",
    "where the $n+1$ constants coefficients are \n",
    "\\begin{equation}\n",
    "b_i= \\prod_{j=0,j\\neq i}^n (x_i-x_j)^{-1}, i=0,\\dots,n\n",
    "\\end{equation} \n",
    "and the $n+1$  basis functions are:\n",
    "\n",
    "\\begin{equation}\n",
    "   t_i(x) = (x-x_i)^{-1}\n",
    "\\end{equation}"
   ]
  },
  {
   "cell_type": "code",
   "execution_count": null,
   "id": "807631d7",
   "metadata": {},
   "outputs": [],
   "source": [
    "function LagrangeInterp1D( fvals, xnodes, barw, t )\n",
    "    numt = 0\n",
    "    denomt = 0\n",
    "\n",
    "    for j = 1 : length( xnodes )\n",
    "        tdiff = t - xnodes[j]\n",
    "        numt = numt + barw[j] / tdiff * fvals[j]\n",
    "        denomt = denomt + barw[j] / tdiff\n",
    "\n",
    "        if ( abs(tdiff) < 1e-15 )\n",
    "            numt = fvals[j]\n",
    "            denomt = 1.0\n",
    "            break\n",
    "        end\n",
    "    end\n",
    "\n",
    "    return numt / denomt\n",
    "\n",
    "end"
   ]
  },
  {
   "cell_type": "markdown",
   "id": "17b63e3f",
   "metadata": {},
   "source": [
    "For equidistant node points, the barycentric weights can be explicitly calculated as\n",
    "\n",
    "$b_i=(-1)^{i} \\binom{n}{i} $"
   ]
  },
  {
   "cell_type": "code",
   "execution_count": null,
   "id": "e9170a37",
   "metadata": {},
   "outputs": [],
   "source": [
    "# n+1 equispaced points between -1 and 1\n",
    "EquispacedNodes(n) = [2*(j/n-0.5) for j=0:n]\n",
    "EquispacedBarWeights(n) = [ (-1)^j * binomial(n,j) for j=0:n ]"
   ]
  },
  {
   "cell_type": "markdown",
   "id": "81e75b34",
   "metadata": {},
   "source": [
    "Test the interpolation on the follwing function:"
   ]
  },
  {
   "cell_type": "code",
   "execution_count": null,
   "id": "e4e5cce4",
   "metadata": {},
   "outputs": [],
   "source": [
    "f(x) = 1/(1 + 16*x^2)\n"
   ]
  },
  {
   "cell_type": "markdown",
   "id": "e808ff75",
   "metadata": {},
   "source": [
    "Interpolate $f(x)$ using 17 equidistant points within $[-1,1]$:"
   ]
  },
  {
   "cell_type": "code",
   "execution_count": null,
   "id": "1259a0da",
   "metadata": {},
   "outputs": [],
   "source": [
    "using Plots\n",
    "\n",
    "# Sampling\n",
    "n = 17;\n",
    "xnodes = EquispacedNodes(n);\n",
    "w = EquispacedBarWeights(n);\n",
    "f_sample = f.(xnodes);\n",
    "\n",
    "# Interpolation\n",
    "t = LinRange(-1,1,100)\n",
    "f_interp = [LagrangeInterp1D( f_sample, xnodes, w, t[j] ) for j=1:length(t)]\n",
    "plot(t,f.(t), label=\"Exact\", marker = 3)\n",
    "plot!(t,f_interp, label=\"Lagrange Interp\", marker = 3)"
   ]
  },
  {
   "cell_type": "markdown",
   "id": "94eb3cbe",
   "metadata": {},
   "source": [
    "Equidistant interpolation points give rise to Runge's phenomenon, as indicated by the massive overshooting behavior above. Different choice of interpolation points such as Chebychev points can be used to solve this issue, which are defined as: \n",
    "\n",
    "$x_i=\\cos\\left(\\frac{i \\pi}{n}\\right),i=0,\\dots, n $\n",
    "\n",
    "The barycentric weights for the Chebychev points assume a particularly simple form:\n",
    "\n",
    "\\begin{equation}\n",
    "b_i=\\begin{cases}\n",
    "\\frac{1}{2}\\cdot (-1)^i &\\text{ if } i = 0,n \\\\\n",
    "(-1)^i  &\\text{ if } i=1,\\dots,n-1\n",
    "\\end{cases}\n",
    "\\end{equation}"
   ]
  },
  {
   "cell_type": "code",
   "execution_count": 1,
   "id": "b851c543",
   "metadata": {},
   "outputs": [
    {
     "data": {
      "text/plain": [
       "ClosedChebBarWeights (generic function with 1 method)"
      ]
     },
     "execution_count": 1,
     "metadata": {},
     "output_type": "execute_result"
    }
   ],
   "source": [
    "# Chebyshev points of the second kind\n",
    "ClosedChebNodes(n) = [cos(j*pi/n) for j=0:n]\n",
    "ClosedChebBarWeights(n) = [0.5; [(-1)^j for j=1:n-1]; 0.5*(-1)^n]"
   ]
  },
  {
   "cell_type": "markdown",
   "id": "fa8a2219",
   "metadata": {},
   "source": [
    "Now interpolate based on Chebychev points:"
   ]
  },
  {
   "cell_type": "code",
   "execution_count": null,
   "id": "c2ab605f",
   "metadata": {},
   "outputs": [],
   "source": [
    "# Sampling 17 Chebychev points\n",
    "n = 16;\n",
    "xnodes = ClosedChebNodes(n);\n",
    "w = ClosedChebBarWeights(n);\n",
    "f_sample = f.(xnodes);\n",
    "\n",
    "# Interpolation\n",
    "t = LinRange(-1,1,100)\n",
    "f_interp = [LagrangeInterp1D( f_sample, xnodes, w, t[j] ) for j=1:length(t)]\n",
    "plot(t,f.(t), label=\"Exact\", marker = 8)\n",
    "plot!(t,f_interp, label=\"Chebychev Interp\", marker = 3)"
   ]
  },
  {
   "cell_type": "code",
   "execution_count": null,
   "id": "9b8a0483",
   "metadata": {},
   "outputs": [],
   "source": []
  }
 ],
 "metadata": {
  "kernelspec": {
   "display_name": "Julia 1.10.7",
   "language": "julia",
   "name": "julia-1.10"
  },
  "language_info": {
   "file_extension": ".jl",
   "mimetype": "application/julia",
   "name": "julia",
   "version": "1.10.7"
  }
 },
 "nbformat": 4,
 "nbformat_minor": 5
}
