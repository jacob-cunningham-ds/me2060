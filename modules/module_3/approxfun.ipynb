{
 "cells": [
  {
   "cell_type": "markdown",
   "id": "62cb7be3-ff42-4293-82f4-58f90c56e6b8",
   "metadata": {},
   "source": [
    "---\n",
    "title: ApproxFun\n",
    "venue: Modules\n",
    "---"
   ]
  },
  {
   "cell_type": "markdown",
   "id": "e95423bd",
   "metadata": {},
   "source": [
    "## Approximation of functions via Chebyshev Polynomials and B-Splines in Julia"
   ]
  },
  {
   "cell_type": "markdown",
   "id": "b870c761",
   "metadata": {},
   "source": [
    "The Julia-package <b> ApproxFun </b> package implements Chebyshev polynomials(default) and other basis functions to approximate arbitrary functions. The dedicated package homepage can be found here: https://juliaapproximation.github.io/ApproxFun.jl/latest/"
   ]
  },
  {
   "cell_type": "code",
   "execution_count": 137,
   "id": "80c01784",
   "metadata": {},
   "outputs": [],
   "source": [
    "using ApproxFun"
   ]
  },
  {
   "cell_type": "markdown",
   "id": "4deb6a5b",
   "metadata": {},
   "source": [
    "Define Chebychev polynomials explicitly over their natural interval by specifying coefficients:"
   ]
  },
  {
   "cell_type": "code",
   "execution_count": 138,
   "id": "16781a1e",
   "metadata": {},
   "outputs": [],
   "source": [
    "#Fully explicit construction for the first three Chebyshev polynomials over [-1,1]\n",
    "chebf1=Fun(Chebyshev(Interval(-1,1)), [1,0,0]);\n",
    "chebf2=Fun(Chebyshev(Interval(-1,1)), [0,1,0]);\n",
    "chebf3=Fun(Chebyshev(Interval(-1,1)), [0,0,1]);"
   ]
  },
  {
   "cell_type": "markdown",
   "id": "f70d0c26",
   "metadata": {},
   "source": [
    "<b> ApproxFun </b> uses the natural interval [-1,1] as default for Chebyshev polynomials, so no need to specify them explicitly:"
   ]
  },
  {
   "cell_type": "code",
   "execution_count": 146,
   "id": "746bf787",
   "metadata": {},
   "outputs": [],
   "source": [
    "#Easy construction for the first 4 Chebyshev polynomials by using default constructor\n",
    "chebf1_=Fun(Chebyshev(), [1,0,0,0]);\n",
    "chebf2_=Fun(Chebyshev(), [0,1,0,0]);\n",
    "chebf3_=Fun(Chebyshev(),[0,0,1,0]);\n",
    "chebf4_=Fun(Chebyshev(),[0,0,0,1]);"
   ]
  },
  {
   "cell_type": "markdown",
   "id": "f205228c",
   "metadata": {},
   "source": [
    "Visualizing the first 4 Chebyshev polynomials $y(x)=1, x,2x^2-1, 4x^3-3x$"
   ]
  },
  {
   "cell_type": "code",
   "execution_count": 140,
   "id": "72ca9ba9",
   "metadata": {},
   "outputs": [],
   "source": [
    "using Plotly, Plots, LaTeXStrings"
   ]
  },
  {
   "cell_type": "code",
   "execution_count": 154,
   "id": "50b11d86",
   "metadata": {},
   "outputs": [
    {
     "data": {
      "application/vnd.plotly.v1+json": {
       "config": {
        "editable": false,
        "responsive": true,
        "scrollZoom": true,
        "showLink": false,
        "staticPlot": false
       },
       "data": [
        {
         "color": "red",
         "name": "Chebyshev 0",
         "type": "scatter",
         "x": [
          -1,
          -0.95,
          -0.9,
          -0.85,
          -0.8,
          -0.75,
          -0.7,
          -0.65,
          -0.6,
          -0.55,
          -0.5,
          -0.45,
          -0.4,
          -0.35,
          -0.3,
          -0.25,
          -0.2,
          -0.15,
          -0.1,
          -0.05,
          0,
          0.05,
          0.1,
          0.15,
          0.2,
          0.25,
          0.3,
          0.35,
          0.4,
          0.45,
          0.5,
          0.55,
          0.6,
          0.65,
          0.7,
          0.75,
          0.8,
          0.85,
          0.9,
          0.95,
          1
         ],
         "y": [
          1,
          1,
          1,
          1,
          1,
          1,
          1,
          1,
          1,
          1,
          1,
          1,
          1,
          1,
          1,
          1,
          1,
          1,
          1,
          1,
          1,
          1,
          1,
          1,
          1,
          1,
          1,
          1,
          1,
          1,
          1,
          1,
          1,
          1,
          1,
          1,
          1,
          1,
          1,
          1,
          1
         ]
        },
        {
         "color": "blue",
         "name": "Chebyshev 1",
         "style": "line",
         "type": "scatter",
         "x": [
          -1,
          -0.95,
          -0.9,
          -0.85,
          -0.8,
          -0.75,
          -0.7,
          -0.65,
          -0.6,
          -0.55,
          -0.5,
          -0.45,
          -0.4,
          -0.35,
          -0.3,
          -0.25,
          -0.2,
          -0.15,
          -0.1,
          -0.05,
          0,
          0.05,
          0.1,
          0.15,
          0.2,
          0.25,
          0.3,
          0.35,
          0.4,
          0.45,
          0.5,
          0.55,
          0.6,
          0.65,
          0.7,
          0.75,
          0.8,
          0.85,
          0.9,
          0.95,
          1
         ],
         "y": [
          -1,
          -0.95,
          -0.9,
          -0.85,
          -0.8,
          -0.75,
          -0.7,
          -0.65,
          -0.6,
          -0.55,
          -0.5,
          -0.45,
          -0.4,
          -0.35,
          -0.3,
          -0.25,
          -0.2,
          -0.15,
          -0.1,
          -0.05,
          0,
          0.05,
          0.1,
          0.15,
          0.2,
          0.25,
          0.3,
          0.35,
          0.4,
          0.45,
          0.5,
          0.55,
          0.6,
          0.65,
          0.7,
          0.75,
          0.8,
          0.85,
          0.9,
          0.95,
          1
         ]
        },
        {
         "color": "green",
         "name": "Chebyshev 2",
         "style": "line",
         "type": "scatter",
         "x": [
          -1,
          -0.95,
          -0.9,
          -0.85,
          -0.8,
          -0.75,
          -0.7,
          -0.65,
          -0.6,
          -0.55,
          -0.5,
          -0.45,
          -0.4,
          -0.35,
          -0.3,
          -0.25,
          -0.2,
          -0.15,
          -0.1,
          -0.05,
          0,
          0.05,
          0.1,
          0.15,
          0.2,
          0.25,
          0.3,
          0.35,
          0.4,
          0.45,
          0.5,
          0.55,
          0.6,
          0.65,
          0.7,
          0.75,
          0.8,
          0.85,
          0.9,
          0.95,
          1
         ],
         "y": [
          1,
          0.8049999999999998,
          0.6200000000000001,
          0.44499999999999995,
          0.28000000000000014,
          0.125,
          -0.020000000000000125,
          -0.15499999999999994,
          -0.28,
          -0.3949999999999999,
          -0.5,
          -0.595,
          -0.6799999999999999,
          -0.755,
          -0.8200000000000001,
          -0.875,
          -0.92,
          -0.955,
          -0.98,
          -0.995,
          -1,
          -0.995,
          -0.98,
          -0.955,
          -0.92,
          -0.875,
          -0.8200000000000001,
          -0.755,
          -0.6799999999999999,
          -0.595,
          -0.5,
          -0.3949999999999999,
          -0.28,
          -0.15499999999999994,
          -0.020000000000000125,
          0.125,
          0.28000000000000014,
          0.44499999999999995,
          0.6200000000000001,
          0.8049999999999998,
          1
         ]
        },
        {
         "color": "yellow",
         "name": "Chebyshev 3",
         "style": "line",
         "type": "scatter",
         "x": [
          -1,
          -0.95,
          -0.9,
          -0.85,
          -0.8,
          -0.75,
          -0.7,
          -0.65,
          -0.6,
          -0.55,
          -0.5,
          -0.45,
          -0.4,
          -0.35,
          -0.3,
          -0.25,
          -0.2,
          -0.15,
          -0.1,
          -0.05,
          0,
          0.05,
          0.1,
          0.15,
          0.2,
          0.25,
          0.3,
          0.35,
          0.4,
          0.45,
          0.5,
          0.55,
          0.6,
          0.65,
          0.7,
          0.75,
          0.8,
          0.85,
          0.9,
          0.95,
          1
         ],
         "y": [
          -1,
          -0.5794999999999999,
          -0.2160000000000002,
          0.09350000000000008,
          0.3519999999999998,
          0.5625,
          0.7280000000000001,
          0.8514999999999999,
          0.936,
          0.9844999999999999,
          1,
          0.9855,
          0.9440000000000001,
          0.8785,
          0.7919999999999999,
          0.6875,
          0.5680000000000001,
          0.4365,
          0.296,
          0.1495,
          0,
          -0.1495,
          -0.296,
          -0.4365,
          -0.5680000000000001,
          -0.6875,
          -0.7919999999999999,
          -0.8785,
          -0.9440000000000001,
          -0.9855,
          -1,
          -0.9844999999999999,
          -0.936,
          -0.8514999999999999,
          -0.7280000000000001,
          -0.5625,
          -0.3519999999999998,
          -0.09350000000000008,
          0.2160000000000002,
          0.5794999999999999,
          1
         ]
        }
       ],
       "frames": [],
       "layout": {
        "margin": {
         "b": 50,
         "l": 50,
         "r": 50,
         "t": 60
        },
        "template": {
         "data": {
          "bar": [
           {
            "error_x": {
             "color": "#2a3f5f"
            },
            "error_y": {
             "color": "#2a3f5f"
            },
            "marker": {
             "line": {
              "color": "#E5ECF6",
              "width": 0.5
             }
            },
            "type": "bar"
           }
          ],
          "barpolar": [
           {
            "marker": {
             "line": {
              "color": "#E5ECF6",
              "width": 0.5
             }
            },
            "type": "barpolar"
           }
          ],
          "carpet": [
           {
            "aaxis": {
             "endlinecolor": "#2a3f5f",
             "gridcolor": "white",
             "linecolor": "white",
             "minorgridcolor": "white",
             "startlinecolor": "#2a3f5f"
            },
            "baxis": {
             "endlinecolor": "#2a3f5f",
             "gridcolor": "white",
             "linecolor": "white",
             "minorgridcolor": "white",
             "startlinecolor": "#2a3f5f"
            },
            "type": "carpet"
           }
          ],
          "choropleth": [
           {
            "colorbar": {
             "outlinewidth": 0,
             "ticks": ""
            },
            "type": "choropleth"
           }
          ],
          "contour": [
           {
            "colorbar": {
             "outlinewidth": 0,
             "ticks": ""
            },
            "colorscale": [
             [
              0,
              "#0d0887"
             ],
             [
              0.1111111111111111,
              "#46039f"
             ],
             [
              0.2222222222222222,
              "#7201a8"
             ],
             [
              0.3333333333333333,
              "#9c179e"
             ],
             [
              0.4444444444444444,
              "#bd3786"
             ],
             [
              0.5555555555555556,
              "#d8576b"
             ],
             [
              0.6666666666666666,
              "#ed7953"
             ],
             [
              0.7777777777777778,
              "#fb9f3a"
             ],
             [
              0.8888888888888888,
              "#fdca26"
             ],
             [
              1,
              "#f0f921"
             ]
            ],
            "type": "contour"
           }
          ],
          "contourcarpet": [
           {
            "colorbar": {
             "outlinewidth": 0,
             "ticks": ""
            },
            "type": "contourcarpet"
           }
          ],
          "heatmap": [
           {
            "colorbar": {
             "outlinewidth": 0,
             "ticks": ""
            },
            "colorscale": [
             [
              0,
              "#0d0887"
             ],
             [
              0.1111111111111111,
              "#46039f"
             ],
             [
              0.2222222222222222,
              "#7201a8"
             ],
             [
              0.3333333333333333,
              "#9c179e"
             ],
             [
              0.4444444444444444,
              "#bd3786"
             ],
             [
              0.5555555555555556,
              "#d8576b"
             ],
             [
              0.6666666666666666,
              "#ed7953"
             ],
             [
              0.7777777777777778,
              "#fb9f3a"
             ],
             [
              0.8888888888888888,
              "#fdca26"
             ],
             [
              1,
              "#f0f921"
             ]
            ],
            "type": "heatmap"
           }
          ],
          "heatmapgl": [
           {
            "colorbar": {
             "outlinewidth": 0,
             "ticks": ""
            },
            "colorscale": [
             [
              0,
              "#0d0887"
             ],
             [
              0.1111111111111111,
              "#46039f"
             ],
             [
              0.2222222222222222,
              "#7201a8"
             ],
             [
              0.3333333333333333,
              "#9c179e"
             ],
             [
              0.4444444444444444,
              "#bd3786"
             ],
             [
              0.5555555555555556,
              "#d8576b"
             ],
             [
              0.6666666666666666,
              "#ed7953"
             ],
             [
              0.7777777777777778,
              "#fb9f3a"
             ],
             [
              0.8888888888888888,
              "#fdca26"
             ],
             [
              1,
              "#f0f921"
             ]
            ],
            "type": "heatmapgl"
           }
          ],
          "histogram": [
           {
            "marker": {
             "colorbar": {
              "outlinewidth": 0,
              "ticks": ""
             }
            },
            "type": "histogram"
           }
          ],
          "histogram2d": [
           {
            "colorbar": {
             "outlinewidth": 0,
             "ticks": ""
            },
            "colorscale": [
             [
              0,
              "#0d0887"
             ],
             [
              0.1111111111111111,
              "#46039f"
             ],
             [
              0.2222222222222222,
              "#7201a8"
             ],
             [
              0.3333333333333333,
              "#9c179e"
             ],
             [
              0.4444444444444444,
              "#bd3786"
             ],
             [
              0.5555555555555556,
              "#d8576b"
             ],
             [
              0.6666666666666666,
              "#ed7953"
             ],
             [
              0.7777777777777778,
              "#fb9f3a"
             ],
             [
              0.8888888888888888,
              "#fdca26"
             ],
             [
              1,
              "#f0f921"
             ]
            ],
            "type": "histogram2d"
           }
          ],
          "histogram2dcontour": [
           {
            "colorbar": {
             "outlinewidth": 0,
             "ticks": ""
            },
            "colorscale": [
             [
              0,
              "#0d0887"
             ],
             [
              0.1111111111111111,
              "#46039f"
             ],
             [
              0.2222222222222222,
              "#7201a8"
             ],
             [
              0.3333333333333333,
              "#9c179e"
             ],
             [
              0.4444444444444444,
              "#bd3786"
             ],
             [
              0.5555555555555556,
              "#d8576b"
             ],
             [
              0.6666666666666666,
              "#ed7953"
             ],
             [
              0.7777777777777778,
              "#fb9f3a"
             ],
             [
              0.8888888888888888,
              "#fdca26"
             ],
             [
              1,
              "#f0f921"
             ]
            ],
            "type": "histogram2dcontour"
           }
          ],
          "mesh3d": [
           {
            "colorbar": {
             "outlinewidth": 0,
             "ticks": ""
            },
            "type": "mesh3d"
           }
          ],
          "parcoords": [
           {
            "line": {
             "colorbar": {
              "outlinewidth": 0,
              "ticks": ""
             }
            },
            "type": "parcoords"
           }
          ],
          "pie": [
           {
            "automargin": true,
            "type": "pie"
           }
          ],
          "scatter": [
           {
            "marker": {
             "colorbar": {
              "outlinewidth": 0,
              "ticks": ""
             }
            },
            "type": "scatter"
           }
          ],
          "scatter3d": [
           {
            "line": {
             "colorbar": {
              "outlinewidth": 0,
              "ticks": ""
             }
            },
            "marker": {
             "colorbar": {
              "outlinewidth": 0,
              "ticks": ""
             }
            },
            "type": "scatter3d"
           }
          ],
          "scattercarpet": [
           {
            "marker": {
             "colorbar": {
              "outlinewidth": 0,
              "ticks": ""
             }
            },
            "type": "scattercarpet"
           }
          ],
          "scattergeo": [
           {
            "marker": {
             "colorbar": {
              "outlinewidth": 0,
              "ticks": ""
             }
            },
            "type": "scattergeo"
           }
          ],
          "scattergl": [
           {
            "marker": {
             "colorbar": {
              "outlinewidth": 0,
              "ticks": ""
             }
            },
            "type": "scattergl"
           }
          ],
          "scattermapbox": [
           {
            "marker": {
             "colorbar": {
              "outlinewidth": 0,
              "ticks": ""
             }
            },
            "type": "scattermapbox"
           }
          ],
          "scatterpolar": [
           {
            "marker": {
             "colorbar": {
              "outlinewidth": 0,
              "ticks": ""
             }
            },
            "type": "scatterpolar"
           }
          ],
          "scatterpolargl": [
           {
            "marker": {
             "colorbar": {
              "outlinewidth": 0,
              "ticks": ""
             }
            },
            "type": "scatterpolargl"
           }
          ],
          "scatterternary": [
           {
            "marker": {
             "colorbar": {
              "outlinewidth": 0,
              "ticks": ""
             }
            },
            "type": "scatterternary"
           }
          ],
          "surface": [
           {
            "colorbar": {
             "outlinewidth": 0,
             "ticks": ""
            },
            "colorscale": [
             [
              0,
              "#0d0887"
             ],
             [
              0.1111111111111111,
              "#46039f"
             ],
             [
              0.2222222222222222,
              "#7201a8"
             ],
             [
              0.3333333333333333,
              "#9c179e"
             ],
             [
              0.4444444444444444,
              "#bd3786"
             ],
             [
              0.5555555555555556,
              "#d8576b"
             ],
             [
              0.6666666666666666,
              "#ed7953"
             ],
             [
              0.7777777777777778,
              "#fb9f3a"
             ],
             [
              0.8888888888888888,
              "#fdca26"
             ],
             [
              1,
              "#f0f921"
             ]
            ],
            "type": "surface"
           }
          ],
          "table": [
           {
            "cells": {
             "fill": {
              "color": "#EBF0F8"
             },
             "line": {
              "color": "white"
             }
            },
            "header": {
             "fill": {
              "color": "#C8D4E3"
             },
             "line": {
              "color": "white"
             }
            },
            "type": "table"
           }
          ]
         },
         "layout": {
          "annotationdefaults": {
           "arrowcolor": "#2a3f5f",
           "arrowhead": 0,
           "arrowwidth": 1
          },
          "autotypenumbers": "strict",
          "coloraxis": {
           "colorbar": {
            "outlinewidth": 0,
            "ticks": ""
           }
          },
          "colorscale": {
           "diverging": [
            [
             0,
             "#8e0152"
            ],
            [
             0.1,
             "#c51b7d"
            ],
            [
             0.2,
             "#de77ae"
            ],
            [
             0.3,
             "#f1b6da"
            ],
            [
             0.4,
             "#fde0ef"
            ],
            [
             0.5,
             "#f7f7f7"
            ],
            [
             0.6,
             "#e6f5d0"
            ],
            [
             0.7,
             "#b8e186"
            ],
            [
             0.8,
             "#7fbc41"
            ],
            [
             0.9,
             "#4d9221"
            ],
            [
             1,
             "#276419"
            ]
           ],
           "sequential": [
            [
             0,
             "#0d0887"
            ],
            [
             0.1111111111111111,
             "#46039f"
            ],
            [
             0.2222222222222222,
             "#7201a8"
            ],
            [
             0.3333333333333333,
             "#9c179e"
            ],
            [
             0.4444444444444444,
             "#bd3786"
            ],
            [
             0.5555555555555556,
             "#d8576b"
            ],
            [
             0.6666666666666666,
             "#ed7953"
            ],
            [
             0.7777777777777778,
             "#fb9f3a"
            ],
            [
             0.8888888888888888,
             "#fdca26"
            ],
            [
             1,
             "#f0f921"
            ]
           ],
           "sequentialminus": [
            [
             0,
             "#0d0887"
            ],
            [
             0.1111111111111111,
             "#46039f"
            ],
            [
             0.2222222222222222,
             "#7201a8"
            ],
            [
             0.3333333333333333,
             "#9c179e"
            ],
            [
             0.4444444444444444,
             "#bd3786"
            ],
            [
             0.5555555555555556,
             "#d8576b"
            ],
            [
             0.6666666666666666,
             "#ed7953"
            ],
            [
             0.7777777777777778,
             "#fb9f3a"
            ],
            [
             0.8888888888888888,
             "#fdca26"
            ],
            [
             1,
             "#f0f921"
            ]
           ]
          },
          "colorway": [
           "#636efa",
           "#EF553B",
           "#00cc96",
           "#ab63fa",
           "#FFA15A",
           "#19d3f3",
           "#FF6692",
           "#B6E880",
           "#FF97FF",
           "#FECB52"
          ],
          "font": {
           "color": "#2a3f5f"
          },
          "geo": {
           "bgcolor": "white",
           "lakecolor": "white",
           "landcolor": "#E5ECF6",
           "showlakes": true,
           "showland": true,
           "subunitcolor": "white"
          },
          "hoverlabel": {
           "align": "left"
          },
          "hovermode": "closest",
          "mapbox": {
           "style": "light"
          },
          "paper_bgcolor": "white",
          "plot_bgcolor": "#E5ECF6",
          "polar": {
           "angularaxis": {
            "gridcolor": "white",
            "linecolor": "white",
            "ticks": ""
           },
           "bgcolor": "#E5ECF6",
           "radialaxis": {
            "gridcolor": "white",
            "linecolor": "white",
            "ticks": ""
           }
          },
          "scene": {
           "xaxis": {
            "backgroundcolor": "#E5ECF6",
            "gridcolor": "white",
            "gridwidth": 2,
            "linecolor": "white",
            "showbackground": true,
            "ticks": "",
            "zerolinecolor": "white"
           },
           "yaxis": {
            "backgroundcolor": "#E5ECF6",
            "gridcolor": "white",
            "gridwidth": 2,
            "linecolor": "white",
            "showbackground": true,
            "ticks": "",
            "zerolinecolor": "white"
           },
           "zaxis": {
            "backgroundcolor": "#E5ECF6",
            "gridcolor": "white",
            "gridwidth": 2,
            "linecolor": "white",
            "showbackground": true,
            "ticks": "",
            "zerolinecolor": "white"
           }
          },
          "shapedefaults": {
           "line": {
            "color": "#2a3f5f"
           }
          },
          "ternary": {
           "aaxis": {
            "gridcolor": "white",
            "linecolor": "white",
            "ticks": ""
           },
           "baxis": {
            "gridcolor": "white",
            "linecolor": "white",
            "ticks": ""
           },
           "bgcolor": "#E5ECF6",
           "caxis": {
            "gridcolor": "white",
            "linecolor": "white",
            "ticks": ""
           }
          },
          "title": {
           "x": 0.05
          },
          "xaxis": {
           "automargin": true,
           "gridcolor": "white",
           "linecolor": "white",
           "ticks": "",
           "title": {
            "standoff": 15
           },
           "zerolinecolor": "white",
           "zerolinewidth": 2
          },
          "yaxis": {
           "automargin": true,
           "gridcolor": "white",
           "linecolor": "white",
           "ticks": "",
           "title": {
            "standoff": 15
           },
           "zerolinecolor": "white",
           "zerolinewidth": 2
          }
         }
        },
        "title": "First 3 Chebyshev polynomials over interval [-1, 1]",
        "xaxis": {
         "title": {
          "text": "x"
         }
        },
        "yaxis": {
         "title": {
          "text": "y"
         }
        }
       }
      },
      "text/html": [
       "<div\n",
       "    class=\"webio-mountpoint\"\n",
       "    data-webio-mountpoint=\"12092894970037311186\"\n",
       ">\n",
       "    <script>\n",
       "    (function(){\n",
       "    // Some integrations (namely, IJulia/Jupyter) use an alternate render pathway than\n",
       "    // just putting the html on the page. If WebIO isn't defined, then it's pretty likely\n",
       "    // that we're in one of those situations and the integration just isn't installed\n",
       "    // correctly.\n",
       "    if (typeof window.WebIO === \"undefined\") {\n",
       "        document\n",
       "            .querySelector('[data-webio-mountpoint=\"12092894970037311186\"]')\n",
       "            .innerHTML = (\n",
       "                '<div style=\"padding: 1em; background-color: #f8d6da; border: 1px solid #f5c6cb; font-weight: bold;\">' +\n",
       "                '<p><strong>WebIO not detected.</strong></p>' +\n",
       "                '<p>Please read ' +\n",
       "                '<a href=\"https://juliagizmos.github.io/WebIO.jl/latest/troubleshooting/not-detected/\" target=\"_blank\">the troubleshooting guide</a> ' +\n",
       "                'for more information on how to resolve this issue.</p>' +\n",
       "                '<p><a href=\"https://juliagizmos.github.io/WebIO.jl/latest/troubleshooting/not-detected/\" target=\"_blank\">https://juliagizmos.github.io/WebIO.jl/latest/troubleshooting/not-detected/</a></p>' +\n",
       "                '</div>'\n",
       "            );\n",
       "        return;\n",
       "    }\n",
       "    WebIO.mount(\n",
       "        document.querySelector('[data-webio-mountpoint=\"12092894970037311186\"]'),\n",
       "        {\"props\":{},\"nodeType\":\"Scope\",\"type\":\"node\",\"instanceArgs\":{\"imports\":{\"data\":[{\"name\":\"Plotly\",\"type\":\"js\",\"url\":\"\\/assetserver\\/499590eaec904dd55fafb36dbac61b115c3c7397-plotly.min.js\"},{\"name\":null,\"type\":\"js\",\"url\":\"\\/assetserver\\/516b44ebc40e7d2763d8f7a52f8fb4f892cb9be8-plotly_webio.bundle.js\"}],\"type\":\"async_block\"},\"id\":\"11168607973373804261\",\"handlers\":{\"_toImage\":[\"(function (options){return this.Plotly.toImage(this.plotElem,options).then((function (data){return WebIO.setval({\\\"name\\\":\\\"image\\\",\\\"scope\\\":\\\"11168607973373804261\\\",\\\"id\\\":\\\"7948638439598635265\\\",\\\"type\\\":\\\"observable\\\"},data)}))})\"],\"__get_gd_contents\":[\"(function (prop){prop==\\\"data\\\" ? (WebIO.setval({\\\"name\\\":\\\"__gd_contents\\\",\\\"scope\\\":\\\"11168607973373804261\\\",\\\"id\\\":\\\"16010376404659918798\\\",\\\"type\\\":\\\"observable\\\"},this.plotElem.data)) : undefined; return prop==\\\"layout\\\" ? (WebIO.setval({\\\"name\\\":\\\"__gd_contents\\\",\\\"scope\\\":\\\"11168607973373804261\\\",\\\"id\\\":\\\"16010376404659918798\\\",\\\"type\\\":\\\"observable\\\"},this.plotElem.layout)) : undefined})\"],\"_downloadImage\":[\"(function (options){return this.Plotly.downloadImage(this.plotElem,options)})\"],\"_commands\":[\"(function (args){var fn=args.shift(); var elem=this.plotElem; var Plotly=this.Plotly; args.unshift(elem); return Plotly[fn].apply(this,args)})\"]},\"systemjs_options\":null,\"mount_callbacks\":[\"function () {\\n    var handler = ((function (Plotly,PlotlyWebIO){PlotlyWebIO.init(WebIO); var gd=this.dom.querySelector(\\\"#plot-08f113bc-bdde-40fe-967a-86842c623846\\\"); this.plotElem=gd; this.Plotly=Plotly; (window.Blink!==undefined) ? (gd.style.width=\\\"100%\\\", gd.style.height=\\\"100vh\\\", gd.style.marginLeft=\\\"0%\\\", gd.style.marginTop=\\\"0vh\\\") : undefined; window.onresize=(function (){return Plotly.Plots.resize(gd)}); Plotly.newPlot(gd,[{\\\"color\\\":\\\"red\\\",\\\"y\\\":[1.0,1.0,1.0,1.0,1.0,1.0,1.0,1.0,1.0,1.0,1.0,1.0,1.0,1.0,1.0,1.0,1.0,1.0,1.0,1.0,1.0,1.0,1.0,1.0,1.0,1.0,1.0,1.0,1.0,1.0,1.0,1.0,1.0,1.0,1.0,1.0,1.0,1.0,1.0,1.0,1.0],\\\"type\\\":\\\"scatter\\\",\\\"name\\\":\\\"Chebyshev 0\\\",\\\"x\\\":[-1.0,-0.95,-0.9,-0.85,-0.8,-0.75,-0.7,-0.65,-0.6,-0.55,-0.5,-0.45,-0.4,-0.35,-0.3,-0.25,-0.2,-0.15,-0.1,-0.05,0.0,0.05,0.1,0.15,0.2,0.25,0.3,0.35,0.4,0.45,0.5,0.55,0.6,0.65,0.7,0.75,0.8,0.85,0.9,0.95,1.0]},{\\\"color\\\":\\\"blue\\\",\\\"x\\\":[-1.0,-0.95,-0.9,-0.85,-0.8,-0.75,-0.7,-0.65,-0.6,-0.55,-0.5,-0.45,-0.4,-0.35,-0.3,-0.25,-0.2,-0.15,-0.1,-0.05,0.0,0.05,0.1,0.15,0.2,0.25,0.3,0.35,0.4,0.45,0.5,0.55,0.6,0.65,0.7,0.75,0.8,0.85,0.9,0.95,1.0],\\\"y\\\":[-1.0,-0.95,-0.9,-0.85,-0.8,-0.75,-0.7,-0.65,-0.6,-0.55,-0.5,-0.45,-0.4,-0.35,-0.3,-0.25,-0.2,-0.15,-0.1,-0.05,0.0,0.05,0.1,0.15,0.2,0.25,0.3,0.35,0.4,0.45,0.5,0.55,0.6,0.65,0.7,0.75,0.8,0.85,0.9,0.95,1.0],\\\"type\\\":\\\"scatter\\\",\\\"name\\\":\\\"Chebyshev 1\\\",\\\"style\\\":\\\"line\\\"},{\\\"color\\\":\\\"green\\\",\\\"x\\\":[-1.0,-0.95,-0.9,-0.85,-0.8,-0.75,-0.7,-0.65,-0.6,-0.55,-0.5,-0.45,-0.4,-0.35,-0.3,-0.25,-0.2,-0.15,-0.1,-0.05,0.0,0.05,0.1,0.15,0.2,0.25,0.3,0.35,0.4,0.45,0.5,0.55,0.6,0.65,0.7,0.75,0.8,0.85,0.9,0.95,1.0],\\\"y\\\":[1.0,0.8049999999999998,0.6200000000000001,0.44499999999999995,0.28000000000000014,0.125,-0.020000000000000125,-0.15499999999999994,-0.28,-0.3949999999999999,-0.5,-0.595,-0.6799999999999999,-0.755,-0.8200000000000001,-0.875,-0.92,-0.955,-0.98,-0.995,-1.0,-0.995,-0.98,-0.955,-0.92,-0.875,-0.8200000000000001,-0.755,-0.6799999999999999,-0.595,-0.5,-0.3949999999999999,-0.28,-0.15499999999999994,-0.020000000000000125,0.125,0.28000000000000014,0.44499999999999995,0.6200000000000001,0.8049999999999998,1.0],\\\"type\\\":\\\"scatter\\\",\\\"name\\\":\\\"Chebyshev 2\\\",\\\"style\\\":\\\"line\\\"},{\\\"color\\\":\\\"yellow\\\",\\\"x\\\":[-1.0,-0.95,-0.9,-0.85,-0.8,-0.75,-0.7,-0.65,-0.6,-0.55,-0.5,-0.45,-0.4,-0.35,-0.3,-0.25,-0.2,-0.15,-0.1,-0.05,0.0,0.05,0.1,0.15,0.2,0.25,0.3,0.35,0.4,0.45,0.5,0.55,0.6,0.65,0.7,0.75,0.8,0.85,0.9,0.95,1.0],\\\"y\\\":[-1.0,-0.5794999999999999,-0.2160000000000002,0.09350000000000008,0.3519999999999998,0.5625,0.7280000000000001,0.8514999999999999,0.936,0.9844999999999999,1.0,0.9855,0.9440000000000001,0.8785,0.7919999999999999,0.6875,0.5680000000000001,0.4365,0.296,0.1495,0.0,-0.1495,-0.296,-0.4365,-0.5680000000000001,-0.6875,-0.7919999999999999,-0.8785,-0.9440000000000001,-0.9855,-1.0,-0.9844999999999999,-0.936,-0.8514999999999999,-0.7280000000000001,-0.5625,-0.3519999999999998,-0.09350000000000008,0.2160000000000002,0.5794999999999999,1.0],\\\"type\\\":\\\"scatter\\\",\\\"name\\\":\\\"Chebyshev 3\\\",\\\"style\\\":\\\"line\\\"}],{\\\"xaxis\\\":{\\\"title\\\":{\\\"text\\\":\\\"x\\\"}},\\\"template\\\":{\\\"layout\\\":{\\\"coloraxis\\\":{\\\"colorbar\\\":{\\\"ticks\\\":\\\"\\\",\\\"outlinewidth\\\":0}},\\\"xaxis\\\":{\\\"gridcolor\\\":\\\"white\\\",\\\"zerolinewidth\\\":2,\\\"title\\\":{\\\"standoff\\\":15},\\\"ticks\\\":\\\"\\\",\\\"zerolinecolor\\\":\\\"white\\\",\\\"automargin\\\":true,\\\"linecolor\\\":\\\"white\\\"},\\\"hovermode\\\":\\\"closest\\\",\\\"paper_bgcolor\\\":\\\"white\\\",\\\"geo\\\":{\\\"showlakes\\\":true,\\\"showland\\\":true,\\\"landcolor\\\":\\\"#E5ECF6\\\",\\\"bgcolor\\\":\\\"white\\\",\\\"subunitcolor\\\":\\\"white\\\",\\\"lakecolor\\\":\\\"white\\\"},\\\"colorscale\\\":{\\\"sequential\\\":[[0.0,\\\"#0d0887\\\"],[0.1111111111111111,\\\"#46039f\\\"],[0.2222222222222222,\\\"#7201a8\\\"],[0.3333333333333333,\\\"#9c179e\\\"],[0.4444444444444444,\\\"#bd3786\\\"],[0.5555555555555556,\\\"#d8576b\\\"],[0.6666666666666666,\\\"#ed7953\\\"],[0.7777777777777778,\\\"#fb9f3a\\\"],[0.8888888888888888,\\\"#fdca26\\\"],[1.0,\\\"#f0f921\\\"]],\\\"diverging\\\":[[0,\\\"#8e0152\\\"],[0.1,\\\"#c51b7d\\\"],[0.2,\\\"#de77ae\\\"],[0.3,\\\"#f1b6da\\\"],[0.4,\\\"#fde0ef\\\"],[0.5,\\\"#f7f7f7\\\"],[0.6,\\\"#e6f5d0\\\"],[0.7,\\\"#b8e186\\\"],[0.8,\\\"#7fbc41\\\"],[0.9,\\\"#4d9221\\\"],[1,\\\"#276419\\\"]],\\\"sequentialminus\\\":[[0.0,\\\"#0d0887\\\"],[0.1111111111111111,\\\"#46039f\\\"],[0.2222222222222222,\\\"#7201a8\\\"],[0.3333333333333333,\\\"#9c179e\\\"],[0.4444444444444444,\\\"#bd3786\\\"],[0.5555555555555556,\\\"#d8576b\\\"],[0.6666666666666666,\\\"#ed7953\\\"],[0.7777777777777778,\\\"#fb9f3a\\\"],[0.8888888888888888,\\\"#fdca26\\\"],[1.0,\\\"#f0f921\\\"]]},\\\"yaxis\\\":{\\\"gridcolor\\\":\\\"white\\\",\\\"zerolinewidth\\\":2,\\\"title\\\":{\\\"standoff\\\":15},\\\"ticks\\\":\\\"\\\",\\\"zerolinecolor\\\":\\\"white\\\",\\\"automargin\\\":true,\\\"linecolor\\\":\\\"white\\\"},\\\"shapedefaults\\\":{\\\"line\\\":{\\\"color\\\":\\\"#2a3f5f\\\"}},\\\"hoverlabel\\\":{\\\"align\\\":\\\"left\\\"},\\\"mapbox\\\":{\\\"style\\\":\\\"light\\\"},\\\"polar\\\":{\\\"angularaxis\\\":{\\\"gridcolor\\\":\\\"white\\\",\\\"ticks\\\":\\\"\\\",\\\"linecolor\\\":\\\"white\\\"},\\\"bgcolor\\\":\\\"#E5ECF6\\\",\\\"radialaxis\\\":{\\\"gridcolor\\\":\\\"white\\\",\\\"ticks\\\":\\\"\\\",\\\"linecolor\\\":\\\"white\\\"}},\\\"autotypenumbers\\\":\\\"strict\\\",\\\"font\\\":{\\\"color\\\":\\\"#2a3f5f\\\"},\\\"ternary\\\":{\\\"baxis\\\":{\\\"gridcolor\\\":\\\"white\\\",\\\"ticks\\\":\\\"\\\",\\\"linecolor\\\":\\\"white\\\"},\\\"bgcolor\\\":\\\"#E5ECF6\\\",\\\"caxis\\\":{\\\"gridcolor\\\":\\\"white\\\",\\\"ticks\\\":\\\"\\\",\\\"linecolor\\\":\\\"white\\\"},\\\"aaxis\\\":{\\\"gridcolor\\\":\\\"white\\\",\\\"ticks\\\":\\\"\\\",\\\"linecolor\\\":\\\"white\\\"}},\\\"annotationdefaults\\\":{\\\"arrowhead\\\":0,\\\"arrowwidth\\\":1,\\\"arrowcolor\\\":\\\"#2a3f5f\\\"},\\\"plot_bgcolor\\\":\\\"#E5ECF6\\\",\\\"title\\\":{\\\"x\\\":0.05},\\\"scene\\\":{\\\"xaxis\\\":{\\\"gridcolor\\\":\\\"white\\\",\\\"gridwidth\\\":2,\\\"backgroundcolor\\\":\\\"#E5ECF6\\\",\\\"ticks\\\":\\\"\\\",\\\"showbackground\\\":true,\\\"zerolinecolor\\\":\\\"white\\\",\\\"linecolor\\\":\\\"white\\\"},\\\"zaxis\\\":{\\\"gridcolor\\\":\\\"white\\\",\\\"gridwidth\\\":2,\\\"backgroundcolor\\\":\\\"#E5ECF6\\\",\\\"ticks\\\":\\\"\\\",\\\"showbackground\\\":true,\\\"zerolinecolor\\\":\\\"white\\\",\\\"linecolor\\\":\\\"white\\\"},\\\"yaxis\\\":{\\\"gridcolor\\\":\\\"white\\\",\\\"gridwidth\\\":2,\\\"backgroundcolor\\\":\\\"#E5ECF6\\\",\\\"ticks\\\":\\\"\\\",\\\"showbackground\\\":true,\\\"zerolinecolor\\\":\\\"white\\\",\\\"linecolor\\\":\\\"white\\\"}},\\\"colorway\\\":[\\\"#636efa\\\",\\\"#EF553B\\\",\\\"#00cc96\\\",\\\"#ab63fa\\\",\\\"#FFA15A\\\",\\\"#19d3f3\\\",\\\"#FF6692\\\",\\\"#B6E880\\\",\\\"#FF97FF\\\",\\\"#FECB52\\\"]},\\\"data\\\":{\\\"barpolar\\\":[{\\\"type\\\":\\\"barpolar\\\",\\\"marker\\\":{\\\"line\\\":{\\\"color\\\":\\\"#E5ECF6\\\",\\\"width\\\":0.5}}}],\\\"carpet\\\":[{\\\"aaxis\\\":{\\\"gridcolor\\\":\\\"white\\\",\\\"endlinecolor\\\":\\\"#2a3f5f\\\",\\\"minorgridcolor\\\":\\\"white\\\",\\\"startlinecolor\\\":\\\"#2a3f5f\\\",\\\"linecolor\\\":\\\"white\\\"},\\\"type\\\":\\\"carpet\\\",\\\"baxis\\\":{\\\"gridcolor\\\":\\\"white\\\",\\\"endlinecolor\\\":\\\"#2a3f5f\\\",\\\"minorgridcolor\\\":\\\"white\\\",\\\"startlinecolor\\\":\\\"#2a3f5f\\\",\\\"linecolor\\\":\\\"white\\\"}}],\\\"scatterpolar\\\":[{\\\"type\\\":\\\"scatterpolar\\\",\\\"marker\\\":{\\\"colorbar\\\":{\\\"ticks\\\":\\\"\\\",\\\"outlinewidth\\\":0}}}],\\\"parcoords\\\":[{\\\"line\\\":{\\\"colorbar\\\":{\\\"ticks\\\":\\\"\\\",\\\"outlinewidth\\\":0}},\\\"type\\\":\\\"parcoords\\\"}],\\\"scatter\\\":[{\\\"type\\\":\\\"scatter\\\",\\\"marker\\\":{\\\"colorbar\\\":{\\\"ticks\\\":\\\"\\\",\\\"outlinewidth\\\":0}}}],\\\"histogram2dcontour\\\":[{\\\"colorbar\\\":{\\\"ticks\\\":\\\"\\\",\\\"outlinewidth\\\":0},\\\"type\\\":\\\"histogram2dcontour\\\",\\\"colorscale\\\":[[0.0,\\\"#0d0887\\\"],[0.1111111111111111,\\\"#46039f\\\"],[0.2222222222222222,\\\"#7201a8\\\"],[0.3333333333333333,\\\"#9c179e\\\"],[0.4444444444444444,\\\"#bd3786\\\"],[0.5555555555555556,\\\"#d8576b\\\"],[0.6666666666666666,\\\"#ed7953\\\"],[0.7777777777777778,\\\"#fb9f3a\\\"],[0.8888888888888888,\\\"#fdca26\\\"],[1.0,\\\"#f0f921\\\"]]}],\\\"contour\\\":[{\\\"colorbar\\\":{\\\"ticks\\\":\\\"\\\",\\\"outlinewidth\\\":0},\\\"type\\\":\\\"contour\\\",\\\"colorscale\\\":[[0.0,\\\"#0d0887\\\"],[0.1111111111111111,\\\"#46039f\\\"],[0.2222222222222222,\\\"#7201a8\\\"],[0.3333333333333333,\\\"#9c179e\\\"],[0.4444444444444444,\\\"#bd3786\\\"],[0.5555555555555556,\\\"#d8576b\\\"],[0.6666666666666666,\\\"#ed7953\\\"],[0.7777777777777778,\\\"#fb9f3a\\\"],[0.8888888888888888,\\\"#fdca26\\\"],[1.0,\\\"#f0f921\\\"]]}],\\\"scattercarpet\\\":[{\\\"type\\\":\\\"scattercarpet\\\",\\\"marker\\\":{\\\"colorbar\\\":{\\\"ticks\\\":\\\"\\\",\\\"outlinewidth\\\":0}}}],\\\"mesh3d\\\":[{\\\"colorbar\\\":{\\\"ticks\\\":\\\"\\\",\\\"outlinewidth\\\":0},\\\"type\\\":\\\"mesh3d\\\"}],\\\"surface\\\":[{\\\"colorbar\\\":{\\\"ticks\\\":\\\"\\\",\\\"outlinewidth\\\":0},\\\"type\\\":\\\"surface\\\",\\\"colorscale\\\":[[0.0,\\\"#0d0887\\\"],[0.1111111111111111,\\\"#46039f\\\"],[0.2222222222222222,\\\"#7201a8\\\"],[0.3333333333333333,\\\"#9c179e\\\"],[0.4444444444444444,\\\"#bd3786\\\"],[0.5555555555555556,\\\"#d8576b\\\"],[0.6666666666666666,\\\"#ed7953\\\"],[0.7777777777777778,\\\"#fb9f3a\\\"],[0.8888888888888888,\\\"#fdca26\\\"],[1.0,\\\"#f0f921\\\"]]}],\\\"scattermapbox\\\":[{\\\"type\\\":\\\"scattermapbox\\\",\\\"marker\\\":{\\\"colorbar\\\":{\\\"ticks\\\":\\\"\\\",\\\"outlinewidth\\\":0}}}],\\\"scattergeo\\\":[{\\\"type\\\":\\\"scattergeo\\\",\\\"marker\\\":{\\\"colorbar\\\":{\\\"ticks\\\":\\\"\\\",\\\"outlinewidth\\\":0}}}],\\\"histogram\\\":[{\\\"type\\\":\\\"histogram\\\",\\\"marker\\\":{\\\"colorbar\\\":{\\\"ticks\\\":\\\"\\\",\\\"outlinewidth\\\":0}}}],\\\"pie\\\":[{\\\"type\\\":\\\"pie\\\",\\\"automargin\\\":true}],\\\"choropleth\\\":[{\\\"colorbar\\\":{\\\"ticks\\\":\\\"\\\",\\\"outlinewidth\\\":0},\\\"type\\\":\\\"choropleth\\\"}],\\\"heatmapgl\\\":[{\\\"colorbar\\\":{\\\"ticks\\\":\\\"\\\",\\\"outlinewidth\\\":0},\\\"type\\\":\\\"heatmapgl\\\",\\\"colorscale\\\":[[0.0,\\\"#0d0887\\\"],[0.1111111111111111,\\\"#46039f\\\"],[0.2222222222222222,\\\"#7201a8\\\"],[0.3333333333333333,\\\"#9c179e\\\"],[0.4444444444444444,\\\"#bd3786\\\"],[0.5555555555555556,\\\"#d8576b\\\"],[0.6666666666666666,\\\"#ed7953\\\"],[0.7777777777777778,\\\"#fb9f3a\\\"],[0.8888888888888888,\\\"#fdca26\\\"],[1.0,\\\"#f0f921\\\"]]}],\\\"bar\\\":[{\\\"type\\\":\\\"bar\\\",\\\"error_y\\\":{\\\"color\\\":\\\"#2a3f5f\\\"},\\\"error_x\\\":{\\\"color\\\":\\\"#2a3f5f\\\"},\\\"marker\\\":{\\\"line\\\":{\\\"color\\\":\\\"#E5ECF6\\\",\\\"width\\\":0.5}}}],\\\"heatmap\\\":[{\\\"colorbar\\\":{\\\"ticks\\\":\\\"\\\",\\\"outlinewidth\\\":0},\\\"type\\\":\\\"heatmap\\\",\\\"colorscale\\\":[[0.0,\\\"#0d0887\\\"],[0.1111111111111111,\\\"#46039f\\\"],[0.2222222222222222,\\\"#7201a8\\\"],[0.3333333333333333,\\\"#9c179e\\\"],[0.4444444444444444,\\\"#bd3786\\\"],[0.5555555555555556,\\\"#d8576b\\\"],[0.6666666666666666,\\\"#ed7953\\\"],[0.7777777777777778,\\\"#fb9f3a\\\"],[0.8888888888888888,\\\"#fdca26\\\"],[1.0,\\\"#f0f921\\\"]]}],\\\"contourcarpet\\\":[{\\\"colorbar\\\":{\\\"ticks\\\":\\\"\\\",\\\"outlinewidth\\\":0},\\\"type\\\":\\\"contourcarpet\\\"}],\\\"table\\\":[{\\\"type\\\":\\\"table\\\",\\\"header\\\":{\\\"line\\\":{\\\"color\\\":\\\"white\\\"},\\\"fill\\\":{\\\"color\\\":\\\"#C8D4E3\\\"}},\\\"cells\\\":{\\\"line\\\":{\\\"color\\\":\\\"white\\\"},\\\"fill\\\":{\\\"color\\\":\\\"#EBF0F8\\\"}}}],\\\"scatter3d\\\":[{\\\"line\\\":{\\\"colorbar\\\":{\\\"ticks\\\":\\\"\\\",\\\"outlinewidth\\\":0}},\\\"type\\\":\\\"scatter3d\\\",\\\"marker\\\":{\\\"colorbar\\\":{\\\"ticks\\\":\\\"\\\",\\\"outlinewidth\\\":0}}}],\\\"scattergl\\\":[{\\\"type\\\":\\\"scattergl\\\",\\\"marker\\\":{\\\"colorbar\\\":{\\\"ticks\\\":\\\"\\\",\\\"outlinewidth\\\":0}}}],\\\"histogram2d\\\":[{\\\"colorbar\\\":{\\\"ticks\\\":\\\"\\\",\\\"outlinewidth\\\":0},\\\"type\\\":\\\"histogram2d\\\",\\\"colorscale\\\":[[0.0,\\\"#0d0887\\\"],[0.1111111111111111,\\\"#46039f\\\"],[0.2222222222222222,\\\"#7201a8\\\"],[0.3333333333333333,\\\"#9c179e\\\"],[0.4444444444444444,\\\"#bd3786\\\"],[0.5555555555555556,\\\"#d8576b\\\"],[0.6666666666666666,\\\"#ed7953\\\"],[0.7777777777777778,\\\"#fb9f3a\\\"],[0.8888888888888888,\\\"#fdca26\\\"],[1.0,\\\"#f0f921\\\"]]}],\\\"scatterternary\\\":[{\\\"type\\\":\\\"scatterternary\\\",\\\"marker\\\":{\\\"colorbar\\\":{\\\"ticks\\\":\\\"\\\",\\\"outlinewidth\\\":0}}}],\\\"scatterpolargl\\\":[{\\\"type\\\":\\\"scatterpolargl\\\",\\\"marker\\\":{\\\"colorbar\\\":{\\\"ticks\\\":\\\"\\\",\\\"outlinewidth\\\":0}}}]}},\\\"margin\\\":{\\\"l\\\":50,\\\"b\\\":50,\\\"r\\\":50,\\\"t\\\":60},\\\"title\\\":\\\"First 3 Chebyshev polynomials over interval [-1, 1]\\\",\\\"yaxis\\\":{\\\"title\\\":{\\\"text\\\":\\\"y\\\"}}},{\\\"showLink\\\":false,\\\"editable\\\":false,\\\"responsive\\\":true,\\\"staticPlot\\\":false,\\\"scrollZoom\\\":true}); gd.on(\\\"plotly_hover\\\",(function (data){var filtered_data=WebIO.PlotlyCommands.filterEventData(gd,data,\\\"hover\\\"); return !(filtered_data.isnil) ? (WebIO.setval({\\\"name\\\":\\\"hover\\\",\\\"scope\\\":\\\"11168607973373804261\\\",\\\"id\\\":\\\"16325211762599766148\\\",\\\"type\\\":\\\"observable\\\"},filtered_data.out)) : undefined})); gd.on(\\\"plotly_unhover\\\",(function (){return WebIO.setval({\\\"name\\\":\\\"hover\\\",\\\"scope\\\":\\\"11168607973373804261\\\",\\\"id\\\":\\\"16325211762599766148\\\",\\\"type\\\":\\\"observable\\\"},{})})); gd.on(\\\"plotly_selected\\\",(function (data){var filtered_data=WebIO.PlotlyCommands.filterEventData(gd,data,\\\"selected\\\"); return !(filtered_data.isnil) ? (WebIO.setval({\\\"name\\\":\\\"selected\\\",\\\"scope\\\":\\\"11168607973373804261\\\",\\\"id\\\":\\\"11418413116583113979\\\",\\\"type\\\":\\\"observable\\\"},filtered_data.out)) : undefined})); gd.on(\\\"plotly_deselect\\\",(function (){return WebIO.setval({\\\"name\\\":\\\"selected\\\",\\\"scope\\\":\\\"11168607973373804261\\\",\\\"id\\\":\\\"11418413116583113979\\\",\\\"type\\\":\\\"observable\\\"},{})})); gd.on(\\\"plotly_relayout\\\",(function (data){var filtered_data=WebIO.PlotlyCommands.filterEventData(gd,data,\\\"relayout\\\"); return !(filtered_data.isnil) ? (WebIO.setval({\\\"name\\\":\\\"relayout\\\",\\\"scope\\\":\\\"11168607973373804261\\\",\\\"id\\\":\\\"3279818083966173705\\\",\\\"type\\\":\\\"observable\\\"},filtered_data.out)) : undefined})); return gd.on(\\\"plotly_click\\\",(function (data){var filtered_data=WebIO.PlotlyCommands.filterEventData(gd,data,\\\"click\\\"); return !(filtered_data.isnil) ? (WebIO.setval({\\\"name\\\":\\\"click\\\",\\\"scope\\\":\\\"11168607973373804261\\\",\\\"id\\\":\\\"16385590180946829276\\\",\\\"type\\\":\\\"observable\\\"},filtered_data.out)) : undefined}))}));\\n    (WebIO.importBlock({\\\"data\\\":[{\\\"name\\\":\\\"Plotly\\\",\\\"type\\\":\\\"js\\\",\\\"url\\\":\\\"\\/assetserver\\/499590eaec904dd55fafb36dbac61b115c3c7397-plotly.min.js\\\"},{\\\"name\\\":null,\\\"type\\\":\\\"js\\\",\\\"url\\\":\\\"\\/assetserver\\/516b44ebc40e7d2763d8f7a52f8fb4f892cb9be8-plotly_webio.bundle.js\\\"}],\\\"type\\\":\\\"async_block\\\"})).then((imports) => handler.apply(this, imports));\\n}\\n\"],\"observables\":{\"_toImage\":{\"sync\":false,\"id\":\"2759252987145744952\",\"value\":{}},\"hover\":{\"sync\":false,\"id\":\"16325211762599766148\",\"value\":{}},\"selected\":{\"sync\":false,\"id\":\"11418413116583113979\",\"value\":{}},\"__gd_contents\":{\"sync\":false,\"id\":\"16010376404659918798\",\"value\":{}},\"click\":{\"sync\":false,\"id\":\"16385590180946829276\",\"value\":{}},\"image\":{\"sync\":true,\"id\":\"7948638439598635265\",\"value\":\"\"},\"__get_gd_contents\":{\"sync\":false,\"id\":\"7911163492713919989\",\"value\":\"\"},\"_downloadImage\":{\"sync\":false,\"id\":\"2952793991086678025\",\"value\":{}},\"relayout\":{\"sync\":false,\"id\":\"3279818083966173705\",\"value\":{}},\"_commands\":{\"sync\":false,\"id\":\"205779252130507830\",\"value\":[]}}},\"children\":[{\"props\":{\"id\":\"plot-08f113bc-bdde-40fe-967a-86842c623846\"},\"nodeType\":\"DOM\",\"type\":\"node\",\"instanceArgs\":{\"namespace\":\"html\",\"tag\":\"div\"},\"children\":[]}]},\n",
       "        window,\n",
       "    );\n",
       "    })()\n",
       "    </script>\n",
       "</div>\n"
      ],
      "text/plain": [
       "data: [\n",
       "  \"scatter with fields color, name, type, x, and y\",\n",
       "  \"scatter with fields color, name, style, type, x, and y\",\n",
       "  \"scatter with fields color, name, style, type, x, and y\",\n",
       "  \"scatter with fields color, name, style, type, x, and y\"\n",
       "]\n",
       "\n",
       "layout: \"layout with fields margin, template, title, xaxis, and yaxis\"\n",
       "\n"
      ]
     },
     "execution_count": 154,
     "metadata": {},
     "output_type": "execute_result"
    }
   ],
   "source": [
    "x=-1:0.05:1;\n",
    "\n",
    "\n",
    "trace1 = Plotly.scatter(x=x, y=chebf1_.(x),color=\"red\",name=\"Chebyshev 0\")\n",
    "trace2 = Plotly.scatter(x=x, y=chebf2_.(x),color=\"blue\", style=\"line\",name=\"Chebyshev 1\")\n",
    "trace3 = Plotly.scatter(x=x, y=chebf3_.(x),color=\"green\",style=\"line\",name=\"Chebyshev 2\")\n",
    "trace4 = Plotly.scatter(x=x, y=chebf4_.(x),color=\"yellow\",style=\"line\",name=\"Chebyshev 3\")\n",
    "\n",
    "\n",
    "\n",
    "layout = Layout(title=\"First 3 Chebyshev polynomials over interval [-1, 1]\",\n",
    "\n",
    "                   xaxis_title=\"x\",\n",
    "\n",
    "                   yaxis_title=\"y\")\n",
    "\n",
    "# Make plot\n",
    "Plotly.plot([trace1, trace2,trace3,trace4],layout)"
   ]
  },
  {
   "cell_type": "markdown",
   "id": "aba5627b",
   "metadata": {},
   "source": [
    "Define Chebyshe polymomials over domains other than [-1,1]:"
   ]
  },
  {
   "cell_type": "code",
   "execution_count": 155,
   "id": "b78e07b4",
   "metadata": {},
   "outputs": [],
   "source": [
    "interv=Interval(2,6);\n",
    "chebf1=Fun(Chebyshev(interv), [1,0,0]);\n",
    "chebf2=Fun(Chebyshev(interv), [0,1,0]);\n",
    "chebf3=Fun(Chebyshev(interv), [0,0,1]);"
   ]
  },
  {
   "cell_type": "code",
   "execution_count": 156,
   "id": "cfa3e93d",
   "metadata": {},
   "outputs": [
    {
     "data": {
      "application/vnd.plotly.v1+json": {
       "config": {
        "editable": false,
        "responsive": true,
        "scrollZoom": true,
        "showLink": false,
        "staticPlot": false
       },
       "data": [
        {
         "color": "red",
         "name": "Chebyshev 0",
         "type": "scatter",
         "x": [
          2,
          2.1,
          2.2,
          2.3,
          2.4,
          2.5,
          2.6,
          2.7,
          2.8,
          2.9,
          3,
          3.1,
          3.2,
          3.3,
          3.4,
          3.5,
          3.6,
          3.7,
          3.8,
          3.9,
          4,
          4.1,
          4.2,
          4.3,
          4.4,
          4.5,
          4.6,
          4.7,
          4.8,
          4.9,
          5,
          5.1,
          5.2,
          5.3,
          5.4,
          5.5,
          5.6,
          5.7,
          5.8,
          5.9,
          6
         ],
         "y": [
          1,
          1,
          1,
          1,
          1,
          1,
          1,
          1,
          1,
          1,
          1,
          1,
          1,
          1,
          1,
          1,
          1,
          1,
          1,
          1,
          1,
          1,
          1,
          1,
          1,
          1,
          1,
          1,
          1,
          1,
          1,
          1,
          1,
          1,
          1,
          1,
          1,
          1,
          1,
          1,
          1
         ]
        },
        {
         "color": "blue",
         "name": "Chebyshev 1",
         "type": "scatter",
         "x": [
          2,
          2.1,
          2.2,
          2.3,
          2.4,
          2.5,
          2.6,
          2.7,
          2.8,
          2.9,
          3,
          3.1,
          3.2,
          3.3,
          3.4,
          3.5,
          3.6,
          3.7,
          3.8,
          3.9,
          4,
          4.1,
          4.2,
          4.3,
          4.4,
          4.5,
          4.6,
          4.7,
          4.8,
          4.9,
          5,
          5.1,
          5.2,
          5.3,
          5.4,
          5.5,
          5.6,
          5.7,
          5.8,
          5.9,
          6
         ],
         "y": [
          -1,
          -0.95,
          -0.8999999999999999,
          -0.8500000000000001,
          -0.8,
          -0.75,
          -0.7,
          -0.6499999999999999,
          -0.6000000000000001,
          -0.55,
          -0.5,
          -0.44999999999999996,
          -0.3999999999999999,
          -0.3500000000000001,
          -0.30000000000000004,
          -0.25,
          -0.19999999999999996,
          -0.1499999999999999,
          -0.10000000000000009,
          -0.050000000000000044,
          0,
          0.04999999999999982,
          0.10000000000000009,
          0.1499999999999999,
          0.20000000000000018,
          0.25,
          0.2999999999999998,
          0.3500000000000001,
          0.3999999999999999,
          0.4500000000000002,
          0.5,
          0.5499999999999998,
          0.6000000000000001,
          0.6499999999999999,
          0.7000000000000002,
          0.75,
          0.7999999999999998,
          0.8500000000000001,
          0.8999999999999999,
          0.9500000000000002,
          1
         ]
        },
        {
         "color": "green",
         "name": "Chebyshev 2",
         "type": "scatter",
         "x": [
          2,
          2.1,
          2.2,
          2.3,
          2.4,
          2.5,
          2.6,
          2.7,
          2.8,
          2.9,
          3,
          3.1,
          3.2,
          3.3,
          3.4,
          3.5,
          3.6,
          3.7,
          3.8,
          3.9,
          4,
          4.1,
          4.2,
          4.3,
          4.4,
          4.5,
          4.6,
          4.7,
          4.8,
          4.9,
          5,
          5.1,
          5.2,
          5.3,
          5.4,
          5.5,
          5.6,
          5.7,
          5.8,
          5.9,
          6
         ],
         "y": [
          1,
          0.8049999999999998,
          0.6199999999999997,
          0.4450000000000003,
          0.28000000000000014,
          0.125,
          -0.020000000000000125,
          -0.15500000000000022,
          -0.2799999999999998,
          -0.3949999999999999,
          -0.5,
          -0.5950000000000001,
          -0.6800000000000002,
          -0.7549999999999999,
          -0.82,
          -0.875,
          -0.92,
          -0.9550000000000001,
          -0.98,
          -0.995,
          -1,
          -0.995,
          -0.98,
          -0.9550000000000001,
          -0.9199999999999998,
          -0.875,
          -0.8200000000000002,
          -0.7549999999999999,
          -0.6800000000000002,
          -0.5949999999999996,
          -0.5,
          -0.3950000000000004,
          -0.2799999999999998,
          -0.15500000000000022,
          -0.019999999999999504,
          0.125,
          0.2799999999999994,
          0.4450000000000003,
          0.6199999999999997,
          0.8050000000000007,
          1
         ]
        }
       ],
       "frames": [],
       "layout": {
        "margin": {
         "b": 50,
         "l": 50,
         "r": 50,
         "t": 60
        },
        "template": {
         "data": {
          "bar": [
           {
            "error_x": {
             "color": "#2a3f5f"
            },
            "error_y": {
             "color": "#2a3f5f"
            },
            "marker": {
             "line": {
              "color": "#E5ECF6",
              "width": 0.5
             }
            },
            "type": "bar"
           }
          ],
          "barpolar": [
           {
            "marker": {
             "line": {
              "color": "#E5ECF6",
              "width": 0.5
             }
            },
            "type": "barpolar"
           }
          ],
          "carpet": [
           {
            "aaxis": {
             "endlinecolor": "#2a3f5f",
             "gridcolor": "white",
             "linecolor": "white",
             "minorgridcolor": "white",
             "startlinecolor": "#2a3f5f"
            },
            "baxis": {
             "endlinecolor": "#2a3f5f",
             "gridcolor": "white",
             "linecolor": "white",
             "minorgridcolor": "white",
             "startlinecolor": "#2a3f5f"
            },
            "type": "carpet"
           }
          ],
          "choropleth": [
           {
            "colorbar": {
             "outlinewidth": 0,
             "ticks": ""
            },
            "type": "choropleth"
           }
          ],
          "contour": [
           {
            "colorbar": {
             "outlinewidth": 0,
             "ticks": ""
            },
            "colorscale": [
             [
              0,
              "#0d0887"
             ],
             [
              0.1111111111111111,
              "#46039f"
             ],
             [
              0.2222222222222222,
              "#7201a8"
             ],
             [
              0.3333333333333333,
              "#9c179e"
             ],
             [
              0.4444444444444444,
              "#bd3786"
             ],
             [
              0.5555555555555556,
              "#d8576b"
             ],
             [
              0.6666666666666666,
              "#ed7953"
             ],
             [
              0.7777777777777778,
              "#fb9f3a"
             ],
             [
              0.8888888888888888,
              "#fdca26"
             ],
             [
              1,
              "#f0f921"
             ]
            ],
            "type": "contour"
           }
          ],
          "contourcarpet": [
           {
            "colorbar": {
             "outlinewidth": 0,
             "ticks": ""
            },
            "type": "contourcarpet"
           }
          ],
          "heatmap": [
           {
            "colorbar": {
             "outlinewidth": 0,
             "ticks": ""
            },
            "colorscale": [
             [
              0,
              "#0d0887"
             ],
             [
              0.1111111111111111,
              "#46039f"
             ],
             [
              0.2222222222222222,
              "#7201a8"
             ],
             [
              0.3333333333333333,
              "#9c179e"
             ],
             [
              0.4444444444444444,
              "#bd3786"
             ],
             [
              0.5555555555555556,
              "#d8576b"
             ],
             [
              0.6666666666666666,
              "#ed7953"
             ],
             [
              0.7777777777777778,
              "#fb9f3a"
             ],
             [
              0.8888888888888888,
              "#fdca26"
             ],
             [
              1,
              "#f0f921"
             ]
            ],
            "type": "heatmap"
           }
          ],
          "heatmapgl": [
           {
            "colorbar": {
             "outlinewidth": 0,
             "ticks": ""
            },
            "colorscale": [
             [
              0,
              "#0d0887"
             ],
             [
              0.1111111111111111,
              "#46039f"
             ],
             [
              0.2222222222222222,
              "#7201a8"
             ],
             [
              0.3333333333333333,
              "#9c179e"
             ],
             [
              0.4444444444444444,
              "#bd3786"
             ],
             [
              0.5555555555555556,
              "#d8576b"
             ],
             [
              0.6666666666666666,
              "#ed7953"
             ],
             [
              0.7777777777777778,
              "#fb9f3a"
             ],
             [
              0.8888888888888888,
              "#fdca26"
             ],
             [
              1,
              "#f0f921"
             ]
            ],
            "type": "heatmapgl"
           }
          ],
          "histogram": [
           {
            "marker": {
             "colorbar": {
              "outlinewidth": 0,
              "ticks": ""
             }
            },
            "type": "histogram"
           }
          ],
          "histogram2d": [
           {
            "colorbar": {
             "outlinewidth": 0,
             "ticks": ""
            },
            "colorscale": [
             [
              0,
              "#0d0887"
             ],
             [
              0.1111111111111111,
              "#46039f"
             ],
             [
              0.2222222222222222,
              "#7201a8"
             ],
             [
              0.3333333333333333,
              "#9c179e"
             ],
             [
              0.4444444444444444,
              "#bd3786"
             ],
             [
              0.5555555555555556,
              "#d8576b"
             ],
             [
              0.6666666666666666,
              "#ed7953"
             ],
             [
              0.7777777777777778,
              "#fb9f3a"
             ],
             [
              0.8888888888888888,
              "#fdca26"
             ],
             [
              1,
              "#f0f921"
             ]
            ],
            "type": "histogram2d"
           }
          ],
          "histogram2dcontour": [
           {
            "colorbar": {
             "outlinewidth": 0,
             "ticks": ""
            },
            "colorscale": [
             [
              0,
              "#0d0887"
             ],
             [
              0.1111111111111111,
              "#46039f"
             ],
             [
              0.2222222222222222,
              "#7201a8"
             ],
             [
              0.3333333333333333,
              "#9c179e"
             ],
             [
              0.4444444444444444,
              "#bd3786"
             ],
             [
              0.5555555555555556,
              "#d8576b"
             ],
             [
              0.6666666666666666,
              "#ed7953"
             ],
             [
              0.7777777777777778,
              "#fb9f3a"
             ],
             [
              0.8888888888888888,
              "#fdca26"
             ],
             [
              1,
              "#f0f921"
             ]
            ],
            "type": "histogram2dcontour"
           }
          ],
          "mesh3d": [
           {
            "colorbar": {
             "outlinewidth": 0,
             "ticks": ""
            },
            "type": "mesh3d"
           }
          ],
          "parcoords": [
           {
            "line": {
             "colorbar": {
              "outlinewidth": 0,
              "ticks": ""
             }
            },
            "type": "parcoords"
           }
          ],
          "pie": [
           {
            "automargin": true,
            "type": "pie"
           }
          ],
          "scatter": [
           {
            "marker": {
             "colorbar": {
              "outlinewidth": 0,
              "ticks": ""
             }
            },
            "type": "scatter"
           }
          ],
          "scatter3d": [
           {
            "line": {
             "colorbar": {
              "outlinewidth": 0,
              "ticks": ""
             }
            },
            "marker": {
             "colorbar": {
              "outlinewidth": 0,
              "ticks": ""
             }
            },
            "type": "scatter3d"
           }
          ],
          "scattercarpet": [
           {
            "marker": {
             "colorbar": {
              "outlinewidth": 0,
              "ticks": ""
             }
            },
            "type": "scattercarpet"
           }
          ],
          "scattergeo": [
           {
            "marker": {
             "colorbar": {
              "outlinewidth": 0,
              "ticks": ""
             }
            },
            "type": "scattergeo"
           }
          ],
          "scattergl": [
           {
            "marker": {
             "colorbar": {
              "outlinewidth": 0,
              "ticks": ""
             }
            },
            "type": "scattergl"
           }
          ],
          "scattermapbox": [
           {
            "marker": {
             "colorbar": {
              "outlinewidth": 0,
              "ticks": ""
             }
            },
            "type": "scattermapbox"
           }
          ],
          "scatterpolar": [
           {
            "marker": {
             "colorbar": {
              "outlinewidth": 0,
              "ticks": ""
             }
            },
            "type": "scatterpolar"
           }
          ],
          "scatterpolargl": [
           {
            "marker": {
             "colorbar": {
              "outlinewidth": 0,
              "ticks": ""
             }
            },
            "type": "scatterpolargl"
           }
          ],
          "scatterternary": [
           {
            "marker": {
             "colorbar": {
              "outlinewidth": 0,
              "ticks": ""
             }
            },
            "type": "scatterternary"
           }
          ],
          "surface": [
           {
            "colorbar": {
             "outlinewidth": 0,
             "ticks": ""
            },
            "colorscale": [
             [
              0,
              "#0d0887"
             ],
             [
              0.1111111111111111,
              "#46039f"
             ],
             [
              0.2222222222222222,
              "#7201a8"
             ],
             [
              0.3333333333333333,
              "#9c179e"
             ],
             [
              0.4444444444444444,
              "#bd3786"
             ],
             [
              0.5555555555555556,
              "#d8576b"
             ],
             [
              0.6666666666666666,
              "#ed7953"
             ],
             [
              0.7777777777777778,
              "#fb9f3a"
             ],
             [
              0.8888888888888888,
              "#fdca26"
             ],
             [
              1,
              "#f0f921"
             ]
            ],
            "type": "surface"
           }
          ],
          "table": [
           {
            "cells": {
             "fill": {
              "color": "#EBF0F8"
             },
             "line": {
              "color": "white"
             }
            },
            "header": {
             "fill": {
              "color": "#C8D4E3"
             },
             "line": {
              "color": "white"
             }
            },
            "type": "table"
           }
          ]
         },
         "layout": {
          "annotationdefaults": {
           "arrowcolor": "#2a3f5f",
           "arrowhead": 0,
           "arrowwidth": 1
          },
          "autotypenumbers": "strict",
          "coloraxis": {
           "colorbar": {
            "outlinewidth": 0,
            "ticks": ""
           }
          },
          "colorscale": {
           "diverging": [
            [
             0,
             "#8e0152"
            ],
            [
             0.1,
             "#c51b7d"
            ],
            [
             0.2,
             "#de77ae"
            ],
            [
             0.3,
             "#f1b6da"
            ],
            [
             0.4,
             "#fde0ef"
            ],
            [
             0.5,
             "#f7f7f7"
            ],
            [
             0.6,
             "#e6f5d0"
            ],
            [
             0.7,
             "#b8e186"
            ],
            [
             0.8,
             "#7fbc41"
            ],
            [
             0.9,
             "#4d9221"
            ],
            [
             1,
             "#276419"
            ]
           ],
           "sequential": [
            [
             0,
             "#0d0887"
            ],
            [
             0.1111111111111111,
             "#46039f"
            ],
            [
             0.2222222222222222,
             "#7201a8"
            ],
            [
             0.3333333333333333,
             "#9c179e"
            ],
            [
             0.4444444444444444,
             "#bd3786"
            ],
            [
             0.5555555555555556,
             "#d8576b"
            ],
            [
             0.6666666666666666,
             "#ed7953"
            ],
            [
             0.7777777777777778,
             "#fb9f3a"
            ],
            [
             0.8888888888888888,
             "#fdca26"
            ],
            [
             1,
             "#f0f921"
            ]
           ],
           "sequentialminus": [
            [
             0,
             "#0d0887"
            ],
            [
             0.1111111111111111,
             "#46039f"
            ],
            [
             0.2222222222222222,
             "#7201a8"
            ],
            [
             0.3333333333333333,
             "#9c179e"
            ],
            [
             0.4444444444444444,
             "#bd3786"
            ],
            [
             0.5555555555555556,
             "#d8576b"
            ],
            [
             0.6666666666666666,
             "#ed7953"
            ],
            [
             0.7777777777777778,
             "#fb9f3a"
            ],
            [
             0.8888888888888888,
             "#fdca26"
            ],
            [
             1,
             "#f0f921"
            ]
           ]
          },
          "colorway": [
           "#636efa",
           "#EF553B",
           "#00cc96",
           "#ab63fa",
           "#FFA15A",
           "#19d3f3",
           "#FF6692",
           "#B6E880",
           "#FF97FF",
           "#FECB52"
          ],
          "font": {
           "color": "#2a3f5f"
          },
          "geo": {
           "bgcolor": "white",
           "lakecolor": "white",
           "landcolor": "#E5ECF6",
           "showlakes": true,
           "showland": true,
           "subunitcolor": "white"
          },
          "hoverlabel": {
           "align": "left"
          },
          "hovermode": "closest",
          "mapbox": {
           "style": "light"
          },
          "paper_bgcolor": "white",
          "plot_bgcolor": "#E5ECF6",
          "polar": {
           "angularaxis": {
            "gridcolor": "white",
            "linecolor": "white",
            "ticks": ""
           },
           "bgcolor": "#E5ECF6",
           "radialaxis": {
            "gridcolor": "white",
            "linecolor": "white",
            "ticks": ""
           }
          },
          "scene": {
           "xaxis": {
            "backgroundcolor": "#E5ECF6",
            "gridcolor": "white",
            "gridwidth": 2,
            "linecolor": "white",
            "showbackground": true,
            "ticks": "",
            "zerolinecolor": "white"
           },
           "yaxis": {
            "backgroundcolor": "#E5ECF6",
            "gridcolor": "white",
            "gridwidth": 2,
            "linecolor": "white",
            "showbackground": true,
            "ticks": "",
            "zerolinecolor": "white"
           },
           "zaxis": {
            "backgroundcolor": "#E5ECF6",
            "gridcolor": "white",
            "gridwidth": 2,
            "linecolor": "white",
            "showbackground": true,
            "ticks": "",
            "zerolinecolor": "white"
           }
          },
          "shapedefaults": {
           "line": {
            "color": "#2a3f5f"
           }
          },
          "ternary": {
           "aaxis": {
            "gridcolor": "white",
            "linecolor": "white",
            "ticks": ""
           },
           "baxis": {
            "gridcolor": "white",
            "linecolor": "white",
            "ticks": ""
           },
           "bgcolor": "#E5ECF6",
           "caxis": {
            "gridcolor": "white",
            "linecolor": "white",
            "ticks": ""
           }
          },
          "title": {
           "x": 0.05
          },
          "xaxis": {
           "automargin": true,
           "gridcolor": "white",
           "linecolor": "white",
           "ticks": "",
           "title": {
            "standoff": 15
           },
           "zerolinecolor": "white",
           "zerolinewidth": 2
          },
          "yaxis": {
           "automargin": true,
           "gridcolor": "white",
           "linecolor": "white",
           "ticks": "",
           "title": {
            "standoff": 15
           },
           "zerolinecolor": "white",
           "zerolinewidth": 2
          }
         }
        },
        "title": "First 3 Chebyshev polynomials over interval [2, 6]",
        "xaxis": {
         "title": {
          "text": "x"
         }
        },
        "yaxis": {
         "title": {
          "text": "y"
         }
        }
       }
      },
      "text/html": [
       "<div\n",
       "    class=\"webio-mountpoint\"\n",
       "    data-webio-mountpoint=\"5419911522384397066\"\n",
       ">\n",
       "    <script>\n",
       "    (function(){\n",
       "    // Some integrations (namely, IJulia/Jupyter) use an alternate render pathway than\n",
       "    // just putting the html on the page. If WebIO isn't defined, then it's pretty likely\n",
       "    // that we're in one of those situations and the integration just isn't installed\n",
       "    // correctly.\n",
       "    if (typeof window.WebIO === \"undefined\") {\n",
       "        document\n",
       "            .querySelector('[data-webio-mountpoint=\"5419911522384397066\"]')\n",
       "            .innerHTML = (\n",
       "                '<div style=\"padding: 1em; background-color: #f8d6da; border: 1px solid #f5c6cb; font-weight: bold;\">' +\n",
       "                '<p><strong>WebIO not detected.</strong></p>' +\n",
       "                '<p>Please read ' +\n",
       "                '<a href=\"https://juliagizmos.github.io/WebIO.jl/latest/troubleshooting/not-detected/\" target=\"_blank\">the troubleshooting guide</a> ' +\n",
       "                'for more information on how to resolve this issue.</p>' +\n",
       "                '<p><a href=\"https://juliagizmos.github.io/WebIO.jl/latest/troubleshooting/not-detected/\" target=\"_blank\">https://juliagizmos.github.io/WebIO.jl/latest/troubleshooting/not-detected/</a></p>' +\n",
       "                '</div>'\n",
       "            );\n",
       "        return;\n",
       "    }\n",
       "    WebIO.mount(\n",
       "        document.querySelector('[data-webio-mountpoint=\"5419911522384397066\"]'),\n",
       "        {\"props\":{},\"nodeType\":\"Scope\",\"type\":\"node\",\"instanceArgs\":{\"imports\":{\"data\":[{\"name\":\"Plotly\",\"type\":\"js\",\"url\":\"\\/assetserver\\/499590eaec904dd55fafb36dbac61b115c3c7397-plotly.min.js\"},{\"name\":null,\"type\":\"js\",\"url\":\"\\/assetserver\\/516b44ebc40e7d2763d8f7a52f8fb4f892cb9be8-plotly_webio.bundle.js\"}],\"type\":\"async_block\"},\"id\":\"13116133945872129216\",\"handlers\":{\"_toImage\":[\"(function (options){return this.Plotly.toImage(this.plotElem,options).then((function (data){return WebIO.setval({\\\"name\\\":\\\"image\\\",\\\"scope\\\":\\\"13116133945872129216\\\",\\\"id\\\":\\\"1628270132693368909\\\",\\\"type\\\":\\\"observable\\\"},data)}))})\"],\"__get_gd_contents\":[\"(function (prop){prop==\\\"data\\\" ? (WebIO.setval({\\\"name\\\":\\\"__gd_contents\\\",\\\"scope\\\":\\\"13116133945872129216\\\",\\\"id\\\":\\\"6904766524201160918\\\",\\\"type\\\":\\\"observable\\\"},this.plotElem.data)) : undefined; return prop==\\\"layout\\\" ? (WebIO.setval({\\\"name\\\":\\\"__gd_contents\\\",\\\"scope\\\":\\\"13116133945872129216\\\",\\\"id\\\":\\\"6904766524201160918\\\",\\\"type\\\":\\\"observable\\\"},this.plotElem.layout)) : undefined})\"],\"_downloadImage\":[\"(function (options){return this.Plotly.downloadImage(this.plotElem,options)})\"],\"_commands\":[\"(function (args){var fn=args.shift(); var elem=this.plotElem; var Plotly=this.Plotly; args.unshift(elem); return Plotly[fn].apply(this,args)})\"]},\"systemjs_options\":null,\"mount_callbacks\":[\"function () {\\n    var handler = ((function (Plotly,PlotlyWebIO){PlotlyWebIO.init(WebIO); var gd=this.dom.querySelector(\\\"#plot-af3c0be5-b7be-49d8-bb2a-bb0ccdc63721\\\"); this.plotElem=gd; this.Plotly=Plotly; (window.Blink!==undefined) ? (gd.style.width=\\\"100%\\\", gd.style.height=\\\"100vh\\\", gd.style.marginLeft=\\\"0%\\\", gd.style.marginTop=\\\"0vh\\\") : undefined; window.onresize=(function (){return Plotly.Plots.resize(gd)}); Plotly.newPlot(gd,[{\\\"color\\\":\\\"red\\\",\\\"y\\\":[1.0,1.0,1.0,1.0,1.0,1.0,1.0,1.0,1.0,1.0,1.0,1.0,1.0,1.0,1.0,1.0,1.0,1.0,1.0,1.0,1.0,1.0,1.0,1.0,1.0,1.0,1.0,1.0,1.0,1.0,1.0,1.0,1.0,1.0,1.0,1.0,1.0,1.0,1.0,1.0,1.0],\\\"type\\\":\\\"scatter\\\",\\\"name\\\":\\\"Chebyshev 0\\\",\\\"x\\\":[2.0,2.1,2.2,2.3,2.4,2.5,2.6,2.7,2.8,2.9,3.0,3.1,3.2,3.3,3.4,3.5,3.6,3.7,3.8,3.9,4.0,4.1,4.2,4.3,4.4,4.5,4.6,4.7,4.8,4.9,5.0,5.1,5.2,5.3,5.4,5.5,5.6,5.7,5.8,5.9,6.0]},{\\\"color\\\":\\\"blue\\\",\\\"y\\\":[-1.0,-0.95,-0.8999999999999999,-0.8500000000000001,-0.8,-0.75,-0.7,-0.6499999999999999,-0.6000000000000001,-0.55,-0.5,-0.44999999999999996,-0.3999999999999999,-0.3500000000000001,-0.30000000000000004,-0.25,-0.19999999999999996,-0.1499999999999999,-0.10000000000000009,-0.050000000000000044,0.0,0.04999999999999982,0.10000000000000009,0.1499999999999999,0.20000000000000018,0.25,0.2999999999999998,0.3500000000000001,0.3999999999999999,0.4500000000000002,0.5,0.5499999999999998,0.6000000000000001,0.6499999999999999,0.7000000000000002,0.75,0.7999999999999998,0.8500000000000001,0.8999999999999999,0.9500000000000002,1.0],\\\"type\\\":\\\"scatter\\\",\\\"name\\\":\\\"Chebyshev 1\\\",\\\"x\\\":[2.0,2.1,2.2,2.3,2.4,2.5,2.6,2.7,2.8,2.9,3.0,3.1,3.2,3.3,3.4,3.5,3.6,3.7,3.8,3.9,4.0,4.1,4.2,4.3,4.4,4.5,4.6,4.7,4.8,4.9,5.0,5.1,5.2,5.3,5.4,5.5,5.6,5.7,5.8,5.9,6.0]},{\\\"color\\\":\\\"green\\\",\\\"y\\\":[1.0,0.8049999999999998,0.6199999999999997,0.4450000000000003,0.28000000000000014,0.125,-0.020000000000000125,-0.15500000000000022,-0.2799999999999998,-0.3949999999999999,-0.5,-0.5950000000000001,-0.6800000000000002,-0.7549999999999999,-0.82,-0.875,-0.92,-0.9550000000000001,-0.98,-0.995,-1.0,-0.995,-0.98,-0.9550000000000001,-0.9199999999999998,-0.875,-0.8200000000000002,-0.7549999999999999,-0.6800000000000002,-0.5949999999999996,-0.5,-0.3950000000000004,-0.2799999999999998,-0.15500000000000022,-0.019999999999999504,0.125,0.2799999999999994,0.4450000000000003,0.6199999999999997,0.8050000000000007,1.0],\\\"type\\\":\\\"scatter\\\",\\\"name\\\":\\\"Chebyshev 2\\\",\\\"x\\\":[2.0,2.1,2.2,2.3,2.4,2.5,2.6,2.7,2.8,2.9,3.0,3.1,3.2,3.3,3.4,3.5,3.6,3.7,3.8,3.9,4.0,4.1,4.2,4.3,4.4,4.5,4.6,4.7,4.8,4.9,5.0,5.1,5.2,5.3,5.4,5.5,5.6,5.7,5.8,5.9,6.0]}],{\\\"xaxis\\\":{\\\"title\\\":{\\\"text\\\":\\\"x\\\"}},\\\"template\\\":{\\\"layout\\\":{\\\"coloraxis\\\":{\\\"colorbar\\\":{\\\"ticks\\\":\\\"\\\",\\\"outlinewidth\\\":0}},\\\"xaxis\\\":{\\\"gridcolor\\\":\\\"white\\\",\\\"zerolinewidth\\\":2,\\\"title\\\":{\\\"standoff\\\":15},\\\"ticks\\\":\\\"\\\",\\\"zerolinecolor\\\":\\\"white\\\",\\\"automargin\\\":true,\\\"linecolor\\\":\\\"white\\\"},\\\"hovermode\\\":\\\"closest\\\",\\\"paper_bgcolor\\\":\\\"white\\\",\\\"geo\\\":{\\\"showlakes\\\":true,\\\"showland\\\":true,\\\"landcolor\\\":\\\"#E5ECF6\\\",\\\"bgcolor\\\":\\\"white\\\",\\\"subunitcolor\\\":\\\"white\\\",\\\"lakecolor\\\":\\\"white\\\"},\\\"colorscale\\\":{\\\"sequential\\\":[[0.0,\\\"#0d0887\\\"],[0.1111111111111111,\\\"#46039f\\\"],[0.2222222222222222,\\\"#7201a8\\\"],[0.3333333333333333,\\\"#9c179e\\\"],[0.4444444444444444,\\\"#bd3786\\\"],[0.5555555555555556,\\\"#d8576b\\\"],[0.6666666666666666,\\\"#ed7953\\\"],[0.7777777777777778,\\\"#fb9f3a\\\"],[0.8888888888888888,\\\"#fdca26\\\"],[1.0,\\\"#f0f921\\\"]],\\\"diverging\\\":[[0,\\\"#8e0152\\\"],[0.1,\\\"#c51b7d\\\"],[0.2,\\\"#de77ae\\\"],[0.3,\\\"#f1b6da\\\"],[0.4,\\\"#fde0ef\\\"],[0.5,\\\"#f7f7f7\\\"],[0.6,\\\"#e6f5d0\\\"],[0.7,\\\"#b8e186\\\"],[0.8,\\\"#7fbc41\\\"],[0.9,\\\"#4d9221\\\"],[1,\\\"#276419\\\"]],\\\"sequentialminus\\\":[[0.0,\\\"#0d0887\\\"],[0.1111111111111111,\\\"#46039f\\\"],[0.2222222222222222,\\\"#7201a8\\\"],[0.3333333333333333,\\\"#9c179e\\\"],[0.4444444444444444,\\\"#bd3786\\\"],[0.5555555555555556,\\\"#d8576b\\\"],[0.6666666666666666,\\\"#ed7953\\\"],[0.7777777777777778,\\\"#fb9f3a\\\"],[0.8888888888888888,\\\"#fdca26\\\"],[1.0,\\\"#f0f921\\\"]]},\\\"yaxis\\\":{\\\"gridcolor\\\":\\\"white\\\",\\\"zerolinewidth\\\":2,\\\"title\\\":{\\\"standoff\\\":15},\\\"ticks\\\":\\\"\\\",\\\"zerolinecolor\\\":\\\"white\\\",\\\"automargin\\\":true,\\\"linecolor\\\":\\\"white\\\"},\\\"shapedefaults\\\":{\\\"line\\\":{\\\"color\\\":\\\"#2a3f5f\\\"}},\\\"hoverlabel\\\":{\\\"align\\\":\\\"left\\\"},\\\"mapbox\\\":{\\\"style\\\":\\\"light\\\"},\\\"polar\\\":{\\\"angularaxis\\\":{\\\"gridcolor\\\":\\\"white\\\",\\\"ticks\\\":\\\"\\\",\\\"linecolor\\\":\\\"white\\\"},\\\"bgcolor\\\":\\\"#E5ECF6\\\",\\\"radialaxis\\\":{\\\"gridcolor\\\":\\\"white\\\",\\\"ticks\\\":\\\"\\\",\\\"linecolor\\\":\\\"white\\\"}},\\\"autotypenumbers\\\":\\\"strict\\\",\\\"font\\\":{\\\"color\\\":\\\"#2a3f5f\\\"},\\\"ternary\\\":{\\\"baxis\\\":{\\\"gridcolor\\\":\\\"white\\\",\\\"ticks\\\":\\\"\\\",\\\"linecolor\\\":\\\"white\\\"},\\\"bgcolor\\\":\\\"#E5ECF6\\\",\\\"caxis\\\":{\\\"gridcolor\\\":\\\"white\\\",\\\"ticks\\\":\\\"\\\",\\\"linecolor\\\":\\\"white\\\"},\\\"aaxis\\\":{\\\"gridcolor\\\":\\\"white\\\",\\\"ticks\\\":\\\"\\\",\\\"linecolor\\\":\\\"white\\\"}},\\\"annotationdefaults\\\":{\\\"arrowhead\\\":0,\\\"arrowwidth\\\":1,\\\"arrowcolor\\\":\\\"#2a3f5f\\\"},\\\"plot_bgcolor\\\":\\\"#E5ECF6\\\",\\\"title\\\":{\\\"x\\\":0.05},\\\"scene\\\":{\\\"xaxis\\\":{\\\"gridcolor\\\":\\\"white\\\",\\\"gridwidth\\\":2,\\\"backgroundcolor\\\":\\\"#E5ECF6\\\",\\\"ticks\\\":\\\"\\\",\\\"showbackground\\\":true,\\\"zerolinecolor\\\":\\\"white\\\",\\\"linecolor\\\":\\\"white\\\"},\\\"zaxis\\\":{\\\"gridcolor\\\":\\\"white\\\",\\\"gridwidth\\\":2,\\\"backgroundcolor\\\":\\\"#E5ECF6\\\",\\\"ticks\\\":\\\"\\\",\\\"showbackground\\\":true,\\\"zerolinecolor\\\":\\\"white\\\",\\\"linecolor\\\":\\\"white\\\"},\\\"yaxis\\\":{\\\"gridcolor\\\":\\\"white\\\",\\\"gridwidth\\\":2,\\\"backgroundcolor\\\":\\\"#E5ECF6\\\",\\\"ticks\\\":\\\"\\\",\\\"showbackground\\\":true,\\\"zerolinecolor\\\":\\\"white\\\",\\\"linecolor\\\":\\\"white\\\"}},\\\"colorway\\\":[\\\"#636efa\\\",\\\"#EF553B\\\",\\\"#00cc96\\\",\\\"#ab63fa\\\",\\\"#FFA15A\\\",\\\"#19d3f3\\\",\\\"#FF6692\\\",\\\"#B6E880\\\",\\\"#FF97FF\\\",\\\"#FECB52\\\"]},\\\"data\\\":{\\\"barpolar\\\":[{\\\"type\\\":\\\"barpolar\\\",\\\"marker\\\":{\\\"line\\\":{\\\"color\\\":\\\"#E5ECF6\\\",\\\"width\\\":0.5}}}],\\\"carpet\\\":[{\\\"aaxis\\\":{\\\"gridcolor\\\":\\\"white\\\",\\\"endlinecolor\\\":\\\"#2a3f5f\\\",\\\"minorgridcolor\\\":\\\"white\\\",\\\"startlinecolor\\\":\\\"#2a3f5f\\\",\\\"linecolor\\\":\\\"white\\\"},\\\"type\\\":\\\"carpet\\\",\\\"baxis\\\":{\\\"gridcolor\\\":\\\"white\\\",\\\"endlinecolor\\\":\\\"#2a3f5f\\\",\\\"minorgridcolor\\\":\\\"white\\\",\\\"startlinecolor\\\":\\\"#2a3f5f\\\",\\\"linecolor\\\":\\\"white\\\"}}],\\\"scatterpolar\\\":[{\\\"type\\\":\\\"scatterpolar\\\",\\\"marker\\\":{\\\"colorbar\\\":{\\\"ticks\\\":\\\"\\\",\\\"outlinewidth\\\":0}}}],\\\"parcoords\\\":[{\\\"line\\\":{\\\"colorbar\\\":{\\\"ticks\\\":\\\"\\\",\\\"outlinewidth\\\":0}},\\\"type\\\":\\\"parcoords\\\"}],\\\"scatter\\\":[{\\\"type\\\":\\\"scatter\\\",\\\"marker\\\":{\\\"colorbar\\\":{\\\"ticks\\\":\\\"\\\",\\\"outlinewidth\\\":0}}}],\\\"histogram2dcontour\\\":[{\\\"colorbar\\\":{\\\"ticks\\\":\\\"\\\",\\\"outlinewidth\\\":0},\\\"type\\\":\\\"histogram2dcontour\\\",\\\"colorscale\\\":[[0.0,\\\"#0d0887\\\"],[0.1111111111111111,\\\"#46039f\\\"],[0.2222222222222222,\\\"#7201a8\\\"],[0.3333333333333333,\\\"#9c179e\\\"],[0.4444444444444444,\\\"#bd3786\\\"],[0.5555555555555556,\\\"#d8576b\\\"],[0.6666666666666666,\\\"#ed7953\\\"],[0.7777777777777778,\\\"#fb9f3a\\\"],[0.8888888888888888,\\\"#fdca26\\\"],[1.0,\\\"#f0f921\\\"]]}],\\\"contour\\\":[{\\\"colorbar\\\":{\\\"ticks\\\":\\\"\\\",\\\"outlinewidth\\\":0},\\\"type\\\":\\\"contour\\\",\\\"colorscale\\\":[[0.0,\\\"#0d0887\\\"],[0.1111111111111111,\\\"#46039f\\\"],[0.2222222222222222,\\\"#7201a8\\\"],[0.3333333333333333,\\\"#9c179e\\\"],[0.4444444444444444,\\\"#bd3786\\\"],[0.5555555555555556,\\\"#d8576b\\\"],[0.6666666666666666,\\\"#ed7953\\\"],[0.7777777777777778,\\\"#fb9f3a\\\"],[0.8888888888888888,\\\"#fdca26\\\"],[1.0,\\\"#f0f921\\\"]]}],\\\"scattercarpet\\\":[{\\\"type\\\":\\\"scattercarpet\\\",\\\"marker\\\":{\\\"colorbar\\\":{\\\"ticks\\\":\\\"\\\",\\\"outlinewidth\\\":0}}}],\\\"mesh3d\\\":[{\\\"colorbar\\\":{\\\"ticks\\\":\\\"\\\",\\\"outlinewidth\\\":0},\\\"type\\\":\\\"mesh3d\\\"}],\\\"surface\\\":[{\\\"colorbar\\\":{\\\"ticks\\\":\\\"\\\",\\\"outlinewidth\\\":0},\\\"type\\\":\\\"surface\\\",\\\"colorscale\\\":[[0.0,\\\"#0d0887\\\"],[0.1111111111111111,\\\"#46039f\\\"],[0.2222222222222222,\\\"#7201a8\\\"],[0.3333333333333333,\\\"#9c179e\\\"],[0.4444444444444444,\\\"#bd3786\\\"],[0.5555555555555556,\\\"#d8576b\\\"],[0.6666666666666666,\\\"#ed7953\\\"],[0.7777777777777778,\\\"#fb9f3a\\\"],[0.8888888888888888,\\\"#fdca26\\\"],[1.0,\\\"#f0f921\\\"]]}],\\\"scattermapbox\\\":[{\\\"type\\\":\\\"scattermapbox\\\",\\\"marker\\\":{\\\"colorbar\\\":{\\\"ticks\\\":\\\"\\\",\\\"outlinewidth\\\":0}}}],\\\"scattergeo\\\":[{\\\"type\\\":\\\"scattergeo\\\",\\\"marker\\\":{\\\"colorbar\\\":{\\\"ticks\\\":\\\"\\\",\\\"outlinewidth\\\":0}}}],\\\"histogram\\\":[{\\\"type\\\":\\\"histogram\\\",\\\"marker\\\":{\\\"colorbar\\\":{\\\"ticks\\\":\\\"\\\",\\\"outlinewidth\\\":0}}}],\\\"pie\\\":[{\\\"type\\\":\\\"pie\\\",\\\"automargin\\\":true}],\\\"choropleth\\\":[{\\\"colorbar\\\":{\\\"ticks\\\":\\\"\\\",\\\"outlinewidth\\\":0},\\\"type\\\":\\\"choropleth\\\"}],\\\"heatmapgl\\\":[{\\\"colorbar\\\":{\\\"ticks\\\":\\\"\\\",\\\"outlinewidth\\\":0},\\\"type\\\":\\\"heatmapgl\\\",\\\"colorscale\\\":[[0.0,\\\"#0d0887\\\"],[0.1111111111111111,\\\"#46039f\\\"],[0.2222222222222222,\\\"#7201a8\\\"],[0.3333333333333333,\\\"#9c179e\\\"],[0.4444444444444444,\\\"#bd3786\\\"],[0.5555555555555556,\\\"#d8576b\\\"],[0.6666666666666666,\\\"#ed7953\\\"],[0.7777777777777778,\\\"#fb9f3a\\\"],[0.8888888888888888,\\\"#fdca26\\\"],[1.0,\\\"#f0f921\\\"]]}],\\\"bar\\\":[{\\\"type\\\":\\\"bar\\\",\\\"error_y\\\":{\\\"color\\\":\\\"#2a3f5f\\\"},\\\"error_x\\\":{\\\"color\\\":\\\"#2a3f5f\\\"},\\\"marker\\\":{\\\"line\\\":{\\\"color\\\":\\\"#E5ECF6\\\",\\\"width\\\":0.5}}}],\\\"heatmap\\\":[{\\\"colorbar\\\":{\\\"ticks\\\":\\\"\\\",\\\"outlinewidth\\\":0},\\\"type\\\":\\\"heatmap\\\",\\\"colorscale\\\":[[0.0,\\\"#0d0887\\\"],[0.1111111111111111,\\\"#46039f\\\"],[0.2222222222222222,\\\"#7201a8\\\"],[0.3333333333333333,\\\"#9c179e\\\"],[0.4444444444444444,\\\"#bd3786\\\"],[0.5555555555555556,\\\"#d8576b\\\"],[0.6666666666666666,\\\"#ed7953\\\"],[0.7777777777777778,\\\"#fb9f3a\\\"],[0.8888888888888888,\\\"#fdca26\\\"],[1.0,\\\"#f0f921\\\"]]}],\\\"contourcarpet\\\":[{\\\"colorbar\\\":{\\\"ticks\\\":\\\"\\\",\\\"outlinewidth\\\":0},\\\"type\\\":\\\"contourcarpet\\\"}],\\\"table\\\":[{\\\"type\\\":\\\"table\\\",\\\"header\\\":{\\\"line\\\":{\\\"color\\\":\\\"white\\\"},\\\"fill\\\":{\\\"color\\\":\\\"#C8D4E3\\\"}},\\\"cells\\\":{\\\"line\\\":{\\\"color\\\":\\\"white\\\"},\\\"fill\\\":{\\\"color\\\":\\\"#EBF0F8\\\"}}}],\\\"scatter3d\\\":[{\\\"line\\\":{\\\"colorbar\\\":{\\\"ticks\\\":\\\"\\\",\\\"outlinewidth\\\":0}},\\\"type\\\":\\\"scatter3d\\\",\\\"marker\\\":{\\\"colorbar\\\":{\\\"ticks\\\":\\\"\\\",\\\"outlinewidth\\\":0}}}],\\\"scattergl\\\":[{\\\"type\\\":\\\"scattergl\\\",\\\"marker\\\":{\\\"colorbar\\\":{\\\"ticks\\\":\\\"\\\",\\\"outlinewidth\\\":0}}}],\\\"histogram2d\\\":[{\\\"colorbar\\\":{\\\"ticks\\\":\\\"\\\",\\\"outlinewidth\\\":0},\\\"type\\\":\\\"histogram2d\\\",\\\"colorscale\\\":[[0.0,\\\"#0d0887\\\"],[0.1111111111111111,\\\"#46039f\\\"],[0.2222222222222222,\\\"#7201a8\\\"],[0.3333333333333333,\\\"#9c179e\\\"],[0.4444444444444444,\\\"#bd3786\\\"],[0.5555555555555556,\\\"#d8576b\\\"],[0.6666666666666666,\\\"#ed7953\\\"],[0.7777777777777778,\\\"#fb9f3a\\\"],[0.8888888888888888,\\\"#fdca26\\\"],[1.0,\\\"#f0f921\\\"]]}],\\\"scatterternary\\\":[{\\\"type\\\":\\\"scatterternary\\\",\\\"marker\\\":{\\\"colorbar\\\":{\\\"ticks\\\":\\\"\\\",\\\"outlinewidth\\\":0}}}],\\\"scatterpolargl\\\":[{\\\"type\\\":\\\"scatterpolargl\\\",\\\"marker\\\":{\\\"colorbar\\\":{\\\"ticks\\\":\\\"\\\",\\\"outlinewidth\\\":0}}}]}},\\\"margin\\\":{\\\"l\\\":50,\\\"b\\\":50,\\\"r\\\":50,\\\"t\\\":60},\\\"title\\\":\\\"First 3 Chebyshev polynomials over interval [2, 6]\\\",\\\"yaxis\\\":{\\\"title\\\":{\\\"text\\\":\\\"y\\\"}}},{\\\"showLink\\\":false,\\\"editable\\\":false,\\\"responsive\\\":true,\\\"staticPlot\\\":false,\\\"scrollZoom\\\":true}); gd.on(\\\"plotly_hover\\\",(function (data){var filtered_data=WebIO.PlotlyCommands.filterEventData(gd,data,\\\"hover\\\"); return !(filtered_data.isnil) ? (WebIO.setval({\\\"name\\\":\\\"hover\\\",\\\"scope\\\":\\\"13116133945872129216\\\",\\\"id\\\":\\\"13275043193605609079\\\",\\\"type\\\":\\\"observable\\\"},filtered_data.out)) : undefined})); gd.on(\\\"plotly_unhover\\\",(function (){return WebIO.setval({\\\"name\\\":\\\"hover\\\",\\\"scope\\\":\\\"13116133945872129216\\\",\\\"id\\\":\\\"13275043193605609079\\\",\\\"type\\\":\\\"observable\\\"},{})})); gd.on(\\\"plotly_selected\\\",(function (data){var filtered_data=WebIO.PlotlyCommands.filterEventData(gd,data,\\\"selected\\\"); return !(filtered_data.isnil) ? (WebIO.setval({\\\"name\\\":\\\"selected\\\",\\\"scope\\\":\\\"13116133945872129216\\\",\\\"id\\\":\\\"15048306069200445040\\\",\\\"type\\\":\\\"observable\\\"},filtered_data.out)) : undefined})); gd.on(\\\"plotly_deselect\\\",(function (){return WebIO.setval({\\\"name\\\":\\\"selected\\\",\\\"scope\\\":\\\"13116133945872129216\\\",\\\"id\\\":\\\"15048306069200445040\\\",\\\"type\\\":\\\"observable\\\"},{})})); gd.on(\\\"plotly_relayout\\\",(function (data){var filtered_data=WebIO.PlotlyCommands.filterEventData(gd,data,\\\"relayout\\\"); return !(filtered_data.isnil) ? (WebIO.setval({\\\"name\\\":\\\"relayout\\\",\\\"scope\\\":\\\"13116133945872129216\\\",\\\"id\\\":\\\"10211691505275235361\\\",\\\"type\\\":\\\"observable\\\"},filtered_data.out)) : undefined})); return gd.on(\\\"plotly_click\\\",(function (data){var filtered_data=WebIO.PlotlyCommands.filterEventData(gd,data,\\\"click\\\"); return !(filtered_data.isnil) ? (WebIO.setval({\\\"name\\\":\\\"click\\\",\\\"scope\\\":\\\"13116133945872129216\\\",\\\"id\\\":\\\"14002668032502426154\\\",\\\"type\\\":\\\"observable\\\"},filtered_data.out)) : undefined}))}));\\n    (WebIO.importBlock({\\\"data\\\":[{\\\"name\\\":\\\"Plotly\\\",\\\"type\\\":\\\"js\\\",\\\"url\\\":\\\"\\/assetserver\\/499590eaec904dd55fafb36dbac61b115c3c7397-plotly.min.js\\\"},{\\\"name\\\":null,\\\"type\\\":\\\"js\\\",\\\"url\\\":\\\"\\/assetserver\\/516b44ebc40e7d2763d8f7a52f8fb4f892cb9be8-plotly_webio.bundle.js\\\"}],\\\"type\\\":\\\"async_block\\\"})).then((imports) => handler.apply(this, imports));\\n}\\n\"],\"observables\":{\"_toImage\":{\"sync\":false,\"id\":\"1982611074434125032\",\"value\":{}},\"hover\":{\"sync\":false,\"id\":\"13275043193605609079\",\"value\":{}},\"selected\":{\"sync\":false,\"id\":\"15048306069200445040\",\"value\":{}},\"__gd_contents\":{\"sync\":false,\"id\":\"6904766524201160918\",\"value\":{}},\"click\":{\"sync\":false,\"id\":\"14002668032502426154\",\"value\":{}},\"image\":{\"sync\":true,\"id\":\"1628270132693368909\",\"value\":\"\"},\"__get_gd_contents\":{\"sync\":false,\"id\":\"15523921470651600784\",\"value\":\"\"},\"_downloadImage\":{\"sync\":false,\"id\":\"7373034671124517726\",\"value\":{}},\"relayout\":{\"sync\":false,\"id\":\"10211691505275235361\",\"value\":{}},\"_commands\":{\"sync\":false,\"id\":\"13052320311383806063\",\"value\":[]}}},\"children\":[{\"props\":{\"id\":\"plot-af3c0be5-b7be-49d8-bb2a-bb0ccdc63721\"},\"nodeType\":\"DOM\",\"type\":\"node\",\"instanceArgs\":{\"namespace\":\"html\",\"tag\":\"div\"},\"children\":[]}]},\n",
       "        window,\n",
       "    );\n",
       "    })()\n",
       "    </script>\n",
       "</div>\n"
      ],
      "text/plain": [
       "data: [\n",
       "  \"scatter with fields color, name, type, x, and y\",\n",
       "  \"scatter with fields color, name, type, x, and y\",\n",
       "  \"scatter with fields color, name, type, x, and y\"\n",
       "]\n",
       "\n",
       "layout: \"layout with fields margin, template, title, xaxis, and yaxis\"\n",
       "\n"
      ]
     },
     "execution_count": 156,
     "metadata": {},
     "output_type": "execute_result"
    }
   ],
   "source": [
    "x=2:0.1:6;\n",
    "\n",
    "trace1 = Plotly.scatter(x=x, y=chebf1.(x),color=\"red\",name=\"Chebyshev 0\")\n",
    "trace2 = Plotly.scatter(x=x, y=chebf2.(x),color=\"blue\", name=\"Chebyshev 1\")\n",
    "trace3 = Plotly.scatter(x=x, y=chebf3.(x),color=\"green\",name=\"Chebyshev 2\")\n",
    "\n",
    "layout = Layout(title=\"First 3 Chebyshev polynomials over interval [2, 6]\",\n",
    "\n",
    "                   xaxis_title=\"x\",\n",
    "\n",
    "                   yaxis_title=\"y\")\n",
    "\n",
    "# Make plot\n",
    "Plotly.plot([trace1, trace2,trace3],layout)"
   ]
  },
  {
   "cell_type": "markdown",
   "id": "a6a3e93a",
   "metadata": {},
   "source": [
    "<b>Explicit calculation of Chebyshev expansion coefficients</b>\n",
    "\n",
    "Chebyshev polynomials $T_n(x)$ form a complete orthogonal basis for the space $C^1([-1,1]) $ of all continously differentiable functions over $[-1,1]$ with respect to the scalar product \n",
    "\\begin{equation}\n",
    "<f,g>:=\\int_{-1}^1  f(x)\\cdot g(x)\\frac{1}{\\sqrt{1-x^2}} \\ dx\n",
    "\\end{equation}\n",
    "\n",
    "Hence the expansion coefficients for an arbitrary function $f \\in C^1([-1,1])$ can be determined as follows:\n",
    "\n",
    "\\begin{equation}\n",
    "f(x)=a_0 T_1(x)+a_1 T_2(x)+ \\dots + a_n T_n(x), \\ \\ \\ a_n = \\int_{-1}^1  f(x)\\cdot T_n(x)\\frac{1}{\\sqrt{1-x^2}} \\ dx\n",
    "\\end{equation}\n",
    "\n",
    "If $N$ total interpolation points are given where the values for $f(x)$ are specified, then the highest order of Chebyshev expansion is $N-1$. For example, having one single point would only define the expansion coefficient for $T_0(x)=1$."
   ]
  },
  {
   "cell_type": "markdown",
   "id": "f784561d",
   "metadata": {},
   "source": [
    "<b> Example: </b> $f(x)=e^x, $ let's interpolate $f$ with $N=1,2,3$ points to check the accuracy of Chebyshev approximations with increasing number of nodes and polynomial order."
   ]
  },
  {
   "cell_type": "code",
   "execution_count": 188,
   "id": "24750c9a",
   "metadata": {},
   "outputs": [
    {
     "data": {
      "application/vnd.plotly.v1+json": {
       "config": {
        "editable": false,
        "responsive": true,
        "scrollZoom": true,
        "showLink": false,
        "staticPlot": false
       },
       "data": [
        {
         "mode": "lines",
         "name": "Exact function",
         "type": "scatter",
         "x": [
          -1,
          -0.9,
          -0.8,
          -0.7,
          -0.6,
          -0.5,
          -0.4,
          -0.3,
          -0.2,
          -0.1,
          0,
          0.1,
          0.2,
          0.3,
          0.4,
          0.5,
          0.6,
          0.7,
          0.8,
          0.9,
          1
         ],
         "y": [
          0.36787944117144233,
          0.4065696597405991,
          0.44932896411722156,
          0.4965853037914095,
          0.5488116360940265,
          0.6065306597126334,
          0.6703200460356393,
          0.7408182206817179,
          0.8187307530779818,
          0.9048374180359595,
          1,
          1.1051709180756477,
          1.2214027581601699,
          1.3498588075760032,
          1.4918246976412703,
          1.6487212707001282,
          1.8221188003905089,
          2.0137527074704766,
          2.225540928492468,
          2.45960311115695,
          2.718281828459045
         ]
        },
        {
         "mode": "lines",
         "name": "Approximation with 1 point",
         "type": "scatter",
         "x": [
          -1,
          -0.9,
          -0.8,
          -0.7,
          -0.6,
          -0.5,
          -0.4,
          -0.3,
          -0.2,
          -0.1,
          0,
          0.1,
          0.2,
          0.3,
          0.4,
          0.5,
          0.6,
          0.7,
          0.8,
          0.9,
          1
         ],
         "y": [
          1,
          1,
          1,
          1,
          1,
          1,
          1,
          1,
          1,
          1,
          1,
          1,
          1,
          1,
          1,
          1,
          1,
          1,
          1,
          1,
          1
         ]
        },
        {
         "mode": "markers",
         "name": "Approximation with 2 points",
         "type": "scatter",
         "x": [
          -1,
          -0.9,
          -0.8,
          -0.7,
          -0.6,
          -0.5,
          -0.4,
          -0.3,
          -0.2,
          -0.1,
          0,
          0.1,
          0.2,
          0.3,
          0.4,
          0.5,
          0.6,
          0.7,
          0.8,
          0.9,
          1
         ],
         "y": [
          0.17515019524874909,
          0.2836943593760098,
          0.3922385235032705,
          0.5007826876305312,
          0.609326851757792,
          0.7178710158850526,
          0.8264151800123133,
          0.934959344139574,
          1.0435035082668347,
          1.1520476723940956,
          1.2605918365213562,
          1.3691360006486168,
          1.4776801647758775,
          1.5862243289031384,
          1.694768493030399,
          1.8033126571576599,
          1.9118568212849205,
          2.020400985412181,
          2.128945149539442,
          2.2374893136667025,
          2.3460334777939633
         ]
        },
        {
         "mode": "markers",
         "name": "Approximation with 3 points",
         "type": "scatter",
         "x": [
          -1,
          -0.9,
          -0.8,
          -0.7,
          -0.6,
          -0.5,
          -0.4,
          -0.3,
          -0.2,
          -0.1,
          0,
          0.1,
          0.2,
          0.3,
          0.4,
          0.5,
          0.6,
          0.7,
          0.8,
          0.9,
          1
         ],
         "y": [
          0.4022697175985732,
          0.41415898376129917,
          0.43668908594122874,
          0.4698600241383622,
          0.5136717983526993,
          0.5681244085842401,
          0.6332178548329847,
          0.7089521370989329,
          0.7953272553820848,
          0.8923432096824406,
          1,
          1.118297626334763,
          1.24723608868673,
          1.3868153870559008,
          1.537035521442275,
          1.697896491845853,
          1.8693982982666348,
          2.05154094070462,
          2.2443244191598097,
          2.4477487336322024,
          2.6618138841217993
         ]
        },
        {
         "mode": "markers",
         "name": "Approximation with 4 points",
         "type": "scatter",
         "x": [
          -1,
          -0.9,
          -0.8,
          -0.7,
          -0.6,
          -0.5,
          -0.4,
          -0.3,
          -0.2,
          -0.1,
          0,
          0.1,
          0.2,
          0.3,
          0.4,
          0.5,
          0.6,
          0.7,
          0.8,
          0.9,
          1
         ],
         "y": [
          0.3634071181765155,
          0.40762191662994546,
          0.4532352420712456,
          0.5012981486646997,
          0.552861690574591,
          0.6089769219652029,
          0.670694897000819,
          0.7390666698457228,
          0.8151432946641974,
          0.8999758256205267,
          0.9946153168789936,
          1.100112822603882,
          1.2175193969594753,
          1.3478860941100568,
          1.4922639682199101,
          1.6517040734533184,
          1.8272574639745656,
          2.0199751939479342,
          2.230908317537709,
          2.461107888908172,
          2.711624962223608
         ]
        }
       ],
       "frames": [],
       "layout": {
        "margin": {
         "b": 50,
         "l": 50,
         "r": 50,
         "t": 60
        },
        "template": {
         "data": {
          "bar": [
           {
            "error_x": {
             "color": "#2a3f5f"
            },
            "error_y": {
             "color": "#2a3f5f"
            },
            "marker": {
             "line": {
              "color": "#E5ECF6",
              "width": 0.5
             }
            },
            "type": "bar"
           }
          ],
          "barpolar": [
           {
            "marker": {
             "line": {
              "color": "#E5ECF6",
              "width": 0.5
             }
            },
            "type": "barpolar"
           }
          ],
          "carpet": [
           {
            "aaxis": {
             "endlinecolor": "#2a3f5f",
             "gridcolor": "white",
             "linecolor": "white",
             "minorgridcolor": "white",
             "startlinecolor": "#2a3f5f"
            },
            "baxis": {
             "endlinecolor": "#2a3f5f",
             "gridcolor": "white",
             "linecolor": "white",
             "minorgridcolor": "white",
             "startlinecolor": "#2a3f5f"
            },
            "type": "carpet"
           }
          ],
          "choropleth": [
           {
            "colorbar": {
             "outlinewidth": 0,
             "ticks": ""
            },
            "type": "choropleth"
           }
          ],
          "contour": [
           {
            "colorbar": {
             "outlinewidth": 0,
             "ticks": ""
            },
            "colorscale": [
             [
              0,
              "#0d0887"
             ],
             [
              0.1111111111111111,
              "#46039f"
             ],
             [
              0.2222222222222222,
              "#7201a8"
             ],
             [
              0.3333333333333333,
              "#9c179e"
             ],
             [
              0.4444444444444444,
              "#bd3786"
             ],
             [
              0.5555555555555556,
              "#d8576b"
             ],
             [
              0.6666666666666666,
              "#ed7953"
             ],
             [
              0.7777777777777778,
              "#fb9f3a"
             ],
             [
              0.8888888888888888,
              "#fdca26"
             ],
             [
              1,
              "#f0f921"
             ]
            ],
            "type": "contour"
           }
          ],
          "contourcarpet": [
           {
            "colorbar": {
             "outlinewidth": 0,
             "ticks": ""
            },
            "type": "contourcarpet"
           }
          ],
          "heatmap": [
           {
            "colorbar": {
             "outlinewidth": 0,
             "ticks": ""
            },
            "colorscale": [
             [
              0,
              "#0d0887"
             ],
             [
              0.1111111111111111,
              "#46039f"
             ],
             [
              0.2222222222222222,
              "#7201a8"
             ],
             [
              0.3333333333333333,
              "#9c179e"
             ],
             [
              0.4444444444444444,
              "#bd3786"
             ],
             [
              0.5555555555555556,
              "#d8576b"
             ],
             [
              0.6666666666666666,
              "#ed7953"
             ],
             [
              0.7777777777777778,
              "#fb9f3a"
             ],
             [
              0.8888888888888888,
              "#fdca26"
             ],
             [
              1,
              "#f0f921"
             ]
            ],
            "type": "heatmap"
           }
          ],
          "heatmapgl": [
           {
            "colorbar": {
             "outlinewidth": 0,
             "ticks": ""
            },
            "colorscale": [
             [
              0,
              "#0d0887"
             ],
             [
              0.1111111111111111,
              "#46039f"
             ],
             [
              0.2222222222222222,
              "#7201a8"
             ],
             [
              0.3333333333333333,
              "#9c179e"
             ],
             [
              0.4444444444444444,
              "#bd3786"
             ],
             [
              0.5555555555555556,
              "#d8576b"
             ],
             [
              0.6666666666666666,
              "#ed7953"
             ],
             [
              0.7777777777777778,
              "#fb9f3a"
             ],
             [
              0.8888888888888888,
              "#fdca26"
             ],
             [
              1,
              "#f0f921"
             ]
            ],
            "type": "heatmapgl"
           }
          ],
          "histogram": [
           {
            "marker": {
             "colorbar": {
              "outlinewidth": 0,
              "ticks": ""
             }
            },
            "type": "histogram"
           }
          ],
          "histogram2d": [
           {
            "colorbar": {
             "outlinewidth": 0,
             "ticks": ""
            },
            "colorscale": [
             [
              0,
              "#0d0887"
             ],
             [
              0.1111111111111111,
              "#46039f"
             ],
             [
              0.2222222222222222,
              "#7201a8"
             ],
             [
              0.3333333333333333,
              "#9c179e"
             ],
             [
              0.4444444444444444,
              "#bd3786"
             ],
             [
              0.5555555555555556,
              "#d8576b"
             ],
             [
              0.6666666666666666,
              "#ed7953"
             ],
             [
              0.7777777777777778,
              "#fb9f3a"
             ],
             [
              0.8888888888888888,
              "#fdca26"
             ],
             [
              1,
              "#f0f921"
             ]
            ],
            "type": "histogram2d"
           }
          ],
          "histogram2dcontour": [
           {
            "colorbar": {
             "outlinewidth": 0,
             "ticks": ""
            },
            "colorscale": [
             [
              0,
              "#0d0887"
             ],
             [
              0.1111111111111111,
              "#46039f"
             ],
             [
              0.2222222222222222,
              "#7201a8"
             ],
             [
              0.3333333333333333,
              "#9c179e"
             ],
             [
              0.4444444444444444,
              "#bd3786"
             ],
             [
              0.5555555555555556,
              "#d8576b"
             ],
             [
              0.6666666666666666,
              "#ed7953"
             ],
             [
              0.7777777777777778,
              "#fb9f3a"
             ],
             [
              0.8888888888888888,
              "#fdca26"
             ],
             [
              1,
              "#f0f921"
             ]
            ],
            "type": "histogram2dcontour"
           }
          ],
          "mesh3d": [
           {
            "colorbar": {
             "outlinewidth": 0,
             "ticks": ""
            },
            "type": "mesh3d"
           }
          ],
          "parcoords": [
           {
            "line": {
             "colorbar": {
              "outlinewidth": 0,
              "ticks": ""
             }
            },
            "type": "parcoords"
           }
          ],
          "pie": [
           {
            "automargin": true,
            "type": "pie"
           }
          ],
          "scatter": [
           {
            "marker": {
             "colorbar": {
              "outlinewidth": 0,
              "ticks": ""
             }
            },
            "type": "scatter"
           }
          ],
          "scatter3d": [
           {
            "line": {
             "colorbar": {
              "outlinewidth": 0,
              "ticks": ""
             }
            },
            "marker": {
             "colorbar": {
              "outlinewidth": 0,
              "ticks": ""
             }
            },
            "type": "scatter3d"
           }
          ],
          "scattercarpet": [
           {
            "marker": {
             "colorbar": {
              "outlinewidth": 0,
              "ticks": ""
             }
            },
            "type": "scattercarpet"
           }
          ],
          "scattergeo": [
           {
            "marker": {
             "colorbar": {
              "outlinewidth": 0,
              "ticks": ""
             }
            },
            "type": "scattergeo"
           }
          ],
          "scattergl": [
           {
            "marker": {
             "colorbar": {
              "outlinewidth": 0,
              "ticks": ""
             }
            },
            "type": "scattergl"
           }
          ],
          "scattermapbox": [
           {
            "marker": {
             "colorbar": {
              "outlinewidth": 0,
              "ticks": ""
             }
            },
            "type": "scattermapbox"
           }
          ],
          "scatterpolar": [
           {
            "marker": {
             "colorbar": {
              "outlinewidth": 0,
              "ticks": ""
             }
            },
            "type": "scatterpolar"
           }
          ],
          "scatterpolargl": [
           {
            "marker": {
             "colorbar": {
              "outlinewidth": 0,
              "ticks": ""
             }
            },
            "type": "scatterpolargl"
           }
          ],
          "scatterternary": [
           {
            "marker": {
             "colorbar": {
              "outlinewidth": 0,
              "ticks": ""
             }
            },
            "type": "scatterternary"
           }
          ],
          "surface": [
           {
            "colorbar": {
             "outlinewidth": 0,
             "ticks": ""
            },
            "colorscale": [
             [
              0,
              "#0d0887"
             ],
             [
              0.1111111111111111,
              "#46039f"
             ],
             [
              0.2222222222222222,
              "#7201a8"
             ],
             [
              0.3333333333333333,
              "#9c179e"
             ],
             [
              0.4444444444444444,
              "#bd3786"
             ],
             [
              0.5555555555555556,
              "#d8576b"
             ],
             [
              0.6666666666666666,
              "#ed7953"
             ],
             [
              0.7777777777777778,
              "#fb9f3a"
             ],
             [
              0.8888888888888888,
              "#fdca26"
             ],
             [
              1,
              "#f0f921"
             ]
            ],
            "type": "surface"
           }
          ],
          "table": [
           {
            "cells": {
             "fill": {
              "color": "#EBF0F8"
             },
             "line": {
              "color": "white"
             }
            },
            "header": {
             "fill": {
              "color": "#C8D4E3"
             },
             "line": {
              "color": "white"
             }
            },
            "type": "table"
           }
          ]
         },
         "layout": {
          "annotationdefaults": {
           "arrowcolor": "#2a3f5f",
           "arrowhead": 0,
           "arrowwidth": 1
          },
          "autotypenumbers": "strict",
          "coloraxis": {
           "colorbar": {
            "outlinewidth": 0,
            "ticks": ""
           }
          },
          "colorscale": {
           "diverging": [
            [
             0,
             "#8e0152"
            ],
            [
             0.1,
             "#c51b7d"
            ],
            [
             0.2,
             "#de77ae"
            ],
            [
             0.3,
             "#f1b6da"
            ],
            [
             0.4,
             "#fde0ef"
            ],
            [
             0.5,
             "#f7f7f7"
            ],
            [
             0.6,
             "#e6f5d0"
            ],
            [
             0.7,
             "#b8e186"
            ],
            [
             0.8,
             "#7fbc41"
            ],
            [
             0.9,
             "#4d9221"
            ],
            [
             1,
             "#276419"
            ]
           ],
           "sequential": [
            [
             0,
             "#0d0887"
            ],
            [
             0.1111111111111111,
             "#46039f"
            ],
            [
             0.2222222222222222,
             "#7201a8"
            ],
            [
             0.3333333333333333,
             "#9c179e"
            ],
            [
             0.4444444444444444,
             "#bd3786"
            ],
            [
             0.5555555555555556,
             "#d8576b"
            ],
            [
             0.6666666666666666,
             "#ed7953"
            ],
            [
             0.7777777777777778,
             "#fb9f3a"
            ],
            [
             0.8888888888888888,
             "#fdca26"
            ],
            [
             1,
             "#f0f921"
            ]
           ],
           "sequentialminus": [
            [
             0,
             "#0d0887"
            ],
            [
             0.1111111111111111,
             "#46039f"
            ],
            [
             0.2222222222222222,
             "#7201a8"
            ],
            [
             0.3333333333333333,
             "#9c179e"
            ],
            [
             0.4444444444444444,
             "#bd3786"
            ],
            [
             0.5555555555555556,
             "#d8576b"
            ],
            [
             0.6666666666666666,
             "#ed7953"
            ],
            [
             0.7777777777777778,
             "#fb9f3a"
            ],
            [
             0.8888888888888888,
             "#fdca26"
            ],
            [
             1,
             "#f0f921"
            ]
           ]
          },
          "colorway": [
           "#636efa",
           "#EF553B",
           "#00cc96",
           "#ab63fa",
           "#FFA15A",
           "#19d3f3",
           "#FF6692",
           "#B6E880",
           "#FF97FF",
           "#FECB52"
          ],
          "font": {
           "color": "#2a3f5f"
          },
          "geo": {
           "bgcolor": "white",
           "lakecolor": "white",
           "landcolor": "#E5ECF6",
           "showlakes": true,
           "showland": true,
           "subunitcolor": "white"
          },
          "hoverlabel": {
           "align": "left"
          },
          "hovermode": "closest",
          "mapbox": {
           "style": "light"
          },
          "paper_bgcolor": "white",
          "plot_bgcolor": "#E5ECF6",
          "polar": {
           "angularaxis": {
            "gridcolor": "white",
            "linecolor": "white",
            "ticks": ""
           },
           "bgcolor": "#E5ECF6",
           "radialaxis": {
            "gridcolor": "white",
            "linecolor": "white",
            "ticks": ""
           }
          },
          "scene": {
           "xaxis": {
            "backgroundcolor": "#E5ECF6",
            "gridcolor": "white",
            "gridwidth": 2,
            "linecolor": "white",
            "showbackground": true,
            "ticks": "",
            "zerolinecolor": "white"
           },
           "yaxis": {
            "backgroundcolor": "#E5ECF6",
            "gridcolor": "white",
            "gridwidth": 2,
            "linecolor": "white",
            "showbackground": true,
            "ticks": "",
            "zerolinecolor": "white"
           },
           "zaxis": {
            "backgroundcolor": "#E5ECF6",
            "gridcolor": "white",
            "gridwidth": 2,
            "linecolor": "white",
            "showbackground": true,
            "ticks": "",
            "zerolinecolor": "white"
           }
          },
          "shapedefaults": {
           "line": {
            "color": "#2a3f5f"
           }
          },
          "ternary": {
           "aaxis": {
            "gridcolor": "white",
            "linecolor": "white",
            "ticks": ""
           },
           "baxis": {
            "gridcolor": "white",
            "linecolor": "white",
            "ticks": ""
           },
           "bgcolor": "#E5ECF6",
           "caxis": {
            "gridcolor": "white",
            "linecolor": "white",
            "ticks": ""
           }
          },
          "title": {
           "x": 0.05
          },
          "xaxis": {
           "automargin": true,
           "gridcolor": "white",
           "linecolor": "white",
           "ticks": "",
           "title": {
            "standoff": 15
           },
           "zerolinecolor": "white",
           "zerolinewidth": 2
          },
          "yaxis": {
           "automargin": true,
           "gridcolor": "white",
           "linecolor": "white",
           "ticks": "",
           "title": {
            "standoff": 15
           },
           "zerolinecolor": "white",
           "zerolinewidth": 2
          }
         }
        },
        "title": " Approximation via interpolation with different number of Chebyshev node points",
        "xaxis": {
         "title": {
          "text": "x"
         }
        },
        "yaxis": {
         "title": {
          "text": "y"
         }
        }
       }
      },
      "text/html": [
       "<div\n",
       "    class=\"webio-mountpoint\"\n",
       "    data-webio-mountpoint=\"8103796660114208951\"\n",
       ">\n",
       "    <script>\n",
       "    (function(){\n",
       "    // Some integrations (namely, IJulia/Jupyter) use an alternate render pathway than\n",
       "    // just putting the html on the page. If WebIO isn't defined, then it's pretty likely\n",
       "    // that we're in one of those situations and the integration just isn't installed\n",
       "    // correctly.\n",
       "    if (typeof window.WebIO === \"undefined\") {\n",
       "        document\n",
       "            .querySelector('[data-webio-mountpoint=\"8103796660114208951\"]')\n",
       "            .innerHTML = (\n",
       "                '<div style=\"padding: 1em; background-color: #f8d6da; border: 1px solid #f5c6cb; font-weight: bold;\">' +\n",
       "                '<p><strong>WebIO not detected.</strong></p>' +\n",
       "                '<p>Please read ' +\n",
       "                '<a href=\"https://juliagizmos.github.io/WebIO.jl/latest/troubleshooting/not-detected/\" target=\"_blank\">the troubleshooting guide</a> ' +\n",
       "                'for more information on how to resolve this issue.</p>' +\n",
       "                '<p><a href=\"https://juliagizmos.github.io/WebIO.jl/latest/troubleshooting/not-detected/\" target=\"_blank\">https://juliagizmos.github.io/WebIO.jl/latest/troubleshooting/not-detected/</a></p>' +\n",
       "                '</div>'\n",
       "            );\n",
       "        return;\n",
       "    }\n",
       "    WebIO.mount(\n",
       "        document.querySelector('[data-webio-mountpoint=\"8103796660114208951\"]'),\n",
       "        {\"props\":{},\"nodeType\":\"Scope\",\"type\":\"node\",\"instanceArgs\":{\"imports\":{\"data\":[{\"name\":\"Plotly\",\"type\":\"js\",\"url\":\"\\/assetserver\\/499590eaec904dd55fafb36dbac61b115c3c7397-plotly.min.js\"},{\"name\":null,\"type\":\"js\",\"url\":\"\\/assetserver\\/516b44ebc40e7d2763d8f7a52f8fb4f892cb9be8-plotly_webio.bundle.js\"}],\"type\":\"async_block\"},\"id\":\"6406573697645804599\",\"handlers\":{\"_toImage\":[\"(function (options){return this.Plotly.toImage(this.plotElem,options).then((function (data){return WebIO.setval({\\\"name\\\":\\\"image\\\",\\\"scope\\\":\\\"6406573697645804599\\\",\\\"id\\\":\\\"14157727302819117984\\\",\\\"type\\\":\\\"observable\\\"},data)}))})\"],\"__get_gd_contents\":[\"(function (prop){prop==\\\"data\\\" ? (WebIO.setval({\\\"name\\\":\\\"__gd_contents\\\",\\\"scope\\\":\\\"6406573697645804599\\\",\\\"id\\\":\\\"6889937785372359447\\\",\\\"type\\\":\\\"observable\\\"},this.plotElem.data)) : undefined; return prop==\\\"layout\\\" ? (WebIO.setval({\\\"name\\\":\\\"__gd_contents\\\",\\\"scope\\\":\\\"6406573697645804599\\\",\\\"id\\\":\\\"6889937785372359447\\\",\\\"type\\\":\\\"observable\\\"},this.plotElem.layout)) : undefined})\"],\"_downloadImage\":[\"(function (options){return this.Plotly.downloadImage(this.plotElem,options)})\"],\"_commands\":[\"(function (args){var fn=args.shift(); var elem=this.plotElem; var Plotly=this.Plotly; args.unshift(elem); return Plotly[fn].apply(this,args)})\"]},\"systemjs_options\":null,\"mount_callbacks\":[\"function () {\\n    var handler = ((function (Plotly,PlotlyWebIO){PlotlyWebIO.init(WebIO); var gd=this.dom.querySelector(\\\"#plot-95140b21-528c-4cbb-aa7a-2771d1967b29\\\"); this.plotElem=gd; this.Plotly=Plotly; (window.Blink!==undefined) ? (gd.style.width=\\\"100%\\\", gd.style.height=\\\"100vh\\\", gd.style.marginLeft=\\\"0%\\\", gd.style.marginTop=\\\"0vh\\\") : undefined; window.onresize=(function (){return Plotly.Plots.resize(gd)}); Plotly.newPlot(gd,[{\\\"mode\\\":\\\"lines\\\",\\\"y\\\":[0.36787944117144233,0.4065696597405991,0.44932896411722156,0.4965853037914095,0.5488116360940265,0.6065306597126334,0.6703200460356393,0.7408182206817179,0.8187307530779818,0.9048374180359595,1.0,1.1051709180756477,1.2214027581601699,1.3498588075760032,1.4918246976412703,1.6487212707001282,1.8221188003905089,2.0137527074704766,2.225540928492468,2.45960311115695,2.718281828459045],\\\"type\\\":\\\"scatter\\\",\\\"name\\\":\\\"Exact function\\\",\\\"x\\\":[-1.0,-0.9,-0.8,-0.7,-0.6,-0.5,-0.4,-0.3,-0.2,-0.1,0.0,0.1,0.2,0.3,0.4,0.5,0.6,0.7,0.8,0.9,1.0]},{\\\"mode\\\":\\\"lines\\\",\\\"y\\\":[1.0,1.0,1.0,1.0,1.0,1.0,1.0,1.0,1.0,1.0,1.0,1.0,1.0,1.0,1.0,1.0,1.0,1.0,1.0,1.0,1.0],\\\"type\\\":\\\"scatter\\\",\\\"name\\\":\\\"Approximation with 1 point\\\",\\\"x\\\":[-1.0,-0.9,-0.8,-0.7,-0.6,-0.5,-0.4,-0.3,-0.2,-0.1,0.0,0.1,0.2,0.3,0.4,0.5,0.6,0.7,0.8,0.9,1.0]},{\\\"mode\\\":\\\"markers\\\",\\\"y\\\":[0.17515019524874909,0.2836943593760098,0.3922385235032705,0.5007826876305312,0.609326851757792,0.7178710158850526,0.8264151800123133,0.934959344139574,1.0435035082668347,1.1520476723940956,1.2605918365213562,1.3691360006486168,1.4776801647758775,1.5862243289031384,1.694768493030399,1.8033126571576599,1.9118568212849205,2.020400985412181,2.128945149539442,2.2374893136667025,2.3460334777939633],\\\"type\\\":\\\"scatter\\\",\\\"name\\\":\\\"Approximation with 2 points\\\",\\\"x\\\":[-1.0,-0.9,-0.8,-0.7,-0.6,-0.5,-0.4,-0.3,-0.2,-0.1,0.0,0.1,0.2,0.3,0.4,0.5,0.6,0.7,0.8,0.9,1.0]},{\\\"mode\\\":\\\"markers\\\",\\\"y\\\":[0.4022697175985732,0.41415898376129917,0.43668908594122874,0.4698600241383622,0.5136717983526993,0.5681244085842401,0.6332178548329847,0.7089521370989329,0.7953272553820848,0.8923432096824406,1.0,1.118297626334763,1.24723608868673,1.3868153870559008,1.537035521442275,1.697896491845853,1.8693982982666348,2.05154094070462,2.2443244191598097,2.4477487336322024,2.6618138841217993],\\\"type\\\":\\\"scatter\\\",\\\"name\\\":\\\"Approximation with 3 points\\\",\\\"x\\\":[-1.0,-0.9,-0.8,-0.7,-0.6,-0.5,-0.4,-0.3,-0.2,-0.1,0.0,0.1,0.2,0.3,0.4,0.5,0.6,0.7,0.8,0.9,1.0]},{\\\"mode\\\":\\\"markers\\\",\\\"y\\\":[0.3634071181765155,0.40762191662994546,0.4532352420712456,0.5012981486646997,0.552861690574591,0.6089769219652029,0.670694897000819,0.7390666698457228,0.8151432946641974,0.8999758256205267,0.9946153168789936,1.100112822603882,1.2175193969594753,1.3478860941100568,1.4922639682199101,1.6517040734533184,1.8272574639745656,2.0199751939479342,2.230908317537709,2.461107888908172,2.711624962223608],\\\"type\\\":\\\"scatter\\\",\\\"name\\\":\\\"Approximation with 4 points\\\",\\\"x\\\":[-1.0,-0.9,-0.8,-0.7,-0.6,-0.5,-0.4,-0.3,-0.2,-0.1,0.0,0.1,0.2,0.3,0.4,0.5,0.6,0.7,0.8,0.9,1.0]}],{\\\"xaxis\\\":{\\\"title\\\":{\\\"text\\\":\\\"x\\\"}},\\\"template\\\":{\\\"layout\\\":{\\\"coloraxis\\\":{\\\"colorbar\\\":{\\\"ticks\\\":\\\"\\\",\\\"outlinewidth\\\":0}},\\\"xaxis\\\":{\\\"gridcolor\\\":\\\"white\\\",\\\"zerolinewidth\\\":2,\\\"title\\\":{\\\"standoff\\\":15},\\\"ticks\\\":\\\"\\\",\\\"zerolinecolor\\\":\\\"white\\\",\\\"automargin\\\":true,\\\"linecolor\\\":\\\"white\\\"},\\\"hovermode\\\":\\\"closest\\\",\\\"paper_bgcolor\\\":\\\"white\\\",\\\"geo\\\":{\\\"showlakes\\\":true,\\\"showland\\\":true,\\\"landcolor\\\":\\\"#E5ECF6\\\",\\\"bgcolor\\\":\\\"white\\\",\\\"subunitcolor\\\":\\\"white\\\",\\\"lakecolor\\\":\\\"white\\\"},\\\"colorscale\\\":{\\\"sequential\\\":[[0.0,\\\"#0d0887\\\"],[0.1111111111111111,\\\"#46039f\\\"],[0.2222222222222222,\\\"#7201a8\\\"],[0.3333333333333333,\\\"#9c179e\\\"],[0.4444444444444444,\\\"#bd3786\\\"],[0.5555555555555556,\\\"#d8576b\\\"],[0.6666666666666666,\\\"#ed7953\\\"],[0.7777777777777778,\\\"#fb9f3a\\\"],[0.8888888888888888,\\\"#fdca26\\\"],[1.0,\\\"#f0f921\\\"]],\\\"diverging\\\":[[0,\\\"#8e0152\\\"],[0.1,\\\"#c51b7d\\\"],[0.2,\\\"#de77ae\\\"],[0.3,\\\"#f1b6da\\\"],[0.4,\\\"#fde0ef\\\"],[0.5,\\\"#f7f7f7\\\"],[0.6,\\\"#e6f5d0\\\"],[0.7,\\\"#b8e186\\\"],[0.8,\\\"#7fbc41\\\"],[0.9,\\\"#4d9221\\\"],[1,\\\"#276419\\\"]],\\\"sequentialminus\\\":[[0.0,\\\"#0d0887\\\"],[0.1111111111111111,\\\"#46039f\\\"],[0.2222222222222222,\\\"#7201a8\\\"],[0.3333333333333333,\\\"#9c179e\\\"],[0.4444444444444444,\\\"#bd3786\\\"],[0.5555555555555556,\\\"#d8576b\\\"],[0.6666666666666666,\\\"#ed7953\\\"],[0.7777777777777778,\\\"#fb9f3a\\\"],[0.8888888888888888,\\\"#fdca26\\\"],[1.0,\\\"#f0f921\\\"]]},\\\"yaxis\\\":{\\\"gridcolor\\\":\\\"white\\\",\\\"zerolinewidth\\\":2,\\\"title\\\":{\\\"standoff\\\":15},\\\"ticks\\\":\\\"\\\",\\\"zerolinecolor\\\":\\\"white\\\",\\\"automargin\\\":true,\\\"linecolor\\\":\\\"white\\\"},\\\"shapedefaults\\\":{\\\"line\\\":{\\\"color\\\":\\\"#2a3f5f\\\"}},\\\"hoverlabel\\\":{\\\"align\\\":\\\"left\\\"},\\\"mapbox\\\":{\\\"style\\\":\\\"light\\\"},\\\"polar\\\":{\\\"angularaxis\\\":{\\\"gridcolor\\\":\\\"white\\\",\\\"ticks\\\":\\\"\\\",\\\"linecolor\\\":\\\"white\\\"},\\\"bgcolor\\\":\\\"#E5ECF6\\\",\\\"radialaxis\\\":{\\\"gridcolor\\\":\\\"white\\\",\\\"ticks\\\":\\\"\\\",\\\"linecolor\\\":\\\"white\\\"}},\\\"autotypenumbers\\\":\\\"strict\\\",\\\"font\\\":{\\\"color\\\":\\\"#2a3f5f\\\"},\\\"ternary\\\":{\\\"baxis\\\":{\\\"gridcolor\\\":\\\"white\\\",\\\"ticks\\\":\\\"\\\",\\\"linecolor\\\":\\\"white\\\"},\\\"bgcolor\\\":\\\"#E5ECF6\\\",\\\"caxis\\\":{\\\"gridcolor\\\":\\\"white\\\",\\\"ticks\\\":\\\"\\\",\\\"linecolor\\\":\\\"white\\\"},\\\"aaxis\\\":{\\\"gridcolor\\\":\\\"white\\\",\\\"ticks\\\":\\\"\\\",\\\"linecolor\\\":\\\"white\\\"}},\\\"annotationdefaults\\\":{\\\"arrowhead\\\":0,\\\"arrowwidth\\\":1,\\\"arrowcolor\\\":\\\"#2a3f5f\\\"},\\\"plot_bgcolor\\\":\\\"#E5ECF6\\\",\\\"title\\\":{\\\"x\\\":0.05},\\\"scene\\\":{\\\"xaxis\\\":{\\\"gridcolor\\\":\\\"white\\\",\\\"gridwidth\\\":2,\\\"backgroundcolor\\\":\\\"#E5ECF6\\\",\\\"ticks\\\":\\\"\\\",\\\"showbackground\\\":true,\\\"zerolinecolor\\\":\\\"white\\\",\\\"linecolor\\\":\\\"white\\\"},\\\"zaxis\\\":{\\\"gridcolor\\\":\\\"white\\\",\\\"gridwidth\\\":2,\\\"backgroundcolor\\\":\\\"#E5ECF6\\\",\\\"ticks\\\":\\\"\\\",\\\"showbackground\\\":true,\\\"zerolinecolor\\\":\\\"white\\\",\\\"linecolor\\\":\\\"white\\\"},\\\"yaxis\\\":{\\\"gridcolor\\\":\\\"white\\\",\\\"gridwidth\\\":2,\\\"backgroundcolor\\\":\\\"#E5ECF6\\\",\\\"ticks\\\":\\\"\\\",\\\"showbackground\\\":true,\\\"zerolinecolor\\\":\\\"white\\\",\\\"linecolor\\\":\\\"white\\\"}},\\\"colorway\\\":[\\\"#636efa\\\",\\\"#EF553B\\\",\\\"#00cc96\\\",\\\"#ab63fa\\\",\\\"#FFA15A\\\",\\\"#19d3f3\\\",\\\"#FF6692\\\",\\\"#B6E880\\\",\\\"#FF97FF\\\",\\\"#FECB52\\\"]},\\\"data\\\":{\\\"barpolar\\\":[{\\\"type\\\":\\\"barpolar\\\",\\\"marker\\\":{\\\"line\\\":{\\\"color\\\":\\\"#E5ECF6\\\",\\\"width\\\":0.5}}}],\\\"carpet\\\":[{\\\"aaxis\\\":{\\\"gridcolor\\\":\\\"white\\\",\\\"endlinecolor\\\":\\\"#2a3f5f\\\",\\\"minorgridcolor\\\":\\\"white\\\",\\\"startlinecolor\\\":\\\"#2a3f5f\\\",\\\"linecolor\\\":\\\"white\\\"},\\\"type\\\":\\\"carpet\\\",\\\"baxis\\\":{\\\"gridcolor\\\":\\\"white\\\",\\\"endlinecolor\\\":\\\"#2a3f5f\\\",\\\"minorgridcolor\\\":\\\"white\\\",\\\"startlinecolor\\\":\\\"#2a3f5f\\\",\\\"linecolor\\\":\\\"white\\\"}}],\\\"scatterpolar\\\":[{\\\"type\\\":\\\"scatterpolar\\\",\\\"marker\\\":{\\\"colorbar\\\":{\\\"ticks\\\":\\\"\\\",\\\"outlinewidth\\\":0}}}],\\\"parcoords\\\":[{\\\"line\\\":{\\\"colorbar\\\":{\\\"ticks\\\":\\\"\\\",\\\"outlinewidth\\\":0}},\\\"type\\\":\\\"parcoords\\\"}],\\\"scatter\\\":[{\\\"type\\\":\\\"scatter\\\",\\\"marker\\\":{\\\"colorbar\\\":{\\\"ticks\\\":\\\"\\\",\\\"outlinewidth\\\":0}}}],\\\"histogram2dcontour\\\":[{\\\"colorbar\\\":{\\\"ticks\\\":\\\"\\\",\\\"outlinewidth\\\":0},\\\"type\\\":\\\"histogram2dcontour\\\",\\\"colorscale\\\":[[0.0,\\\"#0d0887\\\"],[0.1111111111111111,\\\"#46039f\\\"],[0.2222222222222222,\\\"#7201a8\\\"],[0.3333333333333333,\\\"#9c179e\\\"],[0.4444444444444444,\\\"#bd3786\\\"],[0.5555555555555556,\\\"#d8576b\\\"],[0.6666666666666666,\\\"#ed7953\\\"],[0.7777777777777778,\\\"#fb9f3a\\\"],[0.8888888888888888,\\\"#fdca26\\\"],[1.0,\\\"#f0f921\\\"]]}],\\\"contour\\\":[{\\\"colorbar\\\":{\\\"ticks\\\":\\\"\\\",\\\"outlinewidth\\\":0},\\\"type\\\":\\\"contour\\\",\\\"colorscale\\\":[[0.0,\\\"#0d0887\\\"],[0.1111111111111111,\\\"#46039f\\\"],[0.2222222222222222,\\\"#7201a8\\\"],[0.3333333333333333,\\\"#9c179e\\\"],[0.4444444444444444,\\\"#bd3786\\\"],[0.5555555555555556,\\\"#d8576b\\\"],[0.6666666666666666,\\\"#ed7953\\\"],[0.7777777777777778,\\\"#fb9f3a\\\"],[0.8888888888888888,\\\"#fdca26\\\"],[1.0,\\\"#f0f921\\\"]]}],\\\"scattercarpet\\\":[{\\\"type\\\":\\\"scattercarpet\\\",\\\"marker\\\":{\\\"colorbar\\\":{\\\"ticks\\\":\\\"\\\",\\\"outlinewidth\\\":0}}}],\\\"mesh3d\\\":[{\\\"colorbar\\\":{\\\"ticks\\\":\\\"\\\",\\\"outlinewidth\\\":0},\\\"type\\\":\\\"mesh3d\\\"}],\\\"surface\\\":[{\\\"colorbar\\\":{\\\"ticks\\\":\\\"\\\",\\\"outlinewidth\\\":0},\\\"type\\\":\\\"surface\\\",\\\"colorscale\\\":[[0.0,\\\"#0d0887\\\"],[0.1111111111111111,\\\"#46039f\\\"],[0.2222222222222222,\\\"#7201a8\\\"],[0.3333333333333333,\\\"#9c179e\\\"],[0.4444444444444444,\\\"#bd3786\\\"],[0.5555555555555556,\\\"#d8576b\\\"],[0.6666666666666666,\\\"#ed7953\\\"],[0.7777777777777778,\\\"#fb9f3a\\\"],[0.8888888888888888,\\\"#fdca26\\\"],[1.0,\\\"#f0f921\\\"]]}],\\\"scattermapbox\\\":[{\\\"type\\\":\\\"scattermapbox\\\",\\\"marker\\\":{\\\"colorbar\\\":{\\\"ticks\\\":\\\"\\\",\\\"outlinewidth\\\":0}}}],\\\"scattergeo\\\":[{\\\"type\\\":\\\"scattergeo\\\",\\\"marker\\\":{\\\"colorbar\\\":{\\\"ticks\\\":\\\"\\\",\\\"outlinewidth\\\":0}}}],\\\"histogram\\\":[{\\\"type\\\":\\\"histogram\\\",\\\"marker\\\":{\\\"colorbar\\\":{\\\"ticks\\\":\\\"\\\",\\\"outlinewidth\\\":0}}}],\\\"pie\\\":[{\\\"type\\\":\\\"pie\\\",\\\"automargin\\\":true}],\\\"choropleth\\\":[{\\\"colorbar\\\":{\\\"ticks\\\":\\\"\\\",\\\"outlinewidth\\\":0},\\\"type\\\":\\\"choropleth\\\"}],\\\"heatmapgl\\\":[{\\\"colorbar\\\":{\\\"ticks\\\":\\\"\\\",\\\"outlinewidth\\\":0},\\\"type\\\":\\\"heatmapgl\\\",\\\"colorscale\\\":[[0.0,\\\"#0d0887\\\"],[0.1111111111111111,\\\"#46039f\\\"],[0.2222222222222222,\\\"#7201a8\\\"],[0.3333333333333333,\\\"#9c179e\\\"],[0.4444444444444444,\\\"#bd3786\\\"],[0.5555555555555556,\\\"#d8576b\\\"],[0.6666666666666666,\\\"#ed7953\\\"],[0.7777777777777778,\\\"#fb9f3a\\\"],[0.8888888888888888,\\\"#fdca26\\\"],[1.0,\\\"#f0f921\\\"]]}],\\\"bar\\\":[{\\\"type\\\":\\\"bar\\\",\\\"error_y\\\":{\\\"color\\\":\\\"#2a3f5f\\\"},\\\"error_x\\\":{\\\"color\\\":\\\"#2a3f5f\\\"},\\\"marker\\\":{\\\"line\\\":{\\\"color\\\":\\\"#E5ECF6\\\",\\\"width\\\":0.5}}}],\\\"heatmap\\\":[{\\\"colorbar\\\":{\\\"ticks\\\":\\\"\\\",\\\"outlinewidth\\\":0},\\\"type\\\":\\\"heatmap\\\",\\\"colorscale\\\":[[0.0,\\\"#0d0887\\\"],[0.1111111111111111,\\\"#46039f\\\"],[0.2222222222222222,\\\"#7201a8\\\"],[0.3333333333333333,\\\"#9c179e\\\"],[0.4444444444444444,\\\"#bd3786\\\"],[0.5555555555555556,\\\"#d8576b\\\"],[0.6666666666666666,\\\"#ed7953\\\"],[0.7777777777777778,\\\"#fb9f3a\\\"],[0.8888888888888888,\\\"#fdca26\\\"],[1.0,\\\"#f0f921\\\"]]}],\\\"contourcarpet\\\":[{\\\"colorbar\\\":{\\\"ticks\\\":\\\"\\\",\\\"outlinewidth\\\":0},\\\"type\\\":\\\"contourcarpet\\\"}],\\\"table\\\":[{\\\"type\\\":\\\"table\\\",\\\"header\\\":{\\\"line\\\":{\\\"color\\\":\\\"white\\\"},\\\"fill\\\":{\\\"color\\\":\\\"#C8D4E3\\\"}},\\\"cells\\\":{\\\"line\\\":{\\\"color\\\":\\\"white\\\"},\\\"fill\\\":{\\\"color\\\":\\\"#EBF0F8\\\"}}}],\\\"scatter3d\\\":[{\\\"line\\\":{\\\"colorbar\\\":{\\\"ticks\\\":\\\"\\\",\\\"outlinewidth\\\":0}},\\\"type\\\":\\\"scatter3d\\\",\\\"marker\\\":{\\\"colorbar\\\":{\\\"ticks\\\":\\\"\\\",\\\"outlinewidth\\\":0}}}],\\\"scattergl\\\":[{\\\"type\\\":\\\"scattergl\\\",\\\"marker\\\":{\\\"colorbar\\\":{\\\"ticks\\\":\\\"\\\",\\\"outlinewidth\\\":0}}}],\\\"histogram2d\\\":[{\\\"colorbar\\\":{\\\"ticks\\\":\\\"\\\",\\\"outlinewidth\\\":0},\\\"type\\\":\\\"histogram2d\\\",\\\"colorscale\\\":[[0.0,\\\"#0d0887\\\"],[0.1111111111111111,\\\"#46039f\\\"],[0.2222222222222222,\\\"#7201a8\\\"],[0.3333333333333333,\\\"#9c179e\\\"],[0.4444444444444444,\\\"#bd3786\\\"],[0.5555555555555556,\\\"#d8576b\\\"],[0.6666666666666666,\\\"#ed7953\\\"],[0.7777777777777778,\\\"#fb9f3a\\\"],[0.8888888888888888,\\\"#fdca26\\\"],[1.0,\\\"#f0f921\\\"]]}],\\\"scatterternary\\\":[{\\\"type\\\":\\\"scatterternary\\\",\\\"marker\\\":{\\\"colorbar\\\":{\\\"ticks\\\":\\\"\\\",\\\"outlinewidth\\\":0}}}],\\\"scatterpolargl\\\":[{\\\"type\\\":\\\"scatterpolargl\\\",\\\"marker\\\":{\\\"colorbar\\\":{\\\"ticks\\\":\\\"\\\",\\\"outlinewidth\\\":0}}}]}},\\\"margin\\\":{\\\"l\\\":50,\\\"b\\\":50,\\\"r\\\":50,\\\"t\\\":60},\\\"title\\\":\\\" Approximation via interpolation with different number of Chebyshev node points\\\",\\\"yaxis\\\":{\\\"title\\\":{\\\"text\\\":\\\"y\\\"}}},{\\\"showLink\\\":false,\\\"editable\\\":false,\\\"responsive\\\":true,\\\"staticPlot\\\":false,\\\"scrollZoom\\\":true}); gd.on(\\\"plotly_hover\\\",(function (data){var filtered_data=WebIO.PlotlyCommands.filterEventData(gd,data,\\\"hover\\\"); return !(filtered_data.isnil) ? (WebIO.setval({\\\"name\\\":\\\"hover\\\",\\\"scope\\\":\\\"6406573697645804599\\\",\\\"id\\\":\\\"16509859134182183980\\\",\\\"type\\\":\\\"observable\\\"},filtered_data.out)) : undefined})); gd.on(\\\"plotly_unhover\\\",(function (){return WebIO.setval({\\\"name\\\":\\\"hover\\\",\\\"scope\\\":\\\"6406573697645804599\\\",\\\"id\\\":\\\"16509859134182183980\\\",\\\"type\\\":\\\"observable\\\"},{})})); gd.on(\\\"plotly_selected\\\",(function (data){var filtered_data=WebIO.PlotlyCommands.filterEventData(gd,data,\\\"selected\\\"); return !(filtered_data.isnil) ? (WebIO.setval({\\\"name\\\":\\\"selected\\\",\\\"scope\\\":\\\"6406573697645804599\\\",\\\"id\\\":\\\"2819918622216026233\\\",\\\"type\\\":\\\"observable\\\"},filtered_data.out)) : undefined})); gd.on(\\\"plotly_deselect\\\",(function (){return WebIO.setval({\\\"name\\\":\\\"selected\\\",\\\"scope\\\":\\\"6406573697645804599\\\",\\\"id\\\":\\\"2819918622216026233\\\",\\\"type\\\":\\\"observable\\\"},{})})); gd.on(\\\"plotly_relayout\\\",(function (data){var filtered_data=WebIO.PlotlyCommands.filterEventData(gd,data,\\\"relayout\\\"); return !(filtered_data.isnil) ? (WebIO.setval({\\\"name\\\":\\\"relayout\\\",\\\"scope\\\":\\\"6406573697645804599\\\",\\\"id\\\":\\\"14416990933588646120\\\",\\\"type\\\":\\\"observable\\\"},filtered_data.out)) : undefined})); return gd.on(\\\"plotly_click\\\",(function (data){var filtered_data=WebIO.PlotlyCommands.filterEventData(gd,data,\\\"click\\\"); return !(filtered_data.isnil) ? (WebIO.setval({\\\"name\\\":\\\"click\\\",\\\"scope\\\":\\\"6406573697645804599\\\",\\\"id\\\":\\\"6985210592517564245\\\",\\\"type\\\":\\\"observable\\\"},filtered_data.out)) : undefined}))}));\\n    (WebIO.importBlock({\\\"data\\\":[{\\\"name\\\":\\\"Plotly\\\",\\\"type\\\":\\\"js\\\",\\\"url\\\":\\\"\\/assetserver\\/499590eaec904dd55fafb36dbac61b115c3c7397-plotly.min.js\\\"},{\\\"name\\\":null,\\\"type\\\":\\\"js\\\",\\\"url\\\":\\\"\\/assetserver\\/516b44ebc40e7d2763d8f7a52f8fb4f892cb9be8-plotly_webio.bundle.js\\\"}],\\\"type\\\":\\\"async_block\\\"})).then((imports) => handler.apply(this, imports));\\n}\\n\"],\"observables\":{\"_toImage\":{\"sync\":false,\"id\":\"15996279419419861397\",\"value\":{}},\"hover\":{\"sync\":false,\"id\":\"16509859134182183980\",\"value\":{}},\"selected\":{\"sync\":false,\"id\":\"2819918622216026233\",\"value\":{}},\"__gd_contents\":{\"sync\":false,\"id\":\"6889937785372359447\",\"value\":{}},\"click\":{\"sync\":false,\"id\":\"6985210592517564245\",\"value\":{}},\"image\":{\"sync\":true,\"id\":\"14157727302819117984\",\"value\":\"\"},\"__get_gd_contents\":{\"sync\":false,\"id\":\"18267232567804673799\",\"value\":\"\"},\"_downloadImage\":{\"sync\":false,\"id\":\"15548361005795575356\",\"value\":{}},\"relayout\":{\"sync\":false,\"id\":\"14416990933588646120\",\"value\":{}},\"_commands\":{\"sync\":false,\"id\":\"5722076427608590240\",\"value\":[]}}},\"children\":[{\"props\":{\"id\":\"plot-95140b21-528c-4cbb-aa7a-2771d1967b29\"},\"nodeType\":\"DOM\",\"type\":\"node\",\"instanceArgs\":{\"namespace\":\"html\",\"tag\":\"div\"},\"children\":[]}]},\n",
       "        window,\n",
       "    );\n",
       "    })()\n",
       "    </script>\n",
       "</div>\n"
      ],
      "text/plain": [
       "data: [\n",
       "  \"scatter with fields mode, name, type, x, and y\",\n",
       "  \"scatter with fields mode, name, type, x, and y\",\n",
       "  \"scatter with fields mode, name, type, x, and y\",\n",
       "  \"scatter with fields mode, name, type, x, and y\",\n",
       "  \"scatter with fields mode, name, type, x, and y\"\n",
       "]\n",
       "\n",
       "layout: \"layout with fields margin, template, title, xaxis, and yaxis\"\n",
       "\n"
      ]
     },
     "execution_count": 188,
     "metadata": {},
     "output_type": "execute_result"
    }
   ],
   "source": [
    "unit=Interval(-1,1);# define unit interval\n",
    "ChebS=Chebyshev(unit); # define function space\n",
    "\n",
    "#adds left and right endpoints to interior Chebyshev points \n",
    "function add_cheb_endp(p)\n",
    " append!(prepend!(p,1),-1)\n",
    "end\n",
    "\n",
    "func(x)=exp.(x); # define function\n",
    "\n",
    "\n",
    "p1= points(ChebS,1); # one single Chebyshev node point \n",
    "p2= points(ChebS,2); # two points\n",
    "p3= points(ChebS,3); # three points\n",
    "p4= points(ChebS,4); # three points\n",
    "\n",
    "#p2_= add_cheb_endp(p2)\n",
    "#p3_= add_cheb_endp(p3)\n",
    "#p4_= add_cheb_endp(p4)\n",
    "\n",
    "#Evaluate function on different Chebyshev grid points\n",
    "v1=func.(p1);\n",
    "v2=func.(p2);\n",
    "v3=func.(p3);\n",
    "v4=func.(p4);\n",
    "\n",
    "#Approximate via Chebyshev polynomials with increasing order\n",
    "func_1 = Fun(ChebS,transform(ChebS,v1));\n",
    "func_2 = Fun(ChebS,transform(ChebS,v2));\n",
    "func_3 = Fun(ChebS,transform(ChebS,v3));\n",
    "func_4 = Fun(ChebS,transform(ChebS,v4));\n",
    "\n",
    "#Plot results\n",
    "x=-1:0.1:1\n",
    "\n",
    "trace0 = Plotly.scatter(x=x, y=func.(x),mode=\"lines\",name=\"Exact function\")\n",
    "trace1 = Plotly.scatter(x=x, y=func_1.(x),mode=\"lines\",name=\"Approximation with 1 point\")\n",
    "trace2 = Plotly.scatter(x=x, y=func_2.(x),mode=\"markers\", name=\"Approximation with 2 points\")\n",
    "trace3 = Plotly.scatter(x=x, y=func_3.(x),mode=\"markers\",name=\"Approximation with 3 points\")\n",
    "trace4 = Plotly.scatter(x=x, y=func_4.(x),mode=\"markers\",name=\"Approximation with 4 points\")\n",
    "\n",
    "layout = Layout(title=\" Approximation via interpolation with different number of Chebyshev node points\",\n",
    "\n",
    "                   xaxis_title=\"x\",\n",
    "\n",
    "                   yaxis_title=\"y\")\n",
    "\n",
    "# Make plot\n",
    "Plotly.plot([trace0, trace1, trace2,trace3,trace4 ],layout)\n"
   ]
  },
  {
   "cell_type": "markdown",
   "id": "08704583",
   "metadata": {},
   "source": [
    "Compute the maximal error between Chebyshev approximation and exact function among all interplated points:"
   ]
  },
  {
   "cell_type": "code",
   "execution_count": 194,
   "id": "24eaae6e",
   "metadata": {},
   "outputs": [
    {
     "name": "stdout",
     "output_type": "stream",
     "text": [
      "The maximal error between Chebyshev approximation with four points and exact curve among all 21 interpolated points is 0.006656866235437153 and is assumed at the point x = 1.0"
     ]
    }
   ],
   "source": [
    "err=findmax(abs.(func_4.(x)-func.(x)));\n",
    "#returns both maximal error and its location in x\n",
    "\n",
    "print(\"The maximal error between Chebyshev approximation with four points and exact curve among all \", length(x), \n",
    "    \" interpolated points is \",  err[1], \" and is assumed at the point x = \", x[err[2]])"
   ]
  },
  {
   "cell_type": "markdown",
   "id": "bbdfb0e6",
   "metadata": {},
   "source": [
    "We can just let the ApproxFun package compute the approximation automatically to within machine accuracy:"
   ]
  },
  {
   "cell_type": "code",
   "execution_count": 88,
   "id": "f5d6dbcf",
   "metadata": {},
   "outputs": [],
   "source": [
    "func_approx=Fun(exp); # [-1,1] is the default interval if nothing is specified\n",
    "func_approx_=Fun(exp,1..4); # Specify interval of function"
   ]
  },
  {
   "cell_type": "code",
   "execution_count": 105,
   "id": "f517e073",
   "metadata": {},
   "outputs": [
    {
     "data": {
      "image/svg+xml": [
       "<?xml version=\"1.0\" encoding=\"utf-8\"?>\n",
       "<svg xmlns=\"http://www.w3.org/2000/svg\" xmlns:xlink=\"http://www.w3.org/1999/xlink\" width=\"600\" height=\"400\" viewBox=\"0 0 2400 1600\">\n",
       "<defs>\n",
       "  <clipPath id=\"clip720\">\n",
       "    <rect x=\"0\" y=\"0\" width=\"2400\" height=\"1600\"/>\n",
       "  </clipPath>\n",
       "</defs>\n",
       "<path clip-path=\"url(#clip720)\" d=\"\n",
       "M0 1600 L2400 1600 L2400 0 L0 0  Z\n",
       "  \" fill=\"#ffffff\" fill-rule=\"evenodd\" fill-opacity=\"1\"/>\n",
       "<defs>\n",
       "  <clipPath id=\"clip721\">\n",
       "    <rect x=\"480\" y=\"0\" width=\"1681\" height=\"1600\"/>\n",
       "  </clipPath>\n",
       "</defs>\n",
       "<defs>\n",
       "  <clipPath id=\"clip722\">\n",
       "    <rect x=\"175\" y=\"123\" width=\"2178\" height=\"1301\"/>\n",
       "  </clipPath>\n",
       "</defs>\n",
       "<path clip-path=\"url(#clip720)\" d=\"\n",
       "M175.445 1423.18 L2352.76 1423.18 L2352.76 123.472 L175.445 123.472  Z\n",
       "  \" fill=\"#ffffff\" fill-rule=\"evenodd\" fill-opacity=\"1\"/>\n",
       "<polyline clip-path=\"url(#clip722)\" style=\"stroke:#000000; stroke-linecap:round; stroke-linejoin:round; stroke-width:2; stroke-opacity:0.1; fill:none\" points=\"\n",
       "  237.067,1423.18 237.067,123.472 \n",
       "  \"/>\n",
       "<polyline clip-path=\"url(#clip722)\" style=\"stroke:#000000; stroke-linecap:round; stroke-linejoin:round; stroke-width:2; stroke-opacity:0.1; fill:none\" points=\"\n",
       "  647.881,1423.18 647.881,123.472 \n",
       "  \"/>\n",
       "<polyline clip-path=\"url(#clip722)\" style=\"stroke:#000000; stroke-linecap:round; stroke-linejoin:round; stroke-width:2; stroke-opacity:0.1; fill:none\" points=\"\n",
       "  1058.69,1423.18 1058.69,123.472 \n",
       "  \"/>\n",
       "<polyline clip-path=\"url(#clip722)\" style=\"stroke:#000000; stroke-linecap:round; stroke-linejoin:round; stroke-width:2; stroke-opacity:0.1; fill:none\" points=\"\n",
       "  1469.51,1423.18 1469.51,123.472 \n",
       "  \"/>\n",
       "<polyline clip-path=\"url(#clip722)\" style=\"stroke:#000000; stroke-linecap:round; stroke-linejoin:round; stroke-width:2; stroke-opacity:0.1; fill:none\" points=\"\n",
       "  1880.32,1423.18 1880.32,123.472 \n",
       "  \"/>\n",
       "<polyline clip-path=\"url(#clip722)\" style=\"stroke:#000000; stroke-linecap:round; stroke-linejoin:round; stroke-width:2; stroke-opacity:0.1; fill:none\" points=\"\n",
       "  2291.13,1423.18 2291.13,123.472 \n",
       "  \"/>\n",
       "<polyline clip-path=\"url(#clip720)\" style=\"stroke:#000000; stroke-linecap:round; stroke-linejoin:round; stroke-width:4; stroke-opacity:1; fill:none\" points=\"\n",
       "  175.445,1423.18 2352.76,1423.18 \n",
       "  \"/>\n",
       "<polyline clip-path=\"url(#clip720)\" style=\"stroke:#000000; stroke-linecap:round; stroke-linejoin:round; stroke-width:4; stroke-opacity:1; fill:none\" points=\"\n",
       "  237.067,1423.18 237.067,1404.28 \n",
       "  \"/>\n",
       "<polyline clip-path=\"url(#clip720)\" style=\"stroke:#000000; stroke-linecap:round; stroke-linejoin:round; stroke-width:4; stroke-opacity:1; fill:none\" points=\"\n",
       "  647.881,1423.18 647.881,1404.28 \n",
       "  \"/>\n",
       "<polyline clip-path=\"url(#clip720)\" style=\"stroke:#000000; stroke-linecap:round; stroke-linejoin:round; stroke-width:4; stroke-opacity:1; fill:none\" points=\"\n",
       "  1058.69,1423.18 1058.69,1404.28 \n",
       "  \"/>\n",
       "<polyline clip-path=\"url(#clip720)\" style=\"stroke:#000000; stroke-linecap:round; stroke-linejoin:round; stroke-width:4; stroke-opacity:1; fill:none\" points=\"\n",
       "  1469.51,1423.18 1469.51,1404.28 \n",
       "  \"/>\n",
       "<polyline clip-path=\"url(#clip720)\" style=\"stroke:#000000; stroke-linecap:round; stroke-linejoin:round; stroke-width:4; stroke-opacity:1; fill:none\" points=\"\n",
       "  1880.32,1423.18 1880.32,1404.28 \n",
       "  \"/>\n",
       "<polyline clip-path=\"url(#clip720)\" style=\"stroke:#000000; stroke-linecap:round; stroke-linejoin:round; stroke-width:4; stroke-opacity:1; fill:none\" points=\"\n",
       "  2291.13,1423.18 2291.13,1404.28 \n",
       "  \"/>\n",
       "<path clip-path=\"url(#clip720)\" d=\"M183.595 1468.75 L213.271 1468.75 L213.271 1472.69 L183.595 1472.69 L183.595 1468.75 Z\" fill=\"#000000\" fill-rule=\"evenodd\" fill-opacity=\"1\" /><path clip-path=\"url(#clip720)\" d=\"M224.174 1481.64 L231.813 1481.64 L231.813 1455.28 L223.502 1456.95 L223.502 1452.69 L231.766 1451.02 L236.442 1451.02 L236.442 1481.64 L244.081 1481.64 L244.081 1485.58 L224.174 1485.58 L224.174 1481.64 Z\" fill=\"#000000\" fill-rule=\"evenodd\" fill-opacity=\"1\" /><path clip-path=\"url(#clip720)\" d=\"M253.525 1479.7 L258.41 1479.7 L258.41 1485.58 L253.525 1485.58 L253.525 1479.7 Z\" fill=\"#000000\" fill-rule=\"evenodd\" fill-opacity=\"1\" /><path clip-path=\"url(#clip720)\" d=\"M278.595 1454.1 Q274.984 1454.1 273.155 1457.66 Q271.349 1461.2 271.349 1468.33 Q271.349 1475.44 273.155 1479.01 Q274.984 1482.55 278.595 1482.55 Q282.229 1482.55 284.035 1479.01 Q285.863 1475.44 285.863 1468.33 Q285.863 1461.2 284.035 1457.66 Q282.229 1454.1 278.595 1454.1 M278.595 1450.39 Q284.405 1450.39 287.46 1455 Q290.539 1459.58 290.539 1468.33 Q290.539 1477.06 287.46 1481.67 Q284.405 1486.25 278.595 1486.25 Q272.785 1486.25 269.706 1481.67 Q266.65 1477.06 266.65 1468.33 Q266.65 1459.58 269.706 1455 Q272.785 1450.39 278.595 1450.39 Z\" fill=\"#000000\" fill-rule=\"evenodd\" fill-opacity=\"1\" /><path clip-path=\"url(#clip720)\" d=\"M594.906 1468.75 L624.582 1468.75 L624.582 1472.69 L594.906 1472.69 L594.906 1468.75 Z\" fill=\"#000000\" fill-rule=\"evenodd\" fill-opacity=\"1\" /><path clip-path=\"url(#clip720)\" d=\"M644.675 1454.1 Q641.063 1454.1 639.235 1457.66 Q637.429 1461.2 637.429 1468.33 Q637.429 1475.44 639.235 1479.01 Q641.063 1482.55 644.675 1482.55 Q648.309 1482.55 650.114 1479.01 Q651.943 1475.44 651.943 1468.33 Q651.943 1461.2 650.114 1457.66 Q648.309 1454.1 644.675 1454.1 M644.675 1450.39 Q650.485 1450.39 653.54 1455 Q656.619 1459.58 656.619 1468.33 Q656.619 1477.06 653.54 1481.67 Q650.485 1486.25 644.675 1486.25 Q638.864 1486.25 635.786 1481.67 Q632.73 1477.06 632.73 1468.33 Q632.73 1459.58 635.786 1455 Q638.864 1450.39 644.675 1450.39 Z\" fill=\"#000000\" fill-rule=\"evenodd\" fill-opacity=\"1\" /><path clip-path=\"url(#clip720)\" d=\"M664.836 1479.7 L669.721 1479.7 L669.721 1485.58 L664.836 1485.58 L664.836 1479.7 Z\" fill=\"#000000\" fill-rule=\"evenodd\" fill-opacity=\"1\" /><path clip-path=\"url(#clip720)\" d=\"M679.952 1451.02 L698.309 1451.02 L698.309 1454.96 L684.235 1454.96 L684.235 1463.43 Q685.253 1463.08 686.272 1462.92 Q687.29 1462.73 688.309 1462.73 Q694.096 1462.73 697.475 1465.9 Q700.855 1469.08 700.855 1474.49 Q700.855 1480.07 697.383 1483.17 Q693.91 1486.25 687.591 1486.25 Q685.415 1486.25 683.147 1485.88 Q680.901 1485.51 678.494 1484.77 L678.494 1480.07 Q680.577 1481.2 682.799 1481.76 Q685.022 1482.32 687.498 1482.32 Q691.503 1482.32 693.841 1480.21 Q696.179 1478.1 696.179 1474.49 Q696.179 1470.88 693.841 1468.77 Q691.503 1466.67 687.498 1466.67 Q685.623 1466.67 683.748 1467.08 Q681.897 1467.5 679.952 1468.38 L679.952 1451.02 Z\" fill=\"#000000\" fill-rule=\"evenodd\" fill-opacity=\"1\" /><path clip-path=\"url(#clip720)\" d=\"M1036.08 1454.1 Q1032.47 1454.1 1030.64 1457.66 Q1028.83 1461.2 1028.83 1468.33 Q1028.83 1475.44 1030.64 1479.01 Q1032.47 1482.55 1036.08 1482.55 Q1039.71 1482.55 1041.52 1479.01 Q1043.35 1475.44 1043.35 1468.33 Q1043.35 1461.2 1041.52 1457.66 Q1039.71 1454.1 1036.08 1454.1 M1036.08 1450.39 Q1041.89 1450.39 1044.94 1455 Q1048.02 1459.58 1048.02 1468.33 Q1048.02 1477.06 1044.94 1481.67 Q1041.89 1486.25 1036.08 1486.25 Q1030.27 1486.25 1027.19 1481.67 Q1024.13 1477.06 1024.13 1468.33 Q1024.13 1459.58 1027.19 1455 Q1030.27 1450.39 1036.08 1450.39 Z\" fill=\"#000000\" fill-rule=\"evenodd\" fill-opacity=\"1\" /><path clip-path=\"url(#clip720)\" d=\"M1056.24 1479.7 L1061.12 1479.7 L1061.12 1485.58 L1056.24 1485.58 L1056.24 1479.7 Z\" fill=\"#000000\" fill-rule=\"evenodd\" fill-opacity=\"1\" /><path clip-path=\"url(#clip720)\" d=\"M1081.31 1454.1 Q1077.7 1454.1 1075.87 1457.66 Q1074.06 1461.2 1074.06 1468.33 Q1074.06 1475.44 1075.87 1479.01 Q1077.7 1482.55 1081.31 1482.55 Q1084.94 1482.55 1086.75 1479.01 Q1088.58 1475.44 1088.58 1468.33 Q1088.58 1461.2 1086.75 1457.66 Q1084.94 1454.1 1081.31 1454.1 M1081.31 1450.39 Q1087.12 1450.39 1090.18 1455 Q1093.25 1459.58 1093.25 1468.33 Q1093.25 1477.06 1090.18 1481.67 Q1087.12 1486.25 1081.31 1486.25 Q1075.5 1486.25 1072.42 1481.67 Q1069.37 1477.06 1069.37 1468.33 Q1069.37 1459.58 1072.42 1455 Q1075.5 1450.39 1081.31 1450.39 Z\" fill=\"#000000\" fill-rule=\"evenodd\" fill-opacity=\"1\" /><path clip-path=\"url(#clip720)\" d=\"M1447.39 1454.1 Q1443.78 1454.1 1441.95 1457.66 Q1440.14 1461.2 1440.14 1468.33 Q1440.14 1475.44 1441.95 1479.01 Q1443.78 1482.55 1447.39 1482.55 Q1451.02 1482.55 1452.83 1479.01 Q1454.66 1475.44 1454.66 1468.33 Q1454.66 1461.2 1452.83 1457.66 Q1451.02 1454.1 1447.39 1454.1 M1447.39 1450.39 Q1453.2 1450.39 1456.25 1455 Q1459.33 1459.58 1459.33 1468.33 Q1459.33 1477.06 1456.25 1481.67 Q1453.2 1486.25 1447.39 1486.25 Q1441.58 1486.25 1438.5 1481.67 Q1435.44 1477.06 1435.44 1468.33 Q1435.44 1459.58 1438.5 1455 Q1441.58 1450.39 1447.39 1450.39 Z\" fill=\"#000000\" fill-rule=\"evenodd\" fill-opacity=\"1\" /><path clip-path=\"url(#clip720)\" d=\"M1467.55 1479.7 L1472.44 1479.7 L1472.44 1485.58 L1467.55 1485.58 L1467.55 1479.7 Z\" fill=\"#000000\" fill-rule=\"evenodd\" fill-opacity=\"1\" /><path clip-path=\"url(#clip720)\" d=\"M1482.67 1451.02 L1501.02 1451.02 L1501.02 1454.96 L1486.95 1454.96 L1486.95 1463.43 Q1487.97 1463.08 1488.99 1462.92 Q1490 1462.73 1491.02 1462.73 Q1496.81 1462.73 1500.19 1465.9 Q1503.57 1469.08 1503.57 1474.49 Q1503.57 1480.07 1500.1 1483.17 Q1496.63 1486.25 1490.31 1486.25 Q1488.13 1486.25 1485.86 1485.88 Q1483.62 1485.51 1481.21 1484.77 L1481.21 1480.07 Q1483.29 1481.2 1485.51 1481.76 Q1487.74 1482.32 1490.21 1482.32 Q1494.22 1482.32 1496.56 1480.21 Q1498.89 1478.1 1498.89 1474.49 Q1498.89 1470.88 1496.56 1468.77 Q1494.22 1466.67 1490.21 1466.67 Q1488.34 1466.67 1486.46 1467.08 Q1484.61 1467.5 1482.67 1468.38 L1482.67 1451.02 Z\" fill=\"#000000\" fill-rule=\"evenodd\" fill-opacity=\"1\" /><path clip-path=\"url(#clip720)\" d=\"M1847.47 1481.64 L1855.11 1481.64 L1855.11 1455.28 L1846.8 1456.95 L1846.8 1452.69 L1855.07 1451.02 L1859.74 1451.02 L1859.74 1481.64 L1867.38 1481.64 L1867.38 1485.58 L1847.47 1485.58 L1847.47 1481.64 Z\" fill=\"#000000\" fill-rule=\"evenodd\" fill-opacity=\"1\" /><path clip-path=\"url(#clip720)\" d=\"M1876.83 1479.7 L1881.71 1479.7 L1881.71 1485.58 L1876.83 1485.58 L1876.83 1479.7 Z\" fill=\"#000000\" fill-rule=\"evenodd\" fill-opacity=\"1\" /><path clip-path=\"url(#clip720)\" d=\"M1901.89 1454.1 Q1898.28 1454.1 1896.45 1457.66 Q1894.65 1461.2 1894.65 1468.33 Q1894.65 1475.44 1896.45 1479.01 Q1898.28 1482.55 1901.89 1482.55 Q1905.53 1482.55 1907.33 1479.01 Q1909.16 1475.44 1909.16 1468.33 Q1909.16 1461.2 1907.33 1457.66 Q1905.53 1454.1 1901.89 1454.1 M1901.89 1450.39 Q1907.7 1450.39 1910.76 1455 Q1913.84 1459.58 1913.84 1468.33 Q1913.84 1477.06 1910.76 1481.67 Q1907.7 1486.25 1901.89 1486.25 Q1896.08 1486.25 1893.01 1481.67 Q1889.95 1477.06 1889.95 1468.33 Q1889.95 1459.58 1893.01 1455 Q1896.08 1450.39 1901.89 1450.39 Z\" fill=\"#000000\" fill-rule=\"evenodd\" fill-opacity=\"1\" /><path clip-path=\"url(#clip720)\" d=\"M2258.78 1481.64 L2266.42 1481.64 L2266.42 1455.28 L2258.11 1456.95 L2258.11 1452.69 L2266.38 1451.02 L2271.05 1451.02 L2271.05 1481.64 L2278.69 1481.64 L2278.69 1485.58 L2258.78 1485.58 L2258.78 1481.64 Z\" fill=\"#000000\" fill-rule=\"evenodd\" fill-opacity=\"1\" /><path clip-path=\"url(#clip720)\" d=\"M2288.14 1479.7 L2293.02 1479.7 L2293.02 1485.58 L2288.14 1485.58 L2288.14 1479.7 Z\" fill=\"#000000\" fill-rule=\"evenodd\" fill-opacity=\"1\" /><path clip-path=\"url(#clip720)\" d=\"M2303.25 1451.02 L2321.61 1451.02 L2321.61 1454.96 L2307.53 1454.96 L2307.53 1463.43 Q2308.55 1463.08 2309.57 1462.92 Q2310.59 1462.73 2311.61 1462.73 Q2317.4 1462.73 2320.77 1465.9 Q2324.15 1469.08 2324.15 1474.49 Q2324.15 1480.07 2320.68 1483.17 Q2317.21 1486.25 2310.89 1486.25 Q2308.71 1486.25 2306.45 1485.88 Q2304.2 1485.51 2301.79 1484.77 L2301.79 1480.07 Q2303.88 1481.2 2306.1 1481.76 Q2308.32 1482.32 2310.8 1482.32 Q2314.8 1482.32 2317.14 1480.21 Q2319.48 1478.1 2319.48 1474.49 Q2319.48 1470.88 2317.14 1468.77 Q2314.8 1466.67 2310.8 1466.67 Q2308.92 1466.67 2307.05 1467.08 Q2305.2 1467.5 2303.25 1468.38 L2303.25 1451.02 Z\" fill=\"#000000\" fill-rule=\"evenodd\" fill-opacity=\"1\" /><path clip-path=\"url(#clip720)\" d=\"M1278.27 1528.8 Q1278.27 1530.61 1277.15 1531.64 Q1276.02 1532.64 1274.73 1532.64 Q1273.51 1532.64 1272.86 1531.93 Q1272.22 1531.22 1272.22 1530.32 Q1272.22 1529.09 1273.12 1528.03 Q1274.02 1526.97 1275.38 1526.74 Q1274.06 1525.91 1272.09 1525.91 Q1270.8 1525.91 1269.68 1526.58 Q1268.58 1527.26 1267.9 1528.13 Q1267.26 1529 1266.68 1530.25 Q1266.13 1531.48 1265.91 1532.22 Q1265.71 1532.93 1265.55 1533.7 L1263.3 1542.72 Q1262.2 1547 1262.2 1548.51 Q1262.2 1550.38 1263.11 1551.64 Q1264.01 1552.86 1265.81 1552.86 Q1266.52 1552.86 1267.32 1552.67 Q1268.13 1552.44 1269.16 1551.86 Q1270.22 1551.25 1271.16 1550.35 Q1272.12 1549.42 1273.06 1547.84 Q1273.99 1546.26 1274.6 1544.23 Q1274.8 1543.52 1275.44 1543.52 Q1276.24 1543.52 1276.24 1544.17 Q1276.24 1544.71 1275.79 1545.87 Q1275.38 1547 1274.44 1548.48 Q1273.54 1549.93 1272.35 1551.25 Q1271.16 1552.54 1269.39 1553.44 Q1267.61 1554.34 1265.68 1554.34 Q1262.91 1554.34 1261.08 1552.86 Q1259.24 1551.38 1258.56 1549.32 Q1258.4 1549.61 1258.18 1550 Q1257.95 1550.38 1257.28 1551.25 Q1256.63 1552.09 1255.89 1552.73 Q1255.15 1553.34 1253.99 1553.83 Q1252.86 1554.34 1251.64 1554.34 Q1250.09 1554.34 1248.71 1553.89 Q1247.36 1553.44 1246.39 1552.41 Q1245.42 1551.38 1245.42 1549.96 Q1245.42 1548.38 1246.49 1547.29 Q1247.58 1546.16 1249.06 1546.16 Q1250 1546.16 1250.74 1546.71 Q1251.51 1547.26 1251.51 1548.45 Q1251.51 1549.77 1250.61 1550.77 Q1249.71 1551.77 1248.42 1552.02 Q1249.74 1552.86 1251.7 1552.86 Q1253.83 1552.86 1255.5 1550.99 Q1257.18 1549.13 1257.98 1546 Q1259.98 1538.5 1260.75 1535.15 Q1261.53 1531.77 1261.53 1530.32 Q1261.53 1528.96 1261.17 1528.03 Q1260.82 1527.1 1260.21 1526.68 Q1259.63 1526.23 1259.08 1526.07 Q1258.56 1525.91 1257.98 1525.91 Q1257.02 1525.91 1255.92 1526.29 Q1254.86 1526.68 1253.57 1527.58 Q1252.32 1528.45 1251.12 1530.25 Q1249.93 1532.06 1249.13 1534.54 Q1248.97 1535.28 1248.26 1535.28 Q1247.49 1535.24 1247.49 1534.6 Q1247.49 1534.05 1247.9 1532.93 Q1248.35 1531.77 1249.26 1530.32 Q1250.19 1528.87 1251.38 1527.58 Q1252.61 1526.26 1254.38 1525.36 Q1256.18 1524.46 1258.11 1524.46 Q1258.98 1524.46 1259.82 1524.65 Q1260.69 1524.81 1261.72 1525.29 Q1262.78 1525.78 1263.72 1526.84 Q1264.65 1527.9 1265.23 1529.45 Q1265.62 1528.71 1266.13 1528 Q1266.68 1527.29 1267.52 1526.42 Q1268.39 1525.52 1269.58 1525 Q1270.8 1524.46 1272.15 1524.46 Q1273.48 1524.46 1274.76 1524.81 Q1276.05 1525.13 1277.15 1526.19 Q1278.27 1527.23 1278.27 1528.8 Z\" fill=\"#000000\" fill-rule=\"evenodd\" fill-opacity=\"1\" /><polyline clip-path=\"url(#clip722)\" style=\"stroke:#000000; stroke-linecap:round; stroke-linejoin:round; stroke-width:2; stroke-opacity:0.1; fill:none\" points=\"\n",
       "  175.445,1197.99 2352.76,1197.99 \n",
       "  \"/>\n",
       "<polyline clip-path=\"url(#clip722)\" style=\"stroke:#000000; stroke-linecap:round; stroke-linejoin:round; stroke-width:2; stroke-opacity:0.1; fill:none\" points=\"\n",
       "  175.445,899.935 2352.76,899.935 \n",
       "  \"/>\n",
       "<polyline clip-path=\"url(#clip722)\" style=\"stroke:#000000; stroke-linecap:round; stroke-linejoin:round; stroke-width:2; stroke-opacity:0.1; fill:none\" points=\"\n",
       "  175.445,601.88 2352.76,601.88 \n",
       "  \"/>\n",
       "<polyline clip-path=\"url(#clip722)\" style=\"stroke:#000000; stroke-linecap:round; stroke-linejoin:round; stroke-width:2; stroke-opacity:0.1; fill:none\" points=\"\n",
       "  175.445,303.826 2352.76,303.826 \n",
       "  \"/>\n",
       "<polyline clip-path=\"url(#clip720)\" style=\"stroke:#000000; stroke-linecap:round; stroke-linejoin:round; stroke-width:4; stroke-opacity:1; fill:none\" points=\"\n",
       "  175.445,1423.18 175.445,123.472 \n",
       "  \"/>\n",
       "<polyline clip-path=\"url(#clip720)\" style=\"stroke:#000000; stroke-linecap:round; stroke-linejoin:round; stroke-width:4; stroke-opacity:1; fill:none\" points=\"\n",
       "  175.445,1197.99 194.343,1197.99 \n",
       "  \"/>\n",
       "<polyline clip-path=\"url(#clip720)\" style=\"stroke:#000000; stroke-linecap:round; stroke-linejoin:round; stroke-width:4; stroke-opacity:1; fill:none\" points=\"\n",
       "  175.445,899.935 194.343,899.935 \n",
       "  \"/>\n",
       "<polyline clip-path=\"url(#clip720)\" style=\"stroke:#000000; stroke-linecap:round; stroke-linejoin:round; stroke-width:4; stroke-opacity:1; fill:none\" points=\"\n",
       "  175.445,601.88 194.343,601.88 \n",
       "  \"/>\n",
       "<polyline clip-path=\"url(#clip720)\" style=\"stroke:#000000; stroke-linecap:round; stroke-linejoin:round; stroke-width:4; stroke-opacity:1; fill:none\" points=\"\n",
       "  175.445,303.826 194.343,303.826 \n",
       "  \"/>\n",
       "<path clip-path=\"url(#clip720)\" d=\"M119.538 1211.33 L127.177 1211.33 L127.177 1184.97 L118.867 1186.64 L118.867 1182.38 L127.13 1180.71 L131.806 1180.71 L131.806 1211.33 L139.445 1211.33 L139.445 1215.27 L119.538 1215.27 L119.538 1211.33 Z\" fill=\"#000000\" fill-rule=\"evenodd\" fill-opacity=\"1\" /><path clip-path=\"url(#clip720)\" d=\"M123.126 913.28 L139.445 913.28 L139.445 917.215 L117.501 917.215 L117.501 913.28 Q120.163 910.525 124.746 905.895 Q129.353 901.243 130.533 899.9 Q132.779 897.377 133.658 895.641 Q134.561 893.882 134.561 892.192 Q134.561 889.437 132.617 887.701 Q130.695 885.965 127.593 885.965 Q125.394 885.965 122.941 886.729 Q120.51 887.493 117.732 889.044 L117.732 884.321 Q120.556 883.187 123.01 882.609 Q125.464 882.03 127.501 882.03 Q132.871 882.03 136.066 884.715 Q139.26 887.4 139.26 891.891 Q139.26 894.021 138.45 895.942 Q137.663 897.84 135.556 900.433 Q134.978 901.104 131.876 904.321 Q128.774 907.516 123.126 913.28 Z\" fill=\"#000000\" fill-rule=\"evenodd\" fill-opacity=\"1\" /><path clip-path=\"url(#clip720)\" d=\"M132.316 600.526 Q135.672 601.244 137.547 603.512 Q139.445 605.781 139.445 609.114 Q139.445 614.23 135.927 617.031 Q132.408 619.832 125.927 619.832 Q123.751 619.832 121.436 619.392 Q119.144 618.975 116.691 618.119 L116.691 613.605 Q118.635 614.739 120.95 615.318 Q123.265 615.896 125.788 615.896 Q130.186 615.896 132.478 614.16 Q134.792 612.424 134.792 609.114 Q134.792 606.059 132.64 604.346 Q130.51 602.61 126.691 602.61 L122.663 602.61 L122.663 598.767 L126.876 598.767 Q130.325 598.767 132.154 597.401 Q133.982 596.012 133.982 593.42 Q133.982 590.758 132.084 589.346 Q130.209 587.911 126.691 587.911 Q124.769 587.911 122.57 588.327 Q120.371 588.744 117.732 589.623 L117.732 585.457 Q120.394 584.716 122.709 584.346 Q125.047 583.975 127.107 583.975 Q132.431 583.975 135.533 586.406 Q138.635 588.813 138.635 592.934 Q138.635 595.804 136.992 597.795 Q135.348 599.762 132.316 600.526 Z\" fill=\"#000000\" fill-rule=\"evenodd\" fill-opacity=\"1\" /><path clip-path=\"url(#clip720)\" d=\"M129.862 290.62 L118.056 309.069 L129.862 309.069 L129.862 290.62 M128.635 286.546 L134.515 286.546 L134.515 309.069 L139.445 309.069 L139.445 312.958 L134.515 312.958 L134.515 321.106 L129.862 321.106 L129.862 312.958 L114.26 312.958 L114.26 308.444 L128.635 286.546 Z\" fill=\"#000000\" fill-rule=\"evenodd\" fill-opacity=\"1\" /><path clip-path=\"url(#clip720)\" d=\"M30.8561 758.889 Q31.307 758.889 32.3698 759.178 L57.5548 765.491 Q63.1586 766.876 67.0877 771.384 Q71.0168 775.861 71.0168 780.95 Q71.0168 784.009 69.3743 785.974 Q67.764 787.938 65.2842 787.938 Q63.0942 787.938 62.0314 786.779 Q61.0008 785.619 61.0008 784.235 Q61.0008 783.784 61.1296 783.301 Q61.2584 782.817 61.8059 782.302 Q62.3534 781.787 63.2874 781.787 Q64.8011 781.787 65.9927 783.107 Q66.5402 783.751 66.669 784.363 Q66.7978 784.943 66.7978 785.941 Q67.6996 785.555 68.3115 784.846 Q68.9234 784.138 69.1489 783.333 Q69.4065 782.528 69.4709 782.012 Q69.5675 781.465 69.5675 780.95 Q69.5675 776.827 65.413 773.671 Q64.157 772.737 62.9009 772.061 Q61.6771 771.352 60.1634 770.837 Q58.682 770.322 57.8768 770.096 Q57.0717 769.839 55.2359 769.388 Q58.2311 772.383 58.2311 776.054 Q58.2311 777.6 57.8124 778.985 Q57.3937 780.338 56.5242 781.529 Q55.6224 782.721 54.0443 783.429 Q52.4662 784.106 50.3728 784.106 Q48.1506 784.106 45.1233 783.236 Q42.0959 782.367 36.5243 780.273 Q33.4004 779.146 31.8867 779.146 Q31.146 779.146 30.6951 779.307 Q30.212 779.468 30.051 779.79 Q29.8577 780.112 29.8255 780.305 Q29.7933 780.466 29.7933 780.789 Q29.7933 782.689 31.7257 784.46 Q33.658 786.231 37.9736 787.455 Q38.7787 787.713 38.972 787.874 Q39.1652 788.035 39.1652 788.518 Q39.133 789.323 38.4889 789.323 Q38.2312 789.323 37.2329 789.033 Q36.2023 788.743 34.6886 788.067 Q33.1427 787.359 31.7579 786.392 Q30.3408 785.426 29.3424 783.912 Q28.344 782.367 28.344 780.595 Q28.344 778.18 29.9221 776.698 Q31.468 775.185 33.7546 775.185 Q34.6886 775.185 35.5259 775.442 Q36.3311 775.668 38.4889 776.505 Q47.1845 779.887 51.4356 779.887 Q52.4662 779.887 53.3358 779.726 Q54.1731 779.532 55.0105 779.114 Q55.8156 778.695 56.2987 777.858 Q56.7496 776.988 56.7496 775.797 Q56.7496 774.283 56.0411 772.866 Q55.3003 771.417 54.302 770.515 Q53.3036 769.581 52.4662 769.033 Q51.5967 768.454 51.1458 768.325 L39.294 765.362 L34.0123 764.041 Q31.146 763.43 30.4374 763.14 Q29.7611 762.753 29.4068 762.077 Q29.0526 761.401 29.0526 760.821 Q29.0526 760.016 29.5357 759.468 Q30.0187 758.889 30.8561 758.889 Z\" fill=\"#000000\" fill-rule=\"evenodd\" fill-opacity=\"1\" /><path clip-path=\"url(#clip720)\" d=\"M202.627 21.1851 L191.528 51.2833 L213.767 51.2833 L202.627 21.1851 M198.009 13.1238 L207.286 13.1238 L230.335 73.6038 L221.828 73.6038 L216.319 58.0888 L189.057 58.0888 L183.547 73.6038 L174.919 73.6038 L198.009 13.1238 Z\" fill=\"#000000\" fill-rule=\"evenodd\" fill-opacity=\"1\" /><path clip-path=\"url(#clip720)\" d=\"M246.053 66.7983 L246.053 90.8606 L238.559 90.8606 L238.559 28.2337 L246.053 28.2337 L246.053 35.1202 Q248.402 31.0693 251.967 29.1249 Q255.572 27.1399 260.555 27.1399 Q268.819 27.1399 273.963 33.7024 Q279.149 40.2649 279.149 50.9592 Q279.149 61.6536 273.963 68.2161 Q268.819 74.7786 260.555 74.7786 Q255.572 74.7786 251.967 72.8341 Q248.402 70.8492 246.053 66.7983 M271.411 50.9592 Q271.411 42.7359 268.009 38.0774 Q264.646 33.3783 258.732 33.3783 Q252.818 33.3783 249.415 38.0774 Q246.053 42.7359 246.053 50.9592 Q246.053 59.1826 249.415 63.8816 Q252.818 68.5402 258.732 68.5402 Q264.646 68.5402 268.009 63.8816 Q271.411 59.1826 271.411 50.9592 Z\" fill=\"#000000\" fill-rule=\"evenodd\" fill-opacity=\"1\" /><path clip-path=\"url(#clip720)\" d=\"M298.715 66.7983 L298.715 90.8606 L291.22 90.8606 L291.22 28.2337 L298.715 28.2337 L298.715 35.1202 Q301.064 31.0693 304.629 29.1249 Q308.234 27.1399 313.217 27.1399 Q321.481 27.1399 326.625 33.7024 Q331.81 40.2649 331.81 50.9592 Q331.81 61.6536 326.625 68.2161 Q321.481 74.7786 313.217 74.7786 Q308.234 74.7786 304.629 72.8341 Q301.064 70.8492 298.715 66.7983 M324.073 50.9592 Q324.073 42.7359 320.67 38.0774 Q317.308 33.3783 311.394 33.3783 Q305.48 33.3783 302.077 38.0774 Q298.715 42.7359 298.715 50.9592 Q298.715 59.1826 302.077 63.8816 Q305.48 68.5402 311.394 68.5402 Q317.308 68.5402 320.67 63.8816 Q324.073 59.1826 324.073 50.9592 Z\" fill=\"#000000\" fill-rule=\"evenodd\" fill-opacity=\"1\" /><path clip-path=\"url(#clip720)\" d=\"M370.456 35.2012 Q369.2 34.4721 367.701 34.148 Q366.243 33.7834 364.461 33.7834 Q358.141 33.7834 354.739 37.9153 Q351.376 42.0067 351.376 49.7035 L351.376 73.6038 L343.882 73.6038 L343.882 28.2337 L351.376 28.2337 L351.376 35.2822 Q353.726 31.1503 357.493 29.1654 Q361.26 27.1399 366.648 27.1399 Q367.418 27.1399 368.35 27.2615 Q369.281 27.3425 370.416 27.545 L370.456 35.2012 Z\" fill=\"#000000\" fill-rule=\"evenodd\" fill-opacity=\"1\" /><path clip-path=\"url(#clip720)\" d=\"M394.032 33.4593 Q388.037 33.4593 384.553 38.1584 Q381.069 42.8169 381.069 50.9592 Q381.069 59.1016 384.513 63.8006 Q387.996 68.4591 394.032 68.4591 Q399.987 68.4591 403.471 63.7601 Q406.955 59.0611 406.955 50.9592 Q406.955 42.8979 403.471 38.1989 Q399.987 33.4593 394.032 33.4593 M394.032 27.1399 Q403.754 27.1399 409.304 33.4593 Q414.854 39.7787 414.854 50.9592 Q414.854 62.0992 409.304 68.4591 Q403.754 74.7786 394.032 74.7786 Q384.27 74.7786 378.72 68.4591 Q373.211 62.0992 373.211 50.9592 Q373.211 39.7787 378.72 33.4593 Q384.27 27.1399 394.032 27.1399 Z\" fill=\"#000000\" fill-rule=\"evenodd\" fill-opacity=\"1\" /><path clip-path=\"url(#clip720)\" d=\"M462.371 28.2337 L445.965 50.3111 L463.222 73.6038 L454.431 73.6038 L441.225 55.7798 L428.019 73.6038 L419.229 73.6038 L436.85 49.8655 L420.728 28.2337 L429.518 28.2337 L441.549 44.3968 L453.581 28.2337 L462.371 28.2337 Z\" fill=\"#000000\" fill-rule=\"evenodd\" fill-opacity=\"1\" /><path clip-path=\"url(#clip720)\" d=\"M473.754 28.2337 L481.208 28.2337 L481.208 73.6038 L473.754 73.6038 L473.754 28.2337 M473.754 10.5717 L481.208 10.5717 L481.208 20.0103 L473.754 20.0103 L473.754 10.5717 Z\" fill=\"#000000\" fill-rule=\"evenodd\" fill-opacity=\"1\" /><path clip-path=\"url(#clip720)\" d=\"M532.128 36.9431 Q534.923 31.92 538.812 29.53 Q542.7 27.1399 547.967 27.1399 Q555.056 27.1399 558.904 32.1225 Q562.752 37.0646 562.752 46.2197 L562.752 73.6038 L555.258 73.6038 L555.258 46.4627 Q555.258 39.9408 552.949 36.7811 Q550.64 33.6214 545.901 33.6214 Q540.108 33.6214 536.746 37.4697 Q533.383 41.3181 533.383 47.9616 L533.383 73.6038 L525.889 73.6038 L525.889 46.4627 Q525.889 39.9003 523.58 36.7811 Q521.271 33.6214 516.451 33.6214 Q510.739 33.6214 507.377 37.5102 Q504.014 41.3586 504.014 47.9616 L504.014 73.6038 L496.52 73.6038 L496.52 28.2337 L504.014 28.2337 L504.014 35.2822 Q506.566 31.1098 510.131 29.1249 Q513.696 27.1399 518.598 27.1399 Q523.54 27.1399 526.983 29.6515 Q530.467 32.163 532.128 36.9431 Z\" fill=\"#000000\" fill-rule=\"evenodd\" fill-opacity=\"1\" /><path clip-path=\"url(#clip720)\" d=\"M598.238 50.7972 Q589.205 50.7972 585.721 52.8632 Q582.237 54.9291 582.237 59.9117 Q582.237 63.8816 584.83 66.2312 Q587.463 68.5402 591.959 68.5402 Q598.157 68.5402 601.884 64.1652 Q605.652 59.7497 605.652 52.4581 L605.652 50.7972 L598.238 50.7972 M613.105 47.7185 L613.105 73.6038 L605.652 73.6038 L605.652 66.7173 Q603.099 70.8492 599.292 72.8341 Q595.484 74.7786 589.975 74.7786 Q583.007 74.7786 578.875 70.8897 Q574.784 66.9603 574.784 60.3978 Q574.784 52.7416 579.888 48.8528 Q585.032 44.9639 595.2 44.9639 L605.652 44.9639 L605.652 44.2347 Q605.652 39.0901 602.249 36.295 Q598.887 33.4593 592.77 33.4593 Q588.881 33.4593 585.194 34.391 Q581.508 35.3228 578.105 37.1862 L578.105 30.2996 Q582.197 28.7198 586.045 27.9501 Q589.894 27.1399 593.539 27.1399 Q603.383 27.1399 608.244 32.2441 Q613.105 37.3482 613.105 47.7185 Z\" fill=\"#000000\" fill-rule=\"evenodd\" fill-opacity=\"1\" /><path clip-path=\"url(#clip720)\" d=\"M635.831 15.3518 L635.831 28.2337 L651.184 28.2337 L651.184 34.0265 L635.831 34.0265 L635.831 58.656 Q635.831 64.2057 637.33 65.7856 Q638.869 67.3654 643.527 67.3654 L651.184 67.3654 L651.184 73.6038 L643.527 73.6038 Q634.899 73.6038 631.618 70.4036 Q628.337 67.1629 628.337 58.656 L628.337 34.0265 L622.868 34.0265 L622.868 28.2337 L628.337 28.2337 L628.337 15.3518 L635.831 15.3518 Z\" fill=\"#000000\" fill-rule=\"evenodd\" fill-opacity=\"1\" /><path clip-path=\"url(#clip720)\" d=\"M660.987 28.2337 L668.441 28.2337 L668.441 73.6038 L660.987 73.6038 L660.987 28.2337 M660.987 10.5717 L668.441 10.5717 L668.441 20.0103 L660.987 20.0103 L660.987 10.5717 Z\" fill=\"#000000\" fill-rule=\"evenodd\" fill-opacity=\"1\" /><path clip-path=\"url(#clip720)\" d=\"M701.617 33.4593 Q695.622 33.4593 692.138 38.1584 Q688.655 42.8169 688.655 50.9592 Q688.655 59.1016 692.098 63.8006 Q695.582 68.4591 701.617 68.4591 Q707.572 68.4591 711.056 63.7601 Q714.54 59.0611 714.54 50.9592 Q714.54 42.8979 711.056 38.1989 Q707.572 33.4593 701.617 33.4593 M701.617 27.1399 Q711.34 27.1399 716.889 33.4593 Q722.439 39.7787 722.439 50.9592 Q722.439 62.0992 716.889 68.4591 Q711.34 74.7786 701.617 74.7786 Q691.855 74.7786 686.305 68.4591 Q680.796 62.0992 680.796 50.9592 Q680.796 39.7787 686.305 33.4593 Q691.855 27.1399 701.617 27.1399 Z\" fill=\"#000000\" fill-rule=\"evenodd\" fill-opacity=\"1\" /><path clip-path=\"url(#clip720)\" d=\"M772.508 46.2197 L772.508 73.6038 L765.055 73.6038 L765.055 46.4627 Q765.055 40.0218 762.543 36.8216 Q760.031 33.6214 755.008 33.6214 Q748.973 33.6214 745.489 37.4697 Q742.005 41.3181 742.005 47.9616 L742.005 73.6038 L734.511 73.6038 L734.511 28.2337 L742.005 28.2337 L742.005 35.2822 Q744.679 31.1908 748.284 29.1654 Q751.93 27.1399 756.669 27.1399 Q764.487 27.1399 768.498 32.001 Q772.508 36.8216 772.508 46.2197 Z\" fill=\"#000000\" fill-rule=\"evenodd\" fill-opacity=\"1\" /><path clip-path=\"url(#clip720)\" d=\"M831.327 33.4593 Q825.332 33.4593 821.848 38.1584 Q818.365 42.8169 818.365 50.9592 Q818.365 59.1016 821.808 63.8006 Q825.292 68.4591 831.327 68.4591 Q837.282 68.4591 840.766 63.7601 Q844.25 59.0611 844.25 50.9592 Q844.25 42.8979 840.766 38.1989 Q837.282 33.4593 831.327 33.4593 M831.327 27.1399 Q841.05 27.1399 846.599 33.4593 Q852.149 39.7787 852.149 50.9592 Q852.149 62.0992 846.599 68.4591 Q841.05 74.7786 831.327 74.7786 Q821.565 74.7786 816.015 68.4591 Q810.506 62.0992 810.506 50.9592 Q810.506 39.7787 816.015 33.4593 Q821.565 27.1399 831.327 27.1399 Z\" fill=\"#000000\" fill-rule=\"evenodd\" fill-opacity=\"1\" /><path clip-path=\"url(#clip720)\" d=\"M887.473 10.5717 L887.473 16.7696 L880.343 16.7696 Q876.333 16.7696 874.753 18.39 Q873.214 20.0103 873.214 24.2233 L873.214 28.2337 L885.488 28.2337 L885.488 34.0265 L873.214 34.0265 L873.214 73.6038 L865.72 73.6038 L865.72 34.0265 L858.59 34.0265 L858.59 28.2337 L865.72 28.2337 L865.72 25.074 Q865.72 17.4988 869.244 14.0555 Q872.768 10.5717 880.424 10.5717 L887.473 10.5717 Z\" fill=\"#000000\" fill-rule=\"evenodd\" fill-opacity=\"1\" /><path clip-path=\"url(#clip720)\" d=\"M950.999 39.7057 Q950.999 40.2795 950.63 41.6322 L942.597 73.6858 Q940.834 80.8179 935.096 85.8186 Q929.398 90.8193 922.922 90.8193 Q919.028 90.8193 916.527 88.7288 Q914.027 86.6794 914.027 83.5232 Q914.027 80.7359 915.503 79.3833 Q916.978 78.0716 918.741 78.0716 Q919.315 78.0716 919.929 78.2356 Q920.544 78.3995 921.2 79.0964 Q921.856 79.7932 921.856 80.9819 Q921.856 82.9084 920.175 84.425 Q919.356 85.1218 918.577 85.2857 Q917.839 85.4497 916.568 85.4497 Q917.06 86.5974 917.962 87.3762 Q918.864 88.155 919.888 88.4419 Q920.913 88.7698 921.569 88.8518 Q922.266 88.9748 922.922 88.9748 Q928.168 88.9748 932.185 83.6872 Q933.374 82.0886 934.235 80.49 Q935.136 78.9324 935.792 77.0059 Q936.448 75.1204 936.735 74.0957 Q937.063 73.0709 937.637 70.7345 Q933.825 74.5466 929.152 74.5466 Q927.185 74.5466 925.422 74.0137 Q923.7 73.4808 922.184 72.3741 Q920.667 71.2264 919.766 69.2179 Q918.905 67.2095 918.905 64.5452 Q918.905 61.7169 920.011 57.8639 Q921.118 54.0109 923.782 46.9198 Q925.217 42.9438 925.217 41.0173 Q925.217 40.0746 925.012 39.5007 Q924.807 38.8859 924.397 38.6809 Q923.987 38.435 923.741 38.394 Q923.537 38.353 923.127 38.353 Q920.708 38.353 918.454 40.8124 Q916.199 43.2717 914.642 48.7643 Q914.314 49.789 914.109 50.035 Q913.904 50.2809 913.289 50.2809 Q912.264 50.2399 912.264 49.4201 Q912.264 49.0922 912.633 47.8215 Q913.002 46.5099 913.863 44.5834 Q914.765 42.6159 915.994 40.8534 Q917.224 39.0498 919.151 37.7792 Q921.118 36.5085 923.373 36.5085 Q926.447 36.5085 928.332 38.517 Q930.259 40.4845 930.259 43.3947 Q930.259 44.5834 929.931 45.6491 Q929.644 46.6738 928.578 49.4201 Q924.274 60.4872 924.274 65.8978 Q924.274 67.2095 924.479 68.3162 Q924.725 69.3819 925.258 70.4476 Q925.791 71.4724 926.857 72.0872 Q927.963 72.661 929.48 72.661 Q931.406 72.661 933.21 71.7593 Q935.055 70.8165 936.202 69.5459 Q937.391 68.2752 938.088 67.2095 Q938.826 66.1028 938.989 65.5289 L942.76 50.4449 L944.441 43.7226 Q945.22 40.0746 945.589 39.1728 Q946.081 38.312 946.941 37.8611 Q947.802 37.4103 948.54 37.4103 Q949.565 37.4103 950.262 38.0251 Q950.999 38.6399 950.999 39.7057 Z\" fill=\"#000000\" fill-rule=\"evenodd\" fill-opacity=\"1\" /><path clip-path=\"url(#clip720)\" d=\"M976.273 60.8561 Q976.355 59.8314 977.953 59.8314 L1029.39 59.8314 Q1031.81 59.8314 1031.85 60.7742 Q1031.85 61.7989 1029.56 61.7579 L978.527 61.7579 Q976.273 61.7989 976.273 60.8561 M976.273 44.4604 Q976.273 43.4357 978.035 43.4767 L1029.31 43.4767 Q1031.81 43.4767 1031.85 44.4604 Q1031.85 45.4032 1029.72 45.4032 L977.953 45.4032 Q976.273 45.4032 976.273 44.4604 Z\" fill=\"#000000\" fill-rule=\"evenodd\" fill-opacity=\"1\" /><path clip-path=\"url(#clip720)\" d=\"M1096.16 63.8893 Q1096.49 64.2582 1096.49 64.6271 Q1096.49 64.996 1095.67 66.0618 Q1094.89 67.1275 1093.21 68.5621 Q1091.53 69.9967 1089.36 71.3494 Q1087.19 72.702 1083.99 73.6038 Q1080.79 74.5466 1077.43 74.5466 Q1071.41 74.5466 1067.8 70.2427 Q1064.23 65.9388 1064.23 59.3395 Q1064.23 55.1176 1065.63 51.3876 Q1067.02 47.6166 1069.27 44.9523 Q1071.57 42.288 1074.44 40.3615 Q1077.35 38.394 1080.38 37.4513 Q1083.42 36.5085 1086.24 36.5085 Q1090.38 36.5085 1092.8 38.599 Q1095.22 40.6894 1095.22 43.6406 Q1095.22 44.3375 1095.02 45.1982 Q1094.85 46.059 1094.28 47.4116 Q1093.74 48.7643 1092.35 50.1169 Q1090.96 51.4286 1088.91 52.2894 Q1084.36 54.2159 1076.08 54.2159 L1071.61 54.2159 Q1070.3 59.5035 1070.3 62.9466 Q1070.3 64.2992 1070.55 65.6929 Q1070.79 67.0455 1071.45 68.7671 Q1072.14 70.4886 1073.7 71.5953 Q1075.3 72.661 1077.6 72.661 Q1078.33 72.661 1079.11 72.6201 Q1079.93 72.5791 1081.98 72.1282 Q1084.07 71.6773 1085.92 70.8985 Q1087.76 70.1197 1090.1 68.4391 Q1092.47 66.7176 1094.36 64.3812 Q1095.02 63.5204 1095.47 63.5204 Q1095.84 63.5204 1096.16 63.8893 M1092.43 43.6406 Q1092.43 41.3862 1090.75 39.8696 Q1089.11 38.353 1086.24 38.353 Q1085.34 38.353 1084.24 38.558 Q1083.13 38.7629 1081.28 39.6237 Q1079.48 40.4845 1077.88 41.9191 Q1076.28 43.3127 1074.68 46.059 Q1073.09 48.7643 1072.14 52.3714 L1075.59 52.3714 Q1076.78 52.3714 1077.64 52.3714 Q1078.5 52.3304 1080.38 52.1664 Q1082.31 52.0024 1083.7 51.7155 Q1085.1 51.3876 1086.86 50.7318 Q1088.62 50.076 1089.73 49.2152 Q1090.88 48.3134 1091.65 46.8788 Q1092.43 45.4442 1092.43 43.6406 Z\" fill=\"#000000\" fill-rule=\"evenodd\" fill-opacity=\"1\" /><path clip-path=\"url(#clip720)\" d=\"M1134.4 21.8342 Q1134.4 23.4409 1133.39 24.3591 Q1132.39 25.2486 1131.24 25.2486 Q1130.15 25.2486 1129.58 24.6173 Q1129 23.9861 1129 23.1827 Q1129 22.0924 1129.81 21.1455 Q1130.61 20.1987 1131.81 19.9979 Q1130.64 19.2518 1128.89 19.2518 Q1127.74 19.2518 1126.74 19.8544 Q1125.76 20.4569 1125.16 21.2316 Q1124.58 22.0063 1124.07 23.1253 Q1123.58 24.2156 1123.38 24.8756 Q1123.21 25.5068 1123.06 26.1954 L1121.05 34.2293 Q1120.08 38.0454 1120.08 39.394 Q1120.08 41.0581 1120.88 42.1771 Q1121.69 43.2675 1123.29 43.2675 Q1123.92 43.2675 1124.64 43.0953 Q1125.36 42.8945 1126.28 42.378 Q1127.22 41.8328 1128.06 41.0294 Q1128.92 40.1974 1129.75 38.7914 Q1130.58 37.3855 1131.13 35.5779 Q1131.3 34.9466 1131.87 34.9466 Q1132.59 34.9466 1132.59 35.5205 Q1132.59 36.0083 1132.19 37.0412 Q1131.81 38.0454 1130.98 39.3653 Q1130.18 40.6564 1129.12 41.8328 Q1128.06 42.9805 1126.48 43.7839 Q1124.9 44.5873 1123.18 44.5873 Q1120.71 44.5873 1119.07 43.2675 Q1117.44 41.9476 1116.84 40.1113 Q1116.69 40.3695 1116.49 40.7138 Q1116.29 41.0581 1115.69 41.8328 Q1115.12 42.5788 1114.46 43.1527 Q1113.8 43.6979 1112.76 44.1282 Q1111.76 44.5873 1110.67 44.5873 Q1109.29 44.5873 1108.06 44.1856 Q1106.85 43.7839 1105.99 42.8658 Q1105.13 41.9476 1105.13 40.6851 Q1105.13 39.2792 1106.08 38.3037 Q1107.05 37.2994 1108.37 37.2994 Q1109.2 37.2994 1109.86 37.7872 Q1110.55 38.275 1110.55 39.3366 Q1110.55 40.513 1109.75 41.4025 Q1108.95 42.2919 1107.8 42.5215 Q1108.98 43.2675 1110.73 43.2675 Q1112.62 43.2675 1114.11 41.6033 Q1115.6 39.9391 1116.32 37.156 Q1118.1 30.4706 1118.79 27.4866 Q1119.48 24.4739 1119.48 23.1827 Q1119.48 21.9776 1119.16 21.1455 Q1118.85 20.3135 1118.3 19.9405 Q1117.78 19.5388 1117.3 19.3953 Q1116.84 19.2518 1116.32 19.2518 Q1115.46 19.2518 1114.48 19.5962 Q1113.54 19.9405 1112.39 20.7439 Q1111.27 21.5186 1110.21 23.1253 Q1109.15 24.7321 1108.43 26.9414 Q1108.29 27.6014 1107.66 27.6014 Q1106.97 27.5727 1106.97 26.9988 Q1106.97 26.511 1107.34 25.5068 Q1107.74 24.4739 1108.54 23.1827 Q1109.38 21.8916 1110.44 20.7439 Q1111.53 19.5675 1113.11 18.7641 Q1114.71 17.9607 1116.44 17.9607 Q1117.21 17.9607 1117.96 18.1328 Q1118.73 18.2763 1119.65 18.7067 Q1120.6 19.1371 1121.43 20.0839 Q1122.26 21.0308 1122.78 22.408 Q1123.12 21.7481 1123.58 21.1169 Q1124.07 20.4856 1124.81 19.7109 Q1125.59 18.9075 1126.65 18.4485 Q1127.74 17.9607 1128.94 17.9607 Q1130.12 17.9607 1131.27 18.2763 Q1132.42 18.5632 1133.39 19.5101 Q1134.4 20.4282 1134.4 21.8342 Z\" fill=\"#000000\" fill-rule=\"evenodd\" fill-opacity=\"1\" /><path clip-path=\"url(#clip720)\" d=\"M1172.93 28.2337 L1180.38 28.2337 L1189.7 63.6386 L1198.98 28.2337 L1207.77 28.2337 L1217.08 63.6386 L1226.36 28.2337 L1233.81 28.2337 L1221.95 73.6038 L1213.16 73.6038 L1203.39 36.4165 L1193.59 73.6038 L1184.8 73.6038 L1172.93 28.2337 Z\" fill=\"#000000\" fill-rule=\"evenodd\" fill-opacity=\"1\" /><path clip-path=\"url(#clip720)\" d=\"M1245.12 28.2337 L1252.57 28.2337 L1252.57 73.6038 L1245.12 73.6038 L1245.12 28.2337 M1245.12 10.5717 L1252.57 10.5717 L1252.57 20.0103 L1245.12 20.0103 L1245.12 10.5717 Z\" fill=\"#000000\" fill-rule=\"evenodd\" fill-opacity=\"1\" /><path clip-path=\"url(#clip720)\" d=\"M1275.54 15.3518 L1275.54 28.2337 L1290.89 28.2337 L1290.89 34.0265 L1275.54 34.0265 L1275.54 58.656 Q1275.54 64.2057 1277.04 65.7856 Q1278.58 67.3654 1283.24 67.3654 L1290.89 67.3654 L1290.89 73.6038 L1283.24 73.6038 Q1274.61 73.6038 1271.33 70.4036 Q1268.04 67.1629 1268.04 58.656 L1268.04 34.0265 L1262.58 34.0265 L1262.58 28.2337 L1268.04 28.2337 L1268.04 15.3518 L1275.54 15.3518 Z\" fill=\"#000000\" fill-rule=\"evenodd\" fill-opacity=\"1\" /><path clip-path=\"url(#clip720)\" d=\"M1338.41 46.2197 L1338.41 73.6038 L1330.96 73.6038 L1330.96 46.4627 Q1330.96 40.0218 1328.44 36.8216 Q1325.93 33.6214 1320.91 33.6214 Q1314.87 33.6214 1311.39 37.4697 Q1307.91 41.3181 1307.91 47.9616 L1307.91 73.6038 L1300.41 73.6038 L1300.41 10.5717 L1307.91 10.5717 L1307.91 35.2822 Q1310.58 31.1908 1314.18 29.1654 Q1317.83 27.1399 1322.57 27.1399 Q1330.39 27.1399 1334.4 32.001 Q1338.41 36.8216 1338.41 46.2197 Z\" fill=\"#000000\" fill-rule=\"evenodd\" fill-opacity=\"1\" /><path clip-path=\"url(#clip720)\" d=\"M1425.26 17.7823 L1425.26 26.4108 Q1421.13 22.5624 1416.43 20.6585 Q1411.77 18.7546 1406.5 18.7546 Q1396.13 18.7546 1390.63 25.1145 Q1385.12 31.4339 1385.12 43.4246 Q1385.12 55.3747 1390.63 61.7346 Q1396.13 68.0541 1406.5 68.0541 Q1411.77 68.0541 1416.43 66.1501 Q1421.13 64.2462 1425.26 60.3978 L1425.26 68.9453 Q1420.97 71.8619 1416.15 73.3202 Q1411.37 74.7786 1406.02 74.7786 Q1392.29 74.7786 1384.39 66.3932 Q1376.49 57.9673 1376.49 43.4246 Q1376.49 28.8413 1384.39 20.4559 Q1392.29 12.0301 1406.02 12.0301 Q1411.45 12.0301 1416.23 13.4884 Q1421.05 14.9062 1425.26 17.7823 Z\" fill=\"#000000\" fill-rule=\"evenodd\" fill-opacity=\"1\" /><path clip-path=\"url(#clip720)\" d=\"M1475.29 46.2197 L1475.29 73.6038 L1467.84 73.6038 L1467.84 46.4627 Q1467.84 40.0218 1465.32 36.8216 Q1462.81 33.6214 1457.79 33.6214 Q1451.75 33.6214 1448.27 37.4697 Q1444.79 41.3181 1444.79 47.9616 L1444.79 73.6038 L1437.29 73.6038 L1437.29 10.5717 L1444.79 10.5717 L1444.79 35.2822 Q1447.46 31.1908 1451.06 29.1654 Q1454.71 27.1399 1459.45 27.1399 Q1467.27 27.1399 1471.28 32.001 Q1475.29 36.8216 1475.29 46.2197 Z\" fill=\"#000000\" fill-rule=\"evenodd\" fill-opacity=\"1\" /><path clip-path=\"url(#clip720)\" d=\"M1528.96 49.0553 L1528.96 52.7011 L1494.69 52.7011 Q1495.18 60.3978 1499.31 64.4488 Q1503.48 68.4591 1510.9 68.4591 Q1515.19 68.4591 1519.2 67.4059 Q1523.25 66.3527 1527.22 64.2462 L1527.22 71.2948 Q1523.21 72.9962 1519 73.8874 Q1514.79 74.7786 1510.45 74.7786 Q1499.59 74.7786 1493.23 68.4591 Q1486.92 62.1397 1486.92 51.3643 Q1486.92 40.2243 1492.91 33.7024 Q1498.95 27.1399 1509.15 27.1399 Q1518.31 27.1399 1523.62 33.0542 Q1528.96 38.9281 1528.96 49.0553 M1521.51 46.8678 Q1521.43 40.751 1518.07 37.1051 Q1514.75 33.4593 1509.24 33.4593 Q1503 33.4593 1499.23 36.9836 Q1495.5 40.5079 1494.94 46.9083 L1521.51 46.8678 Z\" fill=\"#000000\" fill-rule=\"evenodd\" fill-opacity=\"1\" /><path clip-path=\"url(#clip720)\" d=\"M1573.77 50.9592 Q1573.77 42.7359 1570.36 38.0774 Q1567 33.3783 1561.09 33.3783 Q1555.17 33.3783 1551.77 38.0774 Q1548.41 42.7359 1548.41 50.9592 Q1548.41 59.1826 1551.77 63.8816 Q1555.17 68.5402 1561.09 68.5402 Q1567 68.5402 1570.36 63.8816 Q1573.77 59.1826 1573.77 50.9592 M1548.41 35.1202 Q1550.76 31.0693 1554.32 29.1249 Q1557.93 27.1399 1562.91 27.1399 Q1571.17 27.1399 1576.32 33.7024 Q1581.5 40.2649 1581.5 50.9592 Q1581.5 61.6536 1576.32 68.2161 Q1571.17 74.7786 1562.91 74.7786 Q1557.93 74.7786 1554.32 72.8341 Q1550.76 70.8492 1548.41 66.7983 L1548.41 73.6038 L1540.91 73.6038 L1540.91 10.5717 L1548.41 10.5717 L1548.41 35.1202 Z\" fill=\"#000000\" fill-rule=\"evenodd\" fill-opacity=\"1\" /><path clip-path=\"url(#clip720)\" d=\"M1612.74 77.8167 Q1609.58 85.9185 1606.58 88.3896 Q1603.58 90.8606 1598.56 90.8606 L1592.6 90.8606 L1592.6 84.6223 L1596.98 84.6223 Q1600.06 84.6223 1601.76 83.1639 Q1603.46 81.7056 1605.53 76.2774 L1606.86 72.8746 L1588.51 28.2337 L1596.41 28.2337 L1610.59 63.7196 L1624.77 28.2337 L1632.67 28.2337 L1612.74 77.8167 Z\" fill=\"#000000\" fill-rule=\"evenodd\" fill-opacity=\"1\" /><path clip-path=\"url(#clip720)\" d=\"M1671.88 29.5705 L1671.88 36.619 Q1668.72 34.9987 1665.32 34.1885 Q1661.91 33.3783 1658.27 33.3783 Q1652.72 33.3783 1649.92 35.0797 Q1647.17 36.7811 1647.17 40.1838 Q1647.17 42.7764 1649.15 44.2753 Q1651.14 45.7336 1657.13 47.0704 L1659.69 47.6375 Q1667.63 49.3389 1670.95 52.4581 Q1674.31 55.5368 1674.31 61.0865 Q1674.31 67.4059 1669.29 71.0922 Q1664.3 74.7786 1655.55 74.7786 Q1651.91 74.7786 1647.94 74.0494 Q1644.01 73.3607 1639.63 71.9429 L1639.63 64.2462 Q1643.77 66.3932 1647.78 67.4869 Q1651.79 68.5402 1655.72 68.5402 Q1660.98 68.5402 1663.82 66.7578 Q1666.65 64.9349 1666.65 61.6536 Q1666.65 58.6155 1664.59 56.9951 Q1662.56 55.3747 1655.64 53.8759 L1653.04 53.2683 Q1646.12 51.8099 1643.04 48.8123 Q1639.96 45.7741 1639.96 40.5079 Q1639.96 34.1075 1644.5 30.6237 Q1649.03 27.1399 1657.38 27.1399 Q1661.51 27.1399 1665.16 27.7476 Q1668.8 28.3552 1671.88 29.5705 Z\" fill=\"#000000\" fill-rule=\"evenodd\" fill-opacity=\"1\" /><path clip-path=\"url(#clip720)\" d=\"M1723.89 46.2197 L1723.89 73.6038 L1716.44 73.6038 L1716.44 46.4627 Q1716.44 40.0218 1713.93 36.8216 Q1711.42 33.6214 1706.39 33.6214 Q1700.36 33.6214 1696.87 37.4697 Q1693.39 41.3181 1693.39 47.9616 L1693.39 73.6038 L1685.9 73.6038 L1685.9 10.5717 L1693.39 10.5717 L1693.39 35.2822 Q1696.06 31.1908 1699.67 29.1654 Q1703.31 27.1399 1708.05 27.1399 Q1715.87 27.1399 1719.88 32.001 Q1723.89 36.8216 1723.89 46.2197 Z\" fill=\"#000000\" fill-rule=\"evenodd\" fill-opacity=\"1\" /><path clip-path=\"url(#clip720)\" d=\"M1777.57 49.0553 L1777.57 52.7011 L1743.3 52.7011 Q1743.78 60.3978 1747.92 64.4488 Q1752.09 68.4591 1759.5 68.4591 Q1763.79 68.4591 1767.81 67.4059 Q1771.86 66.3527 1775.83 64.2462 L1775.83 71.2948 Q1771.82 72.9962 1767.6 73.8874 Q1763.39 74.7786 1759.06 74.7786 Q1748.2 74.7786 1741.84 68.4591 Q1735.52 62.1397 1735.52 51.3643 Q1735.52 40.2243 1741.51 33.7024 Q1747.55 27.1399 1757.76 27.1399 Q1766.91 27.1399 1772.22 33.0542 Q1777.57 38.9281 1777.57 49.0553 M1770.11 46.8678 Q1770.03 40.751 1766.67 37.1051 Q1763.35 33.4593 1757.84 33.4593 Q1751.6 33.4593 1747.83 36.9836 Q1744.11 40.5079 1743.54 46.9083 L1770.11 46.8678 Z\" fill=\"#000000\" fill-rule=\"evenodd\" fill-opacity=\"1\" /><path clip-path=\"url(#clip720)\" d=\"M1784.45 28.2337 L1792.35 28.2337 L1806.53 66.3122 L1820.71 28.2337 L1828.61 28.2337 L1811.6 73.6038 L1801.47 73.6038 L1784.45 28.2337 Z\" fill=\"#000000\" fill-rule=\"evenodd\" fill-opacity=\"1\" /><path clip-path=\"url(#clip720)\" d=\"M1872.48 66.7983 L1872.48 90.8606 L1864.99 90.8606 L1864.99 28.2337 L1872.48 28.2337 L1872.48 35.1202 Q1874.83 31.0693 1878.39 29.1249 Q1882 27.1399 1886.98 27.1399 Q1895.25 27.1399 1900.39 33.7024 Q1905.58 40.2649 1905.58 50.9592 Q1905.58 61.6536 1900.39 68.2161 Q1895.25 74.7786 1886.98 74.7786 Q1882 74.7786 1878.39 72.8341 Q1874.83 70.8492 1872.48 66.7983 M1897.84 50.9592 Q1897.84 42.7359 1894.44 38.0774 Q1891.07 33.3783 1885.16 33.3783 Q1879.25 33.3783 1875.84 38.0774 Q1872.48 42.7359 1872.48 50.9592 Q1872.48 59.1826 1875.84 63.8816 Q1879.25 68.5402 1885.16 68.5402 Q1891.07 68.5402 1894.44 63.8816 Q1897.84 59.1826 1897.84 50.9592 Z\" fill=\"#000000\" fill-rule=\"evenodd\" fill-opacity=\"1\" /><path clip-path=\"url(#clip720)\" d=\"M1935.51 33.4593 Q1929.52 33.4593 1926.03 38.1584 Q1922.55 42.8169 1922.55 50.9592 Q1922.55 59.1016 1925.99 63.8006 Q1929.48 68.4591 1935.51 68.4591 Q1941.47 68.4591 1944.95 63.7601 Q1948.43 59.0611 1948.43 50.9592 Q1948.43 42.8979 1944.95 38.1989 Q1941.47 33.4593 1935.51 33.4593 M1935.51 27.1399 Q1945.23 27.1399 1950.78 33.4593 Q1956.33 39.7787 1956.33 50.9592 Q1956.33 62.0992 1950.78 68.4591 Q1945.23 74.7786 1935.51 74.7786 Q1925.75 74.7786 1920.2 68.4591 Q1914.69 62.0992 1914.69 50.9592 Q1914.69 39.7787 1920.2 33.4593 Q1925.75 27.1399 1935.51 27.1399 Z\" fill=\"#000000\" fill-rule=\"evenodd\" fill-opacity=\"1\" /><path clip-path=\"url(#clip720)\" d=\"M1968.69 10.5717 L1976.14 10.5717 L1976.14 73.6038 L1968.69 73.6038 L1968.69 10.5717 Z\" fill=\"#000000\" fill-rule=\"evenodd\" fill-opacity=\"1\" /><path clip-path=\"url(#clip720)\" d=\"M2010.62 77.8167 Q2007.46 85.9185 2004.46 88.3896 Q2001.46 90.8606 1996.44 90.8606 L1990.48 90.8606 L1990.48 84.6223 L1994.86 84.6223 Q1997.94 84.6223 1999.64 83.1639 Q2001.34 81.7056 2003.41 76.2774 L2004.74 72.8746 L1986.39 28.2337 L1994.29 28.2337 L2008.47 63.7196 L2022.65 28.2337 L2030.55 28.2337 L2010.62 77.8167 Z\" fill=\"#000000\" fill-rule=\"evenodd\" fill-opacity=\"1\" /><path clip-path=\"url(#clip720)\" d=\"M2078.55 46.2197 L2078.55 73.6038 L2071.1 73.6038 L2071.1 46.4627 Q2071.1 40.0218 2068.58 36.8216 Q2066.07 33.6214 2061.05 33.6214 Q2055.01 33.6214 2051.53 37.4697 Q2048.05 41.3181 2048.05 47.9616 L2048.05 73.6038 L2040.55 73.6038 L2040.55 28.2337 L2048.05 28.2337 L2048.05 35.2822 Q2050.72 31.1908 2054.33 29.1654 Q2057.97 27.1399 2062.71 27.1399 Q2070.53 27.1399 2074.54 32.001 Q2078.55 36.8216 2078.55 46.2197 Z\" fill=\"#000000\" fill-rule=\"evenodd\" fill-opacity=\"1\" /><path clip-path=\"url(#clip720)\" d=\"M2111 33.4593 Q2105 33.4593 2101.52 38.1584 Q2098.03 42.8169 2098.03 50.9592 Q2098.03 59.1016 2101.48 63.8006 Q2104.96 68.4591 2111 68.4591 Q2116.95 68.4591 2120.44 63.7601 Q2123.92 59.0611 2123.92 50.9592 Q2123.92 42.8979 2120.44 38.1989 Q2116.95 33.4593 2111 33.4593 M2111 27.1399 Q2120.72 27.1399 2126.27 33.4593 Q2131.82 39.7787 2131.82 50.9592 Q2131.82 62.0992 2126.27 68.4591 Q2120.72 74.7786 2111 74.7786 Q2101.23 74.7786 2095.69 68.4591 Q2090.18 62.0992 2090.18 50.9592 Q2090.18 39.7787 2095.69 33.4593 Q2101.23 27.1399 2111 27.1399 Z\" fill=\"#000000\" fill-rule=\"evenodd\" fill-opacity=\"1\" /><path clip-path=\"url(#clip720)\" d=\"M2179.5 36.9431 Q2182.29 31.92 2186.18 29.53 Q2190.07 27.1399 2195.34 27.1399 Q2202.43 27.1399 2206.27 32.1225 Q2210.12 37.0646 2210.12 46.2197 L2210.12 73.6038 L2202.63 73.6038 L2202.63 46.4627 Q2202.63 39.9408 2200.32 36.7811 Q2198.01 33.6214 2193.27 33.6214 Q2187.48 33.6214 2184.12 37.4697 Q2180.75 41.3181 2180.75 47.9616 L2180.75 73.6038 L2173.26 73.6038 L2173.26 46.4627 Q2173.26 39.9003 2170.95 36.7811 Q2168.64 33.6214 2163.82 33.6214 Q2158.11 33.6214 2154.75 37.5102 Q2151.39 41.3586 2151.39 47.9616 L2151.39 73.6038 L2143.89 73.6038 L2143.89 28.2337 L2151.39 28.2337 L2151.39 35.2822 Q2153.94 31.1098 2157.5 29.1249 Q2161.07 27.1399 2165.97 27.1399 Q2170.91 27.1399 2174.35 29.6515 Q2177.84 32.163 2179.5 36.9431 Z\" fill=\"#000000\" fill-rule=\"evenodd\" fill-opacity=\"1\" /><path clip-path=\"url(#clip720)\" d=\"M2224.99 28.2337 L2232.44 28.2337 L2232.44 73.6038 L2224.99 73.6038 L2224.99 28.2337 M2224.99 10.5717 L2232.44 10.5717 L2232.44 20.0103 L2224.99 20.0103 L2224.99 10.5717 Z\" fill=\"#000000\" fill-rule=\"evenodd\" fill-opacity=\"1\" /><path clip-path=\"url(#clip720)\" d=\"M2268.66 50.7972 Q2259.63 50.7972 2256.14 52.8632 Q2252.66 54.9291 2252.66 59.9117 Q2252.66 63.8816 2255.25 66.2312 Q2257.88 68.5402 2262.38 68.5402 Q2268.58 68.5402 2272.3 64.1652 Q2276.07 59.7497 2276.07 52.4581 L2276.07 50.7972 L2268.66 50.7972 M2283.53 47.7185 L2283.53 73.6038 L2276.07 73.6038 L2276.07 66.7173 Q2273.52 70.8492 2269.71 72.8341 Q2265.9 74.7786 2260.39 74.7786 Q2253.43 74.7786 2249.3 70.8897 Q2245.2 66.9603 2245.2 60.3978 Q2245.2 52.7416 2250.31 48.8528 Q2255.45 44.9639 2265.62 44.9639 L2276.07 44.9639 L2276.07 44.2347 Q2276.07 39.0901 2272.67 36.295 Q2269.31 33.4593 2263.19 33.4593 Q2259.3 33.4593 2255.61 34.391 Q2251.93 35.3228 2248.53 37.1862 L2248.53 30.2996 Q2252.62 28.7198 2256.47 27.9501 Q2260.31 27.1399 2263.96 27.1399 Q2273.8 27.1399 2278.66 32.2441 Q2283.53 37.3482 2283.53 47.7185 Z\" fill=\"#000000\" fill-rule=\"evenodd\" fill-opacity=\"1\" /><path clip-path=\"url(#clip720)\" d=\"M2298.88 10.5717 L2306.33 10.5717 L2306.33 73.6038 L2298.88 73.6038 L2298.88 10.5717 Z\" fill=\"#000000\" fill-rule=\"evenodd\" fill-opacity=\"1\" /><path clip-path=\"url(#clip720)\" d=\"M2350.85 29.5705 L2350.85 36.619 Q2347.69 34.9987 2344.29 34.1885 Q2340.89 33.3783 2337.24 33.3783 Q2331.69 33.3783 2328.9 35.0797 Q2326.14 36.7811 2326.14 40.1838 Q2326.14 42.7764 2328.13 44.2753 Q2330.11 45.7336 2336.11 47.0704 L2338.66 47.6375 Q2346.6 49.3389 2349.92 52.4581 Q2353.28 55.5368 2353.28 61.0865 Q2353.28 67.4059 2348.26 71.0922 Q2343.28 74.7786 2334.53 74.7786 Q2330.88 74.7786 2326.91 74.0494 Q2322.98 73.3607 2318.61 71.9429 L2318.61 64.2462 Q2322.74 66.3932 2326.75 67.4869 Q2330.76 68.5402 2334.69 68.5402 Q2339.95 68.5402 2342.79 66.7578 Q2345.63 64.9349 2345.63 61.6536 Q2345.63 58.6155 2343.56 56.9951 Q2341.53 55.3747 2334.61 53.8759 L2332.01 53.2683 Q2325.09 51.8099 2322.01 48.8123 Q2318.93 45.7741 2318.93 40.5079 Q2318.93 34.1075 2323.47 30.6237 Q2328 27.1399 2336.35 27.1399 Q2340.48 27.1399 2344.13 27.7476 Q2347.77 28.3552 2350.85 29.5705 Z\" fill=\"#000000\" fill-rule=\"evenodd\" fill-opacity=\"1\" /><polyline clip-path=\"url(#clip722)\" style=\"stroke:#000000; stroke-linecap:round; stroke-linejoin:round; stroke-width:8; stroke-opacity:1; fill:none\" points=\"\n",
       "  237.067,1386.4 319.23,1374.86 401.393,1362.12 483.555,1348.03 565.718,1332.47 647.881,1315.26 730.043,1296.25 812.206,1275.24 894.369,1252.02 976.531,1226.35 \n",
       "  1058.69,1197.99 1140.86,1166.64 1223.02,1132 1305.18,1093.71 1387.34,1051.4 1469.51,1004.64 1551.67,952.953 1633.83,895.836 1716,832.711 1798.16,762.948 \n",
       "  1880.32,685.848 \n",
       "  \"/>\n",
       "<polyline clip-path=\"url(#clip722)\" style=\"stroke:#008000; stroke-linecap:round; stroke-linejoin:round; stroke-width:8; stroke-opacity:1; fill:none\" stroke-dasharray=\"32, 20\" points=\"\n",
       "  237.067,1386.4 319.23,1374.86 401.393,1362.12 483.555,1348.03 565.718,1332.47 647.881,1315.26 730.043,1296.25 812.206,1275.24 894.369,1252.02 976.531,1226.35 \n",
       "  1058.69,1197.99 1140.86,1166.64 1223.02,1132 1305.18,1093.71 1387.34,1051.4 1469.51,1004.64 1551.67,952.953 1633.83,895.836 1716,832.711 1798.16,762.948 \n",
       "  1880.32,685.848 \n",
       "  \"/>\n",
       "<path clip-path=\"url(#clip722)\" d=\"M221.067 1370.4 L221.067 1402.4 L253.067 1402.4 L253.067 1370.4 L221.067 1370.4 Z\" fill=\"#e26f46\" fill-rule=\"evenodd\" fill-opacity=\"1\" stroke=\"#000000\" stroke-opacity=\"1\" stroke-width=\"3.2\"/>\n",
       "<path clip-path=\"url(#clip722)\" d=\"M303.23 1358.86 L303.23 1390.86 L335.23 1390.86 L335.23 1358.86 L303.23 1358.86 Z\" fill=\"#e26f46\" fill-rule=\"evenodd\" fill-opacity=\"1\" stroke=\"#000000\" stroke-opacity=\"1\" stroke-width=\"3.2\"/>\n",
       "<path clip-path=\"url(#clip722)\" d=\"M385.393 1346.12 L385.393 1378.12 L417.393 1378.12 L417.393 1346.12 L385.393 1346.12 Z\" fill=\"#e26f46\" fill-rule=\"evenodd\" fill-opacity=\"1\" stroke=\"#000000\" stroke-opacity=\"1\" stroke-width=\"3.2\"/>\n",
       "<path clip-path=\"url(#clip722)\" d=\"M467.555 1332.03 L467.555 1364.03 L499.555 1364.03 L499.555 1332.03 L467.555 1332.03 Z\" fill=\"#e26f46\" fill-rule=\"evenodd\" fill-opacity=\"1\" stroke=\"#000000\" stroke-opacity=\"1\" stroke-width=\"3.2\"/>\n",
       "<path clip-path=\"url(#clip722)\" d=\"M549.718 1316.47 L549.718 1348.47 L581.718 1348.47 L581.718 1316.47 L549.718 1316.47 Z\" fill=\"#e26f46\" fill-rule=\"evenodd\" fill-opacity=\"1\" stroke=\"#000000\" stroke-opacity=\"1\" stroke-width=\"3.2\"/>\n",
       "<path clip-path=\"url(#clip722)\" d=\"M631.881 1299.26 L631.881 1331.26 L663.881 1331.26 L663.881 1299.26 L631.881 1299.26 Z\" fill=\"#e26f46\" fill-rule=\"evenodd\" fill-opacity=\"1\" stroke=\"#000000\" stroke-opacity=\"1\" stroke-width=\"3.2\"/>\n",
       "<path clip-path=\"url(#clip722)\" d=\"M714.043 1280.25 L714.043 1312.25 L746.043 1312.25 L746.043 1280.25 L714.043 1280.25 Z\" fill=\"#e26f46\" fill-rule=\"evenodd\" fill-opacity=\"1\" stroke=\"#000000\" stroke-opacity=\"1\" stroke-width=\"3.2\"/>\n",
       "<path clip-path=\"url(#clip722)\" d=\"M796.206 1259.24 L796.206 1291.24 L828.206 1291.24 L828.206 1259.24 L796.206 1259.24 Z\" fill=\"#e26f46\" fill-rule=\"evenodd\" fill-opacity=\"1\" stroke=\"#000000\" stroke-opacity=\"1\" stroke-width=\"3.2\"/>\n",
       "<path clip-path=\"url(#clip722)\" d=\"M878.369 1236.02 L878.369 1268.02 L910.369 1268.02 L910.369 1236.02 L878.369 1236.02 Z\" fill=\"#e26f46\" fill-rule=\"evenodd\" fill-opacity=\"1\" stroke=\"#000000\" stroke-opacity=\"1\" stroke-width=\"3.2\"/>\n",
       "<path clip-path=\"url(#clip722)\" d=\"M960.531 1210.35 L960.531 1242.35 L992.531 1242.35 L992.531 1210.35 L960.531 1210.35 Z\" fill=\"#e26f46\" fill-rule=\"evenodd\" fill-opacity=\"1\" stroke=\"#000000\" stroke-opacity=\"1\" stroke-width=\"3.2\"/>\n",
       "<path clip-path=\"url(#clip722)\" d=\"M1042.69 1181.99 L1042.69 1213.99 L1074.69 1213.99 L1074.69 1181.99 L1042.69 1181.99 Z\" fill=\"#e26f46\" fill-rule=\"evenodd\" fill-opacity=\"1\" stroke=\"#000000\" stroke-opacity=\"1\" stroke-width=\"3.2\"/>\n",
       "<path clip-path=\"url(#clip722)\" d=\"M1124.86 1150.64 L1124.86 1182.64 L1156.86 1182.64 L1156.86 1150.64 L1124.86 1150.64 Z\" fill=\"#e26f46\" fill-rule=\"evenodd\" fill-opacity=\"1\" stroke=\"#000000\" stroke-opacity=\"1\" stroke-width=\"3.2\"/>\n",
       "<path clip-path=\"url(#clip722)\" d=\"M1207.02 1116 L1207.02 1148 L1239.02 1148 L1239.02 1116 L1207.02 1116 Z\" fill=\"#e26f46\" fill-rule=\"evenodd\" fill-opacity=\"1\" stroke=\"#000000\" stroke-opacity=\"1\" stroke-width=\"3.2\"/>\n",
       "<path clip-path=\"url(#clip722)\" d=\"M1289.18 1077.71 L1289.18 1109.71 L1321.18 1109.71 L1321.18 1077.71 L1289.18 1077.71 Z\" fill=\"#e26f46\" fill-rule=\"evenodd\" fill-opacity=\"1\" stroke=\"#000000\" stroke-opacity=\"1\" stroke-width=\"3.2\"/>\n",
       "<path clip-path=\"url(#clip722)\" d=\"M1371.34 1035.4 L1371.34 1067.4 L1403.34 1067.4 L1403.34 1035.4 L1371.34 1035.4 Z\" fill=\"#e26f46\" fill-rule=\"evenodd\" fill-opacity=\"1\" stroke=\"#000000\" stroke-opacity=\"1\" stroke-width=\"3.2\"/>\n",
       "<path clip-path=\"url(#clip722)\" d=\"M1453.51 988.635 L1453.51 1020.64 L1485.51 1020.64 L1485.51 988.635 L1453.51 988.635 Z\" fill=\"#e26f46\" fill-rule=\"evenodd\" fill-opacity=\"1\" stroke=\"#000000\" stroke-opacity=\"1\" stroke-width=\"3.2\"/>\n",
       "<path clip-path=\"url(#clip722)\" d=\"M1535.67 936.953 L1535.67 968.953 L1567.67 968.953 L1567.67 936.953 L1535.67 936.953 Z\" fill=\"#e26f46\" fill-rule=\"evenodd\" fill-opacity=\"1\" stroke=\"#000000\" stroke-opacity=\"1\" stroke-width=\"3.2\"/>\n",
       "<path clip-path=\"url(#clip722)\" d=\"M1617.83 879.836 L1617.83 911.836 L1649.83 911.836 L1649.83 879.836 L1617.83 879.836 Z\" fill=\"#e26f46\" fill-rule=\"evenodd\" fill-opacity=\"1\" stroke=\"#000000\" stroke-opacity=\"1\" stroke-width=\"3.2\"/>\n",
       "<path clip-path=\"url(#clip722)\" d=\"M1700 816.711 L1700 848.711 L1732 848.711 L1732 816.711 L1700 816.711 Z\" fill=\"#e26f46\" fill-rule=\"evenodd\" fill-opacity=\"1\" stroke=\"#000000\" stroke-opacity=\"1\" stroke-width=\"3.2\"/>\n",
       "<path clip-path=\"url(#clip722)\" d=\"M1782.16 746.948 L1782.16 778.948 L1814.16 778.948 L1814.16 746.948 L1782.16 746.948 Z\" fill=\"#e26f46\" fill-rule=\"evenodd\" fill-opacity=\"1\" stroke=\"#000000\" stroke-opacity=\"1\" stroke-width=\"3.2\"/>\n",
       "<path clip-path=\"url(#clip722)\" d=\"M1864.32 669.848 L1864.32 701.848 L1896.32 701.848 L1896.32 669.848 L1864.32 669.848 Z\" fill=\"#e26f46\" fill-rule=\"evenodd\" fill-opacity=\"1\" stroke=\"#000000\" stroke-opacity=\"1\" stroke-width=\"3.2\"/>\n",
       "<polyline clip-path=\"url(#clip722)\" style=\"stroke:#0000ff; stroke-linecap:round; stroke-linejoin:round; stroke-width:8; stroke-opacity:1; fill:none\" stroke-dasharray=\"4, 8\" points=\"\n",
       "  1880.32,685.848 1962.48,600.639 2044.65,506.468 2126.81,402.393 2208.97,287.373 2291.13,160.256 \n",
       "  \"/>\n",
       "<circle clip-path=\"url(#clip722)\" cx=\"1880.32\" cy=\"685.848\" r=\"14.4\" fill=\"#3da44d\" fill-rule=\"evenodd\" fill-opacity=\"1\" stroke=\"#000000\" stroke-opacity=\"1\" stroke-width=\"3.2\"/>\n",
       "<circle clip-path=\"url(#clip722)\" cx=\"1962.48\" cy=\"600.639\" r=\"14.4\" fill=\"#3da44d\" fill-rule=\"evenodd\" fill-opacity=\"1\" stroke=\"#000000\" stroke-opacity=\"1\" stroke-width=\"3.2\"/>\n",
       "<circle clip-path=\"url(#clip722)\" cx=\"2044.65\" cy=\"506.468\" r=\"14.4\" fill=\"#3da44d\" fill-rule=\"evenodd\" fill-opacity=\"1\" stroke=\"#000000\" stroke-opacity=\"1\" stroke-width=\"3.2\"/>\n",
       "<circle clip-path=\"url(#clip722)\" cx=\"2126.81\" cy=\"402.393\" r=\"14.4\" fill=\"#3da44d\" fill-rule=\"evenodd\" fill-opacity=\"1\" stroke=\"#000000\" stroke-opacity=\"1\" stroke-width=\"3.2\"/>\n",
       "<circle clip-path=\"url(#clip722)\" cx=\"2208.97\" cy=\"287.373\" r=\"14.4\" fill=\"#3da44d\" fill-rule=\"evenodd\" fill-opacity=\"1\" stroke=\"#000000\" stroke-opacity=\"1\" stroke-width=\"3.2\"/>\n",
       "<circle clip-path=\"url(#clip722)\" cx=\"2291.13\" cy=\"160.256\" r=\"14.4\" fill=\"#3da44d\" fill-rule=\"evenodd\" fill-opacity=\"1\" stroke=\"#000000\" stroke-opacity=\"1\" stroke-width=\"3.2\"/>\n",
       "<path clip-path=\"url(#clip720)\" d=\"\n",
       "M248.022 374.156 L1358.85 374.156 L1358.85 166.796 L248.022 166.796  Z\n",
       "  \" fill=\"#ffffff\" fill-rule=\"evenodd\" fill-opacity=\"1\"/>\n",
       "<polyline clip-path=\"url(#clip720)\" style=\"stroke:#000000; stroke-linecap:round; stroke-linejoin:round; stroke-width:4; stroke-opacity:1; fill:none\" points=\"\n",
       "  248.022,374.156 1358.85,374.156 1358.85,166.796 248.022,166.796 248.022,374.156 \n",
       "  \"/>\n",
       "<polyline clip-path=\"url(#clip720)\" style=\"stroke:#000000; stroke-linecap:round; stroke-linejoin:round; stroke-width:8; stroke-opacity:1; fill:none\" points=\"\n",
       "  272.215,218.636 417.369,218.636 \n",
       "  \"/>\n",
       "<path clip-path=\"url(#clip720)\" d=\"M441.561 195.951 L463.413 195.951 L463.413 199.886 L446.237 199.886 L446.237 210.117 L462.695 210.117 L462.695 214.052 L446.237 214.052 L446.237 226.576 L463.829 226.576 L463.829 230.511 L441.561 230.511 L441.561 195.951 Z\" fill=\"#000000\" fill-rule=\"evenodd\" fill-opacity=\"1\" /><path clip-path=\"url(#clip720)\" d=\"M492.88 204.585 L483.505 217.201 L493.366 230.511 L488.343 230.511 L480.797 220.326 L473.251 230.511 L468.227 230.511 L478.297 216.946 L469.084 204.585 L474.107 204.585 L480.982 213.821 L487.857 204.585 L492.88 204.585 Z\" fill=\"#000000\" fill-rule=\"evenodd\" fill-opacity=\"1\" /><path clip-path=\"url(#clip720)\" d=\"M511.167 217.478 Q506.005 217.478 504.014 218.659 Q502.024 219.839 502.024 222.687 Q502.024 224.955 503.505 226.298 Q505.01 227.617 507.579 227.617 Q511.121 227.617 513.25 225.117 Q515.403 222.594 515.403 218.427 L515.403 217.478 L511.167 217.478 M519.662 215.719 L519.662 230.511 L515.403 230.511 L515.403 226.576 Q513.945 228.937 511.769 230.071 Q509.593 231.182 506.445 231.182 Q502.463 231.182 500.102 228.96 Q497.764 226.714 497.764 222.964 Q497.764 218.589 500.681 216.367 Q503.621 214.145 509.431 214.145 L515.403 214.145 L515.403 213.728 Q515.403 210.789 513.459 209.191 Q511.537 207.571 508.042 207.571 Q505.82 207.571 503.713 208.103 Q501.607 208.636 499.663 209.701 L499.663 205.765 Q502 204.863 504.2 204.423 Q506.399 203.96 508.482 203.96 Q514.107 203.96 516.885 206.877 Q519.662 209.793 519.662 215.719 Z\" fill=\"#000000\" fill-rule=\"evenodd\" fill-opacity=\"1\" /><path clip-path=\"url(#clip720)\" d=\"M547.093 205.58 L547.093 209.562 Q545.287 208.566 543.459 208.08 Q541.653 207.571 539.801 207.571 Q535.658 207.571 533.366 210.21 Q531.074 212.826 531.074 217.571 Q531.074 222.316 533.366 224.955 Q535.658 227.571 539.801 227.571 Q541.653 227.571 543.459 227.085 Q545.287 226.576 547.093 225.58 L547.093 229.515 Q545.31 230.349 543.389 230.765 Q541.491 231.182 539.338 231.182 Q533.482 231.182 530.033 227.501 Q526.584 223.821 526.584 217.571 Q526.584 211.228 530.056 207.594 Q533.551 203.96 539.616 203.96 Q541.584 203.96 543.459 204.377 Q545.334 204.77 547.093 205.58 Z\" fill=\"#000000\" fill-rule=\"evenodd\" fill-opacity=\"1\" /><path clip-path=\"url(#clip720)\" d=\"M558.713 197.224 L558.713 204.585 L567.486 204.585 L567.486 207.895 L558.713 207.895 L558.713 221.969 Q558.713 225.14 559.57 226.043 Q560.449 226.946 563.111 226.946 L567.486 226.946 L567.486 230.511 L563.111 230.511 Q558.181 230.511 556.306 228.682 Q554.431 226.83 554.431 221.969 L554.431 207.895 L551.306 207.895 L551.306 204.585 L554.431 204.585 L554.431 197.224 L558.713 197.224 Z\" fill=\"#000000\" fill-rule=\"evenodd\" fill-opacity=\"1\" /><path clip-path=\"url(#clip720)\" d=\"M601.282 194.492 L601.282 198.034 L597.208 198.034 Q594.917 198.034 594.014 198.96 Q593.134 199.886 593.134 202.293 L593.134 204.585 L600.148 204.585 L600.148 207.895 L593.134 207.895 L593.134 230.511 L588.852 230.511 L588.852 207.895 L584.778 207.895 L584.778 204.585 L588.852 204.585 L588.852 202.779 Q588.852 198.451 590.866 196.483 Q592.88 194.492 597.255 194.492 L601.282 194.492 Z\" fill=\"#000000\" fill-rule=\"evenodd\" fill-opacity=\"1\" /><path clip-path=\"url(#clip720)\" d=\"M604.407 220.279 L604.407 204.585 L608.667 204.585 L608.667 220.117 Q608.667 223.798 610.102 225.65 Q611.537 227.478 614.407 227.478 Q617.856 227.478 619.847 225.279 Q621.861 223.08 621.861 219.284 L621.861 204.585 L626.12 204.585 L626.12 230.511 L621.861 230.511 L621.861 226.529 Q620.31 228.89 618.25 230.048 Q616.213 231.182 613.504 231.182 Q609.037 231.182 606.722 228.404 Q604.407 225.626 604.407 220.279 M615.125 203.96 L615.125 203.96 Z\" fill=\"#000000\" fill-rule=\"evenodd\" fill-opacity=\"1\" /><path clip-path=\"url(#clip720)\" d=\"M656.444 214.863 L656.444 230.511 L652.185 230.511 L652.185 215.002 Q652.185 211.321 650.75 209.492 Q649.314 207.664 646.444 207.664 Q642.995 207.664 641.004 209.863 Q639.014 212.062 639.014 215.858 L639.014 230.511 L634.731 230.511 L634.731 204.585 L639.014 204.585 L639.014 208.613 Q640.541 206.275 642.602 205.117 Q644.685 203.96 647.393 203.96 Q651.861 203.96 654.152 206.738 Q656.444 209.492 656.444 214.863 Z\" fill=\"#000000\" fill-rule=\"evenodd\" fill-opacity=\"1\" /><path clip-path=\"url(#clip720)\" d=\"M683.597 205.58 L683.597 209.562 Q681.791 208.566 679.962 208.08 Q678.157 207.571 676.305 207.571 Q672.162 207.571 669.87 210.21 Q667.578 212.826 667.578 217.571 Q667.578 222.316 669.87 224.955 Q672.162 227.571 676.305 227.571 Q678.157 227.571 679.962 227.085 Q681.791 226.576 683.597 225.58 L683.597 229.515 Q681.814 230.349 679.893 230.765 Q677.995 231.182 675.842 231.182 Q669.986 231.182 666.537 227.501 Q663.088 223.821 663.088 217.571 Q663.088 211.228 666.56 207.594 Q670.055 203.96 676.12 203.96 Q678.087 203.96 679.962 204.377 Q681.837 204.77 683.597 205.58 Z\" fill=\"#000000\" fill-rule=\"evenodd\" fill-opacity=\"1\" /><path clip-path=\"url(#clip720)\" d=\"M695.217 197.224 L695.217 204.585 L703.99 204.585 L703.99 207.895 L695.217 207.895 L695.217 221.969 Q695.217 225.14 696.073 226.043 Q696.953 226.946 699.615 226.946 L703.99 226.946 L703.99 230.511 L699.615 230.511 Q694.685 230.511 692.81 228.682 Q690.935 226.83 690.935 221.969 L690.935 207.895 L687.81 207.895 L687.81 204.585 L690.935 204.585 L690.935 197.224 L695.217 197.224 Z\" fill=\"#000000\" fill-rule=\"evenodd\" fill-opacity=\"1\" /><path clip-path=\"url(#clip720)\" d=\"M709.592 204.585 L713.851 204.585 L713.851 230.511 L709.592 230.511 L709.592 204.585 M709.592 194.492 L713.851 194.492 L713.851 199.886 L709.592 199.886 L709.592 194.492 Z\" fill=\"#000000\" fill-rule=\"evenodd\" fill-opacity=\"1\" /><path clip-path=\"url(#clip720)\" d=\"M732.809 207.571 Q729.383 207.571 727.393 210.256 Q725.402 212.918 725.402 217.571 Q725.402 222.224 727.37 224.909 Q729.36 227.571 732.809 227.571 Q736.212 227.571 738.203 224.886 Q740.194 222.201 740.194 217.571 Q740.194 212.965 738.203 210.279 Q736.212 207.571 732.809 207.571 M732.809 203.96 Q738.365 203.96 741.536 207.571 Q744.707 211.182 744.707 217.571 Q744.707 223.937 741.536 227.571 Q738.365 231.182 732.809 231.182 Q727.231 231.182 724.059 227.571 Q720.911 223.937 720.911 217.571 Q720.911 211.182 724.059 207.571 Q727.231 203.96 732.809 203.96 Z\" fill=\"#000000\" fill-rule=\"evenodd\" fill-opacity=\"1\" /><path clip-path=\"url(#clip720)\" d=\"M773.318 214.863 L773.318 230.511 L769.059 230.511 L769.059 215.002 Q769.059 211.321 767.624 209.492 Q766.189 207.664 763.318 207.664 Q759.869 207.664 757.879 209.863 Q755.888 212.062 755.888 215.858 L755.888 230.511 L751.606 230.511 L751.606 204.585 L755.888 204.585 L755.888 208.613 Q757.416 206.275 759.476 205.117 Q761.559 203.96 764.268 203.96 Q768.735 203.96 771.027 206.738 Q773.318 209.492 773.318 214.863 Z\" fill=\"#000000\" fill-rule=\"evenodd\" fill-opacity=\"1\" /><path clip-path=\"url(#clip720)\" d=\"M816.33 199.991 Q816.33 201.28 815.51 202.076 Q814.714 202.872 813.707 202.872 Q812.98 202.872 812.442 202.427 Q811.926 201.982 811.926 201.209 Q811.926 200.413 812.535 199.57 Q813.144 198.726 814.526 198.609 Q813.613 197.743 812.161 197.743 Q811.435 197.743 810.826 198.211 Q810.24 198.656 809.912 199.382 Q809.561 200.132 808.764 204.371 Q808.507 205.753 808.273 207.088 Q808.038 208.423 807.757 209.829 L811.739 209.829 Q812.254 209.829 812.465 209.852 Q812.676 209.876 812.84 209.993 Q813.027 210.11 813.027 210.367 Q813.027 211.023 812.723 211.187 Q812.442 211.328 811.599 211.328 L807.476 211.328 L804.595 226.529 Q804.525 226.974 804.22 228.379 Q803.939 229.761 803.26 232.033 Q802.581 234.329 801.902 235.687 Q801.527 236.46 801.035 237.186 Q800.567 237.936 799.887 238.685 Q799.208 239.435 798.318 239.88 Q797.428 240.348 796.491 240.348 Q794.898 240.348 793.657 239.458 Q792.416 238.568 792.416 237.046 Q792.416 235.757 793.212 234.961 Q794.032 234.165 795.039 234.165 Q795.765 234.165 796.28 234.61 Q796.819 235.055 796.819 235.828 Q796.819 236.156 796.702 236.53 Q796.585 236.905 796.327 237.327 Q796.069 237.772 795.507 238.076 Q794.945 238.381 794.172 238.428 Q795.086 239.294 796.491 239.294 Q796.936 239.294 797.334 239.107 Q797.732 238.943 798.06 238.521 Q798.412 238.1 798.669 237.678 Q798.927 237.28 799.185 236.507 Q799.442 235.757 799.606 235.195 Q799.77 234.633 799.981 233.626 Q800.215 232.619 800.332 232.01 Q800.449 231.424 800.66 230.276 L804.244 211.328 L801.082 211.328 Q800.52 211.328 800.286 211.304 Q800.075 211.281 799.911 211.164 Q799.747 211.023 799.747 210.742 Q799.747 210.297 799.934 210.11 Q800.145 209.899 800.379 209.876 Q800.613 209.829 801.176 209.829 L804.502 209.829 Q805.626 203.903 806.071 202.31 Q806.586 200.624 807.383 199.453 Q808.179 198.258 809.069 197.696 Q809.959 197.134 810.685 196.923 Q811.435 196.689 812.161 196.689 Q813.8 196.689 815.065 197.579 Q816.33 198.445 816.33 199.991 Z\" fill=\"#000000\" fill-rule=\"evenodd\" fill-opacity=\"1\" /><path clip-path=\"url(#clip720)\" d=\"M822.783 218.518 Q822.783 210.414 825.804 203.879 Q827.092 201.139 828.896 198.844 Q830.699 196.548 831.894 195.541 Q833.088 194.534 833.416 194.534 Q833.885 194.534 833.908 195.002 Q833.908 195.237 833.276 195.822 Q825.546 203.692 825.57 218.518 Q825.57 233.392 833.088 240.957 Q833.908 241.777 833.908 242.035 Q833.908 242.503 833.416 242.503 Q833.088 242.503 831.941 241.543 Q830.793 240.582 829.013 238.381 Q827.233 236.179 825.945 233.485 Q822.783 226.951 822.783 218.518 Z\" fill=\"#000000\" fill-rule=\"evenodd\" fill-opacity=\"1\" /><path clip-path=\"url(#clip720)\" d=\"M861.441 212.475 Q861.441 213.787 860.621 214.537 Q859.801 215.263 858.864 215.263 Q857.974 215.263 857.506 214.747 Q857.038 214.232 857.038 213.576 Q857.038 212.686 857.693 211.913 Q858.349 211.14 859.333 210.976 Q858.373 210.367 856.944 210.367 Q856.007 210.367 855.187 210.859 Q854.391 211.351 853.899 211.984 Q853.43 212.616 853.009 213.529 Q852.611 214.419 852.447 214.958 Q852.306 215.474 852.189 216.036 L850.549 222.594 Q849.753 225.709 849.753 226.81 Q849.753 228.168 850.409 229.082 Q851.065 229.972 852.376 229.972 Q852.892 229.972 853.477 229.831 Q854.063 229.668 854.812 229.246 Q855.585 228.801 856.265 228.145 Q856.967 227.466 857.646 226.318 Q858.326 225.17 858.771 223.695 Q858.911 223.179 859.38 223.179 Q859.965 223.179 859.965 223.648 Q859.965 224.046 859.637 224.889 Q859.333 225.709 858.654 226.787 Q857.998 227.841 857.131 228.801 Q856.265 229.738 854.976 230.394 Q853.688 231.049 852.283 231.049 Q850.268 231.049 848.933 229.972 Q847.598 228.895 847.106 227.396 Q846.989 227.606 846.825 227.887 Q846.661 228.168 846.169 228.801 Q845.701 229.41 845.162 229.878 Q844.624 230.323 843.78 230.675 Q842.961 231.049 842.071 231.049 Q840.946 231.049 839.939 230.722 Q838.955 230.394 838.253 229.644 Q837.55 228.895 837.55 227.864 Q837.55 226.716 838.323 225.92 Q839.119 225.1 840.197 225.1 Q840.876 225.1 841.415 225.498 Q841.977 225.896 841.977 226.763 Q841.977 227.723 841.321 228.45 Q840.665 229.176 839.728 229.363 Q840.689 229.972 842.117 229.972 Q843.663 229.972 844.881 228.613 Q846.099 227.255 846.685 224.983 Q848.137 219.526 848.699 217.09 Q849.261 214.63 849.261 213.576 Q849.261 212.593 849.004 211.913 Q848.746 211.234 848.301 210.93 Q847.879 210.602 847.481 210.485 Q847.106 210.367 846.685 210.367 Q845.982 210.367 845.186 210.648 Q844.413 210.93 843.476 211.585 Q842.562 212.218 841.696 213.529 Q840.829 214.841 840.244 216.645 Q840.126 217.183 839.611 217.183 Q839.049 217.16 839.049 216.691 Q839.049 216.293 839.354 215.474 Q839.681 214.63 840.337 213.576 Q841.017 212.522 841.883 211.585 Q842.773 210.625 844.061 209.969 Q845.373 209.313 846.778 209.313 Q847.411 209.313 848.02 209.454 Q848.652 209.571 849.402 209.922 Q850.175 210.274 850.854 211.047 Q851.533 211.82 851.955 212.944 Q852.236 212.405 852.611 211.89 Q853.009 211.375 853.618 210.742 Q854.25 210.086 855.117 209.712 Q856.007 209.313 856.991 209.313 Q857.951 209.313 858.888 209.571 Q859.825 209.805 860.621 210.578 Q861.441 211.328 861.441 212.475 Z\" fill=\"#000000\" fill-rule=\"evenodd\" fill-opacity=\"1\" /><path clip-path=\"url(#clip720)\" d=\"M866.053 242.035 Q866.053 241.8 866.662 241.215 Q874.392 233.345 874.392 218.518 Q874.392 203.645 866.967 196.127 Q866.053 195.26 866.053 195.002 Q866.053 194.534 866.522 194.534 Q866.85 194.534 867.998 195.494 Q869.169 196.454 870.925 198.656 Q872.705 200.858 874.017 203.551 Q877.179 210.086 877.179 218.518 Q877.179 226.623 874.158 233.157 Q872.869 235.898 871.066 238.193 Q869.262 240.489 868.068 241.496 Q866.873 242.503 866.522 242.503 Q866.053 242.503 866.053 242.035 Z\" fill=\"#000000\" fill-rule=\"evenodd\" fill-opacity=\"1\" /><path clip-path=\"url(#clip720)\" d=\"M897.774 223.226 Q897.821 222.641 898.734 222.641 L928.129 222.641 Q929.511 222.641 929.535 223.179 Q929.535 223.765 928.223 223.742 L899.062 223.742 Q897.774 223.765 897.774 223.226 M897.774 213.857 Q897.774 213.272 898.781 213.295 L928.082 213.295 Q929.511 213.295 929.535 213.857 Q929.535 214.396 928.317 214.396 L898.734 214.396 Q897.774 214.396 897.774 213.857 Z\" fill=\"#000000\" fill-rule=\"evenodd\" fill-opacity=\"1\" /><path clip-path=\"url(#clip720)\" d=\"M966.271 224.96 Q966.459 225.17 966.459 225.381 Q966.459 225.592 965.99 226.201 Q965.545 226.81 964.585 227.63 Q963.625 228.45 962.383 229.222 Q961.142 229.995 959.315 230.511 Q957.488 231.049 955.567 231.049 Q952.124 231.049 950.063 228.59 Q948.025 226.131 948.025 222.36 Q948.025 219.947 948.822 217.816 Q949.618 215.661 950.906 214.138 Q952.218 212.616 953.858 211.515 Q955.521 210.391 957.254 209.852 Q958.987 209.313 960.603 209.313 Q962.969 209.313 964.351 210.508 Q965.733 211.702 965.733 213.389 Q965.733 213.787 965.616 214.279 Q965.522 214.771 965.194 215.544 Q964.89 216.317 964.093 217.09 Q963.297 217.839 962.126 218.331 Q959.526 219.432 954.794 219.432 L952.241 219.432 Q951.492 222.453 951.492 224.421 Q951.492 225.194 951.632 225.99 Q951.773 226.763 952.148 227.747 Q952.546 228.731 953.436 229.363 Q954.349 229.972 955.661 229.972 Q956.083 229.972 956.528 229.949 Q956.996 229.925 958.167 229.668 Q959.362 229.41 960.416 228.965 Q961.47 228.52 962.805 227.559 Q964.163 226.576 965.241 225.241 Q965.616 224.749 965.873 224.749 Q966.084 224.749 966.271 224.96 M964.14 213.389 Q964.14 212.101 963.18 211.234 Q962.243 210.367 960.603 210.367 Q960.088 210.367 959.456 210.485 Q958.823 210.602 957.769 211.094 Q956.739 211.585 955.825 212.405 Q954.912 213.202 953.998 214.771 Q953.085 216.317 952.546 218.378 L954.513 218.378 Q955.193 218.378 955.685 218.378 Q956.176 218.354 957.254 218.261 Q958.355 218.167 959.151 218.003 Q959.947 217.816 960.955 217.441 Q961.962 217.066 962.594 216.574 Q963.25 216.059 963.695 215.239 Q964.14 214.419 964.14 213.389 Z\" fill=\"#000000\" fill-rule=\"evenodd\" fill-opacity=\"1\" /><path clip-path=\"url(#clip720)\" d=\"M988.119 200.936 Q988.119 201.855 987.545 202.379 Q986.971 202.888 986.315 202.888 Q985.692 202.888 985.365 202.527 Q985.037 202.166 985.037 201.707 Q985.037 201.084 985.496 200.543 Q985.955 200.002 986.643 199.887 Q985.971 199.461 984.971 199.461 Q984.315 199.461 983.741 199.805 Q983.184 200.149 982.84 200.592 Q982.512 201.035 982.217 201.674 Q981.938 202.297 981.823 202.674 Q981.725 203.035 981.643 203.429 L980.495 208.019 Q979.938 210.2 979.938 210.971 Q979.938 211.922 980.397 212.561 Q980.856 213.184 981.774 213.184 Q982.135 213.184 982.544 213.086 Q982.954 212.971 983.479 212.676 Q984.02 212.364 984.496 211.905 Q984.987 211.43 985.463 210.626 Q985.938 209.823 986.25 208.79 Q986.348 208.429 986.676 208.429 Q987.086 208.429 987.086 208.757 Q987.086 209.036 986.857 209.626 Q986.643 210.2 986.168 210.954 Q985.709 211.692 985.102 212.364 Q984.496 213.02 983.594 213.479 Q982.692 213.938 981.708 213.938 Q980.298 213.938 979.364 213.184 Q978.429 212.43 978.085 211.381 Q978.003 211.528 977.888 211.725 Q977.773 211.922 977.429 212.364 Q977.101 212.791 976.724 213.119 Q976.347 213.43 975.757 213.676 Q975.183 213.938 974.56 213.938 Q973.773 213.938 973.068 213.709 Q972.379 213.479 971.887 212.955 Q971.395 212.43 971.395 211.708 Q971.395 210.905 971.936 210.348 Q972.494 209.774 973.248 209.774 Q973.724 209.774 974.101 210.053 Q974.494 210.331 974.494 210.938 Q974.494 211.61 974.035 212.118 Q973.576 212.627 972.92 212.758 Q973.592 213.184 974.593 213.184 Q975.675 213.184 976.527 212.233 Q977.38 211.282 977.79 209.692 Q978.806 205.872 979.2 204.166 Q979.593 202.445 979.593 201.707 Q979.593 201.018 979.413 200.543 Q979.233 200.068 978.921 199.854 Q978.626 199.625 978.347 199.543 Q978.085 199.461 977.79 199.461 Q977.298 199.461 976.74 199.658 Q976.199 199.854 975.544 200.313 Q974.904 200.756 974.297 201.674 Q973.691 202.592 973.281 203.855 Q973.199 204.232 972.838 204.232 Q972.445 204.216 972.445 203.888 Q972.445 203.609 972.658 203.035 Q972.887 202.445 973.346 201.707 Q973.822 200.969 974.429 200.313 Q975.052 199.641 975.953 199.182 Q976.872 198.723 977.855 198.723 Q978.298 198.723 978.724 198.821 Q979.167 198.903 979.692 199.149 Q980.233 199.395 980.708 199.936 Q981.184 200.477 981.479 201.264 Q981.676 200.887 981.938 200.527 Q982.217 200.166 982.643 199.723 Q983.086 199.264 983.692 199.002 Q984.315 198.723 985.004 198.723 Q985.676 198.723 986.332 198.903 Q986.988 199.067 987.545 199.608 Q988.119 200.133 988.119 200.936 Z\" fill=\"#000000\" fill-rule=\"evenodd\" fill-opacity=\"1\" /><polyline clip-path=\"url(#clip720)\" style=\"stroke:#008000; stroke-linecap:round; stroke-linejoin:round; stroke-width:8; stroke-opacity:1; fill:none\" stroke-dasharray=\"32, 20\" points=\"\n",
       "  272.215,270.476 417.369,270.476 \n",
       "  \"/>\n",
       "<path clip-path=\"url(#clip720)\" d=\"M322.391 248.075 L322.391 292.876 L367.192 292.876 L367.192 248.075 L322.391 248.075 Z\" fill=\"#e26f46\" fill-rule=\"evenodd\" fill-opacity=\"1\" stroke=\"#000000\" stroke-opacity=\"1\" stroke-width=\"5.12\"/>\n",
       "<path clip-path=\"url(#clip720)\" d=\"M457.394 257.802 L451.052 275.001 L463.76 275.001 L457.394 257.802 M454.755 253.196 L460.056 253.196 L473.227 287.756 L468.366 287.756 L465.218 278.89 L449.64 278.89 L446.491 287.756 L441.561 287.756 L454.755 253.196 Z\" fill=\"#000000\" fill-rule=\"evenodd\" fill-opacity=\"1\" /><path clip-path=\"url(#clip720)\" d=\"M477.649 277.524 L477.649 261.83 L481.908 261.83 L481.908 277.362 Q481.908 281.043 483.343 282.895 Q484.778 284.723 487.649 284.723 Q491.098 284.723 493.088 282.524 Q495.102 280.325 495.102 276.529 L495.102 261.83 L499.362 261.83 L499.362 287.756 L495.102 287.756 L495.102 283.774 Q493.551 286.135 491.491 287.293 Q489.454 288.427 486.746 288.427 Q482.278 288.427 479.964 285.649 Q477.649 282.871 477.649 277.524 M488.366 261.205 L488.366 261.205 Z\" fill=\"#000000\" fill-rule=\"evenodd\" fill-opacity=\"1\" /><path clip-path=\"url(#clip720)\" d=\"M512.348 254.469 L512.348 261.83 L521.121 261.83 L521.121 265.14 L512.348 265.14 L512.348 279.214 Q512.348 282.385 513.204 283.288 Q514.084 284.191 516.746 284.191 L521.121 284.191 L521.121 287.756 L516.746 287.756 Q511.815 287.756 509.94 285.927 Q508.065 284.075 508.065 279.214 L508.065 265.14 L504.94 265.14 L504.94 261.83 L508.065 261.83 L508.065 254.469 L512.348 254.469 Z\" fill=\"#000000\" fill-rule=\"evenodd\" fill-opacity=\"1\" /><path clip-path=\"url(#clip720)\" d=\"M536.769 264.816 Q533.343 264.816 531.352 267.501 Q529.361 270.163 529.361 274.816 Q529.361 279.469 531.329 282.154 Q533.32 284.816 536.769 284.816 Q540.172 284.816 542.162 282.131 Q544.153 279.446 544.153 274.816 Q544.153 270.21 542.162 267.524 Q540.172 264.816 536.769 264.816 M536.769 261.205 Q542.324 261.205 545.496 264.816 Q548.667 268.427 548.667 274.816 Q548.667 281.182 545.496 284.816 Q542.324 288.427 536.769 288.427 Q531.19 288.427 528.019 284.816 Q524.871 281.182 524.871 274.816 Q524.871 268.427 528.019 264.816 Q531.19 261.205 536.769 261.205 Z\" fill=\"#000000\" fill-rule=\"evenodd\" fill-opacity=\"1\" /><path clip-path=\"url(#clip720)\" d=\"M575.912 266.807 Q577.509 263.936 579.732 262.571 Q581.954 261.205 584.963 261.205 Q589.014 261.205 591.213 264.052 Q593.412 266.876 593.412 272.108 L593.412 287.756 L589.13 287.756 L589.13 272.247 Q589.13 268.52 587.81 266.714 Q586.491 264.909 583.782 264.909 Q580.472 264.909 578.551 267.108 Q576.63 269.307 576.63 273.103 L576.63 287.756 L572.347 287.756 L572.347 272.247 Q572.347 268.497 571.028 266.714 Q569.708 264.909 566.954 264.909 Q563.69 264.909 561.769 267.131 Q559.847 269.33 559.847 273.103 L559.847 287.756 L555.565 287.756 L555.565 261.83 L559.847 261.83 L559.847 265.858 Q561.306 263.473 563.343 262.339 Q565.38 261.205 568.181 261.205 Q571.005 261.205 572.972 262.64 Q574.963 264.075 575.912 266.807 Z\" fill=\"#000000\" fill-rule=\"evenodd\" fill-opacity=\"1\" /><path clip-path=\"url(#clip720)\" d=\"M613.69 274.723 Q608.528 274.723 606.537 275.904 Q604.546 277.084 604.546 279.932 Q604.546 282.2 606.028 283.543 Q607.532 284.862 610.102 284.862 Q613.643 284.862 615.773 282.362 Q617.926 279.839 617.926 275.672 L617.926 274.723 L613.69 274.723 M622.185 272.964 L622.185 287.756 L617.926 287.756 L617.926 283.821 Q616.467 286.182 614.292 287.316 Q612.116 288.427 608.967 288.427 Q604.986 288.427 602.625 286.205 Q600.287 283.959 600.287 280.209 Q600.287 275.834 603.204 273.612 Q606.143 271.39 611.954 271.39 L617.926 271.39 L617.926 270.973 Q617.926 268.034 615.981 266.436 Q614.06 264.816 610.565 264.816 Q608.342 264.816 606.236 265.348 Q604.13 265.881 602.185 266.946 L602.185 263.01 Q604.523 262.108 606.722 261.668 Q608.921 261.205 611.004 261.205 Q616.629 261.205 619.407 264.122 Q622.185 267.038 622.185 272.964 Z\" fill=\"#000000\" fill-rule=\"evenodd\" fill-opacity=\"1\" /><path clip-path=\"url(#clip720)\" d=\"M635.171 254.469 L635.171 261.83 L643.944 261.83 L643.944 265.14 L635.171 265.14 L635.171 279.214 Q635.171 282.385 636.028 283.288 Q636.907 284.191 639.569 284.191 L643.944 284.191 L643.944 287.756 L639.569 287.756 Q634.639 287.756 632.764 285.927 Q630.889 284.075 630.889 279.214 L630.889 265.14 L627.764 265.14 L627.764 261.83 L630.889 261.83 L630.889 254.469 L635.171 254.469 Z\" fill=\"#000000\" fill-rule=\"evenodd\" fill-opacity=\"1\" /><path clip-path=\"url(#clip720)\" d=\"M649.546 261.83 L653.805 261.83 L653.805 287.756 L649.546 287.756 L649.546 261.83 M649.546 251.737 L653.805 251.737 L653.805 257.131 L649.546 257.131 L649.546 251.737 Z\" fill=\"#000000\" fill-rule=\"evenodd\" fill-opacity=\"1\" /><path clip-path=\"url(#clip720)\" d=\"M681.374 262.825 L681.374 266.807 Q679.569 265.811 677.74 265.325 Q675.935 264.816 674.083 264.816 Q669.939 264.816 667.648 267.455 Q665.356 270.071 665.356 274.816 Q665.356 279.561 667.648 282.2 Q669.939 284.816 674.083 284.816 Q675.935 284.816 677.74 284.33 Q679.569 283.821 681.374 282.825 L681.374 286.76 Q679.592 287.594 677.671 288.01 Q675.773 288.427 673.62 288.427 Q667.763 288.427 664.314 284.746 Q660.865 281.066 660.865 274.816 Q660.865 268.473 664.338 264.839 Q667.833 261.205 673.898 261.205 Q675.865 261.205 677.74 261.622 Q679.615 262.015 681.374 262.825 Z\" fill=\"#000000\" fill-rule=\"evenodd\" fill-opacity=\"1\" /><path clip-path=\"url(#clip720)\" d=\"M715.587 257.802 L709.245 275.001 L721.953 275.001 L715.587 257.802 M712.948 253.196 L718.249 253.196 L731.421 287.756 L726.559 287.756 L723.411 278.89 L707.833 278.89 L704.685 287.756 L699.754 287.756 L712.948 253.196 Z\" fill=\"#000000\" fill-rule=\"evenodd\" fill-opacity=\"1\" /><path clip-path=\"url(#clip720)\" d=\"M740.402 283.867 L740.402 297.617 L736.12 297.617 L736.12 261.83 L740.402 261.83 L740.402 265.765 Q741.745 263.45 743.782 262.339 Q745.842 261.205 748.689 261.205 Q753.411 261.205 756.351 264.955 Q759.314 268.705 759.314 274.816 Q759.314 280.927 756.351 284.677 Q753.411 288.427 748.689 288.427 Q745.842 288.427 743.782 287.316 Q741.745 286.182 740.402 283.867 M754.893 274.816 Q754.893 270.117 752.948 267.455 Q751.027 264.77 747.647 264.77 Q744.268 264.77 742.323 267.455 Q740.402 270.117 740.402 274.816 Q740.402 279.515 742.323 282.2 Q744.268 284.862 747.647 284.862 Q751.027 284.862 752.948 282.2 Q754.893 279.515 754.893 274.816 Z\" fill=\"#000000\" fill-rule=\"evenodd\" fill-opacity=\"1\" /><path clip-path=\"url(#clip720)\" d=\"M770.494 283.867 L770.494 297.617 L766.212 297.617 L766.212 261.83 L770.494 261.83 L770.494 265.765 Q771.837 263.45 773.874 262.339 Q775.934 261.205 778.781 261.205 Q783.504 261.205 786.443 264.955 Q789.406 268.705 789.406 274.816 Q789.406 280.927 786.443 284.677 Q783.504 288.427 778.781 288.427 Q775.934 288.427 773.874 287.316 Q771.837 286.182 770.494 283.867 M784.985 274.816 Q784.985 270.117 783.041 267.455 Q781.119 264.77 777.74 264.77 Q774.36 264.77 772.416 267.455 Q770.494 270.117 770.494 274.816 Q770.494 279.515 772.416 282.2 Q774.36 284.862 777.74 284.862 Q781.119 284.862 783.041 282.2 Q784.985 279.515 784.985 274.816 Z\" fill=\"#000000\" fill-rule=\"evenodd\" fill-opacity=\"1\" /><path clip-path=\"url(#clip720)\" d=\"M811.49 265.811 Q810.772 265.395 809.915 265.21 Q809.082 265.001 808.064 265.001 Q804.453 265.001 802.508 267.362 Q800.587 269.7 800.587 274.098 L800.587 287.756 L796.304 287.756 L796.304 261.83 L800.587 261.83 L800.587 265.858 Q801.929 263.497 804.082 262.362 Q806.235 261.205 809.314 261.205 Q809.753 261.205 810.286 261.274 Q810.818 261.321 811.466 261.436 L811.49 265.811 Z\" fill=\"#000000\" fill-rule=\"evenodd\" fill-opacity=\"1\" /><path clip-path=\"url(#clip720)\" d=\"M824.962 264.816 Q821.536 264.816 819.545 267.501 Q817.554 270.163 817.554 274.816 Q817.554 279.469 819.522 282.154 Q821.513 284.816 824.962 284.816 Q828.364 284.816 830.355 282.131 Q832.346 279.446 832.346 274.816 Q832.346 270.21 830.355 267.524 Q828.364 264.816 824.962 264.816 M824.962 261.205 Q830.517 261.205 833.688 264.816 Q836.86 268.427 836.86 274.816 Q836.86 281.182 833.688 284.816 Q830.517 288.427 824.962 288.427 Q819.383 288.427 816.212 284.816 Q813.064 281.182 813.064 274.816 Q813.064 268.427 816.212 264.816 Q819.383 261.205 824.962 261.205 Z\" fill=\"#000000\" fill-rule=\"evenodd\" fill-opacity=\"1\" /><path clip-path=\"url(#clip720)\" d=\"M864.012 261.83 L854.637 274.446 L864.499 287.756 L859.475 287.756 L851.929 277.571 L844.383 287.756 L839.36 287.756 L849.429 274.191 L840.216 261.83 L845.239 261.83 L852.114 271.066 L858.989 261.83 L864.012 261.83 Z\" fill=\"#000000\" fill-rule=\"evenodd\" fill-opacity=\"1\" /><path clip-path=\"url(#clip720)\" d=\"M870.517 261.83 L874.776 261.83 L874.776 287.756 L870.517 287.756 L870.517 261.83 M870.517 251.737 L874.776 251.737 L874.776 257.131 L870.517 257.131 L870.517 251.737 Z\" fill=\"#000000\" fill-rule=\"evenodd\" fill-opacity=\"1\" /><path clip-path=\"url(#clip720)\" d=\"M903.873 266.807 Q905.471 263.936 907.693 262.571 Q909.915 261.205 912.924 261.205 Q916.975 261.205 919.174 264.052 Q921.373 266.876 921.373 272.108 L921.373 287.756 L917.091 287.756 L917.091 272.247 Q917.091 268.52 915.771 266.714 Q914.452 264.909 911.744 264.909 Q908.433 264.909 906.512 267.108 Q904.591 269.307 904.591 273.103 L904.591 287.756 L900.309 287.756 L900.309 272.247 Q900.309 268.497 898.989 266.714 Q897.67 264.909 894.915 264.909 Q891.651 264.909 889.73 267.131 Q887.809 269.33 887.809 273.103 L887.809 287.756 L883.526 287.756 L883.526 261.83 L887.809 261.83 L887.809 265.858 Q889.267 263.473 891.304 262.339 Q893.341 261.205 896.142 261.205 Q898.966 261.205 900.933 262.64 Q902.924 264.075 903.873 266.807 Z\" fill=\"#000000\" fill-rule=\"evenodd\" fill-opacity=\"1\" /><path clip-path=\"url(#clip720)\" d=\"M941.651 274.723 Q936.489 274.723 934.498 275.904 Q932.507 277.084 932.507 279.932 Q932.507 282.2 933.989 283.543 Q935.493 284.862 938.063 284.862 Q941.605 284.862 943.734 282.362 Q945.887 279.839 945.887 275.672 L945.887 274.723 L941.651 274.723 M950.146 272.964 L950.146 287.756 L945.887 287.756 L945.887 283.821 Q944.429 286.182 942.253 287.316 Q940.077 288.427 936.929 288.427 Q932.947 288.427 930.586 286.205 Q928.248 283.959 928.248 280.209 Q928.248 275.834 931.165 273.612 Q934.105 271.39 939.915 271.39 L945.887 271.39 L945.887 270.973 Q945.887 268.034 943.943 266.436 Q942.021 264.816 938.526 264.816 Q936.304 264.816 934.197 265.348 Q932.091 265.881 930.146 266.946 L930.146 263.01 Q932.484 262.108 934.683 261.668 Q936.882 261.205 938.966 261.205 Q944.591 261.205 947.368 264.122 Q950.146 267.038 950.146 272.964 Z\" fill=\"#000000\" fill-rule=\"evenodd\" fill-opacity=\"1\" /><path clip-path=\"url(#clip720)\" d=\"M963.132 254.469 L963.132 261.83 L971.905 261.83 L971.905 265.14 L963.132 265.14 L963.132 279.214 Q963.132 282.385 963.989 283.288 Q964.868 284.191 967.53 284.191 L971.905 284.191 L971.905 287.756 L967.53 287.756 Q962.6 287.756 960.725 285.927 Q958.85 284.075 958.85 279.214 L958.85 265.14 L955.725 265.14 L955.725 261.83 L958.85 261.83 L958.85 254.469 L963.132 254.469 Z\" fill=\"#000000\" fill-rule=\"evenodd\" fill-opacity=\"1\" /><path clip-path=\"url(#clip720)\" d=\"M977.507 261.83 L981.766 261.83 L981.766 287.756 L977.507 287.756 L977.507 261.83 M977.507 251.737 L981.766 251.737 L981.766 257.131 L977.507 257.131 L977.507 251.737 Z\" fill=\"#000000\" fill-rule=\"evenodd\" fill-opacity=\"1\" /><path clip-path=\"url(#clip720)\" d=\"M1000.72 264.816 Q997.299 264.816 995.308 267.501 Q993.317 270.163 993.317 274.816 Q993.317 279.469 995.285 282.154 Q997.276 284.816 1000.72 284.816 Q1004.13 284.816 1006.12 282.131 Q1008.11 279.446 1008.11 274.816 Q1008.11 270.21 1006.12 267.524 Q1004.13 264.816 1000.72 264.816 M1000.72 261.205 Q1006.28 261.205 1009.45 264.816 Q1012.62 268.427 1012.62 274.816 Q1012.62 281.182 1009.45 284.816 Q1006.28 288.427 1000.72 288.427 Q995.146 288.427 991.975 284.816 Q988.827 281.182 988.827 274.816 Q988.827 268.427 991.975 264.816 Q995.146 261.205 1000.72 261.205 Z\" fill=\"#000000\" fill-rule=\"evenodd\" fill-opacity=\"1\" /><path clip-path=\"url(#clip720)\" d=\"M1041.23 272.108 L1041.23 287.756 L1036.97 287.756 L1036.97 272.247 Q1036.97 268.566 1035.54 266.737 Q1034.1 264.909 1031.23 264.909 Q1027.78 264.909 1025.79 267.108 Q1023.8 269.307 1023.8 273.103 L1023.8 287.756 L1019.52 287.756 L1019.52 261.83 L1023.8 261.83 L1023.8 265.858 Q1025.33 263.52 1027.39 262.362 Q1029.47 261.205 1032.18 261.205 Q1036.65 261.205 1038.94 263.983 Q1041.23 266.737 1041.23 272.108 Z\" fill=\"#000000\" fill-rule=\"evenodd\" fill-opacity=\"1\" /><path clip-path=\"url(#clip720)\" d=\"M1074.84 264.816 Q1071.42 264.816 1069.43 267.501 Q1067.44 270.163 1067.44 274.816 Q1067.44 279.469 1069.4 282.154 Q1071.4 284.816 1074.84 284.816 Q1078.25 284.816 1080.24 282.131 Q1082.23 279.446 1082.23 274.816 Q1082.23 270.21 1080.24 267.524 Q1078.25 264.816 1074.84 264.816 M1074.84 261.205 Q1080.4 261.205 1083.57 264.816 Q1086.74 268.427 1086.74 274.816 Q1086.74 281.182 1083.57 284.816 Q1080.4 288.427 1074.84 288.427 Q1069.27 288.427 1066.09 284.816 Q1062.95 281.182 1062.95 274.816 Q1062.95 268.427 1066.09 264.816 Q1069.27 261.205 1074.84 261.205 Z\" fill=\"#000000\" fill-rule=\"evenodd\" fill-opacity=\"1\" /><path clip-path=\"url(#clip720)\" d=\"M1090.75 261.83 L1095.26 261.83 L1103.36 283.589 L1111.46 261.83 L1115.98 261.83 L1106.26 287.756 L1100.47 287.756 L1090.75 261.83 Z\" fill=\"#000000\" fill-rule=\"evenodd\" fill-opacity=\"1\" /><path clip-path=\"url(#clip720)\" d=\"M1144.03 273.728 L1144.03 275.811 L1124.45 275.811 Q1124.73 280.209 1127.09 282.524 Q1129.47 284.816 1133.71 284.816 Q1136.16 284.816 1138.46 284.214 Q1140.77 283.612 1143.04 282.409 L1143.04 286.436 Q1140.75 287.408 1138.34 287.918 Q1135.93 288.427 1133.46 288.427 Q1127.25 288.427 1123.62 284.816 Q1120.01 281.205 1120.01 275.047 Q1120.01 268.682 1123.43 264.955 Q1126.88 261.205 1132.71 261.205 Q1137.95 261.205 1140.98 264.585 Q1144.03 267.941 1144.03 273.728 M1139.77 272.478 Q1139.73 268.983 1137.81 266.899 Q1135.91 264.816 1132.76 264.816 Q1129.2 264.816 1127.04 266.83 Q1124.91 268.844 1124.59 272.501 L1139.77 272.478 Z\" fill=\"#000000\" fill-rule=\"evenodd\" fill-opacity=\"1\" /><path clip-path=\"url(#clip720)\" d=\"M1166.05 265.811 Q1165.33 265.395 1164.47 265.21 Q1163.64 265.001 1162.62 265.001 Q1159.01 265.001 1157.07 267.362 Q1155.15 269.7 1155.15 274.098 L1155.15 287.756 L1150.86 287.756 L1150.86 261.83 L1155.15 261.83 L1155.15 265.858 Q1156.49 263.497 1158.64 262.362 Q1160.79 261.205 1163.87 261.205 Q1164.31 261.205 1164.84 261.274 Q1165.38 261.321 1166.02 261.436 L1166.05 265.811 Z\" fill=\"#000000\" fill-rule=\"evenodd\" fill-opacity=\"1\" /><path clip-path=\"url(#clip720)\" d=\"M1185.19 251.737 L1195.01 251.737 L1195.01 255.048 L1189.45 255.048 L1189.45 290.696 L1195.01 290.696 L1195.01 294.006 L1185.19 294.006 L1185.19 251.737 Z\" fill=\"#000000\" fill-rule=\"evenodd\" fill-opacity=\"1\" /><path clip-path=\"url(#clip720)\" d=\"M1201.93 272.872 L1214.4 272.872 L1214.4 276.668 L1201.93 276.668 L1201.93 272.872 Z\" fill=\"#000000\" fill-rule=\"evenodd\" fill-opacity=\"1\" /><path clip-path=\"url(#clip720)\" d=\"M1222.6 283.821 L1230.24 283.821 L1230.24 257.455 L1221.93 259.122 L1221.93 254.862 L1230.19 253.196 L1234.87 253.196 L1234.87 283.821 L1242.51 283.821 L1242.51 287.756 L1222.6 287.756 L1222.6 283.821 Z\" fill=\"#000000\" fill-rule=\"evenodd\" fill-opacity=\"1\" /><path clip-path=\"url(#clip720)\" d=\"M1252.44 281.876 L1257.32 281.876 L1257.32 285.858 L1253.52 293.265 L1250.54 293.265 L1252.44 285.858 L1252.44 281.876 Z\" fill=\"#000000\" fill-rule=\"evenodd\" fill-opacity=\"1\" /><path clip-path=\"url(#clip720)\" d=\"M1267.83 283.821 L1275.47 283.821 L1275.47 257.455 L1267.16 259.122 L1267.16 254.862 L1275.42 253.196 L1280.1 253.196 L1280.1 283.821 L1287.74 283.821 L1287.74 287.756 L1267.83 287.756 L1267.83 283.821 Z\" fill=\"#000000\" fill-rule=\"evenodd\" fill-opacity=\"1\" /><path clip-path=\"url(#clip720)\" d=\"M1306.53 251.737 L1306.53 294.006 L1296.72 294.006 L1296.72 290.696 L1302.25 290.696 L1302.25 255.048 L1296.72 255.048 L1296.72 251.737 L1306.53 251.737 Z\" fill=\"#000000\" fill-rule=\"evenodd\" fill-opacity=\"1\" /><polyline clip-path=\"url(#clip720)\" style=\"stroke:#0000ff; stroke-linecap:round; stroke-linejoin:round; stroke-width:8; stroke-opacity:1; fill:none\" stroke-dasharray=\"4, 8\" points=\"\n",
       "  272.215,322.316 417.369,322.316 \n",
       "  \"/>\n",
       "<circle clip-path=\"url(#clip720)\" cx=\"344.792\" cy=\"322.316\" r=\"20.1603\" fill=\"#3da44d\" fill-rule=\"evenodd\" fill-opacity=\"1\" stroke=\"#000000\" stroke-opacity=\"1\" stroke-width=\"5.12\"/>\n",
       "<path clip-path=\"url(#clip720)\" d=\"M457.394 309.642 L451.052 326.841 L463.76 326.841 L457.394 309.642 M454.755 305.036 L460.056 305.036 L473.227 339.596 L468.366 339.596 L465.218 330.73 L449.64 330.73 L446.491 339.596 L441.561 339.596 L454.755 305.036 Z\" fill=\"#000000\" fill-rule=\"evenodd\" fill-opacity=\"1\" /><path clip-path=\"url(#clip720)\" d=\"M477.649 329.364 L477.649 313.67 L481.908 313.67 L481.908 329.202 Q481.908 332.883 483.343 334.735 Q484.778 336.563 487.649 336.563 Q491.098 336.563 493.088 334.364 Q495.102 332.165 495.102 328.369 L495.102 313.67 L499.362 313.67 L499.362 339.596 L495.102 339.596 L495.102 335.614 Q493.551 337.975 491.491 339.133 Q489.454 340.267 486.746 340.267 Q482.278 340.267 479.964 337.489 Q477.649 334.711 477.649 329.364 M488.366 313.045 L488.366 313.045 Z\" fill=\"#000000\" fill-rule=\"evenodd\" fill-opacity=\"1\" /><path clip-path=\"url(#clip720)\" d=\"M512.348 306.309 L512.348 313.67 L521.121 313.67 L521.121 316.98 L512.348 316.98 L512.348 331.054 Q512.348 334.225 513.204 335.128 Q514.084 336.031 516.746 336.031 L521.121 336.031 L521.121 339.596 L516.746 339.596 Q511.815 339.596 509.94 337.767 Q508.065 335.915 508.065 331.054 L508.065 316.98 L504.94 316.98 L504.94 313.67 L508.065 313.67 L508.065 306.309 L512.348 306.309 Z\" fill=\"#000000\" fill-rule=\"evenodd\" fill-opacity=\"1\" /><path clip-path=\"url(#clip720)\" d=\"M536.769 316.656 Q533.343 316.656 531.352 319.341 Q529.361 322.003 529.361 326.656 Q529.361 331.309 531.329 333.994 Q533.32 336.656 536.769 336.656 Q540.172 336.656 542.162 333.971 Q544.153 331.286 544.153 326.656 Q544.153 322.05 542.162 319.364 Q540.172 316.656 536.769 316.656 M536.769 313.045 Q542.324 313.045 545.496 316.656 Q548.667 320.267 548.667 326.656 Q548.667 333.022 545.496 336.656 Q542.324 340.267 536.769 340.267 Q531.19 340.267 528.019 336.656 Q524.871 333.022 524.871 326.656 Q524.871 320.267 528.019 316.656 Q531.19 313.045 536.769 313.045 Z\" fill=\"#000000\" fill-rule=\"evenodd\" fill-opacity=\"1\" /><path clip-path=\"url(#clip720)\" d=\"M575.912 318.647 Q577.509 315.776 579.732 314.411 Q581.954 313.045 584.963 313.045 Q589.014 313.045 591.213 315.892 Q593.412 318.716 593.412 323.948 L593.412 339.596 L589.13 339.596 L589.13 324.087 Q589.13 320.36 587.81 318.554 Q586.491 316.749 583.782 316.749 Q580.472 316.749 578.551 318.948 Q576.63 321.147 576.63 324.943 L576.63 339.596 L572.347 339.596 L572.347 324.087 Q572.347 320.337 571.028 318.554 Q569.708 316.749 566.954 316.749 Q563.69 316.749 561.769 318.971 Q559.847 321.17 559.847 324.943 L559.847 339.596 L555.565 339.596 L555.565 313.67 L559.847 313.67 L559.847 317.698 Q561.306 315.313 563.343 314.179 Q565.38 313.045 568.181 313.045 Q571.005 313.045 572.972 314.48 Q574.963 315.915 575.912 318.647 Z\" fill=\"#000000\" fill-rule=\"evenodd\" fill-opacity=\"1\" /><path clip-path=\"url(#clip720)\" d=\"M613.69 326.563 Q608.528 326.563 606.537 327.744 Q604.546 328.924 604.546 331.772 Q604.546 334.04 606.028 335.383 Q607.532 336.702 610.102 336.702 Q613.643 336.702 615.773 334.202 Q617.926 331.679 617.926 327.512 L617.926 326.563 L613.69 326.563 M622.185 324.804 L622.185 339.596 L617.926 339.596 L617.926 335.661 Q616.467 338.022 614.292 339.156 Q612.116 340.267 608.967 340.267 Q604.986 340.267 602.625 338.045 Q600.287 335.799 600.287 332.049 Q600.287 327.674 603.204 325.452 Q606.143 323.23 611.954 323.23 L617.926 323.23 L617.926 322.813 Q617.926 319.874 615.981 318.276 Q614.06 316.656 610.565 316.656 Q608.342 316.656 606.236 317.188 Q604.13 317.721 602.185 318.786 L602.185 314.85 Q604.523 313.948 606.722 313.508 Q608.921 313.045 611.004 313.045 Q616.629 313.045 619.407 315.962 Q622.185 318.878 622.185 324.804 Z\" fill=\"#000000\" fill-rule=\"evenodd\" fill-opacity=\"1\" /><path clip-path=\"url(#clip720)\" d=\"M635.171 306.309 L635.171 313.67 L643.944 313.67 L643.944 316.98 L635.171 316.98 L635.171 331.054 Q635.171 334.225 636.028 335.128 Q636.907 336.031 639.569 336.031 L643.944 336.031 L643.944 339.596 L639.569 339.596 Q634.639 339.596 632.764 337.767 Q630.889 335.915 630.889 331.054 L630.889 316.98 L627.764 316.98 L627.764 313.67 L630.889 313.67 L630.889 306.309 L635.171 306.309 Z\" fill=\"#000000\" fill-rule=\"evenodd\" fill-opacity=\"1\" /><path clip-path=\"url(#clip720)\" d=\"M649.546 313.67 L653.805 313.67 L653.805 339.596 L649.546 339.596 L649.546 313.67 M649.546 303.577 L653.805 303.577 L653.805 308.971 L649.546 308.971 L649.546 303.577 Z\" fill=\"#000000\" fill-rule=\"evenodd\" fill-opacity=\"1\" /><path clip-path=\"url(#clip720)\" d=\"M681.374 314.665 L681.374 318.647 Q679.569 317.651 677.74 317.165 Q675.935 316.656 674.083 316.656 Q669.939 316.656 667.648 319.295 Q665.356 321.911 665.356 326.656 Q665.356 331.401 667.648 334.04 Q669.939 336.656 674.083 336.656 Q675.935 336.656 677.74 336.17 Q679.569 335.661 681.374 334.665 L681.374 338.6 Q679.592 339.434 677.671 339.85 Q675.773 340.267 673.62 340.267 Q667.763 340.267 664.314 336.586 Q660.865 332.906 660.865 326.656 Q660.865 320.313 664.338 316.679 Q667.833 313.045 673.898 313.045 Q675.865 313.045 677.74 313.462 Q679.615 313.855 681.374 314.665 Z\" fill=\"#000000\" fill-rule=\"evenodd\" fill-opacity=\"1\" /><path clip-path=\"url(#clip720)\" d=\"M715.587 309.642 L709.245 326.841 L721.953 326.841 L715.587 309.642 M712.948 305.036 L718.249 305.036 L731.421 339.596 L726.559 339.596 L723.411 330.73 L707.833 330.73 L704.685 339.596 L699.754 339.596 L712.948 305.036 Z\" fill=\"#000000\" fill-rule=\"evenodd\" fill-opacity=\"1\" /><path clip-path=\"url(#clip720)\" d=\"M740.402 335.707 L740.402 349.457 L736.12 349.457 L736.12 313.67 L740.402 313.67 L740.402 317.605 Q741.745 315.29 743.782 314.179 Q745.842 313.045 748.689 313.045 Q753.411 313.045 756.351 316.795 Q759.314 320.545 759.314 326.656 Q759.314 332.767 756.351 336.517 Q753.411 340.267 748.689 340.267 Q745.842 340.267 743.782 339.156 Q741.745 338.022 740.402 335.707 M754.893 326.656 Q754.893 321.957 752.948 319.295 Q751.027 316.61 747.647 316.61 Q744.268 316.61 742.323 319.295 Q740.402 321.957 740.402 326.656 Q740.402 331.355 742.323 334.04 Q744.268 336.702 747.647 336.702 Q751.027 336.702 752.948 334.04 Q754.893 331.355 754.893 326.656 Z\" fill=\"#000000\" fill-rule=\"evenodd\" fill-opacity=\"1\" /><path clip-path=\"url(#clip720)\" d=\"M770.494 335.707 L770.494 349.457 L766.212 349.457 L766.212 313.67 L770.494 313.67 L770.494 317.605 Q771.837 315.29 773.874 314.179 Q775.934 313.045 778.781 313.045 Q783.504 313.045 786.443 316.795 Q789.406 320.545 789.406 326.656 Q789.406 332.767 786.443 336.517 Q783.504 340.267 778.781 340.267 Q775.934 340.267 773.874 339.156 Q771.837 338.022 770.494 335.707 M784.985 326.656 Q784.985 321.957 783.041 319.295 Q781.119 316.61 777.74 316.61 Q774.36 316.61 772.416 319.295 Q770.494 321.957 770.494 326.656 Q770.494 331.355 772.416 334.04 Q774.36 336.702 777.74 336.702 Q781.119 336.702 783.041 334.04 Q784.985 331.355 784.985 326.656 Z\" fill=\"#000000\" fill-rule=\"evenodd\" fill-opacity=\"1\" /><path clip-path=\"url(#clip720)\" d=\"M811.49 317.651 Q810.772 317.235 809.915 317.05 Q809.082 316.841 808.064 316.841 Q804.453 316.841 802.508 319.202 Q800.587 321.54 800.587 325.938 L800.587 339.596 L796.304 339.596 L796.304 313.67 L800.587 313.67 L800.587 317.698 Q801.929 315.337 804.082 314.202 Q806.235 313.045 809.314 313.045 Q809.753 313.045 810.286 313.114 Q810.818 313.161 811.466 313.276 L811.49 317.651 Z\" fill=\"#000000\" fill-rule=\"evenodd\" fill-opacity=\"1\" /><path clip-path=\"url(#clip720)\" d=\"M824.962 316.656 Q821.536 316.656 819.545 319.341 Q817.554 322.003 817.554 326.656 Q817.554 331.309 819.522 333.994 Q821.513 336.656 824.962 336.656 Q828.364 336.656 830.355 333.971 Q832.346 331.286 832.346 326.656 Q832.346 322.05 830.355 319.364 Q828.364 316.656 824.962 316.656 M824.962 313.045 Q830.517 313.045 833.688 316.656 Q836.86 320.267 836.86 326.656 Q836.86 333.022 833.688 336.656 Q830.517 340.267 824.962 340.267 Q819.383 340.267 816.212 336.656 Q813.064 333.022 813.064 326.656 Q813.064 320.267 816.212 316.656 Q819.383 313.045 824.962 313.045 Z\" fill=\"#000000\" fill-rule=\"evenodd\" fill-opacity=\"1\" /><path clip-path=\"url(#clip720)\" d=\"M864.012 313.67 L854.637 326.286 L864.499 339.596 L859.475 339.596 L851.929 329.411 L844.383 339.596 L839.36 339.596 L849.429 326.031 L840.216 313.67 L845.239 313.67 L852.114 322.906 L858.989 313.67 L864.012 313.67 Z\" fill=\"#000000\" fill-rule=\"evenodd\" fill-opacity=\"1\" /><path clip-path=\"url(#clip720)\" d=\"M870.517 313.67 L874.776 313.67 L874.776 339.596 L870.517 339.596 L870.517 313.67 M870.517 303.577 L874.776 303.577 L874.776 308.971 L870.517 308.971 L870.517 303.577 Z\" fill=\"#000000\" fill-rule=\"evenodd\" fill-opacity=\"1\" /><path clip-path=\"url(#clip720)\" d=\"M903.873 318.647 Q905.471 315.776 907.693 314.411 Q909.915 313.045 912.924 313.045 Q916.975 313.045 919.174 315.892 Q921.373 318.716 921.373 323.948 L921.373 339.596 L917.091 339.596 L917.091 324.087 Q917.091 320.36 915.771 318.554 Q914.452 316.749 911.744 316.749 Q908.433 316.749 906.512 318.948 Q904.591 321.147 904.591 324.943 L904.591 339.596 L900.309 339.596 L900.309 324.087 Q900.309 320.337 898.989 318.554 Q897.67 316.749 894.915 316.749 Q891.651 316.749 889.73 318.971 Q887.809 321.17 887.809 324.943 L887.809 339.596 L883.526 339.596 L883.526 313.67 L887.809 313.67 L887.809 317.698 Q889.267 315.313 891.304 314.179 Q893.341 313.045 896.142 313.045 Q898.966 313.045 900.933 314.48 Q902.924 315.915 903.873 318.647 Z\" fill=\"#000000\" fill-rule=\"evenodd\" fill-opacity=\"1\" /><path clip-path=\"url(#clip720)\" d=\"M941.651 326.563 Q936.489 326.563 934.498 327.744 Q932.507 328.924 932.507 331.772 Q932.507 334.04 933.989 335.383 Q935.493 336.702 938.063 336.702 Q941.605 336.702 943.734 334.202 Q945.887 331.679 945.887 327.512 L945.887 326.563 L941.651 326.563 M950.146 324.804 L950.146 339.596 L945.887 339.596 L945.887 335.661 Q944.429 338.022 942.253 339.156 Q940.077 340.267 936.929 340.267 Q932.947 340.267 930.586 338.045 Q928.248 335.799 928.248 332.049 Q928.248 327.674 931.165 325.452 Q934.105 323.23 939.915 323.23 L945.887 323.23 L945.887 322.813 Q945.887 319.874 943.943 318.276 Q942.021 316.656 938.526 316.656 Q936.304 316.656 934.197 317.188 Q932.091 317.721 930.146 318.786 L930.146 314.85 Q932.484 313.948 934.683 313.508 Q936.882 313.045 938.966 313.045 Q944.591 313.045 947.368 315.962 Q950.146 318.878 950.146 324.804 Z\" fill=\"#000000\" fill-rule=\"evenodd\" fill-opacity=\"1\" /><path clip-path=\"url(#clip720)\" d=\"M963.132 306.309 L963.132 313.67 L971.905 313.67 L971.905 316.98 L963.132 316.98 L963.132 331.054 Q963.132 334.225 963.989 335.128 Q964.868 336.031 967.53 336.031 L971.905 336.031 L971.905 339.596 L967.53 339.596 Q962.6 339.596 960.725 337.767 Q958.85 335.915 958.85 331.054 L958.85 316.98 L955.725 316.98 L955.725 313.67 L958.85 313.67 L958.85 306.309 L963.132 306.309 Z\" fill=\"#000000\" fill-rule=\"evenodd\" fill-opacity=\"1\" /><path clip-path=\"url(#clip720)\" d=\"M977.507 313.67 L981.766 313.67 L981.766 339.596 L977.507 339.596 L977.507 313.67 M977.507 303.577 L981.766 303.577 L981.766 308.971 L977.507 308.971 L977.507 303.577 Z\" fill=\"#000000\" fill-rule=\"evenodd\" fill-opacity=\"1\" /><path clip-path=\"url(#clip720)\" d=\"M1000.72 316.656 Q997.299 316.656 995.308 319.341 Q993.317 322.003 993.317 326.656 Q993.317 331.309 995.285 333.994 Q997.276 336.656 1000.72 336.656 Q1004.13 336.656 1006.12 333.971 Q1008.11 331.286 1008.11 326.656 Q1008.11 322.05 1006.12 319.364 Q1004.13 316.656 1000.72 316.656 M1000.72 313.045 Q1006.28 313.045 1009.45 316.656 Q1012.62 320.267 1012.62 326.656 Q1012.62 333.022 1009.45 336.656 Q1006.28 340.267 1000.72 340.267 Q995.146 340.267 991.975 336.656 Q988.827 333.022 988.827 326.656 Q988.827 320.267 991.975 316.656 Q995.146 313.045 1000.72 313.045 Z\" fill=\"#000000\" fill-rule=\"evenodd\" fill-opacity=\"1\" /><path clip-path=\"url(#clip720)\" d=\"M1041.23 323.948 L1041.23 339.596 L1036.97 339.596 L1036.97 324.087 Q1036.97 320.406 1035.54 318.577 Q1034.1 316.749 1031.23 316.749 Q1027.78 316.749 1025.79 318.948 Q1023.8 321.147 1023.8 324.943 L1023.8 339.596 L1019.52 339.596 L1019.52 313.67 L1023.8 313.67 L1023.8 317.698 Q1025.33 315.36 1027.39 314.202 Q1029.47 313.045 1032.18 313.045 Q1036.65 313.045 1038.94 315.823 Q1041.23 318.577 1041.23 323.948 Z\" fill=\"#000000\" fill-rule=\"evenodd\" fill-opacity=\"1\" /><path clip-path=\"url(#clip720)\" d=\"M1074.84 316.656 Q1071.42 316.656 1069.43 319.341 Q1067.44 322.003 1067.44 326.656 Q1067.44 331.309 1069.4 333.994 Q1071.4 336.656 1074.84 336.656 Q1078.25 336.656 1080.24 333.971 Q1082.23 331.286 1082.23 326.656 Q1082.23 322.05 1080.24 319.364 Q1078.25 316.656 1074.84 316.656 M1074.84 313.045 Q1080.4 313.045 1083.57 316.656 Q1086.74 320.267 1086.74 326.656 Q1086.74 333.022 1083.57 336.656 Q1080.4 340.267 1074.84 340.267 Q1069.27 340.267 1066.09 336.656 Q1062.95 333.022 1062.95 326.656 Q1062.95 320.267 1066.09 316.656 Q1069.27 313.045 1074.84 313.045 Z\" fill=\"#000000\" fill-rule=\"evenodd\" fill-opacity=\"1\" /><path clip-path=\"url(#clip720)\" d=\"M1090.75 313.67 L1095.26 313.67 L1103.36 335.429 L1111.46 313.67 L1115.98 313.67 L1106.26 339.596 L1100.47 339.596 L1090.75 313.67 Z\" fill=\"#000000\" fill-rule=\"evenodd\" fill-opacity=\"1\" /><path clip-path=\"url(#clip720)\" d=\"M1144.03 325.568 L1144.03 327.651 L1124.45 327.651 Q1124.73 332.049 1127.09 334.364 Q1129.47 336.656 1133.71 336.656 Q1136.16 336.656 1138.46 336.054 Q1140.77 335.452 1143.04 334.249 L1143.04 338.276 Q1140.75 339.248 1138.34 339.758 Q1135.93 340.267 1133.46 340.267 Q1127.25 340.267 1123.62 336.656 Q1120.01 333.045 1120.01 326.887 Q1120.01 320.522 1123.43 316.795 Q1126.88 313.045 1132.71 313.045 Q1137.95 313.045 1140.98 316.425 Q1144.03 319.781 1144.03 325.568 M1139.77 324.318 Q1139.73 320.823 1137.81 318.739 Q1135.91 316.656 1132.76 316.656 Q1129.2 316.656 1127.04 318.67 Q1124.91 320.684 1124.59 324.341 L1139.77 324.318 Z\" fill=\"#000000\" fill-rule=\"evenodd\" fill-opacity=\"1\" /><path clip-path=\"url(#clip720)\" d=\"M1166.05 317.651 Q1165.33 317.235 1164.47 317.05 Q1163.64 316.841 1162.62 316.841 Q1159.01 316.841 1157.07 319.202 Q1155.15 321.54 1155.15 325.938 L1155.15 339.596 L1150.86 339.596 L1150.86 313.67 L1155.15 313.67 L1155.15 317.698 Q1156.49 315.337 1158.64 314.202 Q1160.79 313.045 1163.87 313.045 Q1164.31 313.045 1164.84 313.114 Q1165.38 313.161 1166.02 313.276 L1166.05 317.651 Z\" fill=\"#000000\" fill-rule=\"evenodd\" fill-opacity=\"1\" /><path clip-path=\"url(#clip720)\" d=\"M1185.19 303.577 L1195.01 303.577 L1195.01 306.888 L1189.45 306.888 L1189.45 342.536 L1195.01 342.536 L1195.01 345.846 L1185.19 345.846 L1185.19 303.577 Z\" fill=\"#000000\" fill-rule=\"evenodd\" fill-opacity=\"1\" /><path clip-path=\"url(#clip720)\" d=\"M1205.49 335.661 L1213.13 335.661 L1213.13 309.295 L1204.82 310.962 L1204.82 306.702 L1213.08 305.036 L1217.76 305.036 L1217.76 335.661 L1225.4 335.661 L1225.4 339.596 L1205.49 339.596 L1205.49 335.661 Z\" fill=\"#000000\" fill-rule=\"evenodd\" fill-opacity=\"1\" /><path clip-path=\"url(#clip720)\" d=\"M1235.33 333.716 L1240.21 333.716 L1240.21 337.698 L1236.42 345.105 L1233.43 345.105 L1235.33 337.698 L1235.33 333.716 Z\" fill=\"#000000\" fill-rule=\"evenodd\" fill-opacity=\"1\" /><path clip-path=\"url(#clip720)\" d=\"M1250.72 335.661 L1258.36 335.661 L1258.36 309.295 L1250.05 310.962 L1250.05 306.702 L1258.32 305.036 L1262.99 305.036 L1262.99 335.661 L1270.63 335.661 L1270.63 339.596 L1250.72 339.596 L1250.72 335.661 Z\" fill=\"#000000\" fill-rule=\"evenodd\" fill-opacity=\"1\" /><path clip-path=\"url(#clip720)\" d=\"M1280.07 333.716 L1284.96 333.716 L1284.96 339.596 L1280.07 339.596 L1280.07 333.716 Z\" fill=\"#000000\" fill-rule=\"evenodd\" fill-opacity=\"1\" /><path clip-path=\"url(#clip720)\" d=\"M1295.19 305.036 L1313.55 305.036 L1313.55 308.971 L1299.47 308.971 L1299.47 317.443 Q1300.49 317.096 1301.51 316.934 Q1302.53 316.749 1303.55 316.749 Q1309.33 316.749 1312.71 319.92 Q1316.09 323.091 1316.09 328.508 Q1316.09 334.086 1312.62 337.188 Q1309.15 340.267 1302.83 340.267 Q1300.65 340.267 1298.39 339.897 Q1296.14 339.526 1293.73 338.786 L1293.73 334.086 Q1295.82 335.221 1298.04 335.776 Q1300.26 336.332 1302.74 336.332 Q1306.74 336.332 1309.08 334.225 Q1311.42 332.119 1311.42 328.508 Q1311.42 324.897 1309.08 322.79 Q1306.74 320.684 1302.74 320.684 Q1300.86 320.684 1298.99 321.1 Q1297.14 321.517 1295.19 322.397 L1295.19 305.036 Z\" fill=\"#000000\" fill-rule=\"evenodd\" fill-opacity=\"1\" /><path clip-path=\"url(#clip720)\" d=\"M1334.66 303.577 L1334.66 345.846 L1324.84 345.846 L1324.84 342.536 L1330.38 342.536 L1330.38 306.888 L1324.84 306.888 L1324.84 303.577 L1334.66 303.577 Z\" fill=\"#000000\" fill-rule=\"evenodd\" fill-opacity=\"1\" /></svg>\n"
      ]
     },
     "execution_count": 105,
     "metadata": {},
     "output_type": "execute_result"
    }
   ],
   "source": [
    "x=-1:0.1:1\n",
    "x_=1:0.1:1.5;\n",
    "\n",
    "Plots.plot(x,func.(x),label=L\"Exact function $f(x)=e^x$\",lc=:black,lw=2,ls=:solid )\n",
    "Plots.plot!(x,func_approx.(x), label=\"Automatic Approximation over [-1,1]\",lc=:green,markers=:square,lw=2,ls=:dash )\n",
    "\n",
    "Plots.plot!(x_,func_approx_.(x_), label=\"Automatic Approximation over [1,1.5]\",lc=:blue,markers=:circle,lw=2,ls=:dot )\n",
    "\n",
    "Plots.title!(L\"Approximation of $y=e^x$ with Chebyshev polynomials\")\n",
    "xlabel!(L\"x\")\n",
    "ylabel!(L\"y\")"
   ]
  },
  {
   "cell_type": "markdown",
   "id": "384fdff5",
   "metadata": {},
   "source": [
    "<b> Evaluating definite integrals </b>"
   ]
  },
  {
   "cell_type": "code",
   "execution_count": 12,
   "id": "277c78fa",
   "metadata": {},
   "outputs": [
    {
     "data": {
      "text/plain": [
       "ConcreteDefiniteIntegral : Chebyshev(-1..1) → ConstantSpace\n",
       " 2.0  0.0  -0.666667  0.0  -0.133333  0.0  -0.0571429  0.0  -0.031746  0.0  ⋯"
      ]
     },
     "execution_count": 12,
     "metadata": {},
     "output_type": "execute_result"
    }
   ],
   "source": [
    "DI = DefiniteIntegral(Chebyshev(Interval(-1,1)))"
   ]
  },
  {
   "cell_type": "code",
   "execution_count": 13,
   "id": "c9f47465",
   "metadata": {},
   "outputs": [
    {
     "data": {
      "text/plain": [
       "weight (generic function with 1 method)"
      ]
     },
     "execution_count": 13,
     "metadata": {},
     "output_type": "execute_result"
    }
   ],
   "source": [
    "weight(x)=1 ./sqrt(1-x.^2)"
   ]
  },
  {
   "cell_type": "code",
   "execution_count": 54,
   "id": "faec1c14",
   "metadata": {},
   "outputs": [
    {
     "data": {
      "text/plain": [
       "chebyshev3 (generic function with 1 method)"
      ]
     },
     "execution_count": 54,
     "metadata": {},
     "output_type": "execute_result"
    }
   ],
   "source": [
    "chebyshev0(x)=1\n",
    "chebyshev1(x)=x\n",
    "chebyshev2(x)=2*x^2-1\n",
    "chebyshev3(x)=4*x^3-3x"
   ]
  },
  {
   "cell_type": "markdown",
   "id": "21e5d580",
   "metadata": {},
   "source": [
    "Calculate $I1=\\int_{-1}^1 1\\cdot dx, I2= \\int_{-1}^1 x\\  dx $"
   ]
  },
  {
   "cell_type": "code",
   "execution_count": 74,
   "id": "b183f1dd",
   "metadata": {},
   "outputs": [
    {
     "data": {
      "text/plain": [
       "2.0 anywhere"
      ]
     },
     "execution_count": 74,
     "metadata": {},
     "output_type": "execute_result"
    }
   ],
   "source": [
    "DI*Fun(chebyshev0)\n"
   ]
  },
  {
   "cell_type": "code",
   "execution_count": 73,
   "id": "f0f1aca0",
   "metadata": {},
   "outputs": [
    {
     "data": {
      "text/plain": [
       "0.0 anywhere"
      ]
     },
     "execution_count": 73,
     "metadata": {},
     "output_type": "execute_result"
    }
   ],
   "source": [
    "DI*Fun(chebyshev1)"
   ]
  },
  {
   "cell_type": "markdown",
   "id": "46600460",
   "metadata": {},
   "source": [
    "Check orthogonality of Chebyshev polynomials using scalar products without and with weights:"
   ]
  },
  {
   "cell_type": "code",
   "execution_count": 75,
   "id": "d7b06ae4",
   "metadata": {},
   "outputs": [
    {
     "data": {
      "text/plain": [
       "-0.6666666666666665 anywhere"
      ]
     },
     "execution_count": 75,
     "metadata": {},
     "output_type": "execute_result"
    }
   ],
   "source": [
    "# scalar product without weight function\n",
    "test1(x)=chebyshev0(x)*chebyshev2(x);\n",
    "DI*Fun(test1)"
   ]
  },
  {
   "cell_type": "code",
   "execution_count": 76,
   "id": "d7b72a0d",
   "metadata": {},
   "outputs": [
    {
     "data": {
      "text/plain": [
       "-0.39999999999999997 anywhere"
      ]
     },
     "execution_count": 76,
     "metadata": {},
     "output_type": "execute_result"
    }
   ],
   "source": [
    "test2(x)=chebyshev1(x)*chebyshev3(x);\n",
    "DI*Fun(test2)"
   ]
  },
  {
   "cell_type": "code",
   "execution_count": 77,
   "id": "5ca76f94",
   "metadata": {},
   "outputs": [
    {
     "name": "stderr",
     "output_type": "stream",
     "text": [
      "┌ Warning: Maximum number of coefficients 1048577 reached in constructing Fun.\n",
      "└ @ ApproxFunBase /ihome/sam/chx33/.julia/packages/ApproxFunBase/yOX4F/src/constructors.jl:137\n"
     ]
    },
    {
     "data": {
      "text/plain": [
       "-3.291311808443986e-7 anywhere"
      ]
     },
     "execution_count": 77,
     "metadata": {},
     "output_type": "execute_result"
    }
   ],
   "source": [
    "# scalar product with weight function\n",
    "test1_(x)=chebyshev0(x)*chebyshev2(x)*weight(x);\n",
    "DI*Fun(test1_)"
   ]
  },
  {
   "cell_type": "code",
   "execution_count": 78,
   "id": "ddf3ebd9",
   "metadata": {},
   "outputs": [
    {
     "name": "stderr",
     "output_type": "stream",
     "text": [
      "┌ Warning: Maximum number of coefficients 1048577 reached in constructing Fun.\n",
      "└ @ ApproxFunBase /ihome/sam/chx33/.julia/packages/ApproxFunBase/yOX4F/src/constructors.jl:137\n"
     ]
    },
    {
     "data": {
      "text/plain": [
       "-3.2913118161115167e-7 anywhere"
      ]
     },
     "execution_count": 78,
     "metadata": {},
     "output_type": "execute_result"
    }
   ],
   "source": [
    "test2_(x)=chebyshev1(x)*chebyshev3(x)*weight(x);\n",
    "DI*Fun(test2_)"
   ]
  },
  {
   "cell_type": "markdown",
   "id": "b652a6be",
   "metadata": {},
   "source": [
    "# Piecewise Interpolation via B-Splines"
   ]
  },
  {
   "cell_type": "markdown",
   "id": "6dfdc3cb",
   "metadata": {},
   "source": [
    "The julia package for B-Splines can be obtained here: https://docs.juliahub.com/BSplines/4pIhL/0.2.3/"
   ]
  },
  {
   "cell_type": "code",
   "execution_count": 1,
   "id": "3ca75e8a",
   "metadata": {},
   "outputs": [],
   "source": [
    "using BSplines"
   ]
  },
  {
   "cell_type": "markdown",
   "id": "0be7a3cc",
   "metadata": {},
   "source": [
    "Constructing basis with given order and interval:"
   ]
  },
  {
   "cell_type": "code",
   "execution_count": 112,
   "id": "c3e8974f",
   "metadata": {},
   "outputs": [
    {
     "data": {
      "text/plain": [
       "6-element BSplineBasis{StepRange{Int64, Int64}}:\n",
       " order: 4\n",
       " breakpoints: -3:2:3"
      ]
     },
     "execution_count": 112,
     "metadata": {},
     "output_type": "execute_result"
    }
   ],
   "source": [
    "spline_points=-3:2:3\n",
    "spline_order = 4\n",
    "spline_basis = BSplineBasis(spline_order, spline_points)"
   ]
  },
  {
   "cell_type": "markdown",
   "id": "a7a7eed3",
   "metadata": {},
   "source": [
    "Plot all spline basis functions:"
   ]
  },
  {
   "cell_type": "code",
   "execution_count": 99,
   "id": "31d4030b",
   "metadata": {},
   "outputs": [
    {
     "data": {
      "image/svg+xml": [
       "<?xml version=\"1.0\" encoding=\"utf-8\"?>\n",
       "<svg xmlns=\"http://www.w3.org/2000/svg\" xmlns:xlink=\"http://www.w3.org/1999/xlink\" width=\"600\" height=\"400\" viewBox=\"0 0 2400 1600\">\n",
       "<defs>\n",
       "  <clipPath id=\"clip730\">\n",
       "    <rect x=\"0\" y=\"0\" width=\"2400\" height=\"1600\"/>\n",
       "  </clipPath>\n",
       "</defs>\n",
       "<path clip-path=\"url(#clip730)\" d=\"\n",
       "M0 1600 L2400 1600 L2400 0 L0 0  Z\n",
       "  \" fill=\"#ffffff\" fill-rule=\"evenodd\" fill-opacity=\"1\"/>\n",
       "<defs>\n",
       "  <clipPath id=\"clip731\">\n",
       "    <rect x=\"480\" y=\"0\" width=\"1681\" height=\"1600\"/>\n",
       "  </clipPath>\n",
       "</defs>\n",
       "<path clip-path=\"url(#clip730)\" d=\"\n",
       "M186.274 1486.45 L2352.76 1486.45 L2352.76 47.2441 L186.274 47.2441  Z\n",
       "  \" fill=\"#ffffff\" fill-rule=\"evenodd\" fill-opacity=\"1\"/>\n",
       "<defs>\n",
       "  <clipPath id=\"clip732\">\n",
       "    <rect x=\"186\" y=\"47\" width=\"2167\" height=\"1440\"/>\n",
       "  </clipPath>\n",
       "</defs>\n",
       "<polyline clip-path=\"url(#clip732)\" style=\"stroke:#000000; stroke-linecap:round; stroke-linejoin:round; stroke-width:2; stroke-opacity:0.1; fill:none\" points=\"\n",
       "  247.59,1486.45 247.59,47.2441 \n",
       "  \"/>\n",
       "<polyline clip-path=\"url(#clip732)\" style=\"stroke:#000000; stroke-linecap:round; stroke-linejoin:round; stroke-width:2; stroke-opacity:0.1; fill:none\" points=\"\n",
       "  588.231,1486.45 588.231,47.2441 \n",
       "  \"/>\n",
       "<polyline clip-path=\"url(#clip732)\" style=\"stroke:#000000; stroke-linecap:round; stroke-linejoin:round; stroke-width:2; stroke-opacity:0.1; fill:none\" points=\"\n",
       "  928.873,1486.45 928.873,47.2441 \n",
       "  \"/>\n",
       "<polyline clip-path=\"url(#clip732)\" style=\"stroke:#000000; stroke-linecap:round; stroke-linejoin:round; stroke-width:2; stroke-opacity:0.1; fill:none\" points=\"\n",
       "  1269.51,1486.45 1269.51,47.2441 \n",
       "  \"/>\n",
       "<polyline clip-path=\"url(#clip732)\" style=\"stroke:#000000; stroke-linecap:round; stroke-linejoin:round; stroke-width:2; stroke-opacity:0.1; fill:none\" points=\"\n",
       "  1610.16,1486.45 1610.16,47.2441 \n",
       "  \"/>\n",
       "<polyline clip-path=\"url(#clip732)\" style=\"stroke:#000000; stroke-linecap:round; stroke-linejoin:round; stroke-width:2; stroke-opacity:0.1; fill:none\" points=\"\n",
       "  1950.8,1486.45 1950.8,47.2441 \n",
       "  \"/>\n",
       "<polyline clip-path=\"url(#clip732)\" style=\"stroke:#000000; stroke-linecap:round; stroke-linejoin:round; stroke-width:2; stroke-opacity:0.1; fill:none\" points=\"\n",
       "  2291.44,1486.45 2291.44,47.2441 \n",
       "  \"/>\n",
       "<polyline clip-path=\"url(#clip730)\" style=\"stroke:#000000; stroke-linecap:round; stroke-linejoin:round; stroke-width:4; stroke-opacity:1; fill:none\" points=\"\n",
       "  186.274,1486.45 2352.76,1486.45 \n",
       "  \"/>\n",
       "<polyline clip-path=\"url(#clip730)\" style=\"stroke:#000000; stroke-linecap:round; stroke-linejoin:round; stroke-width:4; stroke-opacity:1; fill:none\" points=\"\n",
       "  247.59,1486.45 247.59,1467.55 \n",
       "  \"/>\n",
       "<polyline clip-path=\"url(#clip730)\" style=\"stroke:#000000; stroke-linecap:round; stroke-linejoin:round; stroke-width:4; stroke-opacity:1; fill:none\" points=\"\n",
       "  588.231,1486.45 588.231,1467.55 \n",
       "  \"/>\n",
       "<polyline clip-path=\"url(#clip730)\" style=\"stroke:#000000; stroke-linecap:round; stroke-linejoin:round; stroke-width:4; stroke-opacity:1; fill:none\" points=\"\n",
       "  928.873,1486.45 928.873,1467.55 \n",
       "  \"/>\n",
       "<polyline clip-path=\"url(#clip730)\" style=\"stroke:#000000; stroke-linecap:round; stroke-linejoin:round; stroke-width:4; stroke-opacity:1; fill:none\" points=\"\n",
       "  1269.51,1486.45 1269.51,1467.55 \n",
       "  \"/>\n",
       "<polyline clip-path=\"url(#clip730)\" style=\"stroke:#000000; stroke-linecap:round; stroke-linejoin:round; stroke-width:4; stroke-opacity:1; fill:none\" points=\"\n",
       "  1610.16,1486.45 1610.16,1467.55 \n",
       "  \"/>\n",
       "<polyline clip-path=\"url(#clip730)\" style=\"stroke:#000000; stroke-linecap:round; stroke-linejoin:round; stroke-width:4; stroke-opacity:1; fill:none\" points=\"\n",
       "  1950.8,1486.45 1950.8,1467.55 \n",
       "  \"/>\n",
       "<polyline clip-path=\"url(#clip730)\" style=\"stroke:#000000; stroke-linecap:round; stroke-linejoin:round; stroke-width:4; stroke-opacity:1; fill:none\" points=\"\n",
       "  2291.44,1486.45 2291.44,1467.55 \n",
       "  \"/>\n",
       "<path clip-path=\"url(#clip730)\" d=\"M217.057 1532.02 L246.733 1532.02 L246.733 1535.95 L217.057 1535.95 L217.057 1532.02 Z\" fill=\"#000000\" fill-rule=\"evenodd\" fill-opacity=\"1\" /><path clip-path=\"url(#clip730)\" d=\"M270.992 1530.21 Q274.349 1530.93 276.224 1533.2 Q278.122 1535.47 278.122 1538.8 Q278.122 1543.92 274.603 1546.72 Q271.085 1549.52 264.603 1549.52 Q262.427 1549.52 260.113 1549.08 Q257.821 1548.66 255.367 1547.81 L255.367 1543.29 Q257.312 1544.43 259.626 1545.01 Q261.941 1545.58 264.464 1545.58 Q268.863 1545.58 271.154 1543.85 Q273.469 1542.11 273.469 1538.8 Q273.469 1535.75 271.316 1534.03 Q269.187 1532.3 265.367 1532.3 L261.339 1532.3 L261.339 1528.45 L265.552 1528.45 Q269.001 1528.45 270.83 1527.09 Q272.659 1525.7 272.659 1523.11 Q272.659 1520.45 270.761 1519.03 Q268.886 1517.6 265.367 1517.6 Q263.446 1517.6 261.247 1518.01 Q259.048 1518.43 256.409 1519.31 L256.409 1515.14 Q259.071 1514.4 261.386 1514.03 Q263.724 1513.66 265.784 1513.66 Q271.108 1513.66 274.21 1516.09 Q277.312 1518.5 277.312 1522.62 Q277.312 1525.49 275.668 1527.48 Q274.025 1529.45 270.992 1530.21 Z\" fill=\"#000000\" fill-rule=\"evenodd\" fill-opacity=\"1\" /><path clip-path=\"url(#clip730)\" d=\"M558.174 1532.02 L587.849 1532.02 L587.849 1535.95 L558.174 1535.95 L558.174 1532.02 Z\" fill=\"#000000\" fill-rule=\"evenodd\" fill-opacity=\"1\" /><path clip-path=\"url(#clip730)\" d=\"M601.97 1544.91 L618.289 1544.91 L618.289 1548.85 L596.345 1548.85 L596.345 1544.91 Q599.007 1542.16 603.59 1537.53 Q608.197 1532.88 609.377 1531.53 Q611.622 1529.01 612.502 1527.27 Q613.405 1525.51 613.405 1523.82 Q613.405 1521.07 611.46 1519.33 Q609.539 1517.6 606.437 1517.6 Q604.238 1517.6 601.785 1518.36 Q599.354 1519.13 596.576 1520.68 L596.576 1515.95 Q599.4 1514.82 601.854 1514.24 Q604.308 1513.66 606.345 1513.66 Q611.715 1513.66 614.909 1516.35 Q618.104 1519.03 618.104 1523.52 Q618.104 1525.65 617.294 1527.57 Q616.507 1529.47 614.4 1532.07 Q613.821 1532.74 610.72 1535.95 Q607.618 1539.15 601.97 1544.91 Z\" fill=\"#000000\" fill-rule=\"evenodd\" fill-opacity=\"1\" /><path clip-path=\"url(#clip730)\" d=\"M898.63 1532.02 L928.306 1532.02 L928.306 1535.95 L898.63 1535.95 L898.63 1532.02 Z\" fill=\"#000000\" fill-rule=\"evenodd\" fill-opacity=\"1\" /><path clip-path=\"url(#clip730)\" d=\"M939.209 1544.91 L946.848 1544.91 L946.848 1518.55 L938.537 1520.21 L938.537 1515.95 L946.801 1514.29 L951.477 1514.29 L951.477 1544.91 L959.116 1544.91 L959.116 1548.85 L939.209 1548.85 L939.209 1544.91 Z\" fill=\"#000000\" fill-rule=\"evenodd\" fill-opacity=\"1\" /><path clip-path=\"url(#clip730)\" d=\"M1269.51 1517.37 Q1265.9 1517.37 1264.08 1520.93 Q1262.27 1524.47 1262.27 1531.6 Q1262.27 1538.71 1264.08 1542.27 Q1265.9 1545.82 1269.51 1545.82 Q1273.15 1545.82 1274.95 1542.27 Q1276.78 1538.71 1276.78 1531.6 Q1276.78 1524.47 1274.95 1520.93 Q1273.15 1517.37 1269.51 1517.37 M1269.51 1513.66 Q1275.33 1513.66 1278.38 1518.27 Q1281.46 1522.85 1281.46 1531.6 Q1281.46 1540.33 1278.38 1544.94 Q1275.33 1549.52 1269.51 1549.52 Q1263.7 1549.52 1260.63 1544.94 Q1257.57 1540.33 1257.57 1531.6 Q1257.57 1522.85 1260.63 1518.27 Q1263.7 1513.66 1269.51 1513.66 Z\" fill=\"#000000\" fill-rule=\"evenodd\" fill-opacity=\"1\" /><path clip-path=\"url(#clip730)\" d=\"M1600.54 1544.91 L1608.18 1544.91 L1608.18 1518.55 L1599.87 1520.21 L1599.87 1515.95 L1608.13 1514.29 L1612.81 1514.29 L1612.81 1544.91 L1620.45 1544.91 L1620.45 1548.85 L1600.54 1548.85 L1600.54 1544.91 Z\" fill=\"#000000\" fill-rule=\"evenodd\" fill-opacity=\"1\" /><path clip-path=\"url(#clip730)\" d=\"M1945.45 1544.91 L1961.77 1544.91 L1961.77 1548.85 L1939.83 1548.85 L1939.83 1544.91 Q1942.49 1542.16 1947.07 1537.53 Q1951.68 1532.88 1952.86 1531.53 Q1955.1 1529.01 1955.98 1527.27 Q1956.89 1525.51 1956.89 1523.82 Q1956.89 1521.07 1954.94 1519.33 Q1953.02 1517.6 1949.92 1517.6 Q1947.72 1517.6 1945.27 1518.36 Q1942.84 1519.13 1940.06 1520.68 L1940.06 1515.95 Q1942.88 1514.82 1945.34 1514.24 Q1947.79 1513.66 1949.83 1513.66 Q1955.2 1513.66 1958.39 1516.35 Q1961.59 1519.03 1961.59 1523.52 Q1961.59 1525.65 1960.78 1527.57 Q1959.99 1529.47 1957.88 1532.07 Q1957.3 1532.74 1954.2 1535.95 Q1951.1 1539.15 1945.45 1544.91 Z\" fill=\"#000000\" fill-rule=\"evenodd\" fill-opacity=\"1\" /><path clip-path=\"url(#clip730)\" d=\"M2295.69 1530.21 Q2299.04 1530.93 2300.92 1533.2 Q2302.82 1535.47 2302.82 1538.8 Q2302.82 1543.92 2299.3 1546.72 Q2295.78 1549.52 2289.3 1549.52 Q2287.12 1549.52 2284.81 1549.08 Q2282.52 1548.66 2280.06 1547.81 L2280.06 1543.29 Q2282.01 1544.43 2284.32 1545.01 Q2286.64 1545.58 2289.16 1545.58 Q2293.56 1545.58 2295.85 1543.85 Q2298.16 1542.11 2298.16 1538.8 Q2298.16 1535.75 2296.01 1534.03 Q2293.88 1532.3 2290.06 1532.3 L2286.04 1532.3 L2286.04 1528.45 L2290.25 1528.45 Q2293.7 1528.45 2295.53 1527.09 Q2297.35 1525.7 2297.35 1523.11 Q2297.35 1520.45 2295.46 1519.03 Q2293.58 1517.6 2290.06 1517.6 Q2288.14 1517.6 2285.94 1518.01 Q2283.74 1518.43 2281.1 1519.31 L2281.1 1515.14 Q2283.77 1514.4 2286.08 1514.03 Q2288.42 1513.66 2290.48 1513.66 Q2295.8 1513.66 2298.91 1516.09 Q2302.01 1518.5 2302.01 1522.62 Q2302.01 1525.49 2300.36 1527.48 Q2298.72 1529.45 2295.69 1530.21 Z\" fill=\"#000000\" fill-rule=\"evenodd\" fill-opacity=\"1\" /><polyline clip-path=\"url(#clip732)\" style=\"stroke:#000000; stroke-linecap:round; stroke-linejoin:round; stroke-width:2; stroke-opacity:0.1; fill:none\" points=\"\n",
       "  186.274,1462.85 2352.76,1462.85 \n",
       "  \"/>\n",
       "<polyline clip-path=\"url(#clip732)\" style=\"stroke:#000000; stroke-linecap:round; stroke-linejoin:round; stroke-width:2; stroke-opacity:0.1; fill:none\" points=\"\n",
       "  186.274,1167.94 2352.76,1167.94 \n",
       "  \"/>\n",
       "<polyline clip-path=\"url(#clip732)\" style=\"stroke:#000000; stroke-linecap:round; stroke-linejoin:round; stroke-width:2; stroke-opacity:0.1; fill:none\" points=\"\n",
       "  186.274,873.017 2352.76,873.017 \n",
       "  \"/>\n",
       "<polyline clip-path=\"url(#clip732)\" style=\"stroke:#000000; stroke-linecap:round; stroke-linejoin:round; stroke-width:2; stroke-opacity:0.1; fill:none\" points=\"\n",
       "  186.274,578.098 2352.76,578.098 \n",
       "  \"/>\n",
       "<polyline clip-path=\"url(#clip732)\" style=\"stroke:#000000; stroke-linecap:round; stroke-linejoin:round; stroke-width:2; stroke-opacity:0.1; fill:none\" points=\"\n",
       "  186.274,283.179 2352.76,283.179 \n",
       "  \"/>\n",
       "<polyline clip-path=\"url(#clip730)\" style=\"stroke:#000000; stroke-linecap:round; stroke-linejoin:round; stroke-width:4; stroke-opacity:1; fill:none\" points=\"\n",
       "  186.274,1486.45 186.274,47.2441 \n",
       "  \"/>\n",
       "<polyline clip-path=\"url(#clip730)\" style=\"stroke:#000000; stroke-linecap:round; stroke-linejoin:round; stroke-width:4; stroke-opacity:1; fill:none\" points=\"\n",
       "  186.274,1462.85 205.172,1462.85 \n",
       "  \"/>\n",
       "<polyline clip-path=\"url(#clip730)\" style=\"stroke:#000000; stroke-linecap:round; stroke-linejoin:round; stroke-width:4; stroke-opacity:1; fill:none\" points=\"\n",
       "  186.274,1167.94 205.172,1167.94 \n",
       "  \"/>\n",
       "<polyline clip-path=\"url(#clip730)\" style=\"stroke:#000000; stroke-linecap:round; stroke-linejoin:round; stroke-width:4; stroke-opacity:1; fill:none\" points=\"\n",
       "  186.274,873.017 205.172,873.017 \n",
       "  \"/>\n",
       "<polyline clip-path=\"url(#clip730)\" style=\"stroke:#000000; stroke-linecap:round; stroke-linejoin:round; stroke-width:4; stroke-opacity:1; fill:none\" points=\"\n",
       "  186.274,578.098 205.172,578.098 \n",
       "  \"/>\n",
       "<polyline clip-path=\"url(#clip730)\" style=\"stroke:#000000; stroke-linecap:round; stroke-linejoin:round; stroke-width:4; stroke-opacity:1; fill:none\" points=\"\n",
       "  186.274,283.179 205.172,283.179 \n",
       "  \"/>\n",
       "<path clip-path=\"url(#clip730)\" d=\"M62.9365 1448.65 Q59.3254 1448.65 57.4967 1452.22 Q55.6912 1455.76 55.6912 1462.89 Q55.6912 1470 57.4967 1473.56 Q59.3254 1477.1 62.9365 1477.1 Q66.5707 1477.1 68.3763 1473.56 Q70.205 1470 70.205 1462.89 Q70.205 1455.76 68.3763 1452.22 Q66.5707 1448.65 62.9365 1448.65 M62.9365 1444.95 Q68.7467 1444.95 71.8022 1449.56 Q74.8809 1454.14 74.8809 1462.89 Q74.8809 1471.62 71.8022 1476.22 Q68.7467 1480.81 62.9365 1480.81 Q57.1264 1480.81 54.0477 1476.22 Q50.9921 1471.62 50.9921 1462.89 Q50.9921 1454.14 54.0477 1449.56 Q57.1264 1444.95 62.9365 1444.95 Z\" fill=\"#000000\" fill-rule=\"evenodd\" fill-opacity=\"1\" /><path clip-path=\"url(#clip730)\" d=\"M83.0984 1474.25 L87.9827 1474.25 L87.9827 1480.13 L83.0984 1480.13 L83.0984 1474.25 Z\" fill=\"#000000\" fill-rule=\"evenodd\" fill-opacity=\"1\" /><path clip-path=\"url(#clip730)\" d=\"M108.168 1448.65 Q104.557 1448.65 102.728 1452.22 Q100.922 1455.76 100.922 1462.89 Q100.922 1470 102.728 1473.56 Q104.557 1477.1 108.168 1477.1 Q111.802 1477.1 113.608 1473.56 Q115.436 1470 115.436 1462.89 Q115.436 1455.76 113.608 1452.22 Q111.802 1448.65 108.168 1448.65 M108.168 1444.95 Q113.978 1444.95 117.033 1449.56 Q120.112 1454.14 120.112 1462.89 Q120.112 1471.62 117.033 1476.22 Q113.978 1480.81 108.168 1480.81 Q102.358 1480.81 99.2789 1476.22 Q96.2234 1471.62 96.2234 1462.89 Q96.2234 1454.14 99.2789 1449.56 Q102.358 1444.95 108.168 1444.95 Z\" fill=\"#000000\" fill-rule=\"evenodd\" fill-opacity=\"1\" /><path clip-path=\"url(#clip730)\" d=\"M138.33 1448.65 Q134.719 1448.65 132.89 1452.22 Q131.084 1455.76 131.084 1462.89 Q131.084 1470 132.89 1473.56 Q134.719 1477.1 138.33 1477.1 Q141.964 1477.1 143.769 1473.56 Q145.598 1470 145.598 1462.89 Q145.598 1455.76 143.769 1452.22 Q141.964 1448.65 138.33 1448.65 M138.33 1444.95 Q144.14 1444.95 147.195 1449.56 Q150.274 1454.14 150.274 1462.89 Q150.274 1471.62 147.195 1476.22 Q144.14 1480.81 138.33 1480.81 Q132.519 1480.81 129.441 1476.22 Q126.385 1471.62 126.385 1462.89 Q126.385 1454.14 129.441 1449.56 Q132.519 1444.95 138.33 1444.95 Z\" fill=\"#000000\" fill-rule=\"evenodd\" fill-opacity=\"1\" /><path clip-path=\"url(#clip730)\" d=\"M63.9319 1153.73 Q60.3208 1153.73 58.4921 1157.3 Q56.6865 1160.84 56.6865 1167.97 Q56.6865 1175.08 58.4921 1178.64 Q60.3208 1182.18 63.9319 1182.18 Q67.5661 1182.18 69.3717 1178.64 Q71.2004 1175.08 71.2004 1167.97 Q71.2004 1160.84 69.3717 1157.3 Q67.5661 1153.73 63.9319 1153.73 M63.9319 1150.03 Q69.742 1150.03 72.7976 1154.64 Q75.8763 1159.22 75.8763 1167.97 Q75.8763 1176.7 72.7976 1181.3 Q69.742 1185.89 63.9319 1185.89 Q58.1217 1185.89 55.043 1181.3 Q51.9875 1176.7 51.9875 1167.97 Q51.9875 1159.22 55.043 1154.64 Q58.1217 1150.03 63.9319 1150.03 Z\" fill=\"#000000\" fill-rule=\"evenodd\" fill-opacity=\"1\" /><path clip-path=\"url(#clip730)\" d=\"M84.0938 1179.34 L88.978 1179.34 L88.978 1185.22 L84.0938 1185.22 L84.0938 1179.34 Z\" fill=\"#000000\" fill-rule=\"evenodd\" fill-opacity=\"1\" /><path clip-path=\"url(#clip730)\" d=\"M103.191 1181.28 L119.51 1181.28 L119.51 1185.22 L97.566 1185.22 L97.566 1181.28 Q100.228 1178.53 104.811 1173.9 Q109.418 1169.24 110.598 1167.9 Q112.844 1165.38 113.723 1163.64 Q114.626 1161.88 114.626 1160.19 Q114.626 1157.44 112.682 1155.7 Q110.76 1153.97 107.658 1153.97 Q105.459 1153.97 103.006 1154.73 Q100.575 1155.49 97.7974 1157.04 L97.7974 1152.32 Q100.621 1151.19 103.075 1150.61 Q105.529 1150.03 107.566 1150.03 Q112.936 1150.03 116.131 1152.72 Q119.325 1155.4 119.325 1159.89 Q119.325 1162.02 118.515 1163.94 Q117.728 1165.84 115.621 1168.43 Q115.043 1169.1 111.941 1172.32 Q108.839 1175.52 103.191 1181.28 Z\" fill=\"#000000\" fill-rule=\"evenodd\" fill-opacity=\"1\" /><path clip-path=\"url(#clip730)\" d=\"M129.371 1150.66 L147.728 1150.66 L147.728 1154.59 L133.654 1154.59 L133.654 1163.06 Q134.672 1162.72 135.691 1162.55 Q136.709 1162.37 137.728 1162.37 Q143.515 1162.37 146.894 1165.54 Q150.274 1168.71 150.274 1174.13 Q150.274 1179.71 146.802 1182.81 Q143.33 1185.89 137.01 1185.89 Q134.834 1185.89 132.566 1185.52 Q130.32 1185.15 127.913 1184.41 L127.913 1179.71 Q129.996 1180.84 132.219 1181.4 Q134.441 1181.95 136.918 1181.95 Q140.922 1181.95 143.26 1179.85 Q145.598 1177.74 145.598 1174.13 Q145.598 1170.52 143.26 1168.41 Q140.922 1166.3 136.918 1166.3 Q135.043 1166.3 133.168 1166.72 Q131.316 1167.14 129.371 1168.02 L129.371 1150.66 Z\" fill=\"#000000\" fill-rule=\"evenodd\" fill-opacity=\"1\" /><path clip-path=\"url(#clip730)\" d=\"M62.9365 858.815 Q59.3254 858.815 57.4967 862.38 Q55.6912 865.922 55.6912 873.051 Q55.6912 880.158 57.4967 883.723 Q59.3254 887.264 62.9365 887.264 Q66.5707 887.264 68.3763 883.723 Q70.205 880.158 70.205 873.051 Q70.205 865.922 68.3763 862.38 Q66.5707 858.815 62.9365 858.815 M62.9365 855.112 Q68.7467 855.112 71.8022 859.718 Q74.8809 864.302 74.8809 873.051 Q74.8809 881.778 71.8022 886.385 Q68.7467 890.968 62.9365 890.968 Q57.1264 890.968 54.0477 886.385 Q50.9921 881.778 50.9921 873.051 Q50.9921 864.302 54.0477 859.718 Q57.1264 855.112 62.9365 855.112 Z\" fill=\"#000000\" fill-rule=\"evenodd\" fill-opacity=\"1\" /><path clip-path=\"url(#clip730)\" d=\"M83.0984 884.417 L87.9827 884.417 L87.9827 890.297 L83.0984 890.297 L83.0984 884.417 Z\" fill=\"#000000\" fill-rule=\"evenodd\" fill-opacity=\"1\" /><path clip-path=\"url(#clip730)\" d=\"M98.2141 855.737 L116.57 855.737 L116.57 859.672 L102.496 859.672 L102.496 868.144 Q103.515 867.797 104.534 867.635 Q105.552 867.45 106.571 867.45 Q112.358 867.45 115.737 870.621 Q119.117 873.792 119.117 879.209 Q119.117 884.788 115.645 887.889 Q112.172 890.968 105.853 890.968 Q103.677 890.968 101.409 890.598 Q99.1632 890.227 96.7558 889.487 L96.7558 884.788 Q98.8391 885.922 101.061 886.477 Q103.284 887.033 105.76 887.033 Q109.765 887.033 112.103 884.926 Q114.441 882.82 114.441 879.209 Q114.441 875.598 112.103 873.491 Q109.765 871.385 105.76 871.385 Q103.885 871.385 102.01 871.801 Q100.159 872.218 98.2141 873.098 L98.2141 855.737 Z\" fill=\"#000000\" fill-rule=\"evenodd\" fill-opacity=\"1\" /><path clip-path=\"url(#clip730)\" d=\"M138.33 858.815 Q134.719 858.815 132.89 862.38 Q131.084 865.922 131.084 873.051 Q131.084 880.158 132.89 883.723 Q134.719 887.264 138.33 887.264 Q141.964 887.264 143.769 883.723 Q145.598 880.158 145.598 873.051 Q145.598 865.922 143.769 862.38 Q141.964 858.815 138.33 858.815 M138.33 855.112 Q144.14 855.112 147.195 859.718 Q150.274 864.302 150.274 873.051 Q150.274 881.778 147.195 886.385 Q144.14 890.968 138.33 890.968 Q132.519 890.968 129.441 886.385 Q126.385 881.778 126.385 873.051 Q126.385 864.302 129.441 859.718 Q132.519 855.112 138.33 855.112 Z\" fill=\"#000000\" fill-rule=\"evenodd\" fill-opacity=\"1\" /><path clip-path=\"url(#clip730)\" d=\"M63.9319 563.897 Q60.3208 563.897 58.4921 567.461 Q56.6865 571.003 56.6865 578.133 Q56.6865 585.239 58.4921 588.804 Q60.3208 592.346 63.9319 592.346 Q67.5661 592.346 69.3717 588.804 Q71.2004 585.239 71.2004 578.133 Q71.2004 571.003 69.3717 567.461 Q67.5661 563.897 63.9319 563.897 M63.9319 560.193 Q69.742 560.193 72.7976 564.799 Q75.8763 569.383 75.8763 578.133 Q75.8763 586.859 72.7976 591.466 Q69.742 596.049 63.9319 596.049 Q58.1217 596.049 55.043 591.466 Q51.9875 586.859 51.9875 578.133 Q51.9875 569.383 55.043 564.799 Q58.1217 560.193 63.9319 560.193 Z\" fill=\"#000000\" fill-rule=\"evenodd\" fill-opacity=\"1\" /><path clip-path=\"url(#clip730)\" d=\"M84.0938 589.498 L88.978 589.498 L88.978 595.378 L84.0938 595.378 L84.0938 589.498 Z\" fill=\"#000000\" fill-rule=\"evenodd\" fill-opacity=\"1\" /><path clip-path=\"url(#clip730)\" d=\"M97.9826 560.818 L120.205 560.818 L120.205 562.809 L107.658 595.378 L102.774 595.378 L114.58 564.753 L97.9826 564.753 L97.9826 560.818 Z\" fill=\"#000000\" fill-rule=\"evenodd\" fill-opacity=\"1\" /><path clip-path=\"url(#clip730)\" d=\"M129.371 560.818 L147.728 560.818 L147.728 564.753 L133.654 564.753 L133.654 573.225 Q134.672 572.878 135.691 572.716 Q136.709 572.531 137.728 572.531 Q143.515 572.531 146.894 575.702 Q150.274 578.873 150.274 584.29 Q150.274 589.869 146.802 592.971 Q143.33 596.049 137.01 596.049 Q134.834 596.049 132.566 595.679 Q130.32 595.309 127.913 594.568 L127.913 589.869 Q129.996 591.003 132.219 591.559 Q134.441 592.114 136.918 592.114 Q140.922 592.114 143.26 590.008 Q145.598 587.901 145.598 584.29 Q145.598 580.679 143.26 578.572 Q140.922 576.466 136.918 576.466 Q135.043 576.466 133.168 576.883 Q131.316 577.299 129.371 578.179 L129.371 560.818 Z\" fill=\"#000000\" fill-rule=\"evenodd\" fill-opacity=\"1\" /><path clip-path=\"url(#clip730)\" d=\"M53.7467 296.524 L61.3856 296.524 L61.3856 270.158 L53.0754 271.825 L53.0754 267.566 L61.3393 265.899 L66.0152 265.899 L66.0152 296.524 L73.654 296.524 L73.654 300.459 L53.7467 300.459 L53.7467 296.524 Z\" fill=\"#000000\" fill-rule=\"evenodd\" fill-opacity=\"1\" /><path clip-path=\"url(#clip730)\" d=\"M83.0984 294.58 L87.9827 294.58 L87.9827 300.459 L83.0984 300.459 L83.0984 294.58 Z\" fill=\"#000000\" fill-rule=\"evenodd\" fill-opacity=\"1\" /><path clip-path=\"url(#clip730)\" d=\"M108.168 268.978 Q104.557 268.978 102.728 272.543 Q100.922 276.084 100.922 283.214 Q100.922 290.32 102.728 293.885 Q104.557 297.427 108.168 297.427 Q111.802 297.427 113.608 293.885 Q115.436 290.32 115.436 283.214 Q115.436 276.084 113.608 272.543 Q111.802 268.978 108.168 268.978 M108.168 265.274 Q113.978 265.274 117.033 269.881 Q120.112 274.464 120.112 283.214 Q120.112 291.941 117.033 296.547 Q113.978 301.13 108.168 301.13 Q102.358 301.13 99.2789 296.547 Q96.2234 291.941 96.2234 283.214 Q96.2234 274.464 99.2789 269.881 Q102.358 265.274 108.168 265.274 Z\" fill=\"#000000\" fill-rule=\"evenodd\" fill-opacity=\"1\" /><path clip-path=\"url(#clip730)\" d=\"M138.33 268.978 Q134.719 268.978 132.89 272.543 Q131.084 276.084 131.084 283.214 Q131.084 290.32 132.89 293.885 Q134.719 297.427 138.33 297.427 Q141.964 297.427 143.769 293.885 Q145.598 290.32 145.598 283.214 Q145.598 276.084 143.769 272.543 Q141.964 268.978 138.33 268.978 M138.33 265.274 Q144.14 265.274 147.195 269.881 Q150.274 274.464 150.274 283.214 Q150.274 291.941 147.195 296.547 Q144.14 301.13 138.33 301.13 Q132.519 301.13 129.441 296.547 Q126.385 291.941 126.385 283.214 Q126.385 274.464 129.441 269.881 Q132.519 265.274 138.33 265.274 Z\" fill=\"#000000\" fill-rule=\"evenodd\" fill-opacity=\"1\" /><polyline clip-path=\"url(#clip732)\" style=\"stroke:#009af9; stroke-linecap:round; stroke-linejoin:round; stroke-width:4; stroke-opacity:1; fill:none\" points=\"\n",
       "  247.59,283.179 254.471,318.567 261.353,353.24 268.234,387.205 275.116,420.47 281.998,453.043 288.879,484.929 295.761,516.137 302.643,546.674 309.524,576.547 \n",
       "  316.406,605.763 323.288,634.331 330.169,662.256 337.051,689.547 343.933,716.21 350.814,742.254 357.696,767.684 364.578,792.509 371.459,816.736 378.341,840.372 \n",
       "  385.223,863.425 392.104,885.901 398.986,907.808 405.868,929.154 412.749,949.945 419.631,970.189 426.512,989.893 433.394,1009.06 440.276,1027.71 447.157,1045.84 \n",
       "  454.039,1063.46 460.921,1080.57 467.802,1097.19 474.684,1113.32 481.566,1128.97 488.447,1144.14 495.329,1158.85 502.211,1173.1 509.092,1186.89 515.974,1200.24 \n",
       "  522.856,1213.16 529.737,1225.64 536.619,1237.7 543.501,1249.34 550.382,1260.58 557.264,1271.41 564.146,1281.85 571.027,1291.91 577.909,1301.58 584.791,1310.88 \n",
       "  591.672,1319.82 598.554,1328.4 605.435,1336.63 612.317,1344.51 619.199,1352.07 626.08,1359.29 632.962,1366.19 639.844,1372.78 646.725,1379.06 653.607,1385.04 \n",
       "  660.489,1390.74 667.37,1396.14 674.252,1401.27 681.134,1406.13 688.015,1410.73 694.897,1415.07 701.779,1419.16 708.66,1423.02 715.542,1426.63 722.424,1430.03 \n",
       "  729.305,1433.2 736.187,1436.17 743.069,1438.92 749.95,1441.49 756.832,1443.86 763.713,1446.05 770.595,1448.06 777.477,1449.91 784.358,1451.59 791.24,1453.13 \n",
       "  798.122,1454.52 805.003,1455.76 811.885,1456.88 818.767,1457.87 825.648,1458.75 832.53,1459.52 839.412,1460.18 846.293,1460.75 853.175,1461.24 860.057,1461.64 \n",
       "  866.938,1461.97 873.82,1462.23 880.702,1462.44 887.583,1462.59 894.465,1462.7 901.347,1462.78 908.228,1462.82 915.11,1462.84 921.991,1462.85 928.873,1462.85 \n",
       "  \n",
       "  \"/>\n",
       "<polyline clip-path=\"url(#clip732)\" style=\"stroke:#e26f46; stroke-linecap:round; stroke-linejoin:round; stroke-width:4; stroke-opacity:1; fill:none\" points=\"\n",
       "  247.59,1462.85 261.353,1393.51 275.116,1328.39 288.879,1267.41 302.643,1210.45 316.406,1157.41 330.169,1108.2 343.933,1062.71 357.696,1020.83 371.459,982.476 \n",
       "  385.223,947.532 398.986,915.899 412.749,887.477 426.512,862.162 440.276,839.852 454.039,820.446 467.802,803.84 481.566,789.934 495.329,778.625 509.092,769.811 \n",
       "  522.856,763.389 536.619,759.258 550.382,757.315 564.146,757.458 577.909,759.586 591.672,763.595 605.435,769.385 619.199,776.852 632.962,785.895 646.725,796.412 \n",
       "  660.489,808.3 674.252,821.457 688.015,835.782 701.779,851.171 715.542,867.523 729.305,884.736 743.069,902.708 756.832,921.336 770.595,940.519 784.358,960.154 \n",
       "  798.122,980.139 811.885,1000.37 825.648,1020.75 839.412,1041.17 853.175,1061.54 866.938,1081.74 880.702,1101.68 894.465,1121.26 908.228,1140.37 921.991,1158.91 \n",
       "  935.755,1176.78 949.518,1193.94 963.281,1210.4 977.045,1226.18 990.808,1241.28 1004.57,1255.72 1018.33,1269.53 1032.1,1282.7 1045.86,1295.27 1059.62,1307.23 \n",
       "  1073.39,1318.62 1087.15,1329.43 1100.91,1339.69 1114.68,1349.41 1128.44,1358.6 1142.2,1367.28 1155.97,1375.47 1169.73,1383.18 1183.49,1390.42 1197.26,1397.2 \n",
       "  1211.02,1403.55 1224.78,1409.48 1238.55,1414.99 1252.31,1420.12 1266.07,1424.86 1279.84,1429.24 1293.6,1433.27 1307.36,1436.96 1321.13,1440.34 1334.89,1443.4 \n",
       "  1348.65,1446.18 1362.42,1448.67 1376.18,1450.91 1389.94,1452.89 1403.71,1454.65 1417.47,1456.18 1431.23,1457.51 1445,1458.65 1458.76,1459.62 1472.52,1460.42 \n",
       "  1486.29,1461.08 1500.05,1461.61 1513.81,1462.02 1527.58,1462.33 1541.34,1462.55 1555.1,1462.7 1568.87,1462.79 1582.63,1462.83 1596.39,1462.85 1610.16,1462.85 \n",
       "  \n",
       "  \"/>\n",
       "<polyline clip-path=\"url(#clip732)\" style=\"stroke:#3da44d; stroke-linecap:round; stroke-linejoin:round; stroke-width:4; stroke-opacity:1; fill:none\" points=\"\n",
       "  247.59,1462.85 268.234,1461.26 288.879,1456.6 309.524,1449.04 330.169,1438.78 350.814,1425.99 371.459,1410.86 392.104,1393.56 412.749,1374.27 433.394,1353.17 \n",
       "  454.039,1330.46 474.684,1306.29 495.329,1280.87 515.974,1254.36 536.619,1226.94 557.264,1198.81 577.909,1170.13 598.554,1141.09 619.199,1111.88 639.844,1082.66 \n",
       "  660.489,1053.62 681.134,1024.94 701.779,996.81 722.424,969.397 743.069,942.887 763.713,917.461 784.358,893.298 805.003,870.579 825.648,849.486 846.293,830.198 \n",
       "  866.938,812.896 887.583,797.76 908.228,784.971 928.873,774.71 949.518,767.108 970.163,762.1 990.808,759.569 1011.45,759.403 1032.1,761.484 1052.74,765.7 \n",
       "  1073.39,771.934 1094.03,780.072 1114.68,789.999 1135.32,801.601 1155.97,814.761 1176.61,829.366 1197.26,845.3 1217.9,862.449 1238.55,880.698 1259.19,899.932 \n",
       "  1279.84,920.035 1300.48,940.893 1321.13,962.392 1341.77,984.415 1362.42,1006.85 1383.06,1029.58 1403.71,1052.49 1424.35,1075.46 1445,1098.39 1465.64,1121.15 \n",
       "  1486.29,1143.64 1506.93,1165.73 1527.58,1187.31 1548.22,1208.26 1568.87,1228.48 1589.51,1247.85 1610.16,1266.24 1630.8,1283.58 1651.45,1299.87 1672.09,1315.14 \n",
       "  1692.74,1329.42 1713.38,1342.75 1734.03,1355.17 1754.67,1366.7 1775.32,1377.37 1795.96,1387.22 1816.61,1396.29 1837.25,1404.6 1857.9,1412.19 1878.54,1419.09 \n",
       "  1899.19,1425.33 1919.83,1430.95 1940.48,1435.98 1961.12,1440.45 1981.77,1444.39 2002.41,1447.84 2023.06,1450.83 2043.7,1453.4 2064.35,1455.57 2084.99,1457.38 \n",
       "  2105.64,1458.87 2126.28,1460.05 2146.93,1460.98 2167.57,1461.67 2188.22,1462.17 2208.86,1462.5 2229.51,1462.71 2250.15,1462.81 2270.8,1462.85 2291.44,1462.85 \n",
       "  \n",
       "  \"/>\n",
       "<polyline clip-path=\"url(#clip732)\" style=\"stroke:#c271d2; stroke-linecap:round; stroke-linejoin:round; stroke-width:4; stroke-opacity:1; fill:none\" points=\"\n",
       "  247.59,1462.85 268.234,1462.85 288.879,1462.81 309.524,1462.71 330.169,1462.5 350.814,1462.17 371.459,1461.67 392.104,1460.98 412.749,1460.05 433.394,1458.87 \n",
       "  454.039,1457.38 474.684,1455.57 495.329,1453.4 515.974,1450.83 536.619,1447.84 557.264,1444.39 577.909,1440.45 598.554,1435.98 619.199,1430.95 639.844,1425.33 \n",
       "  660.489,1419.09 681.134,1412.19 701.779,1404.6 722.424,1396.29 743.069,1387.22 763.713,1377.37 784.358,1366.7 805.003,1355.17 825.648,1342.75 846.293,1329.42 \n",
       "  866.938,1315.14 887.583,1299.87 908.228,1283.58 928.873,1266.24 949.518,1247.85 970.163,1228.48 990.808,1208.26 1011.45,1187.31 1032.1,1165.73 1052.74,1143.64 \n",
       "  1073.39,1121.15 1094.03,1098.39 1114.68,1075.46 1135.32,1052.49 1155.97,1029.58 1176.61,1006.85 1197.26,984.415 1217.9,962.392 1238.55,940.893 1259.19,920.035 \n",
       "  1279.84,899.932 1300.48,880.698 1321.13,862.449 1341.77,845.3 1362.42,829.366 1383.06,814.761 1403.71,801.601 1424.35,789.999 1445,780.072 1465.64,771.934 \n",
       "  1486.29,765.7 1506.93,761.484 1527.58,759.403 1548.22,759.569 1568.87,762.1 1589.51,767.108 1610.16,774.71 1630.8,784.971 1651.45,797.76 1672.09,812.896 \n",
       "  1692.74,830.198 1713.38,849.486 1734.03,870.579 1754.67,893.298 1775.32,917.461 1795.96,942.887 1816.61,969.397 1837.25,996.81 1857.9,1024.94 1878.54,1053.62 \n",
       "  1899.19,1082.66 1919.83,1111.88 1940.48,1141.09 1961.12,1170.13 1981.77,1198.81 2002.41,1226.94 2023.06,1254.36 2043.7,1280.87 2064.35,1306.29 2084.99,1330.46 \n",
       "  2105.64,1353.17 2126.28,1374.27 2146.93,1393.56 2167.57,1410.86 2188.22,1425.99 2208.86,1438.78 2229.51,1449.04 2250.15,1456.6 2270.8,1461.26 2291.44,1462.85 \n",
       "  \n",
       "  \"/>\n",
       "<polyline clip-path=\"url(#clip732)\" style=\"stroke:#ac8d18; stroke-linecap:round; stroke-linejoin:round; stroke-width:4; stroke-opacity:1; fill:none\" points=\"\n",
       "  928.873,1462.85 942.636,1462.85 956.4,1462.83 970.163,1462.79 983.926,1462.7 997.69,1462.55 1011.45,1462.33 1025.22,1462.02 1038.98,1461.61 1052.74,1461.08 \n",
       "  1066.51,1460.42 1080.27,1459.62 1094.03,1458.65 1107.8,1457.51 1121.56,1456.18 1135.32,1454.65 1149.09,1452.89 1162.85,1450.91 1176.61,1448.67 1190.38,1446.18 \n",
       "  1204.14,1443.4 1217.9,1440.34 1231.67,1436.96 1245.43,1433.27 1259.19,1429.24 1272.96,1424.86 1286.72,1420.12 1300.48,1414.99 1314.25,1409.48 1328.01,1403.55 \n",
       "  1341.77,1397.2 1355.54,1390.42 1369.3,1383.18 1383.06,1375.47 1396.83,1367.28 1410.59,1358.6 1424.35,1349.41 1438.12,1339.69 1451.88,1329.43 1465.64,1318.62 \n",
       "  1479.41,1307.23 1493.17,1295.27 1506.93,1282.7 1520.7,1269.53 1534.46,1255.72 1548.22,1241.28 1561.99,1226.18 1575.75,1210.4 1589.51,1193.94 1603.28,1176.78 \n",
       "  1617.04,1158.91 1630.8,1140.37 1644.57,1121.26 1658.33,1101.68 1672.09,1081.74 1685.85,1061.54 1699.62,1041.17 1713.38,1020.75 1727.14,1000.37 1740.91,980.139 \n",
       "  1754.67,960.154 1768.43,940.519 1782.2,921.336 1795.96,902.708 1809.72,884.736 1823.49,867.523 1837.25,851.171 1851.01,835.782 1864.78,821.457 1878.54,808.3 \n",
       "  1892.3,796.412 1906.07,785.895 1919.83,776.852 1933.59,769.385 1947.36,763.595 1961.12,759.586 1974.88,757.458 1988.65,757.315 2002.41,759.258 2016.17,763.389 \n",
       "  2029.94,769.811 2043.7,778.625 2057.46,789.934 2071.23,803.84 2084.99,820.446 2098.75,839.852 2112.52,862.162 2126.28,887.477 2140.04,915.899 2153.81,947.532 \n",
       "  2167.57,982.476 2181.33,1020.83 2195.1,1062.71 2208.86,1108.2 2222.62,1157.41 2236.39,1210.45 2250.15,1267.41 2263.91,1328.39 2277.68,1393.51 2291.44,1462.85 \n",
       "  \n",
       "  \"/>\n",
       "<polyline clip-path=\"url(#clip732)\" style=\"stroke:#00a9ad; stroke-linecap:round; stroke-linejoin:round; stroke-width:4; stroke-opacity:1; fill:none\" points=\"\n",
       "  1610.16,1462.85 1617.04,1462.85 1623.92,1462.84 1630.8,1462.82 1637.68,1462.78 1644.57,1462.7 1651.45,1462.59 1658.33,1462.44 1665.21,1462.23 1672.09,1461.97 \n",
       "  1678.97,1461.64 1685.85,1461.24 1692.74,1460.75 1699.62,1460.18 1706.5,1459.52 1713.38,1458.75 1720.26,1457.87 1727.14,1456.88 1734.03,1455.76 1740.91,1454.52 \n",
       "  1747.79,1453.13 1754.67,1451.59 1761.55,1449.91 1768.43,1448.06 1775.32,1446.05 1782.2,1443.86 1789.08,1441.49 1795.96,1438.92 1802.84,1436.17 1809.72,1433.2 \n",
       "  1816.61,1430.03 1823.49,1426.63 1830.37,1423.02 1837.25,1419.16 1844.13,1415.07 1851.01,1410.73 1857.9,1406.13 1864.78,1401.27 1871.66,1396.14 1878.54,1390.74 \n",
       "  1885.42,1385.04 1892.3,1379.06 1899.19,1372.78 1906.07,1366.19 1912.95,1359.29 1919.83,1352.07 1926.71,1344.51 1933.59,1336.63 1940.48,1328.4 1947.36,1319.82 \n",
       "  1954.24,1310.88 1961.12,1301.58 1968,1291.91 1974.88,1281.85 1981.77,1271.41 1988.65,1260.58 1995.53,1249.34 2002.41,1237.7 2009.29,1225.64 2016.17,1213.16 \n",
       "  2023.06,1200.24 2029.94,1186.89 2036.82,1173.1 2043.7,1158.85 2050.58,1144.14 2057.46,1128.97 2064.35,1113.32 2071.23,1097.19 2078.11,1080.57 2084.99,1063.46 \n",
       "  2091.87,1045.84 2098.75,1027.71 2105.64,1009.06 2112.52,989.893 2119.4,970.189 2126.28,949.945 2133.16,929.154 2140.04,907.808 2146.93,885.901 2153.81,863.425 \n",
       "  2160.69,840.372 2167.57,816.736 2174.45,792.509 2181.33,767.684 2188.22,742.254 2195.1,716.21 2201.98,689.547 2208.86,662.256 2215.74,634.331 2222.62,605.763 \n",
       "  2229.51,576.547 2236.39,546.674 2243.27,516.137 2250.15,484.929 2257.03,453.043 2263.91,420.47 2270.8,387.205 2277.68,353.24 2284.56,318.567 2291.44,283.179 \n",
       "  \n",
       "  \"/>\n",
       "<circle clip-path=\"url(#clip732)\" cx=\"247.59\" cy=\"1462.85\" r=\"14.4\" fill=\"#ed5d92\" fill-rule=\"evenodd\" fill-opacity=\"1\" stroke=\"#000000\" stroke-opacity=\"1\" stroke-width=\"3.2\"/>\n",
       "<circle clip-path=\"url(#clip732)\" cx=\"928.873\" cy=\"1462.85\" r=\"14.4\" fill=\"#ed5d92\" fill-rule=\"evenodd\" fill-opacity=\"1\" stroke=\"#000000\" stroke-opacity=\"1\" stroke-width=\"3.2\"/>\n",
       "<circle clip-path=\"url(#clip732)\" cx=\"1610.16\" cy=\"1462.85\" r=\"14.4\" fill=\"#ed5d92\" fill-rule=\"evenodd\" fill-opacity=\"1\" stroke=\"#000000\" stroke-opacity=\"1\" stroke-width=\"3.2\"/>\n",
       "<circle clip-path=\"url(#clip732)\" cx=\"2291.44\" cy=\"1462.85\" r=\"14.4\" fill=\"#ed5d92\" fill-rule=\"evenodd\" fill-opacity=\"1\" stroke=\"#000000\" stroke-opacity=\"1\" stroke-width=\"3.2\"/>\n",
       "<path clip-path=\"url(#clip730)\" d=\"\n",
       "M1097.96 509.938 L1441.07 509.938 L1441.07 95.2176 L1097.96 95.2176  Z\n",
       "  \" fill=\"#ffffff\" fill-rule=\"evenodd\" fill-opacity=\"1\"/>\n",
       "<polyline clip-path=\"url(#clip730)\" style=\"stroke:#000000; stroke-linecap:round; stroke-linejoin:round; stroke-width:4; stroke-opacity:1; fill:none\" points=\"\n",
       "  1097.96,509.938 1441.07,509.938 1441.07,95.2176 1097.96,95.2176 1097.96,509.938 \n",
       "  \"/>\n",
       "<polyline clip-path=\"url(#clip730)\" style=\"stroke:#009af9; stroke-linecap:round; stroke-linejoin:round; stroke-width:4; stroke-opacity:1; fill:none\" points=\"\n",
       "  1122.03,147.058 1266.47,147.058 \n",
       "  \"/>\n",
       "<path clip-path=\"url(#clip730)\" d=\"M1291.21 160.402 L1298.85 160.402 L1298.85 134.037 L1290.54 135.703 L1290.54 131.444 L1298.8 129.778 L1303.48 129.778 L1303.48 160.402 L1311.12 160.402 L1311.12 164.338 L1291.21 164.338 L1291.21 160.402 Z\" fill=\"#000000\" fill-rule=\"evenodd\" fill-opacity=\"1\" /><polyline clip-path=\"url(#clip730)\" style=\"stroke:#e26f46; stroke-linecap:round; stroke-linejoin:round; stroke-width:4; stroke-opacity:1; fill:none\" points=\"\n",
       "  1122.03,198.898 1266.47,198.898 \n",
       "  \"/>\n",
       "<path clip-path=\"url(#clip730)\" d=\"M1296.16 212.242 L1312.48 212.242 L1312.48 216.178 L1290.54 216.178 L1290.54 212.242 Q1293.2 209.488 1297.78 204.858 Q1302.39 200.205 1303.57 198.863 Q1305.82 196.34 1306.7 194.604 Q1307.6 192.844 1307.6 191.155 Q1307.6 188.4 1305.65 186.664 Q1303.73 184.928 1300.63 184.928 Q1298.43 184.928 1295.98 185.692 Q1293.55 186.455 1290.77 188.006 L1290.77 183.284 Q1293.59 182.15 1296.05 181.571 Q1298.5 180.993 1300.54 180.993 Q1305.91 180.993 1309.1 183.678 Q1312.3 186.363 1312.3 190.854 Q1312.3 192.983 1311.49 194.905 Q1310.7 196.803 1308.59 199.395 Q1308.01 200.067 1304.91 203.284 Q1301.81 206.479 1296.16 212.242 Z\" fill=\"#000000\" fill-rule=\"evenodd\" fill-opacity=\"1\" /><polyline clip-path=\"url(#clip730)\" style=\"stroke:#3da44d; stroke-linecap:round; stroke-linejoin:round; stroke-width:4; stroke-opacity:1; fill:none\" points=\"\n",
       "  1122.03,250.738 1266.47,250.738 \n",
       "  \"/>\n",
       "<path clip-path=\"url(#clip730)\" d=\"M1306.16 249.383 Q1309.52 250.101 1311.39 252.369 Q1313.29 254.638 1313.29 257.971 Q1313.29 263.087 1309.77 265.888 Q1306.26 268.689 1299.77 268.689 Q1297.6 268.689 1295.28 268.249 Q1292.99 267.832 1290.54 266.976 L1290.54 262.462 Q1292.48 263.596 1294.8 264.175 Q1297.11 264.754 1299.64 264.754 Q1304.03 264.754 1306.33 263.018 Q1308.64 261.281 1308.64 257.971 Q1308.64 254.916 1306.49 253.203 Q1304.36 251.467 1300.54 251.467 L1296.51 251.467 L1296.51 247.624 L1300.72 247.624 Q1304.17 247.624 1306 246.258 Q1307.83 244.87 1307.83 242.277 Q1307.83 239.615 1305.93 238.203 Q1304.06 236.768 1300.54 236.768 Q1298.62 236.768 1296.42 237.184 Q1294.22 237.601 1291.58 238.481 L1291.58 234.314 Q1294.24 233.573 1296.56 233.203 Q1298.89 232.833 1300.95 232.833 Q1306.28 232.833 1309.38 235.263 Q1312.48 237.67 1312.48 241.791 Q1312.48 244.661 1310.84 246.652 Q1309.2 248.62 1306.16 249.383 Z\" fill=\"#000000\" fill-rule=\"evenodd\" fill-opacity=\"1\" /><polyline clip-path=\"url(#clip730)\" style=\"stroke:#c271d2; stroke-linecap:round; stroke-linejoin:round; stroke-width:4; stroke-opacity:1; fill:none\" points=\"\n",
       "  1122.03,302.578 1266.47,302.578 \n",
       "  \"/>\n",
       "<path clip-path=\"url(#clip730)\" d=\"M1306.14 289.372 L1294.33 307.821 L1306.14 307.821 L1306.14 289.372 M1304.91 285.298 L1310.79 285.298 L1310.79 307.821 L1315.72 307.821 L1315.72 311.709 L1310.79 311.709 L1310.79 319.858 L1306.14 319.858 L1306.14 311.709 L1290.54 311.709 L1290.54 307.196 L1304.91 285.298 Z\" fill=\"#000000\" fill-rule=\"evenodd\" fill-opacity=\"1\" /><polyline clip-path=\"url(#clip730)\" style=\"stroke:#ac8d18; stroke-linecap:round; stroke-linejoin:round; stroke-width:4; stroke-opacity:1; fill:none\" points=\"\n",
       "  1122.03,354.418 1266.47,354.418 \n",
       "  \"/>\n",
       "<path clip-path=\"url(#clip730)\" d=\"M1292 337.138 L1310.35 337.138 L1310.35 341.073 L1296.28 341.073 L1296.28 349.545 Q1297.3 349.198 1298.32 349.036 Q1299.33 348.85 1300.35 348.85 Q1306.14 348.85 1309.52 352.022 Q1312.9 355.193 1312.9 360.61 Q1312.9 366.188 1309.43 369.29 Q1305.95 372.369 1299.64 372.369 Q1297.46 372.369 1295.19 371.998 Q1292.95 371.628 1290.54 370.887 L1290.54 366.188 Q1292.62 367.323 1294.84 367.878 Q1297.07 368.434 1299.54 368.434 Q1303.55 368.434 1305.89 366.327 Q1308.22 364.221 1308.22 360.61 Q1308.22 356.999 1305.89 354.892 Q1303.55 352.786 1299.54 352.786 Q1297.67 352.786 1295.79 353.202 Q1293.94 353.619 1292 354.499 L1292 337.138 Z\" fill=\"#000000\" fill-rule=\"evenodd\" fill-opacity=\"1\" /><polyline clip-path=\"url(#clip730)\" style=\"stroke:#00a9ad; stroke-linecap:round; stroke-linejoin:round; stroke-width:4; stroke-opacity:1; fill:none\" points=\"\n",
       "  1122.03,406.258 1266.47,406.258 \n",
       "  \"/>\n",
       "<path clip-path=\"url(#clip730)\" d=\"M1302.88 404.394 Q1299.73 404.394 1297.88 406.547 Q1296.05 408.7 1296.05 412.45 Q1296.05 416.176 1297.88 418.352 Q1299.73 420.505 1302.88 420.505 Q1306.02 420.505 1307.85 418.352 Q1309.7 416.176 1309.7 412.45 Q1309.7 408.7 1307.85 406.547 Q1306.02 404.394 1302.88 404.394 M1312.16 389.741 L1312.16 394.001 Q1310.4 393.167 1308.59 392.728 Q1306.81 392.288 1305.05 392.288 Q1300.42 392.288 1297.97 395.413 Q1295.54 398.538 1295.19 404.857 Q1296.56 402.843 1298.62 401.778 Q1300.68 400.69 1303.15 400.69 Q1308.36 400.69 1311.37 403.862 Q1314.4 407.01 1314.4 412.45 Q1314.4 417.774 1311.26 420.991 Q1308.11 424.209 1302.88 424.209 Q1296.88 424.209 1293.71 419.626 Q1290.54 415.019 1290.54 406.292 Q1290.54 398.098 1294.43 393.237 Q1298.32 388.353 1304.87 388.353 Q1306.63 388.353 1308.41 388.7 Q1310.21 389.047 1312.16 389.741 Z\" fill=\"#000000\" fill-rule=\"evenodd\" fill-opacity=\"1\" /><circle clip-path=\"url(#clip730)\" cx=\"1194.25\" cy=\"458.098\" r=\"23.04\" fill=\"#ed5d92\" fill-rule=\"evenodd\" fill-opacity=\"1\" stroke=\"#000000\" stroke-opacity=\"1\" stroke-width=\"5.12\"/>\n",
       "<path clip-path=\"url(#clip730)\" d=\"M1290.54 440.818 L1295.21 440.818 L1295.21 455.424 L1310.72 440.818 L1316.74 440.818 L1299.59 456.929 L1317.97 475.378 L1311.81 475.378 L1295.21 458.734 L1295.21 475.378 L1290.54 475.378 L1290.54 440.818 Z\" fill=\"#000000\" fill-rule=\"evenodd\" fill-opacity=\"1\" /><path clip-path=\"url(#clip730)\" d=\"M1342.99 459.729 L1342.99 475.378 L1338.73 475.378 L1338.73 459.868 Q1338.73 456.188 1337.3 454.359 Q1335.86 452.53 1332.99 452.53 Q1329.54 452.53 1327.55 454.73 Q1325.56 456.929 1325.56 460.725 L1325.56 475.378 L1321.28 475.378 L1321.28 449.452 L1325.56 449.452 L1325.56 453.48 Q1327.09 451.142 1329.15 449.984 Q1331.23 448.827 1333.94 448.827 Q1338.41 448.827 1340.7 451.605 Q1342.99 454.359 1342.99 459.729 Z\" fill=\"#000000\" fill-rule=\"evenodd\" fill-opacity=\"1\" /><path clip-path=\"url(#clip730)\" d=\"M1361.53 452.438 Q1358.11 452.438 1356.12 455.123 Q1354.13 457.785 1354.13 462.438 Q1354.13 467.091 1356.09 469.776 Q1358.08 472.438 1361.53 472.438 Q1364.94 472.438 1366.93 469.753 Q1368.92 467.067 1368.92 462.438 Q1368.92 457.831 1366.93 455.146 Q1364.94 452.438 1361.53 452.438 M1361.53 448.827 Q1367.09 448.827 1370.26 452.438 Q1373.43 456.049 1373.43 462.438 Q1373.43 468.804 1370.26 472.438 Q1367.09 476.049 1361.53 476.049 Q1355.95 476.049 1352.78 472.438 Q1349.64 468.804 1349.64 462.438 Q1349.64 456.049 1352.78 452.438 Q1355.95 448.827 1361.53 448.827 Z\" fill=\"#000000\" fill-rule=\"evenodd\" fill-opacity=\"1\" /><path clip-path=\"url(#clip730)\" d=\"M1384.7 442.091 L1384.7 449.452 L1393.48 449.452 L1393.48 452.762 L1384.7 452.762 L1384.7 466.836 Q1384.7 470.007 1385.56 470.91 Q1386.44 471.813 1389.1 471.813 L1393.48 471.813 L1393.48 475.378 L1389.1 475.378 Q1384.17 475.378 1382.3 473.549 Q1380.42 471.697 1380.42 466.836 L1380.42 452.762 L1377.3 452.762 L1377.3 449.452 L1380.42 449.452 L1380.42 442.091 L1384.7 442.091 Z\" fill=\"#000000\" fill-rule=\"evenodd\" fill-opacity=\"1\" /><path clip-path=\"url(#clip730)\" d=\"M1415.61 450.216 L1415.61 454.243 Q1413.8 453.317 1411.86 452.855 Q1409.91 452.392 1407.83 452.392 Q1404.66 452.392 1403.06 453.364 Q1401.49 454.336 1401.49 456.28 Q1401.49 457.762 1402.62 458.618 Q1403.76 459.452 1407.18 460.216 L1408.64 460.54 Q1413.18 461.512 1415.07 463.294 Q1417 465.054 1417 468.225 Q1417 471.836 1414.13 473.942 Q1411.28 476.049 1406.28 476.049 Q1404.19 476.049 1401.93 475.632 Q1399.68 475.239 1397.18 474.428 L1397.18 470.03 Q1399.54 471.257 1401.83 471.882 Q1404.13 472.484 1406.37 472.484 Q1409.38 472.484 1411 471.466 Q1412.62 470.424 1412.62 468.549 Q1412.62 466.813 1411.44 465.887 Q1410.28 464.961 1406.32 464.104 L1404.84 463.757 Q1400.88 462.924 1399.13 461.211 Q1397.37 459.475 1397.37 456.466 Q1397.37 452.808 1399.96 450.818 Q1402.55 448.827 1407.32 448.827 Q1409.68 448.827 1411.76 449.174 Q1413.85 449.521 1415.61 450.216 Z\" fill=\"#000000\" fill-rule=\"evenodd\" fill-opacity=\"1\" /></svg>\n"
      ]
     },
     "execution_count": 99,
     "metadata": {},
     "output_type": "execute_result"
    }
   ],
   "source": [
    "Plots.plot(spline_basis)\n",
    "Plots.scatter!(spline_points,0. *spline_points, label=\"Knots\",marker=:circle, legend=:top)\n",
    "ylims!((-0.02,1.2))"
   ]
  },
  {
   "cell_type": "markdown",
   "id": "5c0fa330",
   "metadata": {},
   "source": [
    "Approximate any given function:"
   ]
  },
  {
   "cell_type": "code",
   "execution_count": 90,
   "id": "f077244e",
   "metadata": {},
   "outputs": [
    {
     "data": {
      "text/plain": [
       "f_sin (generic function with 1 method)"
      ]
     },
     "execution_count": 90,
     "metadata": {},
     "output_type": "execute_result"
    }
   ],
   "source": [
    "f_sin(x)=sin(x)"
   ]
  },
  {
   "cell_type": "code",
   "execution_count": 117,
   "id": "b7559c59",
   "metadata": {},
   "outputs": [
    {
     "data": {
      "text/plain": [
       "Spline{BSplineBasis{StepRange{Int64, Int64}}, Vector{Float64}}:\n",
       " basis: 6-element BSplineBasis{StepRange{Int64, Int64}}:\n",
       "  order: 4\n",
       "  breakpoints: -3:2:3\n",
       " coeffs: [-0.14112, -0.87078, -1.49706, 1.49706, 0.87078, 0.14112]"
      ]
     },
     "execution_count": 117,
     "metadata": {},
     "output_type": "execute_result"
    }
   ],
   "source": [
    "spl_approx = approximate(f_sin, spline_basis)"
   ]
  },
  {
   "cell_type": "markdown",
   "id": "b16a0a58",
   "metadata": {},
   "source": [
    "Plot approximation with exact function:"
   ]
  },
  {
   "cell_type": "code",
   "execution_count": 124,
   "id": "36ef728e",
   "metadata": {},
   "outputs": [
    {
     "data": {
      "application/vnd.plotly.v1+json": {
       "config": {
        "editable": false,
        "responsive": true,
        "scrollZoom": true,
        "showLink": false,
        "staticPlot": false
       },
       "data": [
        {
         "mode": "lines",
         "name": "Exact function value",
         "type": "scatter",
         "x": [
          -3,
          -2.9,
          -2.8,
          -2.7,
          -2.6,
          -2.5,
          -2.4,
          -2.3,
          -2.2,
          -2.1,
          -2,
          -1.9,
          -1.8,
          -1.7,
          -1.6,
          -1.5,
          -1.4,
          -1.3,
          -1.2,
          -1.1,
          -1,
          -0.9,
          -0.8,
          -0.7,
          -0.6,
          -0.5,
          -0.4,
          -0.3,
          -0.2,
          -0.1,
          0,
          0.1,
          0.2,
          0.3,
          0.4,
          0.5,
          0.6,
          0.7,
          0.8,
          0.9,
          1,
          1.1,
          1.2,
          1.3,
          1.4,
          1.5,
          1.6,
          1.7,
          1.8,
          1.9,
          2,
          2.1,
          2.2,
          2.3,
          2.4,
          2.5,
          2.6,
          2.7,
          2.8,
          2.9,
          3
         ],
         "y": [
          -0.1411200080598672,
          -0.23924932921398243,
          -0.3349881501559051,
          -0.4273798802338298,
          -0.5155013718214642,
          -0.5984721441039564,
          -0.675463180551151,
          -0.7457052121767203,
          -0.8084964038195901,
          -0.8632093666488737,
          -0.9092974268256817,
          -0.9463000876874145,
          -0.9738476308781951,
          -0.9916648104524686,
          -0.9995736030415051,
          -0.9974949866040544,
          -0.9854497299884601,
          -0.963558185417193,
          -0.9320390859672263,
          -0.8912073600614354,
          -0.8414709848078965,
          -0.7833269096274834,
          -0.7173560908995228,
          -0.644217687237691,
          -0.5646424733950354,
          -0.479425538604203,
          -0.3894183423086505,
          -0.29552020666133955,
          -0.19866933079506122,
          -0.09983341664682815,
          0,
          0.09983341664682815,
          0.19866933079506122,
          0.29552020666133955,
          0.3894183423086505,
          0.479425538604203,
          0.5646424733950354,
          0.644217687237691,
          0.7173560908995228,
          0.7833269096274834,
          0.8414709848078965,
          0.8912073600614354,
          0.9320390859672263,
          0.963558185417193,
          0.9854497299884601,
          0.9974949866040544,
          0.9995736030415051,
          0.9916648104524686,
          0.9738476308781951,
          0.9463000876874145,
          0.9092974268256817,
          0.8632093666488737,
          0.8084964038195901,
          0.7457052121767203,
          0.675463180551151,
          0.5984721441039564,
          0.5155013718214642,
          0.4273798802338298,
          0.3349881501559051,
          0.23924932921398243,
          0.1411200080598672
         ]
        },
        {
         "marker": {
          "color": "LightSkyBlue",
          "size": 10
         },
         "mode": "markers",
         "name": "Function at knots",
         "type": "scatter",
         "x": [
          -3,
          -1,
          1,
          3
         ],
         "y": [
          -0.1411200080598672,
          -0.8414709848078965,
          0.8414709848078966,
          0.1411200080598672
         ]
        },
        {
         "marker": {
          "color": "Green",
          "size": 5
         },
         "mode": "markers",
         "name": "B-Spline approximation",
         "type": "scatter",
         "x": [
          -3,
          -2.9,
          -2.8,
          -2.7,
          -2.6,
          -2.5,
          -2.4,
          -2.3,
          -2.2,
          -2.1,
          -2,
          -1.9,
          -1.8,
          -1.7,
          -1.6,
          -1.5,
          -1.4,
          -1.3,
          -1.2,
          -1.1,
          -1,
          -0.9,
          -0.8,
          -0.7,
          -0.6,
          -0.5,
          -0.4,
          -0.3,
          -0.2,
          -0.1,
          0,
          0.1,
          0.2,
          0.3,
          0.4,
          0.5,
          0.6,
          0.7,
          0.8,
          0.9,
          1,
          1.1,
          1.2,
          1.3,
          1.4,
          1.5,
          1.6,
          1.7,
          1.8,
          1.9,
          2,
          2.1,
          2.2,
          2.3,
          2.4,
          2.5,
          2.6,
          2.7,
          2.8,
          2.9,
          3
         ],
         "y": [
          -0.1411200080598672,
          -0.24741523861640471,
          -0.34728338132053915,
          -0.44054513183680855,
          -0.5270211858297521,
          -0.6065322389639081,
          -0.6788989869038149,
          -0.743942125314011,
          -0.8014823498590347,
          -0.8513403562034247,
          -0.8933368400117196,
          -0.9272924969484577,
          -0.9530280226781773,
          -0.9703641128654177,
          -0.9791214631747163,
          -0.9791207692706123,
          -0.970182726817644,
          -0.9521280314803494,
          -0.924777378923268,
          -0.8879514648109375,
          -0.8414709848078965,
          -0.7853504164716967,
          -0.7203793649319423,
          -0.6475412172112505,
          -0.567819360332238,
          -0.48219718131752265,
          -0.3916580671897212,
          -0.29718540497145113,
          -0.1997625816853294,
          -0.10037298435397332,
          1.3877787807814457e-16,
          0.10037298435397339,
          0.19976258168532954,
          0.29718540497145124,
          0.3916580671897213,
          0.48219718131752276,
          0.5678193603322385,
          0.6475412172112505,
          0.7203793649319425,
          0.7853504164716968,
          0.8414709848078966,
          0.8879514648109376,
          0.9247773789232682,
          0.9521280314803494,
          0.9701827268176438,
          0.9791207692706121,
          0.979121463174716,
          0.9703641128654177,
          0.9530280226781774,
          0.9272924969484577,
          0.8933368400117196,
          0.8513403562034247,
          0.8014823498590344,
          0.7439421253140108,
          0.6788989869038148,
          0.6065322389639081,
          0.527021185829752,
          0.4405451318368085,
          0.3472833813205391,
          0.24741523861640471,
          0.1411200080598672
         ]
        }
       ],
       "frames": [],
       "layout": {
        "margin": {
         "b": 50,
         "l": 50,
         "r": 50,
         "t": 60
        },
        "template": {
         "data": {
          "bar": [
           {
            "error_x": {
             "color": "#2a3f5f"
            },
            "error_y": {
             "color": "#2a3f5f"
            },
            "marker": {
             "line": {
              "color": "#E5ECF6",
              "width": 0.5
             }
            },
            "type": "bar"
           }
          ],
          "barpolar": [
           {
            "marker": {
             "line": {
              "color": "#E5ECF6",
              "width": 0.5
             }
            },
            "type": "barpolar"
           }
          ],
          "carpet": [
           {
            "aaxis": {
             "endlinecolor": "#2a3f5f",
             "gridcolor": "white",
             "linecolor": "white",
             "minorgridcolor": "white",
             "startlinecolor": "#2a3f5f"
            },
            "baxis": {
             "endlinecolor": "#2a3f5f",
             "gridcolor": "white",
             "linecolor": "white",
             "minorgridcolor": "white",
             "startlinecolor": "#2a3f5f"
            },
            "type": "carpet"
           }
          ],
          "choropleth": [
           {
            "colorbar": {
             "outlinewidth": 0,
             "ticks": ""
            },
            "type": "choropleth"
           }
          ],
          "contour": [
           {
            "colorbar": {
             "outlinewidth": 0,
             "ticks": ""
            },
            "colorscale": [
             [
              0,
              "#0d0887"
             ],
             [
              0.1111111111111111,
              "#46039f"
             ],
             [
              0.2222222222222222,
              "#7201a8"
             ],
             [
              0.3333333333333333,
              "#9c179e"
             ],
             [
              0.4444444444444444,
              "#bd3786"
             ],
             [
              0.5555555555555556,
              "#d8576b"
             ],
             [
              0.6666666666666666,
              "#ed7953"
             ],
             [
              0.7777777777777778,
              "#fb9f3a"
             ],
             [
              0.8888888888888888,
              "#fdca26"
             ],
             [
              1,
              "#f0f921"
             ]
            ],
            "type": "contour"
           }
          ],
          "contourcarpet": [
           {
            "colorbar": {
             "outlinewidth": 0,
             "ticks": ""
            },
            "type": "contourcarpet"
           }
          ],
          "heatmap": [
           {
            "colorbar": {
             "outlinewidth": 0,
             "ticks": ""
            },
            "colorscale": [
             [
              0,
              "#0d0887"
             ],
             [
              0.1111111111111111,
              "#46039f"
             ],
             [
              0.2222222222222222,
              "#7201a8"
             ],
             [
              0.3333333333333333,
              "#9c179e"
             ],
             [
              0.4444444444444444,
              "#bd3786"
             ],
             [
              0.5555555555555556,
              "#d8576b"
             ],
             [
              0.6666666666666666,
              "#ed7953"
             ],
             [
              0.7777777777777778,
              "#fb9f3a"
             ],
             [
              0.8888888888888888,
              "#fdca26"
             ],
             [
              1,
              "#f0f921"
             ]
            ],
            "type": "heatmap"
           }
          ],
          "heatmapgl": [
           {
            "colorbar": {
             "outlinewidth": 0,
             "ticks": ""
            },
            "colorscale": [
             [
              0,
              "#0d0887"
             ],
             [
              0.1111111111111111,
              "#46039f"
             ],
             [
              0.2222222222222222,
              "#7201a8"
             ],
             [
              0.3333333333333333,
              "#9c179e"
             ],
             [
              0.4444444444444444,
              "#bd3786"
             ],
             [
              0.5555555555555556,
              "#d8576b"
             ],
             [
              0.6666666666666666,
              "#ed7953"
             ],
             [
              0.7777777777777778,
              "#fb9f3a"
             ],
             [
              0.8888888888888888,
              "#fdca26"
             ],
             [
              1,
              "#f0f921"
             ]
            ],
            "type": "heatmapgl"
           }
          ],
          "histogram": [
           {
            "marker": {
             "colorbar": {
              "outlinewidth": 0,
              "ticks": ""
             }
            },
            "type": "histogram"
           }
          ],
          "histogram2d": [
           {
            "colorbar": {
             "outlinewidth": 0,
             "ticks": ""
            },
            "colorscale": [
             [
              0,
              "#0d0887"
             ],
             [
              0.1111111111111111,
              "#46039f"
             ],
             [
              0.2222222222222222,
              "#7201a8"
             ],
             [
              0.3333333333333333,
              "#9c179e"
             ],
             [
              0.4444444444444444,
              "#bd3786"
             ],
             [
              0.5555555555555556,
              "#d8576b"
             ],
             [
              0.6666666666666666,
              "#ed7953"
             ],
             [
              0.7777777777777778,
              "#fb9f3a"
             ],
             [
              0.8888888888888888,
              "#fdca26"
             ],
             [
              1,
              "#f0f921"
             ]
            ],
            "type": "histogram2d"
           }
          ],
          "histogram2dcontour": [
           {
            "colorbar": {
             "outlinewidth": 0,
             "ticks": ""
            },
            "colorscale": [
             [
              0,
              "#0d0887"
             ],
             [
              0.1111111111111111,
              "#46039f"
             ],
             [
              0.2222222222222222,
              "#7201a8"
             ],
             [
              0.3333333333333333,
              "#9c179e"
             ],
             [
              0.4444444444444444,
              "#bd3786"
             ],
             [
              0.5555555555555556,
              "#d8576b"
             ],
             [
              0.6666666666666666,
              "#ed7953"
             ],
             [
              0.7777777777777778,
              "#fb9f3a"
             ],
             [
              0.8888888888888888,
              "#fdca26"
             ],
             [
              1,
              "#f0f921"
             ]
            ],
            "type": "histogram2dcontour"
           }
          ],
          "mesh3d": [
           {
            "colorbar": {
             "outlinewidth": 0,
             "ticks": ""
            },
            "type": "mesh3d"
           }
          ],
          "parcoords": [
           {
            "line": {
             "colorbar": {
              "outlinewidth": 0,
              "ticks": ""
             }
            },
            "type": "parcoords"
           }
          ],
          "pie": [
           {
            "automargin": true,
            "type": "pie"
           }
          ],
          "scatter": [
           {
            "marker": {
             "colorbar": {
              "outlinewidth": 0,
              "ticks": ""
             }
            },
            "type": "scatter"
           }
          ],
          "scatter3d": [
           {
            "line": {
             "colorbar": {
              "outlinewidth": 0,
              "ticks": ""
             }
            },
            "marker": {
             "colorbar": {
              "outlinewidth": 0,
              "ticks": ""
             }
            },
            "type": "scatter3d"
           }
          ],
          "scattercarpet": [
           {
            "marker": {
             "colorbar": {
              "outlinewidth": 0,
              "ticks": ""
             }
            },
            "type": "scattercarpet"
           }
          ],
          "scattergeo": [
           {
            "marker": {
             "colorbar": {
              "outlinewidth": 0,
              "ticks": ""
             }
            },
            "type": "scattergeo"
           }
          ],
          "scattergl": [
           {
            "marker": {
             "colorbar": {
              "outlinewidth": 0,
              "ticks": ""
             }
            },
            "type": "scattergl"
           }
          ],
          "scattermapbox": [
           {
            "marker": {
             "colorbar": {
              "outlinewidth": 0,
              "ticks": ""
             }
            },
            "type": "scattermapbox"
           }
          ],
          "scatterpolar": [
           {
            "marker": {
             "colorbar": {
              "outlinewidth": 0,
              "ticks": ""
             }
            },
            "type": "scatterpolar"
           }
          ],
          "scatterpolargl": [
           {
            "marker": {
             "colorbar": {
              "outlinewidth": 0,
              "ticks": ""
             }
            },
            "type": "scatterpolargl"
           }
          ],
          "scatterternary": [
           {
            "marker": {
             "colorbar": {
              "outlinewidth": 0,
              "ticks": ""
             }
            },
            "type": "scatterternary"
           }
          ],
          "surface": [
           {
            "colorbar": {
             "outlinewidth": 0,
             "ticks": ""
            },
            "colorscale": [
             [
              0,
              "#0d0887"
             ],
             [
              0.1111111111111111,
              "#46039f"
             ],
             [
              0.2222222222222222,
              "#7201a8"
             ],
             [
              0.3333333333333333,
              "#9c179e"
             ],
             [
              0.4444444444444444,
              "#bd3786"
             ],
             [
              0.5555555555555556,
              "#d8576b"
             ],
             [
              0.6666666666666666,
              "#ed7953"
             ],
             [
              0.7777777777777778,
              "#fb9f3a"
             ],
             [
              0.8888888888888888,
              "#fdca26"
             ],
             [
              1,
              "#f0f921"
             ]
            ],
            "type": "surface"
           }
          ],
          "table": [
           {
            "cells": {
             "fill": {
              "color": "#EBF0F8"
             },
             "line": {
              "color": "white"
             }
            },
            "header": {
             "fill": {
              "color": "#C8D4E3"
             },
             "line": {
              "color": "white"
             }
            },
            "type": "table"
           }
          ]
         },
         "layout": {
          "annotationdefaults": {
           "arrowcolor": "#2a3f5f",
           "arrowhead": 0,
           "arrowwidth": 1
          },
          "autotypenumbers": "strict",
          "coloraxis": {
           "colorbar": {
            "outlinewidth": 0,
            "ticks": ""
           }
          },
          "colorscale": {
           "diverging": [
            [
             0,
             "#8e0152"
            ],
            [
             0.1,
             "#c51b7d"
            ],
            [
             0.2,
             "#de77ae"
            ],
            [
             0.3,
             "#f1b6da"
            ],
            [
             0.4,
             "#fde0ef"
            ],
            [
             0.5,
             "#f7f7f7"
            ],
            [
             0.6,
             "#e6f5d0"
            ],
            [
             0.7,
             "#b8e186"
            ],
            [
             0.8,
             "#7fbc41"
            ],
            [
             0.9,
             "#4d9221"
            ],
            [
             1,
             "#276419"
            ]
           ],
           "sequential": [
            [
             0,
             "#0d0887"
            ],
            [
             0.1111111111111111,
             "#46039f"
            ],
            [
             0.2222222222222222,
             "#7201a8"
            ],
            [
             0.3333333333333333,
             "#9c179e"
            ],
            [
             0.4444444444444444,
             "#bd3786"
            ],
            [
             0.5555555555555556,
             "#d8576b"
            ],
            [
             0.6666666666666666,
             "#ed7953"
            ],
            [
             0.7777777777777778,
             "#fb9f3a"
            ],
            [
             0.8888888888888888,
             "#fdca26"
            ],
            [
             1,
             "#f0f921"
            ]
           ],
           "sequentialminus": [
            [
             0,
             "#0d0887"
            ],
            [
             0.1111111111111111,
             "#46039f"
            ],
            [
             0.2222222222222222,
             "#7201a8"
            ],
            [
             0.3333333333333333,
             "#9c179e"
            ],
            [
             0.4444444444444444,
             "#bd3786"
            ],
            [
             0.5555555555555556,
             "#d8576b"
            ],
            [
             0.6666666666666666,
             "#ed7953"
            ],
            [
             0.7777777777777778,
             "#fb9f3a"
            ],
            [
             0.8888888888888888,
             "#fdca26"
            ],
            [
             1,
             "#f0f921"
            ]
           ]
          },
          "colorway": [
           "#636efa",
           "#EF553B",
           "#00cc96",
           "#ab63fa",
           "#FFA15A",
           "#19d3f3",
           "#FF6692",
           "#B6E880",
           "#FF97FF",
           "#FECB52"
          ],
          "font": {
           "color": "#2a3f5f"
          },
          "geo": {
           "bgcolor": "white",
           "lakecolor": "white",
           "landcolor": "#E5ECF6",
           "showlakes": true,
           "showland": true,
           "subunitcolor": "white"
          },
          "hoverlabel": {
           "align": "left"
          },
          "hovermode": "closest",
          "mapbox": {
           "style": "light"
          },
          "paper_bgcolor": "white",
          "plot_bgcolor": "#E5ECF6",
          "polar": {
           "angularaxis": {
            "gridcolor": "white",
            "linecolor": "white",
            "ticks": ""
           },
           "bgcolor": "#E5ECF6",
           "radialaxis": {
            "gridcolor": "white",
            "linecolor": "white",
            "ticks": ""
           }
          },
          "scene": {
           "xaxis": {
            "backgroundcolor": "#E5ECF6",
            "gridcolor": "white",
            "gridwidth": 2,
            "linecolor": "white",
            "showbackground": true,
            "ticks": "",
            "zerolinecolor": "white"
           },
           "yaxis": {
            "backgroundcolor": "#E5ECF6",
            "gridcolor": "white",
            "gridwidth": 2,
            "linecolor": "white",
            "showbackground": true,
            "ticks": "",
            "zerolinecolor": "white"
           },
           "zaxis": {
            "backgroundcolor": "#E5ECF6",
            "gridcolor": "white",
            "gridwidth": 2,
            "linecolor": "white",
            "showbackground": true,
            "ticks": "",
            "zerolinecolor": "white"
           }
          },
          "shapedefaults": {
           "line": {
            "color": "#2a3f5f"
           }
          },
          "ternary": {
           "aaxis": {
            "gridcolor": "white",
            "linecolor": "white",
            "ticks": ""
           },
           "baxis": {
            "gridcolor": "white",
            "linecolor": "white",
            "ticks": ""
           },
           "bgcolor": "#E5ECF6",
           "caxis": {
            "gridcolor": "white",
            "linecolor": "white",
            "ticks": ""
           }
          },
          "title": {
           "x": 0.05
          },
          "xaxis": {
           "automargin": true,
           "gridcolor": "white",
           "linecolor": "white",
           "ticks": "",
           "title": {
            "standoff": 15
           },
           "zerolinecolor": "white",
           "zerolinewidth": 2
          },
          "yaxis": {
           "automargin": true,
           "gridcolor": "white",
           "linecolor": "white",
           "ticks": "",
           "title": {
            "standoff": 15
           },
           "zerolinecolor": "white",
           "zerolinewidth": 2
          }
         }
        },
        "title": " Approximation via B-Splines with equidistant  knot points",
        "xaxis": {
         "title": {
          "text": "x"
         }
        },
        "yaxis": {
         "title": {
          "text": "y"
         }
        }
       }
      },
      "text/html": [
       "<div\n",
       "    class=\"webio-mountpoint\"\n",
       "    data-webio-mountpoint=\"5443550407644689346\"\n",
       ">\n",
       "    <script>\n",
       "    (function(){\n",
       "    // Some integrations (namely, IJulia/Jupyter) use an alternate render pathway than\n",
       "    // just putting the html on the page. If WebIO isn't defined, then it's pretty likely\n",
       "    // that we're in one of those situations and the integration just isn't installed\n",
       "    // correctly.\n",
       "    if (typeof window.WebIO === \"undefined\") {\n",
       "        document\n",
       "            .querySelector('[data-webio-mountpoint=\"5443550407644689346\"]')\n",
       "            .innerHTML = (\n",
       "                '<div style=\"padding: 1em; background-color: #f8d6da; border: 1px solid #f5c6cb; font-weight: bold;\">' +\n",
       "                '<p><strong>WebIO not detected.</strong></p>' +\n",
       "                '<p>Please read ' +\n",
       "                '<a href=\"https://juliagizmos.github.io/WebIO.jl/latest/troubleshooting/not-detected/\" target=\"_blank\">the troubleshooting guide</a> ' +\n",
       "                'for more information on how to resolve this issue.</p>' +\n",
       "                '<p><a href=\"https://juliagizmos.github.io/WebIO.jl/latest/troubleshooting/not-detected/\" target=\"_blank\">https://juliagizmos.github.io/WebIO.jl/latest/troubleshooting/not-detected/</a></p>' +\n",
       "                '</div>'\n",
       "            );\n",
       "        return;\n",
       "    }\n",
       "    WebIO.mount(\n",
       "        document.querySelector('[data-webio-mountpoint=\"5443550407644689346\"]'),\n",
       "        {\"props\":{},\"nodeType\":\"Scope\",\"type\":\"node\",\"instanceArgs\":{\"imports\":{\"data\":[{\"name\":\"Plotly\",\"type\":\"js\",\"url\":\"\\/assetserver\\/499590eaec904dd55fafb36dbac61b115c3c7397-plotly.min.js\"},{\"name\":null,\"type\":\"js\",\"url\":\"\\/assetserver\\/516b44ebc40e7d2763d8f7a52f8fb4f892cb9be8-plotly_webio.bundle.js\"}],\"type\":\"async_block\"},\"id\":\"10325192603252557478\",\"handlers\":{\"_toImage\":[\"(function (options){return this.Plotly.toImage(this.plotElem,options).then((function (data){return WebIO.setval({\\\"name\\\":\\\"image\\\",\\\"scope\\\":\\\"10325192603252557478\\\",\\\"id\\\":\\\"16041147469679257206\\\",\\\"type\\\":\\\"observable\\\"},data)}))})\"],\"__get_gd_contents\":[\"(function (prop){prop==\\\"data\\\" ? (WebIO.setval({\\\"name\\\":\\\"__gd_contents\\\",\\\"scope\\\":\\\"10325192603252557478\\\",\\\"id\\\":\\\"10845857760041542325\\\",\\\"type\\\":\\\"observable\\\"},this.plotElem.data)) : undefined; return prop==\\\"layout\\\" ? (WebIO.setval({\\\"name\\\":\\\"__gd_contents\\\",\\\"scope\\\":\\\"10325192603252557478\\\",\\\"id\\\":\\\"10845857760041542325\\\",\\\"type\\\":\\\"observable\\\"},this.plotElem.layout)) : undefined})\"],\"_downloadImage\":[\"(function (options){return this.Plotly.downloadImage(this.plotElem,options)})\"],\"_commands\":[\"(function (args){var fn=args.shift(); var elem=this.plotElem; var Plotly=this.Plotly; args.unshift(elem); return Plotly[fn].apply(this,args)})\"]},\"systemjs_options\":null,\"mount_callbacks\":[\"function () {\\n    var handler = ((function (Plotly,PlotlyWebIO){PlotlyWebIO.init(WebIO); var gd=this.dom.querySelector(\\\"#plot-8b159982-7ab4-4b34-9002-984266c4fac0\\\"); this.plotElem=gd; this.Plotly=Plotly; (window.Blink!==undefined) ? (gd.style.width=\\\"100%\\\", gd.style.height=\\\"100vh\\\", gd.style.marginLeft=\\\"0%\\\", gd.style.marginTop=\\\"0vh\\\") : undefined; window.onresize=(function (){return Plotly.Plots.resize(gd)}); Plotly.newPlot(gd,[{\\\"mode\\\":\\\"lines\\\",\\\"y\\\":[-0.1411200080598672,-0.23924932921398243,-0.3349881501559051,-0.4273798802338298,-0.5155013718214642,-0.5984721441039564,-0.675463180551151,-0.7457052121767203,-0.8084964038195901,-0.8632093666488737,-0.9092974268256817,-0.9463000876874145,-0.9738476308781951,-0.9916648104524686,-0.9995736030415051,-0.9974949866040544,-0.9854497299884601,-0.963558185417193,-0.9320390859672263,-0.8912073600614354,-0.8414709848078965,-0.7833269096274834,-0.7173560908995228,-0.644217687237691,-0.5646424733950354,-0.479425538604203,-0.3894183423086505,-0.29552020666133955,-0.19866933079506122,-0.09983341664682815,0.0,0.09983341664682815,0.19866933079506122,0.29552020666133955,0.3894183423086505,0.479425538604203,0.5646424733950354,0.644217687237691,0.7173560908995228,0.7833269096274834,0.8414709848078965,0.8912073600614354,0.9320390859672263,0.963558185417193,0.9854497299884601,0.9974949866040544,0.9995736030415051,0.9916648104524686,0.9738476308781951,0.9463000876874145,0.9092974268256817,0.8632093666488737,0.8084964038195901,0.7457052121767203,0.675463180551151,0.5984721441039564,0.5155013718214642,0.4273798802338298,0.3349881501559051,0.23924932921398243,0.1411200080598672],\\\"type\\\":\\\"scatter\\\",\\\"name\\\":\\\"Exact function value\\\",\\\"x\\\":[-3.0,-2.9,-2.8,-2.7,-2.6,-2.5,-2.4,-2.3,-2.2,-2.1,-2.0,-1.9,-1.8,-1.7,-1.6,-1.5,-1.4,-1.3,-1.2,-1.1,-1.0,-0.9,-0.8,-0.7,-0.6,-0.5,-0.4,-0.3,-0.2,-0.1,0.0,0.1,0.2,0.3,0.4,0.5,0.6,0.7,0.8,0.9,1.0,1.1,1.2,1.3,1.4,1.5,1.6,1.7,1.8,1.9,2.0,2.1,2.2,2.3,2.4,2.5,2.6,2.7,2.8,2.9,3.0]},{\\\"x\\\":[-3,-1,1,3],\\\"mode\\\":\\\"markers\\\",\\\"y\\\":[-0.1411200080598672,-0.8414709848078965,0.8414709848078966,0.1411200080598672],\\\"type\\\":\\\"scatter\\\",\\\"name\\\":\\\"Function at knots\\\",\\\"marker\\\":{\\\"color\\\":\\\"LightSkyBlue\\\",\\\"size\\\":10}},{\\\"x\\\":[-3.0,-2.9,-2.8,-2.7,-2.6,-2.5,-2.4,-2.3,-2.2,-2.1,-2.0,-1.9,-1.8,-1.7,-1.6,-1.5,-1.4,-1.3,-1.2,-1.1,-1.0,-0.9,-0.8,-0.7,-0.6,-0.5,-0.4,-0.3,-0.2,-0.1,0.0,0.1,0.2,0.3,0.4,0.5,0.6,0.7,0.8,0.9,1.0,1.1,1.2,1.3,1.4,1.5,1.6,1.7,1.8,1.9,2.0,2.1,2.2,2.3,2.4,2.5,2.6,2.7,2.8,2.9,3.0],\\\"mode\\\":\\\"markers\\\",\\\"y\\\":[-0.1411200080598672,-0.24741523861640471,-0.34728338132053915,-0.44054513183680855,-0.5270211858297521,-0.6065322389639081,-0.6788989869038149,-0.743942125314011,-0.8014823498590347,-0.8513403562034247,-0.8933368400117196,-0.9272924969484577,-0.9530280226781773,-0.9703641128654177,-0.9791214631747163,-0.9791207692706123,-0.970182726817644,-0.9521280314803494,-0.924777378923268,-0.8879514648109375,-0.8414709848078965,-0.7853504164716967,-0.7203793649319423,-0.6475412172112505,-0.567819360332238,-0.48219718131752265,-0.3916580671897212,-0.29718540497145113,-0.1997625816853294,-0.10037298435397332,1.3877787807814457e-16,0.10037298435397339,0.19976258168532954,0.29718540497145124,0.3916580671897213,0.48219718131752276,0.5678193603322385,0.6475412172112505,0.7203793649319425,0.7853504164716968,0.8414709848078966,0.8879514648109376,0.9247773789232682,0.9521280314803494,0.9701827268176438,0.9791207692706121,0.979121463174716,0.9703641128654177,0.9530280226781774,0.9272924969484577,0.8933368400117196,0.8513403562034247,0.8014823498590344,0.7439421253140108,0.6788989869038148,0.6065322389639081,0.527021185829752,0.4405451318368085,0.3472833813205391,0.24741523861640471,0.1411200080598672],\\\"type\\\":\\\"scatter\\\",\\\"name\\\":\\\"B-Spline approximation\\\",\\\"marker\\\":{\\\"color\\\":\\\"Green\\\",\\\"size\\\":5}}],{\\\"xaxis\\\":{\\\"title\\\":{\\\"text\\\":\\\"x\\\"}},\\\"template\\\":{\\\"layout\\\":{\\\"coloraxis\\\":{\\\"colorbar\\\":{\\\"ticks\\\":\\\"\\\",\\\"outlinewidth\\\":0}},\\\"xaxis\\\":{\\\"gridcolor\\\":\\\"white\\\",\\\"zerolinewidth\\\":2,\\\"title\\\":{\\\"standoff\\\":15},\\\"ticks\\\":\\\"\\\",\\\"zerolinecolor\\\":\\\"white\\\",\\\"automargin\\\":true,\\\"linecolor\\\":\\\"white\\\"},\\\"hovermode\\\":\\\"closest\\\",\\\"paper_bgcolor\\\":\\\"white\\\",\\\"geo\\\":{\\\"showlakes\\\":true,\\\"showland\\\":true,\\\"landcolor\\\":\\\"#E5ECF6\\\",\\\"bgcolor\\\":\\\"white\\\",\\\"subunitcolor\\\":\\\"white\\\",\\\"lakecolor\\\":\\\"white\\\"},\\\"colorscale\\\":{\\\"sequential\\\":[[0.0,\\\"#0d0887\\\"],[0.1111111111111111,\\\"#46039f\\\"],[0.2222222222222222,\\\"#7201a8\\\"],[0.3333333333333333,\\\"#9c179e\\\"],[0.4444444444444444,\\\"#bd3786\\\"],[0.5555555555555556,\\\"#d8576b\\\"],[0.6666666666666666,\\\"#ed7953\\\"],[0.7777777777777778,\\\"#fb9f3a\\\"],[0.8888888888888888,\\\"#fdca26\\\"],[1.0,\\\"#f0f921\\\"]],\\\"diverging\\\":[[0,\\\"#8e0152\\\"],[0.1,\\\"#c51b7d\\\"],[0.2,\\\"#de77ae\\\"],[0.3,\\\"#f1b6da\\\"],[0.4,\\\"#fde0ef\\\"],[0.5,\\\"#f7f7f7\\\"],[0.6,\\\"#e6f5d0\\\"],[0.7,\\\"#b8e186\\\"],[0.8,\\\"#7fbc41\\\"],[0.9,\\\"#4d9221\\\"],[1,\\\"#276419\\\"]],\\\"sequentialminus\\\":[[0.0,\\\"#0d0887\\\"],[0.1111111111111111,\\\"#46039f\\\"],[0.2222222222222222,\\\"#7201a8\\\"],[0.3333333333333333,\\\"#9c179e\\\"],[0.4444444444444444,\\\"#bd3786\\\"],[0.5555555555555556,\\\"#d8576b\\\"],[0.6666666666666666,\\\"#ed7953\\\"],[0.7777777777777778,\\\"#fb9f3a\\\"],[0.8888888888888888,\\\"#fdca26\\\"],[1.0,\\\"#f0f921\\\"]]},\\\"yaxis\\\":{\\\"gridcolor\\\":\\\"white\\\",\\\"zerolinewidth\\\":2,\\\"title\\\":{\\\"standoff\\\":15},\\\"ticks\\\":\\\"\\\",\\\"zerolinecolor\\\":\\\"white\\\",\\\"automargin\\\":true,\\\"linecolor\\\":\\\"white\\\"},\\\"shapedefaults\\\":{\\\"line\\\":{\\\"color\\\":\\\"#2a3f5f\\\"}},\\\"hoverlabel\\\":{\\\"align\\\":\\\"left\\\"},\\\"mapbox\\\":{\\\"style\\\":\\\"light\\\"},\\\"polar\\\":{\\\"angularaxis\\\":{\\\"gridcolor\\\":\\\"white\\\",\\\"ticks\\\":\\\"\\\",\\\"linecolor\\\":\\\"white\\\"},\\\"bgcolor\\\":\\\"#E5ECF6\\\",\\\"radialaxis\\\":{\\\"gridcolor\\\":\\\"white\\\",\\\"ticks\\\":\\\"\\\",\\\"linecolor\\\":\\\"white\\\"}},\\\"autotypenumbers\\\":\\\"strict\\\",\\\"font\\\":{\\\"color\\\":\\\"#2a3f5f\\\"},\\\"ternary\\\":{\\\"baxis\\\":{\\\"gridcolor\\\":\\\"white\\\",\\\"ticks\\\":\\\"\\\",\\\"linecolor\\\":\\\"white\\\"},\\\"bgcolor\\\":\\\"#E5ECF6\\\",\\\"caxis\\\":{\\\"gridcolor\\\":\\\"white\\\",\\\"ticks\\\":\\\"\\\",\\\"linecolor\\\":\\\"white\\\"},\\\"aaxis\\\":{\\\"gridcolor\\\":\\\"white\\\",\\\"ticks\\\":\\\"\\\",\\\"linecolor\\\":\\\"white\\\"}},\\\"annotationdefaults\\\":{\\\"arrowhead\\\":0,\\\"arrowwidth\\\":1,\\\"arrowcolor\\\":\\\"#2a3f5f\\\"},\\\"plot_bgcolor\\\":\\\"#E5ECF6\\\",\\\"title\\\":{\\\"x\\\":0.05},\\\"scene\\\":{\\\"xaxis\\\":{\\\"gridcolor\\\":\\\"white\\\",\\\"gridwidth\\\":2,\\\"backgroundcolor\\\":\\\"#E5ECF6\\\",\\\"ticks\\\":\\\"\\\",\\\"showbackground\\\":true,\\\"zerolinecolor\\\":\\\"white\\\",\\\"linecolor\\\":\\\"white\\\"},\\\"zaxis\\\":{\\\"gridcolor\\\":\\\"white\\\",\\\"gridwidth\\\":2,\\\"backgroundcolor\\\":\\\"#E5ECF6\\\",\\\"ticks\\\":\\\"\\\",\\\"showbackground\\\":true,\\\"zerolinecolor\\\":\\\"white\\\",\\\"linecolor\\\":\\\"white\\\"},\\\"yaxis\\\":{\\\"gridcolor\\\":\\\"white\\\",\\\"gridwidth\\\":2,\\\"backgroundcolor\\\":\\\"#E5ECF6\\\",\\\"ticks\\\":\\\"\\\",\\\"showbackground\\\":true,\\\"zerolinecolor\\\":\\\"white\\\",\\\"linecolor\\\":\\\"white\\\"}},\\\"colorway\\\":[\\\"#636efa\\\",\\\"#EF553B\\\",\\\"#00cc96\\\",\\\"#ab63fa\\\",\\\"#FFA15A\\\",\\\"#19d3f3\\\",\\\"#FF6692\\\",\\\"#B6E880\\\",\\\"#FF97FF\\\",\\\"#FECB52\\\"]},\\\"data\\\":{\\\"barpolar\\\":[{\\\"type\\\":\\\"barpolar\\\",\\\"marker\\\":{\\\"line\\\":{\\\"color\\\":\\\"#E5ECF6\\\",\\\"width\\\":0.5}}}],\\\"carpet\\\":[{\\\"aaxis\\\":{\\\"gridcolor\\\":\\\"white\\\",\\\"endlinecolor\\\":\\\"#2a3f5f\\\",\\\"minorgridcolor\\\":\\\"white\\\",\\\"startlinecolor\\\":\\\"#2a3f5f\\\",\\\"linecolor\\\":\\\"white\\\"},\\\"type\\\":\\\"carpet\\\",\\\"baxis\\\":{\\\"gridcolor\\\":\\\"white\\\",\\\"endlinecolor\\\":\\\"#2a3f5f\\\",\\\"minorgridcolor\\\":\\\"white\\\",\\\"startlinecolor\\\":\\\"#2a3f5f\\\",\\\"linecolor\\\":\\\"white\\\"}}],\\\"scatterpolar\\\":[{\\\"type\\\":\\\"scatterpolar\\\",\\\"marker\\\":{\\\"colorbar\\\":{\\\"ticks\\\":\\\"\\\",\\\"outlinewidth\\\":0}}}],\\\"parcoords\\\":[{\\\"line\\\":{\\\"colorbar\\\":{\\\"ticks\\\":\\\"\\\",\\\"outlinewidth\\\":0}},\\\"type\\\":\\\"parcoords\\\"}],\\\"scatter\\\":[{\\\"type\\\":\\\"scatter\\\",\\\"marker\\\":{\\\"colorbar\\\":{\\\"ticks\\\":\\\"\\\",\\\"outlinewidth\\\":0}}}],\\\"histogram2dcontour\\\":[{\\\"colorbar\\\":{\\\"ticks\\\":\\\"\\\",\\\"outlinewidth\\\":0},\\\"type\\\":\\\"histogram2dcontour\\\",\\\"colorscale\\\":[[0.0,\\\"#0d0887\\\"],[0.1111111111111111,\\\"#46039f\\\"],[0.2222222222222222,\\\"#7201a8\\\"],[0.3333333333333333,\\\"#9c179e\\\"],[0.4444444444444444,\\\"#bd3786\\\"],[0.5555555555555556,\\\"#d8576b\\\"],[0.6666666666666666,\\\"#ed7953\\\"],[0.7777777777777778,\\\"#fb9f3a\\\"],[0.8888888888888888,\\\"#fdca26\\\"],[1.0,\\\"#f0f921\\\"]]}],\\\"contour\\\":[{\\\"colorbar\\\":{\\\"ticks\\\":\\\"\\\",\\\"outlinewidth\\\":0},\\\"type\\\":\\\"contour\\\",\\\"colorscale\\\":[[0.0,\\\"#0d0887\\\"],[0.1111111111111111,\\\"#46039f\\\"],[0.2222222222222222,\\\"#7201a8\\\"],[0.3333333333333333,\\\"#9c179e\\\"],[0.4444444444444444,\\\"#bd3786\\\"],[0.5555555555555556,\\\"#d8576b\\\"],[0.6666666666666666,\\\"#ed7953\\\"],[0.7777777777777778,\\\"#fb9f3a\\\"],[0.8888888888888888,\\\"#fdca26\\\"],[1.0,\\\"#f0f921\\\"]]}],\\\"scattercarpet\\\":[{\\\"type\\\":\\\"scattercarpet\\\",\\\"marker\\\":{\\\"colorbar\\\":{\\\"ticks\\\":\\\"\\\",\\\"outlinewidth\\\":0}}}],\\\"mesh3d\\\":[{\\\"colorbar\\\":{\\\"ticks\\\":\\\"\\\",\\\"outlinewidth\\\":0},\\\"type\\\":\\\"mesh3d\\\"}],\\\"surface\\\":[{\\\"colorbar\\\":{\\\"ticks\\\":\\\"\\\",\\\"outlinewidth\\\":0},\\\"type\\\":\\\"surface\\\",\\\"colorscale\\\":[[0.0,\\\"#0d0887\\\"],[0.1111111111111111,\\\"#46039f\\\"],[0.2222222222222222,\\\"#7201a8\\\"],[0.3333333333333333,\\\"#9c179e\\\"],[0.4444444444444444,\\\"#bd3786\\\"],[0.5555555555555556,\\\"#d8576b\\\"],[0.6666666666666666,\\\"#ed7953\\\"],[0.7777777777777778,\\\"#fb9f3a\\\"],[0.8888888888888888,\\\"#fdca26\\\"],[1.0,\\\"#f0f921\\\"]]}],\\\"scattermapbox\\\":[{\\\"type\\\":\\\"scattermapbox\\\",\\\"marker\\\":{\\\"colorbar\\\":{\\\"ticks\\\":\\\"\\\",\\\"outlinewidth\\\":0}}}],\\\"scattergeo\\\":[{\\\"type\\\":\\\"scattergeo\\\",\\\"marker\\\":{\\\"colorbar\\\":{\\\"ticks\\\":\\\"\\\",\\\"outlinewidth\\\":0}}}],\\\"histogram\\\":[{\\\"type\\\":\\\"histogram\\\",\\\"marker\\\":{\\\"colorbar\\\":{\\\"ticks\\\":\\\"\\\",\\\"outlinewidth\\\":0}}}],\\\"pie\\\":[{\\\"type\\\":\\\"pie\\\",\\\"automargin\\\":true}],\\\"choropleth\\\":[{\\\"colorbar\\\":{\\\"ticks\\\":\\\"\\\",\\\"outlinewidth\\\":0},\\\"type\\\":\\\"choropleth\\\"}],\\\"heatmapgl\\\":[{\\\"colorbar\\\":{\\\"ticks\\\":\\\"\\\",\\\"outlinewidth\\\":0},\\\"type\\\":\\\"heatmapgl\\\",\\\"colorscale\\\":[[0.0,\\\"#0d0887\\\"],[0.1111111111111111,\\\"#46039f\\\"],[0.2222222222222222,\\\"#7201a8\\\"],[0.3333333333333333,\\\"#9c179e\\\"],[0.4444444444444444,\\\"#bd3786\\\"],[0.5555555555555556,\\\"#d8576b\\\"],[0.6666666666666666,\\\"#ed7953\\\"],[0.7777777777777778,\\\"#fb9f3a\\\"],[0.8888888888888888,\\\"#fdca26\\\"],[1.0,\\\"#f0f921\\\"]]}],\\\"bar\\\":[{\\\"type\\\":\\\"bar\\\",\\\"error_y\\\":{\\\"color\\\":\\\"#2a3f5f\\\"},\\\"error_x\\\":{\\\"color\\\":\\\"#2a3f5f\\\"},\\\"marker\\\":{\\\"line\\\":{\\\"color\\\":\\\"#E5ECF6\\\",\\\"width\\\":0.5}}}],\\\"heatmap\\\":[{\\\"colorbar\\\":{\\\"ticks\\\":\\\"\\\",\\\"outlinewidth\\\":0},\\\"type\\\":\\\"heatmap\\\",\\\"colorscale\\\":[[0.0,\\\"#0d0887\\\"],[0.1111111111111111,\\\"#46039f\\\"],[0.2222222222222222,\\\"#7201a8\\\"],[0.3333333333333333,\\\"#9c179e\\\"],[0.4444444444444444,\\\"#bd3786\\\"],[0.5555555555555556,\\\"#d8576b\\\"],[0.6666666666666666,\\\"#ed7953\\\"],[0.7777777777777778,\\\"#fb9f3a\\\"],[0.8888888888888888,\\\"#fdca26\\\"],[1.0,\\\"#f0f921\\\"]]}],\\\"contourcarpet\\\":[{\\\"colorbar\\\":{\\\"ticks\\\":\\\"\\\",\\\"outlinewidth\\\":0},\\\"type\\\":\\\"contourcarpet\\\"}],\\\"table\\\":[{\\\"type\\\":\\\"table\\\",\\\"header\\\":{\\\"line\\\":{\\\"color\\\":\\\"white\\\"},\\\"fill\\\":{\\\"color\\\":\\\"#C8D4E3\\\"}},\\\"cells\\\":{\\\"line\\\":{\\\"color\\\":\\\"white\\\"},\\\"fill\\\":{\\\"color\\\":\\\"#EBF0F8\\\"}}}],\\\"scatter3d\\\":[{\\\"line\\\":{\\\"colorbar\\\":{\\\"ticks\\\":\\\"\\\",\\\"outlinewidth\\\":0}},\\\"type\\\":\\\"scatter3d\\\",\\\"marker\\\":{\\\"colorbar\\\":{\\\"ticks\\\":\\\"\\\",\\\"outlinewidth\\\":0}}}],\\\"scattergl\\\":[{\\\"type\\\":\\\"scattergl\\\",\\\"marker\\\":{\\\"colorbar\\\":{\\\"ticks\\\":\\\"\\\",\\\"outlinewidth\\\":0}}}],\\\"histogram2d\\\":[{\\\"colorbar\\\":{\\\"ticks\\\":\\\"\\\",\\\"outlinewidth\\\":0},\\\"type\\\":\\\"histogram2d\\\",\\\"colorscale\\\":[[0.0,\\\"#0d0887\\\"],[0.1111111111111111,\\\"#46039f\\\"],[0.2222222222222222,\\\"#7201a8\\\"],[0.3333333333333333,\\\"#9c179e\\\"],[0.4444444444444444,\\\"#bd3786\\\"],[0.5555555555555556,\\\"#d8576b\\\"],[0.6666666666666666,\\\"#ed7953\\\"],[0.7777777777777778,\\\"#fb9f3a\\\"],[0.8888888888888888,\\\"#fdca26\\\"],[1.0,\\\"#f0f921\\\"]]}],\\\"scatterternary\\\":[{\\\"type\\\":\\\"scatterternary\\\",\\\"marker\\\":{\\\"colorbar\\\":{\\\"ticks\\\":\\\"\\\",\\\"outlinewidth\\\":0}}}],\\\"scatterpolargl\\\":[{\\\"type\\\":\\\"scatterpolargl\\\",\\\"marker\\\":{\\\"colorbar\\\":{\\\"ticks\\\":\\\"\\\",\\\"outlinewidth\\\":0}}}]}},\\\"margin\\\":{\\\"l\\\":50,\\\"b\\\":50,\\\"r\\\":50,\\\"t\\\":60},\\\"title\\\":\\\" Approximation via B-Splines with equidistant  knot points\\\",\\\"yaxis\\\":{\\\"title\\\":{\\\"text\\\":\\\"y\\\"}}},{\\\"showLink\\\":false,\\\"editable\\\":false,\\\"responsive\\\":true,\\\"staticPlot\\\":false,\\\"scrollZoom\\\":true}); gd.on(\\\"plotly_hover\\\",(function (data){var filtered_data=WebIO.PlotlyCommands.filterEventData(gd,data,\\\"hover\\\"); return !(filtered_data.isnil) ? (WebIO.setval({\\\"name\\\":\\\"hover\\\",\\\"scope\\\":\\\"10325192603252557478\\\",\\\"id\\\":\\\"2027270267716028943\\\",\\\"type\\\":\\\"observable\\\"},filtered_data.out)) : undefined})); gd.on(\\\"plotly_unhover\\\",(function (){return WebIO.setval({\\\"name\\\":\\\"hover\\\",\\\"scope\\\":\\\"10325192603252557478\\\",\\\"id\\\":\\\"2027270267716028943\\\",\\\"type\\\":\\\"observable\\\"},{})})); gd.on(\\\"plotly_selected\\\",(function (data){var filtered_data=WebIO.PlotlyCommands.filterEventData(gd,data,\\\"selected\\\"); return !(filtered_data.isnil) ? (WebIO.setval({\\\"name\\\":\\\"selected\\\",\\\"scope\\\":\\\"10325192603252557478\\\",\\\"id\\\":\\\"9132154112943589547\\\",\\\"type\\\":\\\"observable\\\"},filtered_data.out)) : undefined})); gd.on(\\\"plotly_deselect\\\",(function (){return WebIO.setval({\\\"name\\\":\\\"selected\\\",\\\"scope\\\":\\\"10325192603252557478\\\",\\\"id\\\":\\\"9132154112943589547\\\",\\\"type\\\":\\\"observable\\\"},{})})); gd.on(\\\"plotly_relayout\\\",(function (data){var filtered_data=WebIO.PlotlyCommands.filterEventData(gd,data,\\\"relayout\\\"); return !(filtered_data.isnil) ? (WebIO.setval({\\\"name\\\":\\\"relayout\\\",\\\"scope\\\":\\\"10325192603252557478\\\",\\\"id\\\":\\\"11054296197358005284\\\",\\\"type\\\":\\\"observable\\\"},filtered_data.out)) : undefined})); return gd.on(\\\"plotly_click\\\",(function (data){var filtered_data=WebIO.PlotlyCommands.filterEventData(gd,data,\\\"click\\\"); return !(filtered_data.isnil) ? (WebIO.setval({\\\"name\\\":\\\"click\\\",\\\"scope\\\":\\\"10325192603252557478\\\",\\\"id\\\":\\\"1620377042419819896\\\",\\\"type\\\":\\\"observable\\\"},filtered_data.out)) : undefined}))}));\\n    (WebIO.importBlock({\\\"data\\\":[{\\\"name\\\":\\\"Plotly\\\",\\\"type\\\":\\\"js\\\",\\\"url\\\":\\\"\\/assetserver\\/499590eaec904dd55fafb36dbac61b115c3c7397-plotly.min.js\\\"},{\\\"name\\\":null,\\\"type\\\":\\\"js\\\",\\\"url\\\":\\\"\\/assetserver\\/516b44ebc40e7d2763d8f7a52f8fb4f892cb9be8-plotly_webio.bundle.js\\\"}],\\\"type\\\":\\\"async_block\\\"})).then((imports) => handler.apply(this, imports));\\n}\\n\"],\"observables\":{\"_toImage\":{\"sync\":false,\"id\":\"436465224359699223\",\"value\":{}},\"hover\":{\"sync\":false,\"id\":\"2027270267716028943\",\"value\":{}},\"selected\":{\"sync\":false,\"id\":\"9132154112943589547\",\"value\":{}},\"__gd_contents\":{\"sync\":false,\"id\":\"10845857760041542325\",\"value\":{}},\"click\":{\"sync\":false,\"id\":\"1620377042419819896\",\"value\":{}},\"image\":{\"sync\":true,\"id\":\"16041147469679257206\",\"value\":\"\"},\"__get_gd_contents\":{\"sync\":false,\"id\":\"10842877164405876249\",\"value\":\"\"},\"_downloadImage\":{\"sync\":false,\"id\":\"8683619631357555999\",\"value\":{}},\"relayout\":{\"sync\":false,\"id\":\"11054296197358005284\",\"value\":{}},\"_commands\":{\"sync\":false,\"id\":\"5652103445378284142\",\"value\":[]}}},\"children\":[{\"props\":{\"id\":\"plot-8b159982-7ab4-4b34-9002-984266c4fac0\"},\"nodeType\":\"DOM\",\"type\":\"node\",\"instanceArgs\":{\"namespace\":\"html\",\"tag\":\"div\"},\"children\":[]}]},\n",
       "        window,\n",
       "    );\n",
       "    })()\n",
       "    </script>\n",
       "</div>\n"
      ],
      "text/plain": [
       "data: [\n",
       "  \"scatter with fields mode, name, type, x, and y\",\n",
       "  \"scatter with fields marker, mode, name, type, x, and y\",\n",
       "  \"scatter with fields marker, mode, name, type, x, and y\"\n",
       "]\n",
       "\n",
       "layout: \"layout with fields margin, template, title, xaxis, and yaxis\"\n",
       "\n"
      ]
     },
     "execution_count": 124,
     "metadata": {},
     "output_type": "execute_result"
    }
   ],
   "source": [
    "x=-3:0.1:3\n",
    "\n",
    "trace0 = Plotly.scatter(x=x, y=f_sin.(x),mode=\"lines\", name=\"Exact function value\")\n",
    "trace1 = Plotly.scatter(x=spline_points, y=spl_approx.(spline_points),mode=\"markers\", name=\"Function at knots\", \n",
    "    marker=attr(color=\"LightSkyBlue\",size=10))\n",
    "trace2 = Plotly.scatter(x=x, y=spl_approx.(x),mode=\"markers\", name=\"B-Spline approximation\",\n",
    "    marker=attr(color=\"Green\",size=5))\n",
    "\n",
    "layout = Layout(title=\" Approximation via B-Splines with equidistant  knot points\",\n",
    "\n",
    "                   xaxis_title=\"x\",\n",
    "\n",
    "                   yaxis_title=\"y\")\n",
    "\n",
    "# Make plot\n",
    "Plotly.plot([trace0, trace1,trace2],layout)"
   ]
  },
  {
   "cell_type": "markdown",
   "id": "e251e107",
   "metadata": {},
   "source": [
    "Get maximal approximation error on all interpolated points:"
   ]
  },
  {
   "cell_type": "code",
   "execution_count": 136,
   "id": "f05c35cc",
   "metadata": {},
   "outputs": [
    {
     "name": "stdout",
     "output_type": "stream",
     "text": [
      "The maximal error between B-Spline and exact curve among all 61 interpolated points is 0.021300697587050887 and is assumed at the point x = -1.7"
     ]
    }
   ],
   "source": [
    "err=findmax(abs.(spl_approx.(x)-f_sin.(x)));\n",
    "#returns both maximal error and its location in x\n",
    "\n",
    "print(\"The maximal error between B-Spline and exact curve among all \", length(x), \n",
    "    \" interpolated points is \",  err[1], \" and is assumed at the point x = \", x[err[2]])"
   ]
  },
  {
   "cell_type": "markdown",
   "id": "e9d826ac",
   "metadata": {},
   "source": [
    "# In-class Exercise: Calculate accuracy of polynomial approximations"
   ]
  },
  {
   "cell_type": "markdown",
   "id": "41ed7a25",
   "metadata": {},
   "source": [
    "<b> Your Task: </b> For the function $f(x)=e^x$ on the interval $[-1,1]$, approximate $f(x)$ with Chebyshev polynomials supported on $N=1,2,\\dots,10$ internal Chebyshev points. For each $N$, compute the maximal approximation error $\\epsilon(N)$ for 1001 equidistant points within $[-1,1]$. Plot $\\epsilon(N)$ as a function of $N$. Repeat this for B-Spline approximation, where $N$ now stands for the number of knots. Compare the error function $\\epsilon(N)$ for both types of approximations."
   ]
  },
  {
   "cell_type": "markdown",
   "id": "6d681159",
   "metadata": {},
   "source": [
    "<b> Exploration: </b> Repeat the above task for the function $g(x)=\\cos(10x^2)$, and compare its approximation error curve with that of $f(x)$. Which function is harder to approximate?"
   ]
  },
  {
   "cell_type": "code",
   "execution_count": null,
   "id": "f4ae1e65",
   "metadata": {},
   "outputs": [],
   "source": []
  }
 ],
 "metadata": {
  "@webio": {
   "lastCommId": "0c624f214d1147998a1b557cd761fbce",
   "lastKernelId": "fbaa36d1-b830-4849-a7b1-ab580bfaa4b5"
  },
  "kernelspec": {
   "display_name": "Julia 1.10.7",
   "language": "julia",
   "name": "julia-1.10"
  },
  "language_info": {
   "file_extension": ".jl",
   "mimetype": "application/julia",
   "name": "julia",
   "version": "1.10.7"
  }
 },
 "nbformat": 4,
 "nbformat_minor": 5
}
