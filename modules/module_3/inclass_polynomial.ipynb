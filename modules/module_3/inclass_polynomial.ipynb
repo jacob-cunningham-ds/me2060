{
 "cells": [
  {
   "cell_type": "markdown",
   "id": "b9de5548",
   "metadata": {},
   "source": [
    "---\n",
    "title: Interpolants\n",
    "venue: Modules\n",
    "---"
   ]
  },
  {
   "cell_type": "markdown",
   "id": "98f3dae0-dc44-40ef-bc55-5eb96b431827",
   "metadata": {},
   "source": [
    "No matter which method or basis is used to obtain the interpolating polynomial, **the same result is obtained**."
   ]
  },
  {
   "cell_type": "code",
   "execution_count": 1,
   "id": "70d59794",
   "metadata": {},
   "outputs": [
    {
     "data": {
      "text/html": [
       "<iframe srcdoc=\"&lt;html&gt;&lt;head&gt;&lt;meta charset=&quot;utf-8&quot;&gt;&lt;meta name=&quot;viewport&quot; content=&quot;width=device-width, initial-scale=1&quot;&gt;&lt;meta name=&quot;description&quot; content=&quot;PlotlyLight.jl Plot&quot;&gt;&lt;title&gt;PlotlyLight.jl&lt;/title&gt;&lt;style&gt;html, body { padding: 0px; margin: 0px; }&lt;/style&gt;&lt;script src=&quot;https://cdn.plot.ly/plotly-2.35.2.min.js&quot; charset=&quot;utf-8&quot;&gt;&lt;/script&gt;&lt;/head&gt;&lt;body&gt;&lt;div class=&quot;plotlylight-parent&quot;&gt;&lt;div class=&quot;plotlylight-plot-div&quot; style=&quot;height:100vh; width:100vw&quot; id=&quot;plotlyx-eonjzslgyt&quot;&gt;&lt;/div&gt;&lt;script&gt;Plotly.newPlot(&quot;plotlyx-eonjzslgyt&quot;,[{&quot;type&quot;:&quot;scatter&quot;,&quot;x&quot;:[-2.0,-1.8,-1.6,-1.4,-1.2,-1.0,-0.8,-0.6,-0.4,-0.2,0.0,0.2,0.4,0.6,0.8,1.0,1.2,1.4,1.6,1.8,2.0],&quot;y&quot;:[-27.0,-22.96,-19.240000000000002,-15.84,-12.76,-10.0,-7.5600000000000005,-5.4399999999999995,-3.64,-2.16,-1.0,-0.16000000000000003,0.3599999999999999,0.56,0.4399999999999995,0.0,-0.7599999999999998,-1.839999999999999,-3.240000000000002,-4.960000000000001,-7.0],&quot;mode&quot;:&quot;lines&quot;,&quot;name&quot;:&quot;Polynomial&quot;},{&quot;type&quot;:&quot;scatter&quot;,&quot;x&quot;:[-2.0,-1.8,-1.6,-1.4,-1.2,-1.0,-0.8,-0.6,-0.4,-0.2,0.0,0.2,0.4,0.6,0.8,1.0,1.2,1.4,1.6,1.8,2.0],&quot;y&quot;:[null,-22.96,-19.24,-15.839999999999998,-12.76,-10.0,-7.56,-5.440000000000001,-3.6400000000000006,-2.16,null,-0.16000000000000006,0.3600000000000001,0.5599999999999999,0.43999999999999995,-0.0,-0.7599999999999996,-1.8399999999999996,-3.2400000000000007,-4.960000000000001,-7.0],&quot;mode&quot;:&quot;lines&quot;,&quot;name&quot;:&quot;Lagrange&quot;},{&quot;type&quot;:&quot;scatter&quot;,&quot;x&quot;:[-2,0,1],&quot;y&quot;:[-27,-1,0],&quot;mode&quot;:&quot;markers&quot;,&quot;name&quot;:&quot;Data&quot;}],{&quot;template&quot;:{&quot;layout&quot;:{&quot;autotypenumbers&quot;:&quot;strict&quot;,&quot;colorway&quot;:[&quot;#636efa&quot;,&quot;#EF553B&quot;,&quot;#00cc96&quot;,&quot;#ab63fa&quot;,&quot;#FFA15A&quot;,&quot;#19d3f3&quot;,&quot;#FF6692&quot;,&quot;#B6E880&quot;,&quot;#FF97FF&quot;,&quot;#FECB52&quot;],&quot;font&quot;:{&quot;color&quot;:&quot;#f2f5fa&quot;},&quot;hovermode&quot;:&quot;closest&quot;,&quot;hoverlabel&quot;:{&quot;align&quot;:&quot;left&quot;},&quot;paper_bgcolor&quot;:&quot;rgb(17,17,17)&quot;,&quot;plot_bgcolor&quot;:&quot;rgb(17,17,17)&quot;,&quot;polar&quot;:{&quot;bgcolor&quot;:&quot;rgb(17,17,17)&quot;,&quot;angularaxis&quot;:{&quot;gridcolor&quot;:&quot;#506784&quot;,&quot;linecolor&quot;:&quot;#506784&quot;,&quot;ticks&quot;:&quot;&quot;},&quot;radialaxis&quot;:{&quot;gridcolor&quot;:&quot;#506784&quot;,&quot;linecolor&quot;:&quot;#506784&quot;,&quot;ticks&quot;:&quot;&quot;}},&quot;ternary&quot;:{&quot;bgcolor&quot;:&quot;rgb(17,17,17)&quot;,&quot;aaxis&quot;:{&quot;gridcolor&quot;:&quot;#506784&quot;,&quot;linecolor&quot;:&quot;#506784&quot;,&quot;ticks&quot;:&quot;&quot;},&quot;baxis&quot;:{&quot;gridcolor&quot;:&quot;#506784&quot;,&quot;linecolor&quot;:&quot;#506784&quot;,&quot;ticks&quot;:&quot;&quot;},&quot;caxis&quot;:{&quot;gridcolor&quot;:&quot;#506784&quot;,&quot;linecolor&quot;:&quot;#506784&quot;,&quot;ticks&quot;:&quot;&quot;}},&quot;coloraxis&quot;:{&quot;colorbar&quot;:{&quot;outlinewidth&quot;:0,&quot;ticks&quot;:&quot;&quot;}},&quot;colorscale&quot;:{&quot;sequential&quot;:[[0,&quot;#0d0887&quot;],[0.1111111111111111,&quot;#46039f&quot;],[0.2222222222222222,&quot;#7201a8&quot;],[0.3333333333333333,&quot;#9c179e&quot;],[0.4444444444444444,&quot;#bd3786&quot;],[0.5555555555555556,&quot;#d8576b&quot;],[0.6666666666666666,&quot;#ed7953&quot;],[0.7777777777777778,&quot;#fb9f3a&quot;],[0.8888888888888888,&quot;#fdca26&quot;],[1,&quot;#f0f921&quot;]],&quot;sequentialminus&quot;:[[0,&quot;#0d0887&quot;],[0.1111111111111111,&quot;#46039f&quot;],[0.2222222222222222,&quot;#7201a8&quot;],[0.3333333333333333,&quot;#9c179e&quot;],[0.4444444444444444,&quot;#bd3786&quot;],[0.5555555555555556,&quot;#d8576b&quot;],[0.6666666666666666,&quot;#ed7953&quot;],[0.7777777777777778,&quot;#fb9f3a&quot;],[0.8888888888888888,&quot;#fdca26&quot;],[1,&quot;#f0f921&quot;]],&quot;diverging&quot;:[[0,&quot;#8e0152&quot;],[0.1,&quot;#c51b7d&quot;],[0.2,&quot;#de77ae&quot;],[0.3,&quot;#f1b6da&quot;],[0.4,&quot;#fde0ef&quot;],[0.5,&quot;#f7f7f7&quot;],[0.6,&quot;#e6f5d0&quot;],[0.7,&quot;#b8e186&quot;],[0.8,&quot;#7fbc41&quot;],[0.9,&quot;#4d9221&quot;],[1,&quot;#276419&quot;]]},&quot;xaxis&quot;:{&quot;gridcolor&quot;:&quot;#283442&quot;,&quot;linecolor&quot;:&quot;#506784&quot;,&quot;ticks&quot;:&quot;&quot;,&quot;title&quot;:{&quot;standoff&quot;:15},&quot;zerolinecolor&quot;:&quot;#283442&quot;,&quot;automargin&quot;:true,&quot;zerolinewidth&quot;:2},&quot;yaxis&quot;:{&quot;gridcolor&quot;:&quot;#283442&quot;,&quot;linecolor&quot;:&quot;#506784&quot;,&quot;ticks&quot;:&quot;&quot;,&quot;title&quot;:{&quot;standoff&quot;:15},&quot;zerolinecolor&quot;:&quot;#283442&quot;,&quot;automargin&quot;:true,&quot;zerolinewidth&quot;:2},&quot;scene&quot;:{&quot;xaxis&quot;:{&quot;backgroundcolor&quot;:&quot;rgb(17,17,17)&quot;,&quot;gridcolor&quot;:&quot;#506784&quot;,&quot;linecolor&quot;:&quot;#506784&quot;,&quot;showbackground&quot;:true,&quot;ticks&quot;:&quot;&quot;,&quot;zerolinecolor&quot;:&quot;#C8D4E3&quot;,&quot;gridwidth&quot;:2},&quot;yaxis&quot;:{&quot;backgroundcolor&quot;:&quot;rgb(17,17,17)&quot;,&quot;gridcolor&quot;:&quot;#506784&quot;,&quot;linecolor&quot;:&quot;#506784&quot;,&quot;showbackground&quot;:true,&quot;ticks&quot;:&quot;&quot;,&quot;zerolinecolor&quot;:&quot;#C8D4E3&quot;,&quot;gridwidth&quot;:2},&quot;zaxis&quot;:{&quot;backgroundcolor&quot;:&quot;rgb(17,17,17)&quot;,&quot;gridcolor&quot;:&quot;#506784&quot;,&quot;linecolor&quot;:&quot;#506784&quot;,&quot;showbackground&quot;:true,&quot;ticks&quot;:&quot;&quot;,&quot;zerolinecolor&quot;:&quot;#C8D4E3&quot;,&quot;gridwidth&quot;:2}},&quot;shapedefaults&quot;:{&quot;line&quot;:{&quot;color&quot;:&quot;#f2f5fa&quot;}},&quot;annotationdefaults&quot;:{&quot;arrowcolor&quot;:&quot;#f2f5fa&quot;,&quot;arrowhead&quot;:0,&quot;arrowwidth&quot;:1},&quot;geo&quot;:{&quot;bgcolor&quot;:&quot;rgb(17,17,17)&quot;,&quot;landcolor&quot;:&quot;rgb(17,17,17)&quot;,&quot;subunitcolor&quot;:&quot;#506784&quot;,&quot;showland&quot;:true,&quot;showlakes&quot;:true,&quot;lakecolor&quot;:&quot;rgb(17,17,17)&quot;},&quot;title&quot;:{&quot;x&quot;:0.05},&quot;updatemenudefaults&quot;:{&quot;bgcolor&quot;:&quot;#506784&quot;,&quot;borderwidth&quot;:0},&quot;sliderdefaults&quot;:{&quot;bgcolor&quot;:&quot;#C8D4E3&quot;,&quot;borderwidth&quot;:1,&quot;bordercolor&quot;:&quot;rgb(17,17,17)&quot;,&quot;tickwidth&quot;:0},&quot;mapbox&quot;:{&quot;style&quot;:&quot;dark&quot;}},&quot;data&quot;:{&quot;histogram2dcontour&quot;:[{&quot;type&quot;:&quot;histogram2dcontour&quot;,&quot;colorbar&quot;:{&quot;outlinewidth&quot;:0,&quot;ticks&quot;:&quot;&quot;},&quot;colorscale&quot;:[[0,&quot;#0d0887&quot;],[0.1111111111111111,&quot;#46039f&quot;],[0.2222222222222222,&quot;#7201a8&quot;],[0.3333333333333333,&quot;#9c179e&quot;],[0.4444444444444444,&quot;#bd3786&quot;],[0.5555555555555556,&quot;#d8576b&quot;],[0.6666666666666666,&quot;#ed7953&quot;],[0.7777777777777778,&quot;#fb9f3a&quot;],[0.8888888888888888,&quot;#fdca26&quot;],[1,&quot;#f0f921&quot;]]}],&quot;choropleth&quot;:[{&quot;type&quot;:&quot;choropleth&quot;,&quot;colorbar&quot;:{&quot;outlinewidth&quot;:0,&quot;ticks&quot;:&quot;&quot;}}],&quot;histogram2d&quot;:[{&quot;type&quot;:&quot;histogram2d&quot;,&quot;colorbar&quot;:{&quot;outlinewidth&quot;:0,&quot;ticks&quot;:&quot;&quot;},&quot;colorscale&quot;:[[0,&quot;#0d0887&quot;],[0.1111111111111111,&quot;#46039f&quot;],[0.2222222222222222,&quot;#7201a8&quot;],[0.3333333333333333,&quot;#9c179e&quot;],[0.4444444444444444,&quot;#bd3786&quot;],[0.5555555555555556,&quot;#d8576b&quot;],[0.6666666666666666,&quot;#ed7953&quot;],[0.7777777777777778,&quot;#fb9f3a&quot;],[0.8888888888888888,&quot;#fdca26&quot;],[1,&quot;#f0f921&quot;]]}],&quot;heatmap&quot;:[{&quot;type&quot;:&quot;heatmap&quot;,&quot;colorbar&quot;:{&quot;outlinewidth&quot;:0,&quot;ticks&quot;:&quot;&quot;},&quot;colorscale&quot;:[[0,&quot;#0d0887&quot;],[0.1111111111111111,&quot;#46039f&quot;],[0.2222222222222222,&quot;#7201a8&quot;],[0.3333333333333333,&quot;#9c179e&quot;],[0.4444444444444444,&quot;#bd3786&quot;],[0.5555555555555556,&quot;#d8576b&quot;],[0.6666666666666666,&quot;#ed7953&quot;],[0.7777777777777778,&quot;#fb9f3a&quot;],[0.8888888888888888,&quot;#fdca26&quot;],[1,&quot;#f0f921&quot;]]}],&quot;contourcarpet&quot;:[{&quot;type&quot;:&quot;contourcarpet&quot;,&quot;colorbar&quot;:{&quot;outlinewidth&quot;:0,&quot;ticks&quot;:&quot;&quot;}}],&quot;contour&quot;:[{&quot;type&quot;:&quot;contour&quot;,&quot;colorbar&quot;:{&quot;outlinewidth&quot;:0,&quot;ticks&quot;:&quot;&quot;},&quot;colorscale&quot;:[[0,&quot;#0d0887&quot;],[0.1111111111111111,&quot;#46039f&quot;],[0.2222222222222222,&quot;#7201a8&quot;],[0.3333333333333333,&quot;#9c179e&quot;],[0.4444444444444444,&quot;#bd3786&quot;],[0.5555555555555556,&quot;#d8576b&quot;],[0.6666666666666666,&quot;#ed7953&quot;],[0.7777777777777778,&quot;#fb9f3a&quot;],[0.8888888888888888,&quot;#fdca26&quot;],[1,&quot;#f0f921&quot;]]}],&quot;surface&quot;:[{&quot;type&quot;:&quot;surface&quot;,&quot;colorbar&quot;:{&quot;outlinewidth&quot;:0,&quot;ticks&quot;:&quot;&quot;},&quot;colorscale&quot;:[[0,&quot;#0d0887&quot;],[0.1111111111111111,&quot;#46039f&quot;],[0.2222222222222222,&quot;#7201a8&quot;],[0.3333333333333333,&quot;#9c179e&quot;],[0.4444444444444444,&quot;#bd3786&quot;],[0.5555555555555556,&quot;#d8576b&quot;],[0.6666666666666666,&quot;#ed7953&quot;],[0.7777777777777778,&quot;#fb9f3a&quot;],[0.8888888888888888,&quot;#fdca26&quot;],[1,&quot;#f0f921&quot;]]}],&quot;mesh3d&quot;:[{&quot;type&quot;:&quot;mesh3d&quot;,&quot;colorbar&quot;:{&quot;outlinewidth&quot;:0,&quot;ticks&quot;:&quot;&quot;}}],&quot;scatter&quot;:[{&quot;marker&quot;:{&quot;line&quot;:{&quot;color&quot;:&quot;#283442&quot;}},&quot;type&quot;:&quot;scatter&quot;}],&quot;parcoords&quot;:[{&quot;type&quot;:&quot;parcoords&quot;,&quot;line&quot;:{&quot;colorbar&quot;:{&quot;outlinewidth&quot;:0,&quot;ticks&quot;:&quot;&quot;}}}],&quot;scatterpolargl&quot;:[{&quot;type&quot;:&quot;scatterpolargl&quot;,&quot;marker&quot;:{&quot;colorbar&quot;:{&quot;outlinewidth&quot;:0,&quot;ticks&quot;:&quot;&quot;}}}],&quot;bar&quot;:[{&quot;error_x&quot;:{&quot;color&quot;:&quot;#f2f5fa&quot;},&quot;error_y&quot;:{&quot;color&quot;:&quot;#f2f5fa&quot;},&quot;marker&quot;:{&quot;line&quot;:{&quot;color&quot;:&quot;rgb(17,17,17)&quot;,&quot;width&quot;:0.5},&quot;pattern&quot;:{&quot;fillmode&quot;:&quot;overlay&quot;,&quot;size&quot;:10,&quot;solidity&quot;:0.2}},&quot;type&quot;:&quot;bar&quot;}],&quot;scattergeo&quot;:[{&quot;type&quot;:&quot;scattergeo&quot;,&quot;marker&quot;:{&quot;colorbar&quot;:{&quot;outlinewidth&quot;:0,&quot;ticks&quot;:&quot;&quot;}}}],&quot;scatterpolar&quot;:[{&quot;type&quot;:&quot;scatterpolar&quot;,&quot;marker&quot;:{&quot;colorbar&quot;:{&quot;outlinewidth&quot;:0,&quot;ticks&quot;:&quot;&quot;}}}],&quot;histogram&quot;:[{&quot;marker&quot;:{&quot;pattern&quot;:{&quot;fillmode&quot;:&quot;overlay&quot;,&quot;size&quot;:10,&quot;solidity&quot;:0.2}},&quot;type&quot;:&quot;histogram&quot;}],&quot;scattergl&quot;:[{&quot;marker&quot;:{&quot;line&quot;:{&quot;color&quot;:&quot;#283442&quot;}},&quot;type&quot;:&quot;scattergl&quot;}],&quot;scatter3d&quot;:[{&quot;type&quot;:&quot;scatter3d&quot;,&quot;line&quot;:{&quot;colorbar&quot;:{&quot;outlinewidth&quot;:0,&quot;ticks&quot;:&quot;&quot;}},&quot;marker&quot;:{&quot;colorbar&quot;:{&quot;outlinewidth&quot;:0,&quot;ticks&quot;:&quot;&quot;}}}],&quot;scattermap&quot;:[{&quot;type&quot;:&quot;scattermap&quot;,&quot;marker&quot;:{&quot;colorbar&quot;:{&quot;outlinewidth&quot;:0,&quot;ticks&quot;:&quot;&quot;}}}],&quot;scattermapbox&quot;:[{&quot;type&quot;:&quot;scattermapbox&quot;,&quot;marker&quot;:{&quot;colorbar&quot;:{&quot;outlinewidth&quot;:0,&quot;ticks&quot;:&quot;&quot;}}}],&quot;scatterternary&quot;:[{&quot;type&quot;:&quot;scatterternary&quot;,&quot;marker&quot;:{&quot;colorbar&quot;:{&quot;outlinewidth&quot;:0,&quot;ticks&quot;:&quot;&quot;}}}],&quot;scattercarpet&quot;:[{&quot;type&quot;:&quot;scattercarpet&quot;,&quot;marker&quot;:{&quot;colorbar&quot;:{&quot;outlinewidth&quot;:0,&quot;ticks&quot;:&quot;&quot;}}}],&quot;carpet&quot;:[{&quot;aaxis&quot;:{&quot;endlinecolor&quot;:&quot;#A2B1C6&quot;,&quot;gridcolor&quot;:&quot;#506784&quot;,&quot;linecolor&quot;:&quot;#506784&quot;,&quot;minorgridcolor&quot;:&quot;#506784&quot;,&quot;startlinecolor&quot;:&quot;#A2B1C6&quot;},&quot;baxis&quot;:{&quot;endlinecolor&quot;:&quot;#A2B1C6&quot;,&quot;gridcolor&quot;:&quot;#506784&quot;,&quot;linecolor&quot;:&quot;#506784&quot;,&quot;minorgridcolor&quot;:&quot;#506784&quot;,&quot;startlinecolor&quot;:&quot;#A2B1C6&quot;},&quot;type&quot;:&quot;carpet&quot;}],&quot;table&quot;:[{&quot;cells&quot;:{&quot;fill&quot;:{&quot;color&quot;:&quot;#506784&quot;},&quot;line&quot;:{&quot;color&quot;:&quot;rgb(17,17,17)&quot;}},&quot;header&quot;:{&quot;fill&quot;:{&quot;color&quot;:&quot;#2a3f5f&quot;},&quot;line&quot;:{&quot;color&quot;:&quot;rgb(17,17,17)&quot;}},&quot;type&quot;:&quot;table&quot;}],&quot;barpolar&quot;:[{&quot;marker&quot;:{&quot;line&quot;:{&quot;color&quot;:&quot;rgb(17,17,17)&quot;,&quot;width&quot;:0.5},&quot;pattern&quot;:{&quot;fillmode&quot;:&quot;overlay&quot;,&quot;size&quot;:10,&quot;solidity&quot;:0.2}},&quot;type&quot;:&quot;barpolar&quot;}],&quot;pie&quot;:[{&quot;automargin&quot;:true,&quot;type&quot;:&quot;pie&quot;}]}},&quot;title&quot;:{&quot;text&quot;:&quot;Comparing Polynomial and Lagrange Interpolants&quot;,&quot;x&quot;:0.5},&quot;xaxis&quot;:{&quot;title&quot;:{&quot;text&quot;:&quot;t&quot;},&quot;type&quot;:&quot;linear&quot;},&quot;yaxis&quot;:{&quot;title&quot;:{&quot;text&quot;:&quot;y&quot;},&quot;type&quot;:&quot;linear&quot;}},{&quot;responsive&quot;:true,&quot;displaylogo&quot;:false})&lt;/script&gt;&lt;/div&gt;&lt;/body&gt;&lt;/html&gt;\" style=\"display:block; border:none; min-height:350px; min-width:350px; width:100%; height:100%\"></iframe>"
      ],
      "text/plain": [
       "PlotlyLight.Plot(EasyConfig.Config[EasyConfig.Config(:type => \"scatter\", :x => [-2.0, -1.8, -1.6, -1.4, -1.2, -1.0, -0.8, -0.6, -0.4, -0.2  …  0.2, 0.4, 0.6, 0.8, 1.0, 1.2, 1.4, 1.6, 1.8, 2.0], :y => [-27.0, -22.96, -19.240000000000002, -15.84, -12.76, -10.0, -7.5600000000000005, -5.4399999999999995, -3.64, -2.16  …  -0.16000000000000003, 0.3599999999999999, 0.56, 0.4399999999999995, 0.0, -0.7599999999999998, -1.839999999999999, -3.240000000000002, -4.960000000000001, -7.0], :mode => \"lines\", :name => \"Polynomial\"), EasyConfig.Config(:type => \"scatter\", :x => [-2.0, -1.8, -1.6, -1.4, -1.2, -1.0, -0.8, -0.6, -0.4, -0.2  …  0.2, 0.4, 0.6, 0.8, 1.0, 1.2, 1.4, 1.6, 1.8, 2.0], :y => [NaN, -22.96, -19.24, -15.839999999999998, -12.76, -10.0, -7.56, -5.440000000000001, -3.6400000000000006, -2.16  …  -0.16000000000000006, 0.3600000000000001, 0.5599999999999999, 0.43999999999999995, -0.0, -0.7599999999999996, -1.8399999999999996, -3.2400000000000007, -4.960000000000001, -7.0], :mode => \"lines\", :name => \"Lagrange\"), EasyConfig.Config(:type => \"scatter\", :x => [-2, 0, 1], :y => [-27, -1, 0], :mode => \"markers\", :name => \"Data\")], EasyConfig.Config(:title => EasyConfig.Config(:text => \"Comparing Polynomial and Lagrange Interpolants\", :x => 0.5), :xaxis => EasyConfig.Config(:title => EasyConfig.Config(:text => \"t\"), :type => \"linear\"), :yaxis => EasyConfig.Config(:title => EasyConfig.Config(:text => \"y\"), :type => \"linear\")), EasyConfig.Config())"
      ]
     },
     "metadata": {},
     "output_type": "display_data"
    }
   ],
   "source": [
    "import PlotlyLight as plt\n",
    "plt.preset.template.plotly_dark!()\n",
    "\n",
    "# Polynomial and Lagrange interpolants\n",
    "p2(t) = -1 + 5t - 4t^2\n",
    "p2_(t) = (t+2)*(t-0)*(t-1)*(-27/(6*(t+2))+1/(2*t))\n",
    "\n",
    "# t interval\n",
    "t = range(-2, 2, step=0.2)\n",
    "\n",
    "# Original data\n",
    "x = [-2, 0, 1]\n",
    "y = [-27, -1, 0]\n",
    "\n",
    "# Plot the results\n",
    "p = plt.plot(\n",
    "    x = t,\n",
    "    y = p2.(t),\n",
    "    type = \"scatter\",\n",
    "    mode = \"lines\",\n",
    "    name = \"Polynomial\"\n",
    ").plot(\n",
    "    x = t,\n",
    "    y = p2_.(t),\n",
    "    type = \"scatter\",\n",
    "    mode = \"lines\",\n",
    "    name = \"Lagrange\"\n",
    ").scatter(\n",
    "    x = x,\n",
    "    y = y,\n",
    "    type = \"scatter\",\n",
    "    mode = \"markers\",\n",
    "    name = \"Data\"\n",
    ")\n",
    "\n",
    "p.layout.title.text = \"Comparing Polynomial and Lagrange Interpolants\"\n",
    "p.layout.title.x = 0.5\n",
    "p.layout.xaxis.title.text = \"t\"\n",
    "p.layout.xaxis.type = \"linear\"\n",
    "p.layout.yaxis.title.text = \"y\"\n",
    "p.layout.yaxis.type = \"linear\"\n",
    "\n",
    "display(p)"
   ]
  },
  {
   "cell_type": "code",
   "execution_count": null,
   "id": "383bd18f-a6a6-4a19-a76f-2e358a4fe865",
   "metadata": {},
   "outputs": [],
   "source": []
  }
 ],
 "metadata": {
  "kernelspec": {
   "display_name": "Julia 1.10.7",
   "language": "julia",
   "name": "julia-1.10"
  },
  "language_info": {
   "file_extension": ".jl",
   "mimetype": "application/julia",
   "name": "julia",
   "version": "1.10.7"
  }
 },
 "nbformat": 4,
 "nbformat_minor": 5
}
