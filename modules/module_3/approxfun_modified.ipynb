{
 "cells": [
  {
   "cell_type": "markdown",
   "id": "7a57cb12-d619-4199-bebb-3682ec06b7de",
   "metadata": {},
   "source": [
    "---\n",
    "title: ApproxFun Modified\n",
    "venue: Modules\n",
    "---"
   ]
  },
  {
   "cell_type": "markdown",
   "id": "e95423bd",
   "metadata": {},
   "source": [
    "## Approximation of functions via Chebyshev Polynomials and B-Splines in Julia"
   ]
  },
  {
   "cell_type": "markdown",
   "id": "b870c761",
   "metadata": {},
   "source": [
    "The Julia-package <b> ApproxFun </b> package implements Chebyshev polynomials(default) and other basis functions to approximate arbitrary functions. The dedicated package homepage can be found here: https://juliaapproximation.github.io/ApproxFun.jl/latest/"
   ]
  },
  {
   "cell_type": "code",
   "execution_count": 1,
   "id": "80c01784",
   "metadata": {},
   "outputs": [],
   "source": [
    "using ApproxFun"
   ]
  },
  {
   "cell_type": "markdown",
   "id": "4deb6a5b",
   "metadata": {},
   "source": [
    "Define Chebychev polynomials explicitly over their natural interval by specifying coefficients:"
   ]
  },
  {
   "cell_type": "code",
   "execution_count": null,
   "id": "16781a1e",
   "metadata": {},
   "outputs": [],
   "source": [
    "#Fully explicit construction for the first three Chebyshev polynomials over [-1,1]\n",
    "chebf1=Fun(Chebyshev(Interval(-1,1)), [1,0,0]);\n",
    "chebf2=Fun(Chebyshev(Interval(-1,1)), [0,1,0]);\n",
    "chebf3=Fun(Chebyshev(Interval(-1,1)), [0,0,1]);"
   ]
  },
  {
   "cell_type": "markdown",
   "id": "f70d0c26",
   "metadata": {},
   "source": [
    "<b> ApproxFun </b> uses the natural interval [-1,1] as default for Chebyshev polynomials, so no need to specify them explicitly:"
   ]
  },
  {
   "cell_type": "code",
   "execution_count": null,
   "id": "746bf787",
   "metadata": {},
   "outputs": [],
   "source": [
    "#Easy construction for the first 4 Chebyshev polynomials by using default constructor\n",
    "chebf1_=Fun(Chebyshev(), [1,0,0,0]);\n",
    "chebf2_=Fun(Chebyshev(), [0,1,0,0]);\n",
    "chebf3_=Fun(Chebyshev(),[0,0,1,0]);\n",
    "chebf4_=Fun(Chebyshev(),[0,0,0,1]);"
   ]
  },
  {
   "cell_type": "markdown",
   "id": "f205228c",
   "metadata": {},
   "source": [
    "Visualizing the first 4 Chebyshev polynomials $y(x)=1, x,2x^2-1, 4x^3-3x$"
   ]
  },
  {
   "cell_type": "code",
   "execution_count": null,
   "id": "72ca9ba9",
   "metadata": {},
   "outputs": [],
   "source": [
    "using Plotly, Plots, LaTeXStrings"
   ]
  },
  {
   "cell_type": "code",
   "execution_count": null,
   "id": "50b11d86",
   "metadata": {},
   "outputs": [],
   "source": [
    "x=-1:0.05:1;\n",
    "\n",
    "\n",
    "trace1 = Plotly.scatter(x=x, y=chebf1_.(x),color=\"red\",name=\"T₀\")\n",
    "trace2 = Plotly.scatter(x=x, y=chebf2_.(x),color=\"blue\", style=\"line\",name=\"T₁\")\n",
    "trace3 = Plotly.scatter(x=x, y=chebf3_.(x),color=\"green\",style=\"line\",name=\"T₂\")\n",
    "trace4 = Plotly.scatter(x=x, y=chebf4_.(x),color=\"yellow\",style=\"line\",name=\"T₃\")\n",
    "\n",
    "\n",
    "\n",
    "layout = Layout(title=\"First 4 Chebyshev polynomials over interval [-1, 1]\",\n",
    "\n",
    "                   xaxis_title=\"x\",\n",
    "\n",
    "                   yaxis_title=\"y\")\n",
    "\n",
    "# Make plot\n",
    "Plotly.plot([trace1, trace2,trace3,trace4],layout)"
   ]
  },
  {
   "cell_type": "markdown",
   "id": "aba5627b",
   "metadata": {},
   "source": [
    "Define Chebyshe polymomials over domains other than [-1,1]:"
   ]
  },
  {
   "cell_type": "code",
   "execution_count": null,
   "id": "b78e07b4",
   "metadata": {},
   "outputs": [],
   "source": [
    "interv=Interval(2,6);\n",
    "chebf1=Fun(Chebyshev(interv), [1,0,0]);\n",
    "chebf2=Fun(Chebyshev(interv), [0,1,0]);\n",
    "chebf3=Fun(Chebyshev(interv), [0,0,1]);"
   ]
  },
  {
   "cell_type": "code",
   "execution_count": null,
   "id": "cfa3e93d",
   "metadata": {},
   "outputs": [],
   "source": [
    "x=2:0.1:6;\n",
    "\n",
    "trace1 = Plotly.scatter(x=x, y=chebf1.(x),color=\"red\",name=\"Chebyshev 0\")\n",
    "trace2 = Plotly.scatter(x=x, y=chebf2.(x),color=\"blue\", name=\"Chebyshev 1\")\n",
    "trace3 = Plotly.scatter(x=x, y=chebf3.(x),color=\"green\",name=\"Chebyshev 2\")\n",
    "\n",
    "layout = Layout(title=\"First 3 Chebyshev polynomials over interval [2, 6]\",\n",
    "\n",
    "                   xaxis_title=\"x\",\n",
    "\n",
    "                   yaxis_title=\"y\")\n",
    "\n",
    "# Make plot\n",
    "Plotly.plot([trace1, trace2,trace3],layout)"
   ]
  },
  {
   "cell_type": "markdown",
   "id": "a6a3e93a",
   "metadata": {},
   "source": [
    "<b>Explicit calculation of Chebyshev expansion coefficients</b>\n",
    "\n",
    "Chebyshev polynomials $T_n(x)$ form a complete orthogonal basis for the space $C^1([-1,1]) $ of all continously differentiable functions over $[-1,1]$ with respect to the scalar product \n",
    "\\begin{equation}\n",
    "<f,g>:=\\int_{-1}^1  f(x)\\cdot g(x)\\frac{1}{\\sqrt{1-x^2}} \\ dx\n",
    "\\end{equation}\n",
    "\n",
    "Hence the expansion coefficients for an arbitrary function $f \\in C^1([-1,1])$ can be determined as follows:\n",
    "\n",
    "\\begin{equation}\n",
    "f(x)=a_0 T_0(x)+a_1 T_1(x)+ \\dots + a_n T_n(x), \\ \\ \\ a_n = \\int_{-1}^1  f(x)\\cdot T_n(x)\\frac{1}{\\sqrt{1-x^2}} \\ dx\n",
    "\\end{equation}\n",
    "\n",
    "If $N$ total interpolation points are given where the values for $f(x)$ are specified, then the highest order of Chebyshev expansion is $N-1$. For example, having one single point would only define the expansion coefficient for $T_0(x)=1$."
   ]
  },
  {
   "cell_type": "markdown",
   "id": "f784561d",
   "metadata": {},
   "source": [
    "<b> Example: </b> $f(x)=e^x, $ let's interpolate $f$ with $N=1,2,3$ points to check the accuracy of Chebyshev approximations with increasing number of nodes and polynomial order."
   ]
  },
  {
   "cell_type": "code",
   "execution_count": 3,
   "id": "24750c9a",
   "metadata": {
    "scrolled": true
   },
   "outputs": [
    {
     "data": {
      "application/vnd.plotly.v1+json": {
       "config": {
        "editable": false,
        "responsive": true,
        "scrollZoom": true,
        "showLink": false,
        "staticPlot": false
       },
       "data": [
        {
         "mode": "lines",
         "name": "Exact function",
         "type": "scatter",
         "x": [
          -1,
          -0.9,
          -0.8,
          -0.7,
          -0.6,
          -0.5,
          -0.4,
          -0.3,
          -0.2,
          -0.1,
          0,
          0.1,
          0.2,
          0.3,
          0.4,
          0.5,
          0.6,
          0.7,
          0.8,
          0.9,
          1
         ],
         "y": [
          0.36787944117144233,
          0.4065696597405991,
          0.44932896411722156,
          0.4965853037914095,
          0.5488116360940265,
          0.6065306597126334,
          0.6703200460356393,
          0.7408182206817179,
          0.8187307530779818,
          0.9048374180359595,
          1,
          1.1051709180756477,
          1.2214027581601699,
          1.3498588075760032,
          1.4918246976412703,
          1.6487212707001282,
          1.8221188003905089,
          2.0137527074704766,
          2.225540928492468,
          2.45960311115695,
          2.718281828459045
         ]
        },
        {
         "mode": "lines",
         "name": "Approximation with 1 point",
         "type": "scatter",
         "x": [
          -1,
          -0.9,
          -0.8,
          -0.7,
          -0.6,
          -0.5,
          -0.4,
          -0.3,
          -0.2,
          -0.1,
          0,
          0.1,
          0.2,
          0.3,
          0.4,
          0.5,
          0.6,
          0.7,
          0.8,
          0.9,
          1
         ],
         "y": [
          1,
          1,
          1,
          1,
          1,
          1,
          1,
          1,
          1,
          1,
          1,
          1,
          1,
          1,
          1,
          1,
          1,
          1,
          1,
          1,
          1
         ]
        },
        {
         "mode": "markers",
         "name": "Approximation with 2 points",
         "type": "scatter",
         "x": [
          -1,
          -0.9,
          -0.8,
          -0.7,
          -0.6,
          -0.5,
          -0.4,
          -0.3,
          -0.2,
          -0.1,
          0,
          0.1,
          0.2,
          0.3,
          0.4,
          0.5,
          0.6,
          0.7,
          0.8,
          0.9,
          1
         ],
         "y": [
          0.17515019524874909,
          0.2836943593760098,
          0.3922385235032705,
          0.5007826876305312,
          0.609326851757792,
          0.7178710158850526,
          0.8264151800123133,
          0.934959344139574,
          1.0435035082668347,
          1.1520476723940956,
          1.2605918365213562,
          1.3691360006486168,
          1.4776801647758775,
          1.5862243289031384,
          1.694768493030399,
          1.8033126571576599,
          1.9118568212849205,
          2.020400985412181,
          2.128945149539442,
          2.2374893136667025,
          2.3460334777939633
         ]
        },
        {
         "mode": "markers",
         "name": "Approximation with 3 points",
         "type": "scatter",
         "x": [
          -1,
          -0.9,
          -0.8,
          -0.7,
          -0.6,
          -0.5,
          -0.4,
          -0.3,
          -0.2,
          -0.1,
          0,
          0.1,
          0.2,
          0.3,
          0.4,
          0.5,
          0.6,
          0.7,
          0.8,
          0.9,
          1
         ],
         "y": [
          0.4022697175985732,
          0.41415898376129917,
          0.43668908594122874,
          0.4698600241383622,
          0.5136717983526993,
          0.5681244085842401,
          0.6332178548329847,
          0.7089521370989329,
          0.7953272553820848,
          0.8923432096824406,
          1,
          1.118297626334763,
          1.24723608868673,
          1.3868153870559008,
          1.537035521442275,
          1.697896491845853,
          1.8693982982666348,
          2.05154094070462,
          2.2443244191598097,
          2.4477487336322024,
          2.6618138841217993
         ]
        },
        {
         "mode": "markers",
         "name": "Approximation with 4 points",
         "type": "scatter",
         "x": [
          -1,
          -0.9,
          -0.8,
          -0.7,
          -0.6,
          -0.5,
          -0.4,
          -0.3,
          -0.2,
          -0.1,
          0,
          0.1,
          0.2,
          0.3,
          0.4,
          0.5,
          0.6,
          0.7,
          0.8,
          0.9,
          1
         ],
         "y": [
          0.3634071181765155,
          0.40762191662994546,
          0.4532352420712456,
          0.5012981486646997,
          0.552861690574591,
          0.6089769219652029,
          0.670694897000819,
          0.7390666698457228,
          0.8151432946641974,
          0.8999758256205267,
          0.9946153168789936,
          1.100112822603882,
          1.2175193969594753,
          1.3478860941100568,
          1.4922639682199101,
          1.6517040734533184,
          1.8272574639745656,
          2.0199751939479342,
          2.230908317537709,
          2.461107888908172,
          2.711624962223608
         ]
        }
       ],
       "frames": [],
       "layout": {
        "margin": {
         "b": 50,
         "l": 50,
         "r": 50,
         "t": 60
        },
        "template": {
         "data": {
          "bar": [
           {
            "error_x": {
             "color": "#2a3f5f"
            },
            "error_y": {
             "color": "#2a3f5f"
            },
            "marker": {
             "line": {
              "color": "#E5ECF6",
              "width": 0.5
             }
            },
            "type": "bar"
           }
          ],
          "barpolar": [
           {
            "marker": {
             "line": {
              "color": "#E5ECF6",
              "width": 0.5
             }
            },
            "type": "barpolar"
           }
          ],
          "carpet": [
           {
            "aaxis": {
             "endlinecolor": "#2a3f5f",
             "gridcolor": "white",
             "linecolor": "white",
             "minorgridcolor": "white",
             "startlinecolor": "#2a3f5f"
            },
            "baxis": {
             "endlinecolor": "#2a3f5f",
             "gridcolor": "white",
             "linecolor": "white",
             "minorgridcolor": "white",
             "startlinecolor": "#2a3f5f"
            },
            "type": "carpet"
           }
          ],
          "choropleth": [
           {
            "colorbar": {
             "outlinewidth": 0,
             "ticks": ""
            },
            "type": "choropleth"
           }
          ],
          "contour": [
           {
            "colorbar": {
             "outlinewidth": 0,
             "ticks": ""
            },
            "colorscale": [
             [
              0,
              "#0d0887"
             ],
             [
              0.1111111111111111,
              "#46039f"
             ],
             [
              0.2222222222222222,
              "#7201a8"
             ],
             [
              0.3333333333333333,
              "#9c179e"
             ],
             [
              0.4444444444444444,
              "#bd3786"
             ],
             [
              0.5555555555555556,
              "#d8576b"
             ],
             [
              0.6666666666666666,
              "#ed7953"
             ],
             [
              0.7777777777777778,
              "#fb9f3a"
             ],
             [
              0.8888888888888888,
              "#fdca26"
             ],
             [
              1,
              "#f0f921"
             ]
            ],
            "type": "contour"
           }
          ],
          "contourcarpet": [
           {
            "colorbar": {
             "outlinewidth": 0,
             "ticks": ""
            },
            "type": "contourcarpet"
           }
          ],
          "heatmap": [
           {
            "colorbar": {
             "outlinewidth": 0,
             "ticks": ""
            },
            "colorscale": [
             [
              0,
              "#0d0887"
             ],
             [
              0.1111111111111111,
              "#46039f"
             ],
             [
              0.2222222222222222,
              "#7201a8"
             ],
             [
              0.3333333333333333,
              "#9c179e"
             ],
             [
              0.4444444444444444,
              "#bd3786"
             ],
             [
              0.5555555555555556,
              "#d8576b"
             ],
             [
              0.6666666666666666,
              "#ed7953"
             ],
             [
              0.7777777777777778,
              "#fb9f3a"
             ],
             [
              0.8888888888888888,
              "#fdca26"
             ],
             [
              1,
              "#f0f921"
             ]
            ],
            "type": "heatmap"
           }
          ],
          "heatmapgl": [
           {
            "colorbar": {
             "outlinewidth": 0,
             "ticks": ""
            },
            "colorscale": [
             [
              0,
              "#0d0887"
             ],
             [
              0.1111111111111111,
              "#46039f"
             ],
             [
              0.2222222222222222,
              "#7201a8"
             ],
             [
              0.3333333333333333,
              "#9c179e"
             ],
             [
              0.4444444444444444,
              "#bd3786"
             ],
             [
              0.5555555555555556,
              "#d8576b"
             ],
             [
              0.6666666666666666,
              "#ed7953"
             ],
             [
              0.7777777777777778,
              "#fb9f3a"
             ],
             [
              0.8888888888888888,
              "#fdca26"
             ],
             [
              1,
              "#f0f921"
             ]
            ],
            "type": "heatmapgl"
           }
          ],
          "histogram": [
           {
            "marker": {
             "colorbar": {
              "outlinewidth": 0,
              "ticks": ""
             }
            },
            "type": "histogram"
           }
          ],
          "histogram2d": [
           {
            "colorbar": {
             "outlinewidth": 0,
             "ticks": ""
            },
            "colorscale": [
             [
              0,
              "#0d0887"
             ],
             [
              0.1111111111111111,
              "#46039f"
             ],
             [
              0.2222222222222222,
              "#7201a8"
             ],
             [
              0.3333333333333333,
              "#9c179e"
             ],
             [
              0.4444444444444444,
              "#bd3786"
             ],
             [
              0.5555555555555556,
              "#d8576b"
             ],
             [
              0.6666666666666666,
              "#ed7953"
             ],
             [
              0.7777777777777778,
              "#fb9f3a"
             ],
             [
              0.8888888888888888,
              "#fdca26"
             ],
             [
              1,
              "#f0f921"
             ]
            ],
            "type": "histogram2d"
           }
          ],
          "histogram2dcontour": [
           {
            "colorbar": {
             "outlinewidth": 0,
             "ticks": ""
            },
            "colorscale": [
             [
              0,
              "#0d0887"
             ],
             [
              0.1111111111111111,
              "#46039f"
             ],
             [
              0.2222222222222222,
              "#7201a8"
             ],
             [
              0.3333333333333333,
              "#9c179e"
             ],
             [
              0.4444444444444444,
              "#bd3786"
             ],
             [
              0.5555555555555556,
              "#d8576b"
             ],
             [
              0.6666666666666666,
              "#ed7953"
             ],
             [
              0.7777777777777778,
              "#fb9f3a"
             ],
             [
              0.8888888888888888,
              "#fdca26"
             ],
             [
              1,
              "#f0f921"
             ]
            ],
            "type": "histogram2dcontour"
           }
          ],
          "mesh3d": [
           {
            "colorbar": {
             "outlinewidth": 0,
             "ticks": ""
            },
            "type": "mesh3d"
           }
          ],
          "parcoords": [
           {
            "line": {
             "colorbar": {
              "outlinewidth": 0,
              "ticks": ""
             }
            },
            "type": "parcoords"
           }
          ],
          "pie": [
           {
            "automargin": true,
            "type": "pie"
           }
          ],
          "scatter": [
           {
            "marker": {
             "colorbar": {
              "outlinewidth": 0,
              "ticks": ""
             }
            },
            "type": "scatter"
           }
          ],
          "scatter3d": [
           {
            "line": {
             "colorbar": {
              "outlinewidth": 0,
              "ticks": ""
             }
            },
            "marker": {
             "colorbar": {
              "outlinewidth": 0,
              "ticks": ""
             }
            },
            "type": "scatter3d"
           }
          ],
          "scattercarpet": [
           {
            "marker": {
             "colorbar": {
              "outlinewidth": 0,
              "ticks": ""
             }
            },
            "type": "scattercarpet"
           }
          ],
          "scattergeo": [
           {
            "marker": {
             "colorbar": {
              "outlinewidth": 0,
              "ticks": ""
             }
            },
            "type": "scattergeo"
           }
          ],
          "scattergl": [
           {
            "marker": {
             "colorbar": {
              "outlinewidth": 0,
              "ticks": ""
             }
            },
            "type": "scattergl"
           }
          ],
          "scattermapbox": [
           {
            "marker": {
             "colorbar": {
              "outlinewidth": 0,
              "ticks": ""
             }
            },
            "type": "scattermapbox"
           }
          ],
          "scatterpolar": [
           {
            "marker": {
             "colorbar": {
              "outlinewidth": 0,
              "ticks": ""
             }
            },
            "type": "scatterpolar"
           }
          ],
          "scatterpolargl": [
           {
            "marker": {
             "colorbar": {
              "outlinewidth": 0,
              "ticks": ""
             }
            },
            "type": "scatterpolargl"
           }
          ],
          "scatterternary": [
           {
            "marker": {
             "colorbar": {
              "outlinewidth": 0,
              "ticks": ""
             }
            },
            "type": "scatterternary"
           }
          ],
          "surface": [
           {
            "colorbar": {
             "outlinewidth": 0,
             "ticks": ""
            },
            "colorscale": [
             [
              0,
              "#0d0887"
             ],
             [
              0.1111111111111111,
              "#46039f"
             ],
             [
              0.2222222222222222,
              "#7201a8"
             ],
             [
              0.3333333333333333,
              "#9c179e"
             ],
             [
              0.4444444444444444,
              "#bd3786"
             ],
             [
              0.5555555555555556,
              "#d8576b"
             ],
             [
              0.6666666666666666,
              "#ed7953"
             ],
             [
              0.7777777777777778,
              "#fb9f3a"
             ],
             [
              0.8888888888888888,
              "#fdca26"
             ],
             [
              1,
              "#f0f921"
             ]
            ],
            "type": "surface"
           }
          ],
          "table": [
           {
            "cells": {
             "fill": {
              "color": "#EBF0F8"
             },
             "line": {
              "color": "white"
             }
            },
            "header": {
             "fill": {
              "color": "#C8D4E3"
             },
             "line": {
              "color": "white"
             }
            },
            "type": "table"
           }
          ]
         },
         "layout": {
          "annotationdefaults": {
           "arrowcolor": "#2a3f5f",
           "arrowhead": 0,
           "arrowwidth": 1
          },
          "autotypenumbers": "strict",
          "coloraxis": {
           "colorbar": {
            "outlinewidth": 0,
            "ticks": ""
           }
          },
          "colorscale": {
           "diverging": [
            [
             0,
             "#8e0152"
            ],
            [
             0.1,
             "#c51b7d"
            ],
            [
             0.2,
             "#de77ae"
            ],
            [
             0.3,
             "#f1b6da"
            ],
            [
             0.4,
             "#fde0ef"
            ],
            [
             0.5,
             "#f7f7f7"
            ],
            [
             0.6,
             "#e6f5d0"
            ],
            [
             0.7,
             "#b8e186"
            ],
            [
             0.8,
             "#7fbc41"
            ],
            [
             0.9,
             "#4d9221"
            ],
            [
             1,
             "#276419"
            ]
           ],
           "sequential": [
            [
             0,
             "#0d0887"
            ],
            [
             0.1111111111111111,
             "#46039f"
            ],
            [
             0.2222222222222222,
             "#7201a8"
            ],
            [
             0.3333333333333333,
             "#9c179e"
            ],
            [
             0.4444444444444444,
             "#bd3786"
            ],
            [
             0.5555555555555556,
             "#d8576b"
            ],
            [
             0.6666666666666666,
             "#ed7953"
            ],
            [
             0.7777777777777778,
             "#fb9f3a"
            ],
            [
             0.8888888888888888,
             "#fdca26"
            ],
            [
             1,
             "#f0f921"
            ]
           ],
           "sequentialminus": [
            [
             0,
             "#0d0887"
            ],
            [
             0.1111111111111111,
             "#46039f"
            ],
            [
             0.2222222222222222,
             "#7201a8"
            ],
            [
             0.3333333333333333,
             "#9c179e"
            ],
            [
             0.4444444444444444,
             "#bd3786"
            ],
            [
             0.5555555555555556,
             "#d8576b"
            ],
            [
             0.6666666666666666,
             "#ed7953"
            ],
            [
             0.7777777777777778,
             "#fb9f3a"
            ],
            [
             0.8888888888888888,
             "#fdca26"
            ],
            [
             1,
             "#f0f921"
            ]
           ]
          },
          "colorway": [
           "#636efa",
           "#EF553B",
           "#00cc96",
           "#ab63fa",
           "#FFA15A",
           "#19d3f3",
           "#FF6692",
           "#B6E880",
           "#FF97FF",
           "#FECB52"
          ],
          "font": {
           "color": "#2a3f5f"
          },
          "geo": {
           "bgcolor": "white",
           "lakecolor": "white",
           "landcolor": "#E5ECF6",
           "showlakes": true,
           "showland": true,
           "subunitcolor": "white"
          },
          "hoverlabel": {
           "align": "left"
          },
          "hovermode": "closest",
          "mapbox": {
           "style": "light"
          },
          "paper_bgcolor": "white",
          "plot_bgcolor": "#E5ECF6",
          "polar": {
           "angularaxis": {
            "gridcolor": "white",
            "linecolor": "white",
            "ticks": ""
           },
           "bgcolor": "#E5ECF6",
           "radialaxis": {
            "gridcolor": "white",
            "linecolor": "white",
            "ticks": ""
           }
          },
          "scene": {
           "xaxis": {
            "backgroundcolor": "#E5ECF6",
            "gridcolor": "white",
            "gridwidth": 2,
            "linecolor": "white",
            "showbackground": true,
            "ticks": "",
            "zerolinecolor": "white"
           },
           "yaxis": {
            "backgroundcolor": "#E5ECF6",
            "gridcolor": "white",
            "gridwidth": 2,
            "linecolor": "white",
            "showbackground": true,
            "ticks": "",
            "zerolinecolor": "white"
           },
           "zaxis": {
            "backgroundcolor": "#E5ECF6",
            "gridcolor": "white",
            "gridwidth": 2,
            "linecolor": "white",
            "showbackground": true,
            "ticks": "",
            "zerolinecolor": "white"
           }
          },
          "shapedefaults": {
           "line": {
            "color": "#2a3f5f"
           }
          },
          "ternary": {
           "aaxis": {
            "gridcolor": "white",
            "linecolor": "white",
            "ticks": ""
           },
           "baxis": {
            "gridcolor": "white",
            "linecolor": "white",
            "ticks": ""
           },
           "bgcolor": "#E5ECF6",
           "caxis": {
            "gridcolor": "white",
            "linecolor": "white",
            "ticks": ""
           }
          },
          "title": {
           "x": 0.05
          },
          "xaxis": {
           "automargin": true,
           "gridcolor": "white",
           "linecolor": "white",
           "ticks": "",
           "title": {
            "standoff": 15
           },
           "zerolinecolor": "white",
           "zerolinewidth": 2
          },
          "yaxis": {
           "automargin": true,
           "gridcolor": "white",
           "linecolor": "white",
           "ticks": "",
           "title": {
            "standoff": 15
           },
           "zerolinecolor": "white",
           "zerolinewidth": 2
          }
         }
        },
        "title": " Approximation via interpolation with different number of Chebyshev node points",
        "xaxis": {
         "title": {
          "text": "x"
         }
        },
        "yaxis": {
         "title": {
          "text": "y"
         }
        }
       }
      },
      "text/html": [
       "<div\n",
       "    class=\"webio-mountpoint\"\n",
       "    data-webio-mountpoint=\"12447240966303096712\"\n",
       ">\n",
       "    <script>\n",
       "    (function(){\n",
       "    // Some integrations (namely, IJulia/Jupyter) use an alternate render pathway than\n",
       "    // just putting the html on the page. If WebIO isn't defined, then it's pretty likely\n",
       "    // that we're in one of those situations and the integration just isn't installed\n",
       "    // correctly.\n",
       "    if (typeof window.WebIO === \"undefined\") {\n",
       "        document\n",
       "            .querySelector('[data-webio-mountpoint=\"12447240966303096712\"]')\n",
       "            .innerHTML = (\n",
       "                '<div style=\"padding: 1em; background-color: #f8d6da; border: 1px solid #f5c6cb; font-weight: bold;\">' +\n",
       "                '<p><strong>WebIO not detected.</strong></p>' +\n",
       "                '<p>Please read ' +\n",
       "                '<a href=\"https://juliagizmos.github.io/WebIO.jl/latest/troubleshooting/not-detected/\" target=\"_blank\">the troubleshooting guide</a> ' +\n",
       "                'for more information on how to resolve this issue.</p>' +\n",
       "                '<p><a href=\"https://juliagizmos.github.io/WebIO.jl/latest/troubleshooting/not-detected/\" target=\"_blank\">https://juliagizmos.github.io/WebIO.jl/latest/troubleshooting/not-detected/</a></p>' +\n",
       "                '</div>'\n",
       "            );\n",
       "        return;\n",
       "    }\n",
       "    WebIO.mount(\n",
       "        document.querySelector('[data-webio-mountpoint=\"12447240966303096712\"]'),\n",
       "        {\"props\":{},\"nodeType\":\"Scope\",\"type\":\"node\",\"instanceArgs\":{\"imports\":{\"data\":[{\"name\":\"Plotly\",\"type\":\"js\",\"url\":\"\\/assetserver\\/499590eaec904dd55fafb36dbac61b115c3c7397-plotly.min.js\"},{\"name\":null,\"type\":\"js\",\"url\":\"\\/assetserver\\/516b44ebc40e7d2763d8f7a52f8fb4f892cb9be8-plotly_webio.bundle.js\"}],\"type\":\"async_block\"},\"id\":\"362168655325798958\",\"handlers\":{\"_toImage\":[\"(function (options){return this.Plotly.toImage(this.plotElem,options).then((function (data){return WebIO.setval({\\\"name\\\":\\\"image\\\",\\\"scope\\\":\\\"362168655325798958\\\",\\\"id\\\":\\\"8557855455690994538\\\",\\\"type\\\":\\\"observable\\\"},data)}))})\"],\"__get_gd_contents\":[\"(function (prop){prop==\\\"data\\\" ? (WebIO.setval({\\\"name\\\":\\\"__gd_contents\\\",\\\"scope\\\":\\\"362168655325798958\\\",\\\"id\\\":\\\"9095391997677870472\\\",\\\"type\\\":\\\"observable\\\"},this.plotElem.data)) : undefined; return prop==\\\"layout\\\" ? (WebIO.setval({\\\"name\\\":\\\"__gd_contents\\\",\\\"scope\\\":\\\"362168655325798958\\\",\\\"id\\\":\\\"9095391997677870472\\\",\\\"type\\\":\\\"observable\\\"},this.plotElem.layout)) : undefined})\"],\"_downloadImage\":[\"(function (options){return this.Plotly.downloadImage(this.plotElem,options)})\"],\"_commands\":[\"(function (args){var fn=args.shift(); var elem=this.plotElem; var Plotly=this.Plotly; args.unshift(elem); return Plotly[fn].apply(this,args)})\"]},\"systemjs_options\":null,\"mount_callbacks\":[\"function () {\\n    var handler = ((function (Plotly,PlotlyWebIO){PlotlyWebIO.init(WebIO); var gd=this.dom.querySelector(\\\"#plot-da6a7e01-a836-40b1-97fc-3845793b2a82\\\"); this.plotElem=gd; this.Plotly=Plotly; (window.Blink!==undefined) ? (gd.style.width=\\\"100%\\\", gd.style.height=\\\"100vh\\\", gd.style.marginLeft=\\\"0%\\\", gd.style.marginTop=\\\"0vh\\\") : undefined; window.onresize=(function (){return Plotly.Plots.resize(gd)}); Plotly.newPlot(gd,[{\\\"mode\\\":\\\"lines\\\",\\\"y\\\":[0.36787944117144233,0.4065696597405991,0.44932896411722156,0.4965853037914095,0.5488116360940265,0.6065306597126334,0.6703200460356393,0.7408182206817179,0.8187307530779818,0.9048374180359595,1.0,1.1051709180756477,1.2214027581601699,1.3498588075760032,1.4918246976412703,1.6487212707001282,1.8221188003905089,2.0137527074704766,2.225540928492468,2.45960311115695,2.718281828459045],\\\"type\\\":\\\"scatter\\\",\\\"name\\\":\\\"Exact function\\\",\\\"x\\\":[-1.0,-0.9,-0.8,-0.7,-0.6,-0.5,-0.4,-0.3,-0.2,-0.1,0.0,0.1,0.2,0.3,0.4,0.5,0.6,0.7,0.8,0.9,1.0]},{\\\"mode\\\":\\\"lines\\\",\\\"y\\\":[1.0,1.0,1.0,1.0,1.0,1.0,1.0,1.0,1.0,1.0,1.0,1.0,1.0,1.0,1.0,1.0,1.0,1.0,1.0,1.0,1.0],\\\"type\\\":\\\"scatter\\\",\\\"name\\\":\\\"Approximation with 1 point\\\",\\\"x\\\":[-1.0,-0.9,-0.8,-0.7,-0.6,-0.5,-0.4,-0.3,-0.2,-0.1,0.0,0.1,0.2,0.3,0.4,0.5,0.6,0.7,0.8,0.9,1.0]},{\\\"mode\\\":\\\"markers\\\",\\\"y\\\":[0.17515019524874909,0.2836943593760098,0.3922385235032705,0.5007826876305312,0.609326851757792,0.7178710158850526,0.8264151800123133,0.934959344139574,1.0435035082668347,1.1520476723940956,1.2605918365213562,1.3691360006486168,1.4776801647758775,1.5862243289031384,1.694768493030399,1.8033126571576599,1.9118568212849205,2.020400985412181,2.128945149539442,2.2374893136667025,2.3460334777939633],\\\"type\\\":\\\"scatter\\\",\\\"name\\\":\\\"Approximation with 2 points\\\",\\\"x\\\":[-1.0,-0.9,-0.8,-0.7,-0.6,-0.5,-0.4,-0.3,-0.2,-0.1,0.0,0.1,0.2,0.3,0.4,0.5,0.6,0.7,0.8,0.9,1.0]},{\\\"mode\\\":\\\"markers\\\",\\\"y\\\":[0.4022697175985732,0.41415898376129917,0.43668908594122874,0.4698600241383622,0.5136717983526993,0.5681244085842401,0.6332178548329847,0.7089521370989329,0.7953272553820848,0.8923432096824406,1.0,1.118297626334763,1.24723608868673,1.3868153870559008,1.537035521442275,1.697896491845853,1.8693982982666348,2.05154094070462,2.2443244191598097,2.4477487336322024,2.6618138841217993],\\\"type\\\":\\\"scatter\\\",\\\"name\\\":\\\"Approximation with 3 points\\\",\\\"x\\\":[-1.0,-0.9,-0.8,-0.7,-0.6,-0.5,-0.4,-0.3,-0.2,-0.1,0.0,0.1,0.2,0.3,0.4,0.5,0.6,0.7,0.8,0.9,1.0]},{\\\"mode\\\":\\\"markers\\\",\\\"y\\\":[0.3634071181765155,0.40762191662994546,0.4532352420712456,0.5012981486646997,0.552861690574591,0.6089769219652029,0.670694897000819,0.7390666698457228,0.8151432946641974,0.8999758256205267,0.9946153168789936,1.100112822603882,1.2175193969594753,1.3478860941100568,1.4922639682199101,1.6517040734533184,1.8272574639745656,2.0199751939479342,2.230908317537709,2.461107888908172,2.711624962223608],\\\"type\\\":\\\"scatter\\\",\\\"name\\\":\\\"Approximation with 4 points\\\",\\\"x\\\":[-1.0,-0.9,-0.8,-0.7,-0.6,-0.5,-0.4,-0.3,-0.2,-0.1,0.0,0.1,0.2,0.3,0.4,0.5,0.6,0.7,0.8,0.9,1.0]}],{\\\"xaxis\\\":{\\\"title\\\":{\\\"text\\\":\\\"x\\\"}},\\\"template\\\":{\\\"layout\\\":{\\\"coloraxis\\\":{\\\"colorbar\\\":{\\\"ticks\\\":\\\"\\\",\\\"outlinewidth\\\":0}},\\\"xaxis\\\":{\\\"gridcolor\\\":\\\"white\\\",\\\"zerolinewidth\\\":2,\\\"title\\\":{\\\"standoff\\\":15},\\\"ticks\\\":\\\"\\\",\\\"zerolinecolor\\\":\\\"white\\\",\\\"automargin\\\":true,\\\"linecolor\\\":\\\"white\\\"},\\\"hovermode\\\":\\\"closest\\\",\\\"paper_bgcolor\\\":\\\"white\\\",\\\"geo\\\":{\\\"showlakes\\\":true,\\\"showland\\\":true,\\\"landcolor\\\":\\\"#E5ECF6\\\",\\\"bgcolor\\\":\\\"white\\\",\\\"subunitcolor\\\":\\\"white\\\",\\\"lakecolor\\\":\\\"white\\\"},\\\"colorscale\\\":{\\\"sequential\\\":[[0.0,\\\"#0d0887\\\"],[0.1111111111111111,\\\"#46039f\\\"],[0.2222222222222222,\\\"#7201a8\\\"],[0.3333333333333333,\\\"#9c179e\\\"],[0.4444444444444444,\\\"#bd3786\\\"],[0.5555555555555556,\\\"#d8576b\\\"],[0.6666666666666666,\\\"#ed7953\\\"],[0.7777777777777778,\\\"#fb9f3a\\\"],[0.8888888888888888,\\\"#fdca26\\\"],[1.0,\\\"#f0f921\\\"]],\\\"diverging\\\":[[0,\\\"#8e0152\\\"],[0.1,\\\"#c51b7d\\\"],[0.2,\\\"#de77ae\\\"],[0.3,\\\"#f1b6da\\\"],[0.4,\\\"#fde0ef\\\"],[0.5,\\\"#f7f7f7\\\"],[0.6,\\\"#e6f5d0\\\"],[0.7,\\\"#b8e186\\\"],[0.8,\\\"#7fbc41\\\"],[0.9,\\\"#4d9221\\\"],[1,\\\"#276419\\\"]],\\\"sequentialminus\\\":[[0.0,\\\"#0d0887\\\"],[0.1111111111111111,\\\"#46039f\\\"],[0.2222222222222222,\\\"#7201a8\\\"],[0.3333333333333333,\\\"#9c179e\\\"],[0.4444444444444444,\\\"#bd3786\\\"],[0.5555555555555556,\\\"#d8576b\\\"],[0.6666666666666666,\\\"#ed7953\\\"],[0.7777777777777778,\\\"#fb9f3a\\\"],[0.8888888888888888,\\\"#fdca26\\\"],[1.0,\\\"#f0f921\\\"]]},\\\"yaxis\\\":{\\\"gridcolor\\\":\\\"white\\\",\\\"zerolinewidth\\\":2,\\\"title\\\":{\\\"standoff\\\":15},\\\"ticks\\\":\\\"\\\",\\\"zerolinecolor\\\":\\\"white\\\",\\\"automargin\\\":true,\\\"linecolor\\\":\\\"white\\\"},\\\"shapedefaults\\\":{\\\"line\\\":{\\\"color\\\":\\\"#2a3f5f\\\"}},\\\"hoverlabel\\\":{\\\"align\\\":\\\"left\\\"},\\\"mapbox\\\":{\\\"style\\\":\\\"light\\\"},\\\"polar\\\":{\\\"angularaxis\\\":{\\\"gridcolor\\\":\\\"white\\\",\\\"ticks\\\":\\\"\\\",\\\"linecolor\\\":\\\"white\\\"},\\\"bgcolor\\\":\\\"#E5ECF6\\\",\\\"radialaxis\\\":{\\\"gridcolor\\\":\\\"white\\\",\\\"ticks\\\":\\\"\\\",\\\"linecolor\\\":\\\"white\\\"}},\\\"autotypenumbers\\\":\\\"strict\\\",\\\"font\\\":{\\\"color\\\":\\\"#2a3f5f\\\"},\\\"ternary\\\":{\\\"baxis\\\":{\\\"gridcolor\\\":\\\"white\\\",\\\"ticks\\\":\\\"\\\",\\\"linecolor\\\":\\\"white\\\"},\\\"bgcolor\\\":\\\"#E5ECF6\\\",\\\"caxis\\\":{\\\"gridcolor\\\":\\\"white\\\",\\\"ticks\\\":\\\"\\\",\\\"linecolor\\\":\\\"white\\\"},\\\"aaxis\\\":{\\\"gridcolor\\\":\\\"white\\\",\\\"ticks\\\":\\\"\\\",\\\"linecolor\\\":\\\"white\\\"}},\\\"annotationdefaults\\\":{\\\"arrowhead\\\":0,\\\"arrowwidth\\\":1,\\\"arrowcolor\\\":\\\"#2a3f5f\\\"},\\\"plot_bgcolor\\\":\\\"#E5ECF6\\\",\\\"title\\\":{\\\"x\\\":0.05},\\\"scene\\\":{\\\"xaxis\\\":{\\\"gridcolor\\\":\\\"white\\\",\\\"gridwidth\\\":2,\\\"backgroundcolor\\\":\\\"#E5ECF6\\\",\\\"ticks\\\":\\\"\\\",\\\"showbackground\\\":true,\\\"zerolinecolor\\\":\\\"white\\\",\\\"linecolor\\\":\\\"white\\\"},\\\"zaxis\\\":{\\\"gridcolor\\\":\\\"white\\\",\\\"gridwidth\\\":2,\\\"backgroundcolor\\\":\\\"#E5ECF6\\\",\\\"ticks\\\":\\\"\\\",\\\"showbackground\\\":true,\\\"zerolinecolor\\\":\\\"white\\\",\\\"linecolor\\\":\\\"white\\\"},\\\"yaxis\\\":{\\\"gridcolor\\\":\\\"white\\\",\\\"gridwidth\\\":2,\\\"backgroundcolor\\\":\\\"#E5ECF6\\\",\\\"ticks\\\":\\\"\\\",\\\"showbackground\\\":true,\\\"zerolinecolor\\\":\\\"white\\\",\\\"linecolor\\\":\\\"white\\\"}},\\\"colorway\\\":[\\\"#636efa\\\",\\\"#EF553B\\\",\\\"#00cc96\\\",\\\"#ab63fa\\\",\\\"#FFA15A\\\",\\\"#19d3f3\\\",\\\"#FF6692\\\",\\\"#B6E880\\\",\\\"#FF97FF\\\",\\\"#FECB52\\\"]},\\\"data\\\":{\\\"barpolar\\\":[{\\\"type\\\":\\\"barpolar\\\",\\\"marker\\\":{\\\"line\\\":{\\\"color\\\":\\\"#E5ECF6\\\",\\\"width\\\":0.5}}}],\\\"carpet\\\":[{\\\"aaxis\\\":{\\\"gridcolor\\\":\\\"white\\\",\\\"endlinecolor\\\":\\\"#2a3f5f\\\",\\\"minorgridcolor\\\":\\\"white\\\",\\\"startlinecolor\\\":\\\"#2a3f5f\\\",\\\"linecolor\\\":\\\"white\\\"},\\\"type\\\":\\\"carpet\\\",\\\"baxis\\\":{\\\"gridcolor\\\":\\\"white\\\",\\\"endlinecolor\\\":\\\"#2a3f5f\\\",\\\"minorgridcolor\\\":\\\"white\\\",\\\"startlinecolor\\\":\\\"#2a3f5f\\\",\\\"linecolor\\\":\\\"white\\\"}}],\\\"scatterpolar\\\":[{\\\"type\\\":\\\"scatterpolar\\\",\\\"marker\\\":{\\\"colorbar\\\":{\\\"ticks\\\":\\\"\\\",\\\"outlinewidth\\\":0}}}],\\\"parcoords\\\":[{\\\"line\\\":{\\\"colorbar\\\":{\\\"ticks\\\":\\\"\\\",\\\"outlinewidth\\\":0}},\\\"type\\\":\\\"parcoords\\\"}],\\\"scatter\\\":[{\\\"type\\\":\\\"scatter\\\",\\\"marker\\\":{\\\"colorbar\\\":{\\\"ticks\\\":\\\"\\\",\\\"outlinewidth\\\":0}}}],\\\"histogram2dcontour\\\":[{\\\"colorbar\\\":{\\\"ticks\\\":\\\"\\\",\\\"outlinewidth\\\":0},\\\"type\\\":\\\"histogram2dcontour\\\",\\\"colorscale\\\":[[0.0,\\\"#0d0887\\\"],[0.1111111111111111,\\\"#46039f\\\"],[0.2222222222222222,\\\"#7201a8\\\"],[0.3333333333333333,\\\"#9c179e\\\"],[0.4444444444444444,\\\"#bd3786\\\"],[0.5555555555555556,\\\"#d8576b\\\"],[0.6666666666666666,\\\"#ed7953\\\"],[0.7777777777777778,\\\"#fb9f3a\\\"],[0.8888888888888888,\\\"#fdca26\\\"],[1.0,\\\"#f0f921\\\"]]}],\\\"contour\\\":[{\\\"colorbar\\\":{\\\"ticks\\\":\\\"\\\",\\\"outlinewidth\\\":0},\\\"type\\\":\\\"contour\\\",\\\"colorscale\\\":[[0.0,\\\"#0d0887\\\"],[0.1111111111111111,\\\"#46039f\\\"],[0.2222222222222222,\\\"#7201a8\\\"],[0.3333333333333333,\\\"#9c179e\\\"],[0.4444444444444444,\\\"#bd3786\\\"],[0.5555555555555556,\\\"#d8576b\\\"],[0.6666666666666666,\\\"#ed7953\\\"],[0.7777777777777778,\\\"#fb9f3a\\\"],[0.8888888888888888,\\\"#fdca26\\\"],[1.0,\\\"#f0f921\\\"]]}],\\\"scattercarpet\\\":[{\\\"type\\\":\\\"scattercarpet\\\",\\\"marker\\\":{\\\"colorbar\\\":{\\\"ticks\\\":\\\"\\\",\\\"outlinewidth\\\":0}}}],\\\"mesh3d\\\":[{\\\"colorbar\\\":{\\\"ticks\\\":\\\"\\\",\\\"outlinewidth\\\":0},\\\"type\\\":\\\"mesh3d\\\"}],\\\"surface\\\":[{\\\"colorbar\\\":{\\\"ticks\\\":\\\"\\\",\\\"outlinewidth\\\":0},\\\"type\\\":\\\"surface\\\",\\\"colorscale\\\":[[0.0,\\\"#0d0887\\\"],[0.1111111111111111,\\\"#46039f\\\"],[0.2222222222222222,\\\"#7201a8\\\"],[0.3333333333333333,\\\"#9c179e\\\"],[0.4444444444444444,\\\"#bd3786\\\"],[0.5555555555555556,\\\"#d8576b\\\"],[0.6666666666666666,\\\"#ed7953\\\"],[0.7777777777777778,\\\"#fb9f3a\\\"],[0.8888888888888888,\\\"#fdca26\\\"],[1.0,\\\"#f0f921\\\"]]}],\\\"scattermapbox\\\":[{\\\"type\\\":\\\"scattermapbox\\\",\\\"marker\\\":{\\\"colorbar\\\":{\\\"ticks\\\":\\\"\\\",\\\"outlinewidth\\\":0}}}],\\\"scattergeo\\\":[{\\\"type\\\":\\\"scattergeo\\\",\\\"marker\\\":{\\\"colorbar\\\":{\\\"ticks\\\":\\\"\\\",\\\"outlinewidth\\\":0}}}],\\\"histogram\\\":[{\\\"type\\\":\\\"histogram\\\",\\\"marker\\\":{\\\"colorbar\\\":{\\\"ticks\\\":\\\"\\\",\\\"outlinewidth\\\":0}}}],\\\"pie\\\":[{\\\"type\\\":\\\"pie\\\",\\\"automargin\\\":true}],\\\"choropleth\\\":[{\\\"colorbar\\\":{\\\"ticks\\\":\\\"\\\",\\\"outlinewidth\\\":0},\\\"type\\\":\\\"choropleth\\\"}],\\\"heatmapgl\\\":[{\\\"colorbar\\\":{\\\"ticks\\\":\\\"\\\",\\\"outlinewidth\\\":0},\\\"type\\\":\\\"heatmapgl\\\",\\\"colorscale\\\":[[0.0,\\\"#0d0887\\\"],[0.1111111111111111,\\\"#46039f\\\"],[0.2222222222222222,\\\"#7201a8\\\"],[0.3333333333333333,\\\"#9c179e\\\"],[0.4444444444444444,\\\"#bd3786\\\"],[0.5555555555555556,\\\"#d8576b\\\"],[0.6666666666666666,\\\"#ed7953\\\"],[0.7777777777777778,\\\"#fb9f3a\\\"],[0.8888888888888888,\\\"#fdca26\\\"],[1.0,\\\"#f0f921\\\"]]}],\\\"bar\\\":[{\\\"type\\\":\\\"bar\\\",\\\"error_y\\\":{\\\"color\\\":\\\"#2a3f5f\\\"},\\\"error_x\\\":{\\\"color\\\":\\\"#2a3f5f\\\"},\\\"marker\\\":{\\\"line\\\":{\\\"color\\\":\\\"#E5ECF6\\\",\\\"width\\\":0.5}}}],\\\"heatmap\\\":[{\\\"colorbar\\\":{\\\"ticks\\\":\\\"\\\",\\\"outlinewidth\\\":0},\\\"type\\\":\\\"heatmap\\\",\\\"colorscale\\\":[[0.0,\\\"#0d0887\\\"],[0.1111111111111111,\\\"#46039f\\\"],[0.2222222222222222,\\\"#7201a8\\\"],[0.3333333333333333,\\\"#9c179e\\\"],[0.4444444444444444,\\\"#bd3786\\\"],[0.5555555555555556,\\\"#d8576b\\\"],[0.6666666666666666,\\\"#ed7953\\\"],[0.7777777777777778,\\\"#fb9f3a\\\"],[0.8888888888888888,\\\"#fdca26\\\"],[1.0,\\\"#f0f921\\\"]]}],\\\"contourcarpet\\\":[{\\\"colorbar\\\":{\\\"ticks\\\":\\\"\\\",\\\"outlinewidth\\\":0},\\\"type\\\":\\\"contourcarpet\\\"}],\\\"table\\\":[{\\\"type\\\":\\\"table\\\",\\\"header\\\":{\\\"line\\\":{\\\"color\\\":\\\"white\\\"},\\\"fill\\\":{\\\"color\\\":\\\"#C8D4E3\\\"}},\\\"cells\\\":{\\\"line\\\":{\\\"color\\\":\\\"white\\\"},\\\"fill\\\":{\\\"color\\\":\\\"#EBF0F8\\\"}}}],\\\"scatter3d\\\":[{\\\"line\\\":{\\\"colorbar\\\":{\\\"ticks\\\":\\\"\\\",\\\"outlinewidth\\\":0}},\\\"type\\\":\\\"scatter3d\\\",\\\"marker\\\":{\\\"colorbar\\\":{\\\"ticks\\\":\\\"\\\",\\\"outlinewidth\\\":0}}}],\\\"scattergl\\\":[{\\\"type\\\":\\\"scattergl\\\",\\\"marker\\\":{\\\"colorbar\\\":{\\\"ticks\\\":\\\"\\\",\\\"outlinewidth\\\":0}}}],\\\"histogram2d\\\":[{\\\"colorbar\\\":{\\\"ticks\\\":\\\"\\\",\\\"outlinewidth\\\":0},\\\"type\\\":\\\"histogram2d\\\",\\\"colorscale\\\":[[0.0,\\\"#0d0887\\\"],[0.1111111111111111,\\\"#46039f\\\"],[0.2222222222222222,\\\"#7201a8\\\"],[0.3333333333333333,\\\"#9c179e\\\"],[0.4444444444444444,\\\"#bd3786\\\"],[0.5555555555555556,\\\"#d8576b\\\"],[0.6666666666666666,\\\"#ed7953\\\"],[0.7777777777777778,\\\"#fb9f3a\\\"],[0.8888888888888888,\\\"#fdca26\\\"],[1.0,\\\"#f0f921\\\"]]}],\\\"scatterternary\\\":[{\\\"type\\\":\\\"scatterternary\\\",\\\"marker\\\":{\\\"colorbar\\\":{\\\"ticks\\\":\\\"\\\",\\\"outlinewidth\\\":0}}}],\\\"scatterpolargl\\\":[{\\\"type\\\":\\\"scatterpolargl\\\",\\\"marker\\\":{\\\"colorbar\\\":{\\\"ticks\\\":\\\"\\\",\\\"outlinewidth\\\":0}}}]}},\\\"margin\\\":{\\\"l\\\":50,\\\"b\\\":50,\\\"r\\\":50,\\\"t\\\":60},\\\"title\\\":\\\" Approximation via interpolation with different number of Chebyshev node points\\\",\\\"yaxis\\\":{\\\"title\\\":{\\\"text\\\":\\\"y\\\"}}},{\\\"showLink\\\":false,\\\"editable\\\":false,\\\"responsive\\\":true,\\\"staticPlot\\\":false,\\\"scrollZoom\\\":true}); gd.on(\\\"plotly_hover\\\",(function (data){var filtered_data=WebIO.PlotlyCommands.filterEventData(gd,data,\\\"hover\\\"); return !(filtered_data.isnil) ? (WebIO.setval({\\\"name\\\":\\\"hover\\\",\\\"scope\\\":\\\"362168655325798958\\\",\\\"id\\\":\\\"2033763966405060354\\\",\\\"type\\\":\\\"observable\\\"},filtered_data.out)) : undefined})); gd.on(\\\"plotly_unhover\\\",(function (){return WebIO.setval({\\\"name\\\":\\\"hover\\\",\\\"scope\\\":\\\"362168655325798958\\\",\\\"id\\\":\\\"2033763966405060354\\\",\\\"type\\\":\\\"observable\\\"},{})})); gd.on(\\\"plotly_selected\\\",(function (data){var filtered_data=WebIO.PlotlyCommands.filterEventData(gd,data,\\\"selected\\\"); return !(filtered_data.isnil) ? (WebIO.setval({\\\"name\\\":\\\"selected\\\",\\\"scope\\\":\\\"362168655325798958\\\",\\\"id\\\":\\\"10876029448087494907\\\",\\\"type\\\":\\\"observable\\\"},filtered_data.out)) : undefined})); gd.on(\\\"plotly_deselect\\\",(function (){return WebIO.setval({\\\"name\\\":\\\"selected\\\",\\\"scope\\\":\\\"362168655325798958\\\",\\\"id\\\":\\\"10876029448087494907\\\",\\\"type\\\":\\\"observable\\\"},{})})); gd.on(\\\"plotly_relayout\\\",(function (data){var filtered_data=WebIO.PlotlyCommands.filterEventData(gd,data,\\\"relayout\\\"); return !(filtered_data.isnil) ? (WebIO.setval({\\\"name\\\":\\\"relayout\\\",\\\"scope\\\":\\\"362168655325798958\\\",\\\"id\\\":\\\"13315120052109055857\\\",\\\"type\\\":\\\"observable\\\"},filtered_data.out)) : undefined})); return gd.on(\\\"plotly_click\\\",(function (data){var filtered_data=WebIO.PlotlyCommands.filterEventData(gd,data,\\\"click\\\"); return !(filtered_data.isnil) ? (WebIO.setval({\\\"name\\\":\\\"click\\\",\\\"scope\\\":\\\"362168655325798958\\\",\\\"id\\\":\\\"11535237783651963533\\\",\\\"type\\\":\\\"observable\\\"},filtered_data.out)) : undefined}))}));\\n    (WebIO.importBlock({\\\"data\\\":[{\\\"name\\\":\\\"Plotly\\\",\\\"type\\\":\\\"js\\\",\\\"url\\\":\\\"\\/assetserver\\/499590eaec904dd55fafb36dbac61b115c3c7397-plotly.min.js\\\"},{\\\"name\\\":null,\\\"type\\\":\\\"js\\\",\\\"url\\\":\\\"\\/assetserver\\/516b44ebc40e7d2763d8f7a52f8fb4f892cb9be8-plotly_webio.bundle.js\\\"}],\\\"type\\\":\\\"async_block\\\"})).then((imports) => handler.apply(this, imports));\\n}\\n\"],\"observables\":{\"_toImage\":{\"sync\":false,\"id\":\"9863936368707238893\",\"value\":{}},\"hover\":{\"sync\":false,\"id\":\"2033763966405060354\",\"value\":{}},\"selected\":{\"sync\":false,\"id\":\"10876029448087494907\",\"value\":{}},\"__gd_contents\":{\"sync\":false,\"id\":\"9095391997677870472\",\"value\":{}},\"click\":{\"sync\":false,\"id\":\"11535237783651963533\",\"value\":{}},\"image\":{\"sync\":true,\"id\":\"8557855455690994538\",\"value\":\"\"},\"__get_gd_contents\":{\"sync\":false,\"id\":\"1875562488118908666\",\"value\":\"\"},\"_downloadImage\":{\"sync\":false,\"id\":\"16600511112980545375\",\"value\":{}},\"relayout\":{\"sync\":false,\"id\":\"13315120052109055857\",\"value\":{}},\"_commands\":{\"sync\":false,\"id\":\"9177182994816453925\",\"value\":[]}}},\"children\":[{\"props\":{\"id\":\"plot-da6a7e01-a836-40b1-97fc-3845793b2a82\"},\"nodeType\":\"DOM\",\"type\":\"node\",\"instanceArgs\":{\"namespace\":\"html\",\"tag\":\"div\"},\"children\":[]}]},\n",
       "        window,\n",
       "    );\n",
       "    })()\n",
       "    </script>\n",
       "</div>\n"
      ],
      "text/plain": [
       "data: [\n",
       "  \"scatter with fields mode, name, type, x, and y\",\n",
       "  \"scatter with fields mode, name, type, x, and y\",\n",
       "  \"scatter with fields mode, name, type, x, and y\",\n",
       "  \"scatter with fields mode, name, type, x, and y\",\n",
       "  \"scatter with fields mode, name, type, x, and y\"\n",
       "]\n",
       "\n",
       "layout: \"layout with fields margin, template, title, xaxis, and yaxis\"\n",
       "\n"
      ]
     },
     "execution_count": 3,
     "metadata": {},
     "output_type": "execute_result"
    }
   ],
   "source": [
    "unit=Interval(-1,1);# define unit interval\n",
    "ChebS=Chebyshev(unit); # define function space\n",
    "\n",
    "#adds left and right endpoints to interior Chebyshev points \n",
    "function add_cheb_endp(p)\n",
    " append!(prepend!(p,1),-1)\n",
    "end\n",
    "\n",
    "func(x)=exp.(x); # define function\n",
    "\n",
    "\n",
    "p1= points(ChebS,1); # one single Chebyshev node point \n",
    "p2= points(ChebS,2); # two points\n",
    "p3= points(ChebS,3); # three points\n",
    "p4= points(ChebS,4); # three points\n",
    "\n",
    "#p2_= add_cheb_endp(p2)\n",
    "#p3_= add_cheb_endp(p3)\n",
    "#p4_= add_cheb_endp(p4)\n",
    "\n",
    "#Evaluate function on different Chebyshev grid points\n",
    "v1=func.(p1);\n",
    "v2=func.(p2);\n",
    "v3=func.(p3);\n",
    "v4=func.(p4);\n",
    "\n",
    "#Approximate via Chebyshev polynomials with increasing order\n",
    "func_1 = Fun(ChebS,transform(ChebS,v1));\n",
    "func_2 = Fun(ChebS,transform(ChebS,v2));\n",
    "func_3 = Fun(ChebS,transform(ChebS,v3));\n",
    "func_4 = Fun(ChebS,transform(ChebS,v4));\n",
    "\n",
    "#Plot results\n",
    "x=-1:0.1:1\n",
    "\n",
    "trace0 = Plotly.scatter(x=x, y=func.(x),mode=\"lines\",name=\"Exact function\")\n",
    "trace1 = Plotly.scatter(x=x, y=func_1.(x),mode=\"lines\",name=\"Approximation with 1 point\")\n",
    "trace2 = Plotly.scatter(x=x, y=func_2.(x),mode=\"markers\", name=\"Approximation with 2 points\")\n",
    "trace3 = Plotly.scatter(x=x, y=func_3.(x),mode=\"markers\",name=\"Approximation with 3 points\")\n",
    "trace4 = Plotly.scatter(x=x, y=func_4.(x),mode=\"markers\",name=\"Approximation with 4 points\")\n",
    "\n",
    "layout = Layout(title=\" Approximation via interpolation with different number of Chebyshev node points\",\n",
    "\n",
    "                   xaxis_title=\"x\",\n",
    "\n",
    "                   yaxis_title=\"y\")\n",
    "\n",
    "# Make plot\n",
    "Plotly.plot([trace0, trace1, trace2,trace3,trace4 ],layout)\n"
   ]
  },
  {
   "cell_type": "markdown",
   "id": "85d83f5e",
   "metadata": {},
   "source": [
    "Compute the maximal error between Chebyshev approximation and exact function among all interplated points:"
   ]
  },
  {
   "cell_type": "code",
   "execution_count": null,
   "id": "183acd2b",
   "metadata": {},
   "outputs": [],
   "source": [
    "err=findmax(abs.(func_4.(x)-func.(x)));\n",
    "#returns both maximal error and its location in x\n",
    "\n",
    "print(\"The maximal error between Chebyshev approximation with four points and exact curve among all \", length(x), \n",
    "    \" interpolated points is \",  err[1], \" and is assumed at the point x = \", x[err[2]])"
   ]
  },
  {
   "cell_type": "markdown",
   "id": "bbdfb0e6",
   "metadata": {},
   "source": [
    "We can just let the ApproxFun package compute the approximation automatically to within machine accuracy:"
   ]
  },
  {
   "cell_type": "code",
   "execution_count": null,
   "id": "f5d6dbcf",
   "metadata": {},
   "outputs": [],
   "source": [
    "func_approx=Fun(exp); # [-1,1] is the default interval if nothing is specified\n",
    "func_approx_=Fun(exp,1..4); # Specify interval of function"
   ]
  },
  {
   "cell_type": "code",
   "execution_count": null,
   "id": "f517e073",
   "metadata": {},
   "outputs": [],
   "source": [
    "x=-1:0.1:1\n",
    "x_=1:0.1:1.5;\n",
    "\n",
    "Plots.plot(x,func.(x),label=L\"Exact function $f(x)=e^x$\",lc=:black,lw=2,ls=:solid )\n",
    "Plots.plot!(x,func_approx.(x), label=\"Automatic Approximation over [-1,1]\",lc=:green,markers=:square,lw=2,ls=:dash )\n",
    "\n",
    "Plots.plot!(x_,func_approx_.(x_), label=\"Automatic Approximation over [1,1.5]\",lc=:blue,markers=:circle,lw=2,ls=:dot )\n",
    "\n",
    "Plots.title!(L\"Approximation of $y=e^x$ with Chebyshev polynomials\")\n",
    "xlabel!(L\"x\")\n",
    "ylabel!(L\"y\")"
   ]
  },
  {
   "cell_type": "markdown",
   "id": "384fdff5",
   "metadata": {},
   "source": [
    "<b> Evaluating definite integrals </b>"
   ]
  },
  {
   "cell_type": "code",
   "execution_count": null,
   "id": "277c78fa",
   "metadata": {},
   "outputs": [],
   "source": [
    "DI = DefiniteIntegral(Chebyshev(Interval(-1,1)))"
   ]
  },
  {
   "cell_type": "code",
   "execution_count": null,
   "id": "c9f47465",
   "metadata": {},
   "outputs": [],
   "source": [
    "weight(x)=1 ./sqrt(1-x.^2)"
   ]
  },
  {
   "cell_type": "code",
   "execution_count": null,
   "id": "faec1c14",
   "metadata": {},
   "outputs": [],
   "source": [
    "chebyshev0(x)=1\n",
    "chebyshev1(x)=x\n",
    "chebyshev2(x)=2*x^2-1\n",
    "chebyshev3(x)=4*x^3-3x"
   ]
  },
  {
   "cell_type": "markdown",
   "id": "21e5d580",
   "metadata": {},
   "source": [
    "Calculate $I1=\\int_{-1}^1 1\\cdot dx, I2= \\int_{-1}^1 x\\  dx $"
   ]
  },
  {
   "cell_type": "code",
   "execution_count": null,
   "id": "b183f1dd",
   "metadata": {},
   "outputs": [],
   "source": [
    "DI*Fun(chebyshev0)\n"
   ]
  },
  {
   "cell_type": "code",
   "execution_count": null,
   "id": "f0f1aca0",
   "metadata": {},
   "outputs": [],
   "source": [
    "DI*Fun(chebyshev1)"
   ]
  },
  {
   "cell_type": "markdown",
   "id": "46600460",
   "metadata": {},
   "source": [
    "Check orthogonality of Chebyshev polynomials using scalar products without and with weights:"
   ]
  },
  {
   "cell_type": "code",
   "execution_count": null,
   "id": "d7b06ae4",
   "metadata": {},
   "outputs": [],
   "source": [
    "# scalar product without weight function\n",
    "test1(x)=chebyshev0(x)*chebyshev2(x);\n",
    "DI*Fun(test1)"
   ]
  },
  {
   "cell_type": "code",
   "execution_count": null,
   "id": "d7b72a0d",
   "metadata": {},
   "outputs": [],
   "source": [
    "test2(x)=chebyshev1(x)*chebyshev3(x);\n",
    "DI*Fun(test2)"
   ]
  },
  {
   "cell_type": "code",
   "execution_count": null,
   "id": "5ca76f94",
   "metadata": {},
   "outputs": [],
   "source": [
    "# scalar product with weight function\n",
    "test1_(x)=chebyshev0(x)*chebyshev2(x)*weight(x);\n",
    "DI*Fun(test1_)"
   ]
  },
  {
   "cell_type": "code",
   "execution_count": null,
   "id": "ddf3ebd9",
   "metadata": {},
   "outputs": [],
   "source": [
    "test2_(x)=chebyshev1(x)*chebyshev3(x)*weight(x);\n",
    "DI*Fun(test2_)"
   ]
  },
  {
   "cell_type": "markdown",
   "id": "d7e8295c",
   "metadata": {},
   "source": [
    "# Piecewise Interpolation via B-Splines"
   ]
  },
  {
   "cell_type": "markdown",
   "id": "9e4d1a38",
   "metadata": {},
   "source": [
    "The julia package for B-Splines can be obtained here: https://docs.juliahub.com/BSplines/4pIhL/0.2.3/"
   ]
  },
  {
   "cell_type": "code",
   "execution_count": 1,
   "id": "3ca75e8a",
   "metadata": {},
   "outputs": [
    {
     "data": {
      "application/vnd.webio.node+json": {
       "children": [],
       "instanceArgs": {
        "namespace": "html",
        "tag": "div"
       },
       "nodeType": "DOM",
       "props": {},
       "type": "node"
      },
      "text/html": [
       "<div style=\"padding: 1em; background-color: #f8d6da; border: 1px solid #f5c6cb; font-weight: bold;\">\n",
       "<p>The WebIO Jupyter extension was not detected. See the\n",
       "<a href=\"https://juliagizmos.github.io/WebIO.jl/latest/providers/ijulia/\" target=\"_blank\">\n",
       "    WebIO Jupyter integration documentation\n",
       "</a>\n",
       "for more information.\n",
       "</div>\n"
      ],
      "text/plain": [
       "WebIO._IJuliaInit()"
      ]
     },
     "metadata": {
      "application/vnd.webio.node+json": {
       "kernelId": "4f4cb225-49cd-4ea5-80ff-eee1da274e7f"
      }
     },
     "output_type": "display_data"
    }
   ],
   "source": [
    "using BSplines,Plotly,Plots"
   ]
  },
  {
   "cell_type": "markdown",
   "id": "83ef566d",
   "metadata": {},
   "source": [
    "Constructing basis with given order and interval:"
   ]
  },
  {
   "cell_type": "code",
   "execution_count": 9,
   "id": "76ba577a",
   "metadata": {},
   "outputs": [
    {
     "data": {
      "text/plain": [
       "7-element BSplineBasis{StepRangeLen{Float64, Base.TwicePrecision{Float64}, Base.TwicePrecision{Float64}}}:\n",
       " order: 3\n",
       " breakpoints: -3.0000000001:1.20000000004:3.0000000001"
      ]
     },
     "execution_count": 9,
     "metadata": {},
     "output_type": "execute_result"
    }
   ],
   "source": [
    "margin=0.1e-9\n",
    "startp=-3-margin\n",
    "endp=3+margin\n",
    "\n",
    "Npoints=4\n",
    "h=(endp-startp)/(Npoints+1)\n",
    "spline_points=startp:h:endp\n",
    "spline_order = 3\n",
    "spline_basis = BSplineBasis(spline_order, spline_points)"
   ]
  },
  {
   "cell_type": "markdown",
   "id": "01010ff0",
   "metadata": {},
   "source": [
    "Plot all spline basis functions:"
   ]
  },
  {
   "cell_type": "code",
   "execution_count": 3,
   "id": "9c24d8d4",
   "metadata": {},
   "outputs": [
    {
     "data": {
      "image/svg+xml": [
       "<?xml version=\"1.0\" encoding=\"utf-8\"?>\n",
       "<svg xmlns=\"http://www.w3.org/2000/svg\" xmlns:xlink=\"http://www.w3.org/1999/xlink\" width=\"600\" height=\"400\" viewBox=\"0 0 2400 1600\">\n",
       "<defs>\n",
       "  <clipPath id=\"clip750\">\n",
       "    <rect x=\"0\" y=\"0\" width=\"2400\" height=\"1600\"/>\n",
       "  </clipPath>\n",
       "</defs>\n",
       "<path clip-path=\"url(#clip750)\" d=\"M0 1600 L2400 1600 L2400 0 L0 0  Z\" fill=\"#ffffff\" fill-rule=\"evenodd\" fill-opacity=\"1\"/>\n",
       "<defs>\n",
       "  <clipPath id=\"clip751\">\n",
       "    <rect x=\"480\" y=\"0\" width=\"1681\" height=\"1600\"/>\n",
       "  </clipPath>\n",
       "</defs>\n",
       "<path clip-path=\"url(#clip750)\" d=\"M186.274 1486.45 L2352.76 1486.45 L2352.76 47.2441 L186.274 47.2441  Z\" fill=\"#ffffff\" fill-rule=\"evenodd\" fill-opacity=\"1\"/>\n",
       "<defs>\n",
       "  <clipPath id=\"clip752\">\n",
       "    <rect x=\"186\" y=\"47\" width=\"2167\" height=\"1440\"/>\n",
       "  </clipPath>\n",
       "</defs>\n",
       "<polyline clip-path=\"url(#clip752)\" style=\"stroke:#000000; stroke-linecap:round; stroke-linejoin:round; stroke-width:2; stroke-opacity:0.1; fill:none\" points=\"247.59,1486.45 247.59,47.2441 \"/>\n",
       "<polyline clip-path=\"url(#clip752)\" style=\"stroke:#000000; stroke-linecap:round; stroke-linejoin:round; stroke-width:2; stroke-opacity:0.1; fill:none\" points=\"588.231,1486.45 588.231,47.2441 \"/>\n",
       "<polyline clip-path=\"url(#clip752)\" style=\"stroke:#000000; stroke-linecap:round; stroke-linejoin:round; stroke-width:2; stroke-opacity:0.1; fill:none\" points=\"928.873,1486.45 928.873,47.2441 \"/>\n",
       "<polyline clip-path=\"url(#clip752)\" style=\"stroke:#000000; stroke-linecap:round; stroke-linejoin:round; stroke-width:2; stroke-opacity:0.1; fill:none\" points=\"1269.51,1486.45 1269.51,47.2441 \"/>\n",
       "<polyline clip-path=\"url(#clip752)\" style=\"stroke:#000000; stroke-linecap:round; stroke-linejoin:round; stroke-width:2; stroke-opacity:0.1; fill:none\" points=\"1610.16,1486.45 1610.16,47.2441 \"/>\n",
       "<polyline clip-path=\"url(#clip752)\" style=\"stroke:#000000; stroke-linecap:round; stroke-linejoin:round; stroke-width:2; stroke-opacity:0.1; fill:none\" points=\"1950.8,1486.45 1950.8,47.2441 \"/>\n",
       "<polyline clip-path=\"url(#clip752)\" style=\"stroke:#000000; stroke-linecap:round; stroke-linejoin:round; stroke-width:2; stroke-opacity:0.1; fill:none\" points=\"2291.44,1486.45 2291.44,47.2441 \"/>\n",
       "<polyline clip-path=\"url(#clip750)\" style=\"stroke:#000000; stroke-linecap:round; stroke-linejoin:round; stroke-width:4; stroke-opacity:1; fill:none\" points=\"186.274,1486.45 2352.76,1486.45 \"/>\n",
       "<polyline clip-path=\"url(#clip750)\" style=\"stroke:#000000; stroke-linecap:round; stroke-linejoin:round; stroke-width:4; stroke-opacity:1; fill:none\" points=\"247.59,1486.45 247.59,1467.55 \"/>\n",
       "<polyline clip-path=\"url(#clip750)\" style=\"stroke:#000000; stroke-linecap:round; stroke-linejoin:round; stroke-width:4; stroke-opacity:1; fill:none\" points=\"588.231,1486.45 588.231,1467.55 \"/>\n",
       "<polyline clip-path=\"url(#clip750)\" style=\"stroke:#000000; stroke-linecap:round; stroke-linejoin:round; stroke-width:4; stroke-opacity:1; fill:none\" points=\"928.873,1486.45 928.873,1467.55 \"/>\n",
       "<polyline clip-path=\"url(#clip750)\" style=\"stroke:#000000; stroke-linecap:round; stroke-linejoin:round; stroke-width:4; stroke-opacity:1; fill:none\" points=\"1269.51,1486.45 1269.51,1467.55 \"/>\n",
       "<polyline clip-path=\"url(#clip750)\" style=\"stroke:#000000; stroke-linecap:round; stroke-linejoin:round; stroke-width:4; stroke-opacity:1; fill:none\" points=\"1610.16,1486.45 1610.16,1467.55 \"/>\n",
       "<polyline clip-path=\"url(#clip750)\" style=\"stroke:#000000; stroke-linecap:round; stroke-linejoin:round; stroke-width:4; stroke-opacity:1; fill:none\" points=\"1950.8,1486.45 1950.8,1467.55 \"/>\n",
       "<polyline clip-path=\"url(#clip750)\" style=\"stroke:#000000; stroke-linecap:round; stroke-linejoin:round; stroke-width:4; stroke-opacity:1; fill:none\" points=\"2291.44,1486.45 2291.44,1467.55 \"/>\n",
       "<path clip-path=\"url(#clip750)\" d=\"M217.057 1532.02 L246.733 1532.02 L246.733 1535.95 L217.057 1535.95 L217.057 1532.02 Z\" fill=\"#000000\" fill-rule=\"evenodd\" fill-opacity=\"1\" /><path clip-path=\"url(#clip750)\" d=\"M270.992 1530.21 Q274.349 1530.93 276.224 1533.2 Q278.122 1535.47 278.122 1538.8 Q278.122 1543.92 274.603 1546.72 Q271.085 1549.52 264.603 1549.52 Q262.427 1549.52 260.113 1549.08 Q257.821 1548.66 255.367 1547.81 L255.367 1543.29 Q257.312 1544.43 259.626 1545.01 Q261.941 1545.58 264.464 1545.58 Q268.863 1545.58 271.154 1543.85 Q273.469 1542.11 273.469 1538.8 Q273.469 1535.75 271.316 1534.03 Q269.187 1532.3 265.367 1532.3 L261.339 1532.3 L261.339 1528.45 L265.552 1528.45 Q269.001 1528.45 270.83 1527.09 Q272.659 1525.7 272.659 1523.11 Q272.659 1520.45 270.761 1519.03 Q268.886 1517.6 265.367 1517.6 Q263.446 1517.6 261.247 1518.01 Q259.048 1518.43 256.409 1519.31 L256.409 1515.14 Q259.071 1514.4 261.386 1514.03 Q263.724 1513.66 265.784 1513.66 Q271.108 1513.66 274.21 1516.09 Q277.312 1518.5 277.312 1522.62 Q277.312 1525.49 275.668 1527.48 Q274.025 1529.45 270.992 1530.21 Z\" fill=\"#000000\" fill-rule=\"evenodd\" fill-opacity=\"1\" /><path clip-path=\"url(#clip750)\" d=\"M558.174 1532.02 L587.849 1532.02 L587.849 1535.95 L558.174 1535.95 L558.174 1532.02 Z\" fill=\"#000000\" fill-rule=\"evenodd\" fill-opacity=\"1\" /><path clip-path=\"url(#clip750)\" d=\"M601.97 1544.91 L618.289 1544.91 L618.289 1548.85 L596.345 1548.85 L596.345 1544.91 Q599.007 1542.16 603.59 1537.53 Q608.197 1532.88 609.377 1531.53 Q611.622 1529.01 612.502 1527.27 Q613.405 1525.51 613.405 1523.82 Q613.405 1521.07 611.46 1519.33 Q609.539 1517.6 606.437 1517.6 Q604.238 1517.6 601.785 1518.36 Q599.354 1519.13 596.576 1520.68 L596.576 1515.95 Q599.4 1514.82 601.854 1514.24 Q604.308 1513.66 606.345 1513.66 Q611.715 1513.66 614.909 1516.35 Q618.104 1519.03 618.104 1523.52 Q618.104 1525.65 617.294 1527.57 Q616.507 1529.47 614.4 1532.07 Q613.821 1532.74 610.72 1535.95 Q607.618 1539.15 601.97 1544.91 Z\" fill=\"#000000\" fill-rule=\"evenodd\" fill-opacity=\"1\" /><path clip-path=\"url(#clip750)\" d=\"M898.63 1532.02 L928.306 1532.02 L928.306 1535.95 L898.63 1535.95 L898.63 1532.02 Z\" fill=\"#000000\" fill-rule=\"evenodd\" fill-opacity=\"1\" /><path clip-path=\"url(#clip750)\" d=\"M939.209 1544.91 L946.848 1544.91 L946.848 1518.55 L938.537 1520.21 L938.537 1515.95 L946.801 1514.29 L951.477 1514.29 L951.477 1544.91 L959.116 1544.91 L959.116 1548.85 L939.209 1548.85 L939.209 1544.91 Z\" fill=\"#000000\" fill-rule=\"evenodd\" fill-opacity=\"1\" /><path clip-path=\"url(#clip750)\" d=\"M1269.51 1517.37 Q1265.9 1517.37 1264.08 1520.93 Q1262.27 1524.47 1262.27 1531.6 Q1262.27 1538.71 1264.08 1542.27 Q1265.9 1545.82 1269.51 1545.82 Q1273.15 1545.82 1274.95 1542.27 Q1276.78 1538.71 1276.78 1531.6 Q1276.78 1524.47 1274.95 1520.93 Q1273.15 1517.37 1269.51 1517.37 M1269.51 1513.66 Q1275.33 1513.66 1278.38 1518.27 Q1281.46 1522.85 1281.46 1531.6 Q1281.46 1540.33 1278.38 1544.94 Q1275.33 1549.52 1269.51 1549.52 Q1263.7 1549.52 1260.63 1544.94 Q1257.57 1540.33 1257.57 1531.6 Q1257.57 1522.85 1260.63 1518.27 Q1263.7 1513.66 1269.51 1513.66 Z\" fill=\"#000000\" fill-rule=\"evenodd\" fill-opacity=\"1\" /><path clip-path=\"url(#clip750)\" d=\"M1600.54 1544.91 L1608.18 1544.91 L1608.18 1518.55 L1599.87 1520.21 L1599.87 1515.95 L1608.13 1514.29 L1612.81 1514.29 L1612.81 1544.91 L1620.45 1544.91 L1620.45 1548.85 L1600.54 1548.85 L1600.54 1544.91 Z\" fill=\"#000000\" fill-rule=\"evenodd\" fill-opacity=\"1\" /><path clip-path=\"url(#clip750)\" d=\"M1945.45 1544.91 L1961.77 1544.91 L1961.77 1548.85 L1939.83 1548.85 L1939.83 1544.91 Q1942.49 1542.16 1947.07 1537.53 Q1951.68 1532.88 1952.86 1531.53 Q1955.1 1529.01 1955.98 1527.27 Q1956.89 1525.51 1956.89 1523.82 Q1956.89 1521.07 1954.94 1519.33 Q1953.02 1517.6 1949.92 1517.6 Q1947.72 1517.6 1945.27 1518.36 Q1942.84 1519.13 1940.06 1520.68 L1940.06 1515.95 Q1942.88 1514.82 1945.34 1514.24 Q1947.79 1513.66 1949.83 1513.66 Q1955.2 1513.66 1958.39 1516.35 Q1961.59 1519.03 1961.59 1523.52 Q1961.59 1525.65 1960.78 1527.57 Q1959.99 1529.47 1957.88 1532.07 Q1957.3 1532.74 1954.2 1535.95 Q1951.1 1539.15 1945.45 1544.91 Z\" fill=\"#000000\" fill-rule=\"evenodd\" fill-opacity=\"1\" /><path clip-path=\"url(#clip750)\" d=\"M2295.69 1530.21 Q2299.04 1530.93 2300.92 1533.2 Q2302.82 1535.47 2302.82 1538.8 Q2302.82 1543.92 2299.3 1546.72 Q2295.78 1549.52 2289.3 1549.52 Q2287.12 1549.52 2284.81 1549.08 Q2282.52 1548.66 2280.06 1547.81 L2280.06 1543.29 Q2282.01 1544.43 2284.32 1545.01 Q2286.64 1545.58 2289.16 1545.58 Q2293.56 1545.58 2295.85 1543.85 Q2298.16 1542.11 2298.16 1538.8 Q2298.16 1535.75 2296.01 1534.03 Q2293.88 1532.3 2290.06 1532.3 L2286.04 1532.3 L2286.04 1528.45 L2290.25 1528.45 Q2293.7 1528.45 2295.53 1527.09 Q2297.35 1525.7 2297.35 1523.11 Q2297.35 1520.45 2295.46 1519.03 Q2293.58 1517.6 2290.06 1517.6 Q2288.14 1517.6 2285.94 1518.01 Q2283.74 1518.43 2281.1 1519.31 L2281.1 1515.14 Q2283.77 1514.4 2286.08 1514.03 Q2288.42 1513.66 2290.48 1513.66 Q2295.8 1513.66 2298.91 1516.09 Q2302.01 1518.5 2302.01 1522.62 Q2302.01 1525.49 2300.36 1527.48 Q2298.72 1529.45 2295.69 1530.21 Z\" fill=\"#000000\" fill-rule=\"evenodd\" fill-opacity=\"1\" /><polyline clip-path=\"url(#clip752)\" style=\"stroke:#000000; stroke-linecap:round; stroke-linejoin:round; stroke-width:2; stroke-opacity:0.1; fill:none\" points=\"186.274,1445.72 2352.76,1445.72 \"/>\n",
       "<polyline clip-path=\"url(#clip752)\" style=\"stroke:#000000; stroke-linecap:round; stroke-linejoin:round; stroke-width:2; stroke-opacity:0.1; fill:none\" points=\"186.274,1106.28 2352.76,1106.28 \"/>\n",
       "<polyline clip-path=\"url(#clip752)\" style=\"stroke:#000000; stroke-linecap:round; stroke-linejoin:round; stroke-width:2; stroke-opacity:0.1; fill:none\" points=\"186.274,766.846 2352.76,766.846 \"/>\n",
       "<polyline clip-path=\"url(#clip752)\" style=\"stroke:#000000; stroke-linecap:round; stroke-linejoin:round; stroke-width:2; stroke-opacity:0.1; fill:none\" points=\"186.274,427.411 2352.76,427.411 \"/>\n",
       "<polyline clip-path=\"url(#clip752)\" style=\"stroke:#000000; stroke-linecap:round; stroke-linejoin:round; stroke-width:2; stroke-opacity:0.1; fill:none\" points=\"186.274,87.9763 2352.76,87.9763 \"/>\n",
       "<polyline clip-path=\"url(#clip750)\" style=\"stroke:#000000; stroke-linecap:round; stroke-linejoin:round; stroke-width:4; stroke-opacity:1; fill:none\" points=\"186.274,1486.45 186.274,47.2441 \"/>\n",
       "<polyline clip-path=\"url(#clip750)\" style=\"stroke:#000000; stroke-linecap:round; stroke-linejoin:round; stroke-width:4; stroke-opacity:1; fill:none\" points=\"186.274,1445.72 205.172,1445.72 \"/>\n",
       "<polyline clip-path=\"url(#clip750)\" style=\"stroke:#000000; stroke-linecap:round; stroke-linejoin:round; stroke-width:4; stroke-opacity:1; fill:none\" points=\"186.274,1106.28 205.172,1106.28 \"/>\n",
       "<polyline clip-path=\"url(#clip750)\" style=\"stroke:#000000; stroke-linecap:round; stroke-linejoin:round; stroke-width:4; stroke-opacity:1; fill:none\" points=\"186.274,766.846 205.172,766.846 \"/>\n",
       "<polyline clip-path=\"url(#clip750)\" style=\"stroke:#000000; stroke-linecap:round; stroke-linejoin:round; stroke-width:4; stroke-opacity:1; fill:none\" points=\"186.274,427.411 205.172,427.411 \"/>\n",
       "<polyline clip-path=\"url(#clip750)\" style=\"stroke:#000000; stroke-linecap:round; stroke-linejoin:round; stroke-width:4; stroke-opacity:1; fill:none\" points=\"186.274,87.9763 205.172,87.9763 \"/>\n",
       "<path clip-path=\"url(#clip750)\" d=\"M62.9365 1431.51 Q59.3254 1431.51 57.4967 1435.08 Q55.6912 1438.62 55.6912 1445.75 Q55.6912 1452.86 57.4967 1456.42 Q59.3254 1459.96 62.9365 1459.96 Q66.5707 1459.96 68.3763 1456.42 Q70.205 1452.86 70.205 1445.75 Q70.205 1438.62 68.3763 1435.08 Q66.5707 1431.51 62.9365 1431.51 M62.9365 1427.81 Q68.7467 1427.81 71.8022 1432.42 Q74.8809 1437 74.8809 1445.75 Q74.8809 1454.48 71.8022 1459.08 Q68.7467 1463.67 62.9365 1463.67 Q57.1264 1463.67 54.0477 1459.08 Q50.9921 1454.48 50.9921 1445.75 Q50.9921 1437 54.0477 1432.42 Q57.1264 1427.81 62.9365 1427.81 Z\" fill=\"#000000\" fill-rule=\"evenodd\" fill-opacity=\"1\" /><path clip-path=\"url(#clip750)\" d=\"M83.0984 1457.12 L87.9827 1457.12 L87.9827 1463 L83.0984 1463 L83.0984 1457.12 Z\" fill=\"#000000\" fill-rule=\"evenodd\" fill-opacity=\"1\" /><path clip-path=\"url(#clip750)\" d=\"M108.168 1431.51 Q104.557 1431.51 102.728 1435.08 Q100.922 1438.62 100.922 1445.75 Q100.922 1452.86 102.728 1456.42 Q104.557 1459.96 108.168 1459.96 Q111.802 1459.96 113.608 1456.42 Q115.436 1452.86 115.436 1445.75 Q115.436 1438.62 113.608 1435.08 Q111.802 1431.51 108.168 1431.51 M108.168 1427.81 Q113.978 1427.81 117.033 1432.42 Q120.112 1437 120.112 1445.75 Q120.112 1454.48 117.033 1459.08 Q113.978 1463.67 108.168 1463.67 Q102.358 1463.67 99.2789 1459.08 Q96.2234 1454.48 96.2234 1445.75 Q96.2234 1437 99.2789 1432.42 Q102.358 1427.81 108.168 1427.81 Z\" fill=\"#000000\" fill-rule=\"evenodd\" fill-opacity=\"1\" /><path clip-path=\"url(#clip750)\" d=\"M138.33 1431.51 Q134.719 1431.51 132.89 1435.08 Q131.084 1438.62 131.084 1445.75 Q131.084 1452.86 132.89 1456.42 Q134.719 1459.96 138.33 1459.96 Q141.964 1459.96 143.769 1456.42 Q145.598 1452.86 145.598 1445.75 Q145.598 1438.62 143.769 1435.08 Q141.964 1431.51 138.33 1431.51 M138.33 1427.81 Q144.14 1427.81 147.195 1432.42 Q150.274 1437 150.274 1445.75 Q150.274 1454.48 147.195 1459.08 Q144.14 1463.67 138.33 1463.67 Q132.519 1463.67 129.441 1459.08 Q126.385 1454.48 126.385 1445.75 Q126.385 1437 129.441 1432.42 Q132.519 1427.81 138.33 1427.81 Z\" fill=\"#000000\" fill-rule=\"evenodd\" fill-opacity=\"1\" /><path clip-path=\"url(#clip750)\" d=\"M63.9319 1092.08 Q60.3208 1092.08 58.4921 1095.64 Q56.6865 1099.19 56.6865 1106.32 Q56.6865 1113.42 58.4921 1116.99 Q60.3208 1120.53 63.9319 1120.53 Q67.5661 1120.53 69.3717 1116.99 Q71.2004 1113.42 71.2004 1106.32 Q71.2004 1099.19 69.3717 1095.64 Q67.5661 1092.08 63.9319 1092.08 M63.9319 1088.38 Q69.742 1088.38 72.7976 1092.98 Q75.8763 1097.57 75.8763 1106.32 Q75.8763 1115.04 72.7976 1119.65 Q69.742 1124.23 63.9319 1124.23 Q58.1217 1124.23 55.043 1119.65 Q51.9875 1115.04 51.9875 1106.32 Q51.9875 1097.57 55.043 1092.98 Q58.1217 1088.38 63.9319 1088.38 Z\" fill=\"#000000\" fill-rule=\"evenodd\" fill-opacity=\"1\" /><path clip-path=\"url(#clip750)\" d=\"M84.0938 1117.68 L88.978 1117.68 L88.978 1123.56 L84.0938 1123.56 L84.0938 1117.68 Z\" fill=\"#000000\" fill-rule=\"evenodd\" fill-opacity=\"1\" /><path clip-path=\"url(#clip750)\" d=\"M103.191 1119.63 L119.51 1119.63 L119.51 1123.56 L97.566 1123.56 L97.566 1119.63 Q100.228 1116.87 104.811 1112.24 Q109.418 1107.59 110.598 1106.25 Q112.844 1103.72 113.723 1101.99 Q114.626 1100.23 114.626 1098.54 Q114.626 1095.78 112.682 1094.05 Q110.76 1092.31 107.658 1092.31 Q105.459 1092.31 103.006 1093.07 Q100.575 1093.84 97.7974 1095.39 L97.7974 1090.67 Q100.621 1089.53 103.075 1088.95 Q105.529 1088.38 107.566 1088.38 Q112.936 1088.38 116.131 1091.06 Q119.325 1093.75 119.325 1098.24 Q119.325 1100.37 118.515 1102.29 Q117.728 1104.19 115.621 1106.78 Q115.043 1107.45 111.941 1110.67 Q108.839 1113.86 103.191 1119.63 Z\" fill=\"#000000\" fill-rule=\"evenodd\" fill-opacity=\"1\" /><path clip-path=\"url(#clip750)\" d=\"M129.371 1089 L147.728 1089 L147.728 1092.94 L133.654 1092.94 L133.654 1101.41 Q134.672 1101.06 135.691 1100.9 Q136.709 1100.71 137.728 1100.71 Q143.515 1100.71 146.894 1103.89 Q150.274 1107.06 150.274 1112.47 Q150.274 1118.05 146.802 1121.15 Q143.33 1124.23 137.01 1124.23 Q134.834 1124.23 132.566 1123.86 Q130.32 1123.49 127.913 1122.75 L127.913 1118.05 Q129.996 1119.19 132.219 1119.74 Q134.441 1120.3 136.918 1120.3 Q140.922 1120.3 143.26 1118.19 Q145.598 1116.08 145.598 1112.47 Q145.598 1108.86 143.26 1106.76 Q140.922 1104.65 136.918 1104.65 Q135.043 1104.65 133.168 1105.07 Q131.316 1105.48 129.371 1106.36 L129.371 1089 Z\" fill=\"#000000\" fill-rule=\"evenodd\" fill-opacity=\"1\" /><path clip-path=\"url(#clip750)\" d=\"M62.9365 752.645 Q59.3254 752.645 57.4967 756.209 Q55.6912 759.751 55.6912 766.881 Q55.6912 773.987 57.4967 777.552 Q59.3254 781.094 62.9365 781.094 Q66.5707 781.094 68.3763 777.552 Q70.205 773.987 70.205 766.881 Q70.205 759.751 68.3763 756.209 Q66.5707 752.645 62.9365 752.645 M62.9365 748.941 Q68.7467 748.941 71.8022 753.547 Q74.8809 758.131 74.8809 766.881 Q74.8809 775.608 71.8022 780.214 Q68.7467 784.797 62.9365 784.797 Q57.1264 784.797 54.0477 780.214 Q50.9921 775.608 50.9921 766.881 Q50.9921 758.131 54.0477 753.547 Q57.1264 748.941 62.9365 748.941 Z\" fill=\"#000000\" fill-rule=\"evenodd\" fill-opacity=\"1\" /><path clip-path=\"url(#clip750)\" d=\"M83.0984 778.246 L87.9827 778.246 L87.9827 784.126 L83.0984 784.126 L83.0984 778.246 Z\" fill=\"#000000\" fill-rule=\"evenodd\" fill-opacity=\"1\" /><path clip-path=\"url(#clip750)\" d=\"M98.2141 749.566 L116.57 749.566 L116.57 753.501 L102.496 753.501 L102.496 761.973 Q103.515 761.626 104.534 761.464 Q105.552 761.279 106.571 761.279 Q112.358 761.279 115.737 764.45 Q119.117 767.621 119.117 773.038 Q119.117 778.617 115.645 781.719 Q112.172 784.797 105.853 784.797 Q103.677 784.797 101.409 784.427 Q99.1632 784.057 96.7558 783.316 L96.7558 778.617 Q98.8391 779.751 101.061 780.307 Q103.284 780.862 105.76 780.862 Q109.765 780.862 112.103 778.756 Q114.441 776.649 114.441 773.038 Q114.441 769.427 112.103 767.321 Q109.765 765.214 105.76 765.214 Q103.885 765.214 102.01 765.631 Q100.159 766.047 98.2141 766.927 L98.2141 749.566 Z\" fill=\"#000000\" fill-rule=\"evenodd\" fill-opacity=\"1\" /><path clip-path=\"url(#clip750)\" d=\"M138.33 752.645 Q134.719 752.645 132.89 756.209 Q131.084 759.751 131.084 766.881 Q131.084 773.987 132.89 777.552 Q134.719 781.094 138.33 781.094 Q141.964 781.094 143.769 777.552 Q145.598 773.987 145.598 766.881 Q145.598 759.751 143.769 756.209 Q141.964 752.645 138.33 752.645 M138.33 748.941 Q144.14 748.941 147.195 753.547 Q150.274 758.131 150.274 766.881 Q150.274 775.608 147.195 780.214 Q144.14 784.797 138.33 784.797 Q132.519 784.797 129.441 780.214 Q126.385 775.608 126.385 766.881 Q126.385 758.131 129.441 753.547 Q132.519 748.941 138.33 748.941 Z\" fill=\"#000000\" fill-rule=\"evenodd\" fill-opacity=\"1\" /><path clip-path=\"url(#clip750)\" d=\"M63.9319 413.21 Q60.3208 413.21 58.4921 416.775 Q56.6865 420.316 56.6865 427.446 Q56.6865 434.552 58.4921 438.117 Q60.3208 441.659 63.9319 441.659 Q67.5661 441.659 69.3717 438.117 Q71.2004 434.552 71.2004 427.446 Q71.2004 420.316 69.3717 416.775 Q67.5661 413.21 63.9319 413.21 M63.9319 409.506 Q69.742 409.506 72.7976 414.113 Q75.8763 418.696 75.8763 427.446 Q75.8763 436.173 72.7976 440.779 Q69.742 445.362 63.9319 445.362 Q58.1217 445.362 55.043 440.779 Q51.9875 436.173 51.9875 427.446 Q51.9875 418.696 55.043 414.113 Q58.1217 409.506 63.9319 409.506 Z\" fill=\"#000000\" fill-rule=\"evenodd\" fill-opacity=\"1\" /><path clip-path=\"url(#clip750)\" d=\"M84.0938 438.812 L88.978 438.812 L88.978 444.691 L84.0938 444.691 L84.0938 438.812 Z\" fill=\"#000000\" fill-rule=\"evenodd\" fill-opacity=\"1\" /><path clip-path=\"url(#clip750)\" d=\"M97.9826 410.131 L120.205 410.131 L120.205 412.122 L107.658 444.691 L102.774 444.691 L114.58 414.066 L97.9826 414.066 L97.9826 410.131 Z\" fill=\"#000000\" fill-rule=\"evenodd\" fill-opacity=\"1\" /><path clip-path=\"url(#clip750)\" d=\"M129.371 410.131 L147.728 410.131 L147.728 414.066 L133.654 414.066 L133.654 422.538 Q134.672 422.191 135.691 422.029 Q136.709 421.844 137.728 421.844 Q143.515 421.844 146.894 425.015 Q150.274 428.187 150.274 433.603 Q150.274 439.182 146.802 442.284 Q143.33 445.362 137.01 445.362 Q134.834 445.362 132.566 444.992 Q130.32 444.622 127.913 443.881 L127.913 439.182 Q129.996 440.316 132.219 440.872 Q134.441 441.427 136.918 441.427 Q140.922 441.427 143.26 439.321 Q145.598 437.214 145.598 433.603 Q145.598 429.992 143.26 427.886 Q140.922 425.779 136.918 425.779 Q135.043 425.779 133.168 426.196 Q131.316 426.613 129.371 427.492 L129.371 410.131 Z\" fill=\"#000000\" fill-rule=\"evenodd\" fill-opacity=\"1\" /><path clip-path=\"url(#clip750)\" d=\"M53.7467 101.321 L61.3856 101.321 L61.3856 74.9555 L53.0754 76.6222 L53.0754 72.3629 L61.3393 70.6963 L66.0152 70.6963 L66.0152 101.321 L73.654 101.321 L73.654 105.256 L53.7467 105.256 L53.7467 101.321 Z\" fill=\"#000000\" fill-rule=\"evenodd\" fill-opacity=\"1\" /><path clip-path=\"url(#clip750)\" d=\"M83.0984 99.3767 L87.9827 99.3767 L87.9827 105.256 L83.0984 105.256 L83.0984 99.3767 Z\" fill=\"#000000\" fill-rule=\"evenodd\" fill-opacity=\"1\" /><path clip-path=\"url(#clip750)\" d=\"M108.168 73.775 Q104.557 73.775 102.728 77.3398 Q100.922 80.8814 100.922 88.011 Q100.922 95.1174 102.728 98.6822 Q104.557 102.224 108.168 102.224 Q111.802 102.224 113.608 98.6822 Q115.436 95.1174 115.436 88.011 Q115.436 80.8814 113.608 77.3398 Q111.802 73.775 108.168 73.775 M108.168 70.0713 Q113.978 70.0713 117.033 74.6777 Q120.112 79.261 120.112 88.011 Q120.112 96.7378 117.033 101.344 Q113.978 105.928 108.168 105.928 Q102.358 105.928 99.2789 101.344 Q96.2234 96.7378 96.2234 88.011 Q96.2234 79.261 99.2789 74.6777 Q102.358 70.0713 108.168 70.0713 Z\" fill=\"#000000\" fill-rule=\"evenodd\" fill-opacity=\"1\" /><path clip-path=\"url(#clip750)\" d=\"M138.33 73.775 Q134.719 73.775 132.89 77.3398 Q131.084 80.8814 131.084 88.011 Q131.084 95.1174 132.89 98.6822 Q134.719 102.224 138.33 102.224 Q141.964 102.224 143.769 98.6822 Q145.598 95.1174 145.598 88.011 Q145.598 80.8814 143.769 77.3398 Q141.964 73.775 138.33 73.775 M138.33 70.0713 Q144.14 70.0713 147.195 74.6777 Q150.274 79.261 150.274 88.011 Q150.274 96.7378 147.195 101.344 Q144.14 105.928 138.33 105.928 Q132.519 105.928 129.441 101.344 Q126.385 96.7378 126.385 88.011 Q126.385 79.261 129.441 74.6777 Q132.519 70.0713 138.33 70.0713 Z\" fill=\"#000000\" fill-rule=\"evenodd\" fill-opacity=\"1\" /><polyline clip-path=\"url(#clip752)\" style=\"stroke:#009af9; stroke-linecap:round; stroke-linejoin:round; stroke-width:4; stroke-opacity:1; fill:none\" points=\"247.59,87.9763 251.719,115.267 255.848,142.28 259.977,169.017 264.105,195.476 268.234,221.658 272.363,247.564 276.492,273.192 280.621,298.543 284.75,323.617 288.879,348.414 293.008,372.934 297.137,397.177 301.266,421.143 305.395,444.831 309.524,468.243 313.653,491.378 317.782,514.235 321.911,536.816 326.04,559.119 330.169,581.146 334.298,602.895 338.427,624.367 342.556,645.562 346.685,666.48 350.814,687.122 354.943,707.486 359.072,727.573 363.201,747.382 367.33,766.915 371.459,786.171 375.588,805.15 379.717,823.851 383.846,842.276 387.975,860.423 392.104,878.294 396.233,895.887 400.362,913.204 404.491,930.243 408.62,947.005 412.749,963.49 416.878,979.698 421.007,995.629 425.136,1011.28 429.265,1026.66 433.394,1041.76 437.523,1056.58 441.652,1071.13 445.781,1085.4 449.91,1099.39 454.039,1113.1 458.168,1126.54 462.297,1139.7 466.426,1152.58 470.555,1165.19 474.684,1177.52 478.813,1189.57 482.942,1201.35 487.071,1212.85 491.2,1224.07 495.329,1235.01 499.458,1245.68 503.587,1256.07 507.716,1266.18 511.845,1276.02 515.974,1285.57 520.103,1294.86 524.232,1303.86 528.361,1312.59 532.49,1321.04 536.619,1329.21 540.748,1337.11 544.877,1344.73 549.006,1352.07 553.135,1359.13 557.264,1365.92 561.393,1372.43 565.522,1378.67 569.651,1384.62 573.78,1390.3 577.909,1395.71 582.038,1400.83 586.167,1405.68 590.296,1410.25 594.425,1414.55 598.554,1418.56 602.683,1422.3 606.812,1425.77 610.941,1428.95 615.07,1431.86 619.199,1434.49 623.328,1436.85 627.457,1438.93 631.586,1440.73 635.715,1442.25 639.844,1443.5 643.973,1444.47 648.102,1445.16 652.231,1445.58 656.36,1445.72 \"/>\n",
       "<polyline clip-path=\"url(#clip752)\" style=\"stroke:#e26f46; stroke-linecap:round; stroke-linejoin:round; stroke-width:4; stroke-opacity:1; fill:none\" points=\"247.59,1445.72 255.848,1391.69 264.105,1339.32 272.363,1288.62 280.621,1239.58 288.879,1192.2 297.137,1146.49 305.395,1102.44 313.653,1060.05 321.911,1019.32 330.169,980.253 338.427,942.849 346.685,907.108 354.943,873.03 363.201,840.614 371.459,809.86 379.717,780.768 387.975,753.339 396.233,727.573 404.491,703.468 412.749,681.026 421.007,660.247 429.265,641.129 437.523,623.675 445.781,607.882 454.039,593.752 462.297,581.284 470.555,570.479 478.813,561.336 487.071,553.855 495.329,548.037 503.587,543.881 511.845,541.387 520.103,540.556 528.361,541.387 536.619,543.881 544.877,548.037 553.135,553.855 561.393,561.336 569.651,570.479 577.909,581.284 586.167,593.752 594.425,607.882 602.683,623.675 610.941,641.129 619.199,660.247 627.457,681.026 635.715,703.468 643.973,727.573 652.231,753.339 660.489,780.491 668.747,807.366 677.005,833.687 685.263,859.454 693.521,884.666 701.779,909.325 710.037,933.429 718.295,956.979 726.553,979.975 734.811,1002.42 743.069,1024.31 751.327,1045.64 759.584,1066.42 767.842,1086.64 776.1,1106.32 784.358,1125.43 792.616,1144 800.874,1162 809.132,1179.46 817.39,1196.36 825.648,1212.71 833.906,1228.5 842.164,1243.74 850.422,1258.42 858.68,1272.55 866.938,1286.13 875.196,1299.15 883.454,1311.62 891.712,1323.53 899.97,1334.89 908.228,1345.7 916.486,1355.95 924.744,1365.64 933.002,1374.79 941.26,1383.38 949.518,1391.41 957.776,1398.89 966.034,1405.82 974.292,1412.19 982.55,1418.01 990.808,1423.27 999.066,1427.98 1007.32,1432.14 1015.58,1435.74 1023.84,1438.79 1032.1,1441.28 1040.36,1443.22 1048.61,1444.61 1056.87,1445.44 1065.13,1445.72 \"/>\n",
       "<polyline clip-path=\"url(#clip752)\" style=\"stroke:#3da44d; stroke-linecap:round; stroke-linejoin:round; stroke-width:4; stroke-opacity:1; fill:none\" points=\"247.59,1445.72 259.977,1445.09 272.363,1443.22 284.75,1440.11 297.137,1435.74 309.524,1430.13 321.911,1423.27 334.298,1415.17 346.685,1405.82 359.072,1395.22 371.459,1383.38 383.846,1370.29 396.233,1355.95 408.62,1340.36 421.007,1323.53 433.394,1305.45 445.781,1286.13 458.168,1265.56 470.555,1243.74 482.942,1220.67 495.329,1196.36 507.716,1170.8 520.103,1144 532.49,1115.94 544.877,1086.64 557.264,1056.1 569.651,1024.31 582.038,991.266 594.425,956.979 606.812,921.446 619.199,884.666 631.586,846.64 643.973,807.366 656.36,766.846 668.747,726.949 681.134,689.546 693.521,654.636 705.908,622.22 718.295,592.297 730.682,564.868 743.069,539.933 755.455,517.491 767.842,497.542 780.229,480.087 792.616,465.126 805.003,452.658 817.39,442.684 829.777,435.203 842.164,430.216 854.551,427.723 866.938,427.723 879.325,430.216 891.712,435.203 904.099,442.684 916.486,452.658 928.873,465.126 941.26,480.087 953.647,497.542 966.034,517.491 978.421,539.933 990.808,564.868 1003.19,592.297 1015.58,622.22 1027.97,654.636 1040.36,689.546 1052.74,726.949 1065.13,766.846 1077.52,807.366 1089.9,846.64 1102.29,884.666 1114.68,921.446 1127.06,956.979 1139.45,991.266 1151.84,1024.31 1164.23,1056.1 1176.61,1086.64 1189,1115.94 1201.39,1144 1213.77,1170.8 1226.16,1196.36 1238.55,1220.67 1250.93,1243.74 1263.32,1265.56 1275.71,1286.13 1288.1,1305.45 1300.48,1323.53 1312.87,1340.36 1325.26,1355.95 1337.64,1370.29 1350.03,1383.38 1362.42,1395.22 1374.8,1405.82 1387.19,1415.17 1399.58,1423.27 1411.97,1430.13 1424.35,1435.74 1436.74,1440.11 1449.13,1443.22 1461.51,1445.09 1473.9,1445.72 \"/>\n",
       "<polyline clip-path=\"url(#clip752)\" style=\"stroke:#c271d2; stroke-linecap:round; stroke-linejoin:round; stroke-width:4; stroke-opacity:1; fill:none\" points=\"656.36,1445.72 668.747,1445.09 681.134,1443.22 693.521,1440.11 705.908,1435.74 718.295,1430.13 730.682,1423.27 743.069,1415.17 755.455,1405.82 767.842,1395.22 780.229,1383.38 792.616,1370.29 805.003,1355.95 817.39,1340.36 829.777,1323.53 842.164,1305.45 854.551,1286.13 866.938,1265.56 879.325,1243.74 891.712,1220.67 904.099,1196.36 916.486,1170.8 928.873,1144 941.26,1115.94 953.647,1086.64 966.034,1056.1 978.421,1024.31 990.808,991.266 1003.19,956.979 1015.58,921.446 1027.97,884.666 1040.36,846.64 1052.74,807.366 1065.13,766.846 1077.52,726.949 1089.9,689.546 1102.29,654.636 1114.68,622.22 1127.06,592.297 1139.45,564.868 1151.84,539.933 1164.23,517.491 1176.61,497.542 1189,480.087 1201.39,465.126 1213.77,452.658 1226.16,442.684 1238.55,435.203 1250.93,430.216 1263.32,427.723 1275.71,427.723 1288.1,430.216 1300.48,435.203 1312.87,442.684 1325.26,452.658 1337.64,465.126 1350.03,480.087 1362.42,497.542 1374.8,517.491 1387.19,539.933 1399.58,564.868 1411.97,592.297 1424.35,622.22 1436.74,654.636 1449.13,689.546 1461.51,726.949 1473.9,766.846 1486.29,807.366 1498.67,846.64 1511.06,884.666 1523.45,921.446 1535.83,956.979 1548.22,991.266 1560.61,1024.31 1573,1056.1 1585.38,1086.64 1597.77,1115.94 1610.16,1144 1622.54,1170.8 1634.93,1196.36 1647.32,1220.67 1659.7,1243.74 1672.09,1265.56 1684.48,1286.13 1696.87,1305.45 1709.25,1323.53 1721.64,1340.36 1734.03,1355.95 1746.41,1370.29 1758.8,1383.38 1771.19,1395.22 1783.57,1405.82 1795.96,1415.17 1808.35,1423.27 1820.74,1430.13 1833.12,1435.74 1845.51,1440.11 1857.9,1443.22 1870.28,1445.09 1882.67,1445.72 \"/>\n",
       "<polyline clip-path=\"url(#clip752)\" style=\"stroke:#ac8d18; stroke-linecap:round; stroke-linejoin:round; stroke-width:4; stroke-opacity:1; fill:none\" points=\"1065.13,1445.72 1077.52,1445.09 1089.9,1443.22 1102.29,1440.11 1114.68,1435.74 1127.06,1430.13 1139.45,1423.27 1151.84,1415.17 1164.23,1405.82 1176.61,1395.22 1189,1383.38 1201.39,1370.29 1213.77,1355.95 1226.16,1340.36 1238.55,1323.53 1250.93,1305.45 1263.32,1286.13 1275.71,1265.56 1288.1,1243.74 1300.48,1220.67 1312.87,1196.36 1325.26,1170.8 1337.64,1144 1350.03,1115.94 1362.42,1086.64 1374.8,1056.1 1387.19,1024.31 1399.58,991.266 1411.97,956.979 1424.35,921.446 1436.74,884.666 1449.13,846.64 1461.51,807.366 1473.9,766.846 1486.29,726.949 1498.67,689.546 1511.06,654.636 1523.45,622.22 1535.83,592.297 1548.22,564.868 1560.61,539.933 1573,517.491 1585.38,497.542 1597.77,480.087 1610.16,465.126 1622.54,452.658 1634.93,442.684 1647.32,435.203 1659.7,430.216 1672.09,427.723 1684.48,427.723 1696.87,430.216 1709.25,435.203 1721.64,442.684 1734.03,452.658 1746.41,465.126 1758.8,480.087 1771.19,497.542 1783.57,517.491 1795.96,539.933 1808.35,564.868 1820.74,592.297 1833.12,622.22 1845.51,654.636 1857.9,689.546 1870.28,726.949 1882.67,766.846 1895.06,807.366 1907.44,846.64 1919.83,884.666 1932.22,921.446 1944.61,956.979 1956.99,991.266 1969.38,1024.31 1981.77,1056.1 1994.15,1086.64 2006.54,1115.94 2018.93,1144 2031.31,1170.8 2043.7,1196.36 2056.09,1220.67 2068.47,1243.74 2080.86,1265.56 2093.25,1286.13 2105.64,1305.45 2118.02,1323.53 2130.41,1340.36 2142.8,1355.95 2155.18,1370.29 2167.57,1383.38 2179.96,1395.22 2192.34,1405.82 2204.73,1415.17 2217.12,1423.27 2229.51,1430.13 2241.89,1435.74 2254.28,1440.11 2266.67,1443.22 2279.05,1445.09 2291.44,1445.72 \"/>\n",
       "<polyline clip-path=\"url(#clip752)\" style=\"stroke:#00a9ad; stroke-linecap:round; stroke-linejoin:round; stroke-width:4; stroke-opacity:1; fill:none\" points=\"1473.9,1445.72 1482.16,1445.44 1490.42,1444.61 1498.67,1443.22 1506.93,1441.28 1515.19,1438.79 1523.45,1435.74 1531.71,1432.14 1539.96,1427.98 1548.22,1423.27 1556.48,1418.01 1564.74,1412.19 1573,1405.82 1581.25,1398.89 1589.51,1391.41 1597.77,1383.38 1606.03,1374.79 1614.29,1365.64 1622.54,1355.95 1630.8,1345.7 1639.06,1334.89 1647.32,1323.53 1655.58,1311.62 1663.83,1299.15 1672.09,1286.13 1680.35,1272.55 1688.61,1258.42 1696.87,1243.74 1705.12,1228.5 1713.38,1212.71 1721.64,1196.36 1729.9,1179.46 1738.16,1162 1746.41,1144 1754.67,1125.43 1762.93,1106.32 1771.19,1086.64 1779.45,1066.42 1787.7,1045.64 1795.96,1024.31 1804.22,1002.42 1812.48,979.975 1820.74,956.979 1828.99,933.429 1837.25,909.325 1845.51,884.666 1853.77,859.454 1862.03,833.687 1870.28,807.366 1878.54,780.491 1886.8,753.339 1895.06,727.573 1903.32,703.468 1911.57,681.026 1919.83,660.247 1928.09,641.129 1936.35,623.675 1944.61,607.882 1952.86,593.752 1961.12,581.284 1969.38,570.479 1977.64,561.336 1985.89,553.855 1994.15,548.037 2002.41,543.881 2010.67,541.387 2018.93,540.556 2027.18,541.387 2035.44,543.881 2043.7,548.037 2051.96,553.855 2060.22,561.336 2068.47,570.479 2076.73,581.284 2084.99,593.752 2093.25,607.882 2101.51,623.675 2109.76,641.129 2118.02,660.247 2126.28,681.026 2134.54,703.468 2142.8,727.573 2151.05,753.339 2159.31,780.768 2167.57,809.86 2175.83,840.614 2184.09,873.03 2192.34,907.108 2200.6,942.849 2208.86,980.253 2217.12,1019.32 2225.38,1060.05 2233.63,1102.44 2241.89,1146.49 2250.15,1192.2 2258.41,1239.58 2266.67,1288.62 2274.92,1339.32 2283.18,1391.69 2291.44,1445.72 \"/>\n",
       "<polyline clip-path=\"url(#clip752)\" style=\"stroke:#ed5d92; stroke-linecap:round; stroke-linejoin:round; stroke-width:4; stroke-opacity:1; fill:none\" points=\"1882.67,1445.72 1886.8,1445.58 1890.93,1445.16 1895.06,1444.47 1899.19,1443.5 1903.32,1442.25 1907.44,1440.73 1911.57,1438.93 1915.7,1436.85 1919.83,1434.49 1923.96,1431.86 1928.09,1428.95 1932.22,1425.77 1936.35,1422.3 1940.48,1418.56 1944.61,1414.55 1948.73,1410.25 1952.86,1405.68 1956.99,1400.83 1961.12,1395.71 1965.25,1390.3 1969.38,1384.62 1973.51,1378.67 1977.64,1372.43 1981.77,1365.92 1985.89,1359.13 1990.02,1352.07 1994.15,1344.73 1998.28,1337.11 2002.41,1329.21 2006.54,1321.04 2010.67,1312.59 2014.8,1303.86 2018.93,1294.86 2023.06,1285.57 2027.18,1276.02 2031.31,1266.18 2035.44,1256.07 2039.57,1245.68 2043.7,1235.01 2047.83,1224.07 2051.96,1212.85 2056.09,1201.35 2060.22,1189.57 2064.35,1177.52 2068.47,1165.19 2072.6,1152.58 2076.73,1139.7 2080.86,1126.54 2084.99,1113.1 2089.12,1099.39 2093.25,1085.4 2097.38,1071.13 2101.51,1056.58 2105.64,1041.76 2109.76,1026.66 2113.89,1011.28 2118.02,995.629 2122.15,979.698 2126.28,963.49 2130.41,947.005 2134.54,930.243 2138.67,913.204 2142.8,895.887 2146.93,878.294 2151.05,860.423 2155.18,842.276 2159.31,823.851 2163.44,805.15 2167.57,786.171 2171.7,766.915 2175.83,747.382 2179.96,727.573 2184.09,707.486 2188.22,687.122 2192.34,666.48 2196.47,645.562 2200.6,624.367 2204.73,602.895 2208.86,581.146 2212.99,559.119 2217.12,536.816 2221.25,514.235 2225.38,491.378 2229.51,468.243 2233.63,444.831 2237.76,421.143 2241.89,397.177 2246.02,372.934 2250.15,348.414 2254.28,323.617 2258.41,298.543 2262.54,273.192 2266.67,247.564 2270.8,221.658 2274.92,195.476 2279.05,169.017 2283.18,142.28 2287.31,115.267 2291.44,87.9763 \"/>\n",
       "<path clip-path=\"url(#clip750)\" d=\"M2038.71 509.938 L2280.54 509.938 L2280.54 95.2176 L2038.71 95.2176  Z\" fill=\"#ffffff\" fill-rule=\"evenodd\" fill-opacity=\"1\"/>\n",
       "<polyline clip-path=\"url(#clip750)\" style=\"stroke:#000000; stroke-linecap:round; stroke-linejoin:round; stroke-width:4; stroke-opacity:1; fill:none\" points=\"2038.71,509.938 2280.54,509.938 2280.54,95.2176 2038.71,95.2176 2038.71,509.938 \"/>\n",
       "<polyline clip-path=\"url(#clip750)\" style=\"stroke:#009af9; stroke-linecap:round; stroke-linejoin:round; stroke-width:4; stroke-opacity:1; fill:none\" points=\"2062.78,147.058 2207.21,147.058 \"/>\n",
       "<path clip-path=\"url(#clip750)\" d=\"M2231.95 160.402 L2239.59 160.402 L2239.59 134.037 L2231.28 135.703 L2231.28 131.444 L2239.55 129.778 L2244.22 129.778 L2244.22 160.402 L2251.86 160.402 L2251.86 164.338 L2231.95 164.338 L2231.95 160.402 Z\" fill=\"#000000\" fill-rule=\"evenodd\" fill-opacity=\"1\" /><polyline clip-path=\"url(#clip750)\" style=\"stroke:#e26f46; stroke-linecap:round; stroke-linejoin:round; stroke-width:4; stroke-opacity:1; fill:none\" points=\"2062.78,198.898 2207.21,198.898 \"/>\n",
       "<path clip-path=\"url(#clip750)\" d=\"M2236.91 212.242 L2253.23 212.242 L2253.23 216.178 L2231.28 216.178 L2231.28 212.242 Q2233.94 209.488 2238.53 204.858 Q2243.13 200.205 2244.32 198.863 Q2246.56 196.34 2247.44 194.604 Q2248.34 192.844 2248.34 191.155 Q2248.34 188.4 2246.4 186.664 Q2244.48 184.928 2241.38 184.928 Q2239.18 184.928 2236.72 185.692 Q2234.29 186.455 2231.51 188.006 L2231.51 183.284 Q2234.34 182.15 2236.79 181.571 Q2239.25 180.993 2241.28 180.993 Q2246.65 180.993 2249.85 183.678 Q2253.04 186.363 2253.04 190.854 Q2253.04 192.983 2252.23 194.905 Q2251.44 196.803 2249.34 199.395 Q2248.76 200.067 2245.66 203.284 Q2242.56 206.479 2236.91 212.242 Z\" fill=\"#000000\" fill-rule=\"evenodd\" fill-opacity=\"1\" /><polyline clip-path=\"url(#clip750)\" style=\"stroke:#3da44d; stroke-linecap:round; stroke-linejoin:round; stroke-width:4; stroke-opacity:1; fill:none\" points=\"2062.78,250.738 2207.21,250.738 \"/>\n",
       "<path clip-path=\"url(#clip750)\" d=\"M2246.91 249.383 Q2250.26 250.101 2252.14 252.369 Q2254.04 254.638 2254.04 257.971 Q2254.04 263.087 2250.52 265.888 Q2247 268.689 2240.52 268.689 Q2238.34 268.689 2236.03 268.249 Q2233.74 267.832 2231.28 266.976 L2231.28 262.462 Q2233.23 263.596 2235.54 264.175 Q2237.86 264.754 2240.38 264.754 Q2244.78 264.754 2247.07 263.018 Q2249.38 261.281 2249.38 257.971 Q2249.38 254.916 2247.23 253.203 Q2245.1 251.467 2241.28 251.467 L2237.25 251.467 L2237.25 247.624 L2241.47 247.624 Q2244.92 247.624 2246.75 246.258 Q2248.57 244.87 2248.57 242.277 Q2248.57 239.615 2246.68 238.203 Q2244.8 236.768 2241.28 236.768 Q2239.36 236.768 2237.16 237.184 Q2234.96 237.601 2232.32 238.481 L2232.32 234.314 Q2234.99 233.573 2237.3 233.203 Q2239.64 232.833 2241.7 232.833 Q2247.02 232.833 2250.13 235.263 Q2253.23 237.67 2253.23 241.791 Q2253.23 244.661 2251.58 246.652 Q2249.94 248.62 2246.91 249.383 Z\" fill=\"#000000\" fill-rule=\"evenodd\" fill-opacity=\"1\" /><polyline clip-path=\"url(#clip750)\" style=\"stroke:#c271d2; stroke-linecap:round; stroke-linejoin:round; stroke-width:4; stroke-opacity:1; fill:none\" points=\"2062.78,302.578 2207.21,302.578 \"/>\n",
       "<path clip-path=\"url(#clip750)\" d=\"M2246.88 289.372 L2235.08 307.821 L2246.88 307.821 L2246.88 289.372 M2245.66 285.298 L2251.54 285.298 L2251.54 307.821 L2256.47 307.821 L2256.47 311.709 L2251.54 311.709 L2251.54 319.858 L2246.88 319.858 L2246.88 311.709 L2231.28 311.709 L2231.28 307.196 L2245.66 285.298 Z\" fill=\"#000000\" fill-rule=\"evenodd\" fill-opacity=\"1\" /><polyline clip-path=\"url(#clip750)\" style=\"stroke:#ac8d18; stroke-linecap:round; stroke-linejoin:round; stroke-width:4; stroke-opacity:1; fill:none\" points=\"2062.78,354.418 2207.21,354.418 \"/>\n",
       "<path clip-path=\"url(#clip750)\" d=\"M2232.74 337.138 L2251.1 337.138 L2251.1 341.073 L2237.02 341.073 L2237.02 349.545 Q2238.04 349.198 2239.06 349.036 Q2240.08 348.85 2241.1 348.85 Q2246.88 348.85 2250.26 352.022 Q2253.64 355.193 2253.64 360.61 Q2253.64 366.188 2250.17 369.29 Q2246.7 372.369 2240.38 372.369 Q2238.2 372.369 2235.94 371.998 Q2233.69 371.628 2231.28 370.887 L2231.28 366.188 Q2233.37 367.323 2235.59 367.878 Q2237.81 368.434 2240.29 368.434 Q2244.29 368.434 2246.63 366.327 Q2248.97 364.221 2248.97 360.61 Q2248.97 356.999 2246.63 354.892 Q2244.29 352.786 2240.29 352.786 Q2238.41 352.786 2236.54 353.202 Q2234.69 353.619 2232.74 354.499 L2232.74 337.138 Z\" fill=\"#000000\" fill-rule=\"evenodd\" fill-opacity=\"1\" /><polyline clip-path=\"url(#clip750)\" style=\"stroke:#00a9ad; stroke-linecap:round; stroke-linejoin:round; stroke-width:4; stroke-opacity:1; fill:none\" points=\"2062.78,406.258 2207.21,406.258 \"/>\n",
       "<path clip-path=\"url(#clip750)\" d=\"M2243.62 404.394 Q2240.47 404.394 2238.62 406.547 Q2236.79 408.7 2236.79 412.45 Q2236.79 416.176 2238.62 418.352 Q2240.47 420.505 2243.62 420.505 Q2246.77 420.505 2248.6 418.352 Q2250.45 416.176 2250.45 412.45 Q2250.45 408.7 2248.6 406.547 Q2246.77 404.394 2243.62 404.394 M2252.9 389.741 L2252.9 394.001 Q2251.14 393.167 2249.34 392.728 Q2247.56 392.288 2245.8 392.288 Q2241.17 392.288 2238.71 395.413 Q2236.28 398.538 2235.94 404.857 Q2237.3 402.843 2239.36 401.778 Q2241.42 400.69 2243.9 400.69 Q2249.11 400.69 2252.12 403.862 Q2255.15 407.01 2255.15 412.45 Q2255.15 417.774 2252 420.991 Q2248.85 424.209 2243.62 424.209 Q2237.63 424.209 2234.45 419.626 Q2231.28 415.019 2231.28 406.292 Q2231.28 398.098 2235.17 393.237 Q2239.06 388.353 2245.61 388.353 Q2247.37 388.353 2249.15 388.7 Q2250.96 389.047 2252.9 389.741 Z\" fill=\"#000000\" fill-rule=\"evenodd\" fill-opacity=\"1\" /><polyline clip-path=\"url(#clip750)\" style=\"stroke:#ed5d92; stroke-linecap:round; stroke-linejoin:round; stroke-width:4; stroke-opacity:1; fill:none\" points=\"2062.78,458.098 2207.21,458.098 \"/>\n",
       "<path clip-path=\"url(#clip750)\" d=\"M2231.28 440.818 L2253.5 440.818 L2253.5 442.808 L2240.96 475.378 L2236.07 475.378 L2247.88 444.753 L2231.28 444.753 L2231.28 440.818 Z\" fill=\"#000000\" fill-rule=\"evenodd\" fill-opacity=\"1\" /></svg>\n"
      ]
     },
     "execution_count": 3,
     "metadata": {},
     "output_type": "execute_result"
    }
   ],
   "source": [
    "Plots.plot(spline_basis)\n"
   ]
  },
  {
   "cell_type": "markdown",
   "id": "e8fc7ed9",
   "metadata": {},
   "source": [
    "Approximate any given function:"
   ]
  },
  {
   "cell_type": "code",
   "execution_count": 5,
   "id": "e4d812b2",
   "metadata": {},
   "outputs": [
    {
     "data": {
      "text/plain": [
       "f_sin (generic function with 1 method)"
      ]
     },
     "execution_count": 5,
     "metadata": {},
     "output_type": "execute_result"
    }
   ],
   "source": [
    "f_sin(x)=cos(x^2)"
   ]
  },
  {
   "cell_type": "code",
   "execution_count": 10,
   "id": "cfa021ef",
   "metadata": {},
   "outputs": [
    {
     "data": {
      "text/plain": [
       "Spline{BSplineBasis{StepRangeLen{Float64, Base.TwicePrecision{Float64}, Base.TwicePrecision{Float64}}}, Vector{Float64}}:\n",
       " basis: 7-element BSplineBasis{StepRangeLen{Float64, Base.TwicePrecision{Float64}, Base.TwicePrecision{Float64}}}:\n",
       "  order: 3\n",
       "  breakpoints: -3.0000000001:1.20000000004:3.0000000001\n",
       " coeffs: [-0.91113, 1.82507, -0.373238, 1.45775, -0.373238, 1.82507, -0.91113]"
      ]
     },
     "execution_count": 10,
     "metadata": {},
     "output_type": "execute_result"
    }
   ],
   "source": [
    "spl_approx = approximate(f_sin, spline_basis)"
   ]
  },
  {
   "cell_type": "markdown",
   "id": "37d57474",
   "metadata": {},
   "source": [
    "Plot approximation with exact function:"
   ]
  },
  {
   "cell_type": "code",
   "execution_count": 39,
   "id": "547b98b6",
   "metadata": {},
   "outputs": [
    {
     "data": {
      "application/vnd.plotly.v1+json": {
       "config": {
        "editable": false,
        "responsive": true,
        "scrollZoom": true,
        "showLink": false,
        "staticPlot": false
       },
       "data": [
        {
         "mode": "lines",
         "name": "Exact function value",
         "type": "scatter",
         "x": [
          -3,
          -2.99,
          -2.98,
          -2.97,
          -2.96,
          -2.95,
          -2.94,
          -2.93,
          -2.92,
          -2.91,
          -2.9,
          -2.89,
          -2.88,
          -2.87,
          -2.86,
          -2.85,
          -2.84,
          -2.83,
          -2.82,
          -2.81,
          -2.8,
          -2.79,
          -2.78,
          -2.77,
          -2.76,
          -2.75,
          -2.74,
          -2.73,
          -2.72,
          -2.71,
          -2.7,
          -2.69,
          -2.68,
          -2.67,
          -2.66,
          -2.65,
          -2.64,
          -2.63,
          -2.62,
          -2.61,
          -2.6,
          -2.59,
          -2.58,
          -2.57,
          -2.56,
          -2.55,
          -2.54,
          -2.53,
          -2.52,
          -2.51,
          -2.5,
          -2.49,
          -2.48,
          -2.47,
          -2.46,
          -2.45,
          -2.44,
          -2.43,
          -2.42,
          -2.41,
          -2.4,
          -2.39,
          -2.38,
          -2.37,
          -2.36,
          -2.35,
          -2.34,
          -2.33,
          -2.32,
          -2.31,
          -2.3,
          -2.29,
          -2.28,
          -2.27,
          -2.26,
          -2.25,
          -2.24,
          -2.23,
          -2.22,
          -2.21,
          -2.2,
          -2.19,
          -2.18,
          -2.17,
          -2.16,
          -2.15,
          -2.14,
          -2.13,
          -2.12,
          -2.11,
          -2.1,
          -2.09,
          -2.08,
          -2.07,
          -2.06,
          -2.05,
          -2.04,
          -2.03,
          -2.02,
          -2.01,
          -2,
          -1.99,
          -1.98,
          -1.97,
          -1.96,
          -1.95,
          -1.94,
          -1.93,
          -1.92,
          -1.91,
          -1.9,
          -1.89,
          -1.88,
          -1.87,
          -1.86,
          -1.85,
          -1.84,
          -1.83,
          -1.82,
          -1.81,
          -1.8,
          -1.79,
          -1.78,
          -1.77,
          -1.76,
          -1.75,
          -1.74,
          -1.73,
          -1.72,
          -1.71,
          -1.7,
          -1.69,
          -1.68,
          -1.67,
          -1.66,
          -1.65,
          -1.64,
          -1.63,
          -1.62,
          -1.61,
          -1.6,
          -1.59,
          -1.58,
          -1.57,
          -1.56,
          -1.55,
          -1.54,
          -1.53,
          -1.52,
          -1.51,
          -1.5,
          -1.49,
          -1.48,
          -1.47,
          -1.46,
          -1.45,
          -1.44,
          -1.43,
          -1.42,
          -1.41,
          -1.4,
          -1.39,
          -1.38,
          -1.37,
          -1.36,
          -1.35,
          -1.34,
          -1.33,
          -1.32,
          -1.31,
          -1.3,
          -1.29,
          -1.28,
          -1.27,
          -1.26,
          -1.25,
          -1.24,
          -1.23,
          -1.22,
          -1.21,
          -1.2,
          -1.19,
          -1.18,
          -1.17,
          -1.16,
          -1.15,
          -1.14,
          -1.13,
          -1.12,
          -1.11,
          -1.1,
          -1.09,
          -1.08,
          -1.07,
          -1.06,
          -1.05,
          -1.04,
          -1.03,
          -1.02,
          -1.01,
          -1,
          -0.99,
          -0.98,
          -0.97,
          -0.96,
          -0.95,
          -0.94,
          -0.93,
          -0.92,
          -0.91,
          -0.9,
          -0.89,
          -0.88,
          -0.87,
          -0.86,
          -0.85,
          -0.84,
          -0.83,
          -0.82,
          -0.81,
          -0.8,
          -0.79,
          -0.78,
          -0.77,
          -0.76,
          -0.75,
          -0.74,
          -0.73,
          -0.72,
          -0.71,
          -0.7,
          -0.69,
          -0.68,
          -0.67,
          -0.66,
          -0.65,
          -0.64,
          -0.63,
          -0.62,
          -0.61,
          -0.6,
          -0.59,
          -0.58,
          -0.57,
          -0.56,
          -0.55,
          -0.54,
          -0.53,
          -0.52,
          -0.51,
          -0.5,
          -0.49,
          -0.48,
          -0.47,
          -0.46,
          -0.45,
          -0.44,
          -0.43,
          -0.42,
          -0.41,
          -0.4,
          -0.39,
          -0.38,
          -0.37,
          -0.36,
          -0.35,
          -0.34,
          -0.33,
          -0.32,
          -0.31,
          -0.3,
          -0.29,
          -0.28,
          -0.27,
          -0.26,
          -0.25,
          -0.24,
          -0.23,
          -0.22,
          -0.21,
          -0.2,
          -0.19,
          -0.18,
          -0.17,
          -0.16,
          -0.15,
          -0.14,
          -0.13,
          -0.12,
          -0.11,
          -0.1,
          -0.09,
          -0.08,
          -0.07,
          -0.06,
          -0.05,
          -0.04,
          -0.03,
          -0.02,
          -0.01,
          0,
          0.01,
          0.02,
          0.03,
          0.04,
          0.05,
          0.06,
          0.07,
          0.08,
          0.09,
          0.1,
          0.11,
          0.12,
          0.13,
          0.14,
          0.15,
          0.16,
          0.17,
          0.18,
          0.19,
          0.2,
          0.21,
          0.22,
          0.23,
          0.24,
          0.25,
          0.26,
          0.27,
          0.28,
          0.29,
          0.3,
          0.31,
          0.32,
          0.33,
          0.34,
          0.35,
          0.36,
          0.37,
          0.38,
          0.39,
          0.4,
          0.41,
          0.42,
          0.43,
          0.44,
          0.45,
          0.46,
          0.47,
          0.48,
          0.49,
          0.5,
          0.51,
          0.52,
          0.53,
          0.54,
          0.55,
          0.56,
          0.57,
          0.58,
          0.59,
          0.6,
          0.61,
          0.62,
          0.63,
          0.64,
          0.65,
          0.66,
          0.67,
          0.68,
          0.69,
          0.7,
          0.71,
          0.72,
          0.73,
          0.74,
          0.75,
          0.76,
          0.77,
          0.78,
          0.79,
          0.8,
          0.81,
          0.82,
          0.83,
          0.84,
          0.85,
          0.86,
          0.87,
          0.88,
          0.89,
          0.9,
          0.91,
          0.92,
          0.93,
          0.94,
          0.95,
          0.96,
          0.97,
          0.98,
          0.99,
          1,
          1.01,
          1.02,
          1.03,
          1.04,
          1.05,
          1.06,
          1.07,
          1.08,
          1.09,
          1.1,
          1.11,
          1.12,
          1.13,
          1.14,
          1.15,
          1.16,
          1.17,
          1.18,
          1.19,
          1.2,
          1.21,
          1.22,
          1.23,
          1.24,
          1.25,
          1.26,
          1.27,
          1.28,
          1.29,
          1.3,
          1.31,
          1.32,
          1.33,
          1.34,
          1.35,
          1.36,
          1.37,
          1.38,
          1.39,
          1.4,
          1.41,
          1.42,
          1.43,
          1.44,
          1.45,
          1.46,
          1.47,
          1.48,
          1.49,
          1.5,
          1.51,
          1.52,
          1.53,
          1.54,
          1.55,
          1.56,
          1.57,
          1.58,
          1.59,
          1.6,
          1.61,
          1.62,
          1.63,
          1.64,
          1.65,
          1.66,
          1.67,
          1.68,
          1.69,
          1.7,
          1.71,
          1.72,
          1.73,
          1.74,
          1.75,
          1.76,
          1.77,
          1.78,
          1.79,
          1.8,
          1.81,
          1.82,
          1.83,
          1.84,
          1.85,
          1.86,
          1.87,
          1.88,
          1.89,
          1.9,
          1.91,
          1.92,
          1.93,
          1.94,
          1.95,
          1.96,
          1.97,
          1.98,
          1.99,
          2,
          2.01,
          2.02,
          2.03,
          2.04,
          2.05,
          2.06,
          2.07,
          2.08,
          2.09,
          2.1,
          2.11,
          2.12,
          2.13,
          2.14,
          2.15,
          2.16,
          2.17,
          2.18,
          2.19,
          2.2,
          2.21,
          2.22,
          2.23,
          2.24,
          2.25,
          2.26,
          2.27,
          2.28,
          2.29,
          2.3,
          2.31,
          2.32,
          2.33,
          2.34,
          2.35,
          2.36,
          2.37,
          2.38,
          2.39,
          2.4,
          2.41,
          2.42,
          2.43,
          2.44,
          2.45,
          2.46,
          2.47,
          2.48,
          2.49,
          2.5,
          2.51,
          2.52,
          2.53,
          2.54,
          2.55,
          2.56,
          2.57,
          2.58,
          2.59,
          2.6,
          2.61,
          2.62,
          2.63,
          2.64,
          2.65,
          2.66,
          2.67,
          2.68,
          2.69,
          2.7,
          2.71,
          2.72,
          2.73,
          2.74,
          2.75,
          2.76,
          2.77,
          2.78,
          2.79,
          2.8,
          2.81,
          2.82,
          2.83,
          2.84,
          2.85,
          2.86,
          2.87,
          2.88,
          2.89,
          2.9,
          2.91,
          2.92,
          2.93,
          2.94,
          2.95,
          2.96,
          2.97,
          2.98,
          2.99,
          3
         ],
         "y": [
          -0.9111302618846769,
          -0.8848250406128249,
          -0.8554496017114966,
          -0.8231397531074099,
          -0.788039784240371,
          -0.7503017274265742,
          -0.7100846094093743,
          -0.6675536965440778,
          -0.6228797369600898,
          -0.5762382029297376,
          -0.5278085365487928,
          -0.47777340170081173,
          -0.42631794513625865,
          -0.3736290693497265,
          -0.3198947197848334,
          -0.2653031887380047,
          -0.21004243816997037,
          -0.1542994434687387,
          -0.09825956004048796,
          -0.04210591443666605,
          0.013981178443113675,
          0.06982477070068993,
          0.12525180813674303,
          0.1800936272558174,
          0.23418642170118717,
          0.28737167740046654,
          0.33949657585812465,
          0.3904143651815994,
          0.4399846985737105,
          0.48807394016467937,
          0.5345554381919911,
          0.5793097656655013,
          0.6222249287778158,
          0.663196543436393,
          0.7021279804032489,
          0.7389304796309951,
          0.7735232344795376,
          0.8058334465865289,
          0.8357963522461364,
          0.8633552212251988,
          0.888461329013091,
          0.911073903562009,
          0.9311600476276214,
          0.94869463786662,
          0.9636602018873828,
          0.9760467744832713,
          0.9858517343048596,
          0.9930796222481231,
          0.9977419428502904,
          0.9998569499940764,
          0.9994494182244994,
          0.996550400980775,
          0.9911969770390794,
          0.9834319864506063,
          0.9733037572435368,
          0.9608658241376364,
          0.946176640496402,
          0.9292992847143938,
          0.9103011622067483,
          0.8892537041343389,
          0.8662320639617282,
          0.8413148129063924,
          0.8145836352968172,
          0.7861230248143775,
          0.7560199825495327,
          0.7243637177572209,
          0.6912453521494637,
          0.6567576285155943,
          0.6209946244120852,
          0.5840514716153311,
          0.5460240819816476,
          0.5070088803098808,
          0.46710254475311785,
          0.42640175527762864,
          0.38500295061912754,
          0.3430020941392817,
          0.30049444893884486,
          0.25757436253838567,
          0.21433506139308423,
          0.1708684554648464,
          0.12726495303305702,
          0.08361328588463511,
          0.040000344984999825,
          -0.00348897330614383,
          -0.04677191044623929,
          -0.08976797835506,
          -0.13239908153281055,
          -0.17458962872143075,
          -0.21626663420859638,
          -0.25735980890155513,
          -0.29780164132363307,
          -0.3375274687104066,
          -0.37647553840472125,
          -0.4145870597704022,
          -0.45180624686324455,
          -0.488080352115125,
          -0.523359691302457,
          -0.5575976600841372,
          -0.5907507424063277,
          -0.6227785110821663,
          -0.6536436208636119,
          -0.6833117943304499,
          -0.7117518009276909,
          -0.7389354294876332,
          -0.7648374545764566,
          -0.7894355970076271,
          -0.8127104788656122,
          -0.834645573383466,
          -0.8552271500168643,
          -0.8744442150551596,
          -0.8922884481070684,
          -0.9087541347947639,
          -0.9238380959854632,
          -0.9375396138841586,
          -0.9498603553049823,
          -0.9608042924318759,
          -0.9703776213718466,
          -0.9785886787961211,
          -0.9854478569560975,
          -0.9909675173521154,
          -0.9951619033238304,
          -0.9980470518213969,
          -0.9996407046068132,
          -0.9999622191246854,
          -0.9990324792713898,
          -0.9968738062811815,
          -0.9935098699372615,
          -0.9889656003052117,
          -0.9832671001755705,
          -0.9764415583916932,
          -0.9685171642284465,
          -0.9595230229767598,
          -0.9494890728786257,
          -0.9384460035468376,
          -0.9264251759935894,
          -0.9134585443820821,
          -0.899578579605476,
          -0.8848181947879565,
          -0.8692106727933118,
          -0.8527895958173228,
          -0.8355887771314079,
          -0.8176421950363754,
          -0.7989839290768541,
          -0.7796480985589416,
          -0.7596688034059178,
          -0.7390800673794445,
          -0.7179157836865928,
          -0.6962096629862427,
          -0.6739951838019318,
          -0.6513055453420891,
          -0.6281736227227391,
          -0.604631924582259,
          -0.5807125530725574,
          -0.5564471662061612,
          -0.5318669425341097,
          -0.5070025481252841,
          -0.4818841058138166,
          -0.45654116667755335,
          -0.43100268370713846,
          -0.4052969876221835,
          -0.3794517647881543,
          -0.3534940371850233,
          -0.32745014437644454,
          -0.30134572742613785,
          -0.27520571470635724,
          -0.2490543095417472,
          -0.22291497963052095,
          -0.19681044818376797,
          -0.17076268672276887,
          -0.14479290947345408,
          -0.11892156929661243,
          -0.09316835509208457,
          -0.06755219061498859,
          -0.04209123464199519,
          -0.016802882425791896,
          0.008296231623858378,
          0.03319023009365279,
          0.05786398761554837,
          0.08230312487083817,
          0.10649400160877497,
          0.13042370873814554,
          0.15408005954925874,
          0.17745158012277146,
          0.20052749898066635,
          0.2232977360335118,
          0.2457528908768898,
          0.26788423048857046,
          0.28968367637666725,
          0.3111437912275983,
          0.33225776510125954,
          0.3530194012193302,
          0.3734231013911583,
          0.3934638511201443,
          0.41313720443201646,
          0.4324392684648503,
          0.45136668785913436,
          0.4699166289846297,
          0.4880867640392285,
          0.50587525505346,
          0.5232807378327669,
          0.5403023058681398,
          0.5569394942441939,
          0.5731922635722762,
          0.589060983974718,
          0.6045464191449003,
          0.6196497105063699,
          0.6343723614928503,
          0.6487162219696165,
          0.6626834728153681,
          0.6762766106824172,
          0.689498432951747,
          0.7023520228982385,
          0.7148407350801673,
          0.7269681809658972,
          0.7387382148095629,
          0.7501549197864334,
          0.7612225943975944,
          0.7719457391525536,
          0.7823290435373987,
          0.7923773732751808,
          0.8020957578842925,
          0.8114893785397337,
          0.8205635562413237,
          0.8293237402921235,
          0.8377754970895652,
          0.8459244992310679,
          0.8537765149352233,
          0.8613373977789861,
          0.8686130767506834,
          0.8756095466180721,
          0.8823328586101216,
          0.888789111410682,
          0.8949844424617099,
          0.9009250195732674,
          0.9066170328370847,
          0.9120666868400829,
          0.9172801931738822,
          0.9222637632359839,
          0.9270236013180002,
          0.9315658979760197,
          0.9358968236779348,
          0.9400225227223185,
          0.9439491074232244,
          0.9476826525550945,
          0.9512291900517834,
          0.9545947039535627,
          0.9577851255958405,
          0.9608063290332142,
          0.9636641266923894,
          0.9663642652474169,
          0.9689124217106447,
          0.9713141997327367,
          0.973575126105082,
          0.9757006474579073,
          0.9776961271473993,
          0.9795668423251612,
          0.9813179811833497,
          0.9829546403688724,
          0.9844818225600774,
          0.9859044341994153,
          0.9872272833756269,
          0.9884550778490798,
          0.9895924232139617,
          0.9906438211911284,
          0.9916136680455027,
          0.9925062531220232,
          0.9933257574942547,
          0.9940762527198866,
          0.994761699697469,
          0.9953859476188603,
          0.9959527330119943,
          0.9964656788687066,
          0.9969282938525031,
          0.9973439715812904,
          0.9977159899802397,
          0.9980475107000991,
          0.9983415785964227,
          0.9986011212653365,
          0.9988289486316196,
          0.9990277525850313,
          0.9992001066609779,
          0.999348465761772,
          0.9994751659148957,
          0.9995824240648468,
          0.9996723378953062,
          0.9997468856785308,
          0.9998079261490423,
          0.9998571983988457,
          0.9998963217915781,
          0.9999267958931577,
          0.9999500004166653,
          0.999967195179361,
          0.999979520069905,
          0.99998799502402,
          0.9999935200069984,
          0.9999968750016276,
          0.999998720000273,
          0.9999995950000273,
          0.999999920000001,
          0.999999995,
          1,
          0.999999995,
          0.999999920000001,
          0.9999995950000273,
          0.999998720000273,
          0.9999968750016276,
          0.9999935200069984,
          0.99998799502402,
          0.999979520069905,
          0.999967195179361,
          0.9999500004166653,
          0.9999267958931577,
          0.9998963217915781,
          0.9998571983988457,
          0.9998079261490423,
          0.9997468856785308,
          0.9996723378953062,
          0.9995824240648468,
          0.9994751659148957,
          0.999348465761772,
          0.9992001066609779,
          0.9990277525850313,
          0.9988289486316196,
          0.9986011212653365,
          0.9983415785964227,
          0.9980475107000991,
          0.9977159899802397,
          0.9973439715812904,
          0.9969282938525031,
          0.9964656788687066,
          0.9959527330119943,
          0.9953859476188603,
          0.994761699697469,
          0.9940762527198866,
          0.9933257574942547,
          0.9925062531220232,
          0.9916136680455027,
          0.9906438211911284,
          0.9895924232139617,
          0.9884550778490798,
          0.9872272833756269,
          0.9859044341994153,
          0.9844818225600774,
          0.9829546403688724,
          0.9813179811833497,
          0.9795668423251612,
          0.9776961271473993,
          0.9757006474579073,
          0.973575126105082,
          0.9713141997327367,
          0.9689124217106447,
          0.9663642652474169,
          0.9636641266923894,
          0.9608063290332142,
          0.9577851255958405,
          0.9545947039535627,
          0.9512291900517834,
          0.9476826525550945,
          0.9439491074232244,
          0.9400225227223185,
          0.9358968236779348,
          0.9315658979760197,
          0.9270236013180002,
          0.9222637632359839,
          0.9172801931738822,
          0.9120666868400829,
          0.9066170328370847,
          0.9009250195732674,
          0.8949844424617099,
          0.888789111410682,
          0.8823328586101216,
          0.8756095466180721,
          0.8686130767506834,
          0.8613373977789861,
          0.8537765149352233,
          0.8459244992310679,
          0.8377754970895652,
          0.8293237402921235,
          0.8205635562413237,
          0.8114893785397337,
          0.8020957578842925,
          0.7923773732751808,
          0.7823290435373987,
          0.7719457391525536,
          0.7612225943975944,
          0.7501549197864334,
          0.7387382148095629,
          0.7269681809658972,
          0.7148407350801673,
          0.7023520228982385,
          0.689498432951747,
          0.6762766106824172,
          0.6626834728153681,
          0.6487162219696165,
          0.6343723614928503,
          0.6196497105063699,
          0.6045464191449003,
          0.589060983974718,
          0.5731922635722762,
          0.5569394942441939,
          0.5403023058681398,
          0.5232807378327669,
          0.50587525505346,
          0.4880867640392285,
          0.4699166289846297,
          0.45136668785913436,
          0.4324392684648503,
          0.41313720443201646,
          0.3934638511201443,
          0.3734231013911583,
          0.3530194012193302,
          0.33225776510125954,
          0.3111437912275983,
          0.28968367637666725,
          0.26788423048857046,
          0.2457528908768898,
          0.2232977360335118,
          0.20052749898066635,
          0.17745158012277146,
          0.15408005954925874,
          0.13042370873814554,
          0.10649400160877497,
          0.08230312487083817,
          0.05786398761554837,
          0.03319023009365279,
          0.008296231623858378,
          -0.016802882425791896,
          -0.04209123464199519,
          -0.06755219061498859,
          -0.09316835509208457,
          -0.11892156929661243,
          -0.14479290947345408,
          -0.17076268672276887,
          -0.19681044818376797,
          -0.22291497963052095,
          -0.2490543095417472,
          -0.27520571470635724,
          -0.30134572742613785,
          -0.32745014437644454,
          -0.3534940371850233,
          -0.3794517647881543,
          -0.4052969876221835,
          -0.43100268370713846,
          -0.45654116667755335,
          -0.4818841058138166,
          -0.5070025481252841,
          -0.5318669425341097,
          -0.5564471662061612,
          -0.5807125530725574,
          -0.604631924582259,
          -0.6281736227227391,
          -0.6513055453420891,
          -0.6739951838019318,
          -0.6962096629862427,
          -0.7179157836865928,
          -0.7390800673794445,
          -0.7596688034059178,
          -0.7796480985589416,
          -0.7989839290768541,
          -0.8176421950363754,
          -0.8355887771314079,
          -0.8527895958173228,
          -0.8692106727933118,
          -0.8848181947879565,
          -0.899578579605476,
          -0.9134585443820821,
          -0.9264251759935894,
          -0.9384460035468376,
          -0.9494890728786257,
          -0.9595230229767598,
          -0.9685171642284465,
          -0.9764415583916932,
          -0.9832671001755705,
          -0.9889656003052117,
          -0.9935098699372615,
          -0.9968738062811815,
          -0.9990324792713898,
          -0.9999622191246854,
          -0.9996407046068132,
          -0.9980470518213969,
          -0.9951619033238304,
          -0.9909675173521154,
          -0.9854478569560975,
          -0.9785886787961211,
          -0.9703776213718466,
          -0.9608042924318759,
          -0.9498603553049823,
          -0.9375396138841586,
          -0.9238380959854632,
          -0.9087541347947639,
          -0.8922884481070684,
          -0.8744442150551596,
          -0.8552271500168643,
          -0.834645573383466,
          -0.8127104788656122,
          -0.7894355970076271,
          -0.7648374545764566,
          -0.7389354294876332,
          -0.7117518009276909,
          -0.6833117943304499,
          -0.6536436208636119,
          -0.6227785110821663,
          -0.5907507424063277,
          -0.5575976600841372,
          -0.523359691302457,
          -0.488080352115125,
          -0.45180624686324455,
          -0.4145870597704022,
          -0.37647553840472125,
          -0.3375274687104066,
          -0.29780164132363307,
          -0.25735980890155513,
          -0.21626663420859638,
          -0.17458962872143075,
          -0.13239908153281055,
          -0.08976797835506,
          -0.04677191044623929,
          -0.00348897330614383,
          0.040000344984999825,
          0.08361328588463511,
          0.12726495303305702,
          0.1708684554648464,
          0.21433506139308423,
          0.25757436253838567,
          0.30049444893884486,
          0.3430020941392817,
          0.38500295061912754,
          0.42640175527762864,
          0.46710254475311785,
          0.5070088803098808,
          0.5460240819816476,
          0.5840514716153311,
          0.6209946244120852,
          0.6567576285155943,
          0.6912453521494637,
          0.7243637177572209,
          0.7560199825495327,
          0.7861230248143775,
          0.8145836352968172,
          0.8413148129063924,
          0.8662320639617282,
          0.8892537041343389,
          0.9103011622067483,
          0.9292992847143938,
          0.946176640496402,
          0.9608658241376364,
          0.9733037572435368,
          0.9834319864506063,
          0.9911969770390794,
          0.996550400980775,
          0.9994494182244994,
          0.9998569499940764,
          0.9977419428502904,
          0.9930796222481231,
          0.9858517343048596,
          0.9760467744832713,
          0.9636602018873828,
          0.94869463786662,
          0.9311600476276214,
          0.911073903562009,
          0.888461329013091,
          0.8633552212251988,
          0.8357963522461364,
          0.8058334465865289,
          0.7735232344795376,
          0.7389304796309951,
          0.7021279804032489,
          0.663196543436393,
          0.6222249287778158,
          0.5793097656655013,
          0.5345554381919911,
          0.48807394016467937,
          0.4399846985737105,
          0.3904143651815994,
          0.33949657585812465,
          0.28737167740046654,
          0.23418642170118717,
          0.1800936272558174,
          0.12525180813674303,
          0.06982477070068993,
          0.013981178443113675,
          -0.04210591443666605,
          -0.09825956004048796,
          -0.1542994434687387,
          -0.21004243816997037,
          -0.2653031887380047,
          -0.3198947197848334,
          -0.3736290693497265,
          -0.42631794513625865,
          -0.47777340170081173,
          -0.5278085365487928,
          -0.5762382029297376,
          -0.6228797369600898,
          -0.6675536965440778,
          -0.7100846094093743,
          -0.7503017274265742,
          -0.788039784240371,
          -0.8231397531074099,
          -0.8554496017114966,
          -0.8848250406128249,
          -0.9111302618846769
         ]
        },
        {
         "marker": {
          "color": "LightSkyBlue",
          "size": 10
         },
         "mode": "markers",
         "name": "Function at knots",
         "type": "scatter",
         "x": [
          -3,
          -2.6,
          -2.2,
          -1.8,
          -1.4,
          -1,
          -0.6,
          -0.2,
          0.2,
          0.6,
          1,
          1.4,
          1.8,
          2.2,
          2.6,
          3
         ],
         "y": [
          -0.9111302618846769,
          0.888461329013091,
          0.12726495303305702,
          -0.9951619033238304,
          -0.3794517647881543,
          0.5403023058681398,
          0.9358968236779348,
          0.9992001066609779,
          0.9992001066609779,
          0.9358968236779348,
          0.5403023058681398,
          -0.3794517647881543,
          -0.9951619033238304,
          0.12726495303305702,
          0.888461329013091,
          -0.9111302618846769
         ]
        },
        {
         "marker": {
          "color": "Green",
          "size": 2
         },
         "mode": "markers",
         "name": "B-Spline approximation",
         "type": "scatter",
         "x": [
          -3,
          -2.99,
          -2.98,
          -2.97,
          -2.96,
          -2.95,
          -2.94,
          -2.93,
          -2.92,
          -2.91,
          -2.9,
          -2.89,
          -2.88,
          -2.87,
          -2.86,
          -2.85,
          -2.84,
          -2.83,
          -2.82,
          -2.81,
          -2.8,
          -2.79,
          -2.78,
          -2.77,
          -2.76,
          -2.75,
          -2.74,
          -2.73,
          -2.72,
          -2.71,
          -2.7,
          -2.69,
          -2.68,
          -2.67,
          -2.66,
          -2.65,
          -2.64,
          -2.63,
          -2.62,
          -2.61,
          -2.6,
          -2.59,
          -2.58,
          -2.57,
          -2.56,
          -2.55,
          -2.54,
          -2.53,
          -2.52,
          -2.51,
          -2.5,
          -2.49,
          -2.48,
          -2.47,
          -2.46,
          -2.45,
          -2.44,
          -2.43,
          -2.42,
          -2.41,
          -2.4,
          -2.39,
          -2.38,
          -2.37,
          -2.36,
          -2.35,
          -2.34,
          -2.33,
          -2.32,
          -2.31,
          -2.3,
          -2.29,
          -2.28,
          -2.27,
          -2.26,
          -2.25,
          -2.24,
          -2.23,
          -2.22,
          -2.21,
          -2.2,
          -2.19,
          -2.18,
          -2.17,
          -2.16,
          -2.15,
          -2.14,
          -2.13,
          -2.12,
          -2.11,
          -2.1,
          -2.09,
          -2.08,
          -2.07,
          -2.06,
          -2.05,
          -2.04,
          -2.03,
          -2.02,
          -2.01,
          -2,
          -1.99,
          -1.98,
          -1.97,
          -1.96,
          -1.95,
          -1.94,
          -1.93,
          -1.92,
          -1.91,
          -1.9,
          -1.89,
          -1.88,
          -1.87,
          -1.86,
          -1.85,
          -1.84,
          -1.83,
          -1.82,
          -1.81,
          -1.8,
          -1.79,
          -1.78,
          -1.77,
          -1.76,
          -1.75,
          -1.74,
          -1.73,
          -1.72,
          -1.71,
          -1.7,
          -1.69,
          -1.68,
          -1.67,
          -1.66,
          -1.65,
          -1.64,
          -1.63,
          -1.62,
          -1.61,
          -1.6,
          -1.59,
          -1.58,
          -1.57,
          -1.56,
          -1.55,
          -1.54,
          -1.53,
          -1.52,
          -1.51,
          -1.5,
          -1.49,
          -1.48,
          -1.47,
          -1.46,
          -1.45,
          -1.44,
          -1.43,
          -1.42,
          -1.41,
          -1.4,
          -1.39,
          -1.38,
          -1.37,
          -1.36,
          -1.35,
          -1.34,
          -1.33,
          -1.32,
          -1.31,
          -1.3,
          -1.29,
          -1.28,
          -1.27,
          -1.26,
          -1.25,
          -1.24,
          -1.23,
          -1.22,
          -1.21,
          -1.2,
          -1.19,
          -1.18,
          -1.17,
          -1.16,
          -1.15,
          -1.14,
          -1.13,
          -1.12,
          -1.11,
          -1.1,
          -1.09,
          -1.08,
          -1.07,
          -1.06,
          -1.05,
          -1.04,
          -1.03,
          -1.02,
          -1.01,
          -1,
          -0.99,
          -0.98,
          -0.97,
          -0.96,
          -0.95,
          -0.94,
          -0.93,
          -0.92,
          -0.91,
          -0.9,
          -0.89,
          -0.88,
          -0.87,
          -0.86,
          -0.85,
          -0.84,
          -0.83,
          -0.82,
          -0.81,
          -0.8,
          -0.79,
          -0.78,
          -0.77,
          -0.76,
          -0.75,
          -0.74,
          -0.73,
          -0.72,
          -0.71,
          -0.7,
          -0.69,
          -0.68,
          -0.67,
          -0.66,
          -0.65,
          -0.64,
          -0.63,
          -0.62,
          -0.61,
          -0.6,
          -0.59,
          -0.58,
          -0.57,
          -0.56,
          -0.55,
          -0.54,
          -0.53,
          -0.52,
          -0.51,
          -0.5,
          -0.49,
          -0.48,
          -0.47,
          -0.46,
          -0.45,
          -0.44,
          -0.43,
          -0.42,
          -0.41,
          -0.4,
          -0.39,
          -0.38,
          -0.37,
          -0.36,
          -0.35,
          -0.34,
          -0.33,
          -0.32,
          -0.31,
          -0.3,
          -0.29,
          -0.28,
          -0.27,
          -0.26,
          -0.25,
          -0.24,
          -0.23,
          -0.22,
          -0.21,
          -0.2,
          -0.19,
          -0.18,
          -0.17,
          -0.16,
          -0.15,
          -0.14,
          -0.13,
          -0.12,
          -0.11,
          -0.1,
          -0.09,
          -0.08,
          -0.07,
          -0.06,
          -0.05,
          -0.04,
          -0.03,
          -0.02,
          -0.01,
          0,
          0.01,
          0.02,
          0.03,
          0.04,
          0.05,
          0.06,
          0.07,
          0.08,
          0.09,
          0.1,
          0.11,
          0.12,
          0.13,
          0.14,
          0.15,
          0.16,
          0.17,
          0.18,
          0.19,
          0.2,
          0.21,
          0.22,
          0.23,
          0.24,
          0.25,
          0.26,
          0.27,
          0.28,
          0.29,
          0.3,
          0.31,
          0.32,
          0.33,
          0.34,
          0.35,
          0.36,
          0.37,
          0.38,
          0.39,
          0.4,
          0.41,
          0.42,
          0.43,
          0.44,
          0.45,
          0.46,
          0.47,
          0.48,
          0.49,
          0.5,
          0.51,
          0.52,
          0.53,
          0.54,
          0.55,
          0.56,
          0.57,
          0.58,
          0.59,
          0.6,
          0.61,
          0.62,
          0.63,
          0.64,
          0.65,
          0.66,
          0.67,
          0.68,
          0.69,
          0.7,
          0.71,
          0.72,
          0.73,
          0.74,
          0.75,
          0.76,
          0.77,
          0.78,
          0.79,
          0.8,
          0.81,
          0.82,
          0.83,
          0.84,
          0.85,
          0.86,
          0.87,
          0.88,
          0.89,
          0.9,
          0.91,
          0.92,
          0.93,
          0.94,
          0.95,
          0.96,
          0.97,
          0.98,
          0.99,
          1,
          1.01,
          1.02,
          1.03,
          1.04,
          1.05,
          1.06,
          1.07,
          1.08,
          1.09,
          1.1,
          1.11,
          1.12,
          1.13,
          1.14,
          1.15,
          1.16,
          1.17,
          1.18,
          1.19,
          1.2,
          1.21,
          1.22,
          1.23,
          1.24,
          1.25,
          1.26,
          1.27,
          1.28,
          1.29,
          1.3,
          1.31,
          1.32,
          1.33,
          1.34,
          1.35,
          1.36,
          1.37,
          1.38,
          1.39,
          1.4,
          1.41,
          1.42,
          1.43,
          1.44,
          1.45,
          1.46,
          1.47,
          1.48,
          1.49,
          1.5,
          1.51,
          1.52,
          1.53,
          1.54,
          1.55,
          1.56,
          1.57,
          1.58,
          1.59,
          1.6,
          1.61,
          1.62,
          1.63,
          1.64,
          1.65,
          1.66,
          1.67,
          1.68,
          1.69,
          1.7,
          1.71,
          1.72,
          1.73,
          1.74,
          1.75,
          1.76,
          1.77,
          1.78,
          1.79,
          1.8,
          1.81,
          1.82,
          1.83,
          1.84,
          1.85,
          1.86,
          1.87,
          1.88,
          1.89,
          1.9,
          1.91,
          1.92,
          1.93,
          1.94,
          1.95,
          1.96,
          1.97,
          1.98,
          1.99,
          2,
          2.01,
          2.02,
          2.03,
          2.04,
          2.05,
          2.06,
          2.07,
          2.08,
          2.09,
          2.1,
          2.11,
          2.12,
          2.13,
          2.14,
          2.15,
          2.16,
          2.17,
          2.18,
          2.19,
          2.2,
          2.21,
          2.22,
          2.23,
          2.24,
          2.25,
          2.26,
          2.27,
          2.28,
          2.29,
          2.3,
          2.31,
          2.32,
          2.33,
          2.34,
          2.35,
          2.36,
          2.37,
          2.38,
          2.39,
          2.4,
          2.41,
          2.42,
          2.43,
          2.44,
          2.45,
          2.46,
          2.47,
          2.48,
          2.49,
          2.5,
          2.51,
          2.52,
          2.53,
          2.54,
          2.55,
          2.56,
          2.57,
          2.58,
          2.59,
          2.6,
          2.61,
          2.62,
          2.63,
          2.64,
          2.65,
          2.66,
          2.67,
          2.68,
          2.69,
          2.7,
          2.71,
          2.72,
          2.73,
          2.74,
          2.75,
          2.76,
          2.77,
          2.78,
          2.79,
          2.8,
          2.81,
          2.82,
          2.83,
          2.84,
          2.85,
          2.86,
          2.87,
          2.88,
          2.89,
          2.9,
          2.91,
          2.92,
          2.93,
          2.94,
          2.95,
          2.96,
          2.97,
          2.98,
          2.99,
          3
         ],
         "y": [
          -0.9111302618846769,
          -0.8593894621132024,
          -0.8082260547369979,
          -0.7576400397560681,
          -0.7076314171704078,
          -0.658200186980022,
          -0.6093463491849065,
          -0.5610699037850653,
          -0.513370850780494,
          -0.4662491901711973,
          -0.4197049219571707,
          -0.37373804613841816,
          -0.328348562714936,
          -0.283536471686728,
          -0.2393017730537903,
          -0.19564446681612666,
          -0.15256455297373342,
          -0.11006203152661427,
          -0.06813690247476542,
          -0.026789165818190692,
          0.013981178443113685,
          0.054174130309144,
          0.09378968977990387,
          0.1328278568553898,
          0.17128863153560522,
          0.20917201382054673,
          0.24647800371021605,
          0.28320660120461477,
          0.31935780630373967,
          0.35493161900759385,
          0.38992803931617437,
          0.42434706722948423,
          0.4581887027475203,
          0.4914529458702856,
          0.5241397965977772,
          0.5562492549299982,
          0.5877813208669453,
          0.6187359944086217,
          0.6491132755550245,
          0.6789131643061567,
          0.7081356606620148,
          0.7360180118205766,
          0.7617974649798134,
          0.7854740201397274,
          0.8070476773003169,
          0.8265184364615834,
          0.8438862976235255,
          0.8591512607861445,
          0.8723133259494392,
          0.8833724931134106,
          0.892328762278058,
          0.8991821334433818,
          0.9039326066093819,
          0.9065801817760581,
          0.9071248589434108,
          0.9055666381114399,
          0.901905519280145,
          0.8961415024495266,
          0.8882745876195842,
          0.8783047747903182,
          0.8662320639617282,
          0.8520564551338152,
          0.8357779483065777,
          0.8173965434800172,
          0.7969122406541321,
          0.7743250398289242,
          0.7496349410043917,
          0.7228419441805363,
          0.6939460493573562,
          0.6629472565348535,
          0.6298455657130257,
          0.5946409768918759,
          0.5573334900714007,
          0.5179231052516032,
          0.4764098224324804,
          0.43279364161403566,
          0.38707456279626734,
          0.3392525859791732,
          0.2893277111627577,
          0.23729993834701602,
          0.18316926753195295,
          0.12865422148697306,
          0.07547332298149032,
          0.023626572015500117,
          -0.02688603141099313,
          -0.07606448729799377,
          -0.12390879564549738,
          -0.1704189564535085,
          -0.21559496972202263,
          -0.25943683545104396,
          -0.30194455364056866,
          -0.34311812429060046,
          -0.3829575474011356,
          -0.4214628229721777,
          -0.45863395100372334,
          -0.49447093149577587,
          -0.528973764448332,
          -0.5621424498613948,
          -0.5939769877349614,
          -0.6244773780690348,
          -0.6536436208636118,
          -0.681475716118695,
          -0.7079736638342831,
          -0.7331374640103766,
          -0.7569671166469752,
          -0.7794626217440791,
          -0.8006239793016883,
          -0.8204511893198025,
          -0.8389442517984219,
          -0.8561031667375468,
          -0.8719279341371767,
          -0.8864185539973118,
          -0.899575026317952,
          -0.9113973510990977,
          -0.9218855283407486,
          -0.9310395580429046,
          -0.9388594402055658,
          -0.9453451748287323,
          -0.9504967619124041,
          -0.954314201456581,
          -0.9567974934612631,
          -0.9582198789936264,
          -0.9588545991208471,
          -0.9587016538429249,
          -0.95776104315986,
          -0.9560327670716524,
          -0.953516825578302,
          -0.9502132186798088,
          -0.946121946376173,
          -0.9412430086673945,
          -0.935576405553473,
          -0.9291221370344089,
          -0.9218802031102019,
          -0.9138506037808521,
          -0.90503333904636,
          -0.8954284089067248,
          -0.8850358133619468,
          -0.8738555524120262,
          -0.861887626056963,
          -0.8491320342967568,
          -0.835588777131408,
          -0.8212578545609162,
          -0.8061392665852818,
          -0.7902330132045047,
          -0.7735390944185847,
          -0.7560575102275222,
          -0.7377882606313166,
          -0.7187313456299685,
          -0.6988867652234775,
          -0.6782545194118438,
          -0.6568346081950674,
          -0.6346270315731481,
          -0.6116317895460862,
          -0.5878488821138815,
          -0.563278309276534,
          -0.5379200710340439,
          -0.5117741673864109,
          -0.4848405983336352,
          -0.45711936387571683,
          -0.42861046401265557,
          -0.39931389874445167,
          -0.3697836766535085,
          -0.34057380632223,
          -0.31168428775061663,
          -0.2831151209386672,
          -0.25486630588638226,
          -0.22693784259376198,
          -0.19932973106080618,
          -0.1720419712875149,
          -0.14507456327388824,
          -0.11842750701992598,
          -0.09210080252562841,
          -0.06609444979099531,
          -0.040408448816026774,
          -0.01504279960072278,
          0.010002497854916649,
          0.034727443550891565,
          0.059132037487201916,
          0.08321627966384774,
          0.10698017008082902,
          0.1304237087381457,
          0.15354689563579788,
          0.1763497307737855,
          0.19883221415210864,
          0.22099434577076715,
          0.24283612562976112,
          0.26435755372909053,
          0.2855586300687555,
          0.3064393546487553,
          0.3269997274690912,
          0.3472397485297625,
          0.3671594178307693,
          0.38675873537211136,
          0.406037701153789,
          0.42499631517580205,
          0.44363457743815066,
          0.4619524879408347,
          0.47995004668385405,
          0.497627253667209,
          0.5149841088908993,
          0.5320206123549253,
          0.5487283114237326,
          0.5650987534617673,
          0.5811319384690296,
          0.5968278664455193,
          0.6121865373912366,
          0.6272079513061812,
          0.6418921081903534,
          0.656239008043753,
          0.67024865086638,
          0.6839210366582347,
          0.6972561654193168,
          0.7102540371496263,
          0.7229146518491634,
          0.7352380095179281,
          0.7472241101559199,
          0.7588729537631397,
          0.7701845403395865,
          0.7811588698852612,
          0.791795942400163,
          0.8020957578842924,
          0.8120583163376494,
          0.8216836177602338,
          0.8309716621520458,
          0.8399224495130853,
          0.8485359798433519,
          0.8568122531428464,
          0.8647512694115681,
          0.8723530286495175,
          0.8796175308566941,
          0.8865447760330986,
          0.8931347641787302,
          0.8993874952935895,
          0.9053029693776762,
          0.9108811864309903,
          0.9161221464535322,
          0.9210258494453012,
          0.925592295406298,
          0.9298214843365219,
          0.9337134162359737,
          0.9372680911046526,
          0.9406097331209583,
          0.9438625664632896,
          0.9470265911316463,
          0.9501018071260289,
          0.9530882144464368,
          0.9559858130928705,
          0.9587946030653295,
          0.9615145843638143,
          0.9641457569883247,
          0.9666881209388607,
          0.9691416762154221,
          0.9715064228180091,
          0.9737823607466218,
          0.9759694900012601,
          0.9780678105819242,
          0.9800773224886135,
          0.9819980257213285,
          0.9838299202800691,
          0.9855730061648352,
          0.9872272833756269,
          0.9887927519124444,
          0.9902694117752874,
          0.991657262964156,
          0.9929563054790503,
          0.9941665393199701,
          0.9952879644869151,
          0.9963205809798862,
          0.9972643887988827,
          0.9981193879439046,
          0.9988855784149524,
          0.9995629602120255,
          1.0001515333351245,
          1.000651297784249,
          1.0010622535593992,
          1.0013844006605748,
          1.001617739087776,
          1.0017622688410026,
          1.001817989920255,
          1.0017849023255332,
          1.0016630060568366,
          1.0015008629662947,
          1.0013470349060374,
          1.0012015218760641,
          1.001064323876375,
          1.0009354409069704,
          1.00081487296785,
          1.0007026200590134,
          1.0005986821804609,
          1.000503059332193,
          1.0004157515142091,
          1.0003367587265093,
          1.0002660809690938,
          1.0002037182419625,
          1.0001496705451152,
          1.0001039378785521,
          1.0000665202422734,
          1.0000374176362787,
          1.0000166300605684,
          1.000004157515142,
          0.9999999999999999,
          1.000004157515142,
          1.0000166300605684,
          1.0000374176362787,
          1.0000665202422734,
          1.0001039378785521,
          1.0001496705451152,
          1.0002037182419625,
          1.0002660809690938,
          1.0003367587265093,
          1.0004157515142091,
          1.000503059332193,
          1.0005986821804609,
          1.0007026200590134,
          1.00081487296785,
          1.0009354409069704,
          1.001064323876375,
          1.0012015218760641,
          1.0013470349060374,
          1.0015008629662947,
          1.0016630060568366,
          1.0017849023255332,
          1.001817989920255,
          1.0017622688410026,
          1.001617739087776,
          1.0013844006605748,
          1.0010622535593992,
          1.000651297784249,
          1.0001515333351245,
          0.9995629602120255,
          0.9988855784149524,
          0.9981193879439046,
          0.9972643887988827,
          0.9963205809798862,
          0.9952879644869151,
          0.9941665393199701,
          0.9929563054790503,
          0.991657262964156,
          0.9902694117752874,
          0.9887927519124446,
          0.987227283375627,
          0.9855730061648352,
          0.9838299202800691,
          0.9819980257213285,
          0.9800773224886136,
          0.9780678105819242,
          0.9759694900012602,
          0.9737823607466219,
          0.9715064228180091,
          0.9691416762154221,
          0.9666881209388607,
          0.9641457569883247,
          0.9615145843638143,
          0.9587946030653297,
          0.9559858130928705,
          0.9530882144464369,
          0.9501018071260289,
          0.9470265911316464,
          0.9438625664632898,
          0.9406097331209585,
          0.9372680911046529,
          0.9337134162359739,
          0.9298214843365222,
          0.9255922954062981,
          0.9210258494453016,
          0.9161221464535322,
          0.9108811864309907,
          0.9053029693776763,
          0.8993874952935896,
          0.8931347641787304,
          0.8865447760330988,
          0.8796175308566945,
          0.8723530286495176,
          0.8647512694115683,
          0.8568122531428466,
          0.8485359798433523,
          0.8399224495130854,
          0.8309716621520459,
          0.821683617760234,
          0.8120583163376496,
          0.8020957578842927,
          0.7917959424001633,
          0.7811588698852614,
          0.7701845403395868,
          0.7588729537631397,
          0.7472241101559203,
          0.7352380095179282,
          0.7229146518491637,
          0.7102540371496265,
          0.6972561654193169,
          0.6839210366582349,
          0.6702486508663802,
          0.656239008043753,
          0.6418921081903535,
          0.6272079513061813,
          0.6121865373912366,
          0.5968278664455193,
          0.5811319384690297,
          0.5650987534617674,
          0.5487283114237327,
          0.5320206123549254,
          0.5149841088908995,
          0.49762725366720917,
          0.4799500466838542,
          0.46195248794083477,
          0.4436345774381507,
          0.4249963151758022,
          0.40603770115378907,
          0.3867587353721113,
          0.36715941783076916,
          0.3472397485297624,
          0.3269997274690912,
          0.3064393546487553,
          0.2855586300687555,
          0.26435755372909053,
          0.2428361256297611,
          0.22099434577076713,
          0.19883221415210853,
          0.17634973077378546,
          0.15354689563579785,
          0.13042370873814566,
          0.10698017008082895,
          0.08321627966384766,
          0.05913203748720185,
          0.03472744355089152,
          0.010002497854916614,
          -0.015042799600722832,
          -0.04040844881602682,
          -0.0660944497909954,
          -0.09210080252562843,
          -0.11842750701992612,
          -0.14507456327388824,
          -0.17204197128751494,
          -0.1993297310608062,
          -0.226937842593762,
          -0.25486630588638237,
          -0.28311512093866725,
          -0.31168428775061674,
          -0.34057380632223,
          -0.3697836766535085,
          -0.39931389874445167,
          -0.42861046401265557,
          -0.4571193638757168,
          -0.4848405983336352,
          -0.5117741673864109,
          -0.5379200710340439,
          -0.563278309276534,
          -0.5878488821138814,
          -0.6116317895460861,
          -0.6346270315731481,
          -0.6568346081950674,
          -0.6782545194118437,
          -0.6988867652234774,
          -0.7187313456299685,
          -0.7377882606313166,
          -0.7560575102275219,
          -0.7735390944185847,
          -0.7902330132045047,
          -0.8061392665852818,
          -0.8212578545609162,
          -0.835588777131408,
          -0.8491320342967568,
          -0.8618876260569627,
          -0.8738555524120261,
          -0.8850358133619467,
          -0.8954284089067246,
          -0.9050333390463599,
          -0.9138506037808524,
          -0.9218802031102019,
          -0.9291221370344088,
          -0.935576405553473,
          -0.9412430086673942,
          -0.9461219463761729,
          -0.9502132186798088,
          -0.9535168255783019,
          -0.9560327670716524,
          -0.95776104315986,
          -0.9587016538429249,
          -0.9588545991208471,
          -0.9582198789936264,
          -0.956797493461263,
          -0.954314201456581,
          -0.9504967619124041,
          -0.9453451748287323,
          -0.9388594402055658,
          -0.9310395580429046,
          -0.9218855283407484,
          -0.9113973510990975,
          -0.899575026317952,
          -0.8864185539973118,
          -0.8719279341371767,
          -0.8561031667375465,
          -0.8389442517984219,
          -0.8204511893198024,
          -0.8006239793016883,
          -0.7794626217440791,
          -0.756967116646975,
          -0.7331374640103765,
          -0.7079736638342831,
          -0.6814757161186948,
          -0.6536436208636118,
          -0.6244773780690347,
          -0.5939769877349614,
          -0.5621424498613948,
          -0.5289737644483319,
          -0.4944709314957758,
          -0.4586339510037233,
          -0.4214628229721776,
          -0.38295754740113547,
          -0.3431181242906003,
          -0.30194455364056855,
          -0.2594368354510438,
          -0.21559496972202247,
          -0.17041895645350835,
          -0.12390879564549727,
          -0.07606448729799359,
          -0.02688603141099295,
          0.023626572015500308,
          0.07547332298149052,
          0.12865422148697334,
          0.18316926753195323,
          0.23729993834701615,
          0.28932771116275785,
          0.33925258597917346,
          0.3870745627962676,
          0.43279364161403594,
          0.4764098224324807,
          0.5179231052516036,
          0.557333490071401,
          0.5946409768918761,
          0.629845565713026,
          0.6629472565348538,
          0.6939460493573563,
          0.7228419441805365,
          0.7496349410043917,
          0.7743250398289244,
          0.7969122406541322,
          0.8173965434800172,
          0.8357779483065779,
          0.8520564551338153,
          0.8662320639617285,
          0.8783047747903184,
          0.8882745876195842,
          0.8961415024495266,
          0.901905519280145,
          0.9055666381114398,
          0.9071248589434109,
          0.9065801817760584,
          0.9039326066093819,
          0.8991821334433817,
          0.8923287622780578,
          0.8833724931134106,
          0.8723133259494389,
          0.8591512607861443,
          0.8438862976235253,
          0.8265184364615833,
          0.8070476773003168,
          0.785474020139727,
          0.761797464979813,
          0.736018011820576,
          0.7081356606620144,
          0.6789131643061558,
          0.649113275555024,
          0.6187359944086211,
          0.5877813208669447,
          0.5562492549299973,
          0.5241397965977764,
          0.49145294587028476,
          0.45818870274751944,
          0.4243470672294834,
          0.38992803931617354,
          0.354931619007593,
          0.3193578063037388,
          0.28320660120461394,
          0.24647800371021514,
          0.20917201382054584,
          0.1712886315356043,
          0.13282785685538892,
          0.09378968977990304,
          0.0541741303091431,
          0.013981178443112818,
          -0.026789165818191595,
          -0.06813690247476628,
          -0.1100620315266151,
          -0.15256455297373417,
          -0.19564446681612743,
          -0.239301773053791,
          -0.28353647168672874,
          -0.3283485627149368,
          -0.3737380461384188,
          -0.4197049219571711,
          -0.466249190171198,
          -0.5133708507804946,
          -0.5610699037850657,
          -0.609346349184907,
          -0.6582001869800225,
          -0.707631417170408,
          -0.7576400397560681,
          -0.8082260547369982,
          -0.8593894621132024,
          -0.9111302618846769
         ]
        }
       ],
       "frames": [],
       "layout": {
        "margin": {
         "b": 50,
         "l": 50,
         "r": 50,
         "t": 60
        },
        "template": {
         "data": {
          "bar": [
           {
            "error_x": {
             "color": "#2a3f5f"
            },
            "error_y": {
             "color": "#2a3f5f"
            },
            "marker": {
             "line": {
              "color": "#E5ECF6",
              "width": 0.5
             }
            },
            "type": "bar"
           }
          ],
          "barpolar": [
           {
            "marker": {
             "line": {
              "color": "#E5ECF6",
              "width": 0.5
             }
            },
            "type": "barpolar"
           }
          ],
          "carpet": [
           {
            "aaxis": {
             "endlinecolor": "#2a3f5f",
             "gridcolor": "white",
             "linecolor": "white",
             "minorgridcolor": "white",
             "startlinecolor": "#2a3f5f"
            },
            "baxis": {
             "endlinecolor": "#2a3f5f",
             "gridcolor": "white",
             "linecolor": "white",
             "minorgridcolor": "white",
             "startlinecolor": "#2a3f5f"
            },
            "type": "carpet"
           }
          ],
          "choropleth": [
           {
            "colorbar": {
             "outlinewidth": 0,
             "ticks": ""
            },
            "type": "choropleth"
           }
          ],
          "contour": [
           {
            "colorbar": {
             "outlinewidth": 0,
             "ticks": ""
            },
            "colorscale": [
             [
              0,
              "#0d0887"
             ],
             [
              0.1111111111111111,
              "#46039f"
             ],
             [
              0.2222222222222222,
              "#7201a8"
             ],
             [
              0.3333333333333333,
              "#9c179e"
             ],
             [
              0.4444444444444444,
              "#bd3786"
             ],
             [
              0.5555555555555556,
              "#d8576b"
             ],
             [
              0.6666666666666666,
              "#ed7953"
             ],
             [
              0.7777777777777778,
              "#fb9f3a"
             ],
             [
              0.8888888888888888,
              "#fdca26"
             ],
             [
              1,
              "#f0f921"
             ]
            ],
            "type": "contour"
           }
          ],
          "contourcarpet": [
           {
            "colorbar": {
             "outlinewidth": 0,
             "ticks": ""
            },
            "type": "contourcarpet"
           }
          ],
          "heatmap": [
           {
            "colorbar": {
             "outlinewidth": 0,
             "ticks": ""
            },
            "colorscale": [
             [
              0,
              "#0d0887"
             ],
             [
              0.1111111111111111,
              "#46039f"
             ],
             [
              0.2222222222222222,
              "#7201a8"
             ],
             [
              0.3333333333333333,
              "#9c179e"
             ],
             [
              0.4444444444444444,
              "#bd3786"
             ],
             [
              0.5555555555555556,
              "#d8576b"
             ],
             [
              0.6666666666666666,
              "#ed7953"
             ],
             [
              0.7777777777777778,
              "#fb9f3a"
             ],
             [
              0.8888888888888888,
              "#fdca26"
             ],
             [
              1,
              "#f0f921"
             ]
            ],
            "type": "heatmap"
           }
          ],
          "heatmapgl": [
           {
            "colorbar": {
             "outlinewidth": 0,
             "ticks": ""
            },
            "colorscale": [
             [
              0,
              "#0d0887"
             ],
             [
              0.1111111111111111,
              "#46039f"
             ],
             [
              0.2222222222222222,
              "#7201a8"
             ],
             [
              0.3333333333333333,
              "#9c179e"
             ],
             [
              0.4444444444444444,
              "#bd3786"
             ],
             [
              0.5555555555555556,
              "#d8576b"
             ],
             [
              0.6666666666666666,
              "#ed7953"
             ],
             [
              0.7777777777777778,
              "#fb9f3a"
             ],
             [
              0.8888888888888888,
              "#fdca26"
             ],
             [
              1,
              "#f0f921"
             ]
            ],
            "type": "heatmapgl"
           }
          ],
          "histogram": [
           {
            "marker": {
             "colorbar": {
              "outlinewidth": 0,
              "ticks": ""
             }
            },
            "type": "histogram"
           }
          ],
          "histogram2d": [
           {
            "colorbar": {
             "outlinewidth": 0,
             "ticks": ""
            },
            "colorscale": [
             [
              0,
              "#0d0887"
             ],
             [
              0.1111111111111111,
              "#46039f"
             ],
             [
              0.2222222222222222,
              "#7201a8"
             ],
             [
              0.3333333333333333,
              "#9c179e"
             ],
             [
              0.4444444444444444,
              "#bd3786"
             ],
             [
              0.5555555555555556,
              "#d8576b"
             ],
             [
              0.6666666666666666,
              "#ed7953"
             ],
             [
              0.7777777777777778,
              "#fb9f3a"
             ],
             [
              0.8888888888888888,
              "#fdca26"
             ],
             [
              1,
              "#f0f921"
             ]
            ],
            "type": "histogram2d"
           }
          ],
          "histogram2dcontour": [
           {
            "colorbar": {
             "outlinewidth": 0,
             "ticks": ""
            },
            "colorscale": [
             [
              0,
              "#0d0887"
             ],
             [
              0.1111111111111111,
              "#46039f"
             ],
             [
              0.2222222222222222,
              "#7201a8"
             ],
             [
              0.3333333333333333,
              "#9c179e"
             ],
             [
              0.4444444444444444,
              "#bd3786"
             ],
             [
              0.5555555555555556,
              "#d8576b"
             ],
             [
              0.6666666666666666,
              "#ed7953"
             ],
             [
              0.7777777777777778,
              "#fb9f3a"
             ],
             [
              0.8888888888888888,
              "#fdca26"
             ],
             [
              1,
              "#f0f921"
             ]
            ],
            "type": "histogram2dcontour"
           }
          ],
          "mesh3d": [
           {
            "colorbar": {
             "outlinewidth": 0,
             "ticks": ""
            },
            "type": "mesh3d"
           }
          ],
          "parcoords": [
           {
            "line": {
             "colorbar": {
              "outlinewidth": 0,
              "ticks": ""
             }
            },
            "type": "parcoords"
           }
          ],
          "pie": [
           {
            "automargin": true,
            "type": "pie"
           }
          ],
          "scatter": [
           {
            "marker": {
             "colorbar": {
              "outlinewidth": 0,
              "ticks": ""
             }
            },
            "type": "scatter"
           }
          ],
          "scatter3d": [
           {
            "line": {
             "colorbar": {
              "outlinewidth": 0,
              "ticks": ""
             }
            },
            "marker": {
             "colorbar": {
              "outlinewidth": 0,
              "ticks": ""
             }
            },
            "type": "scatter3d"
           }
          ],
          "scattercarpet": [
           {
            "marker": {
             "colorbar": {
              "outlinewidth": 0,
              "ticks": ""
             }
            },
            "type": "scattercarpet"
           }
          ],
          "scattergeo": [
           {
            "marker": {
             "colorbar": {
              "outlinewidth": 0,
              "ticks": ""
             }
            },
            "type": "scattergeo"
           }
          ],
          "scattergl": [
           {
            "marker": {
             "colorbar": {
              "outlinewidth": 0,
              "ticks": ""
             }
            },
            "type": "scattergl"
           }
          ],
          "scattermapbox": [
           {
            "marker": {
             "colorbar": {
              "outlinewidth": 0,
              "ticks": ""
             }
            },
            "type": "scattermapbox"
           }
          ],
          "scatterpolar": [
           {
            "marker": {
             "colorbar": {
              "outlinewidth": 0,
              "ticks": ""
             }
            },
            "type": "scatterpolar"
           }
          ],
          "scatterpolargl": [
           {
            "marker": {
             "colorbar": {
              "outlinewidth": 0,
              "ticks": ""
             }
            },
            "type": "scatterpolargl"
           }
          ],
          "scatterternary": [
           {
            "marker": {
             "colorbar": {
              "outlinewidth": 0,
              "ticks": ""
             }
            },
            "type": "scatterternary"
           }
          ],
          "surface": [
           {
            "colorbar": {
             "outlinewidth": 0,
             "ticks": ""
            },
            "colorscale": [
             [
              0,
              "#0d0887"
             ],
             [
              0.1111111111111111,
              "#46039f"
             ],
             [
              0.2222222222222222,
              "#7201a8"
             ],
             [
              0.3333333333333333,
              "#9c179e"
             ],
             [
              0.4444444444444444,
              "#bd3786"
             ],
             [
              0.5555555555555556,
              "#d8576b"
             ],
             [
              0.6666666666666666,
              "#ed7953"
             ],
             [
              0.7777777777777778,
              "#fb9f3a"
             ],
             [
              0.8888888888888888,
              "#fdca26"
             ],
             [
              1,
              "#f0f921"
             ]
            ],
            "type": "surface"
           }
          ],
          "table": [
           {
            "cells": {
             "fill": {
              "color": "#EBF0F8"
             },
             "line": {
              "color": "white"
             }
            },
            "header": {
             "fill": {
              "color": "#C8D4E3"
             },
             "line": {
              "color": "white"
             }
            },
            "type": "table"
           }
          ]
         },
         "layout": {
          "annotationdefaults": {
           "arrowcolor": "#2a3f5f",
           "arrowhead": 0,
           "arrowwidth": 1
          },
          "autotypenumbers": "strict",
          "coloraxis": {
           "colorbar": {
            "outlinewidth": 0,
            "ticks": ""
           }
          },
          "colorscale": {
           "diverging": [
            [
             0,
             "#8e0152"
            ],
            [
             0.1,
             "#c51b7d"
            ],
            [
             0.2,
             "#de77ae"
            ],
            [
             0.3,
             "#f1b6da"
            ],
            [
             0.4,
             "#fde0ef"
            ],
            [
             0.5,
             "#f7f7f7"
            ],
            [
             0.6,
             "#e6f5d0"
            ],
            [
             0.7,
             "#b8e186"
            ],
            [
             0.8,
             "#7fbc41"
            ],
            [
             0.9,
             "#4d9221"
            ],
            [
             1,
             "#276419"
            ]
           ],
           "sequential": [
            [
             0,
             "#0d0887"
            ],
            [
             0.1111111111111111,
             "#46039f"
            ],
            [
             0.2222222222222222,
             "#7201a8"
            ],
            [
             0.3333333333333333,
             "#9c179e"
            ],
            [
             0.4444444444444444,
             "#bd3786"
            ],
            [
             0.5555555555555556,
             "#d8576b"
            ],
            [
             0.6666666666666666,
             "#ed7953"
            ],
            [
             0.7777777777777778,
             "#fb9f3a"
            ],
            [
             0.8888888888888888,
             "#fdca26"
            ],
            [
             1,
             "#f0f921"
            ]
           ],
           "sequentialminus": [
            [
             0,
             "#0d0887"
            ],
            [
             0.1111111111111111,
             "#46039f"
            ],
            [
             0.2222222222222222,
             "#7201a8"
            ],
            [
             0.3333333333333333,
             "#9c179e"
            ],
            [
             0.4444444444444444,
             "#bd3786"
            ],
            [
             0.5555555555555556,
             "#d8576b"
            ],
            [
             0.6666666666666666,
             "#ed7953"
            ],
            [
             0.7777777777777778,
             "#fb9f3a"
            ],
            [
             0.8888888888888888,
             "#fdca26"
            ],
            [
             1,
             "#f0f921"
            ]
           ]
          },
          "colorway": [
           "#636efa",
           "#EF553B",
           "#00cc96",
           "#ab63fa",
           "#FFA15A",
           "#19d3f3",
           "#FF6692",
           "#B6E880",
           "#FF97FF",
           "#FECB52"
          ],
          "font": {
           "color": "#2a3f5f"
          },
          "geo": {
           "bgcolor": "white",
           "lakecolor": "white",
           "landcolor": "#E5ECF6",
           "showlakes": true,
           "showland": true,
           "subunitcolor": "white"
          },
          "hoverlabel": {
           "align": "left"
          },
          "hovermode": "closest",
          "mapbox": {
           "style": "light"
          },
          "paper_bgcolor": "white",
          "plot_bgcolor": "#E5ECF6",
          "polar": {
           "angularaxis": {
            "gridcolor": "white",
            "linecolor": "white",
            "ticks": ""
           },
           "bgcolor": "#E5ECF6",
           "radialaxis": {
            "gridcolor": "white",
            "linecolor": "white",
            "ticks": ""
           }
          },
          "scene": {
           "xaxis": {
            "backgroundcolor": "#E5ECF6",
            "gridcolor": "white",
            "gridwidth": 2,
            "linecolor": "white",
            "showbackground": true,
            "ticks": "",
            "zerolinecolor": "white"
           },
           "yaxis": {
            "backgroundcolor": "#E5ECF6",
            "gridcolor": "white",
            "gridwidth": 2,
            "linecolor": "white",
            "showbackground": true,
            "ticks": "",
            "zerolinecolor": "white"
           },
           "zaxis": {
            "backgroundcolor": "#E5ECF6",
            "gridcolor": "white",
            "gridwidth": 2,
            "linecolor": "white",
            "showbackground": true,
            "ticks": "",
            "zerolinecolor": "white"
           }
          },
          "shapedefaults": {
           "line": {
            "color": "#2a3f5f"
           }
          },
          "ternary": {
           "aaxis": {
            "gridcolor": "white",
            "linecolor": "white",
            "ticks": ""
           },
           "baxis": {
            "gridcolor": "white",
            "linecolor": "white",
            "ticks": ""
           },
           "bgcolor": "#E5ECF6",
           "caxis": {
            "gridcolor": "white",
            "linecolor": "white",
            "ticks": ""
           }
          },
          "title": {
           "x": 0.05
          },
          "xaxis": {
           "automargin": true,
           "gridcolor": "white",
           "linecolor": "white",
           "ticks": "",
           "title": {
            "standoff": 15
           },
           "zerolinecolor": "white",
           "zerolinewidth": 2
          },
          "yaxis": {
           "automargin": true,
           "gridcolor": "white",
           "linecolor": "white",
           "ticks": "",
           "title": {
            "standoff": 15
           },
           "zerolinecolor": "white",
           "zerolinewidth": 2
          }
         }
        },
        "title": " Approximation via B-Splines with equidistant  knot points",
        "xaxis": {
         "title": {
          "text": "x"
         }
        },
        "yaxis": {
         "title": {
          "text": "y"
         }
        }
       }
      },
      "text/html": [
       "<div\n",
       "    class=\"webio-mountpoint\"\n",
       "    data-webio-mountpoint=\"7776034851880968493\"\n",
       ">\n",
       "    <script>\n",
       "    (function(){\n",
       "    // Some integrations (namely, IJulia/Jupyter) use an alternate render pathway than\n",
       "    // just putting the html on the page. If WebIO isn't defined, then it's pretty likely\n",
       "    // that we're in one of those situations and the integration just isn't installed\n",
       "    // correctly.\n",
       "    if (typeof window.WebIO === \"undefined\") {\n",
       "        document\n",
       "            .querySelector('[data-webio-mountpoint=\"7776034851880968493\"]')\n",
       "            .innerHTML = (\n",
       "                '<div style=\"padding: 1em; background-color: #f8d6da; border: 1px solid #f5c6cb; font-weight: bold;\">' +\n",
       "                '<p><strong>WebIO not detected.</strong></p>' +\n",
       "                '<p>Please read ' +\n",
       "                '<a href=\"https://juliagizmos.github.io/WebIO.jl/latest/troubleshooting/not-detected/\" target=\"_blank\">the troubleshooting guide</a> ' +\n",
       "                'for more information on how to resolve this issue.</p>' +\n",
       "                '<p><a href=\"https://juliagizmos.github.io/WebIO.jl/latest/troubleshooting/not-detected/\" target=\"_blank\">https://juliagizmos.github.io/WebIO.jl/latest/troubleshooting/not-detected/</a></p>' +\n",
       "                '</div>'\n",
       "            );\n",
       "        return;\n",
       "    }\n",
       "    WebIO.mount(\n",
       "        document.querySelector('[data-webio-mountpoint=\"7776034851880968493\"]'),\n",
       "        {\"props\":{},\"nodeType\":\"Scope\",\"type\":\"node\",\"instanceArgs\":{\"imports\":{\"data\":[{\"name\":\"Plotly\",\"type\":\"js\",\"url\":\"\\/assetserver\\/499590eaec904dd55fafb36dbac61b115c3c7397-plotly.min.js\"},{\"name\":null,\"type\":\"js\",\"url\":\"\\/assetserver\\/516b44ebc40e7d2763d8f7a52f8fb4f892cb9be8-plotly_webio.bundle.js\"}],\"type\":\"async_block\"},\"id\":\"6687599483104265440\",\"handlers\":{\"_toImage\":[\"(function (options){return this.Plotly.toImage(this.plotElem,options).then((function (data){return WebIO.setval({\\\"name\\\":\\\"image\\\",\\\"scope\\\":\\\"6687599483104265440\\\",\\\"id\\\":\\\"7024258885997356043\\\",\\\"type\\\":\\\"observable\\\"},data)}))})\"],\"__get_gd_contents\":[\"(function (prop){prop==\\\"data\\\" ? (WebIO.setval({\\\"name\\\":\\\"__gd_contents\\\",\\\"scope\\\":\\\"6687599483104265440\\\",\\\"id\\\":\\\"6294508768428978548\\\",\\\"type\\\":\\\"observable\\\"},this.plotElem.data)) : undefined; return prop==\\\"layout\\\" ? (WebIO.setval({\\\"name\\\":\\\"__gd_contents\\\",\\\"scope\\\":\\\"6687599483104265440\\\",\\\"id\\\":\\\"6294508768428978548\\\",\\\"type\\\":\\\"observable\\\"},this.plotElem.layout)) : undefined})\"],\"_downloadImage\":[\"(function (options){return this.Plotly.downloadImage(this.plotElem,options)})\"],\"_commands\":[\"(function (args){var fn=args.shift(); var elem=this.plotElem; var Plotly=this.Plotly; args.unshift(elem); return Plotly[fn].apply(this,args)})\"]},\"systemjs_options\":null,\"mount_callbacks\":[\"function () {\\n    var handler = ((function (Plotly,PlotlyWebIO){PlotlyWebIO.init(WebIO); var gd=this.dom.querySelector(\\\"#plot-e38ff9b3-f83a-47c1-b8dd-3610defda297\\\"); this.plotElem=gd; this.Plotly=Plotly; (window.Blink!==undefined) ? (gd.style.width=\\\"100%\\\", gd.style.height=\\\"100vh\\\", gd.style.marginLeft=\\\"0%\\\", gd.style.marginTop=\\\"0vh\\\") : undefined; window.onresize=(function (){return Plotly.Plots.resize(gd)}); Plotly.newPlot(gd,[{\\\"mode\\\":\\\"lines\\\",\\\"y\\\":[-0.9111302618846769,-0.8848250406128249,-0.8554496017114966,-0.8231397531074099,-0.788039784240371,-0.7503017274265742,-0.7100846094093743,-0.6675536965440778,-0.6228797369600898,-0.5762382029297376,-0.5278085365487928,-0.47777340170081173,-0.42631794513625865,-0.3736290693497265,-0.3198947197848334,-0.2653031887380047,-0.21004243816997037,-0.1542994434687387,-0.09825956004048796,-0.04210591443666605,0.013981178443113675,0.06982477070068993,0.12525180813674303,0.1800936272558174,0.23418642170118717,0.28737167740046654,0.33949657585812465,0.3904143651815994,0.4399846985737105,0.48807394016467937,0.5345554381919911,0.5793097656655013,0.6222249287778158,0.663196543436393,0.7021279804032489,0.7389304796309951,0.7735232344795376,0.8058334465865289,0.8357963522461364,0.8633552212251988,0.888461329013091,0.911073903562009,0.9311600476276214,0.94869463786662,0.9636602018873828,0.9760467744832713,0.9858517343048596,0.9930796222481231,0.9977419428502904,0.9998569499940764,0.9994494182244994,0.996550400980775,0.9911969770390794,0.9834319864506063,0.9733037572435368,0.9608658241376364,0.946176640496402,0.9292992847143938,0.9103011622067483,0.8892537041343389,0.8662320639617282,0.8413148129063924,0.8145836352968172,0.7861230248143775,0.7560199825495327,0.7243637177572209,0.6912453521494637,0.6567576285155943,0.6209946244120852,0.5840514716153311,0.5460240819816476,0.5070088803098808,0.46710254475311785,0.42640175527762864,0.38500295061912754,0.3430020941392817,0.30049444893884486,0.25757436253838567,0.21433506139308423,0.1708684554648464,0.12726495303305702,0.08361328588463511,0.040000344984999825,-0.00348897330614383,-0.04677191044623929,-0.08976797835506,-0.13239908153281055,-0.17458962872143075,-0.21626663420859638,-0.25735980890155513,-0.29780164132363307,-0.3375274687104066,-0.37647553840472125,-0.4145870597704022,-0.45180624686324455,-0.488080352115125,-0.523359691302457,-0.5575976600841372,-0.5907507424063277,-0.6227785110821663,-0.6536436208636119,-0.6833117943304499,-0.7117518009276909,-0.7389354294876332,-0.7648374545764566,-0.7894355970076271,-0.8127104788656122,-0.834645573383466,-0.8552271500168643,-0.8744442150551596,-0.8922884481070684,-0.9087541347947639,-0.9238380959854632,-0.9375396138841586,-0.9498603553049823,-0.9608042924318759,-0.9703776213718466,-0.9785886787961211,-0.9854478569560975,-0.9909675173521154,-0.9951619033238304,-0.9980470518213969,-0.9996407046068132,-0.9999622191246854,-0.9990324792713898,-0.9968738062811815,-0.9935098699372615,-0.9889656003052117,-0.9832671001755705,-0.9764415583916932,-0.9685171642284465,-0.9595230229767598,-0.9494890728786257,-0.9384460035468376,-0.9264251759935894,-0.9134585443820821,-0.899578579605476,-0.8848181947879565,-0.8692106727933118,-0.8527895958173228,-0.8355887771314079,-0.8176421950363754,-0.7989839290768541,-0.7796480985589416,-0.7596688034059178,-0.7390800673794445,-0.7179157836865928,-0.6962096629862427,-0.6739951838019318,-0.6513055453420891,-0.6281736227227391,-0.604631924582259,-0.5807125530725574,-0.5564471662061612,-0.5318669425341097,-0.5070025481252841,-0.4818841058138166,-0.45654116667755335,-0.43100268370713846,-0.4052969876221835,-0.3794517647881543,-0.3534940371850233,-0.32745014437644454,-0.30134572742613785,-0.27520571470635724,-0.2490543095417472,-0.22291497963052095,-0.19681044818376797,-0.17076268672276887,-0.14479290947345408,-0.11892156929661243,-0.09316835509208457,-0.06755219061498859,-0.04209123464199519,-0.016802882425791896,0.008296231623858378,0.03319023009365279,0.05786398761554837,0.08230312487083817,0.10649400160877497,0.13042370873814554,0.15408005954925874,0.17745158012277146,0.20052749898066635,0.2232977360335118,0.2457528908768898,0.26788423048857046,0.28968367637666725,0.3111437912275983,0.33225776510125954,0.3530194012193302,0.3734231013911583,0.3934638511201443,0.41313720443201646,0.4324392684648503,0.45136668785913436,0.4699166289846297,0.4880867640392285,0.50587525505346,0.5232807378327669,0.5403023058681398,0.5569394942441939,0.5731922635722762,0.589060983974718,0.6045464191449003,0.6196497105063699,0.6343723614928503,0.6487162219696165,0.6626834728153681,0.6762766106824172,0.689498432951747,0.7023520228982385,0.7148407350801673,0.7269681809658972,0.7387382148095629,0.7501549197864334,0.7612225943975944,0.7719457391525536,0.7823290435373987,0.7923773732751808,0.8020957578842925,0.8114893785397337,0.8205635562413237,0.8293237402921235,0.8377754970895652,0.8459244992310679,0.8537765149352233,0.8613373977789861,0.8686130767506834,0.8756095466180721,0.8823328586101216,0.888789111410682,0.8949844424617099,0.9009250195732674,0.9066170328370847,0.9120666868400829,0.9172801931738822,0.9222637632359839,0.9270236013180002,0.9315658979760197,0.9358968236779348,0.9400225227223185,0.9439491074232244,0.9476826525550945,0.9512291900517834,0.9545947039535627,0.9577851255958405,0.9608063290332142,0.9636641266923894,0.9663642652474169,0.9689124217106447,0.9713141997327367,0.973575126105082,0.9757006474579073,0.9776961271473993,0.9795668423251612,0.9813179811833497,0.9829546403688724,0.9844818225600774,0.9859044341994153,0.9872272833756269,0.9884550778490798,0.9895924232139617,0.9906438211911284,0.9916136680455027,0.9925062531220232,0.9933257574942547,0.9940762527198866,0.994761699697469,0.9953859476188603,0.9959527330119943,0.9964656788687066,0.9969282938525031,0.9973439715812904,0.9977159899802397,0.9980475107000991,0.9983415785964227,0.9986011212653365,0.9988289486316196,0.9990277525850313,0.9992001066609779,0.999348465761772,0.9994751659148957,0.9995824240648468,0.9996723378953062,0.9997468856785308,0.9998079261490423,0.9998571983988457,0.9998963217915781,0.9999267958931577,0.9999500004166653,0.999967195179361,0.999979520069905,0.99998799502402,0.9999935200069984,0.9999968750016276,0.999998720000273,0.9999995950000273,0.999999920000001,0.999999995,1.0,0.999999995,0.999999920000001,0.9999995950000273,0.999998720000273,0.9999968750016276,0.9999935200069984,0.99998799502402,0.999979520069905,0.999967195179361,0.9999500004166653,0.9999267958931577,0.9998963217915781,0.9998571983988457,0.9998079261490423,0.9997468856785308,0.9996723378953062,0.9995824240648468,0.9994751659148957,0.999348465761772,0.9992001066609779,0.9990277525850313,0.9988289486316196,0.9986011212653365,0.9983415785964227,0.9980475107000991,0.9977159899802397,0.9973439715812904,0.9969282938525031,0.9964656788687066,0.9959527330119943,0.9953859476188603,0.994761699697469,0.9940762527198866,0.9933257574942547,0.9925062531220232,0.9916136680455027,0.9906438211911284,0.9895924232139617,0.9884550778490798,0.9872272833756269,0.9859044341994153,0.9844818225600774,0.9829546403688724,0.9813179811833497,0.9795668423251612,0.9776961271473993,0.9757006474579073,0.973575126105082,0.9713141997327367,0.9689124217106447,0.9663642652474169,0.9636641266923894,0.9608063290332142,0.9577851255958405,0.9545947039535627,0.9512291900517834,0.9476826525550945,0.9439491074232244,0.9400225227223185,0.9358968236779348,0.9315658979760197,0.9270236013180002,0.9222637632359839,0.9172801931738822,0.9120666868400829,0.9066170328370847,0.9009250195732674,0.8949844424617099,0.888789111410682,0.8823328586101216,0.8756095466180721,0.8686130767506834,0.8613373977789861,0.8537765149352233,0.8459244992310679,0.8377754970895652,0.8293237402921235,0.8205635562413237,0.8114893785397337,0.8020957578842925,0.7923773732751808,0.7823290435373987,0.7719457391525536,0.7612225943975944,0.7501549197864334,0.7387382148095629,0.7269681809658972,0.7148407350801673,0.7023520228982385,0.689498432951747,0.6762766106824172,0.6626834728153681,0.6487162219696165,0.6343723614928503,0.6196497105063699,0.6045464191449003,0.589060983974718,0.5731922635722762,0.5569394942441939,0.5403023058681398,0.5232807378327669,0.50587525505346,0.4880867640392285,0.4699166289846297,0.45136668785913436,0.4324392684648503,0.41313720443201646,0.3934638511201443,0.3734231013911583,0.3530194012193302,0.33225776510125954,0.3111437912275983,0.28968367637666725,0.26788423048857046,0.2457528908768898,0.2232977360335118,0.20052749898066635,0.17745158012277146,0.15408005954925874,0.13042370873814554,0.10649400160877497,0.08230312487083817,0.05786398761554837,0.03319023009365279,0.008296231623858378,-0.016802882425791896,-0.04209123464199519,-0.06755219061498859,-0.09316835509208457,-0.11892156929661243,-0.14479290947345408,-0.17076268672276887,-0.19681044818376797,-0.22291497963052095,-0.2490543095417472,-0.27520571470635724,-0.30134572742613785,-0.32745014437644454,-0.3534940371850233,-0.3794517647881543,-0.4052969876221835,-0.43100268370713846,-0.45654116667755335,-0.4818841058138166,-0.5070025481252841,-0.5318669425341097,-0.5564471662061612,-0.5807125530725574,-0.604631924582259,-0.6281736227227391,-0.6513055453420891,-0.6739951838019318,-0.6962096629862427,-0.7179157836865928,-0.7390800673794445,-0.7596688034059178,-0.7796480985589416,-0.7989839290768541,-0.8176421950363754,-0.8355887771314079,-0.8527895958173228,-0.8692106727933118,-0.8848181947879565,-0.899578579605476,-0.9134585443820821,-0.9264251759935894,-0.9384460035468376,-0.9494890728786257,-0.9595230229767598,-0.9685171642284465,-0.9764415583916932,-0.9832671001755705,-0.9889656003052117,-0.9935098699372615,-0.9968738062811815,-0.9990324792713898,-0.9999622191246854,-0.9996407046068132,-0.9980470518213969,-0.9951619033238304,-0.9909675173521154,-0.9854478569560975,-0.9785886787961211,-0.9703776213718466,-0.9608042924318759,-0.9498603553049823,-0.9375396138841586,-0.9238380959854632,-0.9087541347947639,-0.8922884481070684,-0.8744442150551596,-0.8552271500168643,-0.834645573383466,-0.8127104788656122,-0.7894355970076271,-0.7648374545764566,-0.7389354294876332,-0.7117518009276909,-0.6833117943304499,-0.6536436208636119,-0.6227785110821663,-0.5907507424063277,-0.5575976600841372,-0.523359691302457,-0.488080352115125,-0.45180624686324455,-0.4145870597704022,-0.37647553840472125,-0.3375274687104066,-0.29780164132363307,-0.25735980890155513,-0.21626663420859638,-0.17458962872143075,-0.13239908153281055,-0.08976797835506,-0.04677191044623929,-0.00348897330614383,0.040000344984999825,0.08361328588463511,0.12726495303305702,0.1708684554648464,0.21433506139308423,0.25757436253838567,0.30049444893884486,0.3430020941392817,0.38500295061912754,0.42640175527762864,0.46710254475311785,0.5070088803098808,0.5460240819816476,0.5840514716153311,0.6209946244120852,0.6567576285155943,0.6912453521494637,0.7243637177572209,0.7560199825495327,0.7861230248143775,0.8145836352968172,0.8413148129063924,0.8662320639617282,0.8892537041343389,0.9103011622067483,0.9292992847143938,0.946176640496402,0.9608658241376364,0.9733037572435368,0.9834319864506063,0.9911969770390794,0.996550400980775,0.9994494182244994,0.9998569499940764,0.9977419428502904,0.9930796222481231,0.9858517343048596,0.9760467744832713,0.9636602018873828,0.94869463786662,0.9311600476276214,0.911073903562009,0.888461329013091,0.8633552212251988,0.8357963522461364,0.8058334465865289,0.7735232344795376,0.7389304796309951,0.7021279804032489,0.663196543436393,0.6222249287778158,0.5793097656655013,0.5345554381919911,0.48807394016467937,0.4399846985737105,0.3904143651815994,0.33949657585812465,0.28737167740046654,0.23418642170118717,0.1800936272558174,0.12525180813674303,0.06982477070068993,0.013981178443113675,-0.04210591443666605,-0.09825956004048796,-0.1542994434687387,-0.21004243816997037,-0.2653031887380047,-0.3198947197848334,-0.3736290693497265,-0.42631794513625865,-0.47777340170081173,-0.5278085365487928,-0.5762382029297376,-0.6228797369600898,-0.6675536965440778,-0.7100846094093743,-0.7503017274265742,-0.788039784240371,-0.8231397531074099,-0.8554496017114966,-0.8848250406128249,-0.9111302618846769],\\\"type\\\":\\\"scatter\\\",\\\"name\\\":\\\"Exact function value\\\",\\\"x\\\":[-3.0,-2.99,-2.98,-2.97,-2.96,-2.95,-2.94,-2.93,-2.92,-2.91,-2.9,-2.89,-2.88,-2.87,-2.86,-2.85,-2.84,-2.83,-2.82,-2.81,-2.8,-2.79,-2.78,-2.77,-2.76,-2.75,-2.74,-2.73,-2.72,-2.71,-2.7,-2.69,-2.68,-2.67,-2.66,-2.65,-2.64,-2.63,-2.62,-2.61,-2.6,-2.59,-2.58,-2.57,-2.56,-2.55,-2.54,-2.53,-2.52,-2.51,-2.5,-2.49,-2.48,-2.47,-2.46,-2.45,-2.44,-2.43,-2.42,-2.41,-2.4,-2.39,-2.38,-2.37,-2.36,-2.35,-2.34,-2.33,-2.32,-2.31,-2.3,-2.29,-2.28,-2.27,-2.26,-2.25,-2.24,-2.23,-2.22,-2.21,-2.2,-2.19,-2.18,-2.17,-2.16,-2.15,-2.14,-2.13,-2.12,-2.11,-2.1,-2.09,-2.08,-2.07,-2.06,-2.05,-2.04,-2.03,-2.02,-2.01,-2.0,-1.99,-1.98,-1.97,-1.96,-1.95,-1.94,-1.93,-1.92,-1.91,-1.9,-1.89,-1.88,-1.87,-1.86,-1.85,-1.84,-1.83,-1.82,-1.81,-1.8,-1.79,-1.78,-1.77,-1.76,-1.75,-1.74,-1.73,-1.72,-1.71,-1.7,-1.69,-1.68,-1.67,-1.66,-1.65,-1.64,-1.63,-1.62,-1.61,-1.6,-1.59,-1.58,-1.57,-1.56,-1.55,-1.54,-1.53,-1.52,-1.51,-1.5,-1.49,-1.48,-1.47,-1.46,-1.45,-1.44,-1.43,-1.42,-1.41,-1.4,-1.39,-1.38,-1.37,-1.36,-1.35,-1.34,-1.33,-1.32,-1.31,-1.3,-1.29,-1.28,-1.27,-1.26,-1.25,-1.24,-1.23,-1.22,-1.21,-1.2,-1.19,-1.18,-1.17,-1.16,-1.15,-1.14,-1.13,-1.12,-1.11,-1.1,-1.09,-1.08,-1.07,-1.06,-1.05,-1.04,-1.03,-1.02,-1.01,-1.0,-0.99,-0.98,-0.97,-0.96,-0.95,-0.94,-0.93,-0.92,-0.91,-0.9,-0.89,-0.88,-0.87,-0.86,-0.85,-0.84,-0.83,-0.82,-0.81,-0.8,-0.79,-0.78,-0.77,-0.76,-0.75,-0.74,-0.73,-0.72,-0.71,-0.7,-0.69,-0.68,-0.67,-0.66,-0.65,-0.64,-0.63,-0.62,-0.61,-0.6,-0.59,-0.58,-0.57,-0.56,-0.55,-0.54,-0.53,-0.52,-0.51,-0.5,-0.49,-0.48,-0.47,-0.46,-0.45,-0.44,-0.43,-0.42,-0.41,-0.4,-0.39,-0.38,-0.37,-0.36,-0.35,-0.34,-0.33,-0.32,-0.31,-0.3,-0.29,-0.28,-0.27,-0.26,-0.25,-0.24,-0.23,-0.22,-0.21,-0.2,-0.19,-0.18,-0.17,-0.16,-0.15,-0.14,-0.13,-0.12,-0.11,-0.1,-0.09,-0.08,-0.07,-0.06,-0.05,-0.04,-0.03,-0.02,-0.01,0.0,0.01,0.02,0.03,0.04,0.05,0.06,0.07,0.08,0.09,0.1,0.11,0.12,0.13,0.14,0.15,0.16,0.17,0.18,0.19,0.2,0.21,0.22,0.23,0.24,0.25,0.26,0.27,0.28,0.29,0.3,0.31,0.32,0.33,0.34,0.35,0.36,0.37,0.38,0.39,0.4,0.41,0.42,0.43,0.44,0.45,0.46,0.47,0.48,0.49,0.5,0.51,0.52,0.53,0.54,0.55,0.56,0.57,0.58,0.59,0.6,0.61,0.62,0.63,0.64,0.65,0.66,0.67,0.68,0.69,0.7,0.71,0.72,0.73,0.74,0.75,0.76,0.77,0.78,0.79,0.8,0.81,0.82,0.83,0.84,0.85,0.86,0.87,0.88,0.89,0.9,0.91,0.92,0.93,0.94,0.95,0.96,0.97,0.98,0.99,1.0,1.01,1.02,1.03,1.04,1.05,1.06,1.07,1.08,1.09,1.1,1.11,1.12,1.13,1.14,1.15,1.16,1.17,1.18,1.19,1.2,1.21,1.22,1.23,1.24,1.25,1.26,1.27,1.28,1.29,1.3,1.31,1.32,1.33,1.34,1.35,1.36,1.37,1.38,1.39,1.4,1.41,1.42,1.43,1.44,1.45,1.46,1.47,1.48,1.49,1.5,1.51,1.52,1.53,1.54,1.55,1.56,1.57,1.58,1.59,1.6,1.61,1.62,1.63,1.64,1.65,1.66,1.67,1.68,1.69,1.7,1.71,1.72,1.73,1.74,1.75,1.76,1.77,1.78,1.79,1.8,1.81,1.82,1.83,1.84,1.85,1.86,1.87,1.88,1.89,1.9,1.91,1.92,1.93,1.94,1.95,1.96,1.97,1.98,1.99,2.0,2.01,2.02,2.03,2.04,2.05,2.06,2.07,2.08,2.09,2.1,2.11,2.12,2.13,2.14,2.15,2.16,2.17,2.18,2.19,2.2,2.21,2.22,2.23,2.24,2.25,2.26,2.27,2.28,2.29,2.3,2.31,2.32,2.33,2.34,2.35,2.36,2.37,2.38,2.39,2.4,2.41,2.42,2.43,2.44,2.45,2.46,2.47,2.48,2.49,2.5,2.51,2.52,2.53,2.54,2.55,2.56,2.57,2.58,2.59,2.6,2.61,2.62,2.63,2.64,2.65,2.66,2.67,2.68,2.69,2.7,2.71,2.72,2.73,2.74,2.75,2.76,2.77,2.78,2.79,2.8,2.81,2.82,2.83,2.84,2.85,2.86,2.87,2.88,2.89,2.9,2.91,2.92,2.93,2.94,2.95,2.96,2.97,2.98,2.99,3.0]},{\\\"x\\\":[-3.0,-2.6,-2.2,-1.8,-1.4,-1.0,-0.6,-0.2,0.2,0.6,1.0,1.4,1.8,2.2,2.6,3.0],\\\"mode\\\":\\\"markers\\\",\\\"y\\\":[-0.9111302618846769,0.888461329013091,0.12726495303305702,-0.9951619033238304,-0.3794517647881543,0.5403023058681398,0.9358968236779348,0.9992001066609779,0.9992001066609779,0.9358968236779348,0.5403023058681398,-0.3794517647881543,-0.9951619033238304,0.12726495303305702,0.888461329013091,-0.9111302618846769],\\\"type\\\":\\\"scatter\\\",\\\"name\\\":\\\"Function at knots\\\",\\\"marker\\\":{\\\"color\\\":\\\"LightSkyBlue\\\",\\\"size\\\":10}},{\\\"x\\\":[-3.0,-2.99,-2.98,-2.97,-2.96,-2.95,-2.94,-2.93,-2.92,-2.91,-2.9,-2.89,-2.88,-2.87,-2.86,-2.85,-2.84,-2.83,-2.82,-2.81,-2.8,-2.79,-2.78,-2.77,-2.76,-2.75,-2.74,-2.73,-2.72,-2.71,-2.7,-2.69,-2.68,-2.67,-2.66,-2.65,-2.64,-2.63,-2.62,-2.61,-2.6,-2.59,-2.58,-2.57,-2.56,-2.55,-2.54,-2.53,-2.52,-2.51,-2.5,-2.49,-2.48,-2.47,-2.46,-2.45,-2.44,-2.43,-2.42,-2.41,-2.4,-2.39,-2.38,-2.37,-2.36,-2.35,-2.34,-2.33,-2.32,-2.31,-2.3,-2.29,-2.28,-2.27,-2.26,-2.25,-2.24,-2.23,-2.22,-2.21,-2.2,-2.19,-2.18,-2.17,-2.16,-2.15,-2.14,-2.13,-2.12,-2.11,-2.1,-2.09,-2.08,-2.07,-2.06,-2.05,-2.04,-2.03,-2.02,-2.01,-2.0,-1.99,-1.98,-1.97,-1.96,-1.95,-1.94,-1.93,-1.92,-1.91,-1.9,-1.89,-1.88,-1.87,-1.86,-1.85,-1.84,-1.83,-1.82,-1.81,-1.8,-1.79,-1.78,-1.77,-1.76,-1.75,-1.74,-1.73,-1.72,-1.71,-1.7,-1.69,-1.68,-1.67,-1.66,-1.65,-1.64,-1.63,-1.62,-1.61,-1.6,-1.59,-1.58,-1.57,-1.56,-1.55,-1.54,-1.53,-1.52,-1.51,-1.5,-1.49,-1.48,-1.47,-1.46,-1.45,-1.44,-1.43,-1.42,-1.41,-1.4,-1.39,-1.38,-1.37,-1.36,-1.35,-1.34,-1.33,-1.32,-1.31,-1.3,-1.29,-1.28,-1.27,-1.26,-1.25,-1.24,-1.23,-1.22,-1.21,-1.2,-1.19,-1.18,-1.17,-1.16,-1.15,-1.14,-1.13,-1.12,-1.11,-1.1,-1.09,-1.08,-1.07,-1.06,-1.05,-1.04,-1.03,-1.02,-1.01,-1.0,-0.99,-0.98,-0.97,-0.96,-0.95,-0.94,-0.93,-0.92,-0.91,-0.9,-0.89,-0.88,-0.87,-0.86,-0.85,-0.84,-0.83,-0.82,-0.81,-0.8,-0.79,-0.78,-0.77,-0.76,-0.75,-0.74,-0.73,-0.72,-0.71,-0.7,-0.69,-0.68,-0.67,-0.66,-0.65,-0.64,-0.63,-0.62,-0.61,-0.6,-0.59,-0.58,-0.57,-0.56,-0.55,-0.54,-0.53,-0.52,-0.51,-0.5,-0.49,-0.48,-0.47,-0.46,-0.45,-0.44,-0.43,-0.42,-0.41,-0.4,-0.39,-0.38,-0.37,-0.36,-0.35,-0.34,-0.33,-0.32,-0.31,-0.3,-0.29,-0.28,-0.27,-0.26,-0.25,-0.24,-0.23,-0.22,-0.21,-0.2,-0.19,-0.18,-0.17,-0.16,-0.15,-0.14,-0.13,-0.12,-0.11,-0.1,-0.09,-0.08,-0.07,-0.06,-0.05,-0.04,-0.03,-0.02,-0.01,0.0,0.01,0.02,0.03,0.04,0.05,0.06,0.07,0.08,0.09,0.1,0.11,0.12,0.13,0.14,0.15,0.16,0.17,0.18,0.19,0.2,0.21,0.22,0.23,0.24,0.25,0.26,0.27,0.28,0.29,0.3,0.31,0.32,0.33,0.34,0.35,0.36,0.37,0.38,0.39,0.4,0.41,0.42,0.43,0.44,0.45,0.46,0.47,0.48,0.49,0.5,0.51,0.52,0.53,0.54,0.55,0.56,0.57,0.58,0.59,0.6,0.61,0.62,0.63,0.64,0.65,0.66,0.67,0.68,0.69,0.7,0.71,0.72,0.73,0.74,0.75,0.76,0.77,0.78,0.79,0.8,0.81,0.82,0.83,0.84,0.85,0.86,0.87,0.88,0.89,0.9,0.91,0.92,0.93,0.94,0.95,0.96,0.97,0.98,0.99,1.0,1.01,1.02,1.03,1.04,1.05,1.06,1.07,1.08,1.09,1.1,1.11,1.12,1.13,1.14,1.15,1.16,1.17,1.18,1.19,1.2,1.21,1.22,1.23,1.24,1.25,1.26,1.27,1.28,1.29,1.3,1.31,1.32,1.33,1.34,1.35,1.36,1.37,1.38,1.39,1.4,1.41,1.42,1.43,1.44,1.45,1.46,1.47,1.48,1.49,1.5,1.51,1.52,1.53,1.54,1.55,1.56,1.57,1.58,1.59,1.6,1.61,1.62,1.63,1.64,1.65,1.66,1.67,1.68,1.69,1.7,1.71,1.72,1.73,1.74,1.75,1.76,1.77,1.78,1.79,1.8,1.81,1.82,1.83,1.84,1.85,1.86,1.87,1.88,1.89,1.9,1.91,1.92,1.93,1.94,1.95,1.96,1.97,1.98,1.99,2.0,2.01,2.02,2.03,2.04,2.05,2.06,2.07,2.08,2.09,2.1,2.11,2.12,2.13,2.14,2.15,2.16,2.17,2.18,2.19,2.2,2.21,2.22,2.23,2.24,2.25,2.26,2.27,2.28,2.29,2.3,2.31,2.32,2.33,2.34,2.35,2.36,2.37,2.38,2.39,2.4,2.41,2.42,2.43,2.44,2.45,2.46,2.47,2.48,2.49,2.5,2.51,2.52,2.53,2.54,2.55,2.56,2.57,2.58,2.59,2.6,2.61,2.62,2.63,2.64,2.65,2.66,2.67,2.68,2.69,2.7,2.71,2.72,2.73,2.74,2.75,2.76,2.77,2.78,2.79,2.8,2.81,2.82,2.83,2.84,2.85,2.86,2.87,2.88,2.89,2.9,2.91,2.92,2.93,2.94,2.95,2.96,2.97,2.98,2.99,3.0],\\\"mode\\\":\\\"markers\\\",\\\"y\\\":[-0.9111302618846769,-0.8593894621132024,-0.8082260547369979,-0.7576400397560681,-0.7076314171704078,-0.658200186980022,-0.6093463491849065,-0.5610699037850653,-0.513370850780494,-0.4662491901711973,-0.4197049219571707,-0.37373804613841816,-0.328348562714936,-0.283536471686728,-0.2393017730537903,-0.19564446681612666,-0.15256455297373342,-0.11006203152661427,-0.06813690247476542,-0.026789165818190692,0.013981178443113685,0.054174130309144,0.09378968977990387,0.1328278568553898,0.17128863153560522,0.20917201382054673,0.24647800371021605,0.28320660120461477,0.31935780630373967,0.35493161900759385,0.38992803931617437,0.42434706722948423,0.4581887027475203,0.4914529458702856,0.5241397965977772,0.5562492549299982,0.5877813208669453,0.6187359944086217,0.6491132755550245,0.6789131643061567,0.7081356606620148,0.7360180118205766,0.7617974649798134,0.7854740201397274,0.8070476773003169,0.8265184364615834,0.8438862976235255,0.8591512607861445,0.8723133259494392,0.8833724931134106,0.892328762278058,0.8991821334433818,0.9039326066093819,0.9065801817760581,0.9071248589434108,0.9055666381114399,0.901905519280145,0.8961415024495266,0.8882745876195842,0.8783047747903182,0.8662320639617282,0.8520564551338152,0.8357779483065777,0.8173965434800172,0.7969122406541321,0.7743250398289242,0.7496349410043917,0.7228419441805363,0.6939460493573562,0.6629472565348535,0.6298455657130257,0.5946409768918759,0.5573334900714007,0.5179231052516032,0.4764098224324804,0.43279364161403566,0.38707456279626734,0.3392525859791732,0.2893277111627577,0.23729993834701602,0.18316926753195295,0.12865422148697306,0.07547332298149032,0.023626572015500117,-0.02688603141099313,-0.07606448729799377,-0.12390879564549738,-0.1704189564535085,-0.21559496972202263,-0.25943683545104396,-0.30194455364056866,-0.34311812429060046,-0.3829575474011356,-0.4214628229721777,-0.45863395100372334,-0.49447093149577587,-0.528973764448332,-0.5621424498613948,-0.5939769877349614,-0.6244773780690348,-0.6536436208636118,-0.681475716118695,-0.7079736638342831,-0.7331374640103766,-0.7569671166469752,-0.7794626217440791,-0.8006239793016883,-0.8204511893198025,-0.8389442517984219,-0.8561031667375468,-0.8719279341371767,-0.8864185539973118,-0.899575026317952,-0.9113973510990977,-0.9218855283407486,-0.9310395580429046,-0.9388594402055658,-0.9453451748287323,-0.9504967619124041,-0.954314201456581,-0.9567974934612631,-0.9582198789936264,-0.9588545991208471,-0.9587016538429249,-0.95776104315986,-0.9560327670716524,-0.953516825578302,-0.9502132186798088,-0.946121946376173,-0.9412430086673945,-0.935576405553473,-0.9291221370344089,-0.9218802031102019,-0.9138506037808521,-0.90503333904636,-0.8954284089067248,-0.8850358133619468,-0.8738555524120262,-0.861887626056963,-0.8491320342967568,-0.835588777131408,-0.8212578545609162,-0.8061392665852818,-0.7902330132045047,-0.7735390944185847,-0.7560575102275222,-0.7377882606313166,-0.7187313456299685,-0.6988867652234775,-0.6782545194118438,-0.6568346081950674,-0.6346270315731481,-0.6116317895460862,-0.5878488821138815,-0.563278309276534,-0.5379200710340439,-0.5117741673864109,-0.4848405983336352,-0.45711936387571683,-0.42861046401265557,-0.39931389874445167,-0.3697836766535085,-0.34057380632223,-0.31168428775061663,-0.2831151209386672,-0.25486630588638226,-0.22693784259376198,-0.19932973106080618,-0.1720419712875149,-0.14507456327388824,-0.11842750701992598,-0.09210080252562841,-0.06609444979099531,-0.040408448816026774,-0.01504279960072278,0.010002497854916649,0.034727443550891565,0.059132037487201916,0.08321627966384774,0.10698017008082902,0.1304237087381457,0.15354689563579788,0.1763497307737855,0.19883221415210864,0.22099434577076715,0.24283612562976112,0.26435755372909053,0.2855586300687555,0.3064393546487553,0.3269997274690912,0.3472397485297625,0.3671594178307693,0.38675873537211136,0.406037701153789,0.42499631517580205,0.44363457743815066,0.4619524879408347,0.47995004668385405,0.497627253667209,0.5149841088908993,0.5320206123549253,0.5487283114237326,0.5650987534617673,0.5811319384690296,0.5968278664455193,0.6121865373912366,0.6272079513061812,0.6418921081903534,0.656239008043753,0.67024865086638,0.6839210366582347,0.6972561654193168,0.7102540371496263,0.7229146518491634,0.7352380095179281,0.7472241101559199,0.7588729537631397,0.7701845403395865,0.7811588698852612,0.791795942400163,0.8020957578842924,0.8120583163376494,0.8216836177602338,0.8309716621520458,0.8399224495130853,0.8485359798433519,0.8568122531428464,0.8647512694115681,0.8723530286495175,0.8796175308566941,0.8865447760330986,0.8931347641787302,0.8993874952935895,0.9053029693776762,0.9108811864309903,0.9161221464535322,0.9210258494453012,0.925592295406298,0.9298214843365219,0.9337134162359737,0.9372680911046526,0.9406097331209583,0.9438625664632896,0.9470265911316463,0.9501018071260289,0.9530882144464368,0.9559858130928705,0.9587946030653295,0.9615145843638143,0.9641457569883247,0.9666881209388607,0.9691416762154221,0.9715064228180091,0.9737823607466218,0.9759694900012601,0.9780678105819242,0.9800773224886135,0.9819980257213285,0.9838299202800691,0.9855730061648352,0.9872272833756269,0.9887927519124444,0.9902694117752874,0.991657262964156,0.9929563054790503,0.9941665393199701,0.9952879644869151,0.9963205809798862,0.9972643887988827,0.9981193879439046,0.9988855784149524,0.9995629602120255,1.0001515333351245,1.000651297784249,1.0010622535593992,1.0013844006605748,1.001617739087776,1.0017622688410026,1.001817989920255,1.0017849023255332,1.0016630060568366,1.0015008629662947,1.0013470349060374,1.0012015218760641,1.001064323876375,1.0009354409069704,1.00081487296785,1.0007026200590134,1.0005986821804609,1.000503059332193,1.0004157515142091,1.0003367587265093,1.0002660809690938,1.0002037182419625,1.0001496705451152,1.0001039378785521,1.0000665202422734,1.0000374176362787,1.0000166300605684,1.000004157515142,0.9999999999999999,1.000004157515142,1.0000166300605684,1.0000374176362787,1.0000665202422734,1.0001039378785521,1.0001496705451152,1.0002037182419625,1.0002660809690938,1.0003367587265093,1.0004157515142091,1.000503059332193,1.0005986821804609,1.0007026200590134,1.00081487296785,1.0009354409069704,1.001064323876375,1.0012015218760641,1.0013470349060374,1.0015008629662947,1.0016630060568366,1.0017849023255332,1.001817989920255,1.0017622688410026,1.001617739087776,1.0013844006605748,1.0010622535593992,1.000651297784249,1.0001515333351245,0.9995629602120255,0.9988855784149524,0.9981193879439046,0.9972643887988827,0.9963205809798862,0.9952879644869151,0.9941665393199701,0.9929563054790503,0.991657262964156,0.9902694117752874,0.9887927519124446,0.987227283375627,0.9855730061648352,0.9838299202800691,0.9819980257213285,0.9800773224886136,0.9780678105819242,0.9759694900012602,0.9737823607466219,0.9715064228180091,0.9691416762154221,0.9666881209388607,0.9641457569883247,0.9615145843638143,0.9587946030653297,0.9559858130928705,0.9530882144464369,0.9501018071260289,0.9470265911316464,0.9438625664632898,0.9406097331209585,0.9372680911046529,0.9337134162359739,0.9298214843365222,0.9255922954062981,0.9210258494453016,0.9161221464535322,0.9108811864309907,0.9053029693776763,0.8993874952935896,0.8931347641787304,0.8865447760330988,0.8796175308566945,0.8723530286495176,0.8647512694115683,0.8568122531428466,0.8485359798433523,0.8399224495130854,0.8309716621520459,0.821683617760234,0.8120583163376496,0.8020957578842927,0.7917959424001633,0.7811588698852614,0.7701845403395868,0.7588729537631397,0.7472241101559203,0.7352380095179282,0.7229146518491637,0.7102540371496265,0.6972561654193169,0.6839210366582349,0.6702486508663802,0.656239008043753,0.6418921081903535,0.6272079513061813,0.6121865373912366,0.5968278664455193,0.5811319384690297,0.5650987534617674,0.5487283114237327,0.5320206123549254,0.5149841088908995,0.49762725366720917,0.4799500466838542,0.46195248794083477,0.4436345774381507,0.4249963151758022,0.40603770115378907,0.3867587353721113,0.36715941783076916,0.3472397485297624,0.3269997274690912,0.3064393546487553,0.2855586300687555,0.26435755372909053,0.2428361256297611,0.22099434577076713,0.19883221415210853,0.17634973077378546,0.15354689563579785,0.13042370873814566,0.10698017008082895,0.08321627966384766,0.05913203748720185,0.03472744355089152,0.010002497854916614,-0.015042799600722832,-0.04040844881602682,-0.0660944497909954,-0.09210080252562843,-0.11842750701992612,-0.14507456327388824,-0.17204197128751494,-0.1993297310608062,-0.226937842593762,-0.25486630588638237,-0.28311512093866725,-0.31168428775061674,-0.34057380632223,-0.3697836766535085,-0.39931389874445167,-0.42861046401265557,-0.4571193638757168,-0.4848405983336352,-0.5117741673864109,-0.5379200710340439,-0.563278309276534,-0.5878488821138814,-0.6116317895460861,-0.6346270315731481,-0.6568346081950674,-0.6782545194118437,-0.6988867652234774,-0.7187313456299685,-0.7377882606313166,-0.7560575102275219,-0.7735390944185847,-0.7902330132045047,-0.8061392665852818,-0.8212578545609162,-0.835588777131408,-0.8491320342967568,-0.8618876260569627,-0.8738555524120261,-0.8850358133619467,-0.8954284089067246,-0.9050333390463599,-0.9138506037808524,-0.9218802031102019,-0.9291221370344088,-0.935576405553473,-0.9412430086673942,-0.9461219463761729,-0.9502132186798088,-0.9535168255783019,-0.9560327670716524,-0.95776104315986,-0.9587016538429249,-0.9588545991208471,-0.9582198789936264,-0.956797493461263,-0.954314201456581,-0.9504967619124041,-0.9453451748287323,-0.9388594402055658,-0.9310395580429046,-0.9218855283407484,-0.9113973510990975,-0.899575026317952,-0.8864185539973118,-0.8719279341371767,-0.8561031667375465,-0.8389442517984219,-0.8204511893198024,-0.8006239793016883,-0.7794626217440791,-0.756967116646975,-0.7331374640103765,-0.7079736638342831,-0.6814757161186948,-0.6536436208636118,-0.6244773780690347,-0.5939769877349614,-0.5621424498613948,-0.5289737644483319,-0.4944709314957758,-0.4586339510037233,-0.4214628229721776,-0.38295754740113547,-0.3431181242906003,-0.30194455364056855,-0.2594368354510438,-0.21559496972202247,-0.17041895645350835,-0.12390879564549727,-0.07606448729799359,-0.02688603141099295,0.023626572015500308,0.07547332298149052,0.12865422148697334,0.18316926753195323,0.23729993834701615,0.28932771116275785,0.33925258597917346,0.3870745627962676,0.43279364161403594,0.4764098224324807,0.5179231052516036,0.557333490071401,0.5946409768918761,0.629845565713026,0.6629472565348538,0.6939460493573563,0.7228419441805365,0.7496349410043917,0.7743250398289244,0.7969122406541322,0.8173965434800172,0.8357779483065779,0.8520564551338153,0.8662320639617285,0.8783047747903184,0.8882745876195842,0.8961415024495266,0.901905519280145,0.9055666381114398,0.9071248589434109,0.9065801817760584,0.9039326066093819,0.8991821334433817,0.8923287622780578,0.8833724931134106,0.8723133259494389,0.8591512607861443,0.8438862976235253,0.8265184364615833,0.8070476773003168,0.785474020139727,0.761797464979813,0.736018011820576,0.7081356606620144,0.6789131643061558,0.649113275555024,0.6187359944086211,0.5877813208669447,0.5562492549299973,0.5241397965977764,0.49145294587028476,0.45818870274751944,0.4243470672294834,0.38992803931617354,0.354931619007593,0.3193578063037388,0.28320660120461394,0.24647800371021514,0.20917201382054584,0.1712886315356043,0.13282785685538892,0.09378968977990304,0.0541741303091431,0.013981178443112818,-0.026789165818191595,-0.06813690247476628,-0.1100620315266151,-0.15256455297373417,-0.19564446681612743,-0.239301773053791,-0.28353647168672874,-0.3283485627149368,-0.3737380461384188,-0.4197049219571711,-0.466249190171198,-0.5133708507804946,-0.5610699037850657,-0.609346349184907,-0.6582001869800225,-0.707631417170408,-0.7576400397560681,-0.8082260547369982,-0.8593894621132024,-0.9111302618846769],\\\"type\\\":\\\"scatter\\\",\\\"name\\\":\\\"B-Spline approximation\\\",\\\"marker\\\":{\\\"color\\\":\\\"Green\\\",\\\"size\\\":2}}],{\\\"xaxis\\\":{\\\"title\\\":{\\\"text\\\":\\\"x\\\"}},\\\"template\\\":{\\\"layout\\\":{\\\"coloraxis\\\":{\\\"colorbar\\\":{\\\"ticks\\\":\\\"\\\",\\\"outlinewidth\\\":0}},\\\"xaxis\\\":{\\\"gridcolor\\\":\\\"white\\\",\\\"zerolinewidth\\\":2,\\\"title\\\":{\\\"standoff\\\":15},\\\"ticks\\\":\\\"\\\",\\\"zerolinecolor\\\":\\\"white\\\",\\\"automargin\\\":true,\\\"linecolor\\\":\\\"white\\\"},\\\"hovermode\\\":\\\"closest\\\",\\\"paper_bgcolor\\\":\\\"white\\\",\\\"geo\\\":{\\\"showlakes\\\":true,\\\"showland\\\":true,\\\"landcolor\\\":\\\"#E5ECF6\\\",\\\"bgcolor\\\":\\\"white\\\",\\\"subunitcolor\\\":\\\"white\\\",\\\"lakecolor\\\":\\\"white\\\"},\\\"colorscale\\\":{\\\"sequential\\\":[[0.0,\\\"#0d0887\\\"],[0.1111111111111111,\\\"#46039f\\\"],[0.2222222222222222,\\\"#7201a8\\\"],[0.3333333333333333,\\\"#9c179e\\\"],[0.4444444444444444,\\\"#bd3786\\\"],[0.5555555555555556,\\\"#d8576b\\\"],[0.6666666666666666,\\\"#ed7953\\\"],[0.7777777777777778,\\\"#fb9f3a\\\"],[0.8888888888888888,\\\"#fdca26\\\"],[1.0,\\\"#f0f921\\\"]],\\\"diverging\\\":[[0,\\\"#8e0152\\\"],[0.1,\\\"#c51b7d\\\"],[0.2,\\\"#de77ae\\\"],[0.3,\\\"#f1b6da\\\"],[0.4,\\\"#fde0ef\\\"],[0.5,\\\"#f7f7f7\\\"],[0.6,\\\"#e6f5d0\\\"],[0.7,\\\"#b8e186\\\"],[0.8,\\\"#7fbc41\\\"],[0.9,\\\"#4d9221\\\"],[1,\\\"#276419\\\"]],\\\"sequentialminus\\\":[[0.0,\\\"#0d0887\\\"],[0.1111111111111111,\\\"#46039f\\\"],[0.2222222222222222,\\\"#7201a8\\\"],[0.3333333333333333,\\\"#9c179e\\\"],[0.4444444444444444,\\\"#bd3786\\\"],[0.5555555555555556,\\\"#d8576b\\\"],[0.6666666666666666,\\\"#ed7953\\\"],[0.7777777777777778,\\\"#fb9f3a\\\"],[0.8888888888888888,\\\"#fdca26\\\"],[1.0,\\\"#f0f921\\\"]]},\\\"yaxis\\\":{\\\"gridcolor\\\":\\\"white\\\",\\\"zerolinewidth\\\":2,\\\"title\\\":{\\\"standoff\\\":15},\\\"ticks\\\":\\\"\\\",\\\"zerolinecolor\\\":\\\"white\\\",\\\"automargin\\\":true,\\\"linecolor\\\":\\\"white\\\"},\\\"shapedefaults\\\":{\\\"line\\\":{\\\"color\\\":\\\"#2a3f5f\\\"}},\\\"hoverlabel\\\":{\\\"align\\\":\\\"left\\\"},\\\"mapbox\\\":{\\\"style\\\":\\\"light\\\"},\\\"polar\\\":{\\\"angularaxis\\\":{\\\"gridcolor\\\":\\\"white\\\",\\\"ticks\\\":\\\"\\\",\\\"linecolor\\\":\\\"white\\\"},\\\"bgcolor\\\":\\\"#E5ECF6\\\",\\\"radialaxis\\\":{\\\"gridcolor\\\":\\\"white\\\",\\\"ticks\\\":\\\"\\\",\\\"linecolor\\\":\\\"white\\\"}},\\\"autotypenumbers\\\":\\\"strict\\\",\\\"font\\\":{\\\"color\\\":\\\"#2a3f5f\\\"},\\\"ternary\\\":{\\\"baxis\\\":{\\\"gridcolor\\\":\\\"white\\\",\\\"ticks\\\":\\\"\\\",\\\"linecolor\\\":\\\"white\\\"},\\\"bgcolor\\\":\\\"#E5ECF6\\\",\\\"caxis\\\":{\\\"gridcolor\\\":\\\"white\\\",\\\"ticks\\\":\\\"\\\",\\\"linecolor\\\":\\\"white\\\"},\\\"aaxis\\\":{\\\"gridcolor\\\":\\\"white\\\",\\\"ticks\\\":\\\"\\\",\\\"linecolor\\\":\\\"white\\\"}},\\\"annotationdefaults\\\":{\\\"arrowhead\\\":0,\\\"arrowwidth\\\":1,\\\"arrowcolor\\\":\\\"#2a3f5f\\\"},\\\"plot_bgcolor\\\":\\\"#E5ECF6\\\",\\\"title\\\":{\\\"x\\\":0.05},\\\"scene\\\":{\\\"xaxis\\\":{\\\"gridcolor\\\":\\\"white\\\",\\\"gridwidth\\\":2,\\\"backgroundcolor\\\":\\\"#E5ECF6\\\",\\\"ticks\\\":\\\"\\\",\\\"showbackground\\\":true,\\\"zerolinecolor\\\":\\\"white\\\",\\\"linecolor\\\":\\\"white\\\"},\\\"zaxis\\\":{\\\"gridcolor\\\":\\\"white\\\",\\\"gridwidth\\\":2,\\\"backgroundcolor\\\":\\\"#E5ECF6\\\",\\\"ticks\\\":\\\"\\\",\\\"showbackground\\\":true,\\\"zerolinecolor\\\":\\\"white\\\",\\\"linecolor\\\":\\\"white\\\"},\\\"yaxis\\\":{\\\"gridcolor\\\":\\\"white\\\",\\\"gridwidth\\\":2,\\\"backgroundcolor\\\":\\\"#E5ECF6\\\",\\\"ticks\\\":\\\"\\\",\\\"showbackground\\\":true,\\\"zerolinecolor\\\":\\\"white\\\",\\\"linecolor\\\":\\\"white\\\"}},\\\"colorway\\\":[\\\"#636efa\\\",\\\"#EF553B\\\",\\\"#00cc96\\\",\\\"#ab63fa\\\",\\\"#FFA15A\\\",\\\"#19d3f3\\\",\\\"#FF6692\\\",\\\"#B6E880\\\",\\\"#FF97FF\\\",\\\"#FECB52\\\"]},\\\"data\\\":{\\\"barpolar\\\":[{\\\"type\\\":\\\"barpolar\\\",\\\"marker\\\":{\\\"line\\\":{\\\"color\\\":\\\"#E5ECF6\\\",\\\"width\\\":0.5}}}],\\\"carpet\\\":[{\\\"aaxis\\\":{\\\"gridcolor\\\":\\\"white\\\",\\\"endlinecolor\\\":\\\"#2a3f5f\\\",\\\"minorgridcolor\\\":\\\"white\\\",\\\"startlinecolor\\\":\\\"#2a3f5f\\\",\\\"linecolor\\\":\\\"white\\\"},\\\"type\\\":\\\"carpet\\\",\\\"baxis\\\":{\\\"gridcolor\\\":\\\"white\\\",\\\"endlinecolor\\\":\\\"#2a3f5f\\\",\\\"minorgridcolor\\\":\\\"white\\\",\\\"startlinecolor\\\":\\\"#2a3f5f\\\",\\\"linecolor\\\":\\\"white\\\"}}],\\\"scatterpolar\\\":[{\\\"type\\\":\\\"scatterpolar\\\",\\\"marker\\\":{\\\"colorbar\\\":{\\\"ticks\\\":\\\"\\\",\\\"outlinewidth\\\":0}}}],\\\"parcoords\\\":[{\\\"line\\\":{\\\"colorbar\\\":{\\\"ticks\\\":\\\"\\\",\\\"outlinewidth\\\":0}},\\\"type\\\":\\\"parcoords\\\"}],\\\"scatter\\\":[{\\\"type\\\":\\\"scatter\\\",\\\"marker\\\":{\\\"colorbar\\\":{\\\"ticks\\\":\\\"\\\",\\\"outlinewidth\\\":0}}}],\\\"histogram2dcontour\\\":[{\\\"colorbar\\\":{\\\"ticks\\\":\\\"\\\",\\\"outlinewidth\\\":0},\\\"type\\\":\\\"histogram2dcontour\\\",\\\"colorscale\\\":[[0.0,\\\"#0d0887\\\"],[0.1111111111111111,\\\"#46039f\\\"],[0.2222222222222222,\\\"#7201a8\\\"],[0.3333333333333333,\\\"#9c179e\\\"],[0.4444444444444444,\\\"#bd3786\\\"],[0.5555555555555556,\\\"#d8576b\\\"],[0.6666666666666666,\\\"#ed7953\\\"],[0.7777777777777778,\\\"#fb9f3a\\\"],[0.8888888888888888,\\\"#fdca26\\\"],[1.0,\\\"#f0f921\\\"]]}],\\\"contour\\\":[{\\\"colorbar\\\":{\\\"ticks\\\":\\\"\\\",\\\"outlinewidth\\\":0},\\\"type\\\":\\\"contour\\\",\\\"colorscale\\\":[[0.0,\\\"#0d0887\\\"],[0.1111111111111111,\\\"#46039f\\\"],[0.2222222222222222,\\\"#7201a8\\\"],[0.3333333333333333,\\\"#9c179e\\\"],[0.4444444444444444,\\\"#bd3786\\\"],[0.5555555555555556,\\\"#d8576b\\\"],[0.6666666666666666,\\\"#ed7953\\\"],[0.7777777777777778,\\\"#fb9f3a\\\"],[0.8888888888888888,\\\"#fdca26\\\"],[1.0,\\\"#f0f921\\\"]]}],\\\"scattercarpet\\\":[{\\\"type\\\":\\\"scattercarpet\\\",\\\"marker\\\":{\\\"colorbar\\\":{\\\"ticks\\\":\\\"\\\",\\\"outlinewidth\\\":0}}}],\\\"mesh3d\\\":[{\\\"colorbar\\\":{\\\"ticks\\\":\\\"\\\",\\\"outlinewidth\\\":0},\\\"type\\\":\\\"mesh3d\\\"}],\\\"surface\\\":[{\\\"colorbar\\\":{\\\"ticks\\\":\\\"\\\",\\\"outlinewidth\\\":0},\\\"type\\\":\\\"surface\\\",\\\"colorscale\\\":[[0.0,\\\"#0d0887\\\"],[0.1111111111111111,\\\"#46039f\\\"],[0.2222222222222222,\\\"#7201a8\\\"],[0.3333333333333333,\\\"#9c179e\\\"],[0.4444444444444444,\\\"#bd3786\\\"],[0.5555555555555556,\\\"#d8576b\\\"],[0.6666666666666666,\\\"#ed7953\\\"],[0.7777777777777778,\\\"#fb9f3a\\\"],[0.8888888888888888,\\\"#fdca26\\\"],[1.0,\\\"#f0f921\\\"]]}],\\\"scattermapbox\\\":[{\\\"type\\\":\\\"scattermapbox\\\",\\\"marker\\\":{\\\"colorbar\\\":{\\\"ticks\\\":\\\"\\\",\\\"outlinewidth\\\":0}}}],\\\"scattergeo\\\":[{\\\"type\\\":\\\"scattergeo\\\",\\\"marker\\\":{\\\"colorbar\\\":{\\\"ticks\\\":\\\"\\\",\\\"outlinewidth\\\":0}}}],\\\"histogram\\\":[{\\\"type\\\":\\\"histogram\\\",\\\"marker\\\":{\\\"colorbar\\\":{\\\"ticks\\\":\\\"\\\",\\\"outlinewidth\\\":0}}}],\\\"pie\\\":[{\\\"type\\\":\\\"pie\\\",\\\"automargin\\\":true}],\\\"choropleth\\\":[{\\\"colorbar\\\":{\\\"ticks\\\":\\\"\\\",\\\"outlinewidth\\\":0},\\\"type\\\":\\\"choropleth\\\"}],\\\"heatmapgl\\\":[{\\\"colorbar\\\":{\\\"ticks\\\":\\\"\\\",\\\"outlinewidth\\\":0},\\\"type\\\":\\\"heatmapgl\\\",\\\"colorscale\\\":[[0.0,\\\"#0d0887\\\"],[0.1111111111111111,\\\"#46039f\\\"],[0.2222222222222222,\\\"#7201a8\\\"],[0.3333333333333333,\\\"#9c179e\\\"],[0.4444444444444444,\\\"#bd3786\\\"],[0.5555555555555556,\\\"#d8576b\\\"],[0.6666666666666666,\\\"#ed7953\\\"],[0.7777777777777778,\\\"#fb9f3a\\\"],[0.8888888888888888,\\\"#fdca26\\\"],[1.0,\\\"#f0f921\\\"]]}],\\\"bar\\\":[{\\\"type\\\":\\\"bar\\\",\\\"error_y\\\":{\\\"color\\\":\\\"#2a3f5f\\\"},\\\"error_x\\\":{\\\"color\\\":\\\"#2a3f5f\\\"},\\\"marker\\\":{\\\"line\\\":{\\\"color\\\":\\\"#E5ECF6\\\",\\\"width\\\":0.5}}}],\\\"heatmap\\\":[{\\\"colorbar\\\":{\\\"ticks\\\":\\\"\\\",\\\"outlinewidth\\\":0},\\\"type\\\":\\\"heatmap\\\",\\\"colorscale\\\":[[0.0,\\\"#0d0887\\\"],[0.1111111111111111,\\\"#46039f\\\"],[0.2222222222222222,\\\"#7201a8\\\"],[0.3333333333333333,\\\"#9c179e\\\"],[0.4444444444444444,\\\"#bd3786\\\"],[0.5555555555555556,\\\"#d8576b\\\"],[0.6666666666666666,\\\"#ed7953\\\"],[0.7777777777777778,\\\"#fb9f3a\\\"],[0.8888888888888888,\\\"#fdca26\\\"],[1.0,\\\"#f0f921\\\"]]}],\\\"contourcarpet\\\":[{\\\"colorbar\\\":{\\\"ticks\\\":\\\"\\\",\\\"outlinewidth\\\":0},\\\"type\\\":\\\"contourcarpet\\\"}],\\\"table\\\":[{\\\"type\\\":\\\"table\\\",\\\"header\\\":{\\\"line\\\":{\\\"color\\\":\\\"white\\\"},\\\"fill\\\":{\\\"color\\\":\\\"#C8D4E3\\\"}},\\\"cells\\\":{\\\"line\\\":{\\\"color\\\":\\\"white\\\"},\\\"fill\\\":{\\\"color\\\":\\\"#EBF0F8\\\"}}}],\\\"scatter3d\\\":[{\\\"line\\\":{\\\"colorbar\\\":{\\\"ticks\\\":\\\"\\\",\\\"outlinewidth\\\":0}},\\\"type\\\":\\\"scatter3d\\\",\\\"marker\\\":{\\\"colorbar\\\":{\\\"ticks\\\":\\\"\\\",\\\"outlinewidth\\\":0}}}],\\\"scattergl\\\":[{\\\"type\\\":\\\"scattergl\\\",\\\"marker\\\":{\\\"colorbar\\\":{\\\"ticks\\\":\\\"\\\",\\\"outlinewidth\\\":0}}}],\\\"histogram2d\\\":[{\\\"colorbar\\\":{\\\"ticks\\\":\\\"\\\",\\\"outlinewidth\\\":0},\\\"type\\\":\\\"histogram2d\\\",\\\"colorscale\\\":[[0.0,\\\"#0d0887\\\"],[0.1111111111111111,\\\"#46039f\\\"],[0.2222222222222222,\\\"#7201a8\\\"],[0.3333333333333333,\\\"#9c179e\\\"],[0.4444444444444444,\\\"#bd3786\\\"],[0.5555555555555556,\\\"#d8576b\\\"],[0.6666666666666666,\\\"#ed7953\\\"],[0.7777777777777778,\\\"#fb9f3a\\\"],[0.8888888888888888,\\\"#fdca26\\\"],[1.0,\\\"#f0f921\\\"]]}],\\\"scatterternary\\\":[{\\\"type\\\":\\\"scatterternary\\\",\\\"marker\\\":{\\\"colorbar\\\":{\\\"ticks\\\":\\\"\\\",\\\"outlinewidth\\\":0}}}],\\\"scatterpolargl\\\":[{\\\"type\\\":\\\"scatterpolargl\\\",\\\"marker\\\":{\\\"colorbar\\\":{\\\"ticks\\\":\\\"\\\",\\\"outlinewidth\\\":0}}}]}},\\\"margin\\\":{\\\"l\\\":50,\\\"b\\\":50,\\\"r\\\":50,\\\"t\\\":60},\\\"title\\\":\\\" Approximation via B-Splines with equidistant  knot points\\\",\\\"yaxis\\\":{\\\"title\\\":{\\\"text\\\":\\\"y\\\"}}},{\\\"showLink\\\":false,\\\"editable\\\":false,\\\"responsive\\\":true,\\\"staticPlot\\\":false,\\\"scrollZoom\\\":true}); gd.on(\\\"plotly_hover\\\",(function (data){var filtered_data=WebIO.PlotlyCommands.filterEventData(gd,data,\\\"hover\\\"); return !(filtered_data.isnil) ? (WebIO.setval({\\\"name\\\":\\\"hover\\\",\\\"scope\\\":\\\"6687599483104265440\\\",\\\"id\\\":\\\"4663985974182563801\\\",\\\"type\\\":\\\"observable\\\"},filtered_data.out)) : undefined})); gd.on(\\\"plotly_unhover\\\",(function (){return WebIO.setval({\\\"name\\\":\\\"hover\\\",\\\"scope\\\":\\\"6687599483104265440\\\",\\\"id\\\":\\\"4663985974182563801\\\",\\\"type\\\":\\\"observable\\\"},{})})); gd.on(\\\"plotly_selected\\\",(function (data){var filtered_data=WebIO.PlotlyCommands.filterEventData(gd,data,\\\"selected\\\"); return !(filtered_data.isnil) ? (WebIO.setval({\\\"name\\\":\\\"selected\\\",\\\"scope\\\":\\\"6687599483104265440\\\",\\\"id\\\":\\\"2821984612297601696\\\",\\\"type\\\":\\\"observable\\\"},filtered_data.out)) : undefined})); gd.on(\\\"plotly_deselect\\\",(function (){return WebIO.setval({\\\"name\\\":\\\"selected\\\",\\\"scope\\\":\\\"6687599483104265440\\\",\\\"id\\\":\\\"2821984612297601696\\\",\\\"type\\\":\\\"observable\\\"},{})})); gd.on(\\\"plotly_relayout\\\",(function (data){var filtered_data=WebIO.PlotlyCommands.filterEventData(gd,data,\\\"relayout\\\"); return !(filtered_data.isnil) ? (WebIO.setval({\\\"name\\\":\\\"relayout\\\",\\\"scope\\\":\\\"6687599483104265440\\\",\\\"id\\\":\\\"4356174947214886726\\\",\\\"type\\\":\\\"observable\\\"},filtered_data.out)) : undefined})); return gd.on(\\\"plotly_click\\\",(function (data){var filtered_data=WebIO.PlotlyCommands.filterEventData(gd,data,\\\"click\\\"); return !(filtered_data.isnil) ? (WebIO.setval({\\\"name\\\":\\\"click\\\",\\\"scope\\\":\\\"6687599483104265440\\\",\\\"id\\\":\\\"9770293043117197999\\\",\\\"type\\\":\\\"observable\\\"},filtered_data.out)) : undefined}))}));\\n    (WebIO.importBlock({\\\"data\\\":[{\\\"name\\\":\\\"Plotly\\\",\\\"type\\\":\\\"js\\\",\\\"url\\\":\\\"\\/assetserver\\/499590eaec904dd55fafb36dbac61b115c3c7397-plotly.min.js\\\"},{\\\"name\\\":null,\\\"type\\\":\\\"js\\\",\\\"url\\\":\\\"\\/assetserver\\/516b44ebc40e7d2763d8f7a52f8fb4f892cb9be8-plotly_webio.bundle.js\\\"}],\\\"type\\\":\\\"async_block\\\"})).then((imports) => handler.apply(this, imports));\\n}\\n\"],\"observables\":{\"_toImage\":{\"sync\":false,\"id\":\"16470809153208450263\",\"value\":{}},\"hover\":{\"sync\":false,\"id\":\"4663985974182563801\",\"value\":{}},\"selected\":{\"sync\":false,\"id\":\"2821984612297601696\",\"value\":{}},\"__gd_contents\":{\"sync\":false,\"id\":\"6294508768428978548\",\"value\":{}},\"click\":{\"sync\":false,\"id\":\"9770293043117197999\",\"value\":{}},\"image\":{\"sync\":true,\"id\":\"7024258885997356043\",\"value\":\"\"},\"__get_gd_contents\":{\"sync\":false,\"id\":\"13138423305351990496\",\"value\":\"\"},\"_downloadImage\":{\"sync\":false,\"id\":\"11242174623146049250\",\"value\":{}},\"relayout\":{\"sync\":false,\"id\":\"4356174947214886726\",\"value\":{}},\"_commands\":{\"sync\":false,\"id\":\"7394463201402955561\",\"value\":[]}}},\"children\":[{\"props\":{\"id\":\"plot-e38ff9b3-f83a-47c1-b8dd-3610defda297\"},\"nodeType\":\"DOM\",\"type\":\"node\",\"instanceArgs\":{\"namespace\":\"html\",\"tag\":\"div\"},\"children\":[]}]},\n",
       "        window,\n",
       "    );\n",
       "    })()\n",
       "    </script>\n",
       "</div>\n"
      ],
      "text/plain": [
       "data: [\n",
       "  \"scatter with fields mode, name, type, x, and y\",\n",
       "  \"scatter with fields marker, mode, name, type, x, and y\",\n",
       "  \"scatter with fields marker, mode, name, type, x, and y\"\n",
       "]\n",
       "\n",
       "layout: \"layout with fields margin, template, title, xaxis, and yaxis\"\n",
       "\n"
      ]
     },
     "execution_count": 39,
     "metadata": {},
     "output_type": "execute_result"
    }
   ],
   "source": [
    "spline_points=-3:0.4:3\n",
    "spline_order = 3\n",
    "spline_basis = BSplineBasis(spline_order, spline_points)\n",
    "\n",
    "spl_approx = approximate(f_sin, spline_basis)\n",
    "\n",
    "x=-3:0.01:3\n",
    "\n",
    "trace0 = Plotly.scatter(x=x, y=f_sin.(x),mode=\"lines\", name=\"Exact function value\")\n",
    "trace1 = Plotly.scatter(x=spline_points, y=f_sin.(spline_points),mode=\"markers\", name=\"Function at knots\", \n",
    "    marker=attr(color=\"LightSkyBlue\",size=10))\n",
    "trace2 = Plotly.scatter(x=x, y=spl_approx.(x),mode=\"markers\", name=\"B-Spline approximation\",\n",
    "    marker=attr(color=\"Green\",size=2))\n",
    "\n",
    "layout = Layout(title=\" Approximation via B-Splines with equidistant  knot points\",\n",
    "\n",
    "                   xaxis_title=\"x\",\n",
    "\n",
    "                   yaxis_title=\"y\")\n",
    "\n",
    "# Make plot\n",
    "Plotly.plot([trace0, trace1,trace2],layout)"
   ]
  },
  {
   "cell_type": "markdown",
   "id": "bdf3d504",
   "metadata": {},
   "source": [
    "Get maximal approximation error on all interpolated points:"
   ]
  },
  {
   "cell_type": "code",
   "execution_count": null,
   "id": "be71ce87",
   "metadata": {},
   "outputs": [],
   "source": [
    "err=findmax(abs.(spl_approx.(x)-f_sin.(x)));\n",
    "#returns both maximal error and its location in x\n",
    "\n",
    "print(\"The maximal error between B-Spline and exact curve among all \", length(x), \n",
    "    \" interpolated points is \",  err[1], \" and is assumed at the point x = \", x[err[2]])"
   ]
  },
  {
   "cell_type": "markdown",
   "id": "f0e750db",
   "metadata": {},
   "source": [
    "# In-class Exercise: Calculate accuracy of polynomial approximations"
   ]
  },
  {
   "cell_type": "markdown",
   "id": "a139f027",
   "metadata": {},
   "source": [
    "<b> Your Task: </b> For the function $f(x)=e^x$ on the interval $[-1,1]$, approximate $f(x)$ with Chebyshev polynomials supported on $N=1,2,\\dots,10$ internal Chebyshev points. For each $N$, compute the maximal approximation error $\\epsilon(N)$ for 1001 equidistant points within $[-1,1]$. Plot $\\epsilon(N)$ as a function of $N$. Repeat this for B-Spline approximation, where $N$ now stands for the number of knots. Compare the error function $\\epsilon(N)$ for both types of approximations."
   ]
  },
  {
   "cell_type": "markdown",
   "id": "585dd16f",
   "metadata": {},
   "source": [
    "<b> Exploration: </b> Repeat the above task for the function $g(x)=\\cos(10x^2)$, and compare its approximation error curve with that of $f(x)$. Which function is harder to approximate?"
   ]
  },
  {
   "cell_type": "code",
   "execution_count": null,
   "id": "107a3eb6",
   "metadata": {},
   "outputs": [],
   "source": []
  }
 ],
 "metadata": {
  "@webio": {
   "lastCommId": "7d9c1cc1ecc848ff85ccc492d92215ee",
   "lastKernelId": "4f4cb225-49cd-4ea5-80ff-eee1da274e7f"
  },
  "kernelspec": {
   "display_name": "Julia 1.10.7",
   "language": "julia",
   "name": "julia-1.10"
  },
  "language_info": {
   "file_extension": ".jl",
   "mimetype": "application/julia",
   "name": "julia",
   "version": "1.10.7"
  }
 },
 "nbformat": 4,
 "nbformat_minor": 5
}
