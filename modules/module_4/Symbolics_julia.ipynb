{
 "cells": [
  {
   "cell_type": "markdown",
   "id": "c43ee9c2-4cc5-4217-ac86-bb0361dce1ba",
   "metadata": {},
   "source": [
    "---\n",
    "title: Symbolic Algebra in Julia\n",
    "venue: Modules\n",
    "---"
   ]
  },
  {
   "cell_type": "markdown",
   "id": "2431c084",
   "metadata": {},
   "source": [
    "Package for symbolic manipulation such as standard algebra and differentation: https://symbolics.juliasymbolics.org/stable/\n",
    "\n",
    "Package for symbolic integration (requires Symbolics package):  https://docs.sciml.ai/SymbolicNumericIntegration/stable/"
   ]
  },
  {
   "cell_type": "code",
   "execution_count": null,
   "id": "ee33ca94",
   "metadata": {
    "tags": []
   },
   "outputs": [],
   "source": [
    "using Pkg\n",
    "Pkg.add(\"Symbolics\")\n",
    "Pkg.add(\"SymbolicNumericIntegration\")\n",
    "using Symbolics\n",
    "using SymbolicNumericIntegration"
   ]
  },
  {
   "cell_type": "markdown",
   "id": "9ab87f13",
   "metadata": {},
   "source": [
    "Create symbolic variables $x,y$"
   ]
  },
  {
   "cell_type": "code",
   "execution_count": null,
   "id": "31fc41d6",
   "metadata": {
    "tags": []
   },
   "outputs": [],
   "source": [
    "@variables x y"
   ]
  },
  {
   "cell_type": "markdown",
   "id": "d412e542",
   "metadata": {},
   "source": [
    "Evaluate indefinite integral $\\int (3x^3+2x-5)\\  dx= \\frac{3}{4}x^4+x^2-5x $: Returns 3-tuple (Result, Unsolved, Residual). Residual should be zero if integral can be solved exactly."
   ]
  },
  {
   "cell_type": "code",
   "execution_count": null,
   "id": "f4c4b93a",
   "metadata": {
    "tags": []
   },
   "outputs": [],
   "source": [
    "integrate(3x^3 + 2x - 5)"
   ]
  },
  {
   "cell_type": "markdown",
   "id": "de1534c7",
   "metadata": {},
   "source": [
    "Result does <b>not</b> include integration constant!"
   ]
  },
  {
   "cell_type": "markdown",
   "id": "a09efe3d",
   "metadata": {},
   "source": [
    "Another example : $\\int \\frac{dx}{(1+2x)^2}=$ ?"
   ]
  },
  {
   "cell_type": "code",
   "execution_count": null,
   "id": "cefd0551",
   "metadata": {},
   "outputs": [],
   "source": [
    "integrate((1 + 2x)^-2)"
   ]
  },
  {
   "cell_type": "markdown",
   "id": "eaefde2c",
   "metadata": {},
   "source": [
    "Gaussian integral $\\int e^{-x^2} dx$ does not have elementary expression:"
   ]
  },
  {
   "cell_type": "code",
   "execution_count": null,
   "id": "f843dbbe",
   "metadata": {},
   "outputs": [],
   "source": [
    "integrate(exp(-x^2))"
   ]
  },
  {
   "cell_type": "markdown",
   "id": "36ad7b3b",
   "metadata": {},
   "source": [
    "A few more challenging examples: $\\int \\tan(x) dx, \\ \\ \\int \\frac{dx}{\\sin(x)}$"
   ]
  },
  {
   "cell_type": "code",
   "execution_count": null,
   "id": "458be0b4",
   "metadata": {},
   "outputs": [],
   "source": [
    "integrate(tan(x))"
   ]
  },
  {
   "cell_type": "code",
   "execution_count": null,
   "id": "91651155",
   "metadata": {},
   "outputs": [],
   "source": [
    "integrate(1/sin(x))"
   ]
  },
  {
   "cell_type": "markdown",
   "id": "315949ab",
   "metadata": {},
   "source": [
    "<b> Exercise: </b> Can you guess which of the following integrals are exactly solvable and which ones are not? Try and check your results with symbolic integration."
   ]
  },
  {
   "cell_type": "markdown",
   "id": "3c53a4a8",
   "metadata": {},
   "source": [
    "a) $\\int \\log^2 (x)\\  dx$\n",
    "\n",
    "b) $\\int \\frac{dx}{\\log(x)} $\n",
    "\n",
    "c) $\\int \\frac{dx}{x \\log(x)} $\n",
    "\n",
    "d) $\\int \\sin(x^2) \\ dx $\n",
    "\n",
    "e) $\\int \\frac{\\sin(x)}{x} dx$ \n",
    "\n",
    "f) $\\int \\frac{ \\sin(\\log(x))}{x}  dx $"
   ]
  },
  {
   "cell_type": "code",
   "execution_count": null,
   "id": "4c94a7f3",
   "metadata": {},
   "outputs": [],
   "source": [
    "integrate(sin(log(x))/x)"
   ]
  },
  {
   "cell_type": "markdown",
   "id": "7fd9fbaa",
   "metadata": {},
   "source": [
    "<b> Calculating derivatives: </b>"
   ]
  },
  {
   "cell_type": "markdown",
   "id": "96ae1fa0",
   "metadata": {},
   "source": [
    "Generate derivative operator first:"
   ]
  },
  {
   "cell_type": "code",
   "execution_count": null,
   "id": "3f44505a",
   "metadata": {},
   "outputs": [],
   "source": [
    "@variables t\n",
    "D = Differential(t)"
   ]
  },
  {
   "cell_type": "markdown",
   "id": "dfdeedf1",
   "metadata": {},
   "source": [
    "Compute derivative of $z(t)=t+\\frac{t^2}{2}$ in abstract form:"
   ]
  },
  {
   "cell_type": "code",
   "execution_count": null,
   "id": "e047ed8c",
   "metadata": {},
   "outputs": [],
   "source": [
    "z = t + (1/2)t^2\n",
    "D(z)"
   ]
  },
  {
   "cell_type": "markdown",
   "id": "66f809f3",
   "metadata": {},
   "source": [
    "Evaluate derivative algebraically:"
   ]
  },
  {
   "cell_type": "code",
   "execution_count": null,
   "id": "522675e9",
   "metadata": {},
   "outputs": [],
   "source": [
    "expand_derivatives(D(z))"
   ]
  },
  {
   "cell_type": "markdown",
   "id": "d3c6107e",
   "metadata": {},
   "source": [
    "<b>Algebraic simplification and substitution </b>"
   ]
  },
  {
   "cell_type": "code",
   "execution_count": null,
   "id": "bb367518",
   "metadata": {},
   "outputs": [],
   "source": [
    "B = simplify.([t + t^2 + t + t^2  2t + 4t\n",
    "               x + y + y + 2t     x^2 - x^2 + y^2])"
   ]
  },
  {
   "cell_type": "markdown",
   "id": "ba662fdb",
   "metadata": {},
   "source": [
    "Substitute symbolic expression for variable: $x->y^2$"
   ]
  },
  {
   "cell_type": "code",
   "execution_count": null,
   "id": "a0b9c6a1",
   "metadata": {},
   "outputs": [],
   "source": [
    "simplify.(substitute.(B, (Dict(x => y^2),)))"
   ]
  },
  {
   "cell_type": "markdown",
   "id": "68aa1a6e",
   "metadata": {},
   "source": [
    "Substitute numerical values for all variables:"
   ]
  },
  {
   "cell_type": "code",
   "execution_count": null,
   "id": "c6428a78",
   "metadata": {},
   "outputs": [],
   "source": [
    "V = substitute.(B, (Dict(x => 2.0, y => 3.0, t => 4.0),))"
   ]
  },
  {
   "cell_type": "code",
   "execution_count": null,
   "id": "5859658a",
   "metadata": {},
   "outputs": [],
   "source": []
  }
 ],
 "metadata": {
  "kernelspec": {
   "display_name": "Julia 1.10.7",
   "language": "julia",
   "name": "julia-1.10"
  },
  "language_info": {
   "file_extension": ".jl",
   "mimetype": "application/julia",
   "name": "julia",
   "version": "1.10.7"
  }
 },
 "nbformat": 4,
 "nbformat_minor": 5
}
