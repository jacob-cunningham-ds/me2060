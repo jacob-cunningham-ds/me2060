{
 "cells": [
  {
   "cell_type": "markdown",
   "id": "ebc9eb5a-1bb5-4470-962a-4faee53d7fcd",
   "metadata": {},
   "source": [
    "---\n",
    "title: Numerical Integration in Julia\n",
    "venue: Modules\n",
    "---"
   ]
  },
  {
   "cell_type": "markdown",
   "id": "5d9ded53",
   "metadata": {},
   "source": [
    "<b> QuadGK </b> package for 1D integration: https://juliamath.github.io/QuadGK.jl/stable/"
   ]
  },
  {
   "cell_type": "code",
   "execution_count": 23,
   "id": "ee1913c8",
   "metadata": {
    "tags": []
   },
   "outputs": [
    {
     "name": "stderr",
     "output_type": "stream",
     "text": [
      "\u001b[32m\u001b[1m    Updating\u001b[22m\u001b[39m registry at `~/.julia/registries/General.toml`\n",
      "\u001b[32m\u001b[1m   Resolving\u001b[22m\u001b[39m package versions...\n",
      "\u001b[32m\u001b[1m  No Changes\u001b[22m\u001b[39m to `~/.julia/environments/v1.11/Project.toml`\n",
      "\u001b[32m\u001b[1m  No Changes\u001b[22m\u001b[39m to `~/.julia/environments/v1.11/Manifest.toml`\n"
     ]
    }
   ],
   "source": [
    "using Pkg\n",
    "Pkg.add(\"QuadGK\")\n",
    "#Pkg.add(\"SymbolicNumericIntegration\")\n",
    "using QuadGK, Plots,ApproxFun, LaTeXStrings"
   ]
  },
  {
   "cell_type": "markdown",
   "id": "b4aca920",
   "metadata": {},
   "source": [
    "Automatic numeric evaluation of a simple integral with adaptive <b> Gauss-Konrod </b> scheme, only need to specify function and interval boundaries: $\\int_{-1}^1 5x^4 \\ dx= \\left[x^5\\right]_{-1}^1=2$"
   ]
  },
  {
   "cell_type": "code",
   "execution_count": null,
   "id": "6b976c45",
   "metadata": {
    "tags": []
   },
   "outputs": [],
   "source": [
    "f(x)=5x^4\n",
    "#Define endpoints of integration interval [a, b]\n",
    "interval_a=-1\n",
    "interval_b=1\n",
    "result, error = quadgk(f, interval_a, interval_b);\n",
    "using Printf\n",
    "@printf \"Numerical result for the integral is %f, error is %e\" result error"
   ]
  },
  {
   "cell_type": "markdown",
   "id": "f01bc244",
   "metadata": {},
   "source": [
    "Get quadrature points and weights for <b> Gauss quadrature </b>:"
   ]
  },
  {
   "cell_type": "code",
   "execution_count": null,
   "id": "cea91e79",
   "metadata": {
    "tags": []
   },
   "outputs": [],
   "source": [
    "#Specify number of weights\n",
    "N=3\n",
    "\n",
    "#Calculate quadrature points and weights\n",
    "x,weights=gauss(N, interval_a, interval_b);\n",
    "\n",
    "@printf \"Gaussian quadrature points for the interval [-1, 1] are: %f,%f,%f\\n\" x[1] x[2] x[3] \n",
    "@printf \"Weights for the quadrature points within the interval [-1, 1] are: %f,%f,%f\" weights[1] weights[2] weights[3] "
   ]
  },
  {
   "cell_type": "markdown",
   "id": "f8e52912",
   "metadata": {},
   "source": [
    "Visualize the Gauss quadrature points on the interval [-1, 1]:"
   ]
  },
  {
   "cell_type": "code",
   "execution_count": null,
   "id": "9d8c325a",
   "metadata": {
    "tags": []
   },
   "outputs": [],
   "source": [
    "xfine=(-1:0.01:1)\n",
    "scatter(x,f.(x),label=\"Quadrature points\")\n",
    "plot!(xfine,f.(xfine),label=\"f(x)\", legend=:top)\n"
   ]
  },
  {
   "cell_type": "markdown",
   "id": "a797cf56",
   "metadata": {},
   "source": [
    "Calculate integral with quadrature points and weights: $\\int_a^b f(x) \\ dx \\approx \\sum w_i\\cdot  f(x_i)$ "
   ]
  },
  {
   "cell_type": "code",
   "execution_count": null,
   "id": "8dbeb5e3",
   "metadata": {
    "tags": []
   },
   "outputs": [],
   "source": [
    "result=sum(weights.*f.(x));\n",
    "@printf \"Numerical integral from %i quadrature points is %1.16f, exact value is 2.0 \" N result "
   ]
  },
  {
   "cell_type": "markdown",
   "id": "eda34113",
   "metadata": {},
   "source": [
    "<b> Number of Gauss quadrature points vs. accuracy for polynomials of different orders </b>"
   ]
  },
  {
   "cell_type": "code",
   "execution_count": null,
   "id": "be976882",
   "metadata": {
    "tags": []
   },
   "outputs": [],
   "source": [
    "function gquad_error(order,NQuad)\n",
    "        #f(x) =x^order, order should be even\n",
    "        f(x)=(order+1)*x^order\n",
    "        x,weights=gauss(NQuad, interval_a, interval_b)\n",
    "        result=quadgk(f,interval_a,interval_b)[1]-sum(weights.*f.(x))\n",
    "end"
   ]
  },
  {
   "cell_type": "markdown",
   "id": "84da1c74",
   "metadata": {},
   "source": [
    "Let $n=2m$ be the even order of a polynomial function $f(x)=x^n$. Then a minimum of $n/2+1=m+1$ Gauss quadrature points are needed to compute the integral exactly on the interval $[-1,1]$ (to within machine precision). If $n=2m+1$ is odd, then $1$ single quadrature point is needed."
   ]
  },
  {
   "cell_type": "code",
   "execution_count": null,
   "id": "fd26a9ea",
   "metadata": {
    "tags": []
   },
   "outputs": [],
   "source": [
    "N_order=16\n",
    "N_QPoints=8\n",
    "err=gquad_error(N_order,N_QPoints);\n",
    "@printf \"Error for numerical integral of order %i using %i quadrature points is %e\\n\" N_order N_QPoints err\n",
    "\n",
    "N_order=16\n",
    "N_QPoints=9\n",
    "err=gquad_error(N_order,N_QPoints);\n",
    "@printf \"Error for numerical integral of order %i using %i quadrature points is %e\\n\" N_order N_QPoints err\n",
    "\n",
    "N_order=15\n",
    "N_QPoints=1\n",
    "err=gquad_error(N_order,N_QPoints);\n",
    "@printf \"Error for numerical integral of order %i using %i quadrature points is %e\\n\" N_order N_QPoints err"
   ]
  },
  {
   "cell_type": "markdown",
   "id": "fc7120e3",
   "metadata": {},
   "source": [
    "<b> Comparison with other integration schemes </b>"
   ]
  },
  {
   "cell_type": "markdown",
   "id": "28e23566",
   "metadata": {},
   "source": [
    "A general numerical integration scheme, also called quadrature, is based on the evaluation of the function $f(x)$ at a finite number of points $x_0=a,\\dots,x_n=b$ within the integration interval $[a,b]$. It  can be written as:\n",
    "\n",
    "\\begin{equation}\n",
    "    \\int_a^b f(x)\\, dx \\approx h \\sum_{i=0}^n w_if(x_i) =  h \\bigl[ w_0f(x_0)+w_1f(x_1)+\\cdots w_nf(x_n) \\bigr],\n",
    "  \\end{equation}"
   ]
  },
  {
   "cell_type": "markdown",
   "id": "ccf49092",
   "metadata": {},
   "source": [
    "<b> Example: Trapezoid formula </b> (https://tobydriscoll.net/fnc-julia/localapprox/integration.html) \n",
    "\n",
    "\\begin{split}\n",
    "  \\int_a^b f(x)\\, dx \\approx T_f(n) &= h\\left[\n",
    "    \\frac{1}{2}f(x_0) + f(x_1) + f(x_2) + \\cdots + f(x_{n-1}) +\n",
    "    \\frac{1}{2}f(x_n) \\right].\n",
    "\\end{split}"
   ]
  },
  {
   "cell_type": "code",
   "execution_count": 20,
   "id": "55cf6bd8",
   "metadata": {
    "tags": []
   },
   "outputs": [
    {
     "data": {
      "text/plain": [
       "trapezoid"
      ]
     },
     "execution_count": 20,
     "metadata": {},
     "output_type": "execute_result"
    }
   ],
   "source": [
    " \"\"\"\n",
    "     trapezoid(f,a,b,n)\n",
    " \n",
    " Apply the trapezoid integration formula for integrand `f` over\n",
    " interval [`a`,`b`], broken up into `n` equal pieces. Returns\n",
    " the equidistant quadrature points, and the quadrature weights on these points (0.5 for the first and\n",
    " last point, one for all interior points)\n",
    "\"\"\"\n",
    " function trapezoid(a,b,n)\n",
    "    h = (b-a)/(n+1)\n",
    "    x = range(a,b,length=n+2)\n",
    "      weights =ones(1,n+2)*h\n",
    "      weights[1]*=0.5\n",
    "      weights[n+2]*=0.5\n",
    "   \n",
    "    return x,weights\n",
    "end"
   ]
  },
  {
   "cell_type": "markdown",
   "id": "840c691d",
   "metadata": {},
   "source": [
    "Compare Trapezoid scheme with Gauss quadrature  for $\\int_{-1}^1 7x^6 \\ dx =2 $ using the same number of interior points:"
   ]
  },
  {
   "cell_type": "code",
   "execution_count": null,
   "id": "b3149a58",
   "metadata": {
    "tags": []
   },
   "outputs": [],
   "source": [
    "f6(x)=7*x^6"
   ]
  },
  {
   "cell_type": "code",
   "execution_count": null,
   "id": "c0ed2f73",
   "metadata": {
    "tags": []
   },
   "outputs": [],
   "source": [
    "\n",
    "#Fix number of interior points for both Gauss and Trapezoid\n",
    "N_interior=16\n",
    "\n",
    "#Get quadrature points and weights for the trapezoid scheme\n",
    "x_t,weights_t =trapezoid(interval_a,interval_b,N_interior)\n",
    "#Gauss\n",
    "x_g,weights_g=gauss(N_interior, interval_a, interval_b)\n",
    "\n",
    "xfine=(-1:0.01:1)\n",
    "scatter(x_g,f6.(x_g),label=\"Gauss quadrature points\")\n",
    "scatter!(x_t,f6.(x_t),m=:rect,label=\"Trapezoid quadrature points\")\n",
    "plot!(xfine,f6.(xfine),label=L\"f(x)=7x^6\",legend=:top, title=\"Location of Gaussian and Trapezoid quadrature points\")\n",
    "#Plotly.plot([trace0,trace1,trace2])"
   ]
  },
  {
   "cell_type": "code",
   "execution_count": null,
   "id": "14796523",
   "metadata": {
    "tags": []
   },
   "outputs": [],
   "source": [
    "#Trapezoid error\n",
    "result_trapezoid=sum(weights_t*f6.(x_t))\n",
    "error_trapezoid=abs(result_trapezoid-2.0)\n",
    "\n",
    "#Gauss error\n",
    "\n",
    "result_gauss=sum(weights_g.*f6.(x_g))\n",
    "error_gauss=abs(result_gauss-2.0)\n",
    "\n",
    "print(\"Using \", N_interior, \" quadrature points, error for Trapezoid is \",error_trapezoid,\", error for Gauss is \", error_gauss)"
   ]
  },
  {
   "cell_type": "markdown",
   "id": "9dc0723e",
   "metadata": {},
   "source": [
    "<b> Multi-dimensional integration: Cubature package</b> (https://github.com/JuliaMath/Cubature.jl) "
   ]
  },
  {
   "cell_type": "markdown",
   "id": "845a262e",
   "metadata": {},
   "source": [
    "<b> Example: </b> $\\int_{[0,1]\\times[0,1]} 4xy\\  dx dy = \\int_0^1 \\int_0^1 4xy\\ dx dy =\\int_0^1 \\left[2yx^2 \\right]_{x=0}^{x=1} dy = \\int_0^1 2y dy  = 1 $"
   ]
  },
  {
   "cell_type": "code",
   "execution_count": null,
   "id": "f7ea7654",
   "metadata": {
    "tags": []
   },
   "outputs": [],
   "source": [
    "Pkg.add(\"Cubature\")\n",
    "using Cubature"
   ]
  },
  {
   "cell_type": "code",
   "execution_count": null,
   "id": "a8570d43",
   "metadata": {
    "tags": []
   },
   "outputs": [],
   "source": [
    "#Define function on 2D box\n",
    "f2d(x)=4*x[1]*x[2]\n",
    "\n",
    "#Define integration boundaries\n",
    "xmin=[0 0]\n",
    "xmax=[1 1]"
   ]
  },
  {
   "cell_type": "code",
   "execution_count": null,
   "id": "44a4441c",
   "metadata": {
    "tags": []
   },
   "outputs": [],
   "source": [
    "result,error=hcubature(f2d, xmin, xmax);\n",
    "@printf \"Numerical result for the integral is %1.16f, error is %1.16e\" result error"
   ]
  },
  {
   "cell_type": "markdown",
   "id": "bb58651a",
   "metadata": {},
   "source": [
    "# In-Class Exercise"
   ]
  },
  {
   "cell_type": "markdown",
   "id": "2218c379",
   "metadata": {},
   "source": [
    "<b> Simpson's integration formula</b> with $n=2m+2, m\\geq 1$ even interior points is given by </b>\n",
    "\n",
    "  \\begin{split}\n",
    "    \\int_a^b f(x)\\, dx \\approx  \\frac{h}{3}\\bigl[ &f(x_0) + 4f(x_1) + 2f(x_2) + 4f(x_3) + 2f(x_4) + \\cdots\\\\\n",
    "    &+ 2f(x_{n-2}) + 4f(x_{n-1}) + f(x_n) \\bigr].\n",
    "  \\end{split}\n",
    "  \n",
    "  "
   ]
  },
  {
   "cell_type": "markdown",
   "id": "e8a7975f",
   "metadata": {},
   "source": [
    "<b> Exercises 1 and 6 from https://tobydriscoll.net/fnc-julia/localapprox/integration.html#exercises): </b>\n",
    "For $m= 2^k, k=1,2,\\dots,10$, use $2m+1$ interior points to evaluate the following integrals using both the Trapezoid as well as the Simpson scheme. For each function, plot the error as a function of $k$ for each integration scheme.\n",
    "\n",
    " $I_1= \\int_0^1 x\\log(1+x)\\, dx = \\frac{1}{4}$\n",
    " \n",
    " $I_2 =\\int_0^1 \\sqrt{1-x^2}\\,\\, dx = \\frac{\\pi}{4}$\n",
    " \n",
    " <b> Solution:</b>\n"
   ]
  },
  {
   "cell_type": "code",
   "execution_count": 30,
   "id": "b5460c5a",
   "metadata": {},
   "outputs": [
    {
     "data": {
      "text/plain": [
       "simpson (generic function with 2 methods)"
      ]
     },
     "execution_count": 30,
     "metadata": {},
     "output_type": "execute_result"
    }
   ],
   "source": [
    " function simpson(a,b,m)\n",
    "    n = 2*m+2 #last index n in the Simpson formula\n",
    "    \n",
    "    h = (b-a)/n\n",
    "    x = range(a,b,length=n+1)\n",
    "    weights = ones(1,n+1)+ 1.0/3.0*transpose(cos.((1:1:n+1)*pi))\n",
    "    weights[1]=1.0/3.0\n",
    "    weights[n+1]=1.0/3.0\n",
    "    weights*=h\n",
    "    return x,weights\n",
    "end\n",
    "\n"
   ]
  },
  {
   "cell_type": "code",
   "execution_count": 22,
   "id": "40c0f01c-2dcd-4177-b099-2a07351770c9",
   "metadata": {
    "tags": []
   },
   "outputs": [
    {
     "data": {
      "text/plain": [
       "f (generic function with 1 method)"
      ]
     },
     "execution_count": 22,
     "metadata": {},
     "output_type": "execute_result"
    }
   ],
   "source": [
    "f(x)=x*log(1+x)"
   ]
  },
  {
   "cell_type": "code",
   "execution_count": 42,
   "id": "ad97c9d8-7d44-4452-b73d-f38a46d7ec97",
   "metadata": {
    "tags": []
   },
   "outputs": [
    {
     "name": "stdout",
     "output_type": "stream",
     "text": [
      "Using 6 quadrature points, error for Trapezoid is 0.002027723715007035, error for Simpson is 1.0337512111435743e-5"
     ]
    }
   ],
   "source": [
    "#Compare Simpson and Trapezoid scheme for a single m=10\n",
    "\n",
    "interval_a=0\n",
    "interval_b=1\n",
    "\n",
    "#Fix parameter m for both Simpson and Trapezoid\n",
    "m = 2\n",
    "\n",
    "# Number N of interior points from m\n",
    "N=2*m+2\n",
    "\n",
    "#Get quadrature points and weights for the trapezoid scheme\n",
    "x_t,weights_t =trapezoid(interval_a,interval_b,N)\n",
    "\n",
    "#Simpson\n",
    "x_s,weights_s=simpson(interval_a, interval_b,m)\n",
    "\n",
    "xfine=(interval_a:0.01:interval_b)\n",
    "\n",
    "#Trapezoid error\n",
    "result_trapezoid=sum(weights_t*f.(x_t))\n",
    "error_trapezoid=abs(result_trapezoid-0.25)\n",
    "\n",
    "#Simpson error\n",
    "\n",
    "result_simpson=sum(weights_s*f.(x_s))\n",
    "error_simpson=abs(result_simpson-0.25)\n",
    "\n",
    "print(\"Using \", N, \" quadrature points, error for Trapezoid is \",error_trapezoid,\", error for Simpson is \", error_simpson)"
   ]
  },
  {
   "cell_type": "code",
   "execution_count": 51,
   "id": "1d62b7d0-fc32-4f3a-99c2-4255f2c4f27d",
   "metadata": {
    "tags": []
   },
   "outputs": [
    {
     "data": {
      "image/png": "[encoded data removed]",
      "image/svg+xml": [
       "<?xml version=\"1.0\" encoding=\"utf-8\"?>\n",
       "<svg xmlns=\"http://www.w3.org/2000/svg\" xmlns:xlink=\"http://www.w3.org/1999/xlink\" width=\"600\" height=\"400\" viewBox=\"0 0 2400 1600\">\n",
       "<defs>\n",
       "  <clipPath id=\"clip210\">\n",
       "    <rect x=\"0\" y=\"0\" width=\"2400\" height=\"1600\"/>\n",
       "  </clipPath>\n",
       "</defs>\n",
       "<path clip-path=\"url(#clip210)\" d=\"M0 1600 L2400 1600 L2400 0 L0 0  Z\" fill=\"#ffffff\" fill-rule=\"evenodd\" fill-opacity=\"1\"/>\n",
       "<defs>\n",
       "  <clipPath id=\"clip211\">\n",
       "    <rect x=\"480\" y=\"0\" width=\"1681\" height=\"1600\"/>\n",
       "  </clipPath>\n",
       "</defs>\n",
       "<path clip-path=\"url(#clip210)\" d=\"M276.876 1423.18 L2352.76 1423.18 L2352.76 47.2441 L276.876 47.2441  Z\" fill=\"#ffffff\" fill-rule=\"evenodd\" fill-opacity=\"1\"/>\n",
       "<defs>\n",
       "  <clipPath id=\"clip212\">\n",
       "    <rect x=\"276\" y=\"47\" width=\"2077\" height=\"1377\"/>\n",
       "  </clipPath>\n",
       "</defs>\n",
       "<polyline clip-path=\"url(#clip212)\" style=\"stroke:#000000; stroke-linecap:round; stroke-linejoin:round; stroke-width:2; stroke-opacity:0.1; fill:none\" points=\"553.224,1423.18 553.224,47.2441 \"/>\n",
       "<polyline clip-path=\"url(#clip212)\" style=\"stroke:#000000; stroke-linecap:round; stroke-linejoin:round; stroke-width:2; stroke-opacity:0.1; fill:none\" points=\"988.419,1423.18 988.419,47.2441 \"/>\n",
       "<polyline clip-path=\"url(#clip212)\" style=\"stroke:#000000; stroke-linecap:round; stroke-linejoin:round; stroke-width:2; stroke-opacity:0.1; fill:none\" points=\"1423.61,1423.18 1423.61,47.2441 \"/>\n",
       "<polyline clip-path=\"url(#clip212)\" style=\"stroke:#000000; stroke-linecap:round; stroke-linejoin:round; stroke-width:2; stroke-opacity:0.1; fill:none\" points=\"1858.81,1423.18 1858.81,47.2441 \"/>\n",
       "<polyline clip-path=\"url(#clip212)\" style=\"stroke:#000000; stroke-linecap:round; stroke-linejoin:round; stroke-width:2; stroke-opacity:0.1; fill:none\" points=\"2294,1423.18 2294,47.2441 \"/>\n",
       "<polyline clip-path=\"url(#clip212)\" style=\"stroke:#000000; stroke-linecap:round; stroke-linejoin:round; stroke-width:2; stroke-opacity:0.1; fill:none\" points=\"276.876,1365.89 2352.76,1365.89 \"/>\n",
       "<polyline clip-path=\"url(#clip212)\" style=\"stroke:#000000; stroke-linecap:round; stroke-linejoin:round; stroke-width:2; stroke-opacity:0.1; fill:none\" points=\"276.876,845.982 2352.76,845.982 \"/>\n",
       "<polyline clip-path=\"url(#clip212)\" style=\"stroke:#000000; stroke-linecap:round; stroke-linejoin:round; stroke-width:2; stroke-opacity:0.1; fill:none\" points=\"276.876,326.073 2352.76,326.073 \"/>\n",
       "<polyline clip-path=\"url(#clip210)\" style=\"stroke:#000000; stroke-linecap:round; stroke-linejoin:round; stroke-width:4; stroke-opacity:1; fill:none\" points=\"276.876,1423.18 2352.76,1423.18 \"/>\n",
       "<polyline clip-path=\"url(#clip210)\" style=\"stroke:#000000; stroke-linecap:round; stroke-linejoin:round; stroke-width:4; stroke-opacity:1; fill:none\" points=\"553.224,1423.18 553.224,1404.28 \"/>\n",
       "<polyline clip-path=\"url(#clip210)\" style=\"stroke:#000000; stroke-linecap:round; stroke-linejoin:round; stroke-width:4; stroke-opacity:1; fill:none\" points=\"988.419,1423.18 988.419,1404.28 \"/>\n",
       "<polyline clip-path=\"url(#clip210)\" style=\"stroke:#000000; stroke-linecap:round; stroke-linejoin:round; stroke-width:4; stroke-opacity:1; fill:none\" points=\"1423.61,1423.18 1423.61,1404.28 \"/>\n",
       "<polyline clip-path=\"url(#clip210)\" style=\"stroke:#000000; stroke-linecap:round; stroke-linejoin:round; stroke-width:4; stroke-opacity:1; fill:none\" points=\"1858.81,1423.18 1858.81,1404.28 \"/>\n",
       "<polyline clip-path=\"url(#clip210)\" style=\"stroke:#000000; stroke-linecap:round; stroke-linejoin:round; stroke-width:4; stroke-opacity:1; fill:none\" points=\"2294,1423.18 2294,1404.28 \"/>\n",
       "<path clip-path=\"url(#clip210)\" d=\"M547.877 1481.64 L564.197 1481.64 L564.197 1485.58 L542.252 1485.58 L542.252 1481.64 Q544.914 1478.89 549.498 1474.26 Q554.104 1469.61 555.285 1468.27 Q557.53 1465.74 558.41 1464.01 Q559.312 1462.25 559.312 1460.56 Q559.312 1457.8 557.368 1456.07 Q555.447 1454.33 552.345 1454.33 Q550.146 1454.33 547.692 1455.09 Q545.261 1455.86 542.484 1457.41 L542.484 1452.69 Q545.308 1451.55 547.761 1450.97 Q550.215 1450.39 552.252 1450.39 Q557.622 1450.39 560.817 1453.08 Q564.011 1455.77 564.011 1460.26 Q564.011 1462.39 563.201 1464.31 Q562.414 1466.2 560.308 1468.8 Q559.729 1469.47 556.627 1472.69 Q553.525 1475.88 547.877 1481.64 Z\" fill=\"#000000\" fill-rule=\"nonzero\" fill-opacity=\"1\" /><path clip-path=\"url(#clip210)\" d=\"M991.429 1455.09 L979.623 1473.54 L991.429 1473.54 L991.429 1455.09 M990.202 1451.02 L996.081 1451.02 L996.081 1473.54 L1001.01 1473.54 L1001.01 1477.43 L996.081 1477.43 L996.081 1485.58 L991.429 1485.58 L991.429 1477.43 L975.827 1477.43 L975.827 1472.92 L990.202 1451.02 Z\" fill=\"#000000\" fill-rule=\"nonzero\" fill-opacity=\"1\" /><path clip-path=\"url(#clip210)\" d=\"M1424.02 1466.44 Q1420.87 1466.44 1419.02 1468.59 Q1417.19 1470.74 1417.19 1474.49 Q1417.19 1478.22 1419.02 1480.39 Q1420.87 1482.55 1424.02 1482.55 Q1427.17 1482.55 1429 1480.39 Q1430.85 1478.22 1430.85 1474.49 Q1430.85 1470.74 1429 1468.59 Q1427.17 1466.44 1424.02 1466.44 M1433.3 1451.78 L1433.3 1456.04 Q1431.54 1455.21 1429.74 1454.77 Q1427.95 1454.33 1426.2 1454.33 Q1421.57 1454.33 1419.11 1457.45 Q1416.68 1460.58 1416.33 1466.9 Q1417.7 1464.89 1419.76 1463.82 Q1421.82 1462.73 1424.3 1462.73 Q1429.51 1462.73 1432.51 1465.9 Q1435.55 1469.05 1435.55 1474.49 Q1435.55 1479.82 1432.4 1483.03 Q1429.25 1486.25 1424.02 1486.25 Q1418.02 1486.25 1414.85 1481.67 Q1411.68 1477.06 1411.68 1468.33 Q1411.68 1460.14 1415.57 1455.28 Q1419.46 1450.39 1426.01 1450.39 Q1427.77 1450.39 1429.55 1450.74 Q1431.36 1451.09 1433.3 1451.78 Z\" fill=\"#000000\" fill-rule=\"nonzero\" fill-opacity=\"1\" /><path clip-path=\"url(#clip210)\" d=\"M1858.81 1469.17 Q1855.48 1469.17 1853.55 1470.95 Q1851.66 1472.73 1851.66 1475.86 Q1851.66 1478.98 1853.55 1480.77 Q1855.48 1482.55 1858.81 1482.55 Q1862.14 1482.55 1864.06 1480.77 Q1865.99 1478.96 1865.99 1475.86 Q1865.99 1472.73 1864.06 1470.95 Q1862.17 1469.17 1858.81 1469.17 M1854.13 1467.18 Q1851.12 1466.44 1849.43 1464.38 Q1847.77 1462.32 1847.77 1459.35 Q1847.77 1455.21 1850.71 1452.8 Q1853.67 1450.39 1858.81 1450.39 Q1863.97 1450.39 1866.91 1452.8 Q1869.85 1455.21 1869.85 1459.35 Q1869.85 1462.32 1868.16 1464.38 Q1866.49 1466.44 1863.51 1467.18 Q1866.89 1467.96 1868.76 1470.26 Q1870.66 1472.55 1870.66 1475.86 Q1870.66 1480.88 1867.58 1483.57 Q1864.53 1486.25 1858.81 1486.25 Q1853.09 1486.25 1850.01 1483.57 Q1846.96 1480.88 1846.96 1475.86 Q1846.96 1472.55 1848.86 1470.26 Q1850.75 1467.96 1854.13 1467.18 M1852.42 1459.79 Q1852.42 1462.48 1854.09 1463.98 Q1855.78 1465.49 1858.81 1465.49 Q1861.82 1465.49 1863.51 1463.98 Q1865.22 1462.48 1865.22 1459.79 Q1865.22 1457.11 1863.51 1455.6 Q1861.82 1454.1 1858.81 1454.1 Q1855.78 1454.1 1854.09 1455.6 Q1852.42 1457.11 1852.42 1459.79 Z\" fill=\"#000000\" fill-rule=\"nonzero\" fill-opacity=\"1\" /><path clip-path=\"url(#clip210)\" d=\"M2268.69 1481.64 L2276.33 1481.64 L2276.33 1455.28 L2268.02 1456.95 L2268.02 1452.69 L2276.28 1451.02 L2280.96 1451.02 L2280.96 1481.64 L2288.6 1481.64 L2288.6 1485.58 L2268.69 1485.58 L2268.69 1481.64 Z\" fill=\"#000000\" fill-rule=\"nonzero\" fill-opacity=\"1\" /><path clip-path=\"url(#clip210)\" d=\"M2308.04 1454.1 Q2304.43 1454.1 2302.6 1457.66 Q2300.8 1461.2 2300.8 1468.33 Q2300.8 1475.44 2302.6 1479.01 Q2304.43 1482.55 2308.04 1482.55 Q2311.68 1482.55 2313.48 1479.01 Q2315.31 1475.44 2315.31 1468.33 Q2315.31 1461.2 2313.48 1457.66 Q2311.68 1454.1 2308.04 1454.1 M2308.04 1450.39 Q2313.85 1450.39 2316.91 1455 Q2319.99 1459.58 2319.99 1468.33 Q2319.99 1477.06 2316.91 1481.67 Q2313.85 1486.25 2308.04 1486.25 Q2302.23 1486.25 2299.16 1481.67 Q2296.1 1477.06 2296.1 1468.33 Q2296.1 1459.58 2299.16 1455 Q2302.23 1450.39 2308.04 1450.39 Z\" fill=\"#000000\" fill-rule=\"nonzero\" fill-opacity=\"1\" /><path clip-path=\"url(#clip210)\" d=\"M1316.77 1539.24 Q1318.97 1535.29 1322.02 1533.41 Q1325.08 1531.54 1329.22 1531.54 Q1334.79 1531.54 1337.81 1535.45 Q1340.84 1539.33 1340.84 1546.53 L1340.84 1568.04 L1334.95 1568.04 L1334.95 1546.72 Q1334.95 1541.59 1333.13 1539.11 Q1331.32 1536.63 1327.59 1536.63 Q1323.04 1536.63 1320.4 1539.65 Q1317.76 1542.68 1317.76 1547.9 L1317.76 1568.04 L1311.87 1568.04 L1311.87 1546.72 Q1311.87 1541.56 1310.06 1539.11 Q1308.24 1536.63 1304.46 1536.63 Q1299.97 1536.63 1297.33 1539.68 Q1294.68 1542.71 1294.68 1547.9 L1294.68 1568.04 L1288.8 1568.04 L1288.8 1532.4 L1294.68 1532.4 L1294.68 1537.93 Q1296.69 1534.66 1299.49 1533.1 Q1302.29 1531.54 1306.14 1531.54 Q1310.03 1531.54 1312.73 1533.51 Q1315.47 1535.48 1316.77 1539.24 Z\" fill=\"#000000\" fill-rule=\"nonzero\" fill-opacity=\"1\" /><polyline clip-path=\"url(#clip210)\" style=\"stroke:#000000; stroke-linecap:round; stroke-linejoin:round; stroke-width:4; stroke-opacity:1; fill:none\" points=\"276.876,1423.18 276.876,47.2441 \"/>\n",
       "<polyline clip-path=\"url(#clip210)\" style=\"stroke:#000000; stroke-linecap:round; stroke-linejoin:round; stroke-width:4; stroke-opacity:1; fill:none\" points=\"276.876,1365.89 295.773,1365.89 \"/>\n",
       "<polyline clip-path=\"url(#clip210)\" style=\"stroke:#000000; stroke-linecap:round; stroke-linejoin:round; stroke-width:4; stroke-opacity:1; fill:none\" points=\"276.876,845.982 295.773,845.982 \"/>\n",
       "<polyline clip-path=\"url(#clip210)\" style=\"stroke:#000000; stroke-linecap:round; stroke-linejoin:round; stroke-width:4; stroke-opacity:1; fill:none\" points=\"276.876,326.073 295.773,326.073 \"/>\n",
       "<path clip-path=\"url(#clip210)\" d=\"M115.74 1385.68 L123.379 1385.68 L123.379 1359.32 L115.069 1360.99 L115.069 1356.73 L123.333 1355.06 L128.009 1355.06 L128.009 1385.68 L135.647 1385.68 L135.647 1389.62 L115.74 1389.62 L115.74 1385.68 Z\" fill=\"#000000\" fill-rule=\"nonzero\" fill-opacity=\"1\" /><path clip-path=\"url(#clip210)\" d=\"M155.092 1358.14 Q151.481 1358.14 149.652 1361.7 Q147.846 1365.24 147.846 1372.37 Q147.846 1379.48 149.652 1383.05 Q151.481 1386.59 155.092 1386.59 Q158.726 1386.59 160.532 1383.05 Q162.36 1379.48 162.36 1372.37 Q162.36 1365.24 160.532 1361.7 Q158.726 1358.14 155.092 1358.14 M155.092 1354.43 Q160.902 1354.43 163.958 1359.04 Q167.036 1363.62 167.036 1372.37 Q167.036 1381.1 163.958 1385.71 Q160.902 1390.29 155.092 1390.29 Q149.282 1390.29 146.203 1385.71 Q143.147 1381.1 143.147 1372.37 Q143.147 1363.62 146.203 1359.04 Q149.282 1354.43 155.092 1354.43 Z\" fill=\"#000000\" fill-rule=\"nonzero\" fill-opacity=\"1\" /><path clip-path=\"url(#clip210)\" d=\"M167.036 1348.54 L191.148 1348.54 L191.148 1351.73 L167.036 1351.73 L167.036 1348.54 Z\" fill=\"#000000\" fill-rule=\"nonzero\" fill-opacity=\"1\" /><path clip-path=\"url(#clip210)\" d=\"M200.006 1359.01 L206.213 1359.01 L206.213 1337.59 L199.461 1338.94 L199.461 1335.48 L206.175 1334.13 L209.974 1334.13 L209.974 1359.01 L216.181 1359.01 L216.181 1362.21 L200.006 1362.21 L200.006 1359.01 Z\" fill=\"#000000\" fill-rule=\"nonzero\" fill-opacity=\"1\" /><path clip-path=\"url(#clip210)\" d=\"M223.892 1334.13 L238.807 1334.13 L238.807 1337.33 L227.372 1337.33 L227.372 1344.21 Q228.199 1343.93 229.027 1343.8 Q229.854 1343.65 230.682 1343.65 Q235.384 1343.65 238.13 1346.22 Q240.876 1348.8 240.876 1353.2 Q240.876 1357.73 238.054 1360.25 Q235.233 1362.75 230.099 1362.75 Q228.331 1362.75 226.488 1362.45 Q224.663 1362.15 222.707 1361.55 L222.707 1357.73 Q224.4 1358.65 226.205 1359.11 Q228.011 1359.56 230.023 1359.56 Q233.277 1359.56 235.177 1357.85 Q237.076 1356.13 237.076 1353.2 Q237.076 1350.27 235.177 1348.55 Q233.277 1346.84 230.023 1346.84 Q228.5 1346.84 226.977 1347.18 Q225.472 1347.52 223.892 1348.23 L223.892 1334.13 Z\" fill=\"#000000\" fill-rule=\"nonzero\" fill-opacity=\"1\" /><path clip-path=\"url(#clip210)\" d=\"M114.931 865.775 L122.57 865.775 L122.57 839.409 L114.26 841.076 L114.26 836.817 L122.524 835.15 L127.2 835.15 L127.2 865.775 L134.839 865.775 L134.839 869.71 L114.931 869.71 L114.931 865.775 Z\" fill=\"#000000\" fill-rule=\"nonzero\" fill-opacity=\"1\" /><path clip-path=\"url(#clip210)\" d=\"M154.283 838.229 Q150.672 838.229 148.843 841.793 Q147.038 845.335 147.038 852.465 Q147.038 859.571 148.843 863.136 Q150.672 866.678 154.283 866.678 Q157.917 866.678 159.723 863.136 Q161.552 859.571 161.552 852.465 Q161.552 845.335 159.723 841.793 Q157.917 838.229 154.283 838.229 M154.283 834.525 Q160.093 834.525 163.149 839.131 Q166.227 843.715 166.227 852.465 Q166.227 861.191 163.149 865.798 Q160.093 870.381 154.283 870.381 Q148.473 870.381 145.394 865.798 Q142.339 861.191 142.339 852.465 Q142.339 843.715 145.394 839.131 Q148.473 834.525 154.283 834.525 Z\" fill=\"#000000\" fill-rule=\"nonzero\" fill-opacity=\"1\" /><path clip-path=\"url(#clip210)\" d=\"M166.227 828.626 L190.339 828.626 L190.339 831.824 L166.227 831.824 L166.227 828.626 Z\" fill=\"#000000\" fill-rule=\"nonzero\" fill-opacity=\"1\" /><path clip-path=\"url(#clip210)\" d=\"M199.197 839.102 L205.404 839.102 L205.404 817.68 L198.652 819.034 L198.652 815.574 L205.366 814.22 L209.166 814.22 L209.166 839.102 L215.372 839.102 L215.372 842.3 L199.197 842.3 L199.197 839.102 Z\" fill=\"#000000\" fill-rule=\"nonzero\" fill-opacity=\"1\" /><path clip-path=\"url(#clip210)\" d=\"M231.171 816.721 Q228.237 816.721 226.751 819.617 Q225.284 822.495 225.284 828.288 Q225.284 834.062 226.751 836.958 Q228.237 839.836 231.171 839.836 Q234.124 839.836 235.591 836.958 Q237.076 834.062 237.076 828.288 Q237.076 822.495 235.591 819.617 Q234.124 816.721 231.171 816.721 M231.171 813.712 Q235.891 813.712 238.374 817.454 Q240.876 821.178 240.876 828.288 Q240.876 835.378 238.374 839.121 Q235.891 842.845 231.171 842.845 Q226.45 842.845 223.949 839.121 Q221.466 835.378 221.466 828.288 Q221.466 821.178 223.949 817.454 Q226.45 813.712 231.171 813.712 Z\" fill=\"#000000\" fill-rule=\"nonzero\" fill-opacity=\"1\" /><path clip-path=\"url(#clip210)\" d=\"M140.247 345.865 L147.886 345.865 L147.886 319.5 L139.575 321.166 L139.575 316.907 L147.839 315.24 L152.515 315.24 L152.515 345.865 L160.154 345.865 L160.154 349.8 L140.247 349.8 L140.247 345.865 Z\" fill=\"#000000\" fill-rule=\"nonzero\" fill-opacity=\"1\" /><path clip-path=\"url(#clip210)\" d=\"M179.598 318.319 Q175.987 318.319 174.159 321.884 Q172.353 325.426 172.353 332.555 Q172.353 339.662 174.159 343.226 Q175.987 346.768 179.598 346.768 Q183.233 346.768 185.038 343.226 Q186.867 339.662 186.867 332.555 Q186.867 325.426 185.038 321.884 Q183.233 318.319 179.598 318.319 M179.598 314.615 Q185.409 314.615 188.464 319.222 Q191.543 323.805 191.543 332.555 Q191.543 341.282 188.464 345.888 Q185.409 350.472 179.598 350.472 Q173.788 350.472 170.71 345.888 Q167.654 341.282 167.654 332.555 Q167.654 323.805 170.71 319.222 Q173.788 314.615 179.598 314.615 Z\" fill=\"#000000\" fill-rule=\"nonzero\" fill-opacity=\"1\" /><path clip-path=\"url(#clip210)\" d=\"M191.543 308.717 L215.654 308.717 L215.654 311.914 L191.543 311.914 L191.543 308.717 Z\" fill=\"#000000\" fill-rule=\"nonzero\" fill-opacity=\"1\" /><path clip-path=\"url(#clip210)\" d=\"M223.892 294.31 L238.807 294.31 L238.807 297.507 L227.372 297.507 L227.372 304.391 Q228.199 304.109 229.027 303.977 Q229.854 303.827 230.682 303.827 Q235.384 303.827 238.13 306.403 Q240.876 308.98 240.876 313.381 Q240.876 317.914 238.054 320.434 Q235.233 322.935 230.099 322.935 Q228.331 322.935 226.488 322.635 Q224.663 322.334 222.707 321.732 L222.707 317.914 Q224.4 318.835 226.205 319.287 Q228.011 319.738 230.023 319.738 Q233.277 319.738 235.177 318.027 Q237.076 316.315 237.076 313.381 Q237.076 310.447 235.177 308.736 Q233.277 307.024 230.023 307.024 Q228.5 307.024 226.977 307.363 Q225.472 307.701 223.892 308.416 L223.892 294.31 Z\" fill=\"#000000\" fill-rule=\"nonzero\" fill-opacity=\"1\" /><path clip-path=\"url(#clip210)\" d=\"M16.4842 811.457 L16.4842 781.411 L21.895 781.411 L21.895 805.028 L35.9632 805.028 L35.9632 782.398 L41.3741 782.398 L41.3741 805.028 L58.5933 805.028 L58.5933 780.838 L64.0042 780.838 L64.0042 811.457 L16.4842 811.457 Z\" fill=\"#000000\" fill-rule=\"nonzero\" fill-opacity=\"1\" /><path clip-path=\"url(#clip210)\" d=\"M33.8307 749.869 Q33.2578 750.856 33.0032 752.033 Q32.7167 753.179 32.7167 754.58 Q32.7167 759.545 35.9632 762.218 Q39.1779 764.86 45.2253 764.86 L64.0042 764.86 L64.0042 770.749 L28.3562 770.749 L28.3562 764.86 L33.8944 764.86 Q30.6479 763.014 29.0883 760.054 Q27.4968 757.094 27.4968 752.861 Q27.4968 752.256 27.5923 751.524 Q27.656 750.792 27.8151 749.901 L33.8307 749.869 Z\" fill=\"#000000\" fill-rule=\"nonzero\" fill-opacity=\"1\" /><path clip-path=\"url(#clip210)\" d=\"M33.8307 724.215 Q33.2578 725.202 33.0032 726.38 Q32.7167 727.525 32.7167 728.926 Q32.7167 733.891 35.9632 736.565 Q39.1779 739.206 45.2253 739.206 L64.0042 739.206 L64.0042 745.095 L28.3562 745.095 L28.3562 739.206 L33.8944 739.206 Q30.6479 737.36 29.0883 734.4 Q27.4968 731.44 27.4968 727.207 Q27.4968 726.602 27.5923 725.87 Q27.656 725.138 27.8151 724.247 L33.8307 724.215 Z\" fill=\"#000000\" fill-rule=\"nonzero\" fill-opacity=\"1\" /><path clip-path=\"url(#clip210)\" d=\"M32.4621 705.691 Q32.4621 710.402 36.1542 713.139 Q39.8145 715.876 46.212 715.876 Q52.6095 715.876 56.3017 713.171 Q59.9619 710.433 59.9619 705.691 Q59.9619 701.012 56.2698 698.275 Q52.5777 695.538 46.212 695.538 Q39.8781 695.538 36.186 698.275 Q32.4621 701.012 32.4621 705.691 M27.4968 705.691 Q27.4968 698.052 32.4621 693.692 Q37.4273 689.331 46.212 689.331 Q54.9649 689.331 59.9619 693.692 Q64.9272 698.052 64.9272 705.691 Q64.9272 713.362 59.9619 717.722 Q54.9649 722.051 46.212 722.051 Q37.4273 722.051 32.4621 717.722 Q27.4968 713.362 27.4968 705.691 Z\" fill=\"#000000\" fill-rule=\"nonzero\" fill-opacity=\"1\" /><path clip-path=\"url(#clip210)\" d=\"M33.8307 658.967 Q33.2578 659.953 33.0032 661.131 Q32.7167 662.277 32.7167 663.677 Q32.7167 668.643 35.9632 671.316 Q39.1779 673.958 45.2253 673.958 L64.0042 673.958 L64.0042 679.846 L28.3562 679.846 L28.3562 673.958 L33.8944 673.958 Q30.6479 672.112 29.0883 669.152 Q27.4968 666.192 27.4968 661.959 Q27.4968 661.354 27.5923 660.622 Q27.656 659.89 27.8151 658.999 L33.8307 658.967 Z\" fill=\"#000000\" fill-rule=\"nonzero\" fill-opacity=\"1\" /><circle clip-path=\"url(#clip212)\" cx=\"335.627\" cy=\"86.1857\" r=\"14.4\" fill=\"#009af9\" fill-rule=\"evenodd\" fill-opacity=\"1\" stroke=\"#000000\" stroke-opacity=\"1\" stroke-width=\"3.2\"/>\n",
       "<circle clip-path=\"url(#clip212)\" cx=\"553.224\" cy=\"126.989\" r=\"14.4\" fill=\"#009af9\" fill-rule=\"evenodd\" fill-opacity=\"1\" stroke=\"#000000\" stroke-opacity=\"1\" stroke-width=\"3.2\"/>\n",
       "<circle clip-path=\"url(#clip212)\" cx=\"770.822\" cy=\"176.343\" r=\"14.4\" fill=\"#009af9\" fill-rule=\"evenodd\" fill-opacity=\"1\" stroke=\"#000000\" stroke-opacity=\"1\" stroke-width=\"3.2\"/>\n",
       "<circle clip-path=\"url(#clip212)\" cx=\"988.419\" cy=\"231.515\" r=\"14.4\" fill=\"#009af9\" fill-rule=\"evenodd\" fill-opacity=\"1\" stroke=\"#000000\" stroke-opacity=\"1\" stroke-width=\"3.2\"/>\n",
       "<circle clip-path=\"url(#clip212)\" cx=\"1206.02\" cy=\"290.162\" r=\"14.4\" fill=\"#009af9\" fill-rule=\"evenodd\" fill-opacity=\"1\" stroke=\"#000000\" stroke-opacity=\"1\" stroke-width=\"3.2\"/>\n",
       "<circle clip-path=\"url(#clip212)\" cx=\"1423.61\" cy=\"350.72\" r=\"14.4\" fill=\"#009af9\" fill-rule=\"evenodd\" fill-opacity=\"1\" stroke=\"#000000\" stroke-opacity=\"1\" stroke-width=\"3.2\"/>\n",
       "<circle clip-path=\"url(#clip212)\" cx=\"1641.21\" cy=\"412.283\" r=\"14.4\" fill=\"#009af9\" fill-rule=\"evenodd\" fill-opacity=\"1\" stroke=\"#000000\" stroke-opacity=\"1\" stroke-width=\"3.2\"/>\n",
       "<circle clip-path=\"url(#clip212)\" cx=\"1858.81\" cy=\"474.362\" r=\"14.4\" fill=\"#009af9\" fill-rule=\"evenodd\" fill-opacity=\"1\" stroke=\"#000000\" stroke-opacity=\"1\" stroke-width=\"3.2\"/>\n",
       "<circle clip-path=\"url(#clip212)\" cx=\"2076.41\" cy=\"536.701\" r=\"14.4\" fill=\"#009af9\" fill-rule=\"evenodd\" fill-opacity=\"1\" stroke=\"#000000\" stroke-opacity=\"1\" stroke-width=\"3.2\"/>\n",
       "<circle clip-path=\"url(#clip212)\" cx=\"2294\" cy=\"599.173\" r=\"14.4\" fill=\"#009af9\" fill-rule=\"evenodd\" fill-opacity=\"1\" stroke=\"#000000\" stroke-opacity=\"1\" stroke-width=\"3.2\"/>\n",
       "<circle clip-path=\"url(#clip212)\" cx=\"335.627\" cy=\"324.574\" r=\"14.4\" fill=\"#e26f46\" fill-rule=\"evenodd\" fill-opacity=\"1\" stroke=\"#000000\" stroke-opacity=\"1\" stroke-width=\"3.2\"/>\n",
       "<circle clip-path=\"url(#clip212)\" cx=\"553.224\" cy=\"415.827\" r=\"14.4\" fill=\"#e26f46\" fill-rule=\"evenodd\" fill-opacity=\"1\" stroke=\"#000000\" stroke-opacity=\"1\" stroke-width=\"3.2\"/>\n",
       "<circle clip-path=\"url(#clip212)\" cx=\"770.822\" cy=\"521.585\" r=\"14.4\" fill=\"#e26f46\" fill-rule=\"evenodd\" fill-opacity=\"1\" stroke=\"#000000\" stroke-opacity=\"1\" stroke-width=\"3.2\"/>\n",
       "<circle clip-path=\"url(#clip212)\" cx=\"988.419\" cy=\"636.33\" r=\"14.4\" fill=\"#e26f46\" fill-rule=\"evenodd\" fill-opacity=\"1\" stroke=\"#000000\" stroke-opacity=\"1\" stroke-width=\"3.2\"/>\n",
       "<circle clip-path=\"url(#clip212)\" cx=\"1206.02\" cy=\"756.105\" r=\"14.4\" fill=\"#e26f46\" fill-rule=\"evenodd\" fill-opacity=\"1\" stroke=\"#000000\" stroke-opacity=\"1\" stroke-width=\"3.2\"/>\n",
       "<circle clip-path=\"url(#clip212)\" cx=\"1423.61\" cy=\"878.543\" r=\"14.4\" fill=\"#e26f46\" fill-rule=\"evenodd\" fill-opacity=\"1\" stroke=\"#000000\" stroke-opacity=\"1\" stroke-width=\"3.2\"/>\n",
       "<circle clip-path=\"url(#clip212)\" cx=\"1641.21\" cy=\"1002.35\" r=\"14.4\" fill=\"#e26f46\" fill-rule=\"evenodd\" fill-opacity=\"1\" stroke=\"#000000\" stroke-opacity=\"1\" stroke-width=\"3.2\"/>\n",
       "<circle clip-path=\"url(#clip212)\" cx=\"1858.81\" cy=\"1126.88\" r=\"14.4\" fill=\"#e26f46\" fill-rule=\"evenodd\" fill-opacity=\"1\" stroke=\"#000000\" stroke-opacity=\"1\" stroke-width=\"3.2\"/>\n",
       "<circle clip-path=\"url(#clip212)\" cx=\"2076.41\" cy=\"1251.67\" r=\"14.4\" fill=\"#e26f46\" fill-rule=\"evenodd\" fill-opacity=\"1\" stroke=\"#000000\" stroke-opacity=\"1\" stroke-width=\"3.2\"/>\n",
       "<circle clip-path=\"url(#clip212)\" cx=\"2294\" cy=\"1384.24\" r=\"14.4\" fill=\"#e26f46\" fill-rule=\"evenodd\" fill-opacity=\"1\" stroke=\"#000000\" stroke-opacity=\"1\" stroke-width=\"3.2\"/>\n",
       "<path clip-path=\"url(#clip210)\" d=\"M1719.05 248.629 L2283.56 248.629 L2283.56 93.1086 L1719.05 93.1086  Z\" fill=\"#ffffff\" fill-rule=\"evenodd\" fill-opacity=\"1\"/>\n",
       "<polyline clip-path=\"url(#clip210)\" style=\"stroke:#000000; stroke-linecap:round; stroke-linejoin:round; stroke-width:4; stroke-opacity:1; fill:none\" points=\"1719.05,248.629 2283.56,248.629 2283.56,93.1086 1719.05,93.1086 1719.05,248.629 \"/>\n",
       "<circle clip-path=\"url(#clip210)\" cx=\"1811.31\" cy=\"144.949\" r=\"20.48\" fill=\"#009af9\" fill-rule=\"evenodd\" fill-opacity=\"1\" stroke=\"#000000\" stroke-opacity=\"1\" stroke-width=\"4.55111\"/>\n",
       "<path clip-path=\"url(#clip210)\" d=\"M1903.58 127.669 L1932.81 127.669 L1932.81 131.604 L1920.54 131.604 L1920.54 162.229 L1915.84 162.229 L1915.84 131.604 L1903.58 131.604 L1903.58 127.669 Z\" fill=\"#000000\" fill-rule=\"nonzero\" fill-opacity=\"1\" /><path clip-path=\"url(#clip210)\" d=\"M1945.2 140.284 Q1944.48 139.868 1943.62 139.682 Q1942.79 139.474 1941.77 139.474 Q1938.16 139.474 1936.21 141.835 Q1934.29 144.173 1934.29 148.571 L1934.29 162.229 L1930.01 162.229 L1930.01 136.303 L1934.29 136.303 L1934.29 140.331 Q1935.64 137.969 1937.79 136.835 Q1939.94 135.678 1943.02 135.678 Q1943.46 135.678 1943.99 135.747 Q1944.52 135.794 1945.17 135.909 L1945.2 140.284 Z\" fill=\"#000000\" fill-rule=\"nonzero\" fill-opacity=\"1\" /><path clip-path=\"url(#clip210)\" d=\"M1961.45 149.196 Q1956.28 149.196 1954.29 150.377 Q1952.3 151.557 1952.3 154.405 Q1952.3 156.673 1953.78 158.016 Q1955.29 159.335 1957.86 159.335 Q1961.4 159.335 1963.53 156.835 Q1965.68 154.312 1965.68 150.145 L1965.68 149.196 L1961.45 149.196 M1969.94 147.437 L1969.94 162.229 L1965.68 162.229 L1965.68 158.293 Q1964.22 160.655 1962.05 161.789 Q1959.87 162.9 1956.72 162.9 Q1952.74 162.9 1950.38 160.678 Q1948.04 158.432 1948.04 154.682 Q1948.04 150.307 1950.96 148.085 Q1953.9 145.863 1959.71 145.863 L1965.68 145.863 L1965.68 145.446 Q1965.68 142.507 1963.74 140.909 Q1961.82 139.289 1958.32 139.289 Q1956.1 139.289 1953.99 139.821 Q1951.89 140.354 1949.94 141.419 L1949.94 137.483 Q1952.28 136.581 1954.48 136.141 Q1956.68 135.678 1958.76 135.678 Q1964.39 135.678 1967.16 138.594 Q1969.94 141.511 1969.94 147.437 Z\" fill=\"#000000\" fill-rule=\"nonzero\" fill-opacity=\"1\" /><path clip-path=\"url(#clip210)\" d=\"M1982.83 158.34 L1982.83 172.09 L1978.55 172.09 L1978.55 136.303 L1982.83 136.303 L1982.83 140.238 Q1984.18 137.923 1986.21 136.812 Q1988.27 135.678 1991.12 135.678 Q1995.84 135.678 1998.78 139.428 Q2001.75 143.178 2001.75 149.289 Q2001.75 155.4 1998.78 159.15 Q1995.84 162.9 1991.12 162.9 Q1988.27 162.9 1986.21 161.789 Q1984.18 160.655 1982.83 158.34 M1997.32 149.289 Q1997.32 144.59 1995.38 141.928 Q1993.46 139.243 1990.08 139.243 Q1986.7 139.243 1984.76 141.928 Q1982.83 144.59 1982.83 149.289 Q1982.83 153.988 1984.76 156.673 Q1986.7 159.335 1990.08 159.335 Q1993.46 159.335 1995.38 156.673 Q1997.32 153.988 1997.32 149.289 Z\" fill=\"#000000\" fill-rule=\"nonzero\" fill-opacity=\"1\" /><path clip-path=\"url(#clip210)\" d=\"M2030.98 148.201 L2030.98 150.284 L2011.4 150.284 Q2011.68 154.682 2014.04 156.997 Q2016.42 159.289 2020.66 159.289 Q2023.11 159.289 2025.4 158.687 Q2027.72 158.085 2029.99 156.881 L2029.99 160.909 Q2027.69 161.881 2025.29 162.391 Q2022.88 162.9 2020.4 162.9 Q2014.2 162.9 2010.57 159.289 Q2006.95 155.678 2006.95 149.52 Q2006.95 143.155 2010.38 139.428 Q2013.83 135.678 2019.66 135.678 Q2024.89 135.678 2027.93 139.057 Q2030.98 142.414 2030.98 148.201 M2026.72 146.951 Q2026.68 143.456 2024.76 141.372 Q2022.86 139.289 2019.71 139.289 Q2016.14 139.289 2013.99 141.303 Q2011.86 143.317 2011.54 146.974 L2026.72 146.951 Z\" fill=\"#000000\" fill-rule=\"nonzero\" fill-opacity=\"1\" /><path clip-path=\"url(#clip210)\" d=\"M2036.12 136.303 L2056.35 136.303 L2056.35 140.192 L2040.33 158.826 L2056.35 158.826 L2056.35 162.229 L2035.54 162.229 L2035.54 158.34 L2051.56 139.706 L2036.12 139.706 L2036.12 136.303 Z\" fill=\"#000000\" fill-rule=\"nonzero\" fill-opacity=\"1\" /><path clip-path=\"url(#clip210)\" d=\"M2072.9 139.289 Q2069.48 139.289 2067.49 141.974 Q2065.5 144.636 2065.5 149.289 Q2065.5 153.942 2067.46 156.627 Q2069.45 159.289 2072.9 159.289 Q2076.31 159.289 2078.3 156.604 Q2080.29 153.918 2080.29 149.289 Q2080.29 144.682 2078.3 141.997 Q2076.31 139.289 2072.9 139.289 M2072.9 135.678 Q2078.46 135.678 2081.63 139.289 Q2084.8 142.9 2084.8 149.289 Q2084.8 155.655 2081.63 159.289 Q2078.46 162.9 2072.9 162.9 Q2067.32 162.9 2064.15 159.289 Q2061 155.655 2061 149.289 Q2061 142.9 2064.15 139.289 Q2067.32 135.678 2072.9 135.678 Z\" fill=\"#000000\" fill-rule=\"nonzero\" fill-opacity=\"1\" /><path clip-path=\"url(#clip210)\" d=\"M2091.86 136.303 L2096.12 136.303 L2096.12 162.229 L2091.86 162.229 L2091.86 136.303 M2091.86 126.21 L2096.12 126.21 L2096.12 131.604 L2091.86 131.604 L2091.86 126.21 Z\" fill=\"#000000\" fill-rule=\"nonzero\" fill-opacity=\"1\" /><path clip-path=\"url(#clip210)\" d=\"M2122.09 140.238 L2122.09 126.21 L2126.35 126.21 L2126.35 162.229 L2122.09 162.229 L2122.09 158.34 Q2120.75 160.655 2118.69 161.789 Q2116.65 162.9 2113.78 162.9 Q2109.08 162.9 2106.12 159.15 Q2103.18 155.4 2103.18 149.289 Q2103.18 143.178 2106.12 139.428 Q2109.08 135.678 2113.78 135.678 Q2116.65 135.678 2118.69 136.812 Q2120.75 137.923 2122.09 140.238 M2107.58 149.289 Q2107.58 153.988 2109.5 156.673 Q2111.44 159.335 2114.82 159.335 Q2118.2 159.335 2120.15 156.673 Q2122.09 153.988 2122.09 149.289 Q2122.09 144.59 2120.15 141.928 Q2118.2 139.243 2114.82 139.243 Q2111.44 139.243 2109.5 141.928 Q2107.58 144.59 2107.58 149.289 Z\" fill=\"#000000\" fill-rule=\"nonzero\" fill-opacity=\"1\" /><path clip-path=\"url(#clip210)\" d=\"M2172.37 148.201 L2172.37 150.284 L2152.79 150.284 Q2153.06 154.682 2155.43 156.997 Q2157.81 159.289 2162.05 159.289 Q2164.5 159.289 2166.79 158.687 Q2169.11 158.085 2171.37 156.881 L2171.37 160.909 Q2169.08 161.881 2166.68 162.391 Q2164.27 162.9 2161.79 162.9 Q2155.59 162.9 2151.95 159.289 Q2148.34 155.678 2148.34 149.52 Q2148.34 143.155 2151.77 139.428 Q2155.22 135.678 2161.05 135.678 Q2166.28 135.678 2169.31 139.057 Q2172.37 142.414 2172.37 148.201 M2168.11 146.951 Q2168.06 143.456 2166.14 141.372 Q2164.25 139.289 2161.1 139.289 Q2157.53 139.289 2155.38 141.303 Q2153.25 143.317 2152.93 146.974 L2168.11 146.951 Z\" fill=\"#000000\" fill-rule=\"nonzero\" fill-opacity=\"1\" /><path clip-path=\"url(#clip210)\" d=\"M2194.38 140.284 Q2193.67 139.868 2192.81 139.682 Q2191.98 139.474 2190.96 139.474 Q2187.35 139.474 2185.4 141.835 Q2183.48 144.173 2183.48 148.571 L2183.48 162.229 L2179.2 162.229 L2179.2 136.303 L2183.48 136.303 L2183.48 140.331 Q2184.82 137.969 2186.98 136.835 Q2189.13 135.678 2192.21 135.678 Q2192.65 135.678 2193.18 135.747 Q2193.71 135.794 2194.36 135.909 L2194.38 140.284 Z\" fill=\"#000000\" fill-rule=\"nonzero\" fill-opacity=\"1\" /><path clip-path=\"url(#clip210)\" d=\"M2213.04 140.284 Q2212.32 139.868 2211.47 139.682 Q2210.63 139.474 2209.62 139.474 Q2206 139.474 2204.06 141.835 Q2202.14 144.173 2202.14 148.571 L2202.14 162.229 L2197.86 162.229 L2197.86 136.303 L2202.14 136.303 L2202.14 140.331 Q2203.48 137.969 2205.63 136.835 Q2207.79 135.678 2210.87 135.678 Q2211.31 135.678 2211.84 135.747 Q2212.37 135.794 2213.02 135.909 L2213.04 140.284 Z\" fill=\"#000000\" fill-rule=\"nonzero\" fill-opacity=\"1\" /><path clip-path=\"url(#clip210)\" d=\"M2226.51 139.289 Q2223.09 139.289 2221.1 141.974 Q2219.11 144.636 2219.11 149.289 Q2219.11 153.942 2221.07 156.627 Q2223.06 159.289 2226.51 159.289 Q2229.92 159.289 2231.91 156.604 Q2233.9 153.918 2233.9 149.289 Q2233.9 144.682 2231.91 141.997 Q2229.92 139.289 2226.51 139.289 M2226.51 135.678 Q2232.07 135.678 2235.24 139.289 Q2238.41 142.9 2238.41 149.289 Q2238.41 155.655 2235.24 159.289 Q2232.07 162.9 2226.51 162.9 Q2220.93 162.9 2217.76 159.289 Q2214.62 155.655 2214.62 149.289 Q2214.62 142.9 2217.76 139.289 Q2220.93 135.678 2226.51 135.678 Z\" fill=\"#000000\" fill-rule=\"nonzero\" fill-opacity=\"1\" /><path clip-path=\"url(#clip210)\" d=\"M2260.49 140.284 Q2259.78 139.868 2258.92 139.682 Q2258.09 139.474 2257.07 139.474 Q2253.46 139.474 2251.51 141.835 Q2249.59 144.173 2249.59 148.571 L2249.59 162.229 L2245.31 162.229 L2245.31 136.303 L2249.59 136.303 L2249.59 140.331 Q2250.93 137.969 2253.09 136.835 Q2255.24 135.678 2258.32 135.678 Q2258.76 135.678 2259.29 135.747 Q2259.82 135.794 2260.47 135.909 L2260.49 140.284 Z\" fill=\"#000000\" fill-rule=\"nonzero\" fill-opacity=\"1\" /><circle clip-path=\"url(#clip210)\" cx=\"1811.31\" cy=\"196.789\" r=\"20.48\" fill=\"#e26f46\" fill-rule=\"evenodd\" fill-opacity=\"1\" stroke=\"#000000\" stroke-opacity=\"1\" stroke-width=\"4.55111\"/>\n",
       "<path clip-path=\"url(#clip210)\" d=\"M1925.82 180.643 L1925.82 185.203 Q1923.16 183.93 1920.8 183.305 Q1918.44 182.68 1916.24 182.68 Q1912.42 182.68 1910.33 184.161 Q1908.27 185.643 1908.27 188.374 Q1908.27 190.666 1909.64 191.847 Q1911.03 193.004 1914.87 193.722 L1917.7 194.3 Q1922.93 195.296 1925.4 197.819 Q1927.9 200.319 1927.9 204.532 Q1927.9 209.555 1924.52 212.147 Q1921.17 214.74 1914.66 214.74 Q1912.21 214.74 1909.43 214.184 Q1906.68 213.629 1903.71 212.541 L1903.71 207.726 Q1906.56 209.323 1909.29 210.133 Q1912.02 210.944 1914.66 210.944 Q1918.67 210.944 1920.84 209.37 Q1923.02 207.796 1923.02 204.879 Q1923.02 202.333 1921.45 200.897 Q1919.89 199.462 1916.33 198.745 L1913.48 198.189 Q1908.25 197.147 1905.91 194.925 Q1903.58 192.703 1903.58 188.745 Q1903.58 184.161 1906.79 181.522 Q1910.03 178.884 1915.7 178.884 Q1918.14 178.884 1920.66 179.323 Q1923.18 179.763 1925.82 180.643 Z\" fill=\"#000000\" fill-rule=\"nonzero\" fill-opacity=\"1\" /><path clip-path=\"url(#clip210)\" d=\"M1935.01 188.143 L1939.27 188.143 L1939.27 214.069 L1935.01 214.069 L1935.01 188.143 M1935.01 178.05 L1939.27 178.05 L1939.27 183.444 L1935.01 183.444 L1935.01 178.05 Z\" fill=\"#000000\" fill-rule=\"nonzero\" fill-opacity=\"1\" /><path clip-path=\"url(#clip210)\" d=\"M1968.37 193.12 Q1969.96 190.249 1972.19 188.884 Q1974.41 187.518 1977.42 187.518 Q1981.47 187.518 1983.67 190.365 Q1985.87 193.189 1985.87 198.421 L1985.87 214.069 L1981.58 214.069 L1981.58 198.559 Q1981.58 194.833 1980.26 193.027 Q1978.95 191.222 1976.24 191.222 Q1972.93 191.222 1971.01 193.421 Q1969.08 195.62 1969.08 199.416 L1969.08 214.069 L1964.8 214.069 L1964.8 198.559 Q1964.8 194.809 1963.48 193.027 Q1962.16 191.222 1959.41 191.222 Q1956.14 191.222 1954.22 193.444 Q1952.3 195.643 1952.3 199.416 L1952.3 214.069 L1948.02 214.069 L1948.02 188.143 L1952.3 188.143 L1952.3 192.171 Q1953.76 189.786 1955.8 188.652 Q1957.83 187.518 1960.64 187.518 Q1963.46 187.518 1965.43 188.953 Q1967.42 190.388 1968.37 193.12 Z\" fill=\"#000000\" fill-rule=\"nonzero\" fill-opacity=\"1\" /><path clip-path=\"url(#clip210)\" d=\"M1998.48 210.18 L1998.48 223.93 L1994.2 223.93 L1994.2 188.143 L1998.48 188.143 L1998.48 192.078 Q1999.82 189.763 2001.86 188.652 Q2003.92 187.518 2006.77 187.518 Q2011.49 187.518 2014.43 191.268 Q2017.39 195.018 2017.39 201.129 Q2017.39 207.24 2014.43 210.99 Q2011.49 214.74 2006.77 214.74 Q2003.92 214.74 2001.86 213.629 Q1999.82 212.495 1998.48 210.18 M2012.97 201.129 Q2012.97 196.43 2011.03 193.768 Q2009.11 191.083 2005.73 191.083 Q2002.35 191.083 2000.4 193.768 Q1998.48 196.43 1998.48 201.129 Q1998.48 205.828 2000.4 208.513 Q2002.35 211.175 2005.73 211.175 Q2009.11 211.175 2011.03 208.513 Q2012.97 205.828 2012.97 201.129 Z\" fill=\"#000000\" fill-rule=\"nonzero\" fill-opacity=\"1\" /><path clip-path=\"url(#clip210)\" d=\"M2040.98 188.907 L2040.98 192.934 Q2039.18 192.009 2037.23 191.546 Q2035.29 191.083 2033.2 191.083 Q2030.03 191.083 2028.44 192.055 Q2026.86 193.027 2026.86 194.971 Q2026.86 196.453 2028 197.309 Q2029.13 198.143 2032.56 198.907 L2034.01 199.231 Q2038.55 200.203 2040.45 201.985 Q2042.37 203.745 2042.37 206.916 Q2042.37 210.527 2039.5 212.633 Q2036.65 214.74 2031.65 214.74 Q2029.57 214.74 2027.3 214.323 Q2025.06 213.93 2022.56 213.12 L2022.56 208.721 Q2024.92 209.948 2027.21 210.573 Q2029.5 211.175 2031.75 211.175 Q2034.76 211.175 2036.38 210.157 Q2038 209.115 2038 207.24 Q2038 205.504 2036.82 204.578 Q2035.66 203.652 2031.7 202.796 L2030.22 202.448 Q2026.26 201.615 2024.5 199.902 Q2022.74 198.166 2022.74 195.157 Q2022.74 191.499 2025.33 189.509 Q2027.93 187.518 2032.69 187.518 Q2035.06 187.518 2037.14 187.865 Q2039.22 188.212 2040.98 188.907 Z\" fill=\"#000000\" fill-rule=\"nonzero\" fill-opacity=\"1\" /><path clip-path=\"url(#clip210)\" d=\"M2059.2 191.129 Q2055.77 191.129 2053.78 193.814 Q2051.79 196.476 2051.79 201.129 Q2051.79 205.782 2053.76 208.467 Q2055.75 211.129 2059.2 211.129 Q2062.6 211.129 2064.59 208.444 Q2066.58 205.758 2066.58 201.129 Q2066.58 196.522 2064.59 193.837 Q2062.6 191.129 2059.2 191.129 M2059.2 187.518 Q2064.75 187.518 2067.93 191.129 Q2071.1 194.74 2071.1 201.129 Q2071.1 207.495 2067.93 211.129 Q2064.75 214.74 2059.2 214.74 Q2053.62 214.74 2050.45 211.129 Q2047.3 207.495 2047.3 201.129 Q2047.3 194.74 2050.45 191.129 Q2053.62 187.518 2059.2 187.518 Z\" fill=\"#000000\" fill-rule=\"nonzero\" fill-opacity=\"1\" /><path clip-path=\"url(#clip210)\" d=\"M2099.71 198.421 L2099.71 214.069 L2095.45 214.069 L2095.45 198.559 Q2095.45 194.879 2094.01 193.05 Q2092.58 191.222 2089.71 191.222 Q2086.26 191.222 2084.27 193.421 Q2082.28 195.62 2082.28 199.416 L2082.28 214.069 L2078 214.069 L2078 188.143 L2082.28 188.143 L2082.28 192.171 Q2083.81 189.833 2085.87 188.675 Q2087.95 187.518 2090.66 187.518 Q2095.13 187.518 2097.42 190.296 Q2099.71 193.05 2099.71 198.421 Z\" fill=\"#000000\" fill-rule=\"nonzero\" fill-opacity=\"1\" /><path clip-path=\"url(#clip210)\" d=\"M2145.45 200.041 L2145.45 202.124 L2125.87 202.124 Q2126.14 206.522 2128.5 208.837 Q2130.89 211.129 2135.12 211.129 Q2137.58 211.129 2139.87 210.527 Q2142.19 209.925 2144.45 208.721 L2144.45 212.749 Q2142.16 213.721 2139.75 214.231 Q2137.35 214.74 2134.87 214.74 Q2128.67 214.74 2125.03 211.129 Q2121.42 207.518 2121.42 201.36 Q2121.42 194.995 2124.85 191.268 Q2128.3 187.518 2134.13 187.518 Q2139.36 187.518 2142.39 190.897 Q2145.45 194.254 2145.45 200.041 M2141.19 198.791 Q2141.14 195.296 2139.22 193.212 Q2137.32 191.129 2134.18 191.129 Q2130.61 191.129 2128.46 193.143 Q2126.33 195.157 2126 198.814 L2141.19 198.791 Z\" fill=\"#000000\" fill-rule=\"nonzero\" fill-opacity=\"1\" /><path clip-path=\"url(#clip210)\" d=\"M2167.46 192.124 Q2166.75 191.708 2165.89 191.522 Q2165.06 191.314 2164.04 191.314 Q2160.43 191.314 2158.48 193.675 Q2156.56 196.013 2156.56 200.411 L2156.56 214.069 L2152.28 214.069 L2152.28 188.143 L2156.56 188.143 L2156.56 192.171 Q2157.9 189.809 2160.06 188.675 Q2162.21 187.518 2165.29 187.518 Q2165.73 187.518 2166.26 187.587 Q2166.79 187.634 2167.44 187.749 L2167.46 192.124 Z\" fill=\"#000000\" fill-rule=\"nonzero\" fill-opacity=\"1\" /><path clip-path=\"url(#clip210)\" d=\"M2186.12 192.124 Q2185.4 191.708 2184.55 191.522 Q2183.71 191.314 2182.69 191.314 Q2179.08 191.314 2177.14 193.675 Q2175.22 196.013 2175.22 200.411 L2175.22 214.069 L2170.93 214.069 L2170.93 188.143 L2175.22 188.143 L2175.22 192.171 Q2176.56 189.809 2178.71 188.675 Q2180.87 187.518 2183.94 187.518 Q2184.38 187.518 2184.92 187.587 Q2185.45 187.634 2186.1 187.749 L2186.12 192.124 Z\" fill=\"#000000\" fill-rule=\"nonzero\" fill-opacity=\"1\" /><path clip-path=\"url(#clip210)\" d=\"M2199.59 191.129 Q2196.17 191.129 2194.18 193.814 Q2192.18 196.476 2192.18 201.129 Q2192.18 205.782 2194.15 208.467 Q2196.14 211.129 2199.59 211.129 Q2202.99 211.129 2204.99 208.444 Q2206.98 205.758 2206.98 201.129 Q2206.98 196.522 2204.99 193.837 Q2202.99 191.129 2199.59 191.129 M2199.59 187.518 Q2205.15 187.518 2208.32 191.129 Q2211.49 194.74 2211.49 201.129 Q2211.49 207.495 2208.32 211.129 Q2205.15 214.74 2199.59 214.74 Q2194.01 214.74 2190.84 211.129 Q2187.69 207.495 2187.69 201.129 Q2187.69 194.74 2190.84 191.129 Q2194.01 187.518 2199.59 187.518 Z\" fill=\"#000000\" fill-rule=\"nonzero\" fill-opacity=\"1\" /><path clip-path=\"url(#clip210)\" d=\"M2233.57 192.124 Q2232.86 191.708 2232 191.522 Q2231.17 191.314 2230.15 191.314 Q2226.54 191.314 2224.59 193.675 Q2222.67 196.013 2222.67 200.411 L2222.67 214.069 L2218.39 214.069 L2218.39 188.143 L2222.67 188.143 L2222.67 192.171 Q2224.01 189.809 2226.17 188.675 Q2228.32 187.518 2231.4 187.518 Q2231.84 187.518 2232.37 187.587 Q2232.9 187.634 2233.55 187.749 L2233.57 192.124 Z\" fill=\"#000000\" fill-rule=\"nonzero\" fill-opacity=\"1\" /></svg>\n"
      ],
      "text/html": [
       "<?xml version=\"1.0\" encoding=\"utf-8\"?>\n",
       "<svg xmlns=\"http://www.w3.org/2000/svg\" xmlns:xlink=\"http://www.w3.org/1999/xlink\" width=\"600\" height=\"400\" viewBox=\"0 0 2400 1600\">\n",
       "<defs>\n",
       "  <clipPath id=\"clip260\">\n",
       "    <rect x=\"0\" y=\"0\" width=\"2400\" height=\"1600\"/>\n",
       "  </clipPath>\n",
       "</defs>\n",
       "<path clip-path=\"url(#clip260)\" d=\"M0 1600 L2400 1600 L2400 0 L0 0  Z\" fill=\"#ffffff\" fill-rule=\"evenodd\" fill-opacity=\"1\"/>\n",
       "<defs>\n",
       "  <clipPath id=\"clip261\">\n",
       "    <rect x=\"480\" y=\"0\" width=\"1681\" height=\"1600\"/>\n",
       "  </clipPath>\n",
       "</defs>\n",
       "<path clip-path=\"url(#clip260)\" d=\"M276.876 1423.18 L2352.76 1423.18 L2352.76 47.2441 L276.876 47.2441  Z\" fill=\"#ffffff\" fill-rule=\"evenodd\" fill-opacity=\"1\"/>\n",
       "<defs>\n",
       "  <clipPath id=\"clip262\">\n",
       "    <rect x=\"276\" y=\"47\" width=\"2077\" height=\"1377\"/>\n",
       "  </clipPath>\n",
       "</defs>\n",
       "<polyline clip-path=\"url(#clip262)\" style=\"stroke:#000000; stroke-linecap:round; stroke-linejoin:round; stroke-width:2; stroke-opacity:0.1; fill:none\" points=\"553.224,1423.18 553.224,47.2441 \"/>\n",
       "<polyline clip-path=\"url(#clip262)\" style=\"stroke:#000000; stroke-linecap:round; stroke-linejoin:round; stroke-width:2; stroke-opacity:0.1; fill:none\" points=\"988.419,1423.18 988.419,47.2441 \"/>\n",
       "<polyline clip-path=\"url(#clip262)\" style=\"stroke:#000000; stroke-linecap:round; stroke-linejoin:round; stroke-width:2; stroke-opacity:0.1; fill:none\" points=\"1423.61,1423.18 1423.61,47.2441 \"/>\n",
       "<polyline clip-path=\"url(#clip262)\" style=\"stroke:#000000; stroke-linecap:round; stroke-linejoin:round; stroke-width:2; stroke-opacity:0.1; fill:none\" points=\"1858.81,1423.18 1858.81,47.2441 \"/>\n",
       "<polyline clip-path=\"url(#clip262)\" style=\"stroke:#000000; stroke-linecap:round; stroke-linejoin:round; stroke-width:2; stroke-opacity:0.1; fill:none\" points=\"2294,1423.18 2294,47.2441 \"/>\n",
       "<polyline clip-path=\"url(#clip262)\" style=\"stroke:#000000; stroke-linecap:round; stroke-linejoin:round; stroke-width:2; stroke-opacity:0.1; fill:none\" points=\"276.876,1365.89 2352.76,1365.89 \"/>\n",
       "<polyline clip-path=\"url(#clip262)\" style=\"stroke:#000000; stroke-linecap:round; stroke-linejoin:round; stroke-width:2; stroke-opacity:0.1; fill:none\" points=\"276.876,845.982 2352.76,845.982 \"/>\n",
       "<polyline clip-path=\"url(#clip262)\" style=\"stroke:#000000; stroke-linecap:round; stroke-linejoin:round; stroke-width:2; stroke-opacity:0.1; fill:none\" points=\"276.876,326.073 2352.76,326.073 \"/>\n",
       "<polyline clip-path=\"url(#clip260)\" style=\"stroke:#000000; stroke-linecap:round; stroke-linejoin:round; stroke-width:4; stroke-opacity:1; fill:none\" points=\"276.876,1423.18 2352.76,1423.18 \"/>\n",
       "<polyline clip-path=\"url(#clip260)\" style=\"stroke:#000000; stroke-linecap:round; stroke-linejoin:round; stroke-width:4; stroke-opacity:1; fill:none\" points=\"553.224,1423.18 553.224,1404.28 \"/>\n",
       "<polyline clip-path=\"url(#clip260)\" style=\"stroke:#000000; stroke-linecap:round; stroke-linejoin:round; stroke-width:4; stroke-opacity:1; fill:none\" points=\"988.419,1423.18 988.419,1404.28 \"/>\n",
       "<polyline clip-path=\"url(#clip260)\" style=\"stroke:#000000; stroke-linecap:round; stroke-linejoin:round; stroke-width:4; stroke-opacity:1; fill:none\" points=\"1423.61,1423.18 1423.61,1404.28 \"/>\n",
       "<polyline clip-path=\"url(#clip260)\" style=\"stroke:#000000; stroke-linecap:round; stroke-linejoin:round; stroke-width:4; stroke-opacity:1; fill:none\" points=\"1858.81,1423.18 1858.81,1404.28 \"/>\n",
       "<polyline clip-path=\"url(#clip260)\" style=\"stroke:#000000; stroke-linecap:round; stroke-linejoin:round; stroke-width:4; stroke-opacity:1; fill:none\" points=\"2294,1423.18 2294,1404.28 \"/>\n",
       "<path clip-path=\"url(#clip260)\" d=\"M547.877 1481.64 L564.197 1481.64 L564.197 1485.58 L542.252 1485.58 L542.252 1481.64 Q544.914 1478.89 549.498 1474.26 Q554.104 1469.61 555.285 1468.27 Q557.53 1465.74 558.41 1464.01 Q559.312 1462.25 559.312 1460.56 Q559.312 1457.8 557.368 1456.07 Q555.447 1454.33 552.345 1454.33 Q550.146 1454.33 547.692 1455.09 Q545.261 1455.86 542.484 1457.41 L542.484 1452.69 Q545.308 1451.55 547.761 1450.97 Q550.215 1450.39 552.252 1450.39 Q557.622 1450.39 560.817 1453.08 Q564.011 1455.77 564.011 1460.26 Q564.011 1462.39 563.201 1464.31 Q562.414 1466.2 560.308 1468.8 Q559.729 1469.47 556.627 1472.69 Q553.525 1475.88 547.877 1481.64 Z\" fill=\"#000000\" fill-rule=\"nonzero\" fill-opacity=\"1\" /><path clip-path=\"url(#clip260)\" d=\"M991.429 1455.09 L979.623 1473.54 L991.429 1473.54 L991.429 1455.09 M990.202 1451.02 L996.081 1451.02 L996.081 1473.54 L1001.01 1473.54 L1001.01 1477.43 L996.081 1477.43 L996.081 1485.58 L991.429 1485.58 L991.429 1477.43 L975.827 1477.43 L975.827 1472.92 L990.202 1451.02 Z\" fill=\"#000000\" fill-rule=\"nonzero\" fill-opacity=\"1\" /><path clip-path=\"url(#clip260)\" d=\"M1424.02 1466.44 Q1420.87 1466.44 1419.02 1468.59 Q1417.19 1470.74 1417.19 1474.49 Q1417.19 1478.22 1419.02 1480.39 Q1420.87 1482.55 1424.02 1482.55 Q1427.17 1482.55 1429 1480.39 Q1430.85 1478.22 1430.85 1474.49 Q1430.85 1470.74 1429 1468.59 Q1427.17 1466.44 1424.02 1466.44 M1433.3 1451.78 L1433.3 1456.04 Q1431.54 1455.21 1429.74 1454.77 Q1427.95 1454.33 1426.2 1454.33 Q1421.57 1454.33 1419.11 1457.45 Q1416.68 1460.58 1416.33 1466.9 Q1417.7 1464.89 1419.76 1463.82 Q1421.82 1462.73 1424.3 1462.73 Q1429.51 1462.73 1432.51 1465.9 Q1435.55 1469.05 1435.55 1474.49 Q1435.55 1479.82 1432.4 1483.03 Q1429.25 1486.25 1424.02 1486.25 Q1418.02 1486.25 1414.85 1481.67 Q1411.68 1477.06 1411.68 1468.33 Q1411.68 1460.14 1415.57 1455.28 Q1419.46 1450.39 1426.01 1450.39 Q1427.77 1450.39 1429.55 1450.74 Q1431.36 1451.09 1433.3 1451.78 Z\" fill=\"#000000\" fill-rule=\"nonzero\" fill-opacity=\"1\" /><path clip-path=\"url(#clip260)\" d=\"M1858.81 1469.17 Q1855.48 1469.17 1853.55 1470.95 Q1851.66 1472.73 1851.66 1475.86 Q1851.66 1478.98 1853.55 1480.77 Q1855.48 1482.55 1858.81 1482.55 Q1862.14 1482.55 1864.06 1480.77 Q1865.99 1478.96 1865.99 1475.86 Q1865.99 1472.73 1864.06 1470.95 Q1862.17 1469.17 1858.81 1469.17 M1854.13 1467.18 Q1851.12 1466.44 1849.43 1464.38 Q1847.77 1462.32 1847.77 1459.35 Q1847.77 1455.21 1850.71 1452.8 Q1853.67 1450.39 1858.81 1450.39 Q1863.97 1450.39 1866.91 1452.8 Q1869.85 1455.21 1869.85 1459.35 Q1869.85 1462.32 1868.16 1464.38 Q1866.49 1466.44 1863.51 1467.18 Q1866.89 1467.96 1868.76 1470.26 Q1870.66 1472.55 1870.66 1475.86 Q1870.66 1480.88 1867.58 1483.57 Q1864.53 1486.25 1858.81 1486.25 Q1853.09 1486.25 1850.01 1483.57 Q1846.96 1480.88 1846.96 1475.86 Q1846.96 1472.55 1848.86 1470.26 Q1850.75 1467.96 1854.13 1467.18 M1852.42 1459.79 Q1852.42 1462.48 1854.09 1463.98 Q1855.78 1465.49 1858.81 1465.49 Q1861.82 1465.49 1863.51 1463.98 Q1865.22 1462.48 1865.22 1459.79 Q1865.22 1457.11 1863.51 1455.6 Q1861.82 1454.1 1858.81 1454.1 Q1855.78 1454.1 1854.09 1455.6 Q1852.42 1457.11 1852.42 1459.79 Z\" fill=\"#000000\" fill-rule=\"nonzero\" fill-opacity=\"1\" /><path clip-path=\"url(#clip260)\" d=\"M2268.69 1481.64 L2276.33 1481.64 L2276.33 1455.28 L2268.02 1456.95 L2268.02 1452.69 L2276.28 1451.02 L2280.96 1451.02 L2280.96 1481.64 L2288.6 1481.64 L2288.6 1485.58 L2268.69 1485.58 L2268.69 1481.64 Z\" fill=\"#000000\" fill-rule=\"nonzero\" fill-opacity=\"1\" /><path clip-path=\"url(#clip260)\" d=\"M2308.04 1454.1 Q2304.43 1454.1 2302.6 1457.66 Q2300.8 1461.2 2300.8 1468.33 Q2300.8 1475.44 2302.6 1479.01 Q2304.43 1482.55 2308.04 1482.55 Q2311.68 1482.55 2313.48 1479.01 Q2315.31 1475.44 2315.31 1468.33 Q2315.31 1461.2 2313.48 1457.66 Q2311.68 1454.1 2308.04 1454.1 M2308.04 1450.39 Q2313.85 1450.39 2316.91 1455 Q2319.99 1459.58 2319.99 1468.33 Q2319.99 1477.06 2316.91 1481.67 Q2313.85 1486.25 2308.04 1486.25 Q2302.23 1486.25 2299.16 1481.67 Q2296.1 1477.06 2296.1 1468.33 Q2296.1 1459.58 2299.16 1455 Q2302.23 1450.39 2308.04 1450.39 Z\" fill=\"#000000\" fill-rule=\"nonzero\" fill-opacity=\"1\" /><path clip-path=\"url(#clip260)\" d=\"M1316.77 1539.24 Q1318.97 1535.29 1322.02 1533.41 Q1325.08 1531.54 1329.22 1531.54 Q1334.79 1531.54 1337.81 1535.45 Q1340.84 1539.33 1340.84 1546.53 L1340.84 1568.04 L1334.95 1568.04 L1334.95 1546.72 Q1334.95 1541.59 1333.13 1539.11 Q1331.32 1536.63 1327.59 1536.63 Q1323.04 1536.63 1320.4 1539.65 Q1317.76 1542.68 1317.76 1547.9 L1317.76 1568.04 L1311.87 1568.04 L1311.87 1546.72 Q1311.87 1541.56 1310.06 1539.11 Q1308.24 1536.63 1304.46 1536.63 Q1299.97 1536.63 1297.33 1539.68 Q1294.68 1542.71 1294.68 1547.9 L1294.68 1568.04 L1288.8 1568.04 L1288.8 1532.4 L1294.68 1532.4 L1294.68 1537.93 Q1296.69 1534.66 1299.49 1533.1 Q1302.29 1531.54 1306.14 1531.54 Q1310.03 1531.54 1312.73 1533.51 Q1315.47 1535.48 1316.77 1539.24 Z\" fill=\"#000000\" fill-rule=\"nonzero\" fill-opacity=\"1\" /><polyline clip-path=\"url(#clip260)\" style=\"stroke:#000000; stroke-linecap:round; stroke-linejoin:round; stroke-width:4; stroke-opacity:1; fill:none\" points=\"276.876,1423.18 276.876,47.2441 \"/>\n",
       "<polyline clip-path=\"url(#clip260)\" style=\"stroke:#000000; stroke-linecap:round; stroke-linejoin:round; stroke-width:4; stroke-opacity:1; fill:none\" points=\"276.876,1365.89 295.773,1365.89 \"/>\n",
       "<polyline clip-path=\"url(#clip260)\" style=\"stroke:#000000; stroke-linecap:round; stroke-linejoin:round; stroke-width:4; stroke-opacity:1; fill:none\" points=\"276.876,845.982 295.773,845.982 \"/>\n",
       "<polyline clip-path=\"url(#clip260)\" style=\"stroke:#000000; stroke-linecap:round; stroke-linejoin:round; stroke-width:4; stroke-opacity:1; fill:none\" points=\"276.876,326.073 295.773,326.073 \"/>\n",
       "<path clip-path=\"url(#clip260)\" d=\"M115.74 1385.68 L123.379 1385.68 L123.379 1359.32 L115.069 1360.99 L115.069 1356.73 L123.333 1355.06 L128.009 1355.06 L128.009 1385.68 L135.647 1385.68 L135.647 1389.62 L115.74 1389.62 L115.74 1385.68 Z\" fill=\"#000000\" fill-rule=\"nonzero\" fill-opacity=\"1\" /><path clip-path=\"url(#clip260)\" d=\"M155.092 1358.14 Q151.481 1358.14 149.652 1361.7 Q147.846 1365.24 147.846 1372.37 Q147.846 1379.48 149.652 1383.05 Q151.481 1386.59 155.092 1386.59 Q158.726 1386.59 160.532 1383.05 Q162.36 1379.48 162.36 1372.37 Q162.36 1365.24 160.532 1361.7 Q158.726 1358.14 155.092 1358.14 M155.092 1354.43 Q160.902 1354.43 163.958 1359.04 Q167.036 1363.62 167.036 1372.37 Q167.036 1381.1 163.958 1385.71 Q160.902 1390.29 155.092 1390.29 Q149.282 1390.29 146.203 1385.71 Q143.147 1381.1 143.147 1372.37 Q143.147 1363.62 146.203 1359.04 Q149.282 1354.43 155.092 1354.43 Z\" fill=\"#000000\" fill-rule=\"nonzero\" fill-opacity=\"1\" /><path clip-path=\"url(#clip260)\" d=\"M167.036 1348.54 L191.148 1348.54 L191.148 1351.73 L167.036 1351.73 L167.036 1348.54 Z\" fill=\"#000000\" fill-rule=\"nonzero\" fill-opacity=\"1\" /><path clip-path=\"url(#clip260)\" d=\"M200.006 1359.01 L206.213 1359.01 L206.213 1337.59 L199.461 1338.94 L199.461 1335.48 L206.175 1334.13 L209.974 1334.13 L209.974 1359.01 L216.181 1359.01 L216.181 1362.21 L200.006 1362.21 L200.006 1359.01 Z\" fill=\"#000000\" fill-rule=\"nonzero\" fill-opacity=\"1\" /><path clip-path=\"url(#clip260)\" d=\"M223.892 1334.13 L238.807 1334.13 L238.807 1337.33 L227.372 1337.33 L227.372 1344.21 Q228.199 1343.93 229.027 1343.8 Q229.854 1343.65 230.682 1343.65 Q235.384 1343.65 238.13 1346.22 Q240.876 1348.8 240.876 1353.2 Q240.876 1357.73 238.054 1360.25 Q235.233 1362.75 230.099 1362.75 Q228.331 1362.75 226.488 1362.45 Q224.663 1362.15 222.707 1361.55 L222.707 1357.73 Q224.4 1358.65 226.205 1359.11 Q228.011 1359.56 230.023 1359.56 Q233.277 1359.56 235.177 1357.85 Q237.076 1356.13 237.076 1353.2 Q237.076 1350.27 235.177 1348.55 Q233.277 1346.84 230.023 1346.84 Q228.5 1346.84 226.977 1347.18 Q225.472 1347.52 223.892 1348.23 L223.892 1334.13 Z\" fill=\"#000000\" fill-rule=\"nonzero\" fill-opacity=\"1\" /><path clip-path=\"url(#clip260)\" d=\"M114.931 865.775 L122.57 865.775 L122.57 839.409 L114.26 841.076 L114.26 836.817 L122.524 835.15 L127.2 835.15 L127.2 865.775 L134.839 865.775 L134.839 869.71 L114.931 869.71 L114.931 865.775 Z\" fill=\"#000000\" fill-rule=\"nonzero\" fill-opacity=\"1\" /><path clip-path=\"url(#clip260)\" d=\"M154.283 838.229 Q150.672 838.229 148.843 841.793 Q147.038 845.335 147.038 852.465 Q147.038 859.571 148.843 863.136 Q150.672 866.678 154.283 866.678 Q157.917 866.678 159.723 863.136 Q161.552 859.571 161.552 852.465 Q161.552 845.335 159.723 841.793 Q157.917 838.229 154.283 838.229 M154.283 834.525 Q160.093 834.525 163.149 839.131 Q166.227 843.715 166.227 852.465 Q166.227 861.191 163.149 865.798 Q160.093 870.381 154.283 870.381 Q148.473 870.381 145.394 865.798 Q142.339 861.191 142.339 852.465 Q142.339 843.715 145.394 839.131 Q148.473 834.525 154.283 834.525 Z\" fill=\"#000000\" fill-rule=\"nonzero\" fill-opacity=\"1\" /><path clip-path=\"url(#clip260)\" d=\"M166.227 828.626 L190.339 828.626 L190.339 831.824 L166.227 831.824 L166.227 828.626 Z\" fill=\"#000000\" fill-rule=\"nonzero\" fill-opacity=\"1\" /><path clip-path=\"url(#clip260)\" d=\"M199.197 839.102 L205.404 839.102 L205.404 817.68 L198.652 819.034 L198.652 815.574 L205.366 814.22 L209.166 814.22 L209.166 839.102 L215.372 839.102 L215.372 842.3 L199.197 842.3 L199.197 839.102 Z\" fill=\"#000000\" fill-rule=\"nonzero\" fill-opacity=\"1\" /><path clip-path=\"url(#clip260)\" d=\"M231.171 816.721 Q228.237 816.721 226.751 819.617 Q225.284 822.495 225.284 828.288 Q225.284 834.062 226.751 836.958 Q228.237 839.836 231.171 839.836 Q234.124 839.836 235.591 836.958 Q237.076 834.062 237.076 828.288 Q237.076 822.495 235.591 819.617 Q234.124 816.721 231.171 816.721 M231.171 813.712 Q235.891 813.712 238.374 817.454 Q240.876 821.178 240.876 828.288 Q240.876 835.378 238.374 839.121 Q235.891 842.845 231.171 842.845 Q226.45 842.845 223.949 839.121 Q221.466 835.378 221.466 828.288 Q221.466 821.178 223.949 817.454 Q226.45 813.712 231.171 813.712 Z\" fill=\"#000000\" fill-rule=\"nonzero\" fill-opacity=\"1\" /><path clip-path=\"url(#clip260)\" d=\"M140.247 345.865 L147.886 345.865 L147.886 319.5 L139.575 321.166 L139.575 316.907 L147.839 315.24 L152.515 315.24 L152.515 345.865 L160.154 345.865 L160.154 349.8 L140.247 349.8 L140.247 345.865 Z\" fill=\"#000000\" fill-rule=\"nonzero\" fill-opacity=\"1\" /><path clip-path=\"url(#clip260)\" d=\"M179.598 318.319 Q175.987 318.319 174.159 321.884 Q172.353 325.426 172.353 332.555 Q172.353 339.662 174.159 343.226 Q175.987 346.768 179.598 346.768 Q183.233 346.768 185.038 343.226 Q186.867 339.662 186.867 332.555 Q186.867 325.426 185.038 321.884 Q183.233 318.319 179.598 318.319 M179.598 314.615 Q185.409 314.615 188.464 319.222 Q191.543 323.805 191.543 332.555 Q191.543 341.282 188.464 345.888 Q185.409 350.472 179.598 350.472 Q173.788 350.472 170.71 345.888 Q167.654 341.282 167.654 332.555 Q167.654 323.805 170.71 319.222 Q173.788 314.615 179.598 314.615 Z\" fill=\"#000000\" fill-rule=\"nonzero\" fill-opacity=\"1\" /><path clip-path=\"url(#clip260)\" d=\"M191.543 308.717 L215.654 308.717 L215.654 311.914 L191.543 311.914 L191.543 308.717 Z\" fill=\"#000000\" fill-rule=\"nonzero\" fill-opacity=\"1\" /><path clip-path=\"url(#clip260)\" d=\"M223.892 294.31 L238.807 294.31 L238.807 297.507 L227.372 297.507 L227.372 304.391 Q228.199 304.109 229.027 303.977 Q229.854 303.827 230.682 303.827 Q235.384 303.827 238.13 306.403 Q240.876 308.98 240.876 313.381 Q240.876 317.914 238.054 320.434 Q235.233 322.935 230.099 322.935 Q228.331 322.935 226.488 322.635 Q224.663 322.334 222.707 321.732 L222.707 317.914 Q224.4 318.835 226.205 319.287 Q228.011 319.738 230.023 319.738 Q233.277 319.738 235.177 318.027 Q237.076 316.315 237.076 313.381 Q237.076 310.447 235.177 308.736 Q233.277 307.024 230.023 307.024 Q228.5 307.024 226.977 307.363 Q225.472 307.701 223.892 308.416 L223.892 294.31 Z\" fill=\"#000000\" fill-rule=\"nonzero\" fill-opacity=\"1\" /><path clip-path=\"url(#clip260)\" d=\"M16.4842 811.457 L16.4842 781.411 L21.895 781.411 L21.895 805.028 L35.9632 805.028 L35.9632 782.398 L41.3741 782.398 L41.3741 805.028 L58.5933 805.028 L58.5933 780.838 L64.0042 780.838 L64.0042 811.457 L16.4842 811.457 Z\" fill=\"#000000\" fill-rule=\"nonzero\" fill-opacity=\"1\" /><path clip-path=\"url(#clip260)\" d=\"M33.8307 749.869 Q33.2578 750.856 33.0032 752.033 Q32.7167 753.179 32.7167 754.58 Q32.7167 759.545 35.9632 762.218 Q39.1779 764.86 45.2253 764.86 L64.0042 764.86 L64.0042 770.749 L28.3562 770.749 L28.3562 764.86 L33.8944 764.86 Q30.6479 763.014 29.0883 760.054 Q27.4968 757.094 27.4968 752.861 Q27.4968 752.256 27.5923 751.524 Q27.656 750.792 27.8151 749.901 L33.8307 749.869 Z\" fill=\"#000000\" fill-rule=\"nonzero\" fill-opacity=\"1\" /><path clip-path=\"url(#clip260)\" d=\"M33.8307 724.215 Q33.2578 725.202 33.0032 726.38 Q32.7167 727.525 32.7167 728.926 Q32.7167 733.891 35.9632 736.565 Q39.1779 739.206 45.2253 739.206 L64.0042 739.206 L64.0042 745.095 L28.3562 745.095 L28.3562 739.206 L33.8944 739.206 Q30.6479 737.36 29.0883 734.4 Q27.4968 731.44 27.4968 727.207 Q27.4968 726.602 27.5923 725.87 Q27.656 725.138 27.8151 724.247 L33.8307 724.215 Z\" fill=\"#000000\" fill-rule=\"nonzero\" fill-opacity=\"1\" /><path clip-path=\"url(#clip260)\" d=\"M32.4621 705.691 Q32.4621 710.402 36.1542 713.139 Q39.8145 715.876 46.212 715.876 Q52.6095 715.876 56.3017 713.171 Q59.9619 710.433 59.9619 705.691 Q59.9619 701.012 56.2698 698.275 Q52.5777 695.538 46.212 695.538 Q39.8781 695.538 36.186 698.275 Q32.4621 701.012 32.4621 705.691 M27.4968 705.691 Q27.4968 698.052 32.4621 693.692 Q37.4273 689.331 46.212 689.331 Q54.9649 689.331 59.9619 693.692 Q64.9272 698.052 64.9272 705.691 Q64.9272 713.362 59.9619 717.722 Q54.9649 722.051 46.212 722.051 Q37.4273 722.051 32.4621 717.722 Q27.4968 713.362 27.4968 705.691 Z\" fill=\"#000000\" fill-rule=\"nonzero\" fill-opacity=\"1\" /><path clip-path=\"url(#clip260)\" d=\"M33.8307 658.967 Q33.2578 659.953 33.0032 661.131 Q32.7167 662.277 32.7167 663.677 Q32.7167 668.643 35.9632 671.316 Q39.1779 673.958 45.2253 673.958 L64.0042 673.958 L64.0042 679.846 L28.3562 679.846 L28.3562 673.958 L33.8944 673.958 Q30.6479 672.112 29.0883 669.152 Q27.4968 666.192 27.4968 661.959 Q27.4968 661.354 27.5923 660.622 Q27.656 659.89 27.8151 658.999 L33.8307 658.967 Z\" fill=\"#000000\" fill-rule=\"nonzero\" fill-opacity=\"1\" /><circle clip-path=\"url(#clip262)\" cx=\"335.627\" cy=\"86.1857\" r=\"14.4\" fill=\"#009af9\" fill-rule=\"evenodd\" fill-opacity=\"1\" stroke=\"#000000\" stroke-opacity=\"1\" stroke-width=\"3.2\"/>\n",
       "<circle clip-path=\"url(#clip262)\" cx=\"553.224\" cy=\"126.989\" r=\"14.4\" fill=\"#009af9\" fill-rule=\"evenodd\" fill-opacity=\"1\" stroke=\"#000000\" stroke-opacity=\"1\" stroke-width=\"3.2\"/>\n",
       "<circle clip-path=\"url(#clip262)\" cx=\"770.822\" cy=\"176.343\" r=\"14.4\" fill=\"#009af9\" fill-rule=\"evenodd\" fill-opacity=\"1\" stroke=\"#000000\" stroke-opacity=\"1\" stroke-width=\"3.2\"/>\n",
       "<circle clip-path=\"url(#clip262)\" cx=\"988.419\" cy=\"231.515\" r=\"14.4\" fill=\"#009af9\" fill-rule=\"evenodd\" fill-opacity=\"1\" stroke=\"#000000\" stroke-opacity=\"1\" stroke-width=\"3.2\"/>\n",
       "<circle clip-path=\"url(#clip262)\" cx=\"1206.02\" cy=\"290.162\" r=\"14.4\" fill=\"#009af9\" fill-rule=\"evenodd\" fill-opacity=\"1\" stroke=\"#000000\" stroke-opacity=\"1\" stroke-width=\"3.2\"/>\n",
       "<circle clip-path=\"url(#clip262)\" cx=\"1423.61\" cy=\"350.72\" r=\"14.4\" fill=\"#009af9\" fill-rule=\"evenodd\" fill-opacity=\"1\" stroke=\"#000000\" stroke-opacity=\"1\" stroke-width=\"3.2\"/>\n",
       "<circle clip-path=\"url(#clip262)\" cx=\"1641.21\" cy=\"412.283\" r=\"14.4\" fill=\"#009af9\" fill-rule=\"evenodd\" fill-opacity=\"1\" stroke=\"#000000\" stroke-opacity=\"1\" stroke-width=\"3.2\"/>\n",
       "<circle clip-path=\"url(#clip262)\" cx=\"1858.81\" cy=\"474.362\" r=\"14.4\" fill=\"#009af9\" fill-rule=\"evenodd\" fill-opacity=\"1\" stroke=\"#000000\" stroke-opacity=\"1\" stroke-width=\"3.2\"/>\n",
       "<circle clip-path=\"url(#clip262)\" cx=\"2076.41\" cy=\"536.701\" r=\"14.4\" fill=\"#009af9\" fill-rule=\"evenodd\" fill-opacity=\"1\" stroke=\"#000000\" stroke-opacity=\"1\" stroke-width=\"3.2\"/>\n",
       "<circle clip-path=\"url(#clip262)\" cx=\"2294\" cy=\"599.173\" r=\"14.4\" fill=\"#009af9\" fill-rule=\"evenodd\" fill-opacity=\"1\" stroke=\"#000000\" stroke-opacity=\"1\" stroke-width=\"3.2\"/>\n",
       "<circle clip-path=\"url(#clip262)\" cx=\"335.627\" cy=\"324.574\" r=\"14.4\" fill=\"#e26f46\" fill-rule=\"evenodd\" fill-opacity=\"1\" stroke=\"#000000\" stroke-opacity=\"1\" stroke-width=\"3.2\"/>\n",
       "<circle clip-path=\"url(#clip262)\" cx=\"553.224\" cy=\"415.827\" r=\"14.4\" fill=\"#e26f46\" fill-rule=\"evenodd\" fill-opacity=\"1\" stroke=\"#000000\" stroke-opacity=\"1\" stroke-width=\"3.2\"/>\n",
       "<circle clip-path=\"url(#clip262)\" cx=\"770.822\" cy=\"521.585\" r=\"14.4\" fill=\"#e26f46\" fill-rule=\"evenodd\" fill-opacity=\"1\" stroke=\"#000000\" stroke-opacity=\"1\" stroke-width=\"3.2\"/>\n",
       "<circle clip-path=\"url(#clip262)\" cx=\"988.419\" cy=\"636.33\" r=\"14.4\" fill=\"#e26f46\" fill-rule=\"evenodd\" fill-opacity=\"1\" stroke=\"#000000\" stroke-opacity=\"1\" stroke-width=\"3.2\"/>\n",
       "<circle clip-path=\"url(#clip262)\" cx=\"1206.02\" cy=\"756.105\" r=\"14.4\" fill=\"#e26f46\" fill-rule=\"evenodd\" fill-opacity=\"1\" stroke=\"#000000\" stroke-opacity=\"1\" stroke-width=\"3.2\"/>\n",
       "<circle clip-path=\"url(#clip262)\" cx=\"1423.61\" cy=\"878.543\" r=\"14.4\" fill=\"#e26f46\" fill-rule=\"evenodd\" fill-opacity=\"1\" stroke=\"#000000\" stroke-opacity=\"1\" stroke-width=\"3.2\"/>\n",
       "<circle clip-path=\"url(#clip262)\" cx=\"1641.21\" cy=\"1002.35\" r=\"14.4\" fill=\"#e26f46\" fill-rule=\"evenodd\" fill-opacity=\"1\" stroke=\"#000000\" stroke-opacity=\"1\" stroke-width=\"3.2\"/>\n",
       "<circle clip-path=\"url(#clip262)\" cx=\"1858.81\" cy=\"1126.88\" r=\"14.4\" fill=\"#e26f46\" fill-rule=\"evenodd\" fill-opacity=\"1\" stroke=\"#000000\" stroke-opacity=\"1\" stroke-width=\"3.2\"/>\n",
       "<circle clip-path=\"url(#clip262)\" cx=\"2076.41\" cy=\"1251.67\" r=\"14.4\" fill=\"#e26f46\" fill-rule=\"evenodd\" fill-opacity=\"1\" stroke=\"#000000\" stroke-opacity=\"1\" stroke-width=\"3.2\"/>\n",
       "<circle clip-path=\"url(#clip262)\" cx=\"2294\" cy=\"1384.24\" r=\"14.4\" fill=\"#e26f46\" fill-rule=\"evenodd\" fill-opacity=\"1\" stroke=\"#000000\" stroke-opacity=\"1\" stroke-width=\"3.2\"/>\n",
       "<path clip-path=\"url(#clip260)\" d=\"M1719.05 248.629 L2283.56 248.629 L2283.56 93.1086 L1719.05 93.1086  Z\" fill=\"#ffffff\" fill-rule=\"evenodd\" fill-opacity=\"1\"/>\n",
       "<polyline clip-path=\"url(#clip260)\" style=\"stroke:#000000; stroke-linecap:round; stroke-linejoin:round; stroke-width:4; stroke-opacity:1; fill:none\" points=\"1719.05,248.629 2283.56,248.629 2283.56,93.1086 1719.05,93.1086 1719.05,248.629 \"/>\n",
       "<circle clip-path=\"url(#clip260)\" cx=\"1811.31\" cy=\"144.949\" r=\"20.48\" fill=\"#009af9\" fill-rule=\"evenodd\" fill-opacity=\"1\" stroke=\"#000000\" stroke-opacity=\"1\" stroke-width=\"4.55111\"/>\n",
       "<path clip-path=\"url(#clip260)\" d=\"M1903.58 127.669 L1932.81 127.669 L1932.81 131.604 L1920.54 131.604 L1920.54 162.229 L1915.84 162.229 L1915.84 131.604 L1903.58 131.604 L1903.58 127.669 Z\" fill=\"#000000\" fill-rule=\"nonzero\" fill-opacity=\"1\" /><path clip-path=\"url(#clip260)\" d=\"M1945.2 140.284 Q1944.48 139.868 1943.62 139.682 Q1942.79 139.474 1941.77 139.474 Q1938.16 139.474 1936.21 141.835 Q1934.29 144.173 1934.29 148.571 L1934.29 162.229 L1930.01 162.229 L1930.01 136.303 L1934.29 136.303 L1934.29 140.331 Q1935.64 137.969 1937.79 136.835 Q1939.94 135.678 1943.02 135.678 Q1943.46 135.678 1943.99 135.747 Q1944.52 135.794 1945.17 135.909 L1945.2 140.284 Z\" fill=\"#000000\" fill-rule=\"nonzero\" fill-opacity=\"1\" /><path clip-path=\"url(#clip260)\" d=\"M1961.45 149.196 Q1956.28 149.196 1954.29 150.377 Q1952.3 151.557 1952.3 154.405 Q1952.3 156.673 1953.78 158.016 Q1955.29 159.335 1957.86 159.335 Q1961.4 159.335 1963.53 156.835 Q1965.68 154.312 1965.68 150.145 L1965.68 149.196 L1961.45 149.196 M1969.94 147.437 L1969.94 162.229 L1965.68 162.229 L1965.68 158.293 Q1964.22 160.655 1962.05 161.789 Q1959.87 162.9 1956.72 162.9 Q1952.74 162.9 1950.38 160.678 Q1948.04 158.432 1948.04 154.682 Q1948.04 150.307 1950.96 148.085 Q1953.9 145.863 1959.71 145.863 L1965.68 145.863 L1965.68 145.446 Q1965.68 142.507 1963.74 140.909 Q1961.82 139.289 1958.32 139.289 Q1956.1 139.289 1953.99 139.821 Q1951.89 140.354 1949.94 141.419 L1949.94 137.483 Q1952.28 136.581 1954.48 136.141 Q1956.68 135.678 1958.76 135.678 Q1964.39 135.678 1967.16 138.594 Q1969.94 141.511 1969.94 147.437 Z\" fill=\"#000000\" fill-rule=\"nonzero\" fill-opacity=\"1\" /><path clip-path=\"url(#clip260)\" d=\"M1982.83 158.34 L1982.83 172.09 L1978.55 172.09 L1978.55 136.303 L1982.83 136.303 L1982.83 140.238 Q1984.18 137.923 1986.21 136.812 Q1988.27 135.678 1991.12 135.678 Q1995.84 135.678 1998.78 139.428 Q2001.75 143.178 2001.75 149.289 Q2001.75 155.4 1998.78 159.15 Q1995.84 162.9 1991.12 162.9 Q1988.27 162.9 1986.21 161.789 Q1984.18 160.655 1982.83 158.34 M1997.32 149.289 Q1997.32 144.59 1995.38 141.928 Q1993.46 139.243 1990.08 139.243 Q1986.7 139.243 1984.76 141.928 Q1982.83 144.59 1982.83 149.289 Q1982.83 153.988 1984.76 156.673 Q1986.7 159.335 1990.08 159.335 Q1993.46 159.335 1995.38 156.673 Q1997.32 153.988 1997.32 149.289 Z\" fill=\"#000000\" fill-rule=\"nonzero\" fill-opacity=\"1\" /><path clip-path=\"url(#clip260)\" d=\"M2030.98 148.201 L2030.98 150.284 L2011.4 150.284 Q2011.68 154.682 2014.04 156.997 Q2016.42 159.289 2020.66 159.289 Q2023.11 159.289 2025.4 158.687 Q2027.72 158.085 2029.99 156.881 L2029.99 160.909 Q2027.69 161.881 2025.29 162.391 Q2022.88 162.9 2020.4 162.9 Q2014.2 162.9 2010.57 159.289 Q2006.95 155.678 2006.95 149.52 Q2006.95 143.155 2010.38 139.428 Q2013.83 135.678 2019.66 135.678 Q2024.89 135.678 2027.93 139.057 Q2030.98 142.414 2030.98 148.201 M2026.72 146.951 Q2026.68 143.456 2024.76 141.372 Q2022.86 139.289 2019.71 139.289 Q2016.14 139.289 2013.99 141.303 Q2011.86 143.317 2011.54 146.974 L2026.72 146.951 Z\" fill=\"#000000\" fill-rule=\"nonzero\" fill-opacity=\"1\" /><path clip-path=\"url(#clip260)\" d=\"M2036.12 136.303 L2056.35 136.303 L2056.35 140.192 L2040.33 158.826 L2056.35 158.826 L2056.35 162.229 L2035.54 162.229 L2035.54 158.34 L2051.56 139.706 L2036.12 139.706 L2036.12 136.303 Z\" fill=\"#000000\" fill-rule=\"nonzero\" fill-opacity=\"1\" /><path clip-path=\"url(#clip260)\" d=\"M2072.9 139.289 Q2069.48 139.289 2067.49 141.974 Q2065.5 144.636 2065.5 149.289 Q2065.5 153.942 2067.46 156.627 Q2069.45 159.289 2072.9 159.289 Q2076.31 159.289 2078.3 156.604 Q2080.29 153.918 2080.29 149.289 Q2080.29 144.682 2078.3 141.997 Q2076.31 139.289 2072.9 139.289 M2072.9 135.678 Q2078.46 135.678 2081.63 139.289 Q2084.8 142.9 2084.8 149.289 Q2084.8 155.655 2081.63 159.289 Q2078.46 162.9 2072.9 162.9 Q2067.32 162.9 2064.15 159.289 Q2061 155.655 2061 149.289 Q2061 142.9 2064.15 139.289 Q2067.32 135.678 2072.9 135.678 Z\" fill=\"#000000\" fill-rule=\"nonzero\" fill-opacity=\"1\" /><path clip-path=\"url(#clip260)\" d=\"M2091.86 136.303 L2096.12 136.303 L2096.12 162.229 L2091.86 162.229 L2091.86 136.303 M2091.86 126.21 L2096.12 126.21 L2096.12 131.604 L2091.86 131.604 L2091.86 126.21 Z\" fill=\"#000000\" fill-rule=\"nonzero\" fill-opacity=\"1\" /><path clip-path=\"url(#clip260)\" d=\"M2122.09 140.238 L2122.09 126.21 L2126.35 126.21 L2126.35 162.229 L2122.09 162.229 L2122.09 158.34 Q2120.75 160.655 2118.69 161.789 Q2116.65 162.9 2113.78 162.9 Q2109.08 162.9 2106.12 159.15 Q2103.18 155.4 2103.18 149.289 Q2103.18 143.178 2106.12 139.428 Q2109.08 135.678 2113.78 135.678 Q2116.65 135.678 2118.69 136.812 Q2120.75 137.923 2122.09 140.238 M2107.58 149.289 Q2107.58 153.988 2109.5 156.673 Q2111.44 159.335 2114.82 159.335 Q2118.2 159.335 2120.15 156.673 Q2122.09 153.988 2122.09 149.289 Q2122.09 144.59 2120.15 141.928 Q2118.2 139.243 2114.82 139.243 Q2111.44 139.243 2109.5 141.928 Q2107.58 144.59 2107.58 149.289 Z\" fill=\"#000000\" fill-rule=\"nonzero\" fill-opacity=\"1\" /><path clip-path=\"url(#clip260)\" d=\"M2172.37 148.201 L2172.37 150.284 L2152.79 150.284 Q2153.06 154.682 2155.43 156.997 Q2157.81 159.289 2162.05 159.289 Q2164.5 159.289 2166.79 158.687 Q2169.11 158.085 2171.37 156.881 L2171.37 160.909 Q2169.08 161.881 2166.68 162.391 Q2164.27 162.9 2161.79 162.9 Q2155.59 162.9 2151.95 159.289 Q2148.34 155.678 2148.34 149.52 Q2148.34 143.155 2151.77 139.428 Q2155.22 135.678 2161.05 135.678 Q2166.28 135.678 2169.31 139.057 Q2172.37 142.414 2172.37 148.201 M2168.11 146.951 Q2168.06 143.456 2166.14 141.372 Q2164.25 139.289 2161.1 139.289 Q2157.53 139.289 2155.38 141.303 Q2153.25 143.317 2152.93 146.974 L2168.11 146.951 Z\" fill=\"#000000\" fill-rule=\"nonzero\" fill-opacity=\"1\" /><path clip-path=\"url(#clip260)\" d=\"M2194.38 140.284 Q2193.67 139.868 2192.81 139.682 Q2191.98 139.474 2190.96 139.474 Q2187.35 139.474 2185.4 141.835 Q2183.48 144.173 2183.48 148.571 L2183.48 162.229 L2179.2 162.229 L2179.2 136.303 L2183.48 136.303 L2183.48 140.331 Q2184.82 137.969 2186.98 136.835 Q2189.13 135.678 2192.21 135.678 Q2192.65 135.678 2193.18 135.747 Q2193.71 135.794 2194.36 135.909 L2194.38 140.284 Z\" fill=\"#000000\" fill-rule=\"nonzero\" fill-opacity=\"1\" /><path clip-path=\"url(#clip260)\" d=\"M2213.04 140.284 Q2212.32 139.868 2211.47 139.682 Q2210.63 139.474 2209.62 139.474 Q2206 139.474 2204.06 141.835 Q2202.14 144.173 2202.14 148.571 L2202.14 162.229 L2197.86 162.229 L2197.86 136.303 L2202.14 136.303 L2202.14 140.331 Q2203.48 137.969 2205.63 136.835 Q2207.79 135.678 2210.87 135.678 Q2211.31 135.678 2211.84 135.747 Q2212.37 135.794 2213.02 135.909 L2213.04 140.284 Z\" fill=\"#000000\" fill-rule=\"nonzero\" fill-opacity=\"1\" /><path clip-path=\"url(#clip260)\" d=\"M2226.51 139.289 Q2223.09 139.289 2221.1 141.974 Q2219.11 144.636 2219.11 149.289 Q2219.11 153.942 2221.07 156.627 Q2223.06 159.289 2226.51 159.289 Q2229.92 159.289 2231.91 156.604 Q2233.9 153.918 2233.9 149.289 Q2233.9 144.682 2231.91 141.997 Q2229.92 139.289 2226.51 139.289 M2226.51 135.678 Q2232.07 135.678 2235.24 139.289 Q2238.41 142.9 2238.41 149.289 Q2238.41 155.655 2235.24 159.289 Q2232.07 162.9 2226.51 162.9 Q2220.93 162.9 2217.76 159.289 Q2214.62 155.655 2214.62 149.289 Q2214.62 142.9 2217.76 139.289 Q2220.93 135.678 2226.51 135.678 Z\" fill=\"#000000\" fill-rule=\"nonzero\" fill-opacity=\"1\" /><path clip-path=\"url(#clip260)\" d=\"M2260.49 140.284 Q2259.78 139.868 2258.92 139.682 Q2258.09 139.474 2257.07 139.474 Q2253.46 139.474 2251.51 141.835 Q2249.59 144.173 2249.59 148.571 L2249.59 162.229 L2245.31 162.229 L2245.31 136.303 L2249.59 136.303 L2249.59 140.331 Q2250.93 137.969 2253.09 136.835 Q2255.24 135.678 2258.32 135.678 Q2258.76 135.678 2259.29 135.747 Q2259.82 135.794 2260.47 135.909 L2260.49 140.284 Z\" fill=\"#000000\" fill-rule=\"nonzero\" fill-opacity=\"1\" /><circle clip-path=\"url(#clip260)\" cx=\"1811.31\" cy=\"196.789\" r=\"20.48\" fill=\"#e26f46\" fill-rule=\"evenodd\" fill-opacity=\"1\" stroke=\"#000000\" stroke-opacity=\"1\" stroke-width=\"4.55111\"/>\n",
       "<path clip-path=\"url(#clip260)\" d=\"M1925.82 180.643 L1925.82 185.203 Q1923.16 183.93 1920.8 183.305 Q1918.44 182.68 1916.24 182.68 Q1912.42 182.68 1910.33 184.161 Q1908.27 185.643 1908.27 188.374 Q1908.27 190.666 1909.64 191.847 Q1911.03 193.004 1914.87 193.722 L1917.7 194.3 Q1922.93 195.296 1925.4 197.819 Q1927.9 200.319 1927.9 204.532 Q1927.9 209.555 1924.52 212.147 Q1921.17 214.74 1914.66 214.74 Q1912.21 214.74 1909.43 214.184 Q1906.68 213.629 1903.71 212.541 L1903.71 207.726 Q1906.56 209.323 1909.29 210.133 Q1912.02 210.944 1914.66 210.944 Q1918.67 210.944 1920.84 209.37 Q1923.02 207.796 1923.02 204.879 Q1923.02 202.333 1921.45 200.897 Q1919.89 199.462 1916.33 198.745 L1913.48 198.189 Q1908.25 197.147 1905.91 194.925 Q1903.58 192.703 1903.58 188.745 Q1903.58 184.161 1906.79 181.522 Q1910.03 178.884 1915.7 178.884 Q1918.14 178.884 1920.66 179.323 Q1923.18 179.763 1925.82 180.643 Z\" fill=\"#000000\" fill-rule=\"nonzero\" fill-opacity=\"1\" /><path clip-path=\"url(#clip260)\" d=\"M1935.01 188.143 L1939.27 188.143 L1939.27 214.069 L1935.01 214.069 L1935.01 188.143 M1935.01 178.05 L1939.27 178.05 L1939.27 183.444 L1935.01 183.444 L1935.01 178.05 Z\" fill=\"#000000\" fill-rule=\"nonzero\" fill-opacity=\"1\" /><path clip-path=\"url(#clip260)\" d=\"M1968.37 193.12 Q1969.96 190.249 1972.19 188.884 Q1974.41 187.518 1977.42 187.518 Q1981.47 187.518 1983.67 190.365 Q1985.87 193.189 1985.87 198.421 L1985.87 214.069 L1981.58 214.069 L1981.58 198.559 Q1981.58 194.833 1980.26 193.027 Q1978.95 191.222 1976.24 191.222 Q1972.93 191.222 1971.01 193.421 Q1969.08 195.62 1969.08 199.416 L1969.08 214.069 L1964.8 214.069 L1964.8 198.559 Q1964.8 194.809 1963.48 193.027 Q1962.16 191.222 1959.41 191.222 Q1956.14 191.222 1954.22 193.444 Q1952.3 195.643 1952.3 199.416 L1952.3 214.069 L1948.02 214.069 L1948.02 188.143 L1952.3 188.143 L1952.3 192.171 Q1953.76 189.786 1955.8 188.652 Q1957.83 187.518 1960.64 187.518 Q1963.46 187.518 1965.43 188.953 Q1967.42 190.388 1968.37 193.12 Z\" fill=\"#000000\" fill-rule=\"nonzero\" fill-opacity=\"1\" /><path clip-path=\"url(#clip260)\" d=\"M1998.48 210.18 L1998.48 223.93 L1994.2 223.93 L1994.2 188.143 L1998.48 188.143 L1998.48 192.078 Q1999.82 189.763 2001.86 188.652 Q2003.92 187.518 2006.77 187.518 Q2011.49 187.518 2014.43 191.268 Q2017.39 195.018 2017.39 201.129 Q2017.39 207.24 2014.43 210.99 Q2011.49 214.74 2006.77 214.74 Q2003.92 214.74 2001.86 213.629 Q1999.82 212.495 1998.48 210.18 M2012.97 201.129 Q2012.97 196.43 2011.03 193.768 Q2009.11 191.083 2005.73 191.083 Q2002.35 191.083 2000.4 193.768 Q1998.48 196.43 1998.48 201.129 Q1998.48 205.828 2000.4 208.513 Q2002.35 211.175 2005.73 211.175 Q2009.11 211.175 2011.03 208.513 Q2012.97 205.828 2012.97 201.129 Z\" fill=\"#000000\" fill-rule=\"nonzero\" fill-opacity=\"1\" /><path clip-path=\"url(#clip260)\" d=\"M2040.98 188.907 L2040.98 192.934 Q2039.18 192.009 2037.23 191.546 Q2035.29 191.083 2033.2 191.083 Q2030.03 191.083 2028.44 192.055 Q2026.86 193.027 2026.86 194.971 Q2026.86 196.453 2028 197.309 Q2029.13 198.143 2032.56 198.907 L2034.01 199.231 Q2038.55 200.203 2040.45 201.985 Q2042.37 203.745 2042.37 206.916 Q2042.37 210.527 2039.5 212.633 Q2036.65 214.74 2031.65 214.74 Q2029.57 214.74 2027.3 214.323 Q2025.06 213.93 2022.56 213.12 L2022.56 208.721 Q2024.92 209.948 2027.21 210.573 Q2029.5 211.175 2031.75 211.175 Q2034.76 211.175 2036.38 210.157 Q2038 209.115 2038 207.24 Q2038 205.504 2036.82 204.578 Q2035.66 203.652 2031.7 202.796 L2030.22 202.448 Q2026.26 201.615 2024.5 199.902 Q2022.74 198.166 2022.74 195.157 Q2022.74 191.499 2025.33 189.509 Q2027.93 187.518 2032.69 187.518 Q2035.06 187.518 2037.14 187.865 Q2039.22 188.212 2040.98 188.907 Z\" fill=\"#000000\" fill-rule=\"nonzero\" fill-opacity=\"1\" /><path clip-path=\"url(#clip260)\" d=\"M2059.2 191.129 Q2055.77 191.129 2053.78 193.814 Q2051.79 196.476 2051.79 201.129 Q2051.79 205.782 2053.76 208.467 Q2055.75 211.129 2059.2 211.129 Q2062.6 211.129 2064.59 208.444 Q2066.58 205.758 2066.58 201.129 Q2066.58 196.522 2064.59 193.837 Q2062.6 191.129 2059.2 191.129 M2059.2 187.518 Q2064.75 187.518 2067.93 191.129 Q2071.1 194.74 2071.1 201.129 Q2071.1 207.495 2067.93 211.129 Q2064.75 214.74 2059.2 214.74 Q2053.62 214.74 2050.45 211.129 Q2047.3 207.495 2047.3 201.129 Q2047.3 194.74 2050.45 191.129 Q2053.62 187.518 2059.2 187.518 Z\" fill=\"#000000\" fill-rule=\"nonzero\" fill-opacity=\"1\" /><path clip-path=\"url(#clip260)\" d=\"M2099.71 198.421 L2099.71 214.069 L2095.45 214.069 L2095.45 198.559 Q2095.45 194.879 2094.01 193.05 Q2092.58 191.222 2089.71 191.222 Q2086.26 191.222 2084.27 193.421 Q2082.28 195.62 2082.28 199.416 L2082.28 214.069 L2078 214.069 L2078 188.143 L2082.28 188.143 L2082.28 192.171 Q2083.81 189.833 2085.87 188.675 Q2087.95 187.518 2090.66 187.518 Q2095.13 187.518 2097.42 190.296 Q2099.71 193.05 2099.71 198.421 Z\" fill=\"#000000\" fill-rule=\"nonzero\" fill-opacity=\"1\" /><path clip-path=\"url(#clip260)\" d=\"M2145.45 200.041 L2145.45 202.124 L2125.87 202.124 Q2126.14 206.522 2128.5 208.837 Q2130.89 211.129 2135.12 211.129 Q2137.58 211.129 2139.87 210.527 Q2142.19 209.925 2144.45 208.721 L2144.45 212.749 Q2142.16 213.721 2139.75 214.231 Q2137.35 214.74 2134.87 214.74 Q2128.67 214.74 2125.03 211.129 Q2121.42 207.518 2121.42 201.36 Q2121.42 194.995 2124.85 191.268 Q2128.3 187.518 2134.13 187.518 Q2139.36 187.518 2142.39 190.897 Q2145.45 194.254 2145.45 200.041 M2141.19 198.791 Q2141.14 195.296 2139.22 193.212 Q2137.32 191.129 2134.18 191.129 Q2130.61 191.129 2128.46 193.143 Q2126.33 195.157 2126 198.814 L2141.19 198.791 Z\" fill=\"#000000\" fill-rule=\"nonzero\" fill-opacity=\"1\" /><path clip-path=\"url(#clip260)\" d=\"M2167.46 192.124 Q2166.75 191.708 2165.89 191.522 Q2165.06 191.314 2164.04 191.314 Q2160.43 191.314 2158.48 193.675 Q2156.56 196.013 2156.56 200.411 L2156.56 214.069 L2152.28 214.069 L2152.28 188.143 L2156.56 188.143 L2156.56 192.171 Q2157.9 189.809 2160.06 188.675 Q2162.21 187.518 2165.29 187.518 Q2165.73 187.518 2166.26 187.587 Q2166.79 187.634 2167.44 187.749 L2167.46 192.124 Z\" fill=\"#000000\" fill-rule=\"nonzero\" fill-opacity=\"1\" /><path clip-path=\"url(#clip260)\" d=\"M2186.12 192.124 Q2185.4 191.708 2184.55 191.522 Q2183.71 191.314 2182.69 191.314 Q2179.08 191.314 2177.14 193.675 Q2175.22 196.013 2175.22 200.411 L2175.22 214.069 L2170.93 214.069 L2170.93 188.143 L2175.22 188.143 L2175.22 192.171 Q2176.56 189.809 2178.71 188.675 Q2180.87 187.518 2183.94 187.518 Q2184.38 187.518 2184.92 187.587 Q2185.45 187.634 2186.1 187.749 L2186.12 192.124 Z\" fill=\"#000000\" fill-rule=\"nonzero\" fill-opacity=\"1\" /><path clip-path=\"url(#clip260)\" d=\"M2199.59 191.129 Q2196.17 191.129 2194.18 193.814 Q2192.18 196.476 2192.18 201.129 Q2192.18 205.782 2194.15 208.467 Q2196.14 211.129 2199.59 211.129 Q2202.99 211.129 2204.99 208.444 Q2206.98 205.758 2206.98 201.129 Q2206.98 196.522 2204.99 193.837 Q2202.99 191.129 2199.59 191.129 M2199.59 187.518 Q2205.15 187.518 2208.32 191.129 Q2211.49 194.74 2211.49 201.129 Q2211.49 207.495 2208.32 211.129 Q2205.15 214.74 2199.59 214.74 Q2194.01 214.74 2190.84 211.129 Q2187.69 207.495 2187.69 201.129 Q2187.69 194.74 2190.84 191.129 Q2194.01 187.518 2199.59 187.518 Z\" fill=\"#000000\" fill-rule=\"nonzero\" fill-opacity=\"1\" /><path clip-path=\"url(#clip260)\" d=\"M2233.57 192.124 Q2232.86 191.708 2232 191.522 Q2231.17 191.314 2230.15 191.314 Q2226.54 191.314 2224.59 193.675 Q2222.67 196.013 2222.67 200.411 L2222.67 214.069 L2218.39 214.069 L2218.39 188.143 L2222.67 188.143 L2222.67 192.171 Q2224.01 189.809 2226.17 188.675 Q2228.32 187.518 2231.4 187.518 Q2231.84 187.518 2232.37 187.587 Q2232.9 187.634 2233.55 187.749 L2233.57 192.124 Z\" fill=\"#000000\" fill-rule=\"nonzero\" fill-opacity=\"1\" /></svg>\n"
      ]
     },
     "execution_count": 51,
     "metadata": {},
     "output_type": "execute_result"
    }
   ],
   "source": [
    "#plot error as function of m\n",
    "m=1\n",
    "Ntotal=10\n",
    "error_t=zeros(Ntotal,1)\n",
    "error_s=zeros(Ntotal,1)\n",
    "for k=1:Ntotal\n",
    "   m *= 2\n",
    "\n",
    "# Number N of interior points from m\n",
    "  N=2*m+2\n",
    "\n",
    "#Get quadrature points and weights for the trapezoid scheme\n",
    "  x_t,weights_t =trapezoid(interval_a,interval_b,N)\n",
    "\n",
    "#Simpson\n",
    "  x_s,weights_s=simpson(interval_a, interval_b,m)\n",
    "\n",
    "  xfine=(interval_a:0.01:interval_b)\n",
    "\n",
    "#Trapezoid error\n",
    "  result_trapezoid=sum(weights_t*f.(x_t))\n",
    "  error_t[k]=abs(result_trapezoid-0.25)\n",
    "\n",
    "#Simpson error\n",
    "\n",
    "  result_simpson=sum(weights_s*f.(x_s))\n",
    "  error_s[k]=abs(result_simpson-0.25)\n",
    "end\n",
    "\n",
    "Nrange=(1:1:Ntotal)\n",
    "scatter(Nrange,error_t,label=\"Trapezoid error\")\n",
    "scatter!(Nrange,error_s,label=\"Simpson error\", yaxis=:log,xlabel=\"m\",ylabel=\"Error\")\n"
   ]
  },
  {
   "cell_type": "code",
   "execution_count": null,
   "id": "2afdafd1-2f19-4fe5-a810-4cf8ae3e3ce9",
   "metadata": {},
   "outputs": [],
   "source": []
  }
 ],
 "metadata": {
  "@webio": {
   "lastCommId": "e63ed6cbe9e043a8aa144f5c7e56f774",
   "lastKernelId": "45d4cb60-6304-41ce-ac16-3444b34ffce8"
  },
  "kernelspec": {
   "display_name": "Julia 1.10.7",
   "language": "julia",
   "name": "julia-1.10"
  },
  "language_info": {
   "file_extension": ".jl",
   "mimetype": "application/julia",
   "name": "julia",
   "version": "1.10.7"
  }
 },
 "nbformat": 4,
 "nbformat_minor": 5
}
