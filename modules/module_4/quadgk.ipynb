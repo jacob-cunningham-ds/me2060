{
 "cells": [
  {
   "cell_type": "markdown",
   "id": "f8a81bec-95b4-4acb-a08e-8eb32277c212",
   "metadata": {},
   "source": [
    "---\n",
    "title: QuadGK\n",
    "venue: Modules\n",
    "---"
   ]
  },
  {
   "cell_type": "markdown",
   "id": "0c3b1b31",
   "metadata": {},
   "source": [
    "## Numerical evaluation of improper integrals"
   ]
  },
  {
   "cell_type": "markdown",
   "id": "32992bf2",
   "metadata": {},
   "source": [
    "The <b> QuadGK</b> package transforms an infinite interval into a finite one, then aplies the Gauss-Kronrod quadrature. It avoids evaluating the endpoints to prevent singularities: https://juliamath.github.io/QuadGK.jl/stable/quadgk-examples/#quadgk-examples"
   ]
  },
  {
   "cell_type": "markdown",
   "id": "93b9b36c",
   "metadata": {},
   "source": [
    "<b> Example: </b> Integrate the Gauss function $f(x)=e^{-x^2}$ over the real line $(-\\infty,\\infty)$"
   ]
  },
  {
   "cell_type": "code",
   "execution_count": null,
   "id": "12af4754",
   "metadata": {},
   "outputs": [],
   "source": [
    "using QuadGK\n",
    "f(x)=exp(-x^2);\n",
    "result=quadgk(f,-Inf,Inf)[1]"
   ]
  },
  {
   "cell_type": "markdown",
   "id": "4ac84f70",
   "metadata": {},
   "source": [
    "The exact value for the integral is $\\int_{-\\infty}^{\\infty}f(x) \\ dx =\\sqrt{\\pi}$"
   ]
  },
  {
   "cell_type": "code",
   "execution_count": null,
   "id": "b9f66afc",
   "metadata": {},
   "outputs": [],
   "source": [
    "print(\"The numerical error for the integral is \", result-sqrt(pi))"
   ]
  },
  {
   "cell_type": "markdown",
   "id": "3c9613e1",
   "metadata": {},
   "source": [
    "You can also specify the accuracy of the numerical integral:"
   ]
  },
  {
   "cell_type": "code",
   "execution_count": null,
   "id": "584c8e2c",
   "metadata": {},
   "outputs": [],
   "source": [
    "result2=quadgk(f,-Inf,Inf, rtol=1e-3)[1]\n",
    "print(\"The numerical error for the less accurate integral is \", result2-sqrt(pi))"
   ]
  },
  {
   "cell_type": "markdown",
   "id": "8ba2faf0",
   "metadata": {},
   "source": [
    "<b> Example: </b> Integral containing singularity $\\int_0^1 \\frac{dx}{\\sqrt{x}}=2$"
   ]
  },
  {
   "cell_type": "code",
   "execution_count": null,
   "id": "bc22ed28",
   "metadata": {},
   "outputs": [],
   "source": [
    "g(x)=1/sqrt(x);\n",
    "result=quadgk(g,0,1,rtol=1e-15)[1]\n",
    "print(\"The numerical error for the integral is \", result-2)"
   ]
  },
  {
   "cell_type": "markdown",
   "id": "415ecee5",
   "metadata": {},
   "source": [
    "You can also specify the singularity within the interval, for example in  $\\int_{-1}^1 \\frac{\\sin(x)}{x} dx$"
   ]
  },
  {
   "cell_type": "code",
   "execution_count": null,
   "id": "42c84736",
   "metadata": {},
   "outputs": [],
   "source": [
    "h(x)=sin(x)/x;\n",
    "result=quadgk(h,-1,0,1,rtol=1e-15)[1]"
   ]
  },
  {
   "cell_type": "markdown",
   "id": "bf15a8fc",
   "metadata": {},
   "source": [
    "# Solutions to ODE and PDE using Improper Integrals"
   ]
  },
  {
   "cell_type": "markdown",
   "id": "d7f8f5ce",
   "metadata": {},
   "source": [
    "A <b> mass-spring-damper </b> system with displacement $x$, mass $m$, damping constant $d$, and spring constant $k$, while subject to an external force $f$, is governed by the following initial value problem:\n",
    "\n",
    "\\begin{equation}\n",
    "m\\ddot{x}+b\\dot{x}+kx=f, \\ x(0)=x_0,\\  \\dot{x}(0)=v_0\n",
    "\\end{equation}\n",
    "\n"
   ]
  },
  {
   "cell_type": "markdown",
   "id": "8c7a4f7a",
   "metadata": {},
   "source": [
    "The above equation can be solved with the help of <b> Laplace transforms </b>. Let $X=\\mathcal{L}x, F=\\mathcal{L}f$ be the Laplace transforms of $x,f$. Note that $X(s),F(s)$ are functions of a complex variable $s=\\rho+\\sigma \\cdot i$. Then for zero initial values $x_0=0,v_0=0$, the solution $x$ can be obtained via inverse Laplace transform as follows:\n",
    "\n",
    "\\begin{equation}\n",
    " x(t) = \\frac{1}{2\\pi} \\int_{-\\infty}^{\\infty} e^{(\\rho+\\sigma i)t}\\cdot \\frac{F(\\rho+\\sigma i)}{(\\rho+ \\sigma i)^2+(\\rho+\\sigma i)+1 } \\ d\\sigma  \n",
    "\\end{equation}\n",
    "\n",
    "Where $\\rho$ is a fixed constant such that all poles of the integrand lie to the left of $\\rho$ on the complex plane, i.e. their imaginary parts are less than $\\rho$.\n"
   ]
  },
  {
   "cell_type": "markdown",
   "id": "a78a3727",
   "metadata": {},
   "source": [
    "<b>Example:</b> Let $m=b=k=1$. The input forcing is unit step $u(t)$ with Laplace transform $U(s)=\\frac{1}{s}$  Choose $\\rho=2$. Then the solution is given by\n",
    "\n",
    "\\begin{equation}\n",
    " x(t) = \\frac{1}{2\\pi} \\int_{-\\infty}^{\\infty} e^{2t}e^{\\sigma i t}\\cdot \\frac{ d\\sigma }{(2+\\sigma i)[(2+ \\sigma i)^2+(2+\\sigma i)+1 ]}  \n",
    "\\end{equation}\n",
    "\n"
   ]
  },
  {
   "cell_type": "code",
   "execution_count": null,
   "id": "82d10b7d",
   "metadata": {},
   "outputs": [],
   "source": [
    "#Setup system parameters\n",
    "\n",
    "using Plotly, QuadGK\n",
    "unit_step(x)=0.5*(sign(x)+1)\n",
    "Laplace_ustep(s)=1/(s)\n",
    "\n",
    "#Material constants for mass spring damper system\n",
    "mass=1\n",
    "damp=1\n",
    "spring=1\n",
    "\n",
    "\n",
    "#Laplace transforms of transfer function and inpu forcing\n",
    "transfer_function(s)=1/(mass*s .^2 +damp*s+spring)\n",
    "input_f_lapl(s)=Laplace_ustep(s)\n",
    "\n",
    "fun_lapl(s)=transfer_function.(s).*input_f_lapl.(s)\n",
    "\n",
    "#rho\n",
    "margin=2"
   ]
  },
  {
   "cell_type": "code",
   "execution_count": null,
   "id": "6f256267",
   "metadata": {},
   "outputs": [],
   "source": [
    "\n",
    "#Parameters for exact solution\n",
    "omega=sqrt(3/4)\n",
    "\n",
    "zeta1=-0.5\n",
    "zeta2=-0.5\n",
    "a=-1\n",
    "b=-1/sqrt(3)\n",
    "c=1\n",
    "\n",
    "#Start computations\n",
    "t_start=0\n",
    "t_end=8\n",
    "\n",
    "time=t_start:0.4:t_end\n",
    "integrand(s)=exp.((margin+s*im)*time).*fun_lapl(margin+s*im);\n",
    "fun_solution=(2pi)^(-1)*quadgk(integrand,-Inf,Inf)[1];\n",
    "\n",
    "#Overdamped solution\n",
    "#exact=a*exp.(zeta1*time) .+ b*exp.(zeta2*time) .+ c  \n",
    "\n",
    "#Underdampled solution\n",
    "exact=a*exp.(zeta1*time).*cos.(omega*time) .+ b*exp.(zeta2*time).*sin.(omega*time) .+ c \n",
    "\n",
    "\n",
    "trace1 = scatter(x=time,y=unit_step.(time),mode=\"markers\", name=\"Input Forcing\")\n",
    "trace2 = scatter(x=time,y=real(fun_solution),mode=\"markers\", name=\"Numerical solution\")\n",
    "trace3 = scatter(x=time,y=exact,mode=\"lines\", name=\"Exact solution\")\n",
    "#trace2=scatter(time,fun_solution)\n",
    "layout = Layout(;title=\"Forced Mass Spring Damper System \", xaxis_range=[t_start, t_end], xaxis_title=\"Time\",\n",
    "                     yaxis_range=[0, 1.3],  yaxis_title=\"Displacement\")\n",
    "\n",
    "plot([trace1, trace2, trace3],layout)"
   ]
  },
  {
   "cell_type": "markdown",
   "id": "6c622a35",
   "metadata": {},
   "source": [
    "More examples to play around with: http://lampx.tugraz.at/~hadley/physikm/apps/odeanalytic/dharmonic.en.php"
   ]
  },
  {
   "cell_type": "markdown",
   "id": "77461879",
   "metadata": {},
   "source": [
    "# Solution of linear PDE: Heat Equation"
   ]
  },
  {
   "cell_type": "markdown",
   "id": "a7a7299d",
   "metadata": {},
   "source": [
    "The evolution of temperature distribution $T(x,t)$ on an infinitely long thin rod with thermal conductivity $\\kappa$ and initial temperature $T(x,t=0)=T_0(x) $ without external input is governed by the    <b> heat equation:</b>\n",
    "\n",
    "\\begin{equation}\n",
    "\\frac{\\partial T}{\\partial t}=\\kappa \\frac{\\partial^2 T}{\\partial x^2}, \\ t>0, \\ x\\in (-\\infty,\\infty), \\ T(x,0)=T_0(x) \n",
    "\\end{equation}\n",
    "\n"
   ]
  },
  {
   "cell_type": "markdown",
   "id": "cd18dc89",
   "metadata": {},
   "source": [
    "The above equation can be solved via convolution of the initial distribution $T_0$ with the <b> heat kernel </b> $\\Phi(x,t)=\\frac{1}{\\sqrt{4\\pi\\kappa t}}\\exp(-\\frac{x^2}{4\\kappa t}) $. The solution can be written as\n",
    "\\begin{equation}\n",
    " T(x,t) =  \\int_{-\\infty}^{\\infty} \\Phi(x-x',t)T_0(x')\\  dx' =  \\int_{-\\infty}^{\\infty} \\frac{1}{\\sqrt{4\\pi\\kappa t}}\\cdot \\exp\\left(-\\frac{(x-x')^2} {4\\kappa t} \\right) T_0(x')\\  dx'\n",
    "\\end{equation}"
   ]
  },
  {
   "cell_type": "markdown",
   "id": "5dc7c85f",
   "metadata": {},
   "source": [
    "<b> Example: </b> Let the initial distribution be a Gaussian pulse centered around the origin $x=0$:"
   ]
  },
  {
   "cell_type": "code",
   "execution_count": null,
   "id": "fcfec510",
   "metadata": {},
   "outputs": [],
   "source": [
    "# Plot initial Gaussian distribution\n",
    "startx=-5\n",
    "endx=5\n",
    "x = LinRange(startx,endx,200)\n",
    "x0=0\n",
    "\n",
    "\n",
    "initial_dist(x)= exp(-x.^2)\n",
    "\n",
    "# trace = scatter(x=cos.(ω1*t),y=sin.(ω2*a0*t),mode=\"lines\", name=\"Lissajous\")\n",
    "trace = scatter(x=x,y=initial_dist.(x),mode=\"lines\", name=\"Lissajous\")\n",
    "data = [trace]\n",
    "layout = Layout(;title=\"Time = 0\", xaxis_range=[startx, endx], xaxis_title=\"x\",\n",
    "                     yaxis_range=[-1.1, 1.1],  yaxis_title=\"Temperature \", width=1000,height=500)\n",
    "pl = plot(data,layout)"
   ]
  },
  {
   "cell_type": "markdown",
   "id": "ab5a52a3",
   "metadata": {},
   "source": [
    "Solution to the heat equation on the infinite line interval $[-\\infty,\\infty]$ with initial temperature distribution $T_0(x)=e^{-x^2}$:\n",
    "\n",
    "\\begin{equation}\n",
    " T(x,t) =  \\int_{-\\infty}^{\\infty} \\Phi(x-x',t)T_0(x')\\  dx' =  \\int_{-\\infty}^{\\infty} \\frac{1}{\\sqrt{4\\pi \\kappa t}}\\cdot \\exp\\left(-\\frac{(x-y)^2} {4 \\kappa t} \\right) e^{-y^2}\\  dy \n",
    " \\end{equation}"
   ]
  },
  {
   "cell_type": "code",
   "execution_count": null,
   "id": "6f037c89",
   "metadata": {},
   "outputs": [],
   "source": [
    "Nt=25\n",
    "t0 = 0.0001\n",
    "t1 = 100\n",
    "k=0.01\n",
    "\n",
    "heat_kernel(x,t)=1 ./sqrt.(4*pi*k*t).*exp.(-x.^2 ./(4*k.*t))\n",
    "\n",
    "for time =LinRange(t0,t1,Nt)\n",
    "  # Setup integrand for each time\n",
    "    integrand(y)=heat_kernel.(x.-y,time).*initial_dist(y)\n",
    "    \n",
    "  #Compute exact solution at each time with integral formula  \n",
    "    \n",
    "    temp=quadgk(integrand,-Inf,Inf)[1]\n",
    "   trace = scatter(x=x,y=temp,mode=\"lines\", name=\"Lissajous\") \n",
    "    data = [trace]\n",
    "    #Animate results\n",
    "layout = Layout(;title=\"Time = \"*string(time), xaxis_range=[startx, endx], xaxis_title=\"x\",\n",
    "                     yaxis_range=[-1.1, 1.1],  yaxis_title=\"Temperature \", width=1000,height=500)\n",
    "    \n",
    "    sleep(0.05)\n",
    "    react!(pl, data, layout)\n",
    "end\n",
    "\n"
   ]
  }
 ],
 "metadata": {
  "@webio": {
   "lastCommId": "23b8e8257295450d8d83294dda38fa66",
   "lastKernelId": "0c856e35-db74-4570-b802-fc81a888d456"
  },
  "kernelspec": {
   "display_name": "Julia 1.10.7",
   "language": "julia",
   "name": "julia-1.10"
  },
  "language_info": {
   "file_extension": ".jl",
   "mimetype": "application/julia",
   "name": "julia",
   "version": "1.10.7"
  }
 },
 "nbformat": 4,
 "nbformat_minor": 5
}
