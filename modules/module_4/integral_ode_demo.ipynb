{
 "cells": [
  {
   "cell_type": "markdown",
   "id": "0c3b1b31",
   "metadata": {},
   "source": [
    "# Numerical evaluation of improper integrals"
   ]
  },
  {
   "cell_type": "markdown",
   "id": "32992bf2",
   "metadata": {},
   "source": [
    "The <b> QuadGK</b> package transforms an infinite interval into a finite one, then aplies the Gauss-Kronrod quadrature. It avoids evaluating the endpoints to prevent singularities: https://juliamath.github.io/QuadGK.jl/stable/quadgk-examples/#quadgk-examples"
   ]
  },
  {
   "cell_type": "markdown",
   "id": "93b9b36c",
   "metadata": {},
   "source": [
    "<b> Example: </b> Integrate the Gauss function $f(x)=e^{-x^2}$ over the real line $(-\\infty,\\infty)$"
   ]
  },
  {
   "cell_type": "code",
   "execution_count": 1,
   "id": "12af4754",
   "metadata": {},
   "outputs": [
    {
     "data": {
      "text/plain": [
       "1.7724538509055137"
      ]
     },
     "execution_count": 1,
     "metadata": {},
     "output_type": "execute_result"
    }
   ],
   "source": [
    "using QuadGK\n",
    "f(x)=exp(-x^2);\n",
    "result=quadgk(f,-Inf,Inf)[1]"
   ]
  },
  {
   "cell_type": "markdown",
   "id": "4ac84f70",
   "metadata": {},
   "source": [
    "The exact value for the integral is $\\int_{-\\infty}^{\\infty}f(x) \\ dx =\\sqrt{\\pi}$"
   ]
  },
  {
   "cell_type": "code",
   "execution_count": 2,
   "id": "b9f66afc",
   "metadata": {},
   "outputs": [
    {
     "name": "stdout",
     "output_type": "stream",
     "text": [
      "The numerical error for the integral is -2.220446049250313e-15"
     ]
    }
   ],
   "source": [
    "print(\"The numerical error for the integral is \", result-sqrt(pi))"
   ]
  },
  {
   "cell_type": "markdown",
   "id": "3c9613e1",
   "metadata": {},
   "source": [
    "You can also specify the accuracy of the numerical integral:"
   ]
  },
  {
   "cell_type": "code",
   "execution_count": 3,
   "id": "584c8e2c",
   "metadata": {},
   "outputs": [
    {
     "name": "stdout",
     "output_type": "stream",
     "text": [
      "The numerical error for the less accurate integral is -0.00023725818610764726"
     ]
    }
   ],
   "source": [
    "result2=quadgk(f,-Inf,Inf, rtol=1e-2)[1]\n",
    "print(\"The numerical error for the less accurate integral is \", result2-sqrt(pi))"
   ]
  },
  {
   "cell_type": "markdown",
   "id": "8ba2faf0",
   "metadata": {},
   "source": [
    "<b> Example: </b> Integral containing singularity $\\int_0^1 \\frac{dx}{\\sqrt{x}}=2$"
   ]
  },
  {
   "cell_type": "code",
   "execution_count": 4,
   "id": "bc22ed28",
   "metadata": {},
   "outputs": [
    {
     "name": "stdout",
     "output_type": "stream",
     "text": [
      "The numerical error for the integral is -2.220446049250313e-16"
     ]
    }
   ],
   "source": [
    "g(x)=1/sqrt(x);\n",
    "result=quadgk(g,0,1,rtol=1e-15)[1]\n",
    "print(\"The numerical error for the integral is \", result-2)"
   ]
  },
  {
   "cell_type": "markdown",
   "id": "415ecee5",
   "metadata": {},
   "source": [
    "You can also specify the singularity within the interval, for example in  $\\int_{-1}^1 \\frac{\\sin(x)}{x} dx$"
   ]
  },
  {
   "cell_type": "code",
   "execution_count": 5,
   "id": "42c84736",
   "metadata": {},
   "outputs": [
    {
     "name": "stdout",
     "output_type": "stream",
     "text": [
      "The numerical value for the improper integral is 3.1415907800862306, error is -1.8735035625105922e-6"
     ]
    }
   ],
   "source": [
    "h(x)=sin(x)/x\n",
    "result=quadgk(h, -1e6, 0, 1e6, rtol=1e-15)[1] # '0' tells quadgk that there is a singularity there\n",
    "print(\"The numerical value for the improper integral is \", result, \", error is \", result-pi)"
   ]
  },
  {
   "cell_type": "markdown",
   "id": "bf15a8fc",
   "metadata": {},
   "source": [
    "# Solutions to ODE and PDE using Improper Integrals"
   ]
  },
  {
   "cell_type": "markdown",
   "id": "d7f8f5ce",
   "metadata": {},
   "source": [
    "A <b> mass-spring-damper </b> system with displacement $x$, mass $m$, damping constant $d$, and spring constant $k$, while subject to an external force $f$, is governed by the following initial value problem:\n",
    "\n",
    "\\begin{equation}\n",
    "m\\ddot{x}+b\\dot{x}+kx=f, \\ x(0)=x_0,\\  \\dot{x}(0)=v_0\n",
    "\\end{equation}\n",
    "\n"
   ]
  },
  {
   "cell_type": "markdown",
   "id": "8c7a4f7a",
   "metadata": {},
   "source": [
    "The above equation can be solved with the help of <b> Laplace transforms </b>. Let $X=\\mathcal{L}x, F=\\mathcal{L}f$ be the Laplace transforms of $x,f$. Note that $X(s),F(s)$ are functions of a complex variable $s=\\rho+\\sigma \\cdot i$. Then for zero initial values $x_0=0,v_0=0$, the solution $x$ can be obtained via inverse Laplace transform as follows:\n",
    "\n",
    "\\begin{equation}\n",
    " x(t) = \\frac{1}{2\\pi} \\int_{-\\infty}^{\\infty} e^{(\\rho+\\sigma i)t}\\cdot \\frac{F(\\rho+\\sigma i)}{(\\rho+ \\sigma i)^2+(\\rho+\\sigma i)+1 } \\ d\\sigma  \n",
    "\\end{equation}\n",
    "\n",
    "Where $\\rho$ is a fixed constant such that all poles of the integrand lie to the left of $\\rho$ on the complex plane, i.e. their imaginary parts are less than $\\rho$.\n"
   ]
  },
  {
   "cell_type": "markdown",
   "id": "a78a3727",
   "metadata": {},
   "source": [
    "<b>Example:</b> Let $m=b=k=1$. The input forcing is unit step $u(t)$ with Laplace transform $U(s)=\\frac{1}{s}$  Choose $\\rho=2$. Then the solution is given by\n",
    "\n",
    "\\begin{equation}\n",
    " x(t) = \\frac{1}{2\\pi} \\int_{-\\infty}^{\\infty} e^{2t}e^{\\sigma i t}\\cdot \\frac{ d\\sigma }{(2+\\sigma i)[(2+ \\sigma i)^2+(2+\\sigma i)+1 ]}  \n",
    "\\end{equation}\n",
    "\n"
   ]
  },
  {
   "cell_type": "code",
   "execution_count": 6,
   "id": "82d10b7d",
   "metadata": {},
   "outputs": [
    {
     "data": {
      "application/vnd.webio.node+json": {
       "children": [],
       "instanceArgs": {
        "namespace": "html",
        "tag": "div"
       },
       "nodeType": "DOM",
       "props": {},
       "type": "node"
      },
      "text/html": [
       "<div style=\"padding: 1em; background-color: #f8d6da; border: 1px solid #f5c6cb; font-weight: bold;\">\n",
       "<p>The WebIO Jupyter extension was not detected. See the\n",
       "<a href=\"https://juliagizmos.github.io/WebIO.jl/latest/providers/ijulia/\" target=\"_blank\">\n",
       "    WebIO Jupyter integration documentation\n",
       "</a>\n",
       "for more information.\n",
       "</div>\n"
      ],
      "text/plain": [
       "WebIO._IJuliaInit()"
      ]
     },
     "metadata": {
      "@webio": {
       "kernelId": "7eeb2e4f-73a2-4bfd-a33a-d1b136a506d9"
      }
     },
     "output_type": "display_data"
    },
    {
     "data": {
      "text/plain": [
       "2"
      ]
     },
     "execution_count": 6,
     "metadata": {},
     "output_type": "execute_result"
    }
   ],
   "source": [
    "#Setup system parameters\n",
    "\n",
    "using Plotly, QuadGK\n",
    "unit_step(x)=0.5*(sign(x)+1)\n",
    "Laplace_ustep(s)=1/(s)\n",
    "\n",
    "#Material constants for mass spring damper system\n",
    "mass=1\n",
    "damp=1\n",
    "spring=1\n",
    "\n",
    "\n",
    "#Laplace transforms of transfer function and inpu forcing\n",
    "transfer_function(s)=1/(mass*s .^2 +damp*s+spring)\n",
    "input_f_lapl(s)=Laplace_ustep(s)\n",
    "\n",
    "fun_lapl(s)=transfer_function.(s).*input_f_lapl.(s)\n",
    "\n",
    "#rho\n",
    "margin=2"
   ]
  },
  {
   "cell_type": "code",
   "execution_count": 7,
   "id": "6f256267",
   "metadata": {},
   "outputs": [
    {
     "data": {
      "application/vnd.plotly.v1+json": {
       "config": {
        "editable": false,
        "responsive": true,
        "scrollZoom": true,
        "showLink": false,
        "staticPlot": false
       },
       "data": [
        {
         "mode": "markers",
         "name": "Input Forcing",
         "type": "scatter",
         "x": [
          0,
          0.4,
          0.8,
          1.2,
          1.6,
          2,
          2.4,
          2.8,
          3.2,
          3.6,
          4,
          4.4,
          4.8,
          5.2,
          5.6,
          6,
          6.4,
          6.8,
          7.2,
          7.6,
          8
         ],
         "y": [
          0.5,
          1,
          1,
          1,
          1,
          1,
          1,
          1,
          1,
          1,
          1,
          1,
          1,
          1,
          1,
          1,
          1,
          1,
          1,
          1,
          1
         ]
        },
        {
         "mode": "markers",
         "name": "Numerical solution",
         "type": "scatter",
         "x": [
          0,
          0.4,
          0.8,
          1.2,
          1.6,
          2,
          2.4,
          2.8,
          3.2,
          3.6,
          4,
          4.4,
          4.8,
          5.2,
          5.6,
          6,
          6.4,
          6.8,
          7.2,
          7.6,
          8
         ],
         "y": [
          2.8038052893508666e-15,
          0.06941299331036149,
          0.2370370376012264,
          0.4486813909751554,
          0.6622926523620121,
          0.8494256348540334,
          0.994458516320319,
          1.0923980644881077,
          1.1460253616349938,
          1.1629708731457995,
          1.1531227684188305,
          1.1265958765571493,
          1.092340742177734,
          1.0573627526665124,
          1.0264518236592899,
          1.0022894948417937,
          0.985795073344116,
          0.9765869897948941,
          0.97346130314914,
          0.9748195145172452,
          0.9790066755088843
         ]
        },
        {
         "mode": "lines",
         "name": "Exact solution",
         "type": "scatter",
         "x": [
          0,
          0.4,
          0.8,
          1.2,
          1.6,
          2,
          2.4,
          2.8,
          3.2,
          3.6,
          4,
          4.4,
          4.8,
          5.2,
          5.6,
          6,
          6.4,
          6.8,
          7.2,
          7.6,
          8
         ],
         "y": [
          0,
          0.06941299331036332,
          0.23703703760121309,
          0.448681390975173,
          0.6622926523620347,
          0.8494256348541123,
          0.9944585163203747,
          1.092398064487931,
          1.1460253616325144,
          1.1629708731458994,
          1.1531227684140493,
          1.1265958765775972,
          1.0923407421568574,
          1.0573627528048466,
          1.0264518237270874,
          1.0022894940077183,
          0.9857950735061112,
          0.9765869868521074,
          0.973461302744298,
          0.9748195129965035,
          0.979006626780466
         ]
        }
       ],
       "frames": [],
       "layout": {
        "margin": {
         "b": 50,
         "l": 50,
         "r": 50,
         "t": 60
        },
        "template": {
         "data": {
          "bar": [
           {
            "error_x": {
             "color": "#2a3f5f"
            },
            "error_y": {
             "color": "#2a3f5f"
            },
            "marker": {
             "line": {
              "color": "#E5ECF6",
              "width": 0.5
             }
            },
            "type": "bar"
           }
          ],
          "barpolar": [
           {
            "marker": {
             "line": {
              "color": "#E5ECF6",
              "width": 0.5
             }
            },
            "type": "barpolar"
           }
          ],
          "carpet": [
           {
            "aaxis": {
             "endlinecolor": "#2a3f5f",
             "gridcolor": "white",
             "linecolor": "white",
             "minorgridcolor": "white",
             "startlinecolor": "#2a3f5f"
            },
            "baxis": {
             "endlinecolor": "#2a3f5f",
             "gridcolor": "white",
             "linecolor": "white",
             "minorgridcolor": "white",
             "startlinecolor": "#2a3f5f"
            },
            "type": "carpet"
           }
          ],
          "choropleth": [
           {
            "colorbar": {
             "outlinewidth": 0,
             "ticks": ""
            },
            "type": "choropleth"
           }
          ],
          "contour": [
           {
            "colorbar": {
             "outlinewidth": 0,
             "ticks": ""
            },
            "colorscale": [
             [
              0,
              "#0d0887"
             ],
             [
              0.1111111111111111,
              "#46039f"
             ],
             [
              0.2222222222222222,
              "#7201a8"
             ],
             [
              0.3333333333333333,
              "#9c179e"
             ],
             [
              0.4444444444444444,
              "#bd3786"
             ],
             [
              0.5555555555555556,
              "#d8576b"
             ],
             [
              0.6666666666666666,
              "#ed7953"
             ],
             [
              0.7777777777777778,
              "#fb9f3a"
             ],
             [
              0.8888888888888888,
              "#fdca26"
             ],
             [
              1,
              "#f0f921"
             ]
            ],
            "type": "contour"
           }
          ],
          "contourcarpet": [
           {
            "colorbar": {
             "outlinewidth": 0,
             "ticks": ""
            },
            "type": "contourcarpet"
           }
          ],
          "heatmap": [
           {
            "colorbar": {
             "outlinewidth": 0,
             "ticks": ""
            },
            "colorscale": [
             [
              0,
              "#0d0887"
             ],
             [
              0.1111111111111111,
              "#46039f"
             ],
             [
              0.2222222222222222,
              "#7201a8"
             ],
             [
              0.3333333333333333,
              "#9c179e"
             ],
             [
              0.4444444444444444,
              "#bd3786"
             ],
             [
              0.5555555555555556,
              "#d8576b"
             ],
             [
              0.6666666666666666,
              "#ed7953"
             ],
             [
              0.7777777777777778,
              "#fb9f3a"
             ],
             [
              0.8888888888888888,
              "#fdca26"
             ],
             [
              1,
              "#f0f921"
             ]
            ],
            "type": "heatmap"
           }
          ],
          "heatmapgl": [
           {
            "colorbar": {
             "outlinewidth": 0,
             "ticks": ""
            },
            "colorscale": [
             [
              0,
              "#0d0887"
             ],
             [
              0.1111111111111111,
              "#46039f"
             ],
             [
              0.2222222222222222,
              "#7201a8"
             ],
             [
              0.3333333333333333,
              "#9c179e"
             ],
             [
              0.4444444444444444,
              "#bd3786"
             ],
             [
              0.5555555555555556,
              "#d8576b"
             ],
             [
              0.6666666666666666,
              "#ed7953"
             ],
             [
              0.7777777777777778,
              "#fb9f3a"
             ],
             [
              0.8888888888888888,
              "#fdca26"
             ],
             [
              1,
              "#f0f921"
             ]
            ],
            "type": "heatmapgl"
           }
          ],
          "histogram": [
           {
            "marker": {
             "colorbar": {
              "outlinewidth": 0,
              "ticks": ""
             }
            },
            "type": "histogram"
           }
          ],
          "histogram2d": [
           {
            "colorbar": {
             "outlinewidth": 0,
             "ticks": ""
            },
            "colorscale": [
             [
              0,
              "#0d0887"
             ],
             [
              0.1111111111111111,
              "#46039f"
             ],
             [
              0.2222222222222222,
              "#7201a8"
             ],
             [
              0.3333333333333333,
              "#9c179e"
             ],
             [
              0.4444444444444444,
              "#bd3786"
             ],
             [
              0.5555555555555556,
              "#d8576b"
             ],
             [
              0.6666666666666666,
              "#ed7953"
             ],
             [
              0.7777777777777778,
              "#fb9f3a"
             ],
             [
              0.8888888888888888,
              "#fdca26"
             ],
             [
              1,
              "#f0f921"
             ]
            ],
            "type": "histogram2d"
           }
          ],
          "histogram2dcontour": [
           {
            "colorbar": {
             "outlinewidth": 0,
             "ticks": ""
            },
            "colorscale": [
             [
              0,
              "#0d0887"
             ],
             [
              0.1111111111111111,
              "#46039f"
             ],
             [
              0.2222222222222222,
              "#7201a8"
             ],
             [
              0.3333333333333333,
              "#9c179e"
             ],
             [
              0.4444444444444444,
              "#bd3786"
             ],
             [
              0.5555555555555556,
              "#d8576b"
             ],
             [
              0.6666666666666666,
              "#ed7953"
             ],
             [
              0.7777777777777778,
              "#fb9f3a"
             ],
             [
              0.8888888888888888,
              "#fdca26"
             ],
             [
              1,
              "#f0f921"
             ]
            ],
            "type": "histogram2dcontour"
           }
          ],
          "mesh3d": [
           {
            "colorbar": {
             "outlinewidth": 0,
             "ticks": ""
            },
            "type": "mesh3d"
           }
          ],
          "parcoords": [
           {
            "line": {
             "colorbar": {
              "outlinewidth": 0,
              "ticks": ""
             }
            },
            "type": "parcoords"
           }
          ],
          "pie": [
           {
            "automargin": true,
            "type": "pie"
           }
          ],
          "scatter": [
           {
            "marker": {
             "colorbar": {
              "outlinewidth": 0,
              "ticks": ""
             }
            },
            "type": "scatter"
           }
          ],
          "scatter3d": [
           {
            "line": {
             "colorbar": {
              "outlinewidth": 0,
              "ticks": ""
             }
            },
            "marker": {
             "colorbar": {
              "outlinewidth": 0,
              "ticks": ""
             }
            },
            "type": "scatter3d"
           }
          ],
          "scattercarpet": [
           {
            "marker": {
             "colorbar": {
              "outlinewidth": 0,
              "ticks": ""
             }
            },
            "type": "scattercarpet"
           }
          ],
          "scattergeo": [
           {
            "marker": {
             "colorbar": {
              "outlinewidth": 0,
              "ticks": ""
             }
            },
            "type": "scattergeo"
           }
          ],
          "scattergl": [
           {
            "marker": {
             "colorbar": {
              "outlinewidth": 0,
              "ticks": ""
             }
            },
            "type": "scattergl"
           }
          ],
          "scattermapbox": [
           {
            "marker": {
             "colorbar": {
              "outlinewidth": 0,
              "ticks": ""
             }
            },
            "type": "scattermapbox"
           }
          ],
          "scatterpolar": [
           {
            "marker": {
             "colorbar": {
              "outlinewidth": 0,
              "ticks": ""
             }
            },
            "type": "scatterpolar"
           }
          ],
          "scatterpolargl": [
           {
            "marker": {
             "colorbar": {
              "outlinewidth": 0,
              "ticks": ""
             }
            },
            "type": "scatterpolargl"
           }
          ],
          "scatterternary": [
           {
            "marker": {
             "colorbar": {
              "outlinewidth": 0,
              "ticks": ""
             }
            },
            "type": "scatterternary"
           }
          ],
          "surface": [
           {
            "colorbar": {
             "outlinewidth": 0,
             "ticks": ""
            },
            "colorscale": [
             [
              0,
              "#0d0887"
             ],
             [
              0.1111111111111111,
              "#46039f"
             ],
             [
              0.2222222222222222,
              "#7201a8"
             ],
             [
              0.3333333333333333,
              "#9c179e"
             ],
             [
              0.4444444444444444,
              "#bd3786"
             ],
             [
              0.5555555555555556,
              "#d8576b"
             ],
             [
              0.6666666666666666,
              "#ed7953"
             ],
             [
              0.7777777777777778,
              "#fb9f3a"
             ],
             [
              0.8888888888888888,
              "#fdca26"
             ],
             [
              1,
              "#f0f921"
             ]
            ],
            "type": "surface"
           }
          ],
          "table": [
           {
            "cells": {
             "fill": {
              "color": "#EBF0F8"
             },
             "line": {
              "color": "white"
             }
            },
            "header": {
             "fill": {
              "color": "#C8D4E3"
             },
             "line": {
              "color": "white"
             }
            },
            "type": "table"
           }
          ]
         },
         "layout": {
          "annotationdefaults": {
           "arrowcolor": "#2a3f5f",
           "arrowhead": 0,
           "arrowwidth": 1
          },
          "autotypenumbers": "strict",
          "coloraxis": {
           "colorbar": {
            "outlinewidth": 0,
            "ticks": ""
           }
          },
          "colorscale": {
           "diverging": [
            [
             0,
             "#8e0152"
            ],
            [
             0.1,
             "#c51b7d"
            ],
            [
             0.2,
             "#de77ae"
            ],
            [
             0.3,
             "#f1b6da"
            ],
            [
             0.4,
             "#fde0ef"
            ],
            [
             0.5,
             "#f7f7f7"
            ],
            [
             0.6,
             "#e6f5d0"
            ],
            [
             0.7,
             "#b8e186"
            ],
            [
             0.8,
             "#7fbc41"
            ],
            [
             0.9,
             "#4d9221"
            ],
            [
             1,
             "#276419"
            ]
           ],
           "sequential": [
            [
             0,
             "#0d0887"
            ],
            [
             0.1111111111111111,
             "#46039f"
            ],
            [
             0.2222222222222222,
             "#7201a8"
            ],
            [
             0.3333333333333333,
             "#9c179e"
            ],
            [
             0.4444444444444444,
             "#bd3786"
            ],
            [
             0.5555555555555556,
             "#d8576b"
            ],
            [
             0.6666666666666666,
             "#ed7953"
            ],
            [
             0.7777777777777778,
             "#fb9f3a"
            ],
            [
             0.8888888888888888,
             "#fdca26"
            ],
            [
             1,
             "#f0f921"
            ]
           ],
           "sequentialminus": [
            [
             0,
             "#0d0887"
            ],
            [
             0.1111111111111111,
             "#46039f"
            ],
            [
             0.2222222222222222,
             "#7201a8"
            ],
            [
             0.3333333333333333,
             "#9c179e"
            ],
            [
             0.4444444444444444,
             "#bd3786"
            ],
            [
             0.5555555555555556,
             "#d8576b"
            ],
            [
             0.6666666666666666,
             "#ed7953"
            ],
            [
             0.7777777777777778,
             "#fb9f3a"
            ],
            [
             0.8888888888888888,
             "#fdca26"
            ],
            [
             1,
             "#f0f921"
            ]
           ]
          },
          "colorway": [
           "#636efa",
           "#EF553B",
           "#00cc96",
           "#ab63fa",
           "#FFA15A",
           "#19d3f3",
           "#FF6692",
           "#B6E880",
           "#FF97FF",
           "#FECB52"
          ],
          "font": {
           "color": "#2a3f5f"
          },
          "geo": {
           "bgcolor": "white",
           "lakecolor": "white",
           "landcolor": "#E5ECF6",
           "showlakes": true,
           "showland": true,
           "subunitcolor": "white"
          },
          "hoverlabel": {
           "align": "left"
          },
          "hovermode": "closest",
          "mapbox": {
           "style": "light"
          },
          "paper_bgcolor": "white",
          "plot_bgcolor": "#E5ECF6",
          "polar": {
           "angularaxis": {
            "gridcolor": "white",
            "linecolor": "white",
            "ticks": ""
           },
           "bgcolor": "#E5ECF6",
           "radialaxis": {
            "gridcolor": "white",
            "linecolor": "white",
            "ticks": ""
           }
          },
          "scene": {
           "xaxis": {
            "backgroundcolor": "#E5ECF6",
            "gridcolor": "white",
            "gridwidth": 2,
            "linecolor": "white",
            "showbackground": true,
            "ticks": "",
            "zerolinecolor": "white"
           },
           "yaxis": {
            "backgroundcolor": "#E5ECF6",
            "gridcolor": "white",
            "gridwidth": 2,
            "linecolor": "white",
            "showbackground": true,
            "ticks": "",
            "zerolinecolor": "white"
           },
           "zaxis": {
            "backgroundcolor": "#E5ECF6",
            "gridcolor": "white",
            "gridwidth": 2,
            "linecolor": "white",
            "showbackground": true,
            "ticks": "",
            "zerolinecolor": "white"
           }
          },
          "shapedefaults": {
           "line": {
            "color": "#2a3f5f"
           }
          },
          "ternary": {
           "aaxis": {
            "gridcolor": "white",
            "linecolor": "white",
            "ticks": ""
           },
           "baxis": {
            "gridcolor": "white",
            "linecolor": "white",
            "ticks": ""
           },
           "bgcolor": "#E5ECF6",
           "caxis": {
            "gridcolor": "white",
            "linecolor": "white",
            "ticks": ""
           }
          },
          "title": {
           "x": 0.05
          },
          "xaxis": {
           "automargin": true,
           "gridcolor": "white",
           "linecolor": "white",
           "ticks": "",
           "title": {
            "standoff": 15
           },
           "zerolinecolor": "white",
           "zerolinewidth": 2
          },
          "yaxis": {
           "automargin": true,
           "gridcolor": "white",
           "linecolor": "white",
           "ticks": "",
           "title": {
            "standoff": 15
           },
           "zerolinecolor": "white",
           "zerolinewidth": 2
          }
         }
        },
        "title": "Forced Mass Spring Damper System ",
        "xaxis": {
         "range": [
          0,
          8
         ],
         "title": {
          "text": "Time"
         }
        },
        "yaxis": {
         "range": [
          0,
          1.3
         ],
         "title": {
          "text": "Displacement"
         }
        }
       }
      },
      "text/html": [
       "<div\n",
       "    class=\"webio-mountpoint\"\n",
       "    data-webio-mountpoint=\"8178482747773927989\"\n",
       ">\n",
       "    <script>\n",
       "    (function(){\n",
       "    // Some integrations (namely, IJulia/Jupyter) use an alternate render pathway than\n",
       "    // just putting the html on the page. If WebIO isn't defined, then it's pretty likely\n",
       "    // that we're in one of those situations and the integration just isn't installed\n",
       "    // correctly.\n",
       "    if (typeof window.WebIO === \"undefined\") {\n",
       "        document\n",
       "            .querySelector('[data-webio-mountpoint=\"8178482747773927989\"]')\n",
       "            .innerHTML = (\n",
       "                '<div style=\"padding: 1em; background-color: #f8d6da; border: 1px solid #f5c6cb; font-weight: bold;\">' +\n",
       "                '<p><strong>WebIO not detected.</strong></p>' +\n",
       "                '<p>Please read ' +\n",
       "                '<a href=\"https://juliagizmos.github.io/WebIO.jl/latest/troubleshooting/not-detected/\" target=\"_blank\">the troubleshooting guide</a> ' +\n",
       "                'for more information on how to resolve this issue.</p>' +\n",
       "                '<p><a href=\"https://juliagizmos.github.io/WebIO.jl/latest/troubleshooting/not-detected/\" target=\"_blank\">https://juliagizmos.github.io/WebIO.jl/latest/troubleshooting/not-detected/</a></p>' +\n",
       "                '</div>'\n",
       "            );\n",
       "        return;\n",
       "    }\n",
       "    WebIO.mount(\n",
       "        document.querySelector('[data-webio-mountpoint=\"8178482747773927989\"]'),\n",
       "        {\"props\":{},\"nodeType\":\"Scope\",\"type\":\"node\",\"instanceArgs\":{\"imports\":{\"data\":[{\"name\":\"Plotly\",\"type\":\"js\",\"url\":\"\\/assetserver\\/a78df30ac7ca2f1a5f824abcfd74f27e1c7b04d2-plotly.min.js\"},{\"name\":null,\"type\":\"js\",\"url\":\"\\/assetserver\\/1527f63ec91684de76ecc64ee8e341aad69aaa3e-plotly_webio.bundle.js\"}],\"type\":\"async_block\"},\"id\":\"9581495867455488666\",\"handlers\":{\"_toImage\":[\"(function (options){return this.Plotly.toImage(this.plotElem,options).then((function (data){return WebIO.setval({\\\"name\\\":\\\"image\\\",\\\"scope\\\":\\\"9581495867455488666\\\",\\\"id\\\":\\\"5\\\",\\\"type\\\":\\\"observable\\\"},data)}))})\"],\"__get_gd_contents\":[\"(function (prop){prop==\\\"data\\\" ? (WebIO.setval({\\\"name\\\":\\\"__gd_contents\\\",\\\"scope\\\":\\\"9581495867455488666\\\",\\\"id\\\":\\\"6\\\",\\\"type\\\":\\\"observable\\\"},this.plotElem.data)) : undefined; return prop==\\\"layout\\\" ? (WebIO.setval({\\\"name\\\":\\\"__gd_contents\\\",\\\"scope\\\":\\\"9581495867455488666\\\",\\\"id\\\":\\\"6\\\",\\\"type\\\":\\\"observable\\\"},this.plotElem.layout)) : undefined})\"],\"_downloadImage\":[\"(function (options){return this.Plotly.downloadImage(this.plotElem,options)})\"],\"_commands\":[\"(function (args){var fn=args.shift(); var elem=this.plotElem; var Plotly=this.Plotly; args.unshift(elem); return Plotly[fn].apply(this,args)})\"]},\"systemjs_options\":null,\"mount_callbacks\":[\"function () {\\n    var handler = ((function (Plotly,PlotlyWebIO){PlotlyWebIO.init(WebIO); var gd=this.dom.querySelector(\\\"#plot-c5346f2b-913d-4dba-afd4-4e8fc5b41ad8\\\"); this.plotElem=gd; this.Plotly=Plotly; (window.Blink!==undefined) ? (gd.style.width=\\\"100%\\\", gd.style.height=\\\"100vh\\\", gd.style.marginLeft=\\\"0%\\\", gd.style.marginTop=\\\"0vh\\\") : undefined; window.onresize=(function (){return Plotly.Plots.resize(gd)}); Plotly.newPlot(gd,[{\\\"mode\\\":\\\"markers\\\",\\\"y\\\":[0.5,1.0,1.0,1.0,1.0,1.0,1.0,1.0,1.0,1.0,1.0,1.0,1.0,1.0,1.0,1.0,1.0,1.0,1.0,1.0,1.0],\\\"type\\\":\\\"scatter\\\",\\\"name\\\":\\\"Input Forcing\\\",\\\"x\\\":[0.0,0.4,0.8,1.2,1.6,2.0,2.4,2.8,3.2,3.6,4.0,4.4,4.8,5.2,5.6,6.0,6.4,6.8,7.2,7.6,8.0]},{\\\"mode\\\":\\\"markers\\\",\\\"y\\\":[2.8038052893508666e-15,0.06941299331036149,0.2370370376012264,0.4486813909751554,0.6622926523620121,0.8494256348540334,0.994458516320319,1.0923980644881077,1.1460253616349938,1.1629708731457995,1.1531227684188305,1.1265958765571493,1.092340742177734,1.0573627526665124,1.0264518236592899,1.0022894948417937,0.985795073344116,0.9765869897948941,0.97346130314914,0.9748195145172452,0.9790066755088843],\\\"type\\\":\\\"scatter\\\",\\\"name\\\":\\\"Numerical solution\\\",\\\"x\\\":[0.0,0.4,0.8,1.2,1.6,2.0,2.4,2.8,3.2,3.6,4.0,4.4,4.8,5.2,5.6,6.0,6.4,6.8,7.2,7.6,8.0]},{\\\"mode\\\":\\\"lines\\\",\\\"y\\\":[0.0,0.06941299331036332,0.23703703760121309,0.448681390975173,0.6622926523620347,0.8494256348541123,0.9944585163203747,1.092398064487931,1.1460253616325144,1.1629708731458994,1.1531227684140493,1.1265958765775972,1.0923407421568574,1.0573627528048466,1.0264518237270874,1.0022894940077183,0.9857950735061112,0.9765869868521074,0.973461302744298,0.9748195129965035,0.979006626780466],\\\"type\\\":\\\"scatter\\\",\\\"name\\\":\\\"Exact solution\\\",\\\"x\\\":[0.0,0.4,0.8,1.2,1.6,2.0,2.4,2.8,3.2,3.6,4.0,4.4,4.8,5.2,5.6,6.0,6.4,6.8,7.2,7.6,8.0]}],{\\\"xaxis\\\":{\\\"range\\\":[0,8],\\\"title\\\":{\\\"text\\\":\\\"Time\\\"}},\\\"template\\\":{\\\"layout\\\":{\\\"coloraxis\\\":{\\\"colorbar\\\":{\\\"ticks\\\":\\\"\\\",\\\"outlinewidth\\\":0}},\\\"xaxis\\\":{\\\"gridcolor\\\":\\\"white\\\",\\\"zerolinewidth\\\":2,\\\"title\\\":{\\\"standoff\\\":15},\\\"ticks\\\":\\\"\\\",\\\"zerolinecolor\\\":\\\"white\\\",\\\"automargin\\\":true,\\\"linecolor\\\":\\\"white\\\"},\\\"hovermode\\\":\\\"closest\\\",\\\"paper_bgcolor\\\":\\\"white\\\",\\\"geo\\\":{\\\"showlakes\\\":true,\\\"showland\\\":true,\\\"landcolor\\\":\\\"#E5ECF6\\\",\\\"bgcolor\\\":\\\"white\\\",\\\"subunitcolor\\\":\\\"white\\\",\\\"lakecolor\\\":\\\"white\\\"},\\\"colorscale\\\":{\\\"sequential\\\":[[0.0,\\\"#0d0887\\\"],[0.1111111111111111,\\\"#46039f\\\"],[0.2222222222222222,\\\"#7201a8\\\"],[0.3333333333333333,\\\"#9c179e\\\"],[0.4444444444444444,\\\"#bd3786\\\"],[0.5555555555555556,\\\"#d8576b\\\"],[0.6666666666666666,\\\"#ed7953\\\"],[0.7777777777777778,\\\"#fb9f3a\\\"],[0.8888888888888888,\\\"#fdca26\\\"],[1.0,\\\"#f0f921\\\"]],\\\"diverging\\\":[[0,\\\"#8e0152\\\"],[0.1,\\\"#c51b7d\\\"],[0.2,\\\"#de77ae\\\"],[0.3,\\\"#f1b6da\\\"],[0.4,\\\"#fde0ef\\\"],[0.5,\\\"#f7f7f7\\\"],[0.6,\\\"#e6f5d0\\\"],[0.7,\\\"#b8e186\\\"],[0.8,\\\"#7fbc41\\\"],[0.9,\\\"#4d9221\\\"],[1,\\\"#276419\\\"]],\\\"sequentialminus\\\":[[0.0,\\\"#0d0887\\\"],[0.1111111111111111,\\\"#46039f\\\"],[0.2222222222222222,\\\"#7201a8\\\"],[0.3333333333333333,\\\"#9c179e\\\"],[0.4444444444444444,\\\"#bd3786\\\"],[0.5555555555555556,\\\"#d8576b\\\"],[0.6666666666666666,\\\"#ed7953\\\"],[0.7777777777777778,\\\"#fb9f3a\\\"],[0.8888888888888888,\\\"#fdca26\\\"],[1.0,\\\"#f0f921\\\"]]},\\\"yaxis\\\":{\\\"gridcolor\\\":\\\"white\\\",\\\"zerolinewidth\\\":2,\\\"title\\\":{\\\"standoff\\\":15},\\\"ticks\\\":\\\"\\\",\\\"zerolinecolor\\\":\\\"white\\\",\\\"automargin\\\":true,\\\"linecolor\\\":\\\"white\\\"},\\\"shapedefaults\\\":{\\\"line\\\":{\\\"color\\\":\\\"#2a3f5f\\\"}},\\\"hoverlabel\\\":{\\\"align\\\":\\\"left\\\"},\\\"mapbox\\\":{\\\"style\\\":\\\"light\\\"},\\\"polar\\\":{\\\"angularaxis\\\":{\\\"gridcolor\\\":\\\"white\\\",\\\"ticks\\\":\\\"\\\",\\\"linecolor\\\":\\\"white\\\"},\\\"bgcolor\\\":\\\"#E5ECF6\\\",\\\"radialaxis\\\":{\\\"gridcolor\\\":\\\"white\\\",\\\"ticks\\\":\\\"\\\",\\\"linecolor\\\":\\\"white\\\"}},\\\"autotypenumbers\\\":\\\"strict\\\",\\\"font\\\":{\\\"color\\\":\\\"#2a3f5f\\\"},\\\"ternary\\\":{\\\"baxis\\\":{\\\"gridcolor\\\":\\\"white\\\",\\\"ticks\\\":\\\"\\\",\\\"linecolor\\\":\\\"white\\\"},\\\"bgcolor\\\":\\\"#E5ECF6\\\",\\\"caxis\\\":{\\\"gridcolor\\\":\\\"white\\\",\\\"ticks\\\":\\\"\\\",\\\"linecolor\\\":\\\"white\\\"},\\\"aaxis\\\":{\\\"gridcolor\\\":\\\"white\\\",\\\"ticks\\\":\\\"\\\",\\\"linecolor\\\":\\\"white\\\"}},\\\"annotationdefaults\\\":{\\\"arrowhead\\\":0,\\\"arrowwidth\\\":1,\\\"arrowcolor\\\":\\\"#2a3f5f\\\"},\\\"plot_bgcolor\\\":\\\"#E5ECF6\\\",\\\"title\\\":{\\\"x\\\":0.05},\\\"scene\\\":{\\\"xaxis\\\":{\\\"gridcolor\\\":\\\"white\\\",\\\"gridwidth\\\":2,\\\"backgroundcolor\\\":\\\"#E5ECF6\\\",\\\"ticks\\\":\\\"\\\",\\\"showbackground\\\":true,\\\"zerolinecolor\\\":\\\"white\\\",\\\"linecolor\\\":\\\"white\\\"},\\\"zaxis\\\":{\\\"gridcolor\\\":\\\"white\\\",\\\"gridwidth\\\":2,\\\"backgroundcolor\\\":\\\"#E5ECF6\\\",\\\"ticks\\\":\\\"\\\",\\\"showbackground\\\":true,\\\"zerolinecolor\\\":\\\"white\\\",\\\"linecolor\\\":\\\"white\\\"},\\\"yaxis\\\":{\\\"gridcolor\\\":\\\"white\\\",\\\"gridwidth\\\":2,\\\"backgroundcolor\\\":\\\"#E5ECF6\\\",\\\"ticks\\\":\\\"\\\",\\\"showbackground\\\":true,\\\"zerolinecolor\\\":\\\"white\\\",\\\"linecolor\\\":\\\"white\\\"}},\\\"colorway\\\":[\\\"#636efa\\\",\\\"#EF553B\\\",\\\"#00cc96\\\",\\\"#ab63fa\\\",\\\"#FFA15A\\\",\\\"#19d3f3\\\",\\\"#FF6692\\\",\\\"#B6E880\\\",\\\"#FF97FF\\\",\\\"#FECB52\\\"]},\\\"data\\\":{\\\"barpolar\\\":[{\\\"type\\\":\\\"barpolar\\\",\\\"marker\\\":{\\\"line\\\":{\\\"color\\\":\\\"#E5ECF6\\\",\\\"width\\\":0.5}}}],\\\"carpet\\\":[{\\\"aaxis\\\":{\\\"gridcolor\\\":\\\"white\\\",\\\"endlinecolor\\\":\\\"#2a3f5f\\\",\\\"minorgridcolor\\\":\\\"white\\\",\\\"startlinecolor\\\":\\\"#2a3f5f\\\",\\\"linecolor\\\":\\\"white\\\"},\\\"type\\\":\\\"carpet\\\",\\\"baxis\\\":{\\\"gridcolor\\\":\\\"white\\\",\\\"endlinecolor\\\":\\\"#2a3f5f\\\",\\\"minorgridcolor\\\":\\\"white\\\",\\\"startlinecolor\\\":\\\"#2a3f5f\\\",\\\"linecolor\\\":\\\"white\\\"}}],\\\"scatterpolar\\\":[{\\\"type\\\":\\\"scatterpolar\\\",\\\"marker\\\":{\\\"colorbar\\\":{\\\"ticks\\\":\\\"\\\",\\\"outlinewidth\\\":0}}}],\\\"parcoords\\\":[{\\\"line\\\":{\\\"colorbar\\\":{\\\"ticks\\\":\\\"\\\",\\\"outlinewidth\\\":0}},\\\"type\\\":\\\"parcoords\\\"}],\\\"scatter\\\":[{\\\"type\\\":\\\"scatter\\\",\\\"marker\\\":{\\\"colorbar\\\":{\\\"ticks\\\":\\\"\\\",\\\"outlinewidth\\\":0}}}],\\\"histogram2dcontour\\\":[{\\\"colorbar\\\":{\\\"ticks\\\":\\\"\\\",\\\"outlinewidth\\\":0},\\\"type\\\":\\\"histogram2dcontour\\\",\\\"colorscale\\\":[[0.0,\\\"#0d0887\\\"],[0.1111111111111111,\\\"#46039f\\\"],[0.2222222222222222,\\\"#7201a8\\\"],[0.3333333333333333,\\\"#9c179e\\\"],[0.4444444444444444,\\\"#bd3786\\\"],[0.5555555555555556,\\\"#d8576b\\\"],[0.6666666666666666,\\\"#ed7953\\\"],[0.7777777777777778,\\\"#fb9f3a\\\"],[0.8888888888888888,\\\"#fdca26\\\"],[1.0,\\\"#f0f921\\\"]]}],\\\"contour\\\":[{\\\"colorbar\\\":{\\\"ticks\\\":\\\"\\\",\\\"outlinewidth\\\":0},\\\"type\\\":\\\"contour\\\",\\\"colorscale\\\":[[0.0,\\\"#0d0887\\\"],[0.1111111111111111,\\\"#46039f\\\"],[0.2222222222222222,\\\"#7201a8\\\"],[0.3333333333333333,\\\"#9c179e\\\"],[0.4444444444444444,\\\"#bd3786\\\"],[0.5555555555555556,\\\"#d8576b\\\"],[0.6666666666666666,\\\"#ed7953\\\"],[0.7777777777777778,\\\"#fb9f3a\\\"],[0.8888888888888888,\\\"#fdca26\\\"],[1.0,\\\"#f0f921\\\"]]}],\\\"scattercarpet\\\":[{\\\"type\\\":\\\"scattercarpet\\\",\\\"marker\\\":{\\\"colorbar\\\":{\\\"ticks\\\":\\\"\\\",\\\"outlinewidth\\\":0}}}],\\\"mesh3d\\\":[{\\\"colorbar\\\":{\\\"ticks\\\":\\\"\\\",\\\"outlinewidth\\\":0},\\\"type\\\":\\\"mesh3d\\\"}],\\\"surface\\\":[{\\\"colorbar\\\":{\\\"ticks\\\":\\\"\\\",\\\"outlinewidth\\\":0},\\\"type\\\":\\\"surface\\\",\\\"colorscale\\\":[[0.0,\\\"#0d0887\\\"],[0.1111111111111111,\\\"#46039f\\\"],[0.2222222222222222,\\\"#7201a8\\\"],[0.3333333333333333,\\\"#9c179e\\\"],[0.4444444444444444,\\\"#bd3786\\\"],[0.5555555555555556,\\\"#d8576b\\\"],[0.6666666666666666,\\\"#ed7953\\\"],[0.7777777777777778,\\\"#fb9f3a\\\"],[0.8888888888888888,\\\"#fdca26\\\"],[1.0,\\\"#f0f921\\\"]]}],\\\"scattermapbox\\\":[{\\\"type\\\":\\\"scattermapbox\\\",\\\"marker\\\":{\\\"colorbar\\\":{\\\"ticks\\\":\\\"\\\",\\\"outlinewidth\\\":0}}}],\\\"scattergeo\\\":[{\\\"type\\\":\\\"scattergeo\\\",\\\"marker\\\":{\\\"colorbar\\\":{\\\"ticks\\\":\\\"\\\",\\\"outlinewidth\\\":0}}}],\\\"histogram\\\":[{\\\"type\\\":\\\"histogram\\\",\\\"marker\\\":{\\\"colorbar\\\":{\\\"ticks\\\":\\\"\\\",\\\"outlinewidth\\\":0}}}],\\\"pie\\\":[{\\\"type\\\":\\\"pie\\\",\\\"automargin\\\":true}],\\\"choropleth\\\":[{\\\"colorbar\\\":{\\\"ticks\\\":\\\"\\\",\\\"outlinewidth\\\":0},\\\"type\\\":\\\"choropleth\\\"}],\\\"heatmapgl\\\":[{\\\"colorbar\\\":{\\\"ticks\\\":\\\"\\\",\\\"outlinewidth\\\":0},\\\"type\\\":\\\"heatmapgl\\\",\\\"colorscale\\\":[[0.0,\\\"#0d0887\\\"],[0.1111111111111111,\\\"#46039f\\\"],[0.2222222222222222,\\\"#7201a8\\\"],[0.3333333333333333,\\\"#9c179e\\\"],[0.4444444444444444,\\\"#bd3786\\\"],[0.5555555555555556,\\\"#d8576b\\\"],[0.6666666666666666,\\\"#ed7953\\\"],[0.7777777777777778,\\\"#fb9f3a\\\"],[0.8888888888888888,\\\"#fdca26\\\"],[1.0,\\\"#f0f921\\\"]]}],\\\"bar\\\":[{\\\"type\\\":\\\"bar\\\",\\\"error_y\\\":{\\\"color\\\":\\\"#2a3f5f\\\"},\\\"error_x\\\":{\\\"color\\\":\\\"#2a3f5f\\\"},\\\"marker\\\":{\\\"line\\\":{\\\"color\\\":\\\"#E5ECF6\\\",\\\"width\\\":0.5}}}],\\\"heatmap\\\":[{\\\"colorbar\\\":{\\\"ticks\\\":\\\"\\\",\\\"outlinewidth\\\":0},\\\"type\\\":\\\"heatmap\\\",\\\"colorscale\\\":[[0.0,\\\"#0d0887\\\"],[0.1111111111111111,\\\"#46039f\\\"],[0.2222222222222222,\\\"#7201a8\\\"],[0.3333333333333333,\\\"#9c179e\\\"],[0.4444444444444444,\\\"#bd3786\\\"],[0.5555555555555556,\\\"#d8576b\\\"],[0.6666666666666666,\\\"#ed7953\\\"],[0.7777777777777778,\\\"#fb9f3a\\\"],[0.8888888888888888,\\\"#fdca26\\\"],[1.0,\\\"#f0f921\\\"]]}],\\\"contourcarpet\\\":[{\\\"colorbar\\\":{\\\"ticks\\\":\\\"\\\",\\\"outlinewidth\\\":0},\\\"type\\\":\\\"contourcarpet\\\"}],\\\"table\\\":[{\\\"type\\\":\\\"table\\\",\\\"header\\\":{\\\"line\\\":{\\\"color\\\":\\\"white\\\"},\\\"fill\\\":{\\\"color\\\":\\\"#C8D4E3\\\"}},\\\"cells\\\":{\\\"line\\\":{\\\"color\\\":\\\"white\\\"},\\\"fill\\\":{\\\"color\\\":\\\"#EBF0F8\\\"}}}],\\\"scatter3d\\\":[{\\\"line\\\":{\\\"colorbar\\\":{\\\"ticks\\\":\\\"\\\",\\\"outlinewidth\\\":0}},\\\"type\\\":\\\"scatter3d\\\",\\\"marker\\\":{\\\"colorbar\\\":{\\\"ticks\\\":\\\"\\\",\\\"outlinewidth\\\":0}}}],\\\"scattergl\\\":[{\\\"type\\\":\\\"scattergl\\\",\\\"marker\\\":{\\\"colorbar\\\":{\\\"ticks\\\":\\\"\\\",\\\"outlinewidth\\\":0}}}],\\\"histogram2d\\\":[{\\\"colorbar\\\":{\\\"ticks\\\":\\\"\\\",\\\"outlinewidth\\\":0},\\\"type\\\":\\\"histogram2d\\\",\\\"colorscale\\\":[[0.0,\\\"#0d0887\\\"],[0.1111111111111111,\\\"#46039f\\\"],[0.2222222222222222,\\\"#7201a8\\\"],[0.3333333333333333,\\\"#9c179e\\\"],[0.4444444444444444,\\\"#bd3786\\\"],[0.5555555555555556,\\\"#d8576b\\\"],[0.6666666666666666,\\\"#ed7953\\\"],[0.7777777777777778,\\\"#fb9f3a\\\"],[0.8888888888888888,\\\"#fdca26\\\"],[1.0,\\\"#f0f921\\\"]]}],\\\"scatterternary\\\":[{\\\"type\\\":\\\"scatterternary\\\",\\\"marker\\\":{\\\"colorbar\\\":{\\\"ticks\\\":\\\"\\\",\\\"outlinewidth\\\":0}}}],\\\"scatterpolargl\\\":[{\\\"type\\\":\\\"scatterpolargl\\\",\\\"marker\\\":{\\\"colorbar\\\":{\\\"ticks\\\":\\\"\\\",\\\"outlinewidth\\\":0}}}]}},\\\"margin\\\":{\\\"l\\\":50,\\\"b\\\":50,\\\"r\\\":50,\\\"t\\\":60},\\\"title\\\":\\\"Forced Mass Spring Damper System \\\",\\\"yaxis\\\":{\\\"range\\\":[0.0,1.3],\\\"title\\\":{\\\"text\\\":\\\"Displacement\\\"}}},{\\\"showLink\\\":false,\\\"editable\\\":false,\\\"responsive\\\":true,\\\"staticPlot\\\":false,\\\"scrollZoom\\\":true}); gd.on(\\\"plotly_hover\\\",(function (data){var filtered_data=WebIO.PlotlyCommands.filterEventData(gd,data,\\\"hover\\\"); return !(filtered_data.isnil) ? (WebIO.setval({\\\"name\\\":\\\"hover\\\",\\\"scope\\\":\\\"9581495867455488666\\\",\\\"id\\\":\\\"1\\\",\\\"type\\\":\\\"observable\\\"},filtered_data.out)) : undefined})); gd.on(\\\"plotly_unhover\\\",(function (){return WebIO.setval({\\\"name\\\":\\\"hover\\\",\\\"scope\\\":\\\"9581495867455488666\\\",\\\"id\\\":\\\"1\\\",\\\"type\\\":\\\"observable\\\"},{})})); gd.on(\\\"plotly_selected\\\",(function (data){var filtered_data=WebIO.PlotlyCommands.filterEventData(gd,data,\\\"selected\\\"); return !(filtered_data.isnil) ? (WebIO.setval({\\\"name\\\":\\\"selected\\\",\\\"scope\\\":\\\"9581495867455488666\\\",\\\"id\\\":\\\"2\\\",\\\"type\\\":\\\"observable\\\"},filtered_data.out)) : undefined})); gd.on(\\\"plotly_deselect\\\",(function (){return WebIO.setval({\\\"name\\\":\\\"selected\\\",\\\"scope\\\":\\\"9581495867455488666\\\",\\\"id\\\":\\\"2\\\",\\\"type\\\":\\\"observable\\\"},{})})); gd.on(\\\"plotly_relayout\\\",(function (data){var filtered_data=WebIO.PlotlyCommands.filterEventData(gd,data,\\\"relayout\\\"); return !(filtered_data.isnil) ? (WebIO.setval({\\\"name\\\":\\\"relayout\\\",\\\"scope\\\":\\\"9581495867455488666\\\",\\\"id\\\":\\\"4\\\",\\\"type\\\":\\\"observable\\\"},filtered_data.out)) : undefined})); return gd.on(\\\"plotly_click\\\",(function (data){var filtered_data=WebIO.PlotlyCommands.filterEventData(gd,data,\\\"click\\\"); return !(filtered_data.isnil) ? (WebIO.setval({\\\"name\\\":\\\"click\\\",\\\"scope\\\":\\\"9581495867455488666\\\",\\\"id\\\":\\\"3\\\",\\\"type\\\":\\\"observable\\\"},filtered_data.out)) : undefined}))}));\\n    (WebIO.importBlock({\\\"data\\\":[{\\\"name\\\":\\\"Plotly\\\",\\\"type\\\":\\\"js\\\",\\\"url\\\":\\\"\\/assetserver\\/a78df30ac7ca2f1a5f824abcfd74f27e1c7b04d2-plotly.min.js\\\"},{\\\"name\\\":null,\\\"type\\\":\\\"js\\\",\\\"url\\\":\\\"\\/assetserver\\/1527f63ec91684de76ecc64ee8e341aad69aaa3e-plotly_webio.bundle.js\\\"}],\\\"type\\\":\\\"async_block\\\"})).then((imports) => handler.apply(this, imports));\\n}\\n\"],\"observables\":{\"_toImage\":{\"sync\":false,\"id\":\"8\",\"value\":{}},\"hover\":{\"sync\":false,\"id\":\"1\",\"value\":{}},\"selected\":{\"sync\":false,\"id\":\"2\",\"value\":{}},\"__gd_contents\":{\"sync\":false,\"id\":\"6\",\"value\":{}},\"click\":{\"sync\":false,\"id\":\"3\",\"value\":{}},\"image\":{\"sync\":true,\"id\":\"5\",\"value\":\"\"},\"__get_gd_contents\":{\"sync\":false,\"id\":\"10\",\"value\":\"\"},\"_downloadImage\":{\"sync\":false,\"id\":\"9\",\"value\":{}},\"relayout\":{\"sync\":false,\"id\":\"4\",\"value\":{}},\"_commands\":{\"sync\":false,\"id\":\"7\",\"value\":[]}}},\"children\":[{\"props\":{\"id\":\"plot-c5346f2b-913d-4dba-afd4-4e8fc5b41ad8\"},\"nodeType\":\"DOM\",\"type\":\"node\",\"instanceArgs\":{\"namespace\":\"html\",\"tag\":\"div\"},\"children\":[]}]},\n",
       "        window,\n",
       "    );\n",
       "    })()\n",
       "    </script>\n",
       "</div>\n"
      ],
      "text/plain": [
       "data: [\n",
       "  \"scatter with fields mode, name, type, x, and y\",\n",
       "  \"scatter with fields mode, name, type, x, and y\",\n",
       "  \"scatter with fields mode, name, type, x, and y\"\n",
       "]\n",
       "\n",
       "layout: \"layout with fields margin, template, title, xaxis, and yaxis\"\n",
       "\n"
      ]
     },
     "execution_count": 7,
     "metadata": {},
     "output_type": "execute_result"
    }
   ],
   "source": [
    "\n",
    "#Parameters for exact solution\n",
    "omega=sqrt(3/4)\n",
    "\n",
    "zeta1=-0.5\n",
    "zeta2=-0.5\n",
    "a=-1\n",
    "b=-1/sqrt(3)\n",
    "c=1\n",
    "\n",
    "#Start computations\n",
    "t_start=0\n",
    "t_end=8\n",
    "\n",
    "time=t_start:0.4:t_end\n",
    "integrand(s)=exp.((margin+s*im)*time).*fun_lapl(margin+s*im);\n",
    "fun_solution=(2pi)^(-1)*quadgk(integrand,-Inf,Inf)[1];\n",
    "\n",
    "#Overdamped solution\n",
    "#exact=a*exp.(zeta1*time) .+ b*exp.(zeta2*time) .+ c  \n",
    "\n",
    "#Underdampled solution\n",
    "exact=a*exp.(zeta1*time).*cos.(omega*time) .+ b*exp.(zeta2*time).*sin.(omega*time) .+ c \n",
    "\n",
    "\n",
    "trace1 = scatter(x=time,y=unit_step.(time),mode=\"markers\", name=\"Input Forcing\")\n",
    "trace2 = scatter(x=time,y=real(fun_solution),mode=\"markers\", name=\"Numerical solution\")\n",
    "trace3 = scatter(x=time,y=exact,mode=\"lines\", name=\"Exact solution\")\n",
    "#trace2=scatter(time,fun_solution)\n",
    "layout = Layout(;title=\"Forced Mass Spring Damper System \", xaxis_range=[t_start, t_end], xaxis_title=\"Time\",\n",
    "                     yaxis_range=[0, 1.3],  yaxis_title=\"Displacement\")\n",
    "\n",
    "plot([trace1, trace2, trace3],layout)"
   ]
  },
  {
   "cell_type": "markdown",
   "id": "6c622a35",
   "metadata": {},
   "source": [
    "More examples to play around with: http://lampx.tugraz.at/~hadley/physikm/apps/odeanalytic/dharmonic.en.php"
   ]
  },
  {
   "cell_type": "markdown",
   "id": "77461879",
   "metadata": {},
   "source": [
    "# Solution of linear PDE: Heat Equation"
   ]
  },
  {
   "cell_type": "markdown",
   "id": "a7a7299d",
   "metadata": {},
   "source": [
    "The evolution of temperature distribution $T(x,t)$ on an infinitely long thin rod with thermal conductivity $\\kappa$ and initial temperature $T(x,t=0)=T_0(x) $ without external input is governed by the    <b> heat equation:</b>\n",
    "\n",
    "\\begin{equation}\n",
    "\\frac{\\partial T}{\\partial t}=\\kappa \\frac{\\partial^2 T}{\\partial x^2}, \\ t>0, \\ x\\in (-\\infty,\\infty), \\ T(x,0)=T_0(x) \n",
    "\\end{equation}\n",
    "\n"
   ]
  },
  {
   "cell_type": "markdown",
   "id": "cd18dc89",
   "metadata": {},
   "source": [
    "The above equation can be solved via convolution of the initial distribution $T_0$ with the <b> heat kernel </b> $\\Phi(x,t)=\\frac{1}{\\sqrt{4\\pi\\kappa t}}\\exp(-\\frac{x^2}{4\\kappa t}) $. The solution can be written as\n",
    "\\begin{equation}\n",
    " T(x,t) =  \\int_{-\\infty}^{\\infty} \\Phi(x-x',t)T_0(x')\\  dx' =  \\int_{-\\infty}^{\\infty} \\frac{1}{\\sqrt{4\\pi\\kappa t}}\\cdot \\exp\\left(-\\frac{(x-x')^2} {4\\kappa t} \\right) T_0(x')\\  dx'\n",
    "\\end{equation}"
   ]
  },
  {
   "cell_type": "markdown",
   "id": "5dc7c85f",
   "metadata": {},
   "source": [
    "<b> Example: </b> Let the initial distribution be a Gaussian pulse centered around the origin $x=0$:"
   ]
  },
  {
   "cell_type": "code",
   "execution_count": 8,
   "id": "fcfec510",
   "metadata": {},
   "outputs": [
    {
     "data": {
      "application/vnd.plotly.v1+json": {
       "config": {
        "editable": false,
        "responsive": true,
        "scrollZoom": true,
        "showLink": false,
        "staticPlot": false
       },
       "data": [
        {
         "mode": "lines",
         "name": "Lissajous",
         "type": "scatter",
         "x": [
          -5,
          -4.949748743718592,
          -4.899497487437186,
          -4.84924623115578,
          -4.798994974874372,
          -4.748743718592965,
          -4.698492462311558,
          -4.64824120603015,
          -4.597989949748744,
          -4.547738693467337,
          -4.49748743718593,
          -4.447236180904522,
          -4.396984924623116,
          -4.346733668341709,
          -4.296482412060302,
          -4.246231155778894,
          -4.1959798994974875,
          -4.14572864321608,
          -4.0954773869346734,
          -4.045226130653267,
          -3.9949748743718594,
          -3.944723618090452,
          -3.8944723618090453,
          -3.8442211055276387,
          -3.7939698492462313,
          -3.7437185929648247,
          -3.693467336683417,
          -3.6432160804020097,
          -3.592964824120603,
          -3.5427135678391966,
          -3.492462311557789,
          -3.4422110552763816,
          -3.391959798994975,
          -3.3417085427135684,
          -3.291457286432161,
          -3.2412060301507535,
          -3.190954773869347,
          -3.1407035175879394,
          -3.090452261306533,
          -3.0402010050251262,
          -2.9899497487437188,
          -2.9396984924623117,
          -2.8894472361809047,
          -2.839195979899498,
          -2.7889447236180898,
          -2.7386934673366836,
          -2.6884422110552766,
          -2.638190954773869,
          -2.5879396984924625,
          -2.5376884422110546,
          -2.4874371859296485,
          -2.4371859296482414,
          -2.3869346733668344,
          -2.336683417085428,
          -2.2864321608040195,
          -2.2361809045226133,
          -2.1859296482412063,
          -2.1356783919597984,
          -2.085427135678392,
          -2.0351758793969843,
          -1.9849246231155782,
          -1.9346733668341711,
          -1.8844221105527639,
          -1.8341708542713575,
          -1.7839195979899494,
          -1.7336683417085428,
          -1.683417085427136,
          -1.6331658291457283,
          -1.582914572864322,
          -1.5326633165829142,
          -1.4824120603015076,
          -1.4321608040201008,
          -1.3819095477386936,
          -1.3316582914572872,
          -1.281407035175879,
          -1.2311557788944725,
          -1.1809045226130657,
          -1.130653266331658,
          -1.0804020100502516,
          -1.030150753768844,
          -0.9798994974874371,
          -0.9296482412060305,
          -0.8793969849246235,
          -0.8291457286432169,
          -0.778894472361809,
          -0.728643216080402,
          -0.6783919597989954,
          -0.6281407035175874,
          -0.5778894472361804,
          -0.5276381909547738,
          -0.4773869346733668,
          -0.4271356783919602,
          -0.3768844221105532,
          -0.32663316582914526,
          -0.27638190954773867,
          -0.22613065326633164,
          -0.17587939698492505,
          -0.12562814070351713,
          -0.0753768844221101,
          -0.025125628140703515,
          0.02512562814070307,
          0.0753768844221101,
          0.12562814070351713,
          0.17587939698492505,
          0.22613065326633208,
          0.2763819095477382,
          0.32663316582914526,
          0.3768844221105532,
          0.4271356783919602,
          0.47738693467336724,
          0.5276381909547734,
          0.5778894472361804,
          0.6281407035175874,
          0.6783919597989954,
          0.7286432160804024,
          0.7788944723618085,
          0.8291457286432156,
          0.8793969849246235,
          0.9296482412060305,
          0.9798994974874375,
          1.0301507537688437,
          1.0804020100502507,
          1.130653266331658,
          1.1809045226130657,
          1.2311557788944727,
          1.2814070351758797,
          1.3316582914572859,
          1.3819095477386936,
          1.4321608040201008,
          1.4824120603015079,
          1.5326633165829149,
          1.582914572864321,
          1.6331658291457283,
          1.683417085427136,
          1.733668341708543,
          1.78391959798995,
          1.8341708542713562,
          1.8844221105527639,
          1.9346733668341711,
          1.9849246231155782,
          2.035175879396985,
          2.0854271356783913,
          2.1356783919597984,
          2.1859296482412063,
          2.2361809045226133,
          2.2864321608040203,
          2.3366834170854265,
          2.3869346733668344,
          2.4371859296482414,
          2.4874371859296485,
          2.5376884422110555,
          2.5879396984924616,
          2.6381909547738687,
          2.6884422110552766,
          2.7386934673366836,
          2.7889447236180906,
          2.839195979899497,
          2.8894472361809047,
          2.9396984924623117,
          2.9899497487437188,
          3.0402010050251262,
          3.0904522613065324,
          3.140703517587939,
          3.190954773869347,
          3.2412060301507535,
          3.291457286432161,
          3.341708542713567,
          3.391959798994975,
          3.4422110552763816,
          3.492462311557789,
          3.5427135678391966,
          3.5929648241206027,
          3.6432160804020093,
          3.693467336683417,
          3.7437185929648247,
          3.7939698492462313,
          3.844221105527639,
          3.8944723618090453,
          3.944723618090452,
          3.9949748743718594,
          4.045226130653267,
          4.0954773869346734,
          4.14572864321608,
          4.1959798994974875,
          4.246231155778894,
          4.296482412060302,
          4.3467336683417095,
          4.396984924623116,
          4.447236180904522,
          4.49748743718593,
          4.547738693467338,
          4.597989949748744,
          4.64824120603015,
          4.698492462311558,
          4.748743718592966,
          4.798994974874372,
          4.84924623115578,
          4.899497487437186,
          4.949748743718592,
          5
         ],
         "y": [
          1.3887943864964021e-11,
          2.2897059357646238e-11,
          3.756021905751448e-11,
          6.130320378157933e-11,
          9.955082791588264e-11,
          1.6084709786872332e-10,
          2.5857601109904796e-10,
          4.1358986001623193e-10,
          6.582004616806322e-10,
          1.042204949829594e-09,
          1.6419303449982893e-09,
          2.5737299475808747e-09,
          4.014004653068902e-09,
          6.22872871538587e-09,
          9.616734132790888e-09,
          1.4772787540667494e-08,
          2.2578960468682468e-08,
          3.4336188412995224e-08,
          5.1952550418388805e-08,
          7.821108495329516e-08,
          1.1714840971479142e-07,
          1.745866908226644e-07,
          2.588764342584914e-07,
          3.8192716724356573e-07,
          5.606285808039728e-07,
          8.187976089836475e-07,
          1.1898289898840784e-06,
          1.7202801396702651e-06,
          2.4746880077407985e-06,
          3.5419985649650196e-06,
          5.044091510137468e-06,
          7.147006579956421e-06,
          1.00756264037172e-05,
          1.4132746811458538e-05,
          1.972367102999418e-05,
          2.7387700563698948e-05,
          3.78381627196597e-05,
          5.201291081018047e-05,
          7.113755368182685e-05,
          9.680400883488035e-05,
          0.00013106731654225783,
          0.0001765639849036358,
          0.00023665543613504366,
          0.0003156003650594913,
          0.0004187599678040309,
          0.0005528400117178983,
          0.0007261735499540455,
          0.0009490476841809471,
          0.001234077090962582,
          0.0015966259944897472,
          0.0020552788353318746,
          0.0026323580022539917,
          0.0033544846231430845,
          0.004253175529306786,
          0.005365466115033018,
          0.006734544940639117,
          0.008410381637112052,
          0.010450325069938466,
          0.012919643960764176,
          0.01589197744848128,
          0.019449658645131786,
          0.023683870400917798,
          0.02869458956921602,
          0.0345902744165138,
          0.04148724982463325,
          0.04950874694579745,
          0.058783558324632224,
          0.06944427646497404,
          0.08162509357489678,
          0.09545915283496323,
          0.11107545692270353,
          0.128595357444677,
          0.14812866894784235,
          0.16976947268716094,
          0.1935916975145297,
          0.21964458715598678,
          0.24794818365363924,
          0.2784889746673585,
          0.3112158664252428,
          0.3460366531794005,
          0.38281515697023677,
          0.4213692074189471,
          0.4614696195065006,
          0.5028403075411693,
          0.5451596458353096,
          0.588063151500198,
          0.63114752315978,
          0.6739760226434753,
          0.7160851365981193,
          0.7569924035360464,
          0.7962052414170491,
          0.8332305638696208,
          0.8675849320009249,
          0.898804955683534,
          0.926457635210213,
          0.950150322830727,
          0.9695399849586969,
          0.9843414601899244,
          0.9943344354831531,
          0.9993689020366799,
          0.9993689020366799,
          0.9943344354831531,
          0.9843414601899244,
          0.9695399849586969,
          0.9501503228307268,
          0.9264576352102132,
          0.898804955683534,
          0.8675849320009249,
          0.8332305638696208,
          0.7962052414170487,
          0.7569924035360468,
          0.7160851365981193,
          0.6739760226434753,
          0.63114752315978,
          0.5880631515001976,
          0.54515964583531,
          0.5028403075411704,
          0.4614696195065006,
          0.4213692074189471,
          0.38281515697023644,
          0.3460366531794007,
          0.31121586642524346,
          0.2784889746673585,
          0.24794818365363924,
          0.2196445871559867,
          0.19359169751452937,
          0.16976947268716153,
          0.14812866894784235,
          0.128595357444677,
          0.11107545692270347,
          0.09545915283496302,
          0.081625093574897,
          0.06944427646497404,
          0.058783558324632224,
          0.0495087469457974,
          0.04148724982463315,
          0.034590274416513966,
          0.02869458956921602,
          0.023683870400917798,
          0.019449658645131786,
          0.015891977448481226,
          0.012919643960764221,
          0.010450325069938466,
          0.008410381637112052,
          0.006734544940639117,
          0.005365466115032995,
          0.0042531755293068125,
          0.0033544846231430845,
          0.0026323580022539917,
          0.0020552788353318746,
          0.00159662599448974,
          0.0012340770909625874,
          0.0009490476841809488,
          0.0007261735499540455,
          0.0005528400117178983,
          0.0004187599678040287,
          0.0003156003650594941,
          0.00023665543613504366,
          0.0001765639849036358,
          0.00013106731654225783,
          9.680400883488035e-05,
          7.113755368182697e-05,
          5.201291081018065e-05,
          3.78381627196597e-05,
          2.7387700563698948e-05,
          1.972367102999418e-05,
          1.4132746811458663e-05,
          1.00756264037172e-05,
          7.147006579956421e-06,
          5.044091510137468e-06,
          3.5419985649650196e-06,
          2.4746880077408074e-06,
          1.7202801396702713e-06,
          1.1898289898840784e-06,
          8.187976089836475e-07,
          5.606285808039728e-07,
          3.8192716724356435e-07,
          2.588764342584914e-07,
          1.745866908226644e-07,
          1.1714840971479142e-07,
          7.821108495329516e-08,
          5.1952550418388805e-08,
          3.4336188412995224e-08,
          2.2578960468682468e-08,
          1.4772787540667494e-08,
          9.616734132790888e-09,
          6.228728715385804e-09,
          4.014004653068902e-09,
          2.5737299475808747e-09,
          1.6419303449982893e-09,
          1.0422049498295831e-09,
          6.582004616806322e-10,
          4.1358986001623193e-10,
          2.5857601109904796e-10,
          1.608470978687216e-10,
          9.955082791588264e-11,
          6.130320378157933e-11,
          3.756021905751448e-11,
          2.2897059357646238e-11,
          1.3887943864964021e-11
         ]
        }
       ],
       "frames": [],
       "layout": {
        "height": 500,
        "margin": {
         "b": 50,
         "l": 50,
         "r": 50,
         "t": 60
        },
        "template": {
         "data": {
          "bar": [
           {
            "error_x": {
             "color": "#2a3f5f"
            },
            "error_y": {
             "color": "#2a3f5f"
            },
            "marker": {
             "line": {
              "color": "#E5ECF6",
              "width": 0.5
             }
            },
            "type": "bar"
           }
          ],
          "barpolar": [
           {
            "marker": {
             "line": {
              "color": "#E5ECF6",
              "width": 0.5
             }
            },
            "type": "barpolar"
           }
          ],
          "carpet": [
           {
            "aaxis": {
             "endlinecolor": "#2a3f5f",
             "gridcolor": "white",
             "linecolor": "white",
             "minorgridcolor": "white",
             "startlinecolor": "#2a3f5f"
            },
            "baxis": {
             "endlinecolor": "#2a3f5f",
             "gridcolor": "white",
             "linecolor": "white",
             "minorgridcolor": "white",
             "startlinecolor": "#2a3f5f"
            },
            "type": "carpet"
           }
          ],
          "choropleth": [
           {
            "colorbar": {
             "outlinewidth": 0,
             "ticks": ""
            },
            "type": "choropleth"
           }
          ],
          "contour": [
           {
            "colorbar": {
             "outlinewidth": 0,
             "ticks": ""
            },
            "colorscale": [
             [
              0,
              "#0d0887"
             ],
             [
              0.1111111111111111,
              "#46039f"
             ],
             [
              0.2222222222222222,
              "#7201a8"
             ],
             [
              0.3333333333333333,
              "#9c179e"
             ],
             [
              0.4444444444444444,
              "#bd3786"
             ],
             [
              0.5555555555555556,
              "#d8576b"
             ],
             [
              0.6666666666666666,
              "#ed7953"
             ],
             [
              0.7777777777777778,
              "#fb9f3a"
             ],
             [
              0.8888888888888888,
              "#fdca26"
             ],
             [
              1,
              "#f0f921"
             ]
            ],
            "type": "contour"
           }
          ],
          "contourcarpet": [
           {
            "colorbar": {
             "outlinewidth": 0,
             "ticks": ""
            },
            "type": "contourcarpet"
           }
          ],
          "heatmap": [
           {
            "colorbar": {
             "outlinewidth": 0,
             "ticks": ""
            },
            "colorscale": [
             [
              0,
              "#0d0887"
             ],
             [
              0.1111111111111111,
              "#46039f"
             ],
             [
              0.2222222222222222,
              "#7201a8"
             ],
             [
              0.3333333333333333,
              "#9c179e"
             ],
             [
              0.4444444444444444,
              "#bd3786"
             ],
             [
              0.5555555555555556,
              "#d8576b"
             ],
             [
              0.6666666666666666,
              "#ed7953"
             ],
             [
              0.7777777777777778,
              "#fb9f3a"
             ],
             [
              0.8888888888888888,
              "#fdca26"
             ],
             [
              1,
              "#f0f921"
             ]
            ],
            "type": "heatmap"
           }
          ],
          "heatmapgl": [
           {
            "colorbar": {
             "outlinewidth": 0,
             "ticks": ""
            },
            "colorscale": [
             [
              0,
              "#0d0887"
             ],
             [
              0.1111111111111111,
              "#46039f"
             ],
             [
              0.2222222222222222,
              "#7201a8"
             ],
             [
              0.3333333333333333,
              "#9c179e"
             ],
             [
              0.4444444444444444,
              "#bd3786"
             ],
             [
              0.5555555555555556,
              "#d8576b"
             ],
             [
              0.6666666666666666,
              "#ed7953"
             ],
             [
              0.7777777777777778,
              "#fb9f3a"
             ],
             [
              0.8888888888888888,
              "#fdca26"
             ],
             [
              1,
              "#f0f921"
             ]
            ],
            "type": "heatmapgl"
           }
          ],
          "histogram": [
           {
            "marker": {
             "colorbar": {
              "outlinewidth": 0,
              "ticks": ""
             }
            },
            "type": "histogram"
           }
          ],
          "histogram2d": [
           {
            "colorbar": {
             "outlinewidth": 0,
             "ticks": ""
            },
            "colorscale": [
             [
              0,
              "#0d0887"
             ],
             [
              0.1111111111111111,
              "#46039f"
             ],
             [
              0.2222222222222222,
              "#7201a8"
             ],
             [
              0.3333333333333333,
              "#9c179e"
             ],
             [
              0.4444444444444444,
              "#bd3786"
             ],
             [
              0.5555555555555556,
              "#d8576b"
             ],
             [
              0.6666666666666666,
              "#ed7953"
             ],
             [
              0.7777777777777778,
              "#fb9f3a"
             ],
             [
              0.8888888888888888,
              "#fdca26"
             ],
             [
              1,
              "#f0f921"
             ]
            ],
            "type": "histogram2d"
           }
          ],
          "histogram2dcontour": [
           {
            "colorbar": {
             "outlinewidth": 0,
             "ticks": ""
            },
            "colorscale": [
             [
              0,
              "#0d0887"
             ],
             [
              0.1111111111111111,
              "#46039f"
             ],
             [
              0.2222222222222222,
              "#7201a8"
             ],
             [
              0.3333333333333333,
              "#9c179e"
             ],
             [
              0.4444444444444444,
              "#bd3786"
             ],
             [
              0.5555555555555556,
              "#d8576b"
             ],
             [
              0.6666666666666666,
              "#ed7953"
             ],
             [
              0.7777777777777778,
              "#fb9f3a"
             ],
             [
              0.8888888888888888,
              "#fdca26"
             ],
             [
              1,
              "#f0f921"
             ]
            ],
            "type": "histogram2dcontour"
           }
          ],
          "mesh3d": [
           {
            "colorbar": {
             "outlinewidth": 0,
             "ticks": ""
            },
            "type": "mesh3d"
           }
          ],
          "parcoords": [
           {
            "line": {
             "colorbar": {
              "outlinewidth": 0,
              "ticks": ""
             }
            },
            "type": "parcoords"
           }
          ],
          "pie": [
           {
            "automargin": true,
            "type": "pie"
           }
          ],
          "scatter": [
           {
            "marker": {
             "colorbar": {
              "outlinewidth": 0,
              "ticks": ""
             }
            },
            "type": "scatter"
           }
          ],
          "scatter3d": [
           {
            "line": {
             "colorbar": {
              "outlinewidth": 0,
              "ticks": ""
             }
            },
            "marker": {
             "colorbar": {
              "outlinewidth": 0,
              "ticks": ""
             }
            },
            "type": "scatter3d"
           }
          ],
          "scattercarpet": [
           {
            "marker": {
             "colorbar": {
              "outlinewidth": 0,
              "ticks": ""
             }
            },
            "type": "scattercarpet"
           }
          ],
          "scattergeo": [
           {
            "marker": {
             "colorbar": {
              "outlinewidth": 0,
              "ticks": ""
             }
            },
            "type": "scattergeo"
           }
          ],
          "scattergl": [
           {
            "marker": {
             "colorbar": {
              "outlinewidth": 0,
              "ticks": ""
             }
            },
            "type": "scattergl"
           }
          ],
          "scattermapbox": [
           {
            "marker": {
             "colorbar": {
              "outlinewidth": 0,
              "ticks": ""
             }
            },
            "type": "scattermapbox"
           }
          ],
          "scatterpolar": [
           {
            "marker": {
             "colorbar": {
              "outlinewidth": 0,
              "ticks": ""
             }
            },
            "type": "scatterpolar"
           }
          ],
          "scatterpolargl": [
           {
            "marker": {
             "colorbar": {
              "outlinewidth": 0,
              "ticks": ""
             }
            },
            "type": "scatterpolargl"
           }
          ],
          "scatterternary": [
           {
            "marker": {
             "colorbar": {
              "outlinewidth": 0,
              "ticks": ""
             }
            },
            "type": "scatterternary"
           }
          ],
          "surface": [
           {
            "colorbar": {
             "outlinewidth": 0,
             "ticks": ""
            },
            "colorscale": [
             [
              0,
              "#0d0887"
             ],
             [
              0.1111111111111111,
              "#46039f"
             ],
             [
              0.2222222222222222,
              "#7201a8"
             ],
             [
              0.3333333333333333,
              "#9c179e"
             ],
             [
              0.4444444444444444,
              "#bd3786"
             ],
             [
              0.5555555555555556,
              "#d8576b"
             ],
             [
              0.6666666666666666,
              "#ed7953"
             ],
             [
              0.7777777777777778,
              "#fb9f3a"
             ],
             [
              0.8888888888888888,
              "#fdca26"
             ],
             [
              1,
              "#f0f921"
             ]
            ],
            "type": "surface"
           }
          ],
          "table": [
           {
            "cells": {
             "fill": {
              "color": "#EBF0F8"
             },
             "line": {
              "color": "white"
             }
            },
            "header": {
             "fill": {
              "color": "#C8D4E3"
             },
             "line": {
              "color": "white"
             }
            },
            "type": "table"
           }
          ]
         },
         "layout": {
          "annotationdefaults": {
           "arrowcolor": "#2a3f5f",
           "arrowhead": 0,
           "arrowwidth": 1
          },
          "autotypenumbers": "strict",
          "coloraxis": {
           "colorbar": {
            "outlinewidth": 0,
            "ticks": ""
           }
          },
          "colorscale": {
           "diverging": [
            [
             0,
             "#8e0152"
            ],
            [
             0.1,
             "#c51b7d"
            ],
            [
             0.2,
             "#de77ae"
            ],
            [
             0.3,
             "#f1b6da"
            ],
            [
             0.4,
             "#fde0ef"
            ],
            [
             0.5,
             "#f7f7f7"
            ],
            [
             0.6,
             "#e6f5d0"
            ],
            [
             0.7,
             "#b8e186"
            ],
            [
             0.8,
             "#7fbc41"
            ],
            [
             0.9,
             "#4d9221"
            ],
            [
             1,
             "#276419"
            ]
           ],
           "sequential": [
            [
             0,
             "#0d0887"
            ],
            [
             0.1111111111111111,
             "#46039f"
            ],
            [
             0.2222222222222222,
             "#7201a8"
            ],
            [
             0.3333333333333333,
             "#9c179e"
            ],
            [
             0.4444444444444444,
             "#bd3786"
            ],
            [
             0.5555555555555556,
             "#d8576b"
            ],
            [
             0.6666666666666666,
             "#ed7953"
            ],
            [
             0.7777777777777778,
             "#fb9f3a"
            ],
            [
             0.8888888888888888,
             "#fdca26"
            ],
            [
             1,
             "#f0f921"
            ]
           ],
           "sequentialminus": [
            [
             0,
             "#0d0887"
            ],
            [
             0.1111111111111111,
             "#46039f"
            ],
            [
             0.2222222222222222,
             "#7201a8"
            ],
            [
             0.3333333333333333,
             "#9c179e"
            ],
            [
             0.4444444444444444,
             "#bd3786"
            ],
            [
             0.5555555555555556,
             "#d8576b"
            ],
            [
             0.6666666666666666,
             "#ed7953"
            ],
            [
             0.7777777777777778,
             "#fb9f3a"
            ],
            [
             0.8888888888888888,
             "#fdca26"
            ],
            [
             1,
             "#f0f921"
            ]
           ]
          },
          "colorway": [
           "#636efa",
           "#EF553B",
           "#00cc96",
           "#ab63fa",
           "#FFA15A",
           "#19d3f3",
           "#FF6692",
           "#B6E880",
           "#FF97FF",
           "#FECB52"
          ],
          "font": {
           "color": "#2a3f5f"
          },
          "geo": {
           "bgcolor": "white",
           "lakecolor": "white",
           "landcolor": "#E5ECF6",
           "showlakes": true,
           "showland": true,
           "subunitcolor": "white"
          },
          "hoverlabel": {
           "align": "left"
          },
          "hovermode": "closest",
          "mapbox": {
           "style": "light"
          },
          "paper_bgcolor": "white",
          "plot_bgcolor": "#E5ECF6",
          "polar": {
           "angularaxis": {
            "gridcolor": "white",
            "linecolor": "white",
            "ticks": ""
           },
           "bgcolor": "#E5ECF6",
           "radialaxis": {
            "gridcolor": "white",
            "linecolor": "white",
            "ticks": ""
           }
          },
          "scene": {
           "xaxis": {
            "backgroundcolor": "#E5ECF6",
            "gridcolor": "white",
            "gridwidth": 2,
            "linecolor": "white",
            "showbackground": true,
            "ticks": "",
            "zerolinecolor": "white"
           },
           "yaxis": {
            "backgroundcolor": "#E5ECF6",
            "gridcolor": "white",
            "gridwidth": 2,
            "linecolor": "white",
            "showbackground": true,
            "ticks": "",
            "zerolinecolor": "white"
           },
           "zaxis": {
            "backgroundcolor": "#E5ECF6",
            "gridcolor": "white",
            "gridwidth": 2,
            "linecolor": "white",
            "showbackground": true,
            "ticks": "",
            "zerolinecolor": "white"
           }
          },
          "shapedefaults": {
           "line": {
            "color": "#2a3f5f"
           }
          },
          "ternary": {
           "aaxis": {
            "gridcolor": "white",
            "linecolor": "white",
            "ticks": ""
           },
           "baxis": {
            "gridcolor": "white",
            "linecolor": "white",
            "ticks": ""
           },
           "bgcolor": "#E5ECF6",
           "caxis": {
            "gridcolor": "white",
            "linecolor": "white",
            "ticks": ""
           }
          },
          "title": {
           "x": 0.05
          },
          "xaxis": {
           "automargin": true,
           "gridcolor": "white",
           "linecolor": "white",
           "ticks": "",
           "title": {
            "standoff": 15
           },
           "zerolinecolor": "white",
           "zerolinewidth": 2
          },
          "yaxis": {
           "automargin": true,
           "gridcolor": "white",
           "linecolor": "white",
           "ticks": "",
           "title": {
            "standoff": 15
           },
           "zerolinecolor": "white",
           "zerolinewidth": 2
          }
         }
        },
        "title": "Time = 0",
        "width": 1000,
        "xaxis": {
         "range": [
          -5,
          5
         ],
         "title": {
          "text": "x"
         }
        },
        "yaxis": {
         "range": [
          -1.1,
          1.1
         ],
         "title": {
          "text": "Temperature "
         }
        }
       }
      },
      "text/html": [
       "<div\n",
       "    class=\"webio-mountpoint\"\n",
       "    data-webio-mountpoint=\"10921694759708537091\"\n",
       ">\n",
       "    <script>\n",
       "    (function(){\n",
       "    // Some integrations (namely, IJulia/Jupyter) use an alternate render pathway than\n",
       "    // just putting the html on the page. If WebIO isn't defined, then it's pretty likely\n",
       "    // that we're in one of those situations and the integration just isn't installed\n",
       "    // correctly.\n",
       "    if (typeof window.WebIO === \"undefined\") {\n",
       "        document\n",
       "            .querySelector('[data-webio-mountpoint=\"10921694759708537091\"]')\n",
       "            .innerHTML = (\n",
       "                '<div style=\"padding: 1em; background-color: #f8d6da; border: 1px solid #f5c6cb; font-weight: bold;\">' +\n",
       "                '<p><strong>WebIO not detected.</strong></p>' +\n",
       "                '<p>Please read ' +\n",
       "                '<a href=\"https://juliagizmos.github.io/WebIO.jl/latest/troubleshooting/not-detected/\" target=\"_blank\">the troubleshooting guide</a> ' +\n",
       "                'for more information on how to resolve this issue.</p>' +\n",
       "                '<p><a href=\"https://juliagizmos.github.io/WebIO.jl/latest/troubleshooting/not-detected/\" target=\"_blank\">https://juliagizmos.github.io/WebIO.jl/latest/troubleshooting/not-detected/</a></p>' +\n",
       "                '</div>'\n",
       "            );\n",
       "        return;\n",
       "    }\n",
       "    WebIO.mount(\n",
       "        document.querySelector('[data-webio-mountpoint=\"10921694759708537091\"]'),\n",
       "        {\"props\":{},\"nodeType\":\"Scope\",\"type\":\"node\",\"instanceArgs\":{\"imports\":{\"data\":[{\"name\":\"Plotly\",\"type\":\"js\",\"url\":\"\\/assetserver\\/a78df30ac7ca2f1a5f824abcfd74f27e1c7b04d2-plotly.min.js\"},{\"name\":null,\"type\":\"js\",\"url\":\"\\/assetserver\\/1527f63ec91684de76ecc64ee8e341aad69aaa3e-plotly_webio.bundle.js\"}],\"type\":\"async_block\"},\"id\":\"17038283874599505499\",\"handlers\":{\"_toImage\":[\"(function (options){return this.Plotly.toImage(this.plotElem,options).then((function (data){return WebIO.setval({\\\"name\\\":\\\"image\\\",\\\"scope\\\":\\\"17038283874599505499\\\",\\\"id\\\":\\\"15\\\",\\\"type\\\":\\\"observable\\\"},data)}))})\"],\"__get_gd_contents\":[\"(function (prop){prop==\\\"data\\\" ? (WebIO.setval({\\\"name\\\":\\\"__gd_contents\\\",\\\"scope\\\":\\\"17038283874599505499\\\",\\\"id\\\":\\\"16\\\",\\\"type\\\":\\\"observable\\\"},this.plotElem.data)) : undefined; return prop==\\\"layout\\\" ? (WebIO.setval({\\\"name\\\":\\\"__gd_contents\\\",\\\"scope\\\":\\\"17038283874599505499\\\",\\\"id\\\":\\\"16\\\",\\\"type\\\":\\\"observable\\\"},this.plotElem.layout)) : undefined})\"],\"_downloadImage\":[\"(function (options){return this.Plotly.downloadImage(this.plotElem,options)})\"],\"_commands\":[\"(function (args){var fn=args.shift(); var elem=this.plotElem; var Plotly=this.Plotly; args.unshift(elem); return Plotly[fn].apply(this,args)})\"]},\"systemjs_options\":null,\"mount_callbacks\":[\"function () {\\n    var handler = ((function (Plotly,PlotlyWebIO){PlotlyWebIO.init(WebIO); var gd=this.dom.querySelector(\\\"#plot-39d9f9ec-e64d-4962-a8e6-623fcd1b84b3\\\"); this.plotElem=gd; this.Plotly=Plotly; (window.Blink!==undefined) ? (gd.style.width=\\\"100%\\\", gd.style.height=\\\"100vh\\\", gd.style.marginLeft=\\\"0%\\\", gd.style.marginTop=\\\"0vh\\\") : undefined; window.onresize=(function (){return Plotly.Plots.resize(gd)}); Plotly.newPlot(gd,[{\\\"mode\\\":\\\"lines\\\",\\\"y\\\":[1.3887943864964021e-11,2.2897059357646238e-11,3.756021905751448e-11,6.130320378157933e-11,9.955082791588264e-11,1.6084709786872332e-10,2.5857601109904796e-10,4.1358986001623193e-10,6.582004616806322e-10,1.042204949829594e-9,1.6419303449982893e-9,2.5737299475808747e-9,4.014004653068902e-9,6.22872871538587e-9,9.616734132790888e-9,1.4772787540667494e-8,2.2578960468682468e-8,3.4336188412995224e-8,5.1952550418388805e-8,7.821108495329516e-8,1.1714840971479142e-7,1.745866908226644e-7,2.588764342584914e-7,3.8192716724356573e-7,5.606285808039728e-7,8.187976089836475e-7,1.1898289898840784e-6,1.7202801396702651e-6,2.4746880077407985e-6,3.5419985649650196e-6,5.044091510137468e-6,7.147006579956421e-6,1.00756264037172e-5,1.4132746811458538e-5,1.972367102999418e-5,2.7387700563698948e-5,3.78381627196597e-5,5.201291081018047e-5,7.113755368182685e-5,9.680400883488035e-5,0.00013106731654225783,0.0001765639849036358,0.00023665543613504366,0.0003156003650594913,0.0004187599678040309,0.0005528400117178983,0.0007261735499540455,0.0009490476841809471,0.001234077090962582,0.0015966259944897472,0.0020552788353318746,0.0026323580022539917,0.0033544846231430845,0.004253175529306786,0.005365466115033018,0.006734544940639117,0.008410381637112052,0.010450325069938466,0.012919643960764176,0.01589197744848128,0.019449658645131786,0.023683870400917798,0.02869458956921602,0.0345902744165138,0.04148724982463325,0.04950874694579745,0.058783558324632224,0.06944427646497404,0.08162509357489678,0.09545915283496323,0.11107545692270353,0.128595357444677,0.14812866894784235,0.16976947268716094,0.1935916975145297,0.21964458715598678,0.24794818365363924,0.2784889746673585,0.3112158664252428,0.3460366531794005,0.38281515697023677,0.4213692074189471,0.4614696195065006,0.5028403075411693,0.5451596458353096,0.588063151500198,0.63114752315978,0.6739760226434753,0.7160851365981193,0.7569924035360464,0.7962052414170491,0.8332305638696208,0.8675849320009249,0.898804955683534,0.926457635210213,0.950150322830727,0.9695399849586969,0.9843414601899244,0.9943344354831531,0.9993689020366799,0.9993689020366799,0.9943344354831531,0.9843414601899244,0.9695399849586969,0.9501503228307268,0.9264576352102132,0.898804955683534,0.8675849320009249,0.8332305638696208,0.7962052414170487,0.7569924035360468,0.7160851365981193,0.6739760226434753,0.63114752315978,0.5880631515001976,0.54515964583531,0.5028403075411704,0.4614696195065006,0.4213692074189471,0.38281515697023644,0.3460366531794007,0.31121586642524346,0.2784889746673585,0.24794818365363924,0.2196445871559867,0.19359169751452937,0.16976947268716153,0.14812866894784235,0.128595357444677,0.11107545692270347,0.09545915283496302,0.081625093574897,0.06944427646497404,0.058783558324632224,0.0495087469457974,0.04148724982463315,0.034590274416513966,0.02869458956921602,0.023683870400917798,0.019449658645131786,0.015891977448481226,0.012919643960764221,0.010450325069938466,0.008410381637112052,0.006734544940639117,0.005365466115032995,0.0042531755293068125,0.0033544846231430845,0.0026323580022539917,0.0020552788353318746,0.00159662599448974,0.0012340770909625874,0.0009490476841809488,0.0007261735499540455,0.0005528400117178983,0.0004187599678040287,0.0003156003650594941,0.00023665543613504366,0.0001765639849036358,0.00013106731654225783,9.680400883488035e-5,7.113755368182697e-5,5.201291081018065e-5,3.78381627196597e-5,2.7387700563698948e-5,1.972367102999418e-5,1.4132746811458663e-5,1.00756264037172e-5,7.147006579956421e-6,5.044091510137468e-6,3.5419985649650196e-6,2.4746880077408074e-6,1.7202801396702713e-6,1.1898289898840784e-6,8.187976089836475e-7,5.606285808039728e-7,3.8192716724356435e-7,2.588764342584914e-7,1.745866908226644e-7,1.1714840971479142e-7,7.821108495329516e-8,5.1952550418388805e-8,3.4336188412995224e-8,2.2578960468682468e-8,1.4772787540667494e-8,9.616734132790888e-9,6.228728715385804e-9,4.014004653068902e-9,2.5737299475808747e-9,1.6419303449982893e-9,1.0422049498295831e-9,6.582004616806322e-10,4.1358986001623193e-10,2.5857601109904796e-10,1.608470978687216e-10,9.955082791588264e-11,6.130320378157933e-11,3.756021905751448e-11,2.2897059357646238e-11,1.3887943864964021e-11],\\\"type\\\":\\\"scatter\\\",\\\"name\\\":\\\"Lissajous\\\",\\\"x\\\":[-5.0,-4.949748743718592,-4.899497487437186,-4.84924623115578,-4.798994974874372,-4.748743718592965,-4.698492462311558,-4.64824120603015,-4.597989949748744,-4.547738693467337,-4.49748743718593,-4.447236180904522,-4.396984924623116,-4.346733668341709,-4.296482412060302,-4.246231155778894,-4.1959798994974875,-4.14572864321608,-4.0954773869346734,-4.045226130653267,-3.9949748743718594,-3.944723618090452,-3.8944723618090453,-3.8442211055276387,-3.7939698492462313,-3.7437185929648247,-3.693467336683417,-3.6432160804020097,-3.592964824120603,-3.5427135678391966,-3.492462311557789,-3.4422110552763816,-3.391959798994975,-3.3417085427135684,-3.291457286432161,-3.2412060301507535,-3.190954773869347,-3.1407035175879394,-3.090452261306533,-3.0402010050251262,-2.9899497487437188,-2.9396984924623117,-2.8894472361809047,-2.839195979899498,-2.7889447236180898,-2.7386934673366836,-2.6884422110552766,-2.638190954773869,-2.5879396984924625,-2.5376884422110546,-2.4874371859296485,-2.4371859296482414,-2.3869346733668344,-2.336683417085428,-2.2864321608040195,-2.2361809045226133,-2.1859296482412063,-2.1356783919597984,-2.085427135678392,-2.0351758793969843,-1.9849246231155782,-1.9346733668341711,-1.8844221105527639,-1.8341708542713575,-1.7839195979899494,-1.7336683417085428,-1.683417085427136,-1.6331658291457283,-1.582914572864322,-1.5326633165829142,-1.4824120603015076,-1.4321608040201008,-1.3819095477386936,-1.3316582914572872,-1.281407035175879,-1.2311557788944725,-1.1809045226130657,-1.130653266331658,-1.0804020100502516,-1.030150753768844,-0.9798994974874371,-0.9296482412060305,-0.8793969849246235,-0.8291457286432169,-0.778894472361809,-0.728643216080402,-0.6783919597989954,-0.6281407035175874,-0.5778894472361804,-0.5276381909547738,-0.4773869346733668,-0.4271356783919602,-0.3768844221105532,-0.32663316582914526,-0.27638190954773867,-0.22613065326633164,-0.17587939698492505,-0.12562814070351713,-0.0753768844221101,-0.025125628140703515,0.02512562814070307,0.0753768844221101,0.12562814070351713,0.17587939698492505,0.22613065326633208,0.2763819095477382,0.32663316582914526,0.3768844221105532,0.4271356783919602,0.47738693467336724,0.5276381909547734,0.5778894472361804,0.6281407035175874,0.6783919597989954,0.7286432160804024,0.7788944723618085,0.8291457286432156,0.8793969849246235,0.9296482412060305,0.9798994974874375,1.0301507537688437,1.0804020100502507,1.130653266331658,1.1809045226130657,1.2311557788944727,1.2814070351758797,1.3316582914572859,1.3819095477386936,1.4321608040201008,1.4824120603015079,1.5326633165829149,1.582914572864321,1.6331658291457283,1.683417085427136,1.733668341708543,1.78391959798995,1.8341708542713562,1.8844221105527639,1.9346733668341711,1.9849246231155782,2.035175879396985,2.0854271356783913,2.1356783919597984,2.1859296482412063,2.2361809045226133,2.2864321608040203,2.3366834170854265,2.3869346733668344,2.4371859296482414,2.4874371859296485,2.5376884422110555,2.5879396984924616,2.6381909547738687,2.6884422110552766,2.7386934673366836,2.7889447236180906,2.839195979899497,2.8894472361809047,2.9396984924623117,2.9899497487437188,3.0402010050251262,3.0904522613065324,3.140703517587939,3.190954773869347,3.2412060301507535,3.291457286432161,3.341708542713567,3.391959798994975,3.4422110552763816,3.492462311557789,3.5427135678391966,3.5929648241206027,3.6432160804020093,3.693467336683417,3.7437185929648247,3.7939698492462313,3.844221105527639,3.8944723618090453,3.944723618090452,3.9949748743718594,4.045226130653267,4.0954773869346734,4.14572864321608,4.1959798994974875,4.246231155778894,4.296482412060302,4.3467336683417095,4.396984924623116,4.447236180904522,4.49748743718593,4.547738693467338,4.597989949748744,4.64824120603015,4.698492462311558,4.748743718592966,4.798994974874372,4.84924623115578,4.899497487437186,4.949748743718592,5.0]}],{\\\"xaxis\\\":{\\\"range\\\":[-5,5],\\\"title\\\":{\\\"text\\\":\\\"x\\\"}},\\\"template\\\":{\\\"layout\\\":{\\\"coloraxis\\\":{\\\"colorbar\\\":{\\\"ticks\\\":\\\"\\\",\\\"outlinewidth\\\":0}},\\\"xaxis\\\":{\\\"gridcolor\\\":\\\"white\\\",\\\"zerolinewidth\\\":2,\\\"title\\\":{\\\"standoff\\\":15},\\\"ticks\\\":\\\"\\\",\\\"zerolinecolor\\\":\\\"white\\\",\\\"automargin\\\":true,\\\"linecolor\\\":\\\"white\\\"},\\\"hovermode\\\":\\\"closest\\\",\\\"paper_bgcolor\\\":\\\"white\\\",\\\"geo\\\":{\\\"showlakes\\\":true,\\\"showland\\\":true,\\\"landcolor\\\":\\\"#E5ECF6\\\",\\\"bgcolor\\\":\\\"white\\\",\\\"subunitcolor\\\":\\\"white\\\",\\\"lakecolor\\\":\\\"white\\\"},\\\"colorscale\\\":{\\\"sequential\\\":[[0.0,\\\"#0d0887\\\"],[0.1111111111111111,\\\"#46039f\\\"],[0.2222222222222222,\\\"#7201a8\\\"],[0.3333333333333333,\\\"#9c179e\\\"],[0.4444444444444444,\\\"#bd3786\\\"],[0.5555555555555556,\\\"#d8576b\\\"],[0.6666666666666666,\\\"#ed7953\\\"],[0.7777777777777778,\\\"#fb9f3a\\\"],[0.8888888888888888,\\\"#fdca26\\\"],[1.0,\\\"#f0f921\\\"]],\\\"diverging\\\":[[0,\\\"#8e0152\\\"],[0.1,\\\"#c51b7d\\\"],[0.2,\\\"#de77ae\\\"],[0.3,\\\"#f1b6da\\\"],[0.4,\\\"#fde0ef\\\"],[0.5,\\\"#f7f7f7\\\"],[0.6,\\\"#e6f5d0\\\"],[0.7,\\\"#b8e186\\\"],[0.8,\\\"#7fbc41\\\"],[0.9,\\\"#4d9221\\\"],[1,\\\"#276419\\\"]],\\\"sequentialminus\\\":[[0.0,\\\"#0d0887\\\"],[0.1111111111111111,\\\"#46039f\\\"],[0.2222222222222222,\\\"#7201a8\\\"],[0.3333333333333333,\\\"#9c179e\\\"],[0.4444444444444444,\\\"#bd3786\\\"],[0.5555555555555556,\\\"#d8576b\\\"],[0.6666666666666666,\\\"#ed7953\\\"],[0.7777777777777778,\\\"#fb9f3a\\\"],[0.8888888888888888,\\\"#fdca26\\\"],[1.0,\\\"#f0f921\\\"]]},\\\"yaxis\\\":{\\\"gridcolor\\\":\\\"white\\\",\\\"zerolinewidth\\\":2,\\\"title\\\":{\\\"standoff\\\":15},\\\"ticks\\\":\\\"\\\",\\\"zerolinecolor\\\":\\\"white\\\",\\\"automargin\\\":true,\\\"linecolor\\\":\\\"white\\\"},\\\"shapedefaults\\\":{\\\"line\\\":{\\\"color\\\":\\\"#2a3f5f\\\"}},\\\"hoverlabel\\\":{\\\"align\\\":\\\"left\\\"},\\\"mapbox\\\":{\\\"style\\\":\\\"light\\\"},\\\"polar\\\":{\\\"angularaxis\\\":{\\\"gridcolor\\\":\\\"white\\\",\\\"ticks\\\":\\\"\\\",\\\"linecolor\\\":\\\"white\\\"},\\\"bgcolor\\\":\\\"#E5ECF6\\\",\\\"radialaxis\\\":{\\\"gridcolor\\\":\\\"white\\\",\\\"ticks\\\":\\\"\\\",\\\"linecolor\\\":\\\"white\\\"}},\\\"autotypenumbers\\\":\\\"strict\\\",\\\"font\\\":{\\\"color\\\":\\\"#2a3f5f\\\"},\\\"ternary\\\":{\\\"baxis\\\":{\\\"gridcolor\\\":\\\"white\\\",\\\"ticks\\\":\\\"\\\",\\\"linecolor\\\":\\\"white\\\"},\\\"bgcolor\\\":\\\"#E5ECF6\\\",\\\"caxis\\\":{\\\"gridcolor\\\":\\\"white\\\",\\\"ticks\\\":\\\"\\\",\\\"linecolor\\\":\\\"white\\\"},\\\"aaxis\\\":{\\\"gridcolor\\\":\\\"white\\\",\\\"ticks\\\":\\\"\\\",\\\"linecolor\\\":\\\"white\\\"}},\\\"annotationdefaults\\\":{\\\"arrowhead\\\":0,\\\"arrowwidth\\\":1,\\\"arrowcolor\\\":\\\"#2a3f5f\\\"},\\\"plot_bgcolor\\\":\\\"#E5ECF6\\\",\\\"title\\\":{\\\"x\\\":0.05},\\\"scene\\\":{\\\"xaxis\\\":{\\\"gridcolor\\\":\\\"white\\\",\\\"gridwidth\\\":2,\\\"backgroundcolor\\\":\\\"#E5ECF6\\\",\\\"ticks\\\":\\\"\\\",\\\"showbackground\\\":true,\\\"zerolinecolor\\\":\\\"white\\\",\\\"linecolor\\\":\\\"white\\\"},\\\"zaxis\\\":{\\\"gridcolor\\\":\\\"white\\\",\\\"gridwidth\\\":2,\\\"backgroundcolor\\\":\\\"#E5ECF6\\\",\\\"ticks\\\":\\\"\\\",\\\"showbackground\\\":true,\\\"zerolinecolor\\\":\\\"white\\\",\\\"linecolor\\\":\\\"white\\\"},\\\"yaxis\\\":{\\\"gridcolor\\\":\\\"white\\\",\\\"gridwidth\\\":2,\\\"backgroundcolor\\\":\\\"#E5ECF6\\\",\\\"ticks\\\":\\\"\\\",\\\"showbackground\\\":true,\\\"zerolinecolor\\\":\\\"white\\\",\\\"linecolor\\\":\\\"white\\\"}},\\\"colorway\\\":[\\\"#636efa\\\",\\\"#EF553B\\\",\\\"#00cc96\\\",\\\"#ab63fa\\\",\\\"#FFA15A\\\",\\\"#19d3f3\\\",\\\"#FF6692\\\",\\\"#B6E880\\\",\\\"#FF97FF\\\",\\\"#FECB52\\\"]},\\\"data\\\":{\\\"barpolar\\\":[{\\\"type\\\":\\\"barpolar\\\",\\\"marker\\\":{\\\"line\\\":{\\\"color\\\":\\\"#E5ECF6\\\",\\\"width\\\":0.5}}}],\\\"carpet\\\":[{\\\"aaxis\\\":{\\\"gridcolor\\\":\\\"white\\\",\\\"endlinecolor\\\":\\\"#2a3f5f\\\",\\\"minorgridcolor\\\":\\\"white\\\",\\\"startlinecolor\\\":\\\"#2a3f5f\\\",\\\"linecolor\\\":\\\"white\\\"},\\\"type\\\":\\\"carpet\\\",\\\"baxis\\\":{\\\"gridcolor\\\":\\\"white\\\",\\\"endlinecolor\\\":\\\"#2a3f5f\\\",\\\"minorgridcolor\\\":\\\"white\\\",\\\"startlinecolor\\\":\\\"#2a3f5f\\\",\\\"linecolor\\\":\\\"white\\\"}}],\\\"scatterpolar\\\":[{\\\"type\\\":\\\"scatterpolar\\\",\\\"marker\\\":{\\\"colorbar\\\":{\\\"ticks\\\":\\\"\\\",\\\"outlinewidth\\\":0}}}],\\\"parcoords\\\":[{\\\"line\\\":{\\\"colorbar\\\":{\\\"ticks\\\":\\\"\\\",\\\"outlinewidth\\\":0}},\\\"type\\\":\\\"parcoords\\\"}],\\\"scatter\\\":[{\\\"type\\\":\\\"scatter\\\",\\\"marker\\\":{\\\"colorbar\\\":{\\\"ticks\\\":\\\"\\\",\\\"outlinewidth\\\":0}}}],\\\"histogram2dcontour\\\":[{\\\"colorbar\\\":{\\\"ticks\\\":\\\"\\\",\\\"outlinewidth\\\":0},\\\"type\\\":\\\"histogram2dcontour\\\",\\\"colorscale\\\":[[0.0,\\\"#0d0887\\\"],[0.1111111111111111,\\\"#46039f\\\"],[0.2222222222222222,\\\"#7201a8\\\"],[0.3333333333333333,\\\"#9c179e\\\"],[0.4444444444444444,\\\"#bd3786\\\"],[0.5555555555555556,\\\"#d8576b\\\"],[0.6666666666666666,\\\"#ed7953\\\"],[0.7777777777777778,\\\"#fb9f3a\\\"],[0.8888888888888888,\\\"#fdca26\\\"],[1.0,\\\"#f0f921\\\"]]}],\\\"contour\\\":[{\\\"colorbar\\\":{\\\"ticks\\\":\\\"\\\",\\\"outlinewidth\\\":0},\\\"type\\\":\\\"contour\\\",\\\"colorscale\\\":[[0.0,\\\"#0d0887\\\"],[0.1111111111111111,\\\"#46039f\\\"],[0.2222222222222222,\\\"#7201a8\\\"],[0.3333333333333333,\\\"#9c179e\\\"],[0.4444444444444444,\\\"#bd3786\\\"],[0.5555555555555556,\\\"#d8576b\\\"],[0.6666666666666666,\\\"#ed7953\\\"],[0.7777777777777778,\\\"#fb9f3a\\\"],[0.8888888888888888,\\\"#fdca26\\\"],[1.0,\\\"#f0f921\\\"]]}],\\\"scattercarpet\\\":[{\\\"type\\\":\\\"scattercarpet\\\",\\\"marker\\\":{\\\"colorbar\\\":{\\\"ticks\\\":\\\"\\\",\\\"outlinewidth\\\":0}}}],\\\"mesh3d\\\":[{\\\"colorbar\\\":{\\\"ticks\\\":\\\"\\\",\\\"outlinewidth\\\":0},\\\"type\\\":\\\"mesh3d\\\"}],\\\"surface\\\":[{\\\"colorbar\\\":{\\\"ticks\\\":\\\"\\\",\\\"outlinewidth\\\":0},\\\"type\\\":\\\"surface\\\",\\\"colorscale\\\":[[0.0,\\\"#0d0887\\\"],[0.1111111111111111,\\\"#46039f\\\"],[0.2222222222222222,\\\"#7201a8\\\"],[0.3333333333333333,\\\"#9c179e\\\"],[0.4444444444444444,\\\"#bd3786\\\"],[0.5555555555555556,\\\"#d8576b\\\"],[0.6666666666666666,\\\"#ed7953\\\"],[0.7777777777777778,\\\"#fb9f3a\\\"],[0.8888888888888888,\\\"#fdca26\\\"],[1.0,\\\"#f0f921\\\"]]}],\\\"scattermapbox\\\":[{\\\"type\\\":\\\"scattermapbox\\\",\\\"marker\\\":{\\\"colorbar\\\":{\\\"ticks\\\":\\\"\\\",\\\"outlinewidth\\\":0}}}],\\\"scattergeo\\\":[{\\\"type\\\":\\\"scattergeo\\\",\\\"marker\\\":{\\\"colorbar\\\":{\\\"ticks\\\":\\\"\\\",\\\"outlinewidth\\\":0}}}],\\\"histogram\\\":[{\\\"type\\\":\\\"histogram\\\",\\\"marker\\\":{\\\"colorbar\\\":{\\\"ticks\\\":\\\"\\\",\\\"outlinewidth\\\":0}}}],\\\"pie\\\":[{\\\"type\\\":\\\"pie\\\",\\\"automargin\\\":true}],\\\"choropleth\\\":[{\\\"colorbar\\\":{\\\"ticks\\\":\\\"\\\",\\\"outlinewidth\\\":0},\\\"type\\\":\\\"choropleth\\\"}],\\\"heatmapgl\\\":[{\\\"colorbar\\\":{\\\"ticks\\\":\\\"\\\",\\\"outlinewidth\\\":0},\\\"type\\\":\\\"heatmapgl\\\",\\\"colorscale\\\":[[0.0,\\\"#0d0887\\\"],[0.1111111111111111,\\\"#46039f\\\"],[0.2222222222222222,\\\"#7201a8\\\"],[0.3333333333333333,\\\"#9c179e\\\"],[0.4444444444444444,\\\"#bd3786\\\"],[0.5555555555555556,\\\"#d8576b\\\"],[0.6666666666666666,\\\"#ed7953\\\"],[0.7777777777777778,\\\"#fb9f3a\\\"],[0.8888888888888888,\\\"#fdca26\\\"],[1.0,\\\"#f0f921\\\"]]}],\\\"bar\\\":[{\\\"type\\\":\\\"bar\\\",\\\"error_y\\\":{\\\"color\\\":\\\"#2a3f5f\\\"},\\\"error_x\\\":{\\\"color\\\":\\\"#2a3f5f\\\"},\\\"marker\\\":{\\\"line\\\":{\\\"color\\\":\\\"#E5ECF6\\\",\\\"width\\\":0.5}}}],\\\"heatmap\\\":[{\\\"colorbar\\\":{\\\"ticks\\\":\\\"\\\",\\\"outlinewidth\\\":0},\\\"type\\\":\\\"heatmap\\\",\\\"colorscale\\\":[[0.0,\\\"#0d0887\\\"],[0.1111111111111111,\\\"#46039f\\\"],[0.2222222222222222,\\\"#7201a8\\\"],[0.3333333333333333,\\\"#9c179e\\\"],[0.4444444444444444,\\\"#bd3786\\\"],[0.5555555555555556,\\\"#d8576b\\\"],[0.6666666666666666,\\\"#ed7953\\\"],[0.7777777777777778,\\\"#fb9f3a\\\"],[0.8888888888888888,\\\"#fdca26\\\"],[1.0,\\\"#f0f921\\\"]]}],\\\"contourcarpet\\\":[{\\\"colorbar\\\":{\\\"ticks\\\":\\\"\\\",\\\"outlinewidth\\\":0},\\\"type\\\":\\\"contourcarpet\\\"}],\\\"table\\\":[{\\\"type\\\":\\\"table\\\",\\\"header\\\":{\\\"line\\\":{\\\"color\\\":\\\"white\\\"},\\\"fill\\\":{\\\"color\\\":\\\"#C8D4E3\\\"}},\\\"cells\\\":{\\\"line\\\":{\\\"color\\\":\\\"white\\\"},\\\"fill\\\":{\\\"color\\\":\\\"#EBF0F8\\\"}}}],\\\"scatter3d\\\":[{\\\"line\\\":{\\\"colorbar\\\":{\\\"ticks\\\":\\\"\\\",\\\"outlinewidth\\\":0}},\\\"type\\\":\\\"scatter3d\\\",\\\"marker\\\":{\\\"colorbar\\\":{\\\"ticks\\\":\\\"\\\",\\\"outlinewidth\\\":0}}}],\\\"scattergl\\\":[{\\\"type\\\":\\\"scattergl\\\",\\\"marker\\\":{\\\"colorbar\\\":{\\\"ticks\\\":\\\"\\\",\\\"outlinewidth\\\":0}}}],\\\"histogram2d\\\":[{\\\"colorbar\\\":{\\\"ticks\\\":\\\"\\\",\\\"outlinewidth\\\":0},\\\"type\\\":\\\"histogram2d\\\",\\\"colorscale\\\":[[0.0,\\\"#0d0887\\\"],[0.1111111111111111,\\\"#46039f\\\"],[0.2222222222222222,\\\"#7201a8\\\"],[0.3333333333333333,\\\"#9c179e\\\"],[0.4444444444444444,\\\"#bd3786\\\"],[0.5555555555555556,\\\"#d8576b\\\"],[0.6666666666666666,\\\"#ed7953\\\"],[0.7777777777777778,\\\"#fb9f3a\\\"],[0.8888888888888888,\\\"#fdca26\\\"],[1.0,\\\"#f0f921\\\"]]}],\\\"scatterternary\\\":[{\\\"type\\\":\\\"scatterternary\\\",\\\"marker\\\":{\\\"colorbar\\\":{\\\"ticks\\\":\\\"\\\",\\\"outlinewidth\\\":0}}}],\\\"scatterpolargl\\\":[{\\\"type\\\":\\\"scatterpolargl\\\",\\\"marker\\\":{\\\"colorbar\\\":{\\\"ticks\\\":\\\"\\\",\\\"outlinewidth\\\":0}}}]}},\\\"height\\\":500,\\\"margin\\\":{\\\"l\\\":50,\\\"b\\\":50,\\\"r\\\":50,\\\"t\\\":60},\\\"title\\\":\\\"Time = 0\\\",\\\"yaxis\\\":{\\\"range\\\":[-1.1,1.1],\\\"title\\\":{\\\"text\\\":\\\"Temperature \\\"}},\\\"width\\\":1000},{\\\"showLink\\\":false,\\\"editable\\\":false,\\\"responsive\\\":true,\\\"staticPlot\\\":false,\\\"scrollZoom\\\":true}); gd.on(\\\"plotly_hover\\\",(function (data){var filtered_data=WebIO.PlotlyCommands.filterEventData(gd,data,\\\"hover\\\"); return !(filtered_data.isnil) ? (WebIO.setval({\\\"name\\\":\\\"hover\\\",\\\"scope\\\":\\\"17038283874599505499\\\",\\\"id\\\":\\\"11\\\",\\\"type\\\":\\\"observable\\\"},filtered_data.out)) : undefined})); gd.on(\\\"plotly_unhover\\\",(function (){return WebIO.setval({\\\"name\\\":\\\"hover\\\",\\\"scope\\\":\\\"17038283874599505499\\\",\\\"id\\\":\\\"11\\\",\\\"type\\\":\\\"observable\\\"},{})})); gd.on(\\\"plotly_selected\\\",(function (data){var filtered_data=WebIO.PlotlyCommands.filterEventData(gd,data,\\\"selected\\\"); return !(filtered_data.isnil) ? (WebIO.setval({\\\"name\\\":\\\"selected\\\",\\\"scope\\\":\\\"17038283874599505499\\\",\\\"id\\\":\\\"12\\\",\\\"type\\\":\\\"observable\\\"},filtered_data.out)) : undefined})); gd.on(\\\"plotly_deselect\\\",(function (){return WebIO.setval({\\\"name\\\":\\\"selected\\\",\\\"scope\\\":\\\"17038283874599505499\\\",\\\"id\\\":\\\"12\\\",\\\"type\\\":\\\"observable\\\"},{})})); gd.on(\\\"plotly_relayout\\\",(function (data){var filtered_data=WebIO.PlotlyCommands.filterEventData(gd,data,\\\"relayout\\\"); return !(filtered_data.isnil) ? (WebIO.setval({\\\"name\\\":\\\"relayout\\\",\\\"scope\\\":\\\"17038283874599505499\\\",\\\"id\\\":\\\"14\\\",\\\"type\\\":\\\"observable\\\"},filtered_data.out)) : undefined})); return gd.on(\\\"plotly_click\\\",(function (data){var filtered_data=WebIO.PlotlyCommands.filterEventData(gd,data,\\\"click\\\"); return !(filtered_data.isnil) ? (WebIO.setval({\\\"name\\\":\\\"click\\\",\\\"scope\\\":\\\"17038283874599505499\\\",\\\"id\\\":\\\"13\\\",\\\"type\\\":\\\"observable\\\"},filtered_data.out)) : undefined}))}));\\n    (WebIO.importBlock({\\\"data\\\":[{\\\"name\\\":\\\"Plotly\\\",\\\"type\\\":\\\"js\\\",\\\"url\\\":\\\"\\/assetserver\\/a78df30ac7ca2f1a5f824abcfd74f27e1c7b04d2-plotly.min.js\\\"},{\\\"name\\\":null,\\\"type\\\":\\\"js\\\",\\\"url\\\":\\\"\\/assetserver\\/1527f63ec91684de76ecc64ee8e341aad69aaa3e-plotly_webio.bundle.js\\\"}],\\\"type\\\":\\\"async_block\\\"})).then((imports) => handler.apply(this, imports));\\n}\\n\"],\"observables\":{\"_toImage\":{\"sync\":false,\"id\":\"18\",\"value\":{}},\"hover\":{\"sync\":false,\"id\":\"11\",\"value\":{}},\"selected\":{\"sync\":false,\"id\":\"12\",\"value\":{}},\"__gd_contents\":{\"sync\":false,\"id\":\"16\",\"value\":{}},\"click\":{\"sync\":false,\"id\":\"13\",\"value\":{}},\"image\":{\"sync\":true,\"id\":\"15\",\"value\":\"\"},\"__get_gd_contents\":{\"sync\":false,\"id\":\"20\",\"value\":\"\"},\"_downloadImage\":{\"sync\":false,\"id\":\"19\",\"value\":{}},\"relayout\":{\"sync\":false,\"id\":\"14\",\"value\":{}},\"_commands\":{\"sync\":false,\"id\":\"17\",\"value\":[]}}},\"children\":[{\"props\":{\"id\":\"plot-39d9f9ec-e64d-4962-a8e6-623fcd1b84b3\"},\"nodeType\":\"DOM\",\"type\":\"node\",\"instanceArgs\":{\"namespace\":\"html\",\"tag\":\"div\"},\"children\":[]}]},\n",
       "        window,\n",
       "    );\n",
       "    })()\n",
       "    </script>\n",
       "</div>\n"
      ],
      "text/plain": [
       "data: [\n",
       "  \"scatter with fields mode, name, type, x, and y\"\n",
       "]\n",
       "\n",
       "layout: \"layout with fields height, margin, template, title, width, xaxis, and yaxis\"\n",
       "\n"
      ]
     },
     "execution_count": 8,
     "metadata": {},
     "output_type": "execute_result"
    }
   ],
   "source": [
    "# Plot initial Gaussian distribution\n",
    "startx=-5\n",
    "endx=5\n",
    "x = LinRange(startx,endx,200)\n",
    "x0=0\n",
    "\n",
    "\n",
    "initial_dist(x)= exp(-x.^2)\n",
    "\n",
    "# trace = scatter(x=cos.(ω1*t),y=sin.(ω2*a0*t),mode=\"lines\", name=\"Lissajous\")\n",
    "trace = scatter(x=x,y=initial_dist.(x),mode=\"lines\", name=\"Lissajous\")\n",
    "data = [trace]\n",
    "layout = Layout(;title=\"Time = 0\", xaxis_range=[startx, endx], xaxis_title=\"x\",\n",
    "                     yaxis_range=[-1.1, 1.1],  yaxis_title=\"Temperature \", width=1000,height=500)\n",
    "pl = plot(data,layout)"
   ]
  },
  {
   "cell_type": "markdown",
   "id": "ab5a52a3",
   "metadata": {},
   "source": [
    "Solution to the heat equation on the infinite line interval $[-\\infty,\\infty]$ with initial temperature distribution $T_0(x)=e^{-x^2}$:\n",
    "\n",
    "\\begin{equation}\n",
    " T(x,t) =  \\int_{-\\infty}^{\\infty} \\Phi(x-x',t)T_0(x')\\  dx' =  \\int_{-\\infty}^{\\infty} \\frac{1}{\\sqrt{4\\pi \\kappa t}}\\cdot \\exp\\left(-\\frac{(x-y)^2} {4 \\kappa t} \\right) e^{-y^2}\\  dy \n",
    " \\end{equation}"
   ]
  },
  {
   "cell_type": "code",
   "execution_count": 9,
   "id": "6f037c89",
   "metadata": {},
   "outputs": [],
   "source": [
    "Nt=25\n",
    "t0 = 0.0001\n",
    "t1 = 100\n",
    "k=0.01\n",
    "\n",
    "heat_kernel(x,t)=1 ./sqrt.(4*pi*k*t).*exp.(-x.^2 ./(4*k.*t))\n",
    "\n",
    "for time =LinRange(t0,t1,Nt)\n",
    "  # Setup integrand for each time\n",
    "    integrand(y)=heat_kernel.(x.-y,time).*initial_dist(y)\n",
    "    \n",
    "  #Compute exact solution at each time with integral formula  \n",
    "    \n",
    "    temp=quadgk(integrand,-Inf,Inf)[1]\n",
    "   trace = scatter(x=x,y=temp,mode=\"lines\", name=\"Lissajous\") \n",
    "    data = [trace]\n",
    "    #Animate results\n",
    "layout = Layout(;title=\"Time = \"*string(time), xaxis_range=[startx, endx], xaxis_title=\"x\",\n",
    "                     yaxis_range=[-1.1, 1.1],  yaxis_title=\"Temperature \", width=1000,height=500)\n",
    "    \n",
    "    sleep(0.05)\n",
    "    react!(pl, data, layout)\n",
    "end\n",
    "\n"
   ]
  },
  {
   "cell_type": "code",
   "execution_count": null,
   "id": "279a1cad",
   "metadata": {},
   "outputs": [],
   "source": []
  },
  {
   "cell_type": "code",
   "execution_count": null,
   "id": "ccef2a43",
   "metadata": {},
   "outputs": [],
   "source": []
  },
  {
   "cell_type": "code",
   "execution_count": null,
   "id": "58a8b47b",
   "metadata": {},
   "outputs": [],
   "source": []
  },
  {
   "cell_type": "code",
   "execution_count": null,
   "id": "c15cac86",
   "metadata": {},
   "outputs": [],
   "source": []
  }
 ],
 "metadata": {
  "@webio": {
   "lastCommId": "23b8e8257295450d8d83294dda38fa66",
   "lastKernelId": "0c856e35-db74-4570-b802-fc81a888d456"
  },
  "kernelspec": {
   "display_name": "Julia 1.10.7",
   "language": "julia",
   "name": "julia-1.10"
  },
  "language_info": {
   "file_extension": ".jl",
   "mimetype": "application/julia",
   "name": "julia",
   "version": "1.10.7"
  }
 },
 "nbformat": 4,
 "nbformat_minor": 5
}
