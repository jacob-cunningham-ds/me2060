{
 "cells": [
  {
   "cell_type": "markdown",
   "id": "bd959ae9-b94e-43cb-9c92-8824f36492dd",
   "metadata": {},
   "source": [
    "---\n",
    "title: Numerical Integration in Julia\n",
    "venue: Modules\n",
    "---"
   ]
  },
  {
   "cell_type": "markdown",
   "id": "5d9ded53",
   "metadata": {},
   "source": [
    "<b> QuadGK </b> package for 1D integration: https://juliamath.github.io/QuadGK.jl/stable/"
   ]
  },
  {
   "cell_type": "code",
   "execution_count": null,
   "id": "ee1913c8",
   "metadata": {},
   "outputs": [],
   "source": [
    "using QuadGK, Plots,Plotly, ApproxFun, SymbolicNumericIntegration"
   ]
  },
  {
   "cell_type": "markdown",
   "id": "b4aca920",
   "metadata": {},
   "source": [
    "Automatic numeric evaluation of a simple integral with adaptive <b> Gauss-Konrod </b> scheme, only need to specify function and interval boundaries: $\\int_{-1}^1 5x^4 \\ dx= \\left[x^5\\right]_{-1}^1=2$"
   ]
  },
  {
   "cell_type": "code",
   "execution_count": null,
   "id": "6b976c45",
   "metadata": {},
   "outputs": [],
   "source": [
    "f(x)=5x^4\n",
    "#Define endpoints of integration interval [a, b]\n",
    "interval_a=-1\n",
    "interval_b=1\n",
    "result, error = quadgk(f, interval_a, interval_b)"
   ]
  },
  {
   "cell_type": "markdown",
   "id": "f01bc244",
   "metadata": {},
   "source": [
    "Get quadrature points and weights for <b> Gauss quadrature </b>:"
   ]
  },
  {
   "cell_type": "code",
   "execution_count": null,
   "id": "cea91e79",
   "metadata": {},
   "outputs": [],
   "source": [
    "#Specify number of weights\n",
    "N=3\n",
    "x,weights=gauss(N, interval_a, interval_b)"
   ]
  },
  {
   "cell_type": "markdown",
   "id": "a797cf56",
   "metadata": {},
   "source": [
    "Calculate integral with quadrature points and weights: $\\int_a^b f(x) \\ dx \\approx \\sum w_i\\cdot  f(x_i)$ "
   ]
  },
  {
   "cell_type": "markdown",
   "id": "f8e52912",
   "metadata": {},
   "source": [
    "Visualize the Gauss quadrature points:"
   ]
  },
  {
   "cell_type": "code",
   "execution_count": null,
   "id": "9d8c325a",
   "metadata": {},
   "outputs": [],
   "source": [
    "xfine=(-1:0.01:1)\n",
    "trace1=Plotly.scatter(x=x,y=f.(x),mode=\"markers\",name=\"Quadrature points\")\n",
    "trace2=Plotly.scatter(x=xfine,y=f.(xfine),mode=\"line\",name=\"f(x)\")\n",
    "Plotly.plot([trace1,trace2])"
   ]
  },
  {
   "cell_type": "code",
   "execution_count": null,
   "id": "8dbeb5e3",
   "metadata": {},
   "outputs": [],
   "source": [
    "result=sum(weights.*f.(x))"
   ]
  },
  {
   "cell_type": "markdown",
   "id": "eda34113",
   "metadata": {},
   "source": [
    "<b> Number of Gauss quadrature points vs. accuracy for polynomials of different orders </b>"
   ]
  },
  {
   "cell_type": "code",
   "execution_count": null,
   "id": "be976882",
   "metadata": {},
   "outputs": [],
   "source": [
    "function gquad_error(order,NQuad)\n",
    "        #f(x) =x^order, order should be even\n",
    "        f(x)=(order+1)*x^order\n",
    "        x,weights=gauss(NQuad, interval_a, interval_b)\n",
    "        result=quadgk(f,interval_a,interval_b)[1]-sum(weights.*f.(x))\n",
    "end"
   ]
  },
  {
   "cell_type": "markdown",
   "id": "84da1c74",
   "metadata": {},
   "source": [
    "Let $n=2m$ be the even order of a polynomial function $f(x)=x^n$. Then a minimum of $n/2+1=m+1$ Gauss quadrature points are needed to compute the integral exactly on the interval $[-1,1]$ (to within machine precision). If $n=2m+1$ is odd, then $1$ single quadrature point is needed."
   ]
  },
  {
   "cell_type": "code",
   "execution_count": null,
   "id": "fd26a9ea",
   "metadata": {},
   "outputs": [],
   "source": [
    "N_order=16\n",
    "N_QPoints=8\n",
    "gquad_error(N_order,N_QPoints)"
   ]
  },
  {
   "cell_type": "markdown",
   "id": "fc7120e3",
   "metadata": {},
   "source": [
    "<b> Comparison with other integration schemes </b>"
   ]
  },
  {
   "cell_type": "markdown",
   "id": "28e23566",
   "metadata": {},
   "source": [
    "A general numerical integration scheme, also called quadrature, is based on the evaluation of the function $f(x)$ at a finite number of points $x_0=a,\\dots,x_n=b$ within the integration interval $[a,b]$. It  can be written as:\n",
    "\n",
    "\\begin{equation}\n",
    "    \\int_a^b f(x)\\, dx \\approx h \\sum_{i=0}^n w_if(x_i) =  h \\bigl[ w_0f(x_0)+w_1f(x_1)+\\cdots w_nf(x_n) \\bigr],\n",
    "  \\end{equation}"
   ]
  },
  {
   "cell_type": "markdown",
   "id": "ccf49092",
   "metadata": {},
   "source": [
    "<b> Example: Trapezoid formula </b> (https://tobydriscoll.net/fnc-julia/localapprox/integration.html) \n",
    "\n",
    "\\begin{split}\n",
    "  \\int_a^b f(x)\\, dx \\approx T_f(n) &= h\\left[\n",
    "    \\frac{1}{2}f(x_0) + f(x_1) + f(x_2) + \\cdots + f(x_{n-1}) +\n",
    "    \\frac{1}{2}f(x_n) \\right].\n",
    "\\end{split}"
   ]
  },
  {
   "cell_type": "code",
   "execution_count": null,
   "id": "55cf6bd8",
   "metadata": {},
   "outputs": [],
   "source": [
    " \"\"\"\n",
    "     trapezoid(f,a,b,n)\n",
    " \n",
    " Apply the trapezoid integration formula for integrand `f` over\n",
    " interval [`a`,`b`], broken up into `n` equal pieces. Returns\n",
    " the equidistant quadrature points, and the quadrature weights on these points (0.5 for the first and\n",
    " last point, one for all interior points)\n",
    "\"\"\"\n",
    " function trapezoid(f,a,b,n)\n",
    "    h = (b-a)/(n+1)\n",
    "    x = range(a,b,length=n+2)\n",
    "      weights =ones(1,n+2)*h\n",
    "      weights[1]*=0.5\n",
    "      weights[n+2]*=0.5\n",
    "   \n",
    "    return x,weights\n",
    "end"
   ]
  },
  {
   "cell_type": "markdown",
   "id": "840c691d",
   "metadata": {},
   "source": [
    "Compare Trapezoid scheme with Gauss quadrature  for $\\int_{-1}^1 7x^6 \\ dx =2 $ using the same number of interior points:"
   ]
  },
  {
   "cell_type": "code",
   "execution_count": null,
   "id": "b3149a58",
   "metadata": {},
   "outputs": [],
   "source": [
    "f6(x)=7*x^6"
   ]
  },
  {
   "cell_type": "code",
   "execution_count": null,
   "id": "c0ed2f73",
   "metadata": {},
   "outputs": [],
   "source": [
    "#Fix number of interior points for both Gauss and Trapezoid\n",
    "N_interior=16\n",
    "\n",
    "#Get quadrature points and weights for the trapezoid scheme\n",
    "x_t,weights_t =trapezoid(f6,interval_a,interval_b,N_interior)\n",
    "#Gauss\n",
    "x_g,weights_g=gauss(N_interior, interval_a, interval_b)\n",
    "\n",
    "xfine=(-1:0.01:1)\n",
    "trace0=Plotly.scatter(x=x_g,y=f6.(x_g),mode=\"markers\",name=\"Gauss quadrature points\")\n",
    "trace1=Plotly.scatter(x=x_t,y=f6.(x_t),mode=\"markers\",name=\"Trapezoid quadrature points\")\n",
    "trace2=Plotly.scatter(x=xfine,y=f6.(xfine),mode=\"line\",name=\"f(x)\")\n",
    "Plotly.plot([trace0,trace1,trace2])"
   ]
  },
  {
   "cell_type": "code",
   "execution_count": null,
   "id": "14796523",
   "metadata": {},
   "outputs": [],
   "source": [
    "#Trapezoid error\n",
    "result_trapezoid=sum(weights_t*f6.(x_t))\n",
    "error_trapezoid=abs(result_trapezoid-2.0)\n",
    "\n",
    "#Gauss error\n",
    "\n",
    "result_gauss=sum(weights_g.*f6.(x_g))\n",
    "error_gauss=abs(result_gauss-2.0)\n",
    "\n",
    "print(\"Using \", N_interior, \" quadrature points, error for Trapezoid is \",error_trapezoid,\", error for Gauss is \", error_gauss)"
   ]
  },
  {
   "cell_type": "markdown",
   "id": "9dc0723e",
   "metadata": {},
   "source": [
    "<b> Multi-dimensional integration: Cubature package</b> (https://github.com/JuliaMath/Cubature.jl) "
   ]
  },
  {
   "cell_type": "markdown",
   "id": "845a262e",
   "metadata": {},
   "source": [
    "<b> Example: </b> $\\int_{[0,1]\\times[0,1]} 4xy\\  dx dy = \\int_0^1 \\int_0^1 4xy\\ dx dy =\\int_0^1 \\left[2yx^2 \\right]_{x=0}^{x=1} dy = \\int_0^1 2y dy  = 1 $"
   ]
  },
  {
   "cell_type": "code",
   "execution_count": null,
   "id": "f7ea7654",
   "metadata": {},
   "outputs": [],
   "source": [
    "using Cubature"
   ]
  },
  {
   "cell_type": "code",
   "execution_count": null,
   "id": "a8570d43",
   "metadata": {},
   "outputs": [],
   "source": [
    "#Define function on 2D box\n",
    "f2d(x)=4*x[1]*x[2]\n",
    "\n",
    "#Define integration boundaries\n",
    "xmin=[0 0]\n",
    "xmax=[1 1]"
   ]
  },
  {
   "cell_type": "code",
   "execution_count": null,
   "id": "44a4441c",
   "metadata": {},
   "outputs": [],
   "source": [
    "result,error=hcubature(f2d, xmin, xmax)"
   ]
  },
  {
   "cell_type": "markdown",
   "id": "bb58651a",
   "metadata": {},
   "source": [
    "# In-Class Exercise"
   ]
  },
  {
   "cell_type": "markdown",
   "id": "2218c379",
   "metadata": {},
   "source": [
    "<b> Simpson's integration formula</b> with $n-1=2m+1, m\\geq 1 $ interior points is given by\n",
    "\n",
    "  \\begin{split}\n",
    "    \\int_a^b f(x)\\, dx \\approx  \\frac{h}{3}\\bigl[ &f(x_0) + 4f(x_1) + 2f(x_2) + 4f(x_3) + 2f(x_4) + \\cdots\\\\\n",
    "    &+ 2f(x_{n-2}) + 4f(x_{n-1}) + f(x_n) \\bigr].\n",
    "  \\end{split}\n",
    "  \n",
    "  "
   ]
  },
  {
   "cell_type": "markdown",
   "id": "e8a7975f",
   "metadata": {},
   "source": [
    "<b> Exercises 1 and 6 from https://tobydriscoll.net/fnc-julia/localapprox/integration.html#exercises): </b>\n",
    "For $m=5\\cdot 2^k, k=1,2,\\dots,10$, use $2m+1$ interior points to evaluate the following integrals using both the Trapezoid as well as the Simpson scheme. For each function, plot the error as a function of $k$ for each integration scheme.\n",
    "\n",
    " $I_1= \\int_0^1 x\\log(1+x)\\, dx = \\frac{1}{4}$\n",
    " \n",
    " $I_2 =\\int_0^1 \\sqrt{1-x^2}\\,\\, dx = \\frac{\\pi}{4}$\n"
   ]
  },
  {
   "cell_type": "code",
   "execution_count": null,
   "id": "b5460c5a",
   "metadata": {},
   "outputs": [],
   "source": []
  }
 ],
 "metadata": {
  "@webio": {
   "lastCommId": "e63ed6cbe9e043a8aa144f5c7e56f774",
   "lastKernelId": "45d4cb60-6304-41ce-ac16-3444b34ffce8"
  },
  "kernelspec": {
   "display_name": "Julia 1.10.7",
   "language": "julia",
   "name": "julia-1.10"
  },
  "language_info": {
   "file_extension": ".jl",
   "mimetype": "application/julia",
   "name": "julia",
   "version": "1.10.7"
  }
 },
 "nbformat": 4,
 "nbformat_minor": 5
}
