{
 "cells": [
  {
   "cell_type": "markdown",
   "id": "94bfd46c-930d-451a-a7b8-048208241f57",
   "metadata": {},
   "source": [
    "---\n",
    "title: Textbook Exercises\n",
    "venue: Modules\n",
    "---"
   ]
  },
  {
   "cell_type": "code",
   "execution_count": null,
   "id": "8486302b-3ed6-404a-91cf-969d16187ea3",
   "metadata": {},
   "outputs": [],
   "source": []
  }
 ],
 "metadata": {
  "kernelspec": {
   "display_name": "Julia 1.10.7",
   "language": "julia",
   "name": "julia-1.10"
  },
  "language_info": {
   "file_extension": ".jl",
   "mimetype": "application/julia",
   "name": "julia",
   "version": "1.10.7"
  }
 },
 "nbformat": 4,
 "nbformat_minor": 5
}
