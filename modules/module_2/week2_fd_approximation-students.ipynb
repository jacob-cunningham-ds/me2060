{
 "cells": [
  {
   "cell_type": "markdown",
   "id": "7ad47f43",
   "metadata": {},
   "source": [
    "---\n",
    "title: Roundoff and Truncation\n",
    "venue: Modules\n",
    "---"
   ]
  },
  {
   "cell_type": "markdown",
   "id": "bf560762-cf0d-4905-ba8c-f761774f3af7",
   "metadata": {},
   "source": [
    "The one-sided finite difference scheme to approximate derivatives is defined as\n",
    "\n",
    ":::{prf:definition} One-Sided Finite Difference\n",
    ":label: def-osfd\n",
    "$$\n",
    "\\begin{equation*}\n",
    "f_h(x)=\\frac{f(x+h)-f(x)}{h} \\approx f'(x),\n",
    "\\end{equation*}\n",
    "$$\n",
    "\n",
    "where $h$ is the stepsize.\n",
    ":::"
   ]
  },
  {
   "cell_type": "markdown",
   "id": "9f772e91",
   "metadata": {
    "editable": true,
    "slideshow": {
     "slide_type": ""
    },
    "tags": []
   },
   "source": [
    "If no roundoff error exists, then the accuracy of the scheme is determined solely by the truncation error:\n",
    "\n",
    "$$\n",
    "\\begin{equation*}\n",
    "  t(h)=|f'(x)-f_h(x)|=O(h)\n",
    "\\end{equation*}\n",
    "$$\n",
    "\n",
    "In the presence of roundoff errors, $x$ can not be represented exactly; instead, it is represented by the rounded value $\\tilde{x}$ with the associated roundoff error:\n",
    "\n",
    "$$\n",
    "\\begin{equation*}\n",
    "  r=|\\tilde{x}-x|.\n",
    "\\end{equation*}\n",
    "$$\n",
    "\n",
    "The total error of the finite difference approximation thus consists of both truncation error due to the scheme as well as the roundoff error:\n",
    "\n",
    "$$\n",
    "\\begin{equation*}\n",
    "  \\epsilon(h):=|f'(x)-f_h(\\tilde{x})|  = O(h) + r\\cdot O(h^{-1})\n",
    "\\end{equation*}\n",
    "$$\n",
    "\n",
    ":::{important}\n",
    "The truncation error decreases with decreasing step size $h$; however, the roundoff error increases with decreasing $h$.\n",
    ":::\n",
    "\n",
    "When $h$ is not too small, then the total error will decrease with smaller $h$. But when $h$ becomes small enough, the roundoff error will dominate the total error, which will start to increase."
   ]
  },
  {
   "cell_type": "markdown",
   "id": "6d001d8b-b012-487d-828d-8a0e05c08eab",
   "metadata": {},
   "source": [
    "**Task Description**\n",
    "\n",
    "1. Define 3 functions, one to evaluate the original function $f=\\sin(x)$, another one to calculate the exact derivative $f'$, and a third one to evaluate the finite difference approximation $f_h$ with step size $h$ at a fixed $x=x_0=1$.\n",
    "\n",
    "2. Define an array $h$ of step sizes starting from 1e-16, increasing by factor 10 to each preceding value, until reaching $h=0.1$. Calculate the array consisting of errors between the finite difference approximataion $f_h$ and the exact derivative $f'$.\n",
    "\n",
    "3. Plot the approximation error as a function of the step size $h$. Display your plot in log format."
   ]
  },
  {
   "cell_type": "code",
   "execution_count": 19,
   "id": "77e34838",
   "metadata": {},
   "outputs": [
    {
     "data": {
      "text/html": [
       "<iframe srcdoc=\"&lt;html&gt;&lt;head&gt;&lt;meta charset=&quot;utf-8&quot;&gt;&lt;meta name=&quot;viewport&quot; content=&quot;width=device-width, initial-scale=1&quot;&gt;&lt;meta name=&quot;description&quot; content=&quot;PlotlyLight.jl Plot&quot;&gt;&lt;title&gt;PlotlyLight.jl&lt;/title&gt;&lt;style&gt;html, body { padding: 0px; margin: 0px; }&lt;/style&gt;&lt;script src=&quot;https://cdn.plot.ly/plotly-2.35.2.min.js&quot; charset=&quot;utf-8&quot;&gt;&lt;/script&gt;&lt;/head&gt;&lt;body&gt;&lt;div class=&quot;plotlylight-parent&quot;&gt;&lt;div class=&quot;plotlylight-plot-div&quot; style=&quot;height:100vh; width:100vw&quot; id=&quot;plotlyx-ojyjkxtxkd&quot;&gt;&lt;/div&gt;&lt;script&gt;Plotly.newPlot(&quot;plotlyx-ojyjkxtxkd&quot;,[{&quot;type&quot;:&quot;scatter&quot;,&quot;x&quot;:[1.0,2.0,3.0,3.9999999999999996,5.0,6.0,6.999999999999999,8.0,9.0,10.000000000000002,11.000000000000002,11.999999999999998,12.999999999999998,14.0,15.0],&quot;y&quot;:[0.04293855333275065,0.004216324856270881,0.0004208255078128609,4.2074449519202695e-5,4.207362275021609e-6,4.2074680939307996e-7,4.1827692198737054e-8,2.9698852266335507e-9,5.2541266004624276e-8,5.848103423744533e-8,1.1687040588626019e-6,4.324021692170277e-5,0.0007339159003159068,0.00370697619818694,0.014809206444438505],&quot;mode&quot;:&quot;lines&quot;,&quot;name&quot;:&quot;f(1) - f_h(1)&quot;}],{&quot;template&quot;:{&quot;layout&quot;:{&quot;autotypenumbers&quot;:&quot;strict&quot;,&quot;colorway&quot;:[&quot;#636efa&quot;,&quot;#EF553B&quot;,&quot;#00cc96&quot;,&quot;#ab63fa&quot;,&quot;#FFA15A&quot;,&quot;#19d3f3&quot;,&quot;#FF6692&quot;,&quot;#B6E880&quot;,&quot;#FF97FF&quot;,&quot;#FECB52&quot;],&quot;font&quot;:{&quot;color&quot;:&quot;#f2f5fa&quot;},&quot;hovermode&quot;:&quot;closest&quot;,&quot;hoverlabel&quot;:{&quot;align&quot;:&quot;left&quot;},&quot;paper_bgcolor&quot;:&quot;rgb(17,17,17)&quot;,&quot;plot_bgcolor&quot;:&quot;rgb(17,17,17)&quot;,&quot;polar&quot;:{&quot;bgcolor&quot;:&quot;rgb(17,17,17)&quot;,&quot;angularaxis&quot;:{&quot;gridcolor&quot;:&quot;#506784&quot;,&quot;linecolor&quot;:&quot;#506784&quot;,&quot;ticks&quot;:&quot;&quot;},&quot;radialaxis&quot;:{&quot;gridcolor&quot;:&quot;#506784&quot;,&quot;linecolor&quot;:&quot;#506784&quot;,&quot;ticks&quot;:&quot;&quot;}},&quot;ternary&quot;:{&quot;bgcolor&quot;:&quot;rgb(17,17,17)&quot;,&quot;aaxis&quot;:{&quot;gridcolor&quot;:&quot;#506784&quot;,&quot;linecolor&quot;:&quot;#506784&quot;,&quot;ticks&quot;:&quot;&quot;},&quot;baxis&quot;:{&quot;gridcolor&quot;:&quot;#506784&quot;,&quot;linecolor&quot;:&quot;#506784&quot;,&quot;ticks&quot;:&quot;&quot;},&quot;caxis&quot;:{&quot;gridcolor&quot;:&quot;#506784&quot;,&quot;linecolor&quot;:&quot;#506784&quot;,&quot;ticks&quot;:&quot;&quot;}},&quot;coloraxis&quot;:{&quot;colorbar&quot;:{&quot;outlinewidth&quot;:0,&quot;ticks&quot;:&quot;&quot;}},&quot;colorscale&quot;:{&quot;sequential&quot;:[[0,&quot;#0d0887&quot;],[0.1111111111111111,&quot;#46039f&quot;],[0.2222222222222222,&quot;#7201a8&quot;],[0.3333333333333333,&quot;#9c179e&quot;],[0.4444444444444444,&quot;#bd3786&quot;],[0.5555555555555556,&quot;#d8576b&quot;],[0.6666666666666666,&quot;#ed7953&quot;],[0.7777777777777778,&quot;#fb9f3a&quot;],[0.8888888888888888,&quot;#fdca26&quot;],[1,&quot;#f0f921&quot;]],&quot;sequentialminus&quot;:[[0,&quot;#0d0887&quot;],[0.1111111111111111,&quot;#46039f&quot;],[0.2222222222222222,&quot;#7201a8&quot;],[0.3333333333333333,&quot;#9c179e&quot;],[0.4444444444444444,&quot;#bd3786&quot;],[0.5555555555555556,&quot;#d8576b&quot;],[0.6666666666666666,&quot;#ed7953&quot;],[0.7777777777777778,&quot;#fb9f3a&quot;],[0.8888888888888888,&quot;#fdca26&quot;],[1,&quot;#f0f921&quot;]],&quot;diverging&quot;:[[0,&quot;#8e0152&quot;],[0.1,&quot;#c51b7d&quot;],[0.2,&quot;#de77ae&quot;],[0.3,&quot;#f1b6da&quot;],[0.4,&quot;#fde0ef&quot;],[0.5,&quot;#f7f7f7&quot;],[0.6,&quot;#e6f5d0&quot;],[0.7,&quot;#b8e186&quot;],[0.8,&quot;#7fbc41&quot;],[0.9,&quot;#4d9221&quot;],[1,&quot;#276419&quot;]]},&quot;xaxis&quot;:{&quot;gridcolor&quot;:&quot;#283442&quot;,&quot;linecolor&quot;:&quot;#506784&quot;,&quot;ticks&quot;:&quot;&quot;,&quot;title&quot;:{&quot;standoff&quot;:15},&quot;zerolinecolor&quot;:&quot;#283442&quot;,&quot;automargin&quot;:true,&quot;zerolinewidth&quot;:2},&quot;yaxis&quot;:{&quot;gridcolor&quot;:&quot;#283442&quot;,&quot;linecolor&quot;:&quot;#506784&quot;,&quot;ticks&quot;:&quot;&quot;,&quot;title&quot;:{&quot;standoff&quot;:15},&quot;zerolinecolor&quot;:&quot;#283442&quot;,&quot;automargin&quot;:true,&quot;zerolinewidth&quot;:2},&quot;scene&quot;:{&quot;xaxis&quot;:{&quot;backgroundcolor&quot;:&quot;rgb(17,17,17)&quot;,&quot;gridcolor&quot;:&quot;#506784&quot;,&quot;linecolor&quot;:&quot;#506784&quot;,&quot;showbackground&quot;:true,&quot;ticks&quot;:&quot;&quot;,&quot;zerolinecolor&quot;:&quot;#C8D4E3&quot;,&quot;gridwidth&quot;:2},&quot;yaxis&quot;:{&quot;backgroundcolor&quot;:&quot;rgb(17,17,17)&quot;,&quot;gridcolor&quot;:&quot;#506784&quot;,&quot;linecolor&quot;:&quot;#506784&quot;,&quot;showbackground&quot;:true,&quot;ticks&quot;:&quot;&quot;,&quot;zerolinecolor&quot;:&quot;#C8D4E3&quot;,&quot;gridwidth&quot;:2},&quot;zaxis&quot;:{&quot;backgroundcolor&quot;:&quot;rgb(17,17,17)&quot;,&quot;gridcolor&quot;:&quot;#506784&quot;,&quot;linecolor&quot;:&quot;#506784&quot;,&quot;showbackground&quot;:true,&quot;ticks&quot;:&quot;&quot;,&quot;zerolinecolor&quot;:&quot;#C8D4E3&quot;,&quot;gridwidth&quot;:2}},&quot;shapedefaults&quot;:{&quot;line&quot;:{&quot;color&quot;:&quot;#f2f5fa&quot;}},&quot;annotationdefaults&quot;:{&quot;arrowcolor&quot;:&quot;#f2f5fa&quot;,&quot;arrowhead&quot;:0,&quot;arrowwidth&quot;:1},&quot;geo&quot;:{&quot;bgcolor&quot;:&quot;rgb(17,17,17)&quot;,&quot;landcolor&quot;:&quot;rgb(17,17,17)&quot;,&quot;subunitcolor&quot;:&quot;#506784&quot;,&quot;showland&quot;:true,&quot;showlakes&quot;:true,&quot;lakecolor&quot;:&quot;rgb(17,17,17)&quot;},&quot;title&quot;:{&quot;x&quot;:0.05},&quot;updatemenudefaults&quot;:{&quot;bgcolor&quot;:&quot;#506784&quot;,&quot;borderwidth&quot;:0},&quot;sliderdefaults&quot;:{&quot;bgcolor&quot;:&quot;#C8D4E3&quot;,&quot;borderwidth&quot;:1,&quot;bordercolor&quot;:&quot;rgb(17,17,17)&quot;,&quot;tickwidth&quot;:0},&quot;mapbox&quot;:{&quot;style&quot;:&quot;dark&quot;}},&quot;data&quot;:{&quot;histogram2dcontour&quot;:[{&quot;type&quot;:&quot;histogram2dcontour&quot;,&quot;colorbar&quot;:{&quot;outlinewidth&quot;:0,&quot;ticks&quot;:&quot;&quot;},&quot;colorscale&quot;:[[0,&quot;#0d0887&quot;],[0.1111111111111111,&quot;#46039f&quot;],[0.2222222222222222,&quot;#7201a8&quot;],[0.3333333333333333,&quot;#9c179e&quot;],[0.4444444444444444,&quot;#bd3786&quot;],[0.5555555555555556,&quot;#d8576b&quot;],[0.6666666666666666,&quot;#ed7953&quot;],[0.7777777777777778,&quot;#fb9f3a&quot;],[0.8888888888888888,&quot;#fdca26&quot;],[1,&quot;#f0f921&quot;]]}],&quot;choropleth&quot;:[{&quot;type&quot;:&quot;choropleth&quot;,&quot;colorbar&quot;:{&quot;outlinewidth&quot;:0,&quot;ticks&quot;:&quot;&quot;}}],&quot;histogram2d&quot;:[{&quot;type&quot;:&quot;histogram2d&quot;,&quot;colorbar&quot;:{&quot;outlinewidth&quot;:0,&quot;ticks&quot;:&quot;&quot;},&quot;colorscale&quot;:[[0,&quot;#0d0887&quot;],[0.1111111111111111,&quot;#46039f&quot;],[0.2222222222222222,&quot;#7201a8&quot;],[0.3333333333333333,&quot;#9c179e&quot;],[0.4444444444444444,&quot;#bd3786&quot;],[0.5555555555555556,&quot;#d8576b&quot;],[0.6666666666666666,&quot;#ed7953&quot;],[0.7777777777777778,&quot;#fb9f3a&quot;],[0.8888888888888888,&quot;#fdca26&quot;],[1,&quot;#f0f921&quot;]]}],&quot;heatmap&quot;:[{&quot;type&quot;:&quot;heatmap&quot;,&quot;colorbar&quot;:{&quot;outlinewidth&quot;:0,&quot;ticks&quot;:&quot;&quot;},&quot;colorscale&quot;:[[0,&quot;#0d0887&quot;],[0.1111111111111111,&quot;#46039f&quot;],[0.2222222222222222,&quot;#7201a8&quot;],[0.3333333333333333,&quot;#9c179e&quot;],[0.4444444444444444,&quot;#bd3786&quot;],[0.5555555555555556,&quot;#d8576b&quot;],[0.6666666666666666,&quot;#ed7953&quot;],[0.7777777777777778,&quot;#fb9f3a&quot;],[0.8888888888888888,&quot;#fdca26&quot;],[1,&quot;#f0f921&quot;]]}],&quot;contourcarpet&quot;:[{&quot;type&quot;:&quot;contourcarpet&quot;,&quot;colorbar&quot;:{&quot;outlinewidth&quot;:0,&quot;ticks&quot;:&quot;&quot;}}],&quot;contour&quot;:[{&quot;type&quot;:&quot;contour&quot;,&quot;colorbar&quot;:{&quot;outlinewidth&quot;:0,&quot;ticks&quot;:&quot;&quot;},&quot;colorscale&quot;:[[0,&quot;#0d0887&quot;],[0.1111111111111111,&quot;#46039f&quot;],[0.2222222222222222,&quot;#7201a8&quot;],[0.3333333333333333,&quot;#9c179e&quot;],[0.4444444444444444,&quot;#bd3786&quot;],[0.5555555555555556,&quot;#d8576b&quot;],[0.6666666666666666,&quot;#ed7953&quot;],[0.7777777777777778,&quot;#fb9f3a&quot;],[0.8888888888888888,&quot;#fdca26&quot;],[1,&quot;#f0f921&quot;]]}],&quot;surface&quot;:[{&quot;type&quot;:&quot;surface&quot;,&quot;colorbar&quot;:{&quot;outlinewidth&quot;:0,&quot;ticks&quot;:&quot;&quot;},&quot;colorscale&quot;:[[0,&quot;#0d0887&quot;],[0.1111111111111111,&quot;#46039f&quot;],[0.2222222222222222,&quot;#7201a8&quot;],[0.3333333333333333,&quot;#9c179e&quot;],[0.4444444444444444,&quot;#bd3786&quot;],[0.5555555555555556,&quot;#d8576b&quot;],[0.6666666666666666,&quot;#ed7953&quot;],[0.7777777777777778,&quot;#fb9f3a&quot;],[0.8888888888888888,&quot;#fdca26&quot;],[1,&quot;#f0f921&quot;]]}],&quot;mesh3d&quot;:[{&quot;type&quot;:&quot;mesh3d&quot;,&quot;colorbar&quot;:{&quot;outlinewidth&quot;:0,&quot;ticks&quot;:&quot;&quot;}}],&quot;scatter&quot;:[{&quot;marker&quot;:{&quot;line&quot;:{&quot;color&quot;:&quot;#283442&quot;}},&quot;type&quot;:&quot;scatter&quot;}],&quot;parcoords&quot;:[{&quot;type&quot;:&quot;parcoords&quot;,&quot;line&quot;:{&quot;colorbar&quot;:{&quot;outlinewidth&quot;:0,&quot;ticks&quot;:&quot;&quot;}}}],&quot;scatterpolargl&quot;:[{&quot;type&quot;:&quot;scatterpolargl&quot;,&quot;marker&quot;:{&quot;colorbar&quot;:{&quot;outlinewidth&quot;:0,&quot;ticks&quot;:&quot;&quot;}}}],&quot;bar&quot;:[{&quot;error_x&quot;:{&quot;color&quot;:&quot;#f2f5fa&quot;},&quot;error_y&quot;:{&quot;color&quot;:&quot;#f2f5fa&quot;},&quot;marker&quot;:{&quot;line&quot;:{&quot;color&quot;:&quot;rgb(17,17,17)&quot;,&quot;width&quot;:0.5},&quot;pattern&quot;:{&quot;fillmode&quot;:&quot;overlay&quot;,&quot;size&quot;:10,&quot;solidity&quot;:0.2}},&quot;type&quot;:&quot;bar&quot;}],&quot;scattergeo&quot;:[{&quot;type&quot;:&quot;scattergeo&quot;,&quot;marker&quot;:{&quot;colorbar&quot;:{&quot;outlinewidth&quot;:0,&quot;ticks&quot;:&quot;&quot;}}}],&quot;scatterpolar&quot;:[{&quot;type&quot;:&quot;scatterpolar&quot;,&quot;marker&quot;:{&quot;colorbar&quot;:{&quot;outlinewidth&quot;:0,&quot;ticks&quot;:&quot;&quot;}}}],&quot;histogram&quot;:[{&quot;marker&quot;:{&quot;pattern&quot;:{&quot;fillmode&quot;:&quot;overlay&quot;,&quot;size&quot;:10,&quot;solidity&quot;:0.2}},&quot;type&quot;:&quot;histogram&quot;}],&quot;scattergl&quot;:[{&quot;marker&quot;:{&quot;line&quot;:{&quot;color&quot;:&quot;#283442&quot;}},&quot;type&quot;:&quot;scattergl&quot;}],&quot;scatter3d&quot;:[{&quot;type&quot;:&quot;scatter3d&quot;,&quot;line&quot;:{&quot;colorbar&quot;:{&quot;outlinewidth&quot;:0,&quot;ticks&quot;:&quot;&quot;}},&quot;marker&quot;:{&quot;colorbar&quot;:{&quot;outlinewidth&quot;:0,&quot;ticks&quot;:&quot;&quot;}}}],&quot;scattermap&quot;:[{&quot;type&quot;:&quot;scattermap&quot;,&quot;marker&quot;:{&quot;colorbar&quot;:{&quot;outlinewidth&quot;:0,&quot;ticks&quot;:&quot;&quot;}}}],&quot;scattermapbox&quot;:[{&quot;type&quot;:&quot;scattermapbox&quot;,&quot;marker&quot;:{&quot;colorbar&quot;:{&quot;outlinewidth&quot;:0,&quot;ticks&quot;:&quot;&quot;}}}],&quot;scatterternary&quot;:[{&quot;type&quot;:&quot;scatterternary&quot;,&quot;marker&quot;:{&quot;colorbar&quot;:{&quot;outlinewidth&quot;:0,&quot;ticks&quot;:&quot;&quot;}}}],&quot;scattercarpet&quot;:[{&quot;type&quot;:&quot;scattercarpet&quot;,&quot;marker&quot;:{&quot;colorbar&quot;:{&quot;outlinewidth&quot;:0,&quot;ticks&quot;:&quot;&quot;}}}],&quot;carpet&quot;:[{&quot;aaxis&quot;:{&quot;endlinecolor&quot;:&quot;#A2B1C6&quot;,&quot;gridcolor&quot;:&quot;#506784&quot;,&quot;linecolor&quot;:&quot;#506784&quot;,&quot;minorgridcolor&quot;:&quot;#506784&quot;,&quot;startlinecolor&quot;:&quot;#A2B1C6&quot;},&quot;baxis&quot;:{&quot;endlinecolor&quot;:&quot;#A2B1C6&quot;,&quot;gridcolor&quot;:&quot;#506784&quot;,&quot;linecolor&quot;:&quot;#506784&quot;,&quot;minorgridcolor&quot;:&quot;#506784&quot;,&quot;startlinecolor&quot;:&quot;#A2B1C6&quot;},&quot;type&quot;:&quot;carpet&quot;}],&quot;table&quot;:[{&quot;cells&quot;:{&quot;fill&quot;:{&quot;color&quot;:&quot;#506784&quot;},&quot;line&quot;:{&quot;color&quot;:&quot;rgb(17,17,17)&quot;}},&quot;header&quot;:{&quot;fill&quot;:{&quot;color&quot;:&quot;#2a3f5f&quot;},&quot;line&quot;:{&quot;color&quot;:&quot;rgb(17,17,17)&quot;}},&quot;type&quot;:&quot;table&quot;}],&quot;barpolar&quot;:[{&quot;marker&quot;:{&quot;line&quot;:{&quot;color&quot;:&quot;rgb(17,17,17)&quot;,&quot;width&quot;:0.5},&quot;pattern&quot;:{&quot;fillmode&quot;:&quot;overlay&quot;,&quot;size&quot;:10,&quot;solidity&quot;:0.2}},&quot;type&quot;:&quot;barpolar&quot;}],&quot;pie&quot;:[{&quot;automargin&quot;:true,&quot;type&quot;:&quot;pie&quot;}]}},&quot;title&quot;:{&quot;text&quot;:&quot;FD numerical error for f(x) = sin(x), f&#39;(1) = cos(1)&quot;,&quot;x&quot;:0.5},&quot;xaxis&quot;:{&quot;title&quot;:{&quot;text&quot;:&quot;h&quot;},&quot;type&quot;:&quot;log&quot;},&quot;yaxis&quot;:{&quot;title&quot;:{&quot;text&quot;:&quot;ϵ&quot;},&quot;type&quot;:&quot;log&quot;}},{&quot;responsive&quot;:true,&quot;displaylogo&quot;:false})&lt;/script&gt;&lt;/div&gt;&lt;/body&gt;&lt;/html&gt;\" style=\"display:block; border:none; min-height:350px; min-width:350px; width:100%; height:100%\"></iframe>"
      ],
      "text/plain": [
       "PlotlyLight.Plot(EasyConfig.Config[EasyConfig.Config(:type => \"scatter\", :x => [1.0, 2.0, 3.0, 3.9999999999999996, 5.0, 6.0, 6.999999999999999, 8.0, 9.0, 10.000000000000002, 11.000000000000002, 11.999999999999998, 12.999999999999998, 14.0, 15.0], :y => [0.04293855333275065, 0.004216324856270881, 0.0004208255078128609, 4.2074449519202695e-5, 4.207362275021609e-6, 4.2074680939307996e-7, 4.1827692198737054e-8, 2.9698852266335507e-9, 5.2541266004624276e-8, 5.848103423744533e-8, 1.1687040588626019e-6, 4.324021692170277e-5, 0.0007339159003159068, 0.00370697619818694, 0.014809206444438505], :mode => \"lines\", :name => \"f(1) - f_h(1)\")], EasyConfig.Config(:title => EasyConfig.Config(:text => \"FD numerical error for f(x) = sin(x), f'(1) = cos(1)\", :x => 0.5), :xaxis => EasyConfig.Config(:title => EasyConfig.Config(:text => \"h\"), :type => \"log\"), :yaxis => EasyConfig.Config(:title => EasyConfig.Config(:text => \"ϵ\"), :type => \"log\")), EasyConfig.Config())"
      ]
     },
     "metadata": {},
     "output_type": "display_data"
    }
   ],
   "source": [
    "import PlotlyLight as plt\n",
    "plt.preset.template.plotly_dark!()\n",
    "\n",
    "f(x) = sin.(x)\n",
    "f_derivative(x) = cos.(x)\n",
    "f_fd_1(h) = (f.(1 + h) - f(1.0)) ./ h\n",
    "\n",
    "n = LinRange(1, 15, 15)\n",
    "h = 10.0 .^(-n)\n",
    "\n",
    "# Plot FD approximation error\n",
    "p = plt.plot(\n",
    "    x = n,\n",
    "    y = abs.(f_fd_1.(h) .-f_derivative.(1.0)),\n",
    "    type = \"scatter\",\n",
    "    mode = \"lines\",\n",
    "    name = \"f(1) - f_h(1)\"\n",
    ")\n",
    "\n",
    "p.layout.title.text = \"FD numerical error for f(x) = sin(x), f'(1) = cos(1)\"\n",
    "p.layout.title.x = 0.5\n",
    "p.layout.xaxis.title.text = \"h\"\n",
    "p.layout.xaxis.type = \"log\"\n",
    "p.layout.yaxis.title.text = \"ϵ\"\n",
    "p.layout.yaxis.type = \"log\"\n",
    "\n",
    "display(p)\n"
   ]
  },
  {
   "cell_type": "code",
   "execution_count": null,
   "id": "468db379-33ab-46d1-9261-136d11707cb3",
   "metadata": {},
   "outputs": [],
   "source": []
  }
 ],
 "metadata": {
  "@webio": {
   "lastCommId": "15266ca5f0e241d3856f7dd14c81be56",
   "lastKernelId": "9016851b-e8f5-4ffc-9eb3-520a7323a01d"
  },
  "kernelspec": {
   "display_name": "Julia 1.10.7",
   "language": "julia",
   "name": "julia-1.10"
  },
  "language_info": {
   "file_extension": ".jl",
   "mimetype": "application/julia",
   "name": "julia",
   "version": "1.10.7"
  }
 },
 "nbformat": 4,
 "nbformat_minor": 5
}
