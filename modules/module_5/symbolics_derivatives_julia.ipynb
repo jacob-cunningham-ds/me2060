{
 "cells": [
  {
   "cell_type": "markdown",
   "id": "7b0a3822-4714-4457-90b3-a11f619efa5d",
   "metadata": {},
   "source": [
    "---\n",
    "title: Symbolic Algebra in Julia\n",
    "venue: Modules\n",
    "---"
   ]
  },
  {
   "cell_type": "markdown",
   "id": "2431c084",
   "metadata": {},
   "source": [
    "Package for symbolic manipulation such as standard algebra and differentation: https://symbolics.juliasymbolics.org/stable/\n",
    "\n"
   ]
  },
  {
   "cell_type": "code",
   "execution_count": 1,
   "id": "ee33ca94",
   "metadata": {
    "tags": []
   },
   "outputs": [],
   "source": [
    "import Symbolics as sym"
   ]
  },
  {
   "cell_type": "markdown",
   "id": "9ab87f13",
   "metadata": {},
   "source": [
    "Create symbolic variables $x,y$, and define differential operators"
   ]
  },
  {
   "cell_type": "code",
   "execution_count": 3,
   "id": "3f44505a",
   "metadata": {
    "tags": []
   },
   "outputs": [
    {
     "data": {
      "text/plain": [
       "Differential(t) ∘ Differential(t)"
      ]
     },
     "execution_count": 3,
     "metadata": {},
     "output_type": "execute_result"
    }
   ],
   "source": [
    "sym.@variables t\n",
    "D = sym.Differential(t) # First order\n",
    "D2 = sym.Differential(t)^2 # Second order"
   ]
  },
  {
   "cell_type": "markdown",
   "id": "dfdeedf1",
   "metadata": {},
   "source": [
    "Compute derivatives  of $z(t)=t+\\frac{t^2}{3}$ in abstract operator form:"
   ]
  },
  {
   "cell_type": "code",
   "execution_count": 4,
   "id": "e047ed8c",
   "metadata": {
    "tags": []
   },
   "outputs": [
    {
     "data": {
      "text/latex": [
       "$$ \\begin{equation}\n",
       "\\frac{\\mathrm{d}}{\\mathrm{d}t} \\frac{\\mathrm{d}}{\\mathrm{d}t} \\left( t + 0.33333 t^{3} \\right)\n",
       "\\end{equation}\n",
       " $$"
      ],
      "text/plain": [
       "Differential(t)(Differential(t)(t + 0.3333333333333333(t^3)))"
      ]
     },
     "execution_count": 4,
     "metadata": {},
     "output_type": "execute_result"
    }
   ],
   "source": [
    "z = t + (1 / 3) * t^3\n",
    "D_op1 = D(z)\n",
    "D_op2= D2(z)"
   ]
  },
  {
   "cell_type": "markdown",
   "id": "66f809f3",
   "metadata": {},
   "source": [
    "Evaluate  derivative algebraically:"
   ]
  },
  {
   "cell_type": "code",
   "execution_count": 5,
   "id": "3457c4de-5bbc-4c23-bfdd-7bbaa2caecb2",
   "metadata": {
    "tags": []
   },
   "outputs": [
    {
     "name": "stdout",
     "output_type": "stream",
     "text": [
      "First derivative z'(t) is:\n"
     ]
    },
    {
     "data": {
      "text/latex": [
       "$$ \\begin{equation}\n",
       "1 + t^{2}\n",
       "\\end{equation}\n",
       " $$"
      ],
      "text/plain": [
       "1 + t^2"
      ]
     },
     "execution_count": 5,
     "metadata": {},
     "output_type": "execute_result"
    }
   ],
   "source": [
    "println(\"First derivative z'(t) is:\")\n",
    "ex1= sym.expand_derivatives(D_op1)"
   ]
  },
  {
   "cell_type": "code",
   "execution_count": 6,
   "id": "dacab3eb-1cdc-462a-8db6-2ef7dc997e05",
   "metadata": {
    "tags": []
   },
   "outputs": [
    {
     "name": "stdout",
     "output_type": "stream",
     "text": [
      "Second derivative z''(t) is:\n"
     ]
    },
    {
     "data": {
      "text/latex": [
       "$$ \\begin{equation}\n",
       "2 t\n",
       "\\end{equation}\n",
       " $$"
      ],
      "text/plain": [
       "2t"
      ]
     },
     "execution_count": 6,
     "metadata": {},
     "output_type": "execute_result"
    }
   ],
   "source": [
    "println(\"Second derivative z''(t) is:\")\n",
    "ex2 = sym.expand_derivatives(D_op2)"
   ]
  },
  {
   "cell_type": "markdown",
   "id": "d3c6107e",
   "metadata": {},
   "source": [
    "<b>Substitute a numerical value into the above expression: </b>"
   ]
  },
  {
   "cell_type": "code",
   "execution_count": 8,
   "id": "bb367518",
   "metadata": {
    "tags": []
   },
   "outputs": [
    {
     "name": "stdout",
     "output_type": "stream",
     "text": [
      "Evaluate second derivative z''(t) at t=1.5:\n"
     ]
    },
    {
     "data": {
      "text/latex": [
       "$$ \\begin{equation}\n",
       "3\n",
       "\\end{equation}\n",
       " $$"
      ],
      "text/plain": [
       "3.0"
      ]
     },
     "execution_count": 8,
     "metadata": {},
     "output_type": "execute_result"
    }
   ],
   "source": [
    "println(\"Evaluate second derivative z''(t) at t=1.5:\")\n",
    "sym.substitute(ex2, Dict(t=>1.5))"
   ]
  }
 ],
 "metadata": {
  "kernelspec": {
   "display_name": "Julia 1.10.7",
   "language": "julia",
   "name": "julia-1.10"
  },
  "language_info": {
   "file_extension": ".jl",
   "mimetype": "application/julia",
   "name": "julia",
   "version": "1.10.7"
  }
 },
 "nbformat": 4,
 "nbformat_minor": 5
}
