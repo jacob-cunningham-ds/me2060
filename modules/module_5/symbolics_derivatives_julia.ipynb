{
 "cells": [
  {
   "cell_type": "markdown",
   "id": "7b0a3822-4714-4457-90b3-a11f619efa5d",
   "metadata": {},
   "source": [
    "---\n",
    "title: Symbolic Algebra in Julia\n",
    "venue: Modules\n",
    "---"
   ]
  },
  {
   "cell_type": "markdown",
   "id": "2431c084",
   "metadata": {},
   "source": [
    "Package for symbolic manipulation such as standard algebra and differentation: https://symbolics.juliasymbolics.org/stable/\n",
    "\n"
   ]
  },
  {
   "cell_type": "code",
   "execution_count": null,
   "id": "ee33ca94",
   "metadata": {
    "tags": []
   },
   "outputs": [],
   "source": [
    "using Symbolics\n"
   ]
  },
  {
   "cell_type": "markdown",
   "id": "9ab87f13",
   "metadata": {},
   "source": [
    "Create symbolic variables $x,y$, and define differential operators"
   ]
  },
  {
   "cell_type": "code",
   "execution_count": null,
   "id": "3f44505a",
   "metadata": {
    "tags": []
   },
   "outputs": [],
   "source": [
    "@variables t\n",
    "D = Differential(t) #First order\n",
    "D2=Differential(t)^2 #Second order"
   ]
  },
  {
   "cell_type": "markdown",
   "id": "dfdeedf1",
   "metadata": {},
   "source": [
    "Compute derivatives  of $z(t)=t+\\frac{t^2}{3}$ in abstract operator form:"
   ]
  },
  {
   "cell_type": "code",
   "execution_count": null,
   "id": "e047ed8c",
   "metadata": {
    "tags": []
   },
   "outputs": [],
   "source": [
    "z = t + (1/3)t^3\n",
    "D_op1=D(z)\n",
    "D_op2=D2(z)"
   ]
  },
  {
   "cell_type": "markdown",
   "id": "66f809f3",
   "metadata": {},
   "source": [
    "Evaluate  derivative algebraically:"
   ]
  },
  {
   "cell_type": "code",
   "execution_count": null,
   "id": "3457c4de-5bbc-4c23-bfdd-7bbaa2caecb2",
   "metadata": {
    "tags": []
   },
   "outputs": [],
   "source": [
    "println(\"First derivative z'(t) is:\")\n",
    "ex1=expand_derivatives(D_op1)"
   ]
  },
  {
   "cell_type": "code",
   "execution_count": null,
   "id": "dacab3eb-1cdc-462a-8db6-2ef7dc997e05",
   "metadata": {
    "tags": []
   },
   "outputs": [],
   "source": [
    "println(\"Second derivative z''(t) is:\")\n",
    "ex2=expand_derivatives(D_op2)"
   ]
  },
  {
   "cell_type": "markdown",
   "id": "d3c6107e",
   "metadata": {},
   "source": [
    "<b>Substitute a numerical value into the above expression: </b>"
   ]
  },
  {
   "cell_type": "code",
   "execution_count": null,
   "id": "bb367518",
   "metadata": {
    "tags": []
   },
   "outputs": [],
   "source": [
    "println(\"Evaluate second derivative z''(t) at t=1.5:\")\n",
    "substitute(ex2,Dict(t=>1.5))"
   ]
  },
  {
   "cell_type": "code",
   "execution_count": null,
   "id": "5859658a",
   "metadata": {},
   "outputs": [],
   "source": []
  }
 ],
 "metadata": {
  "kernelspec": {
   "display_name": "Julia 1.10.7",
   "language": "julia",
   "name": "julia-1.10"
  },
  "language_info": {
   "file_extension": ".jl",
   "mimetype": "application/julia",
   "name": "julia",
   "version": "1.10.7"
  }
 },
 "nbformat": 4,
 "nbformat_minor": 5
}
