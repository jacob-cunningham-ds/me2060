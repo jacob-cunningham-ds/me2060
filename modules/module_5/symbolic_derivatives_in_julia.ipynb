{
 "cells": [
  {
   "cell_type": "markdown",
   "id": "dee9f58b-b896-40ea-a12d-42340418a33d",
   "metadata": {},
   "source": [
    "---\n",
    "title: Symbolic Derivatives in Julia\n",
    "venue: Modules\n",
    "---"
   ]
  },
  {
   "cell_type": "markdown",
   "id": "2431c084",
   "metadata": {},
   "source": [
    "Package for symbolic manipulation such as standard algebra and differentation: https://symbolics.juliasymbolics.org/stable/\n",
    "\n"
   ]
  },
  {
   "cell_type": "code",
   "execution_count": 2,
   "id": "ee33ca94",
   "metadata": {},
   "outputs": [],
   "source": [
    "using Symbolics\n"
   ]
  },
  {
   "cell_type": "markdown",
   "id": "9ab87f13",
   "metadata": {},
   "source": [
    "Create symbolic variables $x,y$, and define differential operators"
   ]
  },
  {
   "cell_type": "code",
   "execution_count": 25,
   "id": "3f44505a",
   "metadata": {},
   "outputs": [
    {
     "data": {
      "text/plain": [
       "Differential(t) ∘ Differential(t)"
      ]
     },
     "execution_count": 25,
     "metadata": {},
     "output_type": "execute_result"
    }
   ],
   "source": [
    "@variables t\n",
    "D = Differential(t) #First order\n",
    "D2=Differential(t)^2 #Second order"
   ]
  },
  {
   "cell_type": "markdown",
   "id": "dfdeedf1",
   "metadata": {},
   "source": [
    "Compute derivatives  of $z(t)=t+\\frac{t^2}{2}$ in abstract operator form:"
   ]
  },
  {
   "cell_type": "code",
   "execution_count": 21,
   "id": "e047ed8c",
   "metadata": {},
   "outputs": [
    {
     "data": {
      "text/latex": [
       "$$ \\begin{equation}\n",
       "\\frac{\\mathrm{d}^{2}}{\\mathrm{d}t^{2}} \\left( t + 0.3333333333333333 t^{3} \\right)\n",
       "\\end{equation}\n",
       " $$"
      ],
      "text/plain": [
       "Differential(t)(Differential(t)(t + 0.3333333333333333(t^3)))"
      ]
     },
     "execution_count": 21,
     "metadata": {},
     "output_type": "execute_result"
    }
   ],
   "source": [
    "z = t + (1/3)t^3\n",
    "D_op1=D(z)\n",
    "D_op2=D2(z)"
   ]
  },
  {
   "cell_type": "markdown",
   "id": "66f809f3",
   "metadata": {},
   "source": [
    "Evaluate  derivative algebraically:"
   ]
  },
  {
   "cell_type": "code",
   "execution_count": 22,
   "id": "522675e9",
   "metadata": {},
   "outputs": [
    {
     "data": {
      "text/latex": [
       "$$ \\begin{equation}\n",
       "2 t\n",
       "\\end{equation}\n",
       " $$"
      ],
      "text/plain": [
       "2t"
      ]
     },
     "execution_count": 22,
     "metadata": {},
     "output_type": "execute_result"
    }
   ],
   "source": [
    "ex1=expand_derivatives(D_op1)\n",
    "ex2=expand_derivatives(D_op2)"
   ]
  },
  {
   "cell_type": "markdown",
   "id": "d3c6107e",
   "metadata": {},
   "source": [
    "<b>Substitute a numerical value into the above expression: </b>"
   ]
  },
  {
   "cell_type": "code",
   "execution_count": 24,
   "id": "bb367518",
   "metadata": {},
   "outputs": [
    {
     "data": {
      "text/latex": [
       "$$ \\begin{equation}\n",
       "3.0\n",
       "\\end{equation}\n",
       " $$"
      ],
      "text/plain": [
       "3.0"
      ]
     },
     "execution_count": 24,
     "metadata": {},
     "output_type": "execute_result"
    }
   ],
   "source": [
    "substitute(ex2,Dict(t=>1.5))"
   ]
  },
  {
   "cell_type": "code",
   "execution_count": null,
   "id": "5859658a",
   "metadata": {},
   "outputs": [],
   "source": []
  }
 ],
 "metadata": {
  "kernelspec": {
   "display_name": "Julia 1.10.7",
   "language": "julia",
   "name": "julia-1.10"
  },
  "language_info": {
   "file_extension": ".jl",
   "mimetype": "application/julia",
   "name": "julia",
   "version": "1.10.7"
  }
 },
 "nbformat": 4,
 "nbformat_minor": 5
}
