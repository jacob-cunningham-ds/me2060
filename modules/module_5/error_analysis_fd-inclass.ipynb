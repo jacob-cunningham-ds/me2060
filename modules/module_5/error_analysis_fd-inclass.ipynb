{
 "cells": [
  {
   "cell_type": "markdown",
   "id": "9df71d59-3bc9-4c16-b3fa-f9c07b199d1e",
   "metadata": {},
   "source": [
    "---\n",
    "title: Error Analysis for Numerical Differentiation Schemes\n",
    "venue: Modules\n",
    "---"
   ]
  },
  {
   "cell_type": "markdown",
   "id": "aedbb2d3",
   "metadata": {},
   "source": [
    "<b>Let $k_n= 2\\pi n, \\ n \\in \\mathbb{N}$. and the complex exponential $f(x)=\\exp(i k_n \\cdot x)=\\exp(i2 \\pi n \\cdot x)$ be a test function with wave number $k_n$.  Then its exact derivative is given by $f'(x) = i k_n \\exp(i2 \\pi n \\cdot x) = ik_n \\cdot f(x)$.</b>"
   ]
  },
  {
   "cell_type": "markdown",
   "id": "7c0a34a0",
   "metadata": {},
   "source": [
    "<b>Different types of numerical errors: </b> \n",
    "\n",
    "Let $f'_*(x)$ be a numerical approximation for the exact derivative $f'(x)$. Then the ratio $r=f'_*(x)/f'(x)=f'_*(x)/(ik_n\\cdot \\exp(ik_n x))$ is a <b>complex</b> number. For an <b> exact </b> numerical approximation, we must have $r=1$.\n",
    "\n",
    "Now assume that for any given numerical approximation, we have $r = d \\cdot e^{i \\theta} $, where $d,\\theta$ are the magnitude and phase of the complex number $r$. Then $d$ is responsible for the error in magnitude of the numerical approximation, and $\\theta$ is the phase error of the numerical scheme. For an exact scheme, we have $d=1, \\ \\theta=0$.\n",
    "\n"
   ]
  },
  {
   "cell_type": "markdown",
   "id": "500bc50d",
   "metadata": {},
   "source": [
    "<b>Example 1 (Forward Differencing) :</b> Let $h$ be the step size. Then \n",
    "\n",
    "\\begin{equation}\n",
    "f_*'(x)=\\frac{f(x+h)-f(x)}{h}=\\frac{1}{h}(\\exp(i k_n (x+h))-\\exp(i k_n x))=\\frac{1}{h}(\\exp(i k_n h)-1) \\cdot \\exp(i k_n x) = \\frac{1}{h}((\\cos(k_nh)-1)+ i \\sin(k_nh)) \\cdot f(x)\n",
    "\\end{equation}\n",
    "\n",
    "Thus, $r=\\frac{1}{i k_n h}((\\cos(k_nh)-1)+ i \\sin(k_nh)) = d e^{i\\theta}$, where $d= \\frac{1}{k_n h}\\sqrt{2-2\\cos(k_n h)}$, and $\\theta = \\cot^{-1}\\left(-\\frac{\\sin(k_nh)}{\\cos(k_nh) -1)}\\right)$.  It can be verified that for the numerical error, $d\\rightarrow 1, \\ \\theta \\rightarrow 0$ for small step size $h\\rightarrow 0$ at a fixed wave number $k_n$. Thus the forward FD scheme is consistently approximating the exact derivative."
   ]
  },
  {
   "cell_type": "code",
   "execution_count": null,
   "id": "9a6e2f29",
   "metadata": {
    "tags": []
   },
   "outputs": [],
   "source": [
    "using Plots, ApproxFun, LaTeXStrings\n",
    "\n",
    "#Generate wave numbers\n",
    "kn=LinRange(2pi,20pi,11)\n",
    "\n",
    "#Generate step sizes\n",
    "h=LinRange(0.01,0.4,100)\n",
    "\n",
    "\n",
    "#Calculate magnitude and phase of numerical error for FD at fixed k\n",
    "k0=2pi\n",
    "\n",
    "mag_n_fd1 = 1 ./(k0.*h) .*sqrt.(2 .- 2*cos.(k0.*h))\n",
    "theta_n_fd1 = acot.(-sin.(k0.*h) ./(cos.(k0.*h) .-1.0) )\n",
    "plot(h,mag_n_fd1,label=\"Magnitude  d (Exact=1)\")\n",
    "plot!(h,theta_n_fd1,label=L\"Phase $\\theta$ (Exact=0)\")\n",
    "title!(L\"Forward FD scheme at fixed phase $k_n=2\\pi$\")\n",
    "xlabel!(\"h\")\n",
    "ylabel!(L\"d,\\theta\")"
   ]
  },
  {
   "cell_type": "code",
   "execution_count": null,
   "id": "2bac2ac0",
   "metadata": {
    "tags": []
   },
   "outputs": [],
   "source": [
    "#Plot error as function of wave number k for fixed step size\n",
    "h0=0.05\n",
    "mag_n = 1 ./(kn.*h0) .*sqrt.(2 .- 2*cos.(kn.*h0))\n",
    "theta_n = acot.(-sin.(kn.*h0) ./(cos.(kn.*h0) .-1.0) )\n",
    "plot(kn,mag_n,label=\"Magnitude d (Exact=1)\")\n",
    "plot!(kn,theta_n,label=L\"Phase $\\theta$ (Exact=0)\")\n",
    "title!(\"Forward FD scheme at fixed stepsize h=0.05\")\n",
    "ylims!(0, 1)\n",
    "xlabel!(L\"k_n\")\n",
    "ylabel!(L\"d,\\theta\")"
   ]
  },
  {
   "cell_type": "code",
   "execution_count": null,
   "id": "e4d160ff-bd2a-45d2-83b3-884384db3ed3",
   "metadata": {
    "tags": []
   },
   "outputs": [],
   "source": [
    "#Plot error as function of wave number - stepsize product h*k_n \n",
    "\n",
    "hk=LinRange(0.001,2.5,100)\n",
    "\n",
    "mag_n_fd = 1 ./(k0.*h) .*sqrt.(2 .- 2*cos.(k0.*h))\n",
    "theta_n_fd = acot.(-sin.(k0.*h) ./(cos.(k0.*h) .-1.0) )\n",
    "plot(hk,mag_n_fd,label=\"Magnitude  d (Exact=1)\")\n",
    "plot!(hk,theta_n_fd,label=L\"Phase $\\theta$ (Exact=0)\")\n",
    "title!(L\"Forward FD scheme as a function of $h\\cdot k_n$\")\n",
    "xlabel!(L\"$hk_n$\")\n",
    "ylabel!(L\"d,\\theta\")\n",
    "ylims!(-0.1,1.4)\n",
    "xlims!(0.0,2.5)"
   ]
  },
  {
   "cell_type": "markdown",
   "id": "dede04ac",
   "metadata": {},
   "source": [
    "<b>Example 2 (2nd order Central Differencing) :</b> Let $h$ be the step size. Then for $f(x)=\\exp(i k_n \\cdot x)=\\exp(i2 \\pi n \\cdot x)$, the CD approximation $f_*'(x)$ is\n",
    "\n",
    "\\begin{equation}\n",
    "f_*'(x)=\\frac{f(x+h)-f(x-h)}{2h}=\\frac{1}{2h}(\\exp(i k_n (x+h))-\\exp(i k_n (x-h)))=\\frac{1}{2h}(\\exp(i k_n h)-\\exp(-i k_n h)) \\cdot \\exp(i k_n x) = \\frac{1}{h}i\\sin(k_nh) \\cdot f(x)\n",
    "\\end{equation}\n",
    "\n",
    "Thus, $r=\\frac{1}{i k_n h}( i \\sin(k_nh)) = d e^{i\\theta}$, where $d= \\frac{1}{k_n h}\\sin(k_n h)$, and $\\theta =0 $.   It can be verified that for the numerical error, $d\\rightarrow 1$ for small step size $h\\rightarrow 0$, at a fixed wave number $k_n$. Thus the CD scheme is consistently approximating the exact derivative."
   ]
  },
  {
   "cell_type": "code",
   "execution_count": null,
   "id": "96d2e3ad",
   "metadata": {
    "tags": []
   },
   "outputs": [],
   "source": [
    "#Evaluate CD derivative at x=1.0\n",
    "x0=1.0\n",
    "CD_diff(h,k) = (exp.(im*k*(x0 +h)) .- exp.(im*(k*(x0 -h)))) ./(2 .*h)\n",
    "\n"
   ]
  },
  {
   "cell_type": "code",
   "execution_count": null,
   "id": "4fb244b0",
   "metadata": {
    "tags": []
   },
   "outputs": [],
   "source": [
    "#Calculate numerical error directly from the ratio between approximation and exact value at x=1.0\n",
    "\n",
    "ratio =CD_diff.(h,k0)./(im*k0*exp.(im*k0) ) #complex ratio \n",
    "k0=2pi\n",
    "\n",
    "\n",
    "mag_n_cd = abs.(ratio) #error amplification is magnitude of complex ratio\n",
    "#Caution: If the polar angle is larger than Pi/2, then the amplification is negative!\n",
    "\n",
    "theta_n_cd = abs.(angle.(ratio))     # phase error is polar angle of complex ratio, modulo Pi since exp(i*Pi)=-1\n",
    "plot(k0*h,mag_n_cd,m=:o,ms=3,l=:dash,label=\"Magnitude d by evaluation\")\n",
    "plot!(k0*h,sin.(k0*h)./(k0*h),lw=2,label=\"Magnitude d by formula\")\n",
    "plot!(k0*h,ones(length(h)),lw=2,label=\"Exact magnitude d \")\n",
    "#plot!(k0*h,theta_n_cd,label=\"Phase error\")\n",
    "title!(L\"CD scheme as a function of $h\\cdot k_n$\")\n",
    "xlabel!(L\"$hk_n$\")\n",
    "ylabel!(L\"d,\\theta\")\n",
    "ylims!(-0.1,1.4)"
   ]
  },
  {
   "cell_type": "markdown",
   "id": "2da606e4",
   "metadata": {},
   "source": [
    "<b> Example 3: </b> The  2nd order forward-differencing scheme is defined as  \n",
    "\\begin{equation}\n",
    "f'_*(x)=\\frac{-3f(x)+4f(x+h)-f(x+2h)}{2h}\n",
    "\\end{equation}\n",
    "\n"
   ]
  },
  {
   "cell_type": "code",
   "execution_count": null,
   "id": "1544d873",
   "metadata": {},
   "outputs": [],
   "source": [
    "#Evaluate 2nd order FD derivative at x=1.0\n",
    "x0=1.0\n",
    "FD2_diff(h,k) = ( -3*exp.(im*k*x0) .+ 4* exp.(im*k*(x0 +h)) -  exp.(im*k*(x0 +2*h)) ) ./(2 .*h)\n",
    "\n"
   ]
  },
  {
   "cell_type": "code",
   "execution_count": null,
   "id": "0eee6a23-ccc4-41ca-980d-f9b7fbb27474",
   "metadata": {
    "tags": []
   },
   "outputs": [],
   "source": [
    "#Calculate numerical error directly from the ratio between approximation and exact value at x=1.0\n",
    "#h=LinRange(0.01,1.0,100)\n",
    "k0=2*pi\n",
    "x0=1.0\n",
    "ratio_fd2 =FD2_diff.(h,k0)./(im*k0*x0*exp.(im*k0*x0) ) #complex ratio \n",
    "\n",
    "\n",
    "\n",
    "mag_n_fd2 = abs.(ratio_fd2) #error amplification is magnitude of complex ratio\n",
    "#Caution: If the polar angle is larger than Pi/2, then the amplification is negative!\n",
    "\n",
    "theta_n_fd2 = abs.(angle.(ratio_fd2))     # phase error is polar angle of complex ratio, modulo Pi since exp(i*Pi)=-1\n",
    "\n",
    "  \n",
    "\n",
    "\n",
    "plot(h*k0,mag_n_fd2,m=:o,ms=3,l=:dash,label=\"Magnitude d of 2nd order FD\")\n",
    "plot!(h*k0,ones(length(h)),lw=2,label=\"Exact magnitude d \")\n",
    "plot!(h*k0,zeros(length(h)),lw=2,label=\"Exact phase \")\n",
    "plot!(h*k0,theta_n_fd2,m=:o,ms=3, label=\"Phase error\")\n",
    "title!(L\"2nd order FD scheme as a function of $h\\cdot k_n$\")\n",
    "xlabel!(L\"$hk_n$\")\n",
    "ylabel!(L\"d,\\theta\")\n",
    "ylims!(-0.1,2.3)"
   ]
  },
  {
   "cell_type": "code",
   "execution_count": null,
   "id": "b9426bda-0bf0-418e-ae3a-9d6ae85cae51",
   "metadata": {},
   "outputs": [],
   "source": [
    "plot(h*k0,mag_n_fd2,m=:o,ms=3,l=:dash,label=\"Magnitude d of 2nd order FD\")\n",
    "plot!(h*k0,mag_n_fd1,m=:r,ms=3,l=:dash,label=\"Magnitude d of 1st order FD\")\n",
    "plot!(h*k0,mag_n_cd,m=:s,ms=3,l=:dash,label=\"Magnitude d of CD\")\n",
    "plot!(h*k0,ones(length(h)),lw=2,label=\"Exact magnitude d \", legend=:bottomleft)\n",
    "\n",
    "#plot!(h*k0,zeros(length(h)),lw=2,label=\"Exact phase \")\n",
    "#plot!(h*k0,theta_n_fd2,m=:o,ms=3, label=\"Phase error\")\n",
    "\n",
    "\n",
    "title!(\"Comparison of different schemes: Magnitude\")\n",
    "xlabel!(L\"$hk_n$\")\n",
    "ylabel!(L\"d,\\theta\")"
   ]
  },
  {
   "cell_type": "code",
   "execution_count": null,
   "id": "54d2311f-57c2-40fb-bbc1-531ff351d079",
   "metadata": {
    "tags": []
   },
   "outputs": [],
   "source": [
    "plot(h*k0,theta_n_fd2,m=:o,ms=3,l=:dash,label=L\"Phase $\\theta$ of 2nd order FD\")\n",
    "plot!(h*k0,theta_n_fd1,m=:r,ms=3,l=:dash,label=L\"Phase $\\theta$ d of 1st order FD\")\n",
    "plot!(h*k0,theta_n_cd,m=:s,ms=3,l=:dash,label=L\"Phase $\\theta$ of CD\")\n",
    "plot!(h*k0,zeros(length(h)),lw=2,label=\"Exact phase \")\n",
    "\n",
    "#plot!(h*k0,zeros(length(h)),lw=2,label=\"Exact phase \")\n",
    "#plot!(h*k0,theta_n_fd2,m=:o,ms=3, label=\"Phase error\")\n",
    "\n",
    "\n",
    "title!(\"Comparison of different schemes: Phase\")\n",
    "xlabel!(L\"$hk_n$\")\n",
    "ylabel!(L\"d,\\theta\")"
   ]
  },
  {
   "cell_type": "markdown",
   "id": "db90abab-cc1b-4d7c-af41-c8ca1706a996",
   "metadata": {},
   "source": [
    "# In-class Assignments"
   ]
  },
  {
   "cell_type": "markdown",
   "id": "7000373d-424c-4d62-9fc1-92607bb46f27",
   "metadata": {},
   "source": [
    "The  4th order central-differencing scheme is defined as  \n",
    "\\begin{equation}\n",
    "f'_*(x)=\\frac{f(x-2h)-8f(x-h)+8f(x+h)-f(x+2h)}{12h}\n",
    "\\end{equation}\n",
    "\n",
    "For the same step sizes and wave numbers as above, plot the error amplification and phase errors of the scheme as a function of $hk_n$ at $x=1.0$. Show your results in the same plot with the 2nd order central differencing scheme and 2nd order forward differencing scheme. How do these schemes compare with each other?"
   ]
  },
  {
   "cell_type": "code",
   "execution_count": null,
   "id": "116b202c-f005-4755-b16a-181689fed743",
   "metadata": {},
   "outputs": [],
   "source": []
  }
 ],
 "metadata": {
  "kernelspec": {
   "display_name": "Julia 1.10.7",
   "language": "julia",
   "name": "julia-1.10"
  },
  "language_info": {
   "file_extension": ".jl",
   "mimetype": "application/julia",
   "name": "julia",
   "version": "1.10.7"
  }
 },
 "nbformat": 4,
 "nbformat_minor": 5
}
