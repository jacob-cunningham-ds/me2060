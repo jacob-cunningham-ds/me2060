{
 "cells": [
  {
   "cell_type": "markdown",
   "id": "dd73a83b",
   "metadata": {},
   "source": [
    "---\n",
    "title: Error Analysis\n",
    "venue: Modules\n",
    "---"
   ]
  },
  {
   "cell_type": "markdown",
   "id": "aedbb2d3",
   "metadata": {},
   "source": [
    "<b>Let $k_n= 2\\pi n, \\ n \\in \\mathbb{N}$. and the complex exponential $f(x)=\\exp(i k_n \\cdot x)=\\exp(i2 \\pi n \\cdot x)$ be a test function with wave number $k_n$.  Then its exact derivative is given by $f'(x) = i k_n \\exp(i2 \\pi n \\cdot x) = ik_n \\cdot f(x)$.</b>"
   ]
  },
  {
   "cell_type": "markdown",
   "id": "7c0a34a0",
   "metadata": {},
   "source": [
    "<b>Different types of numerical errors: </b> \n",
    "\n",
    "Let $f'_*(x)$ be a numerical approximation for the exact derivative $f'(x)$. Then the ratio $r=f'_*(x)/f'(x)=f'_*(x)/(ik_n\\cdot \\exp(ik_n x))$ is a <b>complex</b> number. For an <b> exact </b> numerical approximation, we must have $r=1$.\n",
    "\n",
    "Now assume that for any given numerical approximation, we have $r = d \\cdot e^{i \\theta} $, where $d,\\theta$ are the magnitude and phase of the complex number $r$. Then $d$ is responsible for the error in magnitude of the numerical approximation, and $\\theta$ is the phase error of the numerical scheme. For an exact scheme, we have $d=1, \\ \\theta=0$.\n",
    "\n"
   ]
  },
  {
   "cell_type": "markdown",
   "id": "500bc50d",
   "metadata": {},
   "source": [
    "<b>Example 1 (Forward Differencing) :</b> Let $h$ be the step size. Then \n",
    "\n",
    "\\begin{equation}\n",
    "f_*'(x)=\\frac{f(x+h)-f(x)}{h}=\\frac{1}{h}(\\exp(i k_n (x+h))-\\exp(i k_n x))=\\frac{1}{h}(\\exp(i k_n h)-1) \\cdot \\exp(i k_n x) = \\frac{1}{h}((\\cos(k_nh)-1)+ i \\sin(k_nh)) \\cdot f(x)\n",
    "\\end{equation}\n",
    "\n",
    "Thus, $r=\\frac{1}{i k_n h}((\\cos(k_nh)-1)+ i \\sin(k_nh)) = d e^{i\\theta}$, where $d= \\frac{1}{k_n h}\\sqrt{2-2\\cos(k_n h)}$, and $\\theta = \\cot^{-1}\\left(-\\frac{\\sin(k_nh)}{\\cos(k_nh) -1)}\\right)$.  It can be verified that for the numerical error, $d\\rightarrow 1, \\ \\theta \\rightarrow 0$ for small step size $h\\rightarrow 0$ at a fixed wave number $k_n$. Thus the forward FD scheme is consistently approximating the exact derivative."
   ]
  },
  {
   "cell_type": "code",
   "execution_count": null,
   "id": "9a6e2f29",
   "metadata": {},
   "outputs": [],
   "source": [
    "using Plots, ApproxFun, LaTeXStrings\n",
    "\n",
    "#Generate wave numbers\n",
    "kn=LinRange(2pi,20pi,11)\n",
    "\n",
    "#Generate step sizes\n",
    "h=LinRange(0.01,0.4,100)\n",
    "\n",
    "\n",
    "#Calculate magnitude and phase of numerical error for FD at fixed k\n",
    "k0=2pi\n",
    "\n",
    "mag_n = 1 ./(k0.*h) .*sqrt.(2 .- 2*cos.(k0.*h))\n",
    "theta_n = acot.(-sin.(k0.*h) ./(cos.(k0.*h) .-1.0) )\n",
    "plot(h,mag_n,label=\"Magnitude  d (Exact=1)\")\n",
    "plot!(h,theta_n,label=L\"Phase $\\theta$ (Exact=0)\")\n",
    "title!(L\"Errors of the forward FD scheme at $k=2\\pi$\")\n",
    "xlabel!(\"h\")\n",
    "ylabel!(L\"d,\\theta\")"
   ]
  },
  {
   "cell_type": "code",
   "execution_count": null,
   "id": "2bac2ac0",
   "metadata": {},
   "outputs": [],
   "source": [
    "#Plot error as function of wave number k for fixed step size\n",
    "h0=0.05\n",
    "mag_n = 1 ./(kn.*h0) .*sqrt.(2 .- 2*cos.(kn.*h0))\n",
    "theta_n = acot.(-sin.(kn.*h0) ./(cos.(kn.*h0) .-1.0) )\n",
    "plot(kn,mag_n,label=\"Magnitude d (Exact=1)\")\n",
    "plot!(kn,theta_n,label=L\"Phase $\\theta$ (Exact=0)\")\n",
    "title!(\"Errors of the forward FD scheme at h=0.05\")\n",
    "ylims!(0, 1)\n",
    "xlabel!(L\"k_n\")\n",
    "ylabel!(L\"d,\\theta\")"
   ]
  },
  {
   "cell_type": "markdown",
   "id": "dede04ac",
   "metadata": {},
   "source": [
    "<b>Example 2 (2nd order Central Differencing) :</b> Let $h$ be the step size. Then \n",
    "\n",
    "\\begin{equation}\n",
    "f_*'(x)=\\frac{f(x+h)-f(x-h)}{2h}=\\frac{1}{2h}(\\exp(i k_n (x+h))-\\exp(i k_n (x-h)))=\\frac{1}{2h}(\\exp(i k_n h)-\\exp(-i k_n h)) \\cdot \\exp(i k_n x) = \\frac{1}{h}i\\sin(k_nh) \\cdot f(x)\n",
    "\\end{equation}\n",
    "\n",
    "Thus, $r=\\frac{1}{i k_n h}( i \\sin(k_nh)) = d e^{i\\theta}$, where $d= \\frac{1}{k_n h}\\sin(k_n h)$, and $\\theta \\in \\{ 0, \\pi\\} $.   It can be verified that for the numerical error, $d\\rightarrow 1$ for small step size $h\\rightarrow 0, \\ \\theta\\rightarrow 0$ at a fixed wave number $k_n$. Thus the CD scheme is consistently approximating the exact derivative."
   ]
  },
  {
   "cell_type": "code",
   "execution_count": null,
   "id": "96d2e3ad",
   "metadata": {},
   "outputs": [],
   "source": [
    "#Evaluate CD derivative at x=1.0\n",
    "x0=1.0\n",
    "CD_diff(h,k) = (exp.(im*k*(x0 +h)) .- exp.(im*(k*(x0 -h)))) ./(2 .*h)\n",
    "\n"
   ]
  },
  {
   "cell_type": "code",
   "execution_count": null,
   "id": "4fb244b0",
   "metadata": {},
   "outputs": [],
   "source": [
    "#Calculate numerical error directly from the ratio between approximation and exact value at x=1.0\n",
    "\n",
    "ratio =CD_diff.(h,k0)./(im*k0*exp.(im*k0) ) #complex ratio \n",
    "PI=3.14159265\n",
    "\n",
    "\n",
    "mag_n = abs.(ratio) #error amplification is magnitude of complex ratio\n",
    "#Caution: If the polar angle is larger than Pi/2, then the amplification is negative!\n",
    "\n",
    "theta_n = abs.(angle.(ratio))     # phase error is polar angle of complex ratio, modulo Pi since exp(i*Pi)=-1\n",
    "plot(k0*h,mag_n,m=:o,ms=3,l=:dash,label=\"Magnitude d by evaluation\")\n",
    "plot!(k0*h,sin.(k0*h)./(k0*h),lw=2,label=\"Magnitude d by formula\")\n",
    "plot!(k0*h,ones(length(h)),lw=2,label=\"Exact magnitude d \")\n",
    "plot!(k0*h,theta_n,label=\"Phase error\")\n",
    "title!(\"Numerical errors of the CD scheme\")\n",
    "xlabel!(L\"$hk_n$\")\n",
    "ylabel!(L\"d,\\theta\")\n",
    "ylims!(-0.1,1.4)"
   ]
  },
  {
   "cell_type": "markdown",
   "id": "7114bfff",
   "metadata": {},
   "source": [
    "# In-class Assignments"
   ]
  },
  {
   "cell_type": "markdown",
   "id": "2da606e4",
   "metadata": {},
   "source": [
    "<b> Assignment 1: </b> The  2nd order forward-differencing scheme is defined as  \n",
    "\\begin{equation}\n",
    "f'_*(x)=\\frac{-3f(x)+4f(x+h)-f(x+2h)}{2h}\n",
    "\\end{equation}\n",
    "\n",
    "For the same step sizes and wave numbers as above, plot the error amplification and phase errors of the scheme as a function of $hk_n$ at $x=1.0$. Show your results in the same plot with the 2nd order central differencing scheme."
   ]
  },
  {
   "cell_type": "markdown",
   "id": "b404c4e3",
   "metadata": {},
   "source": [
    "<b> Assignment 2: </b> The  4th order central-differencing scheme is defined as  \n",
    "\\begin{equation}\n",
    "f'_*(x)=\\frac{f(x-2h)-8f(x-h)+8f(x+h)-f(x+2h)}{12h}\n",
    "\\end{equation}\n",
    "\n",
    "For the same step sizes and wave numbers as above, plot the error amplification and phase errors of the scheme as a function of $hk_n$ at $x=1.0$. Show your results in the same plot with the 2nd order central differencing scheme and 2nd order forward differencing scheme."
   ]
  },
  {
   "cell_type": "markdown",
   "id": "780728f1",
   "metadata": {},
   "source": [
    "<b> Assignment 3: </b> Use $N=2,3,4,\\dots,18$ Chebyshev nodes to approximate the function $f(x)=e^{ik_0x}, k_0=2\\pi$ on  the interval $[-1,1]$ with the Chebyshev polynomial basis. Then evaluate the derivative with the help of your Chebyshev approximation at $x=1.0$.  You can use the ApproxFun package. \n",
    "\n",
    "Plot the error amplification and phase errors of the Chebyshev approximation of the derivative as a function of the number of Chebyshev nodes $N$."
   ]
  },
  {
   "cell_type": "code",
   "execution_count": null,
   "id": "4c527635",
   "metadata": {},
   "outputs": [],
   "source": [
    "using ApproxFun \n",
    "\n",
    "k0=2pi\n",
    "x0=1.0\n",
    "func(x)=exp(im*k0*x)\n",
    "\n",
    "\n",
    "\n",
    "unit=Interval(-1,1);# define unit interval\n",
    "ChebS=Chebyshev(unit); # define function space\n",
    "D=Derivative(ChebS); # Define derivative operator\n",
    "\n",
    "\n",
    "n=15\n",
    "\n",
    "p= points(ChebS,n); # Define N Chebyshev points\n",
    "\n",
    "#Evaluate function on different Chebyshev grid points\n",
    "v=func.(p);\n",
    "\n",
    "\n",
    "#Approximate via Chebyshev polynomials with order N\n",
    "approx_fun_N = Fun(ChebS,transform(ChebS,v));\n",
    "approx_derivative_N=D*approx_fun_N;\n",
    "    \n",
    "approx_value = approx_derivative_N(x0)\n",
    "println(approx_value)"
   ]
  },
  {
   "cell_type": "code",
   "execution_count": null,
   "id": "1544d873",
   "metadata": {},
   "outputs": [],
   "source": []
  }
 ],
 "metadata": {
  "kernelspec": {
   "display_name": "Julia 1.10.7",
   "language": "julia",
   "name": "julia-1.10"
  },
  "language_info": {
   "file_extension": ".jl",
   "mimetype": "application/julia",
   "name": "julia",
   "version": "1.10.7"
  }
 },
 "nbformat": 4,
 "nbformat_minor": 5
}
