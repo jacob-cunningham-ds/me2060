{
 "cells": [
  {
   "cell_type": "markdown",
   "id": "441136d0-cab2-435b-a914-ae18bde437db",
   "metadata": {},
   "source": [
    "---\n",
    "title: Comparing Different FDMs\n",
    "subtitle: \"ME 2060: Numerical Methods\"\n",
    "date: 2025-03-01\n",
    "venue: Self-Study\n",
    "author:\n",
    "  - name: Jacob Cunningham\n",
    "    email: jjc132@pitt.edu\n",
    "    github: jacob-cunningham-ds\n",
    "exports:\n",
    "  - format: pdf\n",
    "    template: arxiv_nips\n",
    "    link: https://jacob-cunningham-ds.github.io/me2060/hw1-code-cunningham\n",
    "    output: ../assets/comparing_different_fdms.pdf\n",
    "downloads:\n",
    "  - file: ../assets/comparing_different_fdms.pdf\n",
    "    title: comparing_different_fdms.pdf\n",
    "  - file: comparing_different_fdms.ipynb\n",
    "    title: comparing_different_fdms.ipynb\n",
    "abstract: |\n",
    "  Abstract goes here.\n",
    "site:\n",
    "  outline_maxdepth: 2\n",
    "abbreviations:\n",
    "  FDM: Finite Difference Method\n",
    "  ODE: Ordinary Differential Equation\n",
    "  PDE: Partial Differential Equation\n",
    "---"
   ]
  },
  {
   "cell_type": "markdown",
   "id": "11fca416-e7d1-4428-b044-2ec8962bb13f",
   "metadata": {},
   "source": [
    "## What are Finite-Difference Methods?"
   ]
  },
  {
   "cell_type": "markdown",
   "id": "291b250e-3d02-44b6-9ba0-9d142223a854",
   "metadata": {},
   "source": [
    "[Finite Difference Methods](wiki:Finite_difference_method) are a class of numerical techniques used to solve differential equations by approximating derivatives with finite differences. Both the spatial domain and the time domain (if applicable) are discretized (i.e., broken into a finite number of intervals) and the values of the solution at the end points of the intervals are approximated by solving algebraic equations containing finite differences and values from nearby points.\n",
    "\n",
    "ODEs and PDEs, which may be nonlinear, are converted to a system of linear equations that can be solved by matrix algebra techniques. FDMs are one of the most common approaches to the numerical solution of PDEs, along with [Finite Element Methods](wiki:Finite_element_method)."
   ]
  },
  {
   "cell_type": "markdown",
   "id": "1950c01a-403c-4cb3-bfb9-1b8587da9333",
   "metadata": {},
   "source": [
    "### Aspects and Attributes of FDMs"
   ]
  },
  {
   "cell_type": "markdown",
   "id": "e29c227c-4165-4bde-8182-12b375d94ae7",
   "metadata": {},
   "source": [
    "#### Truncation Error\n",
    "\n",
    "Truncation error arise from approximating a mathematical procedure by truncating an infinite series (usually a Taylor series) to a finite number of terms.\n",
    "\n"
   ]
  },
  {
   "cell_type": "code",
   "execution_count": null,
   "id": "c5b3a832-43c8-4bb3-a79e-9c093e72323e",
   "metadata": {},
   "outputs": [],
   "source": []
  }
 ],
 "metadata": {
  "kernelspec": {
   "display_name": "Julia 1.10.8",
   "language": "julia",
   "name": "julia-1.10"
  },
  "language_info": {
   "file_extension": ".jl",
   "mimetype": "application/julia",
   "name": "julia",
   "version": "1.10.8"
  }
 },
 "nbformat": 4,
 "nbformat_minor": 5
}
