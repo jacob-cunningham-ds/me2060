{
 "cells": [
  {
   "cell_type": "markdown",
   "id": "f7d6288e-01a4-4a94-870b-e5690b2148aa",
   "metadata": {},
   "source": [
    "---\n",
    "title: Homework 1\n",
    "subtitle: \"ME 2060: Numerical Methods\"\n",
    "date: 2025-01-20\n",
    "venue: Homeworks\n",
    "exports:\n",
    "  - format: pdf\n",
    "    template: arxiv_nips\n",
    "    link: https://www.google.com\n",
    "    output: ../assets/hw1_cunningham.pdf\n",
    "downloads:\n",
    "  - file: ../assets/ME_2060_HW_1.pdf\n",
    "    title: ME_2060_HW_1.pdf\n",
    "  - file: ../assets/hw1_cunningham.pdf\n",
    "    title: hw1_cunningham.pdf\n",
    "  - file: hw1_code_cunningham.ipynb\n",
    "    title: hw1_code_cunningham.ipynb\n",
    "abstract: |\n",
    "  Homework discussion, calculations, and answers are provided herein.\n",
    "---"
   ]
  },
  {
   "cell_type": "markdown",
   "id": "9a01ae1b-9f20-4683-b2ff-4f297e512b4d",
   "metadata": {},
   "source": [
    "## Effects of roundoff and truncation errors on numerical accuracy"
   ]
  },
  {
   "cell_type": "markdown",
   "id": "307ac34d-1058-4ab7-a27b-b8bda0417c42",
   "metadata": {},
   "source": [
    "The one-sided finite difference scheme to approximate the first derivative of a function $f$ is defined as:\n",
    "\n",
    "$$\n",
    "\\label{equ-osfd}\n",
    "\\begin{equation}\n",
    "  f_{h}(x) = \\frac{f(x + h) - f(x)}{h} \\approx f'(x),\n",
    "\\end{equation}\n",
    "$$\n",
    "\n",
    "where $h$ is the step size if no roundoff error exists, then the accuracy of the scheme is dermined soley by **truncation error**\n",
    "\n",
    "$$\n",
    "\\label{equ-truncation-error}\n",
    "\\begin{equation}\n",
    "  t_{e}(h) = | f'(x) - f_{h}(x) | = \\mathscr{O}(h),\n",
    "  \\quad\n",
    "  f'(x) = f_{h}(x) + \\mathscr{O}(h),\n",
    "\\end{equation}\n",
    "$$\n",
    "\n",
    "where the big $\\mathscr{O}$ - notation means there exists a constant $K$ such that $\\mathscr{O} < K \\cdot h$ for all $h$. In the presence of roundoff errors, $x$ cannot be represented exactly; instead, it is represented by the rounded value $\\tilde{x}$ with the associated roundoff error $r = |\\tilde{x} - x |$."
   ]
  },
  {
   "cell_type": "markdown",
   "id": "8c478cf7-ea45-4db5-af7e-e6a96f062eb2",
   "metadata": {},
   "source": [
    "### Part A"
   ]
  },
  {
   "cell_type": "markdown",
   "id": "4fc2efc0-f837-4602-9be0-d08e9bf62fc4",
   "metadata": {},
   "source": [
    "Show that the total error of the finite-difference approximation consists of both truncation error $t_{e}(h)$ due to the finite-difference scheme and the roundoff error $r$:\n",
    "\n",
    "$$\n",
    "\\begin{equation}\n",
    "  \\epsilon (h) := |f'(x) - f_{h}(\\tilde{x})| = \\mathscr{O}(h) + \\frac{r}{h}\n",
    "\\end{equation}\n",
    "$$\n",
    "\n",
    "**Hint**: Start from $f'(x) = f_{h}(x) + \\mathscr{O}(h)$, and consider that the computation of the finite difference $f_{h}(x)$ approximation already involves roundoff errors, e.g., $f(x) = \\tilde{f}(x) + r$, $f(x + h) = \\tilde{f}(x) + h + r$."
   ]
  },
  {
   "cell_type": "markdown",
   "id": "896eb54f-3a85-4a5a-b5fc-f3e6618149cb",
   "metadata": {},
   "source": [
    ":::{important} Answer 1A\n",
    "Answer goes here.\n",
    ":::"
   ]
  },
  {
   "cell_type": "markdown",
   "id": "7a4491fc-bc30-4330-b7bc-1cbf91339af1",
   "metadata": {},
   "source": [
    "### Part B"
   ]
  },
  {
   "cell_type": "markdown",
   "id": "399e73ca-b06f-40f8-bfb3-3d24a6d11307",
   "metadata": {},
   "source": [
    "From Part A, what can you say about the numerical accuracy of the finite difference scheme as the step size $h$ is continually decreased?"
   ]
  },
  {
   "cell_type": "markdown",
   "id": "d426697d-d1b5-46f5-82ce-55ed751da426",
   "metadata": {},
   "source": [
    ":::{important} Answer 1B\n",
    "Answer goes here.\n",
    ":::"
   ]
  },
  {
   "cell_type": "markdown",
   "id": "c68f7909-3698-4132-b7a3-9214ff28d40e",
   "metadata": {},
   "source": [
    "### Part C"
   ]
  },
  {
   "cell_type": "markdown",
   "id": "29a68d95-7488-4718-825f-7a81023b4002",
   "metadata": {},
   "source": [
    "The second order central difference approximation is defined as\n",
    "\n",
    "$$\n",
    "\\begin{equation}\n",
    "  f_{h}^{c}(x) = \\frac{f(x + h - f(x - h))}{2h} \\approx f'(x)\n",
    "\\end{equation}\n",
    "$$\n",
    "\n",
    "and has a truncation error of $t_{e}(h) = |f'(x) - f_{h}^{c}(x) | = \\mathscr{O}(h^2)$.\n",
    "\n",
    "Within the notebook `Week2_FD_students.ipynb` available on Canvas Module 1, add a function to evaluate the finite difference approximation $f_{h}^{c}$ for the derivative of $f(x) = \\sin (x)$ with step size $h$ at a fixed $x = x_0 = 1$. For the same array $h$ of step sizes as in the notebook, calculate the array consisting of errors between the finite difference approximation $f_{h}^{c}$ and the exact dervative $f'$. Plot the approximation error for the central differences scheme as a function of step size $h$. Display your plot in log format in addition tot he previous plot for forward differences."
   ]
  },
  {
   "cell_type": "markdown",
   "id": "555f31f7-69e5-40d1-b462-6395c580bc9d",
   "metadata": {},
   "source": [
    ":::{important} Answer 1C\n",
    "Answer goes here.\n",
    ":::"
   ]
  },
  {
   "cell_type": "markdown",
   "id": "d767e7b1-2f8e-44ff-94c5-b27ba48b9742",
   "metadata": {},
   "source": [
    "### Part D"
   ]
  },
  {
   "cell_type": "markdown",
   "id": "36adefdb-21e4-4793-b00a-eab002e8ffae",
   "metadata": {},
   "source": [
    "Now repeat the same above steps for the function $g(x) = \\sin (100x)$ and its derivative $g'(x)$. Add your plots for the forward difference and central difference numerical errors to the same plot. Make sure to use a different linestyle, and specify your legend entries. Looking at your plot, what can you say about the accuracy of each method to approximate the derivative for $\\sin (x)$ and $\\sin (100x)$ at $x_{0} = 1$? Can you explain why?"
   ]
  },
  {
   "cell_type": "markdown",
   "id": "b9a178bd-60c4-4017-b4ad-3c6aa425536f",
   "metadata": {},
   "source": [
    ":::{important} Answer 1D\n",
    "Answer goes here.\n",
    ":::"
   ]
  },
  {
   "cell_type": "markdown",
   "id": "05778ef4-0e51-4d4b-a0e9-1a2ab1b64e34",
   "metadata": {},
   "source": [
    "## Errors in Scientific Computing"
   ]
  },
  {
   "cell_type": "markdown",
   "id": "46950c33-21ca-4df8-97cc-df72e390a7c7",
   "metadata": {},
   "source": [
    "The sine function is given by the infinite series\n",
    "\n",
    "$$\n",
    "\\begin{equation}\n",
    "  \\sin x = x - \\frac{x^3}{3!} + \\frac{x^5}{5!} -\\frac{x^7}{7!} + \\cdots\n",
    "\\end{equation}\n",
    "$$"
   ]
  },
  {
   "cell_type": "markdown",
   "id": "96a15c42-0daf-49a6-85f9-b257495d3e50",
   "metadata": {},
   "source": [
    "### Part A"
   ]
  },
  {
   "cell_type": "markdown",
   "id": "d4450402-8e00-45bc-aa40-339ccd1e6d50",
   "metadata": {},
   "source": [
    "Calculate the forward and backward errors if we approximate the sine function by using only the first term in the series for $x = 0.1, \\; 0.5, \\; 1.0$."
   ]
  },
  {
   "cell_type": "markdown",
   "id": "d29a304e-8a3d-45ab-873c-58adcf97ac58",
   "metadata": {},
   "source": [
    ":::{important} Answer 2A\n",
    "Answer goes here.\n",
    ":::"
   ]
  },
  {
   "cell_type": "markdown",
   "id": "e8d97f6b-8806-43af-b348-2fbc8b77effd",
   "metadata": {},
   "source": [
    "### Part B"
   ]
  },
  {
   "cell_type": "markdown",
   "id": "a3ab8942-3443-43aa-8cf4-dc5d1e015ecb",
   "metadata": {},
   "source": [
    "Calculate the forward and backward errors if we approximate the sine function by using only the first two terms in the series for $x = 0.1, \\; 0.5, \\; 1.0$."
   ]
  },
  {
   "cell_type": "markdown",
   "id": "6d818140-1f2d-46ec-a52c-4005b8e22a82",
   "metadata": {},
   "source": [
    ":::{important} Answer 2B\n",
    "Answer goes here.\n",
    ":::"
   ]
  },
  {
   "cell_type": "markdown",
   "id": "5d6e34f6-ea41-4dac-a820-82d59e7249cd",
   "metadata": {},
   "source": [
    "## Condition Number & Stability"
   ]
  },
  {
   "cell_type": "markdown",
   "id": "a44592d4-5a30-4824-88fb-505debff2923",
   "metadata": {},
   "source": [
    "This is Exercise 1 from Section 1.4, page 26 of @driscoll. Exercises are also available at the end of each section of a chapter in the online textbook. Refer to your textbook for cross-referenced equations and tables.\n",
    "\n",
    "Consider the formulas\n",
    "\n",
    "$$\n",
    "\\begin{equation}\n",
    "  f(x) = \\frac{1 - \\cos x}{\\sin x},\n",
    "  \\quad\n",
    "  g(x) = \\frac{2 \\sin^2 x/2}{\\sin x},\n",
    "\\end{equation}\n",
    "$$\n",
    "\n",
    "which are mathematically equivalent, but they suggest evaluation alrogirthms that can behave quite differently in floating point arithmetic."
   ]
  },
  {
   "cell_type": "markdown",
   "id": "9c0bc9f9-0f89-4958-8264-6c423f2f8adf",
   "metadata": {},
   "source": [
    "### Part A"
   ]
  },
  {
   "cell_type": "markdown",
   "id": "f97d889a-6b26-4f71-bd75-8b8e7ceac393",
   "metadata": {},
   "source": [
    "Using (1.2.6), find the relative condition number of $f$. Note that because $f$ & $g$ are mathematically equivalent, their condition numbers are the same. Show that the condition number approaches to $1$ as $x \\to 0$, which means it is possible to compute the function accurately near zero."
   ]
  },
  {
   "cell_type": "markdown",
   "id": "aa4b2adb-7e78-410e-b841-532469c14cb8",
   "metadata": {},
   "source": [
    ":::{important} Answer 3A\n",
    "Answer goes here.\n",
    ":::"
   ]
  },
  {
   "cell_type": "markdown",
   "id": "743c45ff-79e1-459e-bb02-36c1e5482514",
   "metadata": {},
   "source": [
    "### Part B"
   ]
  },
  {
   "cell_type": "markdown",
   "id": "753cc599-7243-4e76-849a-00cc5e3f9485",
   "metadata": {},
   "source": [
    "Compute $f(10^{-6})$ using a sequence of four elementary operations. Using Table 1.1 on page 13, make a table like the one shown in Demo 1.4.1 in the book that shows the result of each elementary result and the numerical value of the condition number of that step."
   ]
  },
  {
   "cell_type": "markdown",
   "id": "4e4a8d8e-d45c-4a94-8da1-b85145d3a069",
   "metadata": {},
   "source": [
    ":::{important} Answer 3B\n",
    "Answer goes here.\n",
    ":::"
   ]
  },
  {
   "cell_type": "markdown",
   "id": "0a5a5682-a6fe-4531-a40d-192ef65337fb",
   "metadata": {},
   "source": [
    "### Part C"
   ]
  },
  {
   "cell_type": "markdown",
   "id": "8b1f74f5-2a09-4d11-b34e-5268bf4116dc",
   "metadata": {},
   "source": [
    "Repeat Part B for $g(10^{-6})$, which has six elementary steps."
   ]
  },
  {
   "cell_type": "markdown",
   "id": "06f54c28-b715-443e-b9af-ffd98710fe51",
   "metadata": {},
   "source": [
    ":::{important} Answer 3C\n",
    "Answer goes here.\n",
    ":::"
   ]
  },
  {
   "cell_type": "markdown",
   "id": "d10a1b5d-3cfc-4de0-8c9b-9fc9f479845e",
   "metadata": {},
   "source": [
    "### Part D"
   ]
  },
  {
   "cell_type": "markdown",
   "id": "8b3a0154-2558-4f14-8529-452d78d8d227",
   "metadata": {},
   "source": [
    "Based on your answers to Part B & C, is $f(10^{-6})$ or $g(10^{-6})$ more accurate (provide your answer as Markdown text in your Jupyter notebook)?"
   ]
  },
  {
   "cell_type": "markdown",
   "id": "39630a02-f7f6-46e8-832c-db99ee3d35c8",
   "metadata": {},
   "source": [
    ":::{important} Answer 3D\n",
    "Answer goes here.\n",
    ":::"
   ]
  },
  {
   "cell_type": "markdown",
   "id": "91477fcc-8f14-4ef7-bb9f-2de68d16bede",
   "metadata": {},
   "source": [
    "## Floating Point Arithmetic"
   ]
  },
  {
   "cell_type": "markdown",
   "id": "f4cbcc5e-0140-49c3-84bb-68ce486f3859",
   "metadata": {},
   "source": [
    "Create an example calculation to demonstrate that floating point addition is not associative. Repeat the exercise for floating point multiplication."
   ]
  },
  {
   "cell_type": "markdown",
   "id": "a324c28e-6e42-4a4d-af79-51a66498f2e6",
   "metadata": {},
   "source": [
    ":::{important} Answer 4\n",
    "Answer goes here.\n",
    ":::"
   ]
  }
 ],
 "metadata": {
  "kernelspec": {
   "display_name": "Julia 1.10.7",
   "language": "julia",
   "name": "julia-1.10"
  },
  "language_info": {
   "file_extension": ".jl",
   "mimetype": "application/julia",
   "name": "julia",
   "version": "1.10.7"
  }
 },
 "nbformat": 4,
 "nbformat_minor": 5
}
